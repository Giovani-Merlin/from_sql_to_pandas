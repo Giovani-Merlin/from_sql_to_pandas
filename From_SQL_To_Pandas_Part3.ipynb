{
  "nbformat": 4,
  "nbformat_minor": 0,
  "metadata": {
    "colab": {
      "name": "From_SQL_To_Pandas_Part3.ipynb",
      "provenance": [],
      "collapsed_sections": [
        "pml1fkZ9DZUb",
        "7aE-7l6SDrpp",
        "GTwXvuIoDzk4",
        "Jw_tdHIz4ud9",
        "Vped6m24FWF9",
        "3Y-1-D02gbYH",
        "ftXxogFDrMNH",
        "m0MwOrb1V2TJ",
        "YjgxiJAWC4GE",
        "y48AlvVsvq8T",
        "Hdruol_YBbP1",
        "_nZYnXf1kdps",
        "NlbU6VLtw1vD",
        "7mjgB5Mc08Wo",
        "9LKE8gzfDdFR"
      ]
    },
    "kernelspec": {
      "name": "python3",
      "display_name": "Python 3"
    }
  },
  "cells": [
    {
      "cell_type": "markdown",
      "metadata": {
        "id": "pml1fkZ9DZUb",
        "colab_type": "text"
      },
      "source": [
        "### Download the Data\n",
        "http://files.grouplens.org/datasets/movielens/ml-latest-small.zip"
      ]
    },
    {
      "cell_type": "code",
      "metadata": {
        "id": "xAvK-MNqm4FT",
        "colab_type": "code",
        "outputId": "7c2d6282-9fda-4126-e100-488c36e74b11",
        "colab": {
          "base_uri": "https://localhost:8080/",
          "height": 0
        }
      },
      "source": [
        "!pip install wget"
      ],
      "execution_count": 1,
      "outputs": [
        {
          "output_type": "stream",
          "text": [
            "Collecting wget\n",
            "  Downloading https://files.pythonhosted.org/packages/47/6a/62e288da7bcda82b935ff0c6cfe542970f04e29c756b0e147251b2fb251f/wget-3.2.zip\n",
            "Building wheels for collected packages: wget\n",
            "  Building wheel for wget (setup.py) ... \u001b[?25l\u001b[?25hdone\n",
            "  Created wheel for wget: filename=wget-3.2-cp36-none-any.whl size=9681 sha256=6f3849127931ed0b728573e7a9fc0b45371d7cd5c2c89877243055f6655da8da\n",
            "  Stored in directory: /root/.cache/pip/wheels/40/15/30/7d8f7cea2902b4db79e3fea550d7d7b85ecb27ef992b618f3f\n",
            "Successfully built wget\n",
            "Installing collected packages: wget\n",
            "Successfully installed wget-3.2\n"
          ],
          "name": "stdout"
        }
      ]
    },
    {
      "cell_type": "code",
      "metadata": {
        "id": "ec7UyyUXnPPN",
        "colab_type": "code",
        "outputId": "d3a16783-813f-4ed9-9387-3f5b26335e64",
        "colab": {
          "base_uri": "https://localhost:8080/",
          "height": 0
        }
      },
      "source": [
        "import wget\n",
        "fn = wget.download('http://files.grouplens.org/datasets/movielens/ml-latest-small.zip')\n",
        "fn"
      ],
      "execution_count": 2,
      "outputs": [
        {
          "output_type": "execute_result",
          "data": {
            "text/plain": [
              "'ml-latest-small.zip'"
            ]
          },
          "metadata": {
            "tags": []
          },
          "execution_count": 2
        }
      ]
    },
    {
      "cell_type": "code",
      "metadata": {
        "id": "tZ7ubpYqnbaK",
        "colab_type": "code",
        "outputId": "c4c6d663-e84f-4537-b631-5f1229d5b07d",
        "colab": {
          "base_uri": "https://localhost:8080/",
          "height": 0
        }
      },
      "source": [
        "!unzip ml-latest*"
      ],
      "execution_count": 3,
      "outputs": [
        {
          "output_type": "stream",
          "text": [
            "Archive:  ml-latest-small.zip\n",
            "   creating: ml-latest-small/\n",
            "  inflating: ml-latest-small/links.csv  \n",
            "  inflating: ml-latest-small/tags.csv  \n",
            "  inflating: ml-latest-small/ratings.csv  \n",
            "  inflating: ml-latest-small/README.txt  \n",
            "  inflating: ml-latest-small/movies.csv  \n"
          ],
          "name": "stdout"
        }
      ]
    },
    {
      "cell_type": "markdown",
      "metadata": {
        "id": "7aE-7l6SDrpp",
        "colab_type": "text"
      },
      "source": [
        "### Basic Info About Data"
      ]
    },
    {
      "cell_type": "code",
      "metadata": {
        "id": "2QTto2Icnvzw",
        "colab_type": "code",
        "colab": {}
      },
      "source": [
        "PATH = 'ml-latest-small'"
      ],
      "execution_count": 0,
      "outputs": []
    },
    {
      "cell_type": "code",
      "metadata": {
        "id": "a0teWceFyOix",
        "colab_type": "code",
        "outputId": "aaa4ec89-8506-4346-d627-8c2f819b67b5",
        "colab": {
          "base_uri": "https://localhost:8080/",
          "height": 0
        }
      },
      "source": [
        "!find $PATH -name '*.csv' | xargs wc -l | sort -nr"
      ],
      "execution_count": 5,
      "outputs": [
        {
          "output_type": "stream",
          "text": [
            " 124007 total\n",
            " 100837 ml-latest-small/ratings.csv\n",
            "   9743 ml-latest-small/movies.csv\n",
            "   9743 ml-latest-small/links.csv\n",
            "   3684 ml-latest-small/tags.csv\n"
          ],
          "name": "stdout"
        }
      ]
    },
    {
      "cell_type": "code",
      "metadata": {
        "id": "XFRXqUcq2ua_",
        "colab_type": "code",
        "outputId": "e7764198-841a-417f-e157-22983e47dacf",
        "colab": {
          "base_uri": "https://localhost:8080/",
          "height": 0
        }
      },
      "source": [
        "# find which seperator is used to seperate the columns of each csv file\n",
        "!head -1 $PATH/*.csv\n"
      ],
      "execution_count": 6,
      "outputs": [
        {
          "output_type": "stream",
          "text": [
            "==> ml-latest-small/links.csv <==\n",
            "movieId,imdbId,tmdbId\r\n",
            "\n",
            "==> ml-latest-small/movies.csv <==\n",
            "movieId,title,genres\r\n",
            "\n",
            "==> ml-latest-small/ratings.csv <==\n",
            "userId,movieId,rating,timestamp\r\n",
            "\n",
            "==> ml-latest-small/tags.csv <==\n",
            "userId,movieId,tag,timestamp\r\n"
          ],
          "name": "stdout"
        }
      ]
    },
    {
      "cell_type": "markdown",
      "metadata": {
        "id": "u3lC7fwxDOZm",
        "colab_type": "text"
      },
      "source": [
        "> * We can see that all files are comma-seperated."
      ]
    },
    {
      "cell_type": "markdown",
      "metadata": {
        "id": "GTwXvuIoDzk4",
        "colab_type": "text"
      },
      "source": [
        "### Read the Dataset"
      ]
    },
    {
      "cell_type": "code",
      "metadata": {
        "id": "XVpz-pxyDVsH",
        "colab_type": "code",
        "colab": {}
      },
      "source": [
        "import pandas as pd\n",
        "import numpy as np\n",
        "import re\n",
        "import os\n",
        "\n",
        "from collections import defaultdict"
      ],
      "execution_count": 0,
      "outputs": []
    },
    {
      "cell_type": "code",
      "metadata": {
        "id": "3rKUOSSsSj1Y",
        "colab_type": "code",
        "colab": {}
      },
      "source": [
        "pd.set_option('display.width', 1000)\n",
        "pd.set_option('display.max_columns', 1000)\n",
        "pd.set_option('display.max_rows', 1000)\n",
        "pd.set_option('display.max_colwidth', 1000)"
      ],
      "execution_count": 0,
      "outputs": []
    },
    {
      "cell_type": "code",
      "metadata": {
        "id": "kX8JKrlBEA0v",
        "colab_type": "code",
        "colab": {}
      },
      "source": [
        "db = defaultdict(pd.DataFrame)\n",
        "\n",
        "for filename in os.listdir(PATH):\n",
        "    if filename.endswith('.csv'):\n",
        "        db[filename.split('.')[0]] = pd.read_csv(f\"{PATH}/{filename}\")\n",
        "        "
      ],
      "execution_count": 0,
      "outputs": []
    },
    {
      "cell_type": "code",
      "metadata": {
        "id": "TEvlY71HEN3W",
        "colab_type": "code",
        "outputId": "ecc3851a-7985-47d5-d77e-800ee9c02eb8",
        "colab": {
          "base_uri": "https://localhost:8080/",
          "height": 0
        }
      },
      "source": [
        "pd.DataFrame(db.items(), columns=['table_name', 'table_data'])"
      ],
      "execution_count": 10,
      "outputs": [
        {
          "output_type": "execute_result",
          "data": {
            "text/html": [
              "<div>\n",
              "<style scoped>\n",
              "    .dataframe tbody tr th:only-of-type {\n",
              "        vertical-align: middle;\n",
              "    }\n",
              "\n",
              "    .dataframe tbody tr th {\n",
              "        vertical-align: top;\n",
              "    }\n",
              "\n",
              "    .dataframe thead th {\n",
              "        text-align: right;\n",
              "    }\n",
              "</style>\n",
              "<table border=\"1\" class=\"dataframe\">\n",
              "  <thead>\n",
              "    <tr style=\"text-align: right;\">\n",
              "      <th></th>\n",
              "      <th>table_name</th>\n",
              "      <th>table_data</th>\n",
              "    </tr>\n",
              "  </thead>\n",
              "  <tbody>\n",
              "    <tr>\n",
              "      <th>0</th>\n",
              "      <td>tags</td>\n",
              "      <td>userId  movieId               tag   timestamp\n",
              "0          2    60756             funny  1445714994\n",
              "1          2    60756   Highly quotable  1445714996\n",
              "2          2    60756      will ferrell  1445714992\n",
              "3          2    89774      Boxing story  1445715207\n",
              "4          2    89774               MMA  1445715200\n",
              "...      ...      ...               ...         ...\n",
              "3678     606     7382         for katie  1171234019\n",
              "3679     606     7936           austere  1173392334\n",
              "3680     610     3265            gun fu  1493843984\n",
              "3681     610     3265  heroic bloodshed  1493843978\n",
              "3682     610   168248  Heroic Bloodshed  1493844270\n",
              "\n",
              "[3683 rows x 4 columns]</td>\n",
              "    </tr>\n",
              "    <tr>\n",
              "      <th>1</th>\n",
              "      <td>movies</td>\n",
              "      <td>movieId                                      title                                       genres\n",
              "0           1                           Toy Story (1995)  Adventure|Animation|Children|Comedy|Fantasy\n",
              "1           2                             Jumanji (1995)                   Adventure|Children|Fantasy\n",
              "2           3                    Grumpier Old Men (1995)                               Comedy|Romance\n",
              "3           4                   Waiting to Exhale (1995)                         Comedy|Drama|Romance\n",
              "4           5         Father of the Bride Part II (1995)                                       Comedy\n",
              "...       ...                                        ...                                          ...\n",
              "9737   193581  Black Butler: Book of the Atlantic (2017)              Action|Animation|Comedy|Fantasy\n",
              "9738   193583               No Game No Life: Zero (2017)                     Animation|Comedy|Fantasy\n",
              "9739   193585                               Flint (2017)                      ...</td>\n",
              "    </tr>\n",
              "    <tr>\n",
              "      <th>2</th>\n",
              "      <td>links</td>\n",
              "      <td>movieId   imdbId    tmdbId\n",
              "0           1   114709     862.0\n",
              "1           2   113497    8844.0\n",
              "2           3   113228   15602.0\n",
              "3           4   114885   31357.0\n",
              "4           5   113041   11862.0\n",
              "...       ...      ...       ...\n",
              "9737   193581  5476944  432131.0\n",
              "9738   193583  5914996  445030.0\n",
              "9739   193585  6397426  479308.0\n",
              "9740   193587  8391976  483455.0\n",
              "9741   193609   101726   37891.0\n",
              "\n",
              "[9742 rows x 3 columns]</td>\n",
              "    </tr>\n",
              "    <tr>\n",
              "      <th>3</th>\n",
              "      <td>ratings</td>\n",
              "      <td>userId  movieId  rating   timestamp\n",
              "0            1        1     4.0   964982703\n",
              "1            1        3     4.0   964981247\n",
              "2            1        6     4.0   964982224\n",
              "3            1       47     5.0   964983815\n",
              "4            1       50     5.0   964982931\n",
              "...        ...      ...     ...         ...\n",
              "100831     610   166534     4.0  1493848402\n",
              "100832     610   168248     5.0  1493850091\n",
              "100833     610   168250     5.0  1494273047\n",
              "100834     610   168252     5.0  1493846352\n",
              "100835     610   170875     3.0  1493846415\n",
              "\n",
              "[100836 rows x 4 columns]</td>\n",
              "    </tr>\n",
              "  </tbody>\n",
              "</table>\n",
              "</div>"
            ],
            "text/plain": [
              "  table_name  \\\n",
              "0       tags   \n",
              "1     movies   \n",
              "2      links   \n",
              "3    ratings   \n",
              "\n",
              "                                                                                                                                                                                                                                                                                                                                                                                                                                                                                                                                                                                                                                                                                                                                                                                                                                                                                                                                                                                                                                table_data  \n",
              "0                                                                                                                                                                                                                                                                                                                                                                       userId  movieId               tag   timestamp\n",
              "0          2    60756             funny  1445714994\n",
              "1          2    60756   Highly quotable  1445714996\n",
              "2          2    60756      will ferrell  1445714992\n",
              "3          2    89774      Boxing story  1445715207\n",
              "4          2    89774               MMA  1445715200\n",
              "...      ...      ...               ...         ...\n",
              "3678     606     7382         for katie  1171234019\n",
              "3679     606     7936           austere  1173392334\n",
              "3680     610     3265            gun fu  1493843984\n",
              "3681     610     3265  heroic bloodshed  1493843978\n",
              "3682     610   168248  Heroic Bloodshed  1493844270\n",
              "\n",
              "[3683 rows x 4 columns]  \n",
              "1        movieId                                      title                                       genres\n",
              "0           1                           Toy Story (1995)  Adventure|Animation|Children|Comedy|Fantasy\n",
              "1           2                             Jumanji (1995)                   Adventure|Children|Fantasy\n",
              "2           3                    Grumpier Old Men (1995)                               Comedy|Romance\n",
              "3           4                   Waiting to Exhale (1995)                         Comedy|Drama|Romance\n",
              "4           5         Father of the Bride Part II (1995)                                       Comedy\n",
              "...       ...                                        ...                                          ...\n",
              "9737   193581  Black Butler: Book of the Atlantic (2017)              Action|Animation|Comedy|Fantasy\n",
              "9738   193583               No Game No Life: Zero (2017)                     Animation|Comedy|Fantasy\n",
              "9739   193585                               Flint (2017)                      ...  \n",
              "2                                                                                                                                                                                                                                                                                                                                                                                                                                                                                                                                                                                                           movieId   imdbId    tmdbId\n",
              "0           1   114709     862.0\n",
              "1           2   113497    8844.0\n",
              "2           3   113228   15602.0\n",
              "3           4   114885   31357.0\n",
              "4           5   113041   11862.0\n",
              "...       ...      ...       ...\n",
              "9737   193581  5476944  432131.0\n",
              "9738   193583  5914996  445030.0\n",
              "9739   193585  6397426  479308.0\n",
              "9740   193587  8391976  483455.0\n",
              "9741   193609   101726   37891.0\n",
              "\n",
              "[9742 rows x 3 columns]  \n",
              "3                                                                                                                                                                                                                                                                                                                                                                                                                                                                       userId  movieId  rating   timestamp\n",
              "0            1        1     4.0   964982703\n",
              "1            1        3     4.0   964981247\n",
              "2            1        6     4.0   964982224\n",
              "3            1       47     5.0   964983815\n",
              "4            1       50     5.0   964982931\n",
              "...        ...      ...     ...         ...\n",
              "100831     610   166534     4.0  1493848402\n",
              "100832     610   168248     5.0  1493850091\n",
              "100833     610   168250     5.0  1494273047\n",
              "100834     610   168252     5.0  1493846352\n",
              "100835     610   170875     3.0  1493846415\n",
              "\n",
              "[100836 rows x 4 columns]  "
            ]
          },
          "metadata": {
            "tags": []
          },
          "execution_count": 10
        }
      ]
    },
    {
      "cell_type": "markdown",
      "metadata": {
        "id": "Jw_tdHIz4ud9",
        "colab_type": "text"
      },
      "source": [
        "### Connect To Database Engine - \n",
        "> * We use sqlite database engine to perform sql query\n",
        "> * There are many packages to connect to sqlite engine such as - sqlite3, sqlalchemy etc.\n",
        "> * We use sqlalchemy to connect to database engine. It works with many Relational Database Management Systems.\n",
        "> * We will use pandas DataFrame class to represent the result of a sql query into a table form."
      ]
    },
    {
      "cell_type": "code",
      "metadata": {
        "id": "zzPpkG_KFOyL",
        "colab_type": "code",
        "colab": {}
      },
      "source": [
        "from sqlalchemy import create_engine"
      ],
      "execution_count": 0,
      "outputs": []
    },
    {
      "cell_type": "code",
      "metadata": {
        "id": "X-09xPxN5yCe",
        "colab_type": "code",
        "colab": {}
      },
      "source": [
        "engine = create_engine(\"sqlite:///movie_review.sqlite\")"
      ],
      "execution_count": 0,
      "outputs": []
    },
    {
      "cell_type": "code",
      "metadata": {
        "id": "3JW2h0Ij6DeL",
        "colab_type": "code",
        "outputId": "ab23427e-f21a-4b28-8e9e-db8d9d92b854",
        "colab": {
          "base_uri": "https://localhost:8080/",
          "height": 0
        }
      },
      "source": [
        "# print the names of table in the database movie_review.sqlite\n",
        "table_names = engine.table_names()\n",
        "pd.DataFrame([table_names])"
      ],
      "execution_count": 13,
      "outputs": [
        {
          "output_type": "execute_result",
          "data": {
            "text/html": [
              "<div>\n",
              "<style scoped>\n",
              "    .dataframe tbody tr th:only-of-type {\n",
              "        vertical-align: middle;\n",
              "    }\n",
              "\n",
              "    .dataframe tbody tr th {\n",
              "        vertical-align: top;\n",
              "    }\n",
              "\n",
              "    .dataframe thead th {\n",
              "        text-align: right;\n",
              "    }\n",
              "</style>\n",
              "<table border=\"1\" class=\"dataframe\">\n",
              "  <thead>\n",
              "    <tr style=\"text-align: right;\">\n",
              "      <th></th>\n",
              "    </tr>\n",
              "  </thead>\n",
              "  <tbody>\n",
              "    <tr>\n",
              "      <th>0</th>\n",
              "    </tr>\n",
              "  </tbody>\n",
              "</table>\n",
              "</div>"
            ],
            "text/plain": [
              "Empty DataFrame\n",
              "Columns: []\n",
              "Index: [0]"
            ]
          },
          "metadata": {
            "tags": []
          },
          "execution_count": 13
        }
      ]
    },
    {
      "cell_type": "markdown",
      "metadata": {
        "id": "ONIaZFQP6zAX",
        "colab_type": "text"
      },
      "source": [
        "> * Since there is no table in movie_review.sqlite database, we will create some tables and insert data of movie review into them.\n",
        "\n",
        "> * https://sqlite.org/cli.html"
      ]
    },
    {
      "cell_type": "code",
      "metadata": {
        "id": "mmSo4e4c6ZV5",
        "colab_type": "code",
        "colab": {}
      },
      "source": [
        "# connect to database\n",
        "con = engine.connect()\n",
        "\n",
        "# create table one by one \n",
        "for table_name, table_data in db.items():    \n",
        "    table_data.to_sql(table_name, con=engine, index=False,\n",
        "                      if_exists='replace')        "
      ],
      "execution_count": 0,
      "outputs": []
    },
    {
      "cell_type": "code",
      "metadata": {
        "id": "AVaMKsWq-ZxU",
        "colab_type": "code",
        "outputId": "e4db2293-0ffd-4f99-eb49-dfe0d843f13f",
        "colab": {
          "base_uri": "https://localhost:8080/",
          "height": 0
        }
      },
      "source": [
        "# print the names of table in the database movie_review.sqlite\n",
        "table_names = engine.table_names()\n",
        "pd.DataFrame([table_names])"
      ],
      "execution_count": 15,
      "outputs": [
        {
          "output_type": "execute_result",
          "data": {
            "text/html": [
              "<div>\n",
              "<style scoped>\n",
              "    .dataframe tbody tr th:only-of-type {\n",
              "        vertical-align: middle;\n",
              "    }\n",
              "\n",
              "    .dataframe tbody tr th {\n",
              "        vertical-align: top;\n",
              "    }\n",
              "\n",
              "    .dataframe thead th {\n",
              "        text-align: right;\n",
              "    }\n",
              "</style>\n",
              "<table border=\"1\" class=\"dataframe\">\n",
              "  <thead>\n",
              "    <tr style=\"text-align: right;\">\n",
              "      <th></th>\n",
              "      <th>0</th>\n",
              "      <th>1</th>\n",
              "      <th>2</th>\n",
              "      <th>3</th>\n",
              "    </tr>\n",
              "  </thead>\n",
              "  <tbody>\n",
              "    <tr>\n",
              "      <th>0</th>\n",
              "      <td>links</td>\n",
              "      <td>movies</td>\n",
              "      <td>ratings</td>\n",
              "      <td>tags</td>\n",
              "    </tr>\n",
              "  </tbody>\n",
              "</table>\n",
              "</div>"
            ],
            "text/plain": [
              "       0       1        2     3\n",
              "0  links  movies  ratings  tags"
            ]
          },
          "metadata": {
            "tags": []
          },
          "execution_count": 15
        }
      ]
    },
    {
      "cell_type": "code",
      "metadata": {
        "id": "mZviZ0gz_z41",
        "colab_type": "code",
        "outputId": "a0bafa55-bf36-462f-c3c4-efe43bbd95c8",
        "colab": {
          "base_uri": "https://localhost:8080/",
          "height": 0
        }
      },
      "source": [
        "db['movies'].tail(10)"
      ],
      "execution_count": 16,
      "outputs": [
        {
          "output_type": "execute_result",
          "data": {
            "text/html": [
              "<div>\n",
              "<style scoped>\n",
              "    .dataframe tbody tr th:only-of-type {\n",
              "        vertical-align: middle;\n",
              "    }\n",
              "\n",
              "    .dataframe tbody tr th {\n",
              "        vertical-align: top;\n",
              "    }\n",
              "\n",
              "    .dataframe thead th {\n",
              "        text-align: right;\n",
              "    }\n",
              "</style>\n",
              "<table border=\"1\" class=\"dataframe\">\n",
              "  <thead>\n",
              "    <tr style=\"text-align: right;\">\n",
              "      <th></th>\n",
              "      <th>movieId</th>\n",
              "      <th>title</th>\n",
              "      <th>genres</th>\n",
              "    </tr>\n",
              "  </thead>\n",
              "  <tbody>\n",
              "    <tr>\n",
              "      <th>9732</th>\n",
              "      <td>193565</td>\n",
              "      <td>Gintama: The Movie (2010)</td>\n",
              "      <td>Action|Animation|Comedy|Sci-Fi</td>\n",
              "    </tr>\n",
              "    <tr>\n",
              "      <th>9733</th>\n",
              "      <td>193567</td>\n",
              "      <td>anohana: The Flower We Saw That Day - The Movie (2013)</td>\n",
              "      <td>Animation|Drama</td>\n",
              "    </tr>\n",
              "    <tr>\n",
              "      <th>9734</th>\n",
              "      <td>193571</td>\n",
              "      <td>Silver Spoon (2014)</td>\n",
              "      <td>Comedy|Drama</td>\n",
              "    </tr>\n",
              "    <tr>\n",
              "      <th>9735</th>\n",
              "      <td>193573</td>\n",
              "      <td>Love Live! The School Idol Movie (2015)</td>\n",
              "      <td>Animation</td>\n",
              "    </tr>\n",
              "    <tr>\n",
              "      <th>9736</th>\n",
              "      <td>193579</td>\n",
              "      <td>Jon Stewart Has Left the Building (2015)</td>\n",
              "      <td>Documentary</td>\n",
              "    </tr>\n",
              "    <tr>\n",
              "      <th>9737</th>\n",
              "      <td>193581</td>\n",
              "      <td>Black Butler: Book of the Atlantic (2017)</td>\n",
              "      <td>Action|Animation|Comedy|Fantasy</td>\n",
              "    </tr>\n",
              "    <tr>\n",
              "      <th>9738</th>\n",
              "      <td>193583</td>\n",
              "      <td>No Game No Life: Zero (2017)</td>\n",
              "      <td>Animation|Comedy|Fantasy</td>\n",
              "    </tr>\n",
              "    <tr>\n",
              "      <th>9739</th>\n",
              "      <td>193585</td>\n",
              "      <td>Flint (2017)</td>\n",
              "      <td>Drama</td>\n",
              "    </tr>\n",
              "    <tr>\n",
              "      <th>9740</th>\n",
              "      <td>193587</td>\n",
              "      <td>Bungo Stray Dogs: Dead Apple (2018)</td>\n",
              "      <td>Action|Animation</td>\n",
              "    </tr>\n",
              "    <tr>\n",
              "      <th>9741</th>\n",
              "      <td>193609</td>\n",
              "      <td>Andrew Dice Clay: Dice Rules (1991)</td>\n",
              "      <td>Comedy</td>\n",
              "    </tr>\n",
              "  </tbody>\n",
              "</table>\n",
              "</div>"
            ],
            "text/plain": [
              "      movieId                                                   title                           genres\n",
              "9732   193565                               Gintama: The Movie (2010)   Action|Animation|Comedy|Sci-Fi\n",
              "9733   193567  anohana: The Flower We Saw That Day - The Movie (2013)                  Animation|Drama\n",
              "9734   193571                                     Silver Spoon (2014)                     Comedy|Drama\n",
              "9735   193573                 Love Live! The School Idol Movie (2015)                        Animation\n",
              "9736   193579                Jon Stewart Has Left the Building (2015)                      Documentary\n",
              "9737   193581               Black Butler: Book of the Atlantic (2017)  Action|Animation|Comedy|Fantasy\n",
              "9738   193583                            No Game No Life: Zero (2017)         Animation|Comedy|Fantasy\n",
              "9739   193585                                            Flint (2017)                            Drama\n",
              "9740   193587                     Bungo Stray Dogs: Dead Apple (2018)                 Action|Animation\n",
              "9741   193609                     Andrew Dice Clay: Dice Rules (1991)                           Comedy"
            ]
          },
          "metadata": {
            "tags": []
          },
          "execution_count": 16
        }
      ]
    },
    {
      "cell_type": "markdown",
      "metadata": {
        "id": "Vped6m24FWF9",
        "colab_type": "text"
      },
      "source": [
        "### Query 15: Find all the movie titles released in year 2018"
      ]
    },
    {
      "cell_type": "markdown",
      "metadata": {
        "id": "p03H6wdUFcTE",
        "colab_type": "text"
      },
      "source": [
        "> * **SQL** "
      ]
    },
    {
      "cell_type": "code",
      "metadata": {
        "id": "oJpFIKZur6gq",
        "colab_type": "code",
        "colab": {}
      },
      "source": [
        "table_name = 'movies'"
      ],
      "execution_count": 0,
      "outputs": []
    },
    {
      "cell_type": "code",
      "metadata": {
        "id": "4YQRJeZt8ow2",
        "colab_type": "code",
        "outputId": "0e73991f-64fa-42c3-b8bf-188bdb926381",
        "colab": {
          "base_uri": "https://localhost:8080/",
          "height": 0
        }
      },
      "source": [
        "rs = con.execute(f'''SELECT title\n",
        "                     FROM {table_name}\n",
        "                     WHERE title LIKE \"%2018_\"\n",
        "                     ''')\n",
        "\n",
        "pd.DataFrame(rs.fetchall(), columns=['title']).T"
      ],
      "execution_count": 18,
      "outputs": [
        {
          "output_type": "execute_result",
          "data": {
            "text/html": [
              "<div>\n",
              "<style scoped>\n",
              "    .dataframe tbody tr th:only-of-type {\n",
              "        vertical-align: middle;\n",
              "    }\n",
              "\n",
              "    .dataframe tbody tr th {\n",
              "        vertical-align: top;\n",
              "    }\n",
              "\n",
              "    .dataframe thead th {\n",
              "        text-align: right;\n",
              "    }\n",
              "</style>\n",
              "<table border=\"1\" class=\"dataframe\">\n",
              "  <thead>\n",
              "    <tr style=\"text-align: right;\">\n",
              "      <th></th>\n",
              "      <th>0</th>\n",
              "      <th>1</th>\n",
              "      <th>2</th>\n",
              "      <th>3</th>\n",
              "      <th>4</th>\n",
              "      <th>5</th>\n",
              "      <th>6</th>\n",
              "      <th>7</th>\n",
              "      <th>8</th>\n",
              "      <th>9</th>\n",
              "      <th>10</th>\n",
              "      <th>11</th>\n",
              "      <th>12</th>\n",
              "      <th>13</th>\n",
              "      <th>14</th>\n",
              "      <th>15</th>\n",
              "      <th>16</th>\n",
              "      <th>17</th>\n",
              "      <th>18</th>\n",
              "      <th>19</th>\n",
              "      <th>20</th>\n",
              "      <th>21</th>\n",
              "      <th>22</th>\n",
              "      <th>23</th>\n",
              "      <th>24</th>\n",
              "      <th>25</th>\n",
              "      <th>26</th>\n",
              "      <th>27</th>\n",
              "      <th>28</th>\n",
              "      <th>29</th>\n",
              "      <th>30</th>\n",
              "      <th>31</th>\n",
              "      <th>32</th>\n",
              "      <th>33</th>\n",
              "      <th>34</th>\n",
              "      <th>35</th>\n",
              "      <th>36</th>\n",
              "      <th>37</th>\n",
              "      <th>38</th>\n",
              "      <th>39</th>\n",
              "      <th>40</th>\n",
              "    </tr>\n",
              "  </thead>\n",
              "  <tbody>\n",
              "    <tr>\n",
              "      <th>title</th>\n",
              "      <td>Avengers: Infinity War - Part I (2018)</td>\n",
              "      <td>Annihilation (2018)</td>\n",
              "      <td>The Commuter (2018)</td>\n",
              "      <td>Insidious: The Last Key (2018)</td>\n",
              "      <td>Game Night (2018)</td>\n",
              "      <td>Maze Runner: The Death Cure (2018)</td>\n",
              "      <td>Isle of Dogs (2018)</td>\n",
              "      <td>The Clapper (2018)</td>\n",
              "      <td>Tom Segura: Disgraceful (2018)</td>\n",
              "      <td>When We First Met (2018)</td>\n",
              "      <td>The Cloverfield Paradox (2018)</td>\n",
              "      <td>Tomb Raider (2018)</td>\n",
              "      <td>Fred Armisen: Standup for Drummers (2018)</td>\n",
              "      <td>Death Wish (2018)</td>\n",
              "      <td>A Wrinkle in Time (2018)</td>\n",
              "      <td>Love, Simon (2018)</td>\n",
              "      <td>A Quiet Place (2018)</td>\n",
              "      <td>Alpha (2018)</td>\n",
              "      <td>I Kill Giants (2018)</td>\n",
              "      <td>Game Over, Man! (2018)</td>\n",
              "      <td>Blockers (2018)</td>\n",
              "      <td>Pacific Rim: Uprising (2018)</td>\n",
              "      <td>Rampage (2018)</td>\n",
              "      <td>Jurassic World: Fallen Kingdom (2018)</td>\n",
              "      <td>Incredibles 2 (2018)</td>\n",
              "      <td>Deadpool 2 (2018)</td>\n",
              "      <td>Solo: A Star Wars Story (2018)</td>\n",
              "      <td>Won't You Be My Neighbor? (2018)</td>\n",
              "      <td>Sorry to Bother You (2018)</td>\n",
              "      <td>Ant-Man and the Wasp (2018)</td>\n",
              "      <td>Dogman (2018)</td>\n",
              "      <td>Mamma Mia: Here We Go Again! (2018)</td>\n",
              "      <td>Tag (2018)</td>\n",
              "      <td>The Man Who Killed Don Quixote (2018)</td>\n",
              "      <td>Boundaries (2018)</td>\n",
              "      <td>Spiral (2018)</td>\n",
              "      <td>Mission: Impossible - Fallout (2018)</td>\n",
              "      <td>SuperFly (2018)</td>\n",
              "      <td>BlacKkKlansman (2018)</td>\n",
              "      <td>The Darkest Minds (2018)</td>\n",
              "      <td>Bungo Stray Dogs: Dead Apple (2018)</td>\n",
              "    </tr>\n",
              "  </tbody>\n",
              "</table>\n",
              "</div>"
            ],
            "text/plain": [
              "                                            0                    1                    2                               3                  4                                   5                    6                   7                               8                         9                              10                  11                                         12                 13                        14                  15                    16            17                    18                      19               20                            21              22                                     23                    24                 25                              26                                27                          28                           29             30                                   31          32                                     33                 34             35                                    36               37                     38  \\\n",
              "title  Avengers: Infinity War - Part I (2018)  Annihilation (2018)  The Commuter (2018)  Insidious: The Last Key (2018)  Game Night (2018)  Maze Runner: The Death Cure (2018)  Isle of Dogs (2018)  The Clapper (2018)  Tom Segura: Disgraceful (2018)  When We First Met (2018)  The Cloverfield Paradox (2018)  Tomb Raider (2018)  Fred Armisen: Standup for Drummers (2018)  Death Wish (2018)  A Wrinkle in Time (2018)  Love, Simon (2018)  A Quiet Place (2018)  Alpha (2018)  I Kill Giants (2018)  Game Over, Man! (2018)  Blockers (2018)  Pacific Rim: Uprising (2018)  Rampage (2018)  Jurassic World: Fallen Kingdom (2018)  Incredibles 2 (2018)  Deadpool 2 (2018)  Solo: A Star Wars Story (2018)  Won't You Be My Neighbor? (2018)  Sorry to Bother You (2018)  Ant-Man and the Wasp (2018)  Dogman (2018)  Mamma Mia: Here We Go Again! (2018)  Tag (2018)  The Man Who Killed Don Quixote (2018)  Boundaries (2018)  Spiral (2018)  Mission: Impossible - Fallout (2018)  SuperFly (2018)  BlacKkKlansman (2018)   \n",
              "\n",
              "                             39                                   40  \n",
              "title  The Darkest Minds (2018)  Bungo Stray Dogs: Dead Apple (2018)  "
            ]
          },
          "metadata": {
            "tags": []
          },
          "execution_count": 18
        }
      ]
    },
    {
      "cell_type": "markdown",
      "metadata": {
        "colab_type": "text",
        "id": "P0xrWIinI0tJ"
      },
      "source": [
        "> * **Pandas** "
      ]
    },
    {
      "cell_type": "code",
      "metadata": {
        "id": "trbEhemuNaON",
        "colab_type": "code",
        "outputId": "484cf010-f980-463b-a606-a258e085fb36",
        "colab": {
          "base_uri": "https://localhost:8080/",
          "height": 0
        }
      },
      "source": [
        "table = db[table_name]\n",
        "FROM_CLAUSE = table\n",
        "\n",
        "COLUMN = table['title']\n",
        "COLUMN_LIKE = COLUMN.str.contains\n",
        "PATTERN = r'(2018.)$'\n",
        "WHERE_CLAUSE = COLUMN_LIKE(PATTERN)\n",
        "\n",
        "SELECT_CLAUSE = ['title']\n",
        "\n",
        "# db[table_name][(db[table_name]['title'].str.contains(r'(2018.)$'))][['title']]\n",
        "\n",
        "rs = FROM_CLAUSE[WHERE_CLAUSE][SELECT_CLAUSE]\n",
        "pd.DataFrame(rs,  columns=['title']).T"
      ],
      "execution_count": 19,
      "outputs": [
        {
          "output_type": "stream",
          "text": [
            "/usr/local/lib/python3.6/dist-packages/pandas/core/strings.py:1843: UserWarning: This pattern has match groups. To actually get the groups, use str.extract.\n",
            "  return func(self, *args, **kwargs)\n"
          ],
          "name": "stderr"
        },
        {
          "output_type": "execute_result",
          "data": {
            "text/html": [
              "<div>\n",
              "<style scoped>\n",
              "    .dataframe tbody tr th:only-of-type {\n",
              "        vertical-align: middle;\n",
              "    }\n",
              "\n",
              "    .dataframe tbody tr th {\n",
              "        vertical-align: top;\n",
              "    }\n",
              "\n",
              "    .dataframe thead th {\n",
              "        text-align: right;\n",
              "    }\n",
              "</style>\n",
              "<table border=\"1\" class=\"dataframe\">\n",
              "  <thead>\n",
              "    <tr style=\"text-align: right;\">\n",
              "      <th></th>\n",
              "      <th>8693</th>\n",
              "      <th>9668</th>\n",
              "      <th>9674</th>\n",
              "      <th>9678</th>\n",
              "      <th>9681</th>\n",
              "      <th>9682</th>\n",
              "      <th>9683</th>\n",
              "      <th>9684</th>\n",
              "      <th>9685</th>\n",
              "      <th>9686</th>\n",
              "      <th>9689</th>\n",
              "      <th>9692</th>\n",
              "      <th>9695</th>\n",
              "      <th>9696</th>\n",
              "      <th>9697</th>\n",
              "      <th>9698</th>\n",
              "      <th>9699</th>\n",
              "      <th>9700</th>\n",
              "      <th>9701</th>\n",
              "      <th>9703</th>\n",
              "      <th>9704</th>\n",
              "      <th>9705</th>\n",
              "      <th>9706</th>\n",
              "      <th>9707</th>\n",
              "      <th>9708</th>\n",
              "      <th>9709</th>\n",
              "      <th>9710</th>\n",
              "      <th>9711</th>\n",
              "      <th>9712</th>\n",
              "      <th>9713</th>\n",
              "      <th>9714</th>\n",
              "      <th>9715</th>\n",
              "      <th>9716</th>\n",
              "      <th>9717</th>\n",
              "      <th>9718</th>\n",
              "      <th>9719</th>\n",
              "      <th>9720</th>\n",
              "      <th>9721</th>\n",
              "      <th>9723</th>\n",
              "      <th>9724</th>\n",
              "      <th>9740</th>\n",
              "    </tr>\n",
              "  </thead>\n",
              "  <tbody>\n",
              "    <tr>\n",
              "      <th>title</th>\n",
              "      <td>Avengers: Infinity War - Part I (2018)</td>\n",
              "      <td>Annihilation (2018)</td>\n",
              "      <td>The Commuter (2018)</td>\n",
              "      <td>Insidious: The Last Key (2018)</td>\n",
              "      <td>Game Night (2018)</td>\n",
              "      <td>Maze Runner: The Death Cure (2018)</td>\n",
              "      <td>Isle of Dogs (2018)</td>\n",
              "      <td>The Clapper (2018)</td>\n",
              "      <td>Tom Segura: Disgraceful (2018)</td>\n",
              "      <td>When We First Met (2018)</td>\n",
              "      <td>The Cloverfield Paradox (2018)</td>\n",
              "      <td>Tomb Raider (2018)</td>\n",
              "      <td>Fred Armisen: Standup for Drummers (2018)</td>\n",
              "      <td>Death Wish (2018)</td>\n",
              "      <td>A Wrinkle in Time (2018)</td>\n",
              "      <td>Love, Simon (2018)</td>\n",
              "      <td>A Quiet Place (2018)</td>\n",
              "      <td>Alpha (2018)</td>\n",
              "      <td>I Kill Giants (2018)</td>\n",
              "      <td>Game Over, Man! (2018)</td>\n",
              "      <td>Blockers (2018)</td>\n",
              "      <td>Pacific Rim: Uprising (2018)</td>\n",
              "      <td>Rampage (2018)</td>\n",
              "      <td>Jurassic World: Fallen Kingdom (2018)</td>\n",
              "      <td>Incredibles 2 (2018)</td>\n",
              "      <td>Deadpool 2 (2018)</td>\n",
              "      <td>Solo: A Star Wars Story (2018)</td>\n",
              "      <td>Won't You Be My Neighbor? (2018)</td>\n",
              "      <td>Sorry to Bother You (2018)</td>\n",
              "      <td>Ant-Man and the Wasp (2018)</td>\n",
              "      <td>Dogman (2018)</td>\n",
              "      <td>Mamma Mia: Here We Go Again! (2018)</td>\n",
              "      <td>Tag (2018)</td>\n",
              "      <td>The Man Who Killed Don Quixote (2018)</td>\n",
              "      <td>Boundaries (2018)</td>\n",
              "      <td>Spiral (2018)</td>\n",
              "      <td>Mission: Impossible - Fallout (2018)</td>\n",
              "      <td>SuperFly (2018)</td>\n",
              "      <td>BlacKkKlansman (2018)</td>\n",
              "      <td>The Darkest Minds (2018)</td>\n",
              "      <td>Bungo Stray Dogs: Dead Apple (2018)</td>\n",
              "    </tr>\n",
              "  </tbody>\n",
              "</table>\n",
              "</div>"
            ],
            "text/plain": [
              "                                         8693                 9668                 9674                            9678               9681                                9682                 9683                9684                            9685                      9686                            9689                9692                                       9695               9696                      9697                9698                  9699          9700                  9701                    9703             9704                          9705            9706                                   9707                  9708               9709                            9710                              9711                        9712                         9713           9714                                 9715        9716                                   9717               9718           9719                                  9720             9721                   9723  \\\n",
              "title  Avengers: Infinity War - Part I (2018)  Annihilation (2018)  The Commuter (2018)  Insidious: The Last Key (2018)  Game Night (2018)  Maze Runner: The Death Cure (2018)  Isle of Dogs (2018)  The Clapper (2018)  Tom Segura: Disgraceful (2018)  When We First Met (2018)  The Cloverfield Paradox (2018)  Tomb Raider (2018)  Fred Armisen: Standup for Drummers (2018)  Death Wish (2018)  A Wrinkle in Time (2018)  Love, Simon (2018)  A Quiet Place (2018)  Alpha (2018)  I Kill Giants (2018)  Game Over, Man! (2018)  Blockers (2018)  Pacific Rim: Uprising (2018)  Rampage (2018)  Jurassic World: Fallen Kingdom (2018)  Incredibles 2 (2018)  Deadpool 2 (2018)  Solo: A Star Wars Story (2018)  Won't You Be My Neighbor? (2018)  Sorry to Bother You (2018)  Ant-Man and the Wasp (2018)  Dogman (2018)  Mamma Mia: Here We Go Again! (2018)  Tag (2018)  The Man Who Killed Don Quixote (2018)  Boundaries (2018)  Spiral (2018)  Mission: Impossible - Fallout (2018)  SuperFly (2018)  BlacKkKlansman (2018)   \n",
              "\n",
              "                           9724                                 9740  \n",
              "title  The Darkest Minds (2018)  Bungo Stray Dogs: Dead Apple (2018)  "
            ]
          },
          "metadata": {
            "tags": []
          },
          "execution_count": 19
        }
      ]
    },
    {
      "cell_type": "code",
      "metadata": {
        "id": "7bawbJ4pNaWH",
        "colab_type": "code",
        "outputId": "a316692c-e5d4-4535-c3cc-6126fb734e78",
        "colab": {
          "base_uri": "https://localhost:8080/",
          "height": 0
        }
      },
      "source": [
        "#@title **`LIKE` Operator Analogy** { vertical-output: true, display-mode: \"both\" }\n",
        "res = {'SQL': ['title', 'LIKE', 'title LIKE', '\"%2018_\"'],\n",
        "                                  'Pandas': [\"table['title']\", \n",
        "                                             'pd.Series.str.contains',\n",
        "                                             \"table['title'].str.contains\",\n",
        "                                             \"r'(2018.)$'\"\n",
        "                                             ]}\n",
        "pd.DataFrame(res)"
      ],
      "execution_count": 20,
      "outputs": [
        {
          "output_type": "execute_result",
          "data": {
            "text/html": [
              "<div>\n",
              "<style scoped>\n",
              "    .dataframe tbody tr th:only-of-type {\n",
              "        vertical-align: middle;\n",
              "    }\n",
              "\n",
              "    .dataframe tbody tr th {\n",
              "        vertical-align: top;\n",
              "    }\n",
              "\n",
              "    .dataframe thead th {\n",
              "        text-align: right;\n",
              "    }\n",
              "</style>\n",
              "<table border=\"1\" class=\"dataframe\">\n",
              "  <thead>\n",
              "    <tr style=\"text-align: right;\">\n",
              "      <th></th>\n",
              "      <th>SQL</th>\n",
              "      <th>Pandas</th>\n",
              "    </tr>\n",
              "  </thead>\n",
              "  <tbody>\n",
              "    <tr>\n",
              "      <th>0</th>\n",
              "      <td>title</td>\n",
              "      <td>table['title']</td>\n",
              "    </tr>\n",
              "    <tr>\n",
              "      <th>1</th>\n",
              "      <td>LIKE</td>\n",
              "      <td>pd.Series.str.contains</td>\n",
              "    </tr>\n",
              "    <tr>\n",
              "      <th>2</th>\n",
              "      <td>title LIKE</td>\n",
              "      <td>table['title'].str.contains</td>\n",
              "    </tr>\n",
              "    <tr>\n",
              "      <th>3</th>\n",
              "      <td>\"%2018_\"</td>\n",
              "      <td>r'(2018.)$'</td>\n",
              "    </tr>\n",
              "  </tbody>\n",
              "</table>\n",
              "</div>"
            ],
            "text/plain": [
              "          SQL                       Pandas\n",
              "0       title               table['title']\n",
              "1        LIKE       pd.Series.str.contains\n",
              "2  title LIKE  table['title'].str.contains\n",
              "3    \"%2018_\"                  r'(2018.)$'"
            ]
          },
          "metadata": {
            "tags": []
          },
          "execution_count": 20
        }
      ]
    },
    {
      "cell_type": "markdown",
      "metadata": {
        "colab_type": "text",
        "id": "3Y-1-D02gbYH"
      },
      "source": [
        "### Query 16: Find all the movies titles released in year 2018 and from at least 'Action' genre."
      ]
    },
    {
      "cell_type": "markdown",
      "metadata": {
        "colab_type": "text",
        "id": "cBivvQy2gbYh"
      },
      "source": [
        "> * **SQL** "
      ]
    },
    {
      "cell_type": "code",
      "metadata": {
        "colab_type": "code",
        "id": "qV1EegAEgbYs",
        "colab": {}
      },
      "source": [
        "table_name = 'movies'"
      ],
      "execution_count": 0,
      "outputs": []
    },
    {
      "cell_type": "code",
      "metadata": {
        "colab_type": "code",
        "outputId": "f37e097c-462f-4292-ef2a-574cbf9c798c",
        "id": "DUgEhEtFgbY9",
        "colab": {
          "base_uri": "https://localhost:8080/",
          "height": 0
        }
      },
      "source": [
        "rs = con.execute(f'''SELECT title\n",
        "                     FROM {table_name}\n",
        "                     WHERE title LIKE \"%2018_\" AND genres LIKE \"%ACTION%\"\n",
        "                     ''')\n",
        "\n",
        "pd.DataFrame(rs.fetchall(), columns=['title']).T"
      ],
      "execution_count": 22,
      "outputs": [
        {
          "output_type": "execute_result",
          "data": {
            "text/html": [
              "<div>\n",
              "<style scoped>\n",
              "    .dataframe tbody tr th:only-of-type {\n",
              "        vertical-align: middle;\n",
              "    }\n",
              "\n",
              "    .dataframe tbody tr th {\n",
              "        vertical-align: top;\n",
              "    }\n",
              "\n",
              "    .dataframe thead th {\n",
              "        text-align: right;\n",
              "    }\n",
              "</style>\n",
              "<table border=\"1\" class=\"dataframe\">\n",
              "  <thead>\n",
              "    <tr style=\"text-align: right;\">\n",
              "      <th></th>\n",
              "      <th>0</th>\n",
              "      <th>1</th>\n",
              "      <th>2</th>\n",
              "      <th>3</th>\n",
              "      <th>4</th>\n",
              "      <th>5</th>\n",
              "      <th>6</th>\n",
              "      <th>7</th>\n",
              "      <th>8</th>\n",
              "      <th>9</th>\n",
              "      <th>10</th>\n",
              "      <th>11</th>\n",
              "      <th>12</th>\n",
              "      <th>13</th>\n",
              "      <th>14</th>\n",
              "      <th>15</th>\n",
              "    </tr>\n",
              "  </thead>\n",
              "  <tbody>\n",
              "    <tr>\n",
              "      <th>title</th>\n",
              "      <td>Avengers: Infinity War - Part I (2018)</td>\n",
              "      <td>Game Night (2018)</td>\n",
              "      <td>Maze Runner: The Death Cure (2018)</td>\n",
              "      <td>Tomb Raider (2018)</td>\n",
              "      <td>Death Wish (2018)</td>\n",
              "      <td>Game Over, Man! (2018)</td>\n",
              "      <td>Pacific Rim: Uprising (2018)</td>\n",
              "      <td>Rampage (2018)</td>\n",
              "      <td>Jurassic World: Fallen Kingdom (2018)</td>\n",
              "      <td>Incredibles 2 (2018)</td>\n",
              "      <td>Deadpool 2 (2018)</td>\n",
              "      <td>Solo: A Star Wars Story (2018)</td>\n",
              "      <td>Ant-Man and the Wasp (2018)</td>\n",
              "      <td>Mission: Impossible - Fallout (2018)</td>\n",
              "      <td>SuperFly (2018)</td>\n",
              "      <td>Bungo Stray Dogs: Dead Apple (2018)</td>\n",
              "    </tr>\n",
              "  </tbody>\n",
              "</table>\n",
              "</div>"
            ],
            "text/plain": [
              "                                            0                  1                                   2                   3                  4                       5                             6               7                                      8                     9                 10                              11                           12                                    13               14                                   15\n",
              "title  Avengers: Infinity War - Part I (2018)  Game Night (2018)  Maze Runner: The Death Cure (2018)  Tomb Raider (2018)  Death Wish (2018)  Game Over, Man! (2018)  Pacific Rim: Uprising (2018)  Rampage (2018)  Jurassic World: Fallen Kingdom (2018)  Incredibles 2 (2018)  Deadpool 2 (2018)  Solo: A Star Wars Story (2018)  Ant-Man and the Wasp (2018)  Mission: Impossible - Fallout (2018)  SuperFly (2018)  Bungo Stray Dogs: Dead Apple (2018)"
            ]
          },
          "metadata": {
            "tags": []
          },
          "execution_count": 22
        }
      ]
    },
    {
      "cell_type": "markdown",
      "metadata": {
        "colab_type": "text",
        "id": "pmaJ1pz2gbZK"
      },
      "source": [
        "> * **Pandas** "
      ]
    },
    {
      "cell_type": "code",
      "metadata": {
        "colab_type": "code",
        "outputId": "adc4f7b4-fdf8-4138-8a99-b058a4058f01",
        "id": "AJWVBx9hgbZN",
        "colab": {
          "base_uri": "https://localhost:8080/",
          "height": 0
        }
      },
      "source": [
        "table = db[table_name]\n",
        "FROM_CLAUSE = table\n",
        "\n",
        "COLUMN1 = table['title']\n",
        "COLUMN2 = table['genres']\n",
        "COLUMN_LIKE1 = COLUMN1.str.contains\n",
        "COLUMN_LIKE2 = COLUMN2.str.contains\n",
        "\n",
        "PATTERN1 = r'(2018.)$'\n",
        "PATTERN2 = r'Action'\n",
        "WHERE_CLAUSE = (COLUMN_LIKE1(PATTERN1) & COLUMN_LIKE2(PATTERN2))\n",
        "\n",
        "SELECT_CLAUSE = ['title']\n",
        "\n",
        "# db[table_name][(db[table_name]['title'].str.contains(r'(2018.)$') & \\\n",
        "#                 db[table_name]['title'].str.contains( r'Action'))] \\\n",
        "#               [['title']]\n",
        "\n",
        "rs = FROM_CLAUSE[WHERE_CLAUSE][SELECT_CLAUSE]\n",
        "pd.DataFrame(rs,  columns=['title']).T"
      ],
      "execution_count": 23,
      "outputs": [
        {
          "output_type": "stream",
          "text": [
            "/usr/local/lib/python3.6/dist-packages/pandas/core/strings.py:1843: UserWarning: This pattern has match groups. To actually get the groups, use str.extract.\n",
            "  return func(self, *args, **kwargs)\n"
          ],
          "name": "stderr"
        },
        {
          "output_type": "execute_result",
          "data": {
            "text/html": [
              "<div>\n",
              "<style scoped>\n",
              "    .dataframe tbody tr th:only-of-type {\n",
              "        vertical-align: middle;\n",
              "    }\n",
              "\n",
              "    .dataframe tbody tr th {\n",
              "        vertical-align: top;\n",
              "    }\n",
              "\n",
              "    .dataframe thead th {\n",
              "        text-align: right;\n",
              "    }\n",
              "</style>\n",
              "<table border=\"1\" class=\"dataframe\">\n",
              "  <thead>\n",
              "    <tr style=\"text-align: right;\">\n",
              "      <th></th>\n",
              "      <th>8693</th>\n",
              "      <th>9681</th>\n",
              "      <th>9682</th>\n",
              "      <th>9692</th>\n",
              "      <th>9696</th>\n",
              "      <th>9703</th>\n",
              "      <th>9705</th>\n",
              "      <th>9706</th>\n",
              "      <th>9707</th>\n",
              "      <th>9708</th>\n",
              "      <th>9709</th>\n",
              "      <th>9710</th>\n",
              "      <th>9713</th>\n",
              "      <th>9720</th>\n",
              "      <th>9721</th>\n",
              "      <th>9740</th>\n",
              "    </tr>\n",
              "  </thead>\n",
              "  <tbody>\n",
              "    <tr>\n",
              "      <th>title</th>\n",
              "      <td>Avengers: Infinity War - Part I (2018)</td>\n",
              "      <td>Game Night (2018)</td>\n",
              "      <td>Maze Runner: The Death Cure (2018)</td>\n",
              "      <td>Tomb Raider (2018)</td>\n",
              "      <td>Death Wish (2018)</td>\n",
              "      <td>Game Over, Man! (2018)</td>\n",
              "      <td>Pacific Rim: Uprising (2018)</td>\n",
              "      <td>Rampage (2018)</td>\n",
              "      <td>Jurassic World: Fallen Kingdom (2018)</td>\n",
              "      <td>Incredibles 2 (2018)</td>\n",
              "      <td>Deadpool 2 (2018)</td>\n",
              "      <td>Solo: A Star Wars Story (2018)</td>\n",
              "      <td>Ant-Man and the Wasp (2018)</td>\n",
              "      <td>Mission: Impossible - Fallout (2018)</td>\n",
              "      <td>SuperFly (2018)</td>\n",
              "      <td>Bungo Stray Dogs: Dead Apple (2018)</td>\n",
              "    </tr>\n",
              "  </tbody>\n",
              "</table>\n",
              "</div>"
            ],
            "text/plain": [
              "                                         8693               9681                                9682                9692               9696                    9703                          9705            9706                                   9707                  9708               9709                            9710                         9713                                  9720             9721                                 9740\n",
              "title  Avengers: Infinity War - Part I (2018)  Game Night (2018)  Maze Runner: The Death Cure (2018)  Tomb Raider (2018)  Death Wish (2018)  Game Over, Man! (2018)  Pacific Rim: Uprising (2018)  Rampage (2018)  Jurassic World: Fallen Kingdom (2018)  Incredibles 2 (2018)  Deadpool 2 (2018)  Solo: A Star Wars Story (2018)  Ant-Man and the Wasp (2018)  Mission: Impossible - Fallout (2018)  SuperFly (2018)  Bungo Stray Dogs: Dead Apple (2018)"
            ]
          },
          "metadata": {
            "tags": []
          },
          "execution_count": 23
        }
      ]
    },
    {
      "cell_type": "markdown",
      "metadata": {
        "id": "7-foFAeJlgVO",
        "colab_type": "text"
      },
      "source": [
        "> * **Points to be remembered**\n",
        "1. In *SQLite*,  the LIKE operator is case sensitive by default for Unicode characters that are beyond the ASCII range. For example, the expression 'a' LIKE 'A' is TRUE but 'æ' LIKE 'Æ' is FALSE.)\n",
        "2. The GLOB operator is similar to LIKE but uses the Unix file globbing syntax for its wildcards. Also, GLOB is case sensitive, unlike LIKE. Both GLOB and LIKE may be preceded by the NOT keyword to invert the sense of the test.\n",
        "\n",
        "> https://www.w3resource.com/sqlite/like-operator.php "
      ]
    },
    {
      "cell_type": "markdown",
      "metadata": {
        "colab_type": "text",
        "id": "ftXxogFDrMNH"
      },
      "source": [
        "### Query 17: Find all the movies titles without year and their genres released in year 2018 and NOT from 'Action' genre."
      ]
    },
    {
      "cell_type": "markdown",
      "metadata": {
        "colab_type": "text",
        "id": "-6PgIDxhrMNf"
      },
      "source": [
        "> * **SQL** "
      ]
    },
    {
      "cell_type": "code",
      "metadata": {
        "colab_type": "code",
        "id": "ssI1iTmVrMNv",
        "colab": {}
      },
      "source": [
        "table_name = 'movies'"
      ],
      "execution_count": 0,
      "outputs": []
    },
    {
      "cell_type": "code",
      "metadata": {
        "colab_type": "code",
        "outputId": "600686d3-a4e6-4b2a-e67c-ed00b3495aae",
        "id": "lksj_J6CrMOF",
        "colab": {
          "base_uri": "https://localhost:8080/",
          "height": 0
        }
      },
      "source": [
        "rs = con.execute(f'''SELECT TRIM(REPLACE(title, \"(2018)\", \"\")), genres\n",
        "                     FROM {table_name}\n",
        "                     WHERE title LIKE \"%2018_\" AND genres NOT LIKE \"%Action%\"\n",
        "                     ''')\n",
        "\n",
        "pd.DataFrame(rs.fetchall(), columns=['title', 'genres']).T"
      ],
      "execution_count": 25,
      "outputs": [
        {
          "output_type": "execute_result",
          "data": {
            "text/html": [
              "<div>\n",
              "<style scoped>\n",
              "    .dataframe tbody tr th:only-of-type {\n",
              "        vertical-align: middle;\n",
              "    }\n",
              "\n",
              "    .dataframe tbody tr th {\n",
              "        vertical-align: top;\n",
              "    }\n",
              "\n",
              "    .dataframe thead th {\n",
              "        text-align: right;\n",
              "    }\n",
              "</style>\n",
              "<table border=\"1\" class=\"dataframe\">\n",
              "  <thead>\n",
              "    <tr style=\"text-align: right;\">\n",
              "      <th></th>\n",
              "      <th>0</th>\n",
              "      <th>1</th>\n",
              "      <th>2</th>\n",
              "      <th>3</th>\n",
              "      <th>4</th>\n",
              "      <th>5</th>\n",
              "      <th>6</th>\n",
              "      <th>7</th>\n",
              "      <th>8</th>\n",
              "      <th>9</th>\n",
              "      <th>10</th>\n",
              "      <th>11</th>\n",
              "      <th>12</th>\n",
              "      <th>13</th>\n",
              "      <th>14</th>\n",
              "      <th>15</th>\n",
              "      <th>16</th>\n",
              "      <th>17</th>\n",
              "      <th>18</th>\n",
              "      <th>19</th>\n",
              "      <th>20</th>\n",
              "      <th>21</th>\n",
              "      <th>22</th>\n",
              "      <th>23</th>\n",
              "      <th>24</th>\n",
              "    </tr>\n",
              "  </thead>\n",
              "  <tbody>\n",
              "    <tr>\n",
              "      <th>title</th>\n",
              "      <td>Annihilation</td>\n",
              "      <td>The Commuter</td>\n",
              "      <td>Insidious: The Last Key</td>\n",
              "      <td>Isle of Dogs</td>\n",
              "      <td>The Clapper</td>\n",
              "      <td>Tom Segura: Disgraceful</td>\n",
              "      <td>When We First Met</td>\n",
              "      <td>The Cloverfield Paradox</td>\n",
              "      <td>Fred Armisen: Standup for Drummers</td>\n",
              "      <td>A Wrinkle in Time</td>\n",
              "      <td>Love, Simon</td>\n",
              "      <td>A Quiet Place</td>\n",
              "      <td>Alpha</td>\n",
              "      <td>I Kill Giants</td>\n",
              "      <td>Blockers</td>\n",
              "      <td>Won't You Be My Neighbor?</td>\n",
              "      <td>Sorry to Bother You</td>\n",
              "      <td>Dogman</td>\n",
              "      <td>Mamma Mia: Here We Go Again!</td>\n",
              "      <td>Tag</td>\n",
              "      <td>The Man Who Killed Don Quixote</td>\n",
              "      <td>Boundaries</td>\n",
              "      <td>Spiral</td>\n",
              "      <td>BlacKkKlansman</td>\n",
              "      <td>The Darkest Minds</td>\n",
              "    </tr>\n",
              "    <tr>\n",
              "      <th>genres</th>\n",
              "      <td>Adventure|Mystery|Sci-Fi|Thriller</td>\n",
              "      <td>Crime|Drama|Mystery|Thriller</td>\n",
              "      <td>Horror|Mystery|Thriller</td>\n",
              "      <td>Animation|Comedy</td>\n",
              "      <td>Comedy</td>\n",
              "      <td>Comedy</td>\n",
              "      <td>Comedy</td>\n",
              "      <td>Horror|Mystery|Sci-Fi|Thriller</td>\n",
              "      <td>Comedy</td>\n",
              "      <td>Adventure|Children|Fantasy|Sci-Fi</td>\n",
              "      <td>Comedy|Drama</td>\n",
              "      <td>Drama|Horror|Thriller</td>\n",
              "      <td>Adventure|Thriller</td>\n",
              "      <td>Drama|Fantasy|Thriller</td>\n",
              "      <td>Comedy</td>\n",
              "      <td>Documentary</td>\n",
              "      <td>Comedy|Fantasy|Sci-Fi</td>\n",
              "      <td>Crime|Drama</td>\n",
              "      <td>Comedy|Romance</td>\n",
              "      <td>Comedy</td>\n",
              "      <td>Adventure|Comedy|Fantasy</td>\n",
              "      <td>Comedy|Drama</td>\n",
              "      <td>Documentary</td>\n",
              "      <td>Comedy|Crime|Drama</td>\n",
              "      <td>Sci-Fi|Thriller</td>\n",
              "    </tr>\n",
              "  </tbody>\n",
              "</table>\n",
              "</div>"
            ],
            "text/plain": [
              "                                        0                             1                        2                 3            4                        5                  6                               7                                   8                                  9            10                     11                  12                      13        14                         15                     16           17                            18      19                              20            21           22                  23                 24\n",
              "title                        Annihilation                  The Commuter  Insidious: The Last Key      Isle of Dogs  The Clapper  Tom Segura: Disgraceful  When We First Met         The Cloverfield Paradox  Fred Armisen: Standup for Drummers                  A Wrinkle in Time   Love, Simon          A Quiet Place               Alpha           I Kill Giants  Blockers  Won't You Be My Neighbor?    Sorry to Bother You       Dogman  Mamma Mia: Here We Go Again!     Tag  The Man Who Killed Don Quixote    Boundaries       Spiral      BlacKkKlansman  The Darkest Minds\n",
              "genres  Adventure|Mystery|Sci-Fi|Thriller  Crime|Drama|Mystery|Thriller  Horror|Mystery|Thriller  Animation|Comedy       Comedy                   Comedy             Comedy  Horror|Mystery|Sci-Fi|Thriller                              Comedy  Adventure|Children|Fantasy|Sci-Fi  Comedy|Drama  Drama|Horror|Thriller  Adventure|Thriller  Drama|Fantasy|Thriller    Comedy                Documentary  Comedy|Fantasy|Sci-Fi  Crime|Drama                Comedy|Romance  Comedy        Adventure|Comedy|Fantasy  Comedy|Drama  Documentary  Comedy|Crime|Drama    Sci-Fi|Thriller"
            ]
          },
          "metadata": {
            "tags": []
          },
          "execution_count": 25
        }
      ]
    },
    {
      "cell_type": "code",
      "metadata": {
        "id": "4_6hYhnnrdxv",
        "colab_type": "code",
        "outputId": "9299875b-d0dc-4529-9c4d-32181359f50a",
        "colab": {
          "base_uri": "https://localhost:8080/",
          "height": 0
        }
      },
      "source": [
        "db['movies'].head()"
      ],
      "execution_count": 26,
      "outputs": [
        {
          "output_type": "execute_result",
          "data": {
            "text/html": [
              "<div>\n",
              "<style scoped>\n",
              "    .dataframe tbody tr th:only-of-type {\n",
              "        vertical-align: middle;\n",
              "    }\n",
              "\n",
              "    .dataframe tbody tr th {\n",
              "        vertical-align: top;\n",
              "    }\n",
              "\n",
              "    .dataframe thead th {\n",
              "        text-align: right;\n",
              "    }\n",
              "</style>\n",
              "<table border=\"1\" class=\"dataframe\">\n",
              "  <thead>\n",
              "    <tr style=\"text-align: right;\">\n",
              "      <th></th>\n",
              "      <th>movieId</th>\n",
              "      <th>title</th>\n",
              "      <th>genres</th>\n",
              "    </tr>\n",
              "  </thead>\n",
              "  <tbody>\n",
              "    <tr>\n",
              "      <th>0</th>\n",
              "      <td>1</td>\n",
              "      <td>Toy Story (1995)</td>\n",
              "      <td>Adventure|Animation|Children|Comedy|Fantasy</td>\n",
              "    </tr>\n",
              "    <tr>\n",
              "      <th>1</th>\n",
              "      <td>2</td>\n",
              "      <td>Jumanji (1995)</td>\n",
              "      <td>Adventure|Children|Fantasy</td>\n",
              "    </tr>\n",
              "    <tr>\n",
              "      <th>2</th>\n",
              "      <td>3</td>\n",
              "      <td>Grumpier Old Men (1995)</td>\n",
              "      <td>Comedy|Romance</td>\n",
              "    </tr>\n",
              "    <tr>\n",
              "      <th>3</th>\n",
              "      <td>4</td>\n",
              "      <td>Waiting to Exhale (1995)</td>\n",
              "      <td>Comedy|Drama|Romance</td>\n",
              "    </tr>\n",
              "    <tr>\n",
              "      <th>4</th>\n",
              "      <td>5</td>\n",
              "      <td>Father of the Bride Part II (1995)</td>\n",
              "      <td>Comedy</td>\n",
              "    </tr>\n",
              "  </tbody>\n",
              "</table>\n",
              "</div>"
            ],
            "text/plain": [
              "   movieId                               title                                       genres\n",
              "0        1                    Toy Story (1995)  Adventure|Animation|Children|Comedy|Fantasy\n",
              "1        2                      Jumanji (1995)                   Adventure|Children|Fantasy\n",
              "2        3             Grumpier Old Men (1995)                               Comedy|Romance\n",
              "3        4            Waiting to Exhale (1995)                         Comedy|Drama|Romance\n",
              "4        5  Father of the Bride Part II (1995)                                       Comedy"
            ]
          },
          "metadata": {
            "tags": []
          },
          "execution_count": 26
        }
      ]
    },
    {
      "cell_type": "markdown",
      "metadata": {
        "colab_type": "text",
        "id": "wPQ0NPpGrMOU"
      },
      "source": [
        "> * **Pandas** "
      ]
    },
    {
      "cell_type": "code",
      "metadata": {
        "colab_type": "code",
        "outputId": "5495c4eb-a2a1-47f8-dac4-9bafe0968810",
        "id": "GSLh7Aj3rMOZ",
        "colab": {
          "base_uri": "https://localhost:8080/",
          "height": 0
        }
      },
      "source": [
        "table = db[table_name]\n",
        "FROM_CLAUSE = table\n",
        "\n",
        "COLUMN1, COLUMN2 = table['title'], table['genres'] \n",
        "COLUMN_LIKE1, COLUMN_LIKE2 = COLUMN1.str.contains, COLUMN2.str.contains\n",
        "\n",
        "PATTERN1, PATTERN2 = r'(2018.)$',  r'Action'\n",
        "\n",
        "WHERE_CONDITION1, WHERE_CONDITION2 = COLUMN_LIKE1(PATTERN1), ~ COLUMN_LIKE2(PATTERN2)\n",
        "WHERE_CLAUSE = (WHERE_CONDITION1 & WHERE_CONDITION2)\n",
        "SELECT_CLAUSE = ['title', 'genres']\n",
        "\n",
        "rs = FROM_CLAUSE[WHERE_CLAUSE][SELECT_CLAUSE]\n",
        "title_without_year = rs['title'].str.replace(r'(.2018.)$', '').str.strip(' ')\n",
        "genres = rs['genres']\n",
        "\n",
        "\"\"\"rs = db['movies'][(db['movies']['title'].str.contains(PATTERN1)) & \\\n",
        "                    (~ db['movies']['genres'].str.contains(PATTERN2))]\n",
        "df = pd.DataFrame([rs['title'].str.replace(r'(.2018.)$', '').str.strip(' '),\n",
        "                rs['genres']])\"\"\"\n",
        "\n",
        "pd.DataFrame([title_without_year, genres])"
      ],
      "execution_count": 27,
      "outputs": [
        {
          "output_type": "stream",
          "text": [
            "/usr/local/lib/python3.6/dist-packages/pandas/core/strings.py:1843: UserWarning: This pattern has match groups. To actually get the groups, use str.extract.\n",
            "  return func(self, *args, **kwargs)\n"
          ],
          "name": "stderr"
        },
        {
          "output_type": "execute_result",
          "data": {
            "text/html": [
              "<div>\n",
              "<style scoped>\n",
              "    .dataframe tbody tr th:only-of-type {\n",
              "        vertical-align: middle;\n",
              "    }\n",
              "\n",
              "    .dataframe tbody tr th {\n",
              "        vertical-align: top;\n",
              "    }\n",
              "\n",
              "    .dataframe thead th {\n",
              "        text-align: right;\n",
              "    }\n",
              "</style>\n",
              "<table border=\"1\" class=\"dataframe\">\n",
              "  <thead>\n",
              "    <tr style=\"text-align: right;\">\n",
              "      <th></th>\n",
              "      <th>9668</th>\n",
              "      <th>9674</th>\n",
              "      <th>9678</th>\n",
              "      <th>9683</th>\n",
              "      <th>9684</th>\n",
              "      <th>9685</th>\n",
              "      <th>9686</th>\n",
              "      <th>9689</th>\n",
              "      <th>9695</th>\n",
              "      <th>9697</th>\n",
              "      <th>9698</th>\n",
              "      <th>9699</th>\n",
              "      <th>9700</th>\n",
              "      <th>9701</th>\n",
              "      <th>9704</th>\n",
              "      <th>9711</th>\n",
              "      <th>9712</th>\n",
              "      <th>9714</th>\n",
              "      <th>9715</th>\n",
              "      <th>9716</th>\n",
              "      <th>9717</th>\n",
              "      <th>9718</th>\n",
              "      <th>9719</th>\n",
              "      <th>9723</th>\n",
              "      <th>9724</th>\n",
              "    </tr>\n",
              "  </thead>\n",
              "  <tbody>\n",
              "    <tr>\n",
              "      <th>title</th>\n",
              "      <td>Annihilation</td>\n",
              "      <td>The Commuter</td>\n",
              "      <td>Insidious: The Last Key</td>\n",
              "      <td>Isle of Dogs</td>\n",
              "      <td>The Clapper</td>\n",
              "      <td>Tom Segura: Disgraceful</td>\n",
              "      <td>When We First Met</td>\n",
              "      <td>The Cloverfield Paradox</td>\n",
              "      <td>Fred Armisen: Standup for Drummers</td>\n",
              "      <td>A Wrinkle in Time</td>\n",
              "      <td>Love, Simon</td>\n",
              "      <td>A Quiet Place</td>\n",
              "      <td>Alpha</td>\n",
              "      <td>I Kill Giants</td>\n",
              "      <td>Blockers</td>\n",
              "      <td>Won't You Be My Neighbor?</td>\n",
              "      <td>Sorry to Bother You</td>\n",
              "      <td>Dogman</td>\n",
              "      <td>Mamma Mia: Here We Go Again!</td>\n",
              "      <td>Tag</td>\n",
              "      <td>The Man Who Killed Don Quixote</td>\n",
              "      <td>Boundaries</td>\n",
              "      <td>Spiral</td>\n",
              "      <td>BlacKkKlansman</td>\n",
              "      <td>The Darkest Minds</td>\n",
              "    </tr>\n",
              "    <tr>\n",
              "      <th>genres</th>\n",
              "      <td>Adventure|Mystery|Sci-Fi|Thriller</td>\n",
              "      <td>Crime|Drama|Mystery|Thriller</td>\n",
              "      <td>Horror|Mystery|Thriller</td>\n",
              "      <td>Animation|Comedy</td>\n",
              "      <td>Comedy</td>\n",
              "      <td>Comedy</td>\n",
              "      <td>Comedy</td>\n",
              "      <td>Horror|Mystery|Sci-Fi|Thriller</td>\n",
              "      <td>Comedy</td>\n",
              "      <td>Adventure|Children|Fantasy|Sci-Fi</td>\n",
              "      <td>Comedy|Drama</td>\n",
              "      <td>Drama|Horror|Thriller</td>\n",
              "      <td>Adventure|Thriller</td>\n",
              "      <td>Drama|Fantasy|Thriller</td>\n",
              "      <td>Comedy</td>\n",
              "      <td>Documentary</td>\n",
              "      <td>Comedy|Fantasy|Sci-Fi</td>\n",
              "      <td>Crime|Drama</td>\n",
              "      <td>Comedy|Romance</td>\n",
              "      <td>Comedy</td>\n",
              "      <td>Adventure|Comedy|Fantasy</td>\n",
              "      <td>Comedy|Drama</td>\n",
              "      <td>Documentary</td>\n",
              "      <td>Comedy|Crime|Drama</td>\n",
              "      <td>Sci-Fi|Thriller</td>\n",
              "    </tr>\n",
              "  </tbody>\n",
              "</table>\n",
              "</div>"
            ],
            "text/plain": [
              "                                     9668                          9674                     9678              9683         9684                     9685               9686                            9689                                9695                               9697          9698                   9699                9700                    9701      9704                       9711                   9712         9714                          9715    9716                            9717          9718         9719                9723               9724\n",
              "title                        Annihilation                  The Commuter  Insidious: The Last Key      Isle of Dogs  The Clapper  Tom Segura: Disgraceful  When We First Met         The Cloverfield Paradox  Fred Armisen: Standup for Drummers                  A Wrinkle in Time   Love, Simon          A Quiet Place               Alpha           I Kill Giants  Blockers  Won't You Be My Neighbor?    Sorry to Bother You       Dogman  Mamma Mia: Here We Go Again!     Tag  The Man Who Killed Don Quixote    Boundaries       Spiral      BlacKkKlansman  The Darkest Minds\n",
              "genres  Adventure|Mystery|Sci-Fi|Thriller  Crime|Drama|Mystery|Thriller  Horror|Mystery|Thriller  Animation|Comedy       Comedy                   Comedy             Comedy  Horror|Mystery|Sci-Fi|Thriller                              Comedy  Adventure|Children|Fantasy|Sci-Fi  Comedy|Drama  Drama|Horror|Thriller  Adventure|Thriller  Drama|Fantasy|Thriller    Comedy                Documentary  Comedy|Fantasy|Sci-Fi  Crime|Drama                Comedy|Romance  Comedy        Adventure|Comedy|Fantasy  Comedy|Drama  Documentary  Comedy|Crime|Drama    Sci-Fi|Thriller"
            ]
          },
          "metadata": {
            "tags": []
          },
          "execution_count": 27
        }
      ]
    },
    {
      "cell_type": "code",
      "metadata": {
        "id": "Ss5D-rDtSuGD",
        "colab_type": "code",
        "outputId": "d096ae6b-576d-4283-9385-68a634431558",
        "colab": {
          "base_uri": "https://localhost:8080/",
          "height": 0
        }
      },
      "source": [
        "res = {'SQL': ['REPLACE()', 'TRIM()', 'NOT LIKE'],\n",
        "       'Pandas': [\"pd.Series.str.replace()\", \n",
        "                  'pd.Series.str.strip()', \"~ pd.Series.str.contains()\" ]}\n",
        "                                           \n",
        "pd.DataFrame(res)"
      ],
      "execution_count": 28,
      "outputs": [
        {
          "output_type": "execute_result",
          "data": {
            "text/html": [
              "<div>\n",
              "<style scoped>\n",
              "    .dataframe tbody tr th:only-of-type {\n",
              "        vertical-align: middle;\n",
              "    }\n",
              "\n",
              "    .dataframe tbody tr th {\n",
              "        vertical-align: top;\n",
              "    }\n",
              "\n",
              "    .dataframe thead th {\n",
              "        text-align: right;\n",
              "    }\n",
              "</style>\n",
              "<table border=\"1\" class=\"dataframe\">\n",
              "  <thead>\n",
              "    <tr style=\"text-align: right;\">\n",
              "      <th></th>\n",
              "      <th>SQL</th>\n",
              "      <th>Pandas</th>\n",
              "    </tr>\n",
              "  </thead>\n",
              "  <tbody>\n",
              "    <tr>\n",
              "      <th>0</th>\n",
              "      <td>REPLACE()</td>\n",
              "      <td>pd.Series.str.replace()</td>\n",
              "    </tr>\n",
              "    <tr>\n",
              "      <th>1</th>\n",
              "      <td>TRIM()</td>\n",
              "      <td>pd.Series.str.strip()</td>\n",
              "    </tr>\n",
              "    <tr>\n",
              "      <th>2</th>\n",
              "      <td>NOT LIKE</td>\n",
              "      <td>~ pd.Series.str.contains()</td>\n",
              "    </tr>\n",
              "  </tbody>\n",
              "</table>\n",
              "</div>"
            ],
            "text/plain": [
              "         SQL                      Pandas\n",
              "0  REPLACE()     pd.Series.str.replace()\n",
              "1     TRIM()       pd.Series.str.strip()\n",
              "2   NOT LIKE  ~ pd.Series.str.contains()"
            ]
          },
          "metadata": {
            "tags": []
          },
          "execution_count": 28
        }
      ]
    },
    {
      "cell_type": "markdown",
      "metadata": {
        "id": "m0MwOrb1V2TJ",
        "colab_type": "text"
      },
      "source": [
        "### Query 18: Find all the releases of 'Pirates of the Caribbean' using `INSTR()`"
      ]
    },
    {
      "cell_type": "markdown",
      "metadata": {
        "colab_type": "text",
        "id": "dDnpb49TsBcB"
      },
      "source": [
        "> * **SQL** "
      ]
    },
    {
      "cell_type": "code",
      "metadata": {
        "colab_type": "code",
        "id": "HZLyAvPvsBcL",
        "colab": {}
      },
      "source": [
        "table_name = 'movies'"
      ],
      "execution_count": 0,
      "outputs": []
    },
    {
      "cell_type": "code",
      "metadata": {
        "id": "hXqaxPGWRh9c",
        "colab_type": "code",
        "outputId": "c23eda98-6b82-405b-b792-dc896431876f",
        "colab": {
          "base_uri": "https://localhost:8080/",
          "height": 0
        }
      },
      "source": [
        "rs = con.execute(f'''SELECT title\n",
        "                     FROM {table_name}         \n",
        "                     WHERE INSTR(LOWER(title), \n",
        "                           LOWER(\"Pirates of the Caribbean\")) > 0                 \n",
        "                     ''')\n",
        "\n",
        "pd.DataFrame(rs.fetchall(), columns=['title'])"
      ],
      "execution_count": 30,
      "outputs": [
        {
          "output_type": "execute_result",
          "data": {
            "text/html": [
              "<div>\n",
              "<style scoped>\n",
              "    .dataframe tbody tr th:only-of-type {\n",
              "        vertical-align: middle;\n",
              "    }\n",
              "\n",
              "    .dataframe tbody tr th {\n",
              "        vertical-align: top;\n",
              "    }\n",
              "\n",
              "    .dataframe thead th {\n",
              "        text-align: right;\n",
              "    }\n",
              "</style>\n",
              "<table border=\"1\" class=\"dataframe\">\n",
              "  <thead>\n",
              "    <tr style=\"text-align: right;\">\n",
              "      <th></th>\n",
              "      <th>title</th>\n",
              "    </tr>\n",
              "  </thead>\n",
              "  <tbody>\n",
              "    <tr>\n",
              "      <th>0</th>\n",
              "      <td>Pirates of the Caribbean: The Curse of the Black Pearl (2003)</td>\n",
              "    </tr>\n",
              "    <tr>\n",
              "      <th>1</th>\n",
              "      <td>Pirates of the Caribbean: Dead Man's Chest (2006)</td>\n",
              "    </tr>\n",
              "    <tr>\n",
              "      <th>2</th>\n",
              "      <td>Pirates of the Caribbean: At World's End (2007)</td>\n",
              "    </tr>\n",
              "    <tr>\n",
              "      <th>3</th>\n",
              "      <td>Pirates of the Caribbean: On Stranger Tides (2011)</td>\n",
              "    </tr>\n",
              "    <tr>\n",
              "      <th>4</th>\n",
              "      <td>Pirates of the Caribbean: Dead Men Tell No Tales (2017)</td>\n",
              "    </tr>\n",
              "  </tbody>\n",
              "</table>\n",
              "</div>"
            ],
            "text/plain": [
              "                                                           title\n",
              "0  Pirates of the Caribbean: The Curse of the Black Pearl (2003)\n",
              "1              Pirates of the Caribbean: Dead Man's Chest (2006)\n",
              "2                Pirates of the Caribbean: At World's End (2007)\n",
              "3             Pirates of the Caribbean: On Stranger Tides (2011)\n",
              "4        Pirates of the Caribbean: Dead Men Tell No Tales (2017)"
            ]
          },
          "metadata": {
            "tags": []
          },
          "execution_count": 30
        }
      ]
    },
    {
      "cell_type": "code",
      "metadata": {
        "id": "_3zU3z6M0tsA",
        "colab_type": "code",
        "outputId": "c7b3ea26-f45c-4fcf-8ed1-cbafc03a1b1f",
        "colab": {
          "base_uri": "https://localhost:8080/",
          "height": 0
        }
      },
      "source": [
        "rs = con.execute(f'''SELECT INSTR('SQLite Tutorial','lutorial') position''').fetchall()\n",
        "rs"
      ],
      "execution_count": 31,
      "outputs": [
        {
          "output_type": "execute_result",
          "data": {
            "text/plain": [
              "[(0,)]"
            ]
          },
          "metadata": {
            "tags": []
          },
          "execution_count": 31
        }
      ]
    },
    {
      "cell_type": "markdown",
      "metadata": {
        "colab_type": "text",
        "id": "WzF-zo6hsHE-"
      },
      "source": [
        "> * **Pandas** "
      ]
    },
    {
      "cell_type": "code",
      "metadata": {
        "id": "5Mf6fd1eabDk",
        "colab_type": "code",
        "outputId": "84ce42b8-b1a7-4885-a522-6691c871210f",
        "colab": {
          "base_uri": "https://localhost:8080/",
          "height": 0
        }
      },
      "source": [
        "table = db[table_name]\n",
        "FROM_CLAUSE = table\n",
        "\n",
        "COLUMN = table['title']\n",
        "COLUMN_LOWER = COLUMN.str.lower()\n",
        "COLUMN_LOWER_INSTR = COLUMN_LOWER.str.find\n",
        "LOWER_STRING = 'Pirates of the Caribbean'.lower()\n",
        "\n",
        "WHERE_CLAUSE = (COLUMN_LOWER_INSTR(LOWER_STRING) >= 0)\n",
        "\n",
        "SELECT_CLAUSE = ['title']\n",
        "\n",
        "# db['movies'][db['movies']['title'].str.lower().str.find( \\\n",
        "#                    'Pirates of the Caribbean'.lower()) >= 0][['title']]\n",
        "rs = FROM_CLAUSE[WHERE_CLAUSE][SELECT_CLAUSE]\n",
        "\n",
        "pd.DataFrame(rs)"
      ],
      "execution_count": 32,
      "outputs": [
        {
          "output_type": "execute_result",
          "data": {
            "text/html": [
              "<div>\n",
              "<style scoped>\n",
              "    .dataframe tbody tr th:only-of-type {\n",
              "        vertical-align: middle;\n",
              "    }\n",
              "\n",
              "    .dataframe tbody tr th {\n",
              "        vertical-align: top;\n",
              "    }\n",
              "\n",
              "    .dataframe thead th {\n",
              "        text-align: right;\n",
              "    }\n",
              "</style>\n",
              "<table border=\"1\" class=\"dataframe\">\n",
              "  <thead>\n",
              "    <tr style=\"text-align: right;\">\n",
              "      <th></th>\n",
              "      <th>title</th>\n",
              "    </tr>\n",
              "  </thead>\n",
              "  <tbody>\n",
              "    <tr>\n",
              "      <th>4427</th>\n",
              "      <td>Pirates of the Caribbean: The Curse of the Black Pearl (2003)</td>\n",
              "    </tr>\n",
              "    <tr>\n",
              "      <th>6221</th>\n",
              "      <td>Pirates of the Caribbean: Dead Man's Chest (2006)</td>\n",
              "    </tr>\n",
              "    <tr>\n",
              "      <th>6488</th>\n",
              "      <td>Pirates of the Caribbean: At World's End (2007)</td>\n",
              "    </tr>\n",
              "    <tr>\n",
              "      <th>7608</th>\n",
              "      <td>Pirates of the Caribbean: On Stranger Tides (2011)</td>\n",
              "    </tr>\n",
              "    <tr>\n",
              "      <th>8687</th>\n",
              "      <td>Pirates of the Caribbean: Dead Men Tell No Tales (2017)</td>\n",
              "    </tr>\n",
              "  </tbody>\n",
              "</table>\n",
              "</div>"
            ],
            "text/plain": [
              "                                                              title\n",
              "4427  Pirates of the Caribbean: The Curse of the Black Pearl (2003)\n",
              "6221              Pirates of the Caribbean: Dead Man's Chest (2006)\n",
              "6488                Pirates of the Caribbean: At World's End (2007)\n",
              "7608             Pirates of the Caribbean: On Stranger Tides (2011)\n",
              "8687        Pirates of the Caribbean: Dead Men Tell No Tales (2017)"
            ]
          },
          "metadata": {
            "tags": []
          },
          "execution_count": 32
        }
      ]
    },
    {
      "cell_type": "markdown",
      "metadata": {
        "id": "DcQfD8od9opz",
        "colab_type": "text"
      },
      "source": [
        "* **Certain Points to be Considered**\n",
        "    1. We can get index of a substring using both pd.Series.str.index() and pd.Series.str.find(). The difference is that the former will return **ValueError: substring not found** and later will return **-1** if substring is not found.\n",
        "    2. SQL index will start from 1 and Pandas index will start from 0.\n",
        "    > **SQL** - `INSTR('ABC', 'A')` -> 1\n",
        "\n",
        "    > **Python** - `pd.Series(['ABC']).str.index('A')` -> 0"
      ]
    },
    {
      "cell_type": "markdown",
      "metadata": {
        "colab_type": "text",
        "id": "YjgxiJAWC4GE"
      },
      "source": [
        "### Query 19: Find all the tag of length greater than 40 using `LENGTH`"
      ]
    },
    {
      "cell_type": "markdown",
      "metadata": {
        "colab_type": "text",
        "id": "OM7uDwUxC4GN"
      },
      "source": [
        "> * **SQL** "
      ]
    },
    {
      "cell_type": "code",
      "metadata": {
        "colab_type": "code",
        "id": "vZV9q7OxC4GP",
        "colab": {}
      },
      "source": [
        "table_name = 'tags'"
      ],
      "execution_count": 0,
      "outputs": []
    },
    {
      "cell_type": "code",
      "metadata": {
        "colab_type": "code",
        "outputId": "1d1a648a-2dd9-43ba-ea6d-4c558fe4924b",
        "id": "cVrtP6p8C4Gc",
        "colab": {
          "base_uri": "https://localhost:8080/",
          "height": 0
        }
      },
      "source": [
        "rs = con.execute(f'''SELECT DISTINCT tag, LENGTH(tag) AS length\n",
        "                     FROM {table_name} \n",
        "                     WHERE LENGTH(tag) > 40 \n",
        "                     ORDER BY length DESC\n",
        "                     ''')\n",
        "\n",
        "pd.DataFrame(rs.fetchall(), columns=['tag', 'length'])"
      ],
      "execution_count": 34,
      "outputs": [
        {
          "output_type": "execute_result",
          "data": {
            "text/html": [
              "<div>\n",
              "<style scoped>\n",
              "    .dataframe tbody tr th:only-of-type {\n",
              "        vertical-align: middle;\n",
              "    }\n",
              "\n",
              "    .dataframe tbody tr th {\n",
              "        vertical-align: top;\n",
              "    }\n",
              "\n",
              "    .dataframe thead th {\n",
              "        text-align: right;\n",
              "    }\n",
              "</style>\n",
              "<table border=\"1\" class=\"dataframe\">\n",
              "  <thead>\n",
              "    <tr style=\"text-align: right;\">\n",
              "      <th></th>\n",
              "      <th>tag</th>\n",
              "      <th>length</th>\n",
              "    </tr>\n",
              "  </thead>\n",
              "  <tbody>\n",
              "    <tr>\n",
              "      <th>0</th>\n",
              "      <td>Something for everyone in this one... saw it without and plan on seeing it with kids!</td>\n",
              "      <td>85</td>\n",
              "    </tr>\n",
              "    <tr>\n",
              "      <th>1</th>\n",
              "      <td>the catholic church is the most corrupt organization in history</td>\n",
              "      <td>63</td>\n",
              "    </tr>\n",
              "    <tr>\n",
              "      <th>2</th>\n",
              "      <td>villain nonexistent or not needed for good story</td>\n",
              "      <td>48</td>\n",
              "    </tr>\n",
              "    <tr>\n",
              "      <th>3</th>\n",
              "      <td>r:disturbing violent content including rape</td>\n",
              "      <td>43</td>\n",
              "    </tr>\n",
              "    <tr>\n",
              "      <th>4</th>\n",
              "      <td>06 Oscar Nominated Best Movie - Animation</td>\n",
              "      <td>41</td>\n",
              "    </tr>\n",
              "  </tbody>\n",
              "</table>\n",
              "</div>"
            ],
            "text/plain": [
              "                                                                                     tag  length\n",
              "0  Something for everyone in this one... saw it without and plan on seeing it with kids!      85\n",
              "1                        the catholic church is the most corrupt organization in history      63\n",
              "2                                       villain nonexistent or not needed for good story      48\n",
              "3                                            r:disturbing violent content including rape      43\n",
              "4                                              06 Oscar Nominated Best Movie - Animation      41"
            ]
          },
          "metadata": {
            "tags": []
          },
          "execution_count": 34
        }
      ]
    },
    {
      "cell_type": "markdown",
      "metadata": {
        "colab_type": "text",
        "id": "yCCdAmO1C4Gp"
      },
      "source": [
        "> * **Pandas** "
      ]
    },
    {
      "cell_type": "code",
      "metadata": {
        "id": "N1j8abM4qKQ2",
        "colab_type": "code",
        "outputId": "d77efe92-914e-44d7-eaf0-0f3c7643dbe0",
        "colab": {
          "base_uri": "https://localhost:8080/",
          "height": 0
        }
      },
      "source": [
        "table = db[table_name]\n",
        "FROM_CLAUSE = table\n",
        "\n",
        "WHERE_CONDITION = (table['tag'].str.len() > 40)\n",
        "WHERE_CLAUSE = WHERE_CONDITION\n",
        "\n",
        "DISTINCT = pd.Series.unique\n",
        "\n",
        "tag = pd.Series(DISTINCT(FROM_CLAUSE[WHERE_CLAUSE]['tag']))\n",
        "\n",
        "# find the length of each tag\n",
        "tag_len = tag.str.len()\n",
        "rs = pd.DataFrame({'tag': tag, 'length': tag_len})\n",
        "\n",
        "# sorting\n",
        "ORDER_BY = pd.DataFrame.sort_values\n",
        "rs = ORDER_BY(rs, 'length', ascending=False)\n",
        "rs"
      ],
      "execution_count": 35,
      "outputs": [
        {
          "output_type": "execute_result",
          "data": {
            "text/html": [
              "<div>\n",
              "<style scoped>\n",
              "    .dataframe tbody tr th:only-of-type {\n",
              "        vertical-align: middle;\n",
              "    }\n",
              "\n",
              "    .dataframe tbody tr th {\n",
              "        vertical-align: top;\n",
              "    }\n",
              "\n",
              "    .dataframe thead th {\n",
              "        text-align: right;\n",
              "    }\n",
              "</style>\n",
              "<table border=\"1\" class=\"dataframe\">\n",
              "  <thead>\n",
              "    <tr style=\"text-align: right;\">\n",
              "      <th></th>\n",
              "      <th>tag</th>\n",
              "      <th>length</th>\n",
              "    </tr>\n",
              "  </thead>\n",
              "  <tbody>\n",
              "    <tr>\n",
              "      <th>0</th>\n",
              "      <td>Something for everyone in this one... saw it without and plan on seeing it with kids!</td>\n",
              "      <td>85</td>\n",
              "    </tr>\n",
              "    <tr>\n",
              "      <th>1</th>\n",
              "      <td>the catholic church is the most corrupt organization in history</td>\n",
              "      <td>63</td>\n",
              "    </tr>\n",
              "    <tr>\n",
              "      <th>3</th>\n",
              "      <td>villain nonexistent or not needed for good story</td>\n",
              "      <td>48</td>\n",
              "    </tr>\n",
              "    <tr>\n",
              "      <th>4</th>\n",
              "      <td>r:disturbing violent content including rape</td>\n",
              "      <td>43</td>\n",
              "    </tr>\n",
              "    <tr>\n",
              "      <th>2</th>\n",
              "      <td>06 Oscar Nominated Best Movie - Animation</td>\n",
              "      <td>41</td>\n",
              "    </tr>\n",
              "  </tbody>\n",
              "</table>\n",
              "</div>"
            ],
            "text/plain": [
              "                                                                                     tag  length\n",
              "0  Something for everyone in this one... saw it without and plan on seeing it with kids!      85\n",
              "1                        the catholic church is the most corrupt organization in history      63\n",
              "3                                       villain nonexistent or not needed for good story      48\n",
              "4                                            r:disturbing violent content including rape      43\n",
              "2                                              06 Oscar Nominated Best Movie - Animation      41"
            ]
          },
          "metadata": {
            "tags": []
          },
          "execution_count": 35
        }
      ]
    },
    {
      "cell_type": "code",
      "metadata": {
        "id": "fFo18WS1Gec-",
        "colab_type": "code",
        "outputId": "792c13d7-63be-4c97-f2c0-e15ae977435f",
        "colab": {
          "base_uri": "https://localhost:8080/",
          "height": 0
        }
      },
      "source": [
        "tag = pd.Series.unique(db['tags'][db['tags']['tag'].str.len() > 40]['tag'])\n",
        "tag_len = list(map(len, tag))\n",
        "pd.DataFrame({'tag': tag, 'length': tag_len}).sort_values('length', \n",
        "                                                          ascending=False)"
      ],
      "execution_count": 36,
      "outputs": [
        {
          "output_type": "execute_result",
          "data": {
            "text/html": [
              "<div>\n",
              "<style scoped>\n",
              "    .dataframe tbody tr th:only-of-type {\n",
              "        vertical-align: middle;\n",
              "    }\n",
              "\n",
              "    .dataframe tbody tr th {\n",
              "        vertical-align: top;\n",
              "    }\n",
              "\n",
              "    .dataframe thead th {\n",
              "        text-align: right;\n",
              "    }\n",
              "</style>\n",
              "<table border=\"1\" class=\"dataframe\">\n",
              "  <thead>\n",
              "    <tr style=\"text-align: right;\">\n",
              "      <th></th>\n",
              "      <th>tag</th>\n",
              "      <th>length</th>\n",
              "    </tr>\n",
              "  </thead>\n",
              "  <tbody>\n",
              "    <tr>\n",
              "      <th>0</th>\n",
              "      <td>Something for everyone in this one... saw it without and plan on seeing it with kids!</td>\n",
              "      <td>85</td>\n",
              "    </tr>\n",
              "    <tr>\n",
              "      <th>1</th>\n",
              "      <td>the catholic church is the most corrupt organization in history</td>\n",
              "      <td>63</td>\n",
              "    </tr>\n",
              "    <tr>\n",
              "      <th>3</th>\n",
              "      <td>villain nonexistent or not needed for good story</td>\n",
              "      <td>48</td>\n",
              "    </tr>\n",
              "    <tr>\n",
              "      <th>4</th>\n",
              "      <td>r:disturbing violent content including rape</td>\n",
              "      <td>43</td>\n",
              "    </tr>\n",
              "    <tr>\n",
              "      <th>2</th>\n",
              "      <td>06 Oscar Nominated Best Movie - Animation</td>\n",
              "      <td>41</td>\n",
              "    </tr>\n",
              "  </tbody>\n",
              "</table>\n",
              "</div>"
            ],
            "text/plain": [
              "                                                                                     tag  length\n",
              "0  Something for everyone in this one... saw it without and plan on seeing it with kids!      85\n",
              "1                        the catholic church is the most corrupt organization in history      63\n",
              "3                                       villain nonexistent or not needed for good story      48\n",
              "4                                            r:disturbing violent content including rape      43\n",
              "2                                              06 Oscar Nominated Best Movie - Animation      41"
            ]
          },
          "metadata": {
            "tags": []
          },
          "execution_count": 36
        }
      ]
    },
    {
      "cell_type": "markdown",
      "metadata": {
        "colab_type": "text",
        "id": "y48AlvVsvq8T"
      },
      "source": [
        "### Query 20: Display all parts of 'Mission Impossible' movie series. - `SUBSTR`"
      ]
    },
    {
      "cell_type": "markdown",
      "metadata": {
        "colab_type": "text",
        "id": "CJDjOQfpvq8k"
      },
      "source": [
        "> * **SQL** "
      ]
    },
    {
      "cell_type": "code",
      "metadata": {
        "id": "Khu5L0Duu5gA",
        "colab_type": "code",
        "colab": {}
      },
      "source": [
        "table_name = 'movies'"
      ],
      "execution_count": 0,
      "outputs": []
    },
    {
      "cell_type": "code",
      "metadata": {
        "id": "7xdCeG3qFoR9",
        "colab_type": "code",
        "outputId": "43d08a54-273b-43e3-87c6-cc357be2b4f0",
        "colab": {
          "base_uri": "https://localhost:8080/",
          "height": 0
        }
      },
      "source": [
        "# -(SELECT MAX(LENGTH(title)))+6\n",
        "rs = con.execute(f'''SELECT SUBSTR(title, -6, (SELECT 6-MAX(LENGTH(title)) FROM {table_name}))\n",
        "                    FROM {table_name} ''')\n",
        "pd.DataFrame(rs.fetchall())"
      ],
      "execution_count": 38,
      "outputs": [
        {
          "output_type": "execute_result",
          "data": {
            "text/html": [
              "<div>\n",
              "<style scoped>\n",
              "    .dataframe tbody tr th:only-of-type {\n",
              "        vertical-align: middle;\n",
              "    }\n",
              "\n",
              "    .dataframe tbody tr th {\n",
              "        vertical-align: top;\n",
              "    }\n",
              "\n",
              "    .dataframe thead th {\n",
              "        text-align: right;\n",
              "    }\n",
              "</style>\n",
              "<table border=\"1\" class=\"dataframe\">\n",
              "  <thead>\n",
              "    <tr style=\"text-align: right;\">\n",
              "      <th></th>\n",
              "      <th>0</th>\n",
              "    </tr>\n",
              "  </thead>\n",
              "  <tbody>\n",
              "    <tr>\n",
              "      <th>0</th>\n",
              "      <td>Toy Story</td>\n",
              "    </tr>\n",
              "    <tr>\n",
              "      <th>1</th>\n",
              "      <td>Jumanji</td>\n",
              "    </tr>\n",
              "    <tr>\n",
              "      <th>2</th>\n",
              "      <td>Grumpier Old Men</td>\n",
              "    </tr>\n",
              "    <tr>\n",
              "      <th>3</th>\n",
              "      <td>Waiting to Exhale</td>\n",
              "    </tr>\n",
              "    <tr>\n",
              "      <th>4</th>\n",
              "      <td>Father of the Bride Part II</td>\n",
              "    </tr>\n",
              "    <tr>\n",
              "      <th>...</th>\n",
              "      <td>...</td>\n",
              "    </tr>\n",
              "    <tr>\n",
              "      <th>9737</th>\n",
              "      <td>Black Butler: Book of the Atlantic</td>\n",
              "    </tr>\n",
              "    <tr>\n",
              "      <th>9738</th>\n",
              "      <td>No Game No Life: Zero</td>\n",
              "    </tr>\n",
              "    <tr>\n",
              "      <th>9739</th>\n",
              "      <td>Flint</td>\n",
              "    </tr>\n",
              "    <tr>\n",
              "      <th>9740</th>\n",
              "      <td>Bungo Stray Dogs: Dead Apple</td>\n",
              "    </tr>\n",
              "    <tr>\n",
              "      <th>9741</th>\n",
              "      <td>Andrew Dice Clay: Dice Rules</td>\n",
              "    </tr>\n",
              "  </tbody>\n",
              "</table>\n",
              "<p>9742 rows × 1 columns</p>\n",
              "</div>"
            ],
            "text/plain": [
              "                                        0\n",
              "0                              Toy Story \n",
              "1                                Jumanji \n",
              "2                       Grumpier Old Men \n",
              "3                      Waiting to Exhale \n",
              "4            Father of the Bride Part II \n",
              "...                                   ...\n",
              "9737  Black Butler: Book of the Atlantic \n",
              "9738               No Game No Life: Zero \n",
              "9739                               Flint \n",
              "9740        Bungo Stray Dogs: Dead Apple \n",
              "9741        Andrew Dice Clay: Dice Rules \n",
              "\n",
              "[9742 rows x 1 columns]"
            ]
          },
          "metadata": {
            "tags": []
          },
          "execution_count": 38
        }
      ]
    },
    {
      "cell_type": "code",
      "metadata": {
        "colab_type": "code",
        "outputId": "910ec03b-0d6e-4f30-b609-3d010b0f5c1b",
        "id": "pWuAdzNIC4Gu",
        "colab": {
          "base_uri": "https://localhost:8080/",
          "height": 0
        }
      },
      "source": [
        "rs = con.execute(f'''SELECT SUBSTR(title, LENGTH(\"Mission: Impossible\")+1)\n",
        "                     FROM {table_name}    \n",
        "                     WHERE title LIKE \"Mission: Impossible%\"   \n",
        "                     ''')\n",
        "\n",
        "pd.DataFrame(rs.fetchall(), columns=['part'])"
      ],
      "execution_count": 39,
      "outputs": [
        {
          "output_type": "execute_result",
          "data": {
            "text/html": [
              "<div>\n",
              "<style scoped>\n",
              "    .dataframe tbody tr th:only-of-type {\n",
              "        vertical-align: middle;\n",
              "    }\n",
              "\n",
              "    .dataframe tbody tr th {\n",
              "        vertical-align: top;\n",
              "    }\n",
              "\n",
              "    .dataframe thead th {\n",
              "        text-align: right;\n",
              "    }\n",
              "</style>\n",
              "<table border=\"1\" class=\"dataframe\">\n",
              "  <thead>\n",
              "    <tr style=\"text-align: right;\">\n",
              "      <th></th>\n",
              "      <th>part</th>\n",
              "    </tr>\n",
              "  </thead>\n",
              "  <tbody>\n",
              "    <tr>\n",
              "      <th>0</th>\n",
              "      <td>(1996)</td>\n",
              "    </tr>\n",
              "    <tr>\n",
              "      <th>1</th>\n",
              "      <td>II (2000)</td>\n",
              "    </tr>\n",
              "    <tr>\n",
              "      <th>2</th>\n",
              "      <td>III (2006)</td>\n",
              "    </tr>\n",
              "    <tr>\n",
              "      <th>3</th>\n",
              "      <td>- Ghost Protocol (2011)</td>\n",
              "    </tr>\n",
              "    <tr>\n",
              "      <th>4</th>\n",
              "      <td>- Rogue Nation (2015)</td>\n",
              "    </tr>\n",
              "    <tr>\n",
              "      <th>5</th>\n",
              "      <td>- Fallout (2018)</td>\n",
              "    </tr>\n",
              "  </tbody>\n",
              "</table>\n",
              "</div>"
            ],
            "text/plain": [
              "                       part\n",
              "0                    (1996)\n",
              "1                 II (2000)\n",
              "2                III (2006)\n",
              "3   - Ghost Protocol (2011)\n",
              "4     - Rogue Nation (2015)\n",
              "5          - Fallout (2018)"
            ]
          },
          "metadata": {
            "tags": []
          },
          "execution_count": 39
        }
      ]
    },
    {
      "cell_type": "markdown",
      "metadata": {
        "colab_type": "text",
        "id": "B6vhrMg8wbQv"
      },
      "source": [
        "> * **Pandas** "
      ]
    },
    {
      "cell_type": "code",
      "metadata": {
        "id": "W6OfZyuGj57f",
        "colab_type": "code",
        "outputId": "68df0899-6cdc-4668-fcbd-a8f7de4b605c",
        "colab": {
          "base_uri": "https://localhost:8080/",
          "height": 0
        }
      },
      "source": [
        "table = db[table_name]\n",
        "FROM_CLAUSE = table\n",
        "SELECT_CLAUSE = 'title'\n",
        "\n",
        "WHERE_CONDITION = (table['title'].str.contains(\"Mission: Impossible\"))\n",
        "WHERE_CLAUSE = WHERE_CONDITION\n",
        "\n",
        "title = FROM_CLAUSE[WHERE_CLAUSE][SELECT_CLAUSE]\n",
        "\n",
        "# find the part of the movie\n",
        "parts = title.str.slice(len(\"Mission: Impossible\"))\n",
        "pd.DataFrame({'part': parts})"
      ],
      "execution_count": 40,
      "outputs": [
        {
          "output_type": "execute_result",
          "data": {
            "text/html": [
              "<div>\n",
              "<style scoped>\n",
              "    .dataframe tbody tr th:only-of-type {\n",
              "        vertical-align: middle;\n",
              "    }\n",
              "\n",
              "    .dataframe tbody tr th {\n",
              "        vertical-align: top;\n",
              "    }\n",
              "\n",
              "    .dataframe thead th {\n",
              "        text-align: right;\n",
              "    }\n",
              "</style>\n",
              "<table border=\"1\" class=\"dataframe\">\n",
              "  <thead>\n",
              "    <tr style=\"text-align: right;\">\n",
              "      <th></th>\n",
              "      <th>part</th>\n",
              "    </tr>\n",
              "  </thead>\n",
              "  <tbody>\n",
              "    <tr>\n",
              "      <th>546</th>\n",
              "      <td>(1996)</td>\n",
              "    </tr>\n",
              "    <tr>\n",
              "      <th>2700</th>\n",
              "      <td>II (2000)</td>\n",
              "    </tr>\n",
              "    <tr>\n",
              "      <th>6199</th>\n",
              "      <td>III (2006)</td>\n",
              "    </tr>\n",
              "    <tr>\n",
              "      <th>7774</th>\n",
              "      <td>- Ghost Protocol (2011)</td>\n",
              "    </tr>\n",
              "    <tr>\n",
              "      <th>8439</th>\n",
              "      <td>- Rogue Nation (2015)</td>\n",
              "    </tr>\n",
              "    <tr>\n",
              "      <th>9720</th>\n",
              "      <td>- Fallout (2018)</td>\n",
              "    </tr>\n",
              "  </tbody>\n",
              "</table>\n",
              "</div>"
            ],
            "text/plain": [
              "                          part\n",
              "546                     (1996)\n",
              "2700                 II (2000)\n",
              "6199                III (2006)\n",
              "7774   - Ghost Protocol (2011)\n",
              "8439     - Rogue Nation (2015)\n",
              "9720          - Fallout (2018)"
            ]
          },
          "metadata": {
            "tags": []
          },
          "execution_count": 40
        }
      ]
    },
    {
      "cell_type": "markdown",
      "metadata": {
        "id": "cRK3kK-H3dUS",
        "colab_type": "text"
      },
      "source": [
        "\n",
        "---\n",
        "---"
      ]
    },
    {
      "cell_type": "code",
      "metadata": {
        "colab_type": "code",
        "outputId": "77043cda-61c7-4e15-b37d-a96fe879e67d",
        "id": "dtpjLCG53a0W",
        "colab": {
          "base_uri": "https://localhost:8080/",
          "height": 0
        }
      },
      "source": [
        "#@title **SQL and Pandas - Syntax Analogy** { vertical-output: true, display-mode: \"both\" }\n",
        "res = {'SQL': ['INSTR', 'LENGTH', 'SUBSTR'],\n",
        "                                  'Pandas': [\"pd.Series.find()\", \n",
        "                                             'pd.Series.str.len()',\n",
        "                                             \"pd.Series.str.slice()\"                                             \n",
        "                                             ]}\n",
        "pd.DataFrame(res)"
      ],
      "execution_count": 41,
      "outputs": [
        {
          "output_type": "execute_result",
          "data": {
            "text/html": [
              "<div>\n",
              "<style scoped>\n",
              "    .dataframe tbody tr th:only-of-type {\n",
              "        vertical-align: middle;\n",
              "    }\n",
              "\n",
              "    .dataframe tbody tr th {\n",
              "        vertical-align: top;\n",
              "    }\n",
              "\n",
              "    .dataframe thead th {\n",
              "        text-align: right;\n",
              "    }\n",
              "</style>\n",
              "<table border=\"1\" class=\"dataframe\">\n",
              "  <thead>\n",
              "    <tr style=\"text-align: right;\">\n",
              "      <th></th>\n",
              "      <th>SQL</th>\n",
              "      <th>Pandas</th>\n",
              "    </tr>\n",
              "  </thead>\n",
              "  <tbody>\n",
              "    <tr>\n",
              "      <th>0</th>\n",
              "      <td>INSTR</td>\n",
              "      <td>pd.Series.find()</td>\n",
              "    </tr>\n",
              "    <tr>\n",
              "      <th>1</th>\n",
              "      <td>LENGTH</td>\n",
              "      <td>pd.Series.str.len()</td>\n",
              "    </tr>\n",
              "    <tr>\n",
              "      <th>2</th>\n",
              "      <td>SUBSTR</td>\n",
              "      <td>pd.Series.str.slice()</td>\n",
              "    </tr>\n",
              "  </tbody>\n",
              "</table>\n",
              "</div>"
            ],
            "text/plain": [
              "      SQL                 Pandas\n",
              "0   INSTR       pd.Series.find()\n",
              "1  LENGTH    pd.Series.str.len()\n",
              "2  SUBSTR  pd.Series.str.slice()"
            ]
          },
          "metadata": {
            "tags": []
          },
          "execution_count": 41
        }
      ]
    },
    {
      "cell_type": "markdown",
      "metadata": {
        "id": "Hdruol_YBbP1",
        "colab_type": "text"
      },
      "source": [
        "### Query 21:  Find all the movies title that `starts with` 'No '."
      ]
    },
    {
      "cell_type": "markdown",
      "metadata": {
        "colab_type": "text",
        "id": "Kn7rcRgEip4C"
      },
      "source": [
        "> * **SQL** "
      ]
    },
    {
      "cell_type": "code",
      "metadata": {
        "colab_type": "code",
        "id": "0inha-Ssip4N",
        "colab": {}
      },
      "source": [
        "table_name = 'movies'"
      ],
      "execution_count": 0,
      "outputs": []
    },
    {
      "cell_type": "code",
      "metadata": {
        "colab_type": "code",
        "outputId": "b17714d9-714c-4f9b-a8dc-74778665afcc",
        "id": "YaeV3vXeip4l",
        "colab": {
          "base_uri": "https://localhost:8080/",
          "height": 0
        }
      },
      "source": [
        "rs = con.execute(f'''SELECT title\n",
        "                     FROM {table_name}    \n",
        "                     WHERE title LIKE \"No %\"   \n",
        "                     ''')\n",
        "\n",
        "pd.DataFrame(rs.fetchall(), columns=['title']).T"
      ],
      "execution_count": 43,
      "outputs": [
        {
          "output_type": "execute_result",
          "data": {
            "text/html": [
              "<div>\n",
              "<style scoped>\n",
              "    .dataframe tbody tr th:only-of-type {\n",
              "        vertical-align: middle;\n",
              "    }\n",
              "\n",
              "    .dataframe tbody tr th {\n",
              "        vertical-align: top;\n",
              "    }\n",
              "\n",
              "    .dataframe thead th {\n",
              "        text-align: right;\n",
              "    }\n",
              "</style>\n",
              "<table border=\"1\" class=\"dataframe\">\n",
              "  <thead>\n",
              "    <tr style=\"text-align: right;\">\n",
              "      <th></th>\n",
              "      <th>0</th>\n",
              "      <th>1</th>\n",
              "      <th>2</th>\n",
              "      <th>3</th>\n",
              "      <th>4</th>\n",
              "      <th>5</th>\n",
              "      <th>6</th>\n",
              "      <th>7</th>\n",
              "      <th>8</th>\n",
              "      <th>9</th>\n",
              "      <th>10</th>\n",
              "      <th>11</th>\n",
              "      <th>12</th>\n",
              "      <th>13</th>\n",
              "      <th>14</th>\n",
              "    </tr>\n",
              "  </thead>\n",
              "  <tbody>\n",
              "    <tr>\n",
              "      <th>title</th>\n",
              "      <td>No Escape (1994)</td>\n",
              "      <td>No Small Affair (1984)</td>\n",
              "      <td>No Mercy (1986)</td>\n",
              "      <td>No Way Out (1987)</td>\n",
              "      <td>No Man's Land (1987)</td>\n",
              "      <td>No Holds Barred (1989)</td>\n",
              "      <td>No Man's Land (2001)</td>\n",
              "      <td>No Such Thing (2001)</td>\n",
              "      <td>No Direction Home: Bob Dylan (2005)</td>\n",
              "      <td>No Reservations (2007)</td>\n",
              "      <td>No End in Sight (2007)</td>\n",
              "      <td>No Country for Old Men (2007)</td>\n",
              "      <td>No Strings Attached (2011)</td>\n",
              "      <td>No Way Jose (2015)</td>\n",
              "      <td>No Game No Life: Zero (2017)</td>\n",
              "    </tr>\n",
              "  </tbody>\n",
              "</table>\n",
              "</div>"
            ],
            "text/plain": [
              "                      0                       1                2                  3                     4                       5                     6                     7                                    8                       9                      10                             11                          12                  13                            14\n",
              "title  No Escape (1994)  No Small Affair (1984)  No Mercy (1986)  No Way Out (1987)  No Man's Land (1987)  No Holds Barred (1989)  No Man's Land (2001)  No Such Thing (2001)  No Direction Home: Bob Dylan (2005)  No Reservations (2007)  No End in Sight (2007)  No Country for Old Men (2007)  No Strings Attached (2011)  No Way Jose (2015)  No Game No Life: Zero (2017)"
            ]
          },
          "metadata": {
            "tags": []
          },
          "execution_count": 43
        }
      ]
    },
    {
      "cell_type": "markdown",
      "metadata": {
        "colab_type": "text",
        "id": "nl55WDU4ip5F"
      },
      "source": [
        "> * **Pandas** "
      ]
    },
    {
      "cell_type": "code",
      "metadata": {
        "id": "MRpbZZpTBa0L",
        "colab_type": "code",
        "outputId": "dbab1d4b-7d31-4a1a-c1ce-0e75adb254b7",
        "colab": {
          "base_uri": "https://localhost:8080/",
          "height": 0
        }
      },
      "source": [
        "table = db[table_name]\n",
        "FROM_CLAUSE = table\n",
        "SELECT_CLAUSE = ['title']\n",
        "\n",
        "WHERE_CONDITION = (table['title'].str.startswith(\"No \"))\n",
        "WHERE_CLAUSE = WHERE_CONDITION\n",
        "\n",
        "# db['movies'][db['movies']['title'].str.startswith('No ')][['title']].T\n",
        "\n",
        "res = FROM_CLAUSE[WHERE_CLAUSE][SELECT_CLAUSE]\n",
        "res.T"
      ],
      "execution_count": 44,
      "outputs": [
        {
          "output_type": "execute_result",
          "data": {
            "text/html": [
              "<div>\n",
              "<style scoped>\n",
              "    .dataframe tbody tr th:only-of-type {\n",
              "        vertical-align: middle;\n",
              "    }\n",
              "\n",
              "    .dataframe tbody tr th {\n",
              "        vertical-align: top;\n",
              "    }\n",
              "\n",
              "    .dataframe thead th {\n",
              "        text-align: right;\n",
              "    }\n",
              "</style>\n",
              "<table border=\"1\" class=\"dataframe\">\n",
              "  <thead>\n",
              "    <tr style=\"text-align: right;\">\n",
              "      <th></th>\n",
              "      <th>439</th>\n",
              "      <th>1677</th>\n",
              "      <th>2062</th>\n",
              "      <th>2620</th>\n",
              "      <th>3083</th>\n",
              "      <th>3404</th>\n",
              "      <th>3618</th>\n",
              "      <th>3772</th>\n",
              "      <th>6022</th>\n",
              "      <th>6532</th>\n",
              "      <th>6565</th>\n",
              "      <th>6613</th>\n",
              "      <th>7522</th>\n",
              "      <th>8897</th>\n",
              "      <th>9738</th>\n",
              "    </tr>\n",
              "  </thead>\n",
              "  <tbody>\n",
              "    <tr>\n",
              "      <th>title</th>\n",
              "      <td>No Escape (1994)</td>\n",
              "      <td>No Small Affair (1984)</td>\n",
              "      <td>No Mercy (1986)</td>\n",
              "      <td>No Way Out (1987)</td>\n",
              "      <td>No Man's Land (1987)</td>\n",
              "      <td>No Holds Barred (1989)</td>\n",
              "      <td>No Man's Land (2001)</td>\n",
              "      <td>No Such Thing (2001)</td>\n",
              "      <td>No Direction Home: Bob Dylan (2005)</td>\n",
              "      <td>No Reservations (2007)</td>\n",
              "      <td>No End in Sight (2007)</td>\n",
              "      <td>No Country for Old Men (2007)</td>\n",
              "      <td>No Strings Attached (2011)</td>\n",
              "      <td>No Way Jose (2015)</td>\n",
              "      <td>No Game No Life: Zero (2017)</td>\n",
              "    </tr>\n",
              "  </tbody>\n",
              "</table>\n",
              "</div>"
            ],
            "text/plain": [
              "                   439                     1677             2062               2620                  3083                    3404                  3618                  3772                                 6022                    6532                    6565                           6613                        7522                8897                          9738\n",
              "title  No Escape (1994)  No Small Affair (1984)  No Mercy (1986)  No Way Out (1987)  No Man's Land (1987)  No Holds Barred (1989)  No Man's Land (2001)  No Such Thing (2001)  No Direction Home: Bob Dylan (2005)  No Reservations (2007)  No End in Sight (2007)  No Country for Old Men (2007)  No Strings Attached (2011)  No Way Jose (2015)  No Game No Life: Zero (2017)"
            ]
          },
          "metadata": {
            "tags": []
          },
          "execution_count": 44
        }
      ]
    },
    {
      "cell_type": "code",
      "metadata": {
        "id": "q6sAIJIL_Kc5",
        "colab_type": "code",
        "outputId": "3c5ee1e0-c57a-495d-a763-ca080f74b9fc",
        "colab": {
          "base_uri": "https://localhost:8080/",
          "height": 0
        }
      },
      "source": [
        "table = db[table_name]\n",
        "FROM_CLAUSE = table\n",
        "SELECT_CLAUSE = ['title']\n",
        "\n",
        "WHERE_CONDITION = (table['title'].str.contains(\"^(No )\"))\n",
        "WHERE_CLAUSE = WHERE_CONDITION\n",
        "res = FROM_CLAUSE[WHERE_CLAUSE][SELECT_CLAUSE]\n",
        "res.T"
      ],
      "execution_count": 45,
      "outputs": [
        {
          "output_type": "stream",
          "text": [
            "/usr/local/lib/python3.6/dist-packages/pandas/core/strings.py:1843: UserWarning: This pattern has match groups. To actually get the groups, use str.extract.\n",
            "  return func(self, *args, **kwargs)\n"
          ],
          "name": "stderr"
        },
        {
          "output_type": "execute_result",
          "data": {
            "text/html": [
              "<div>\n",
              "<style scoped>\n",
              "    .dataframe tbody tr th:only-of-type {\n",
              "        vertical-align: middle;\n",
              "    }\n",
              "\n",
              "    .dataframe tbody tr th {\n",
              "        vertical-align: top;\n",
              "    }\n",
              "\n",
              "    .dataframe thead th {\n",
              "        text-align: right;\n",
              "    }\n",
              "</style>\n",
              "<table border=\"1\" class=\"dataframe\">\n",
              "  <thead>\n",
              "    <tr style=\"text-align: right;\">\n",
              "      <th></th>\n",
              "      <th>439</th>\n",
              "      <th>1677</th>\n",
              "      <th>2062</th>\n",
              "      <th>2620</th>\n",
              "      <th>3083</th>\n",
              "      <th>3404</th>\n",
              "      <th>3618</th>\n",
              "      <th>3772</th>\n",
              "      <th>6022</th>\n",
              "      <th>6532</th>\n",
              "      <th>6565</th>\n",
              "      <th>6613</th>\n",
              "      <th>7522</th>\n",
              "      <th>8897</th>\n",
              "      <th>9738</th>\n",
              "    </tr>\n",
              "  </thead>\n",
              "  <tbody>\n",
              "    <tr>\n",
              "      <th>title</th>\n",
              "      <td>No Escape (1994)</td>\n",
              "      <td>No Small Affair (1984)</td>\n",
              "      <td>No Mercy (1986)</td>\n",
              "      <td>No Way Out (1987)</td>\n",
              "      <td>No Man's Land (1987)</td>\n",
              "      <td>No Holds Barred (1989)</td>\n",
              "      <td>No Man's Land (2001)</td>\n",
              "      <td>No Such Thing (2001)</td>\n",
              "      <td>No Direction Home: Bob Dylan (2005)</td>\n",
              "      <td>No Reservations (2007)</td>\n",
              "      <td>No End in Sight (2007)</td>\n",
              "      <td>No Country for Old Men (2007)</td>\n",
              "      <td>No Strings Attached (2011)</td>\n",
              "      <td>No Way Jose (2015)</td>\n",
              "      <td>No Game No Life: Zero (2017)</td>\n",
              "    </tr>\n",
              "  </tbody>\n",
              "</table>\n",
              "</div>"
            ],
            "text/plain": [
              "                   439                     1677             2062               2620                  3083                    3404                  3618                  3772                                 6022                    6532                    6565                           6613                        7522                8897                          9738\n",
              "title  No Escape (1994)  No Small Affair (1984)  No Mercy (1986)  No Way Out (1987)  No Man's Land (1987)  No Holds Barred (1989)  No Man's Land (2001)  No Such Thing (2001)  No Direction Home: Bob Dylan (2005)  No Reservations (2007)  No End in Sight (2007)  No Country for Old Men (2007)  No Strings Attached (2011)  No Way Jose (2015)  No Game No Life: Zero (2017)"
            ]
          },
          "metadata": {
            "tags": []
          },
          "execution_count": 45
        }
      ]
    },
    {
      "cell_type": "markdown",
      "metadata": {
        "colab_type": "text",
        "id": "_nZYnXf1kdps"
      },
      "source": [
        "### Query 22: Find all the tags that `ends with` 'ood'."
      ]
    },
    {
      "cell_type": "markdown",
      "metadata": {
        "colab_type": "text",
        "id": "-o4NNUgUkdpw"
      },
      "source": [
        "> * **SQL** "
      ]
    },
    {
      "cell_type": "code",
      "metadata": {
        "colab_type": "code",
        "id": "dgQ92SVdkdpx",
        "colab": {}
      },
      "source": [
        "table_name = 'tags'"
      ],
      "execution_count": 0,
      "outputs": []
    },
    {
      "cell_type": "code",
      "metadata": {
        "colab_type": "code",
        "outputId": "917acb80-25fb-4987-bcc8-b6ebd6cc23a7",
        "id": "rviOPoQjkdp3",
        "colab": {
          "base_uri": "https://localhost:8080/",
          "height": 0
        }
      },
      "source": [
        "rs = con.execute(f'''SELECT tag\n",
        "                     FROM {table_name}    \n",
        "                     WHERE tag LIKE \"%ood\"   \n",
        "                     ''')\n",
        "pd.DataFrame(rs.fetchall(), columns=['tag']).T"
      ],
      "execution_count": 47,
      "outputs": [
        {
          "output_type": "execute_result",
          "data": {
            "text/html": [
              "<div>\n",
              "<style scoped>\n",
              "    .dataframe tbody tr th:only-of-type {\n",
              "        vertical-align: middle;\n",
              "    }\n",
              "\n",
              "    .dataframe tbody tr th {\n",
              "        vertical-align: top;\n",
              "    }\n",
              "\n",
              "    .dataframe thead th {\n",
              "        text-align: right;\n",
              "    }\n",
              "</style>\n",
              "<table border=\"1\" class=\"dataframe\">\n",
              "  <thead>\n",
              "    <tr style=\"text-align: right;\">\n",
              "      <th></th>\n",
              "      <th>0</th>\n",
              "      <th>1</th>\n",
              "      <th>2</th>\n",
              "      <th>3</th>\n",
              "      <th>4</th>\n",
              "      <th>5</th>\n",
              "      <th>6</th>\n",
              "      <th>7</th>\n",
              "      <th>8</th>\n",
              "      <th>9</th>\n",
              "      <th>10</th>\n",
              "      <th>11</th>\n",
              "      <th>12</th>\n",
              "      <th>13</th>\n",
              "      <th>14</th>\n",
              "      <th>15</th>\n",
              "      <th>16</th>\n",
              "      <th>17</th>\n",
              "      <th>18</th>\n",
              "      <th>19</th>\n",
              "      <th>20</th>\n",
              "      <th>21</th>\n",
              "      <th>22</th>\n",
              "    </tr>\n",
              "  </thead>\n",
              "  <tbody>\n",
              "    <tr>\n",
              "      <th>tag</th>\n",
              "      <td>feel-good</td>\n",
              "      <td>Hollywood</td>\n",
              "      <td>Hollywood</td>\n",
              "      <td>food</td>\n",
              "      <td>food</td>\n",
              "      <td>motherhood</td>\n",
              "      <td>fatherhood</td>\n",
              "      <td>Hollywood</td>\n",
              "      <td>sisterhood</td>\n",
              "      <td>motherhood</td>\n",
              "      <td>flood</td>\n",
              "      <td>fatherhood</td>\n",
              "      <td>Food</td>\n",
              "      <td>food</td>\n",
              "      <td>parenthood</td>\n",
              "      <td>fatherhood</td>\n",
              "      <td>motherhood</td>\n",
              "      <td>fatherhood</td>\n",
              "      <td>feel-good</td>\n",
              "      <td>feel-good</td>\n",
              "      <td>feel-good</td>\n",
              "      <td>good</td>\n",
              "      <td>blood</td>\n",
              "    </tr>\n",
              "  </tbody>\n",
              "</table>\n",
              "</div>"
            ],
            "text/plain": [
              "             0          1          2     3     4           5           6          7           8           9     10          11    12    13          14          15          16          17         18         19         20    21     22\n",
              "tag  feel-good  Hollywood  Hollywood  food  food  motherhood  fatherhood  Hollywood  sisterhood  motherhood  flood  fatherhood  Food  food  parenthood  fatherhood  motherhood  fatherhood  feel-good  feel-good  feel-good  good  blood"
            ]
          },
          "metadata": {
            "tags": []
          },
          "execution_count": 47
        }
      ]
    },
    {
      "cell_type": "markdown",
      "metadata": {
        "colab_type": "text",
        "id": "_WzRtEFR3hh9"
      },
      "source": [
        "> * **Pandas** "
      ]
    },
    {
      "cell_type": "code",
      "metadata": {
        "id": "pBXD2J773eNj",
        "colab_type": "code",
        "outputId": "ba810805-9132-4fe9-cf8c-1bc9ef546132",
        "colab": {
          "base_uri": "https://localhost:8080/",
          "height": 0
        }
      },
      "source": [
        "table = db[table_name]\n",
        "FROM_CLAUSE = table\n",
        "SELECT_CLAUSE = ['tag']\n",
        "\n",
        "WHERE_CONDITION = (table['tag'].str.endswith(\"ood\"))    \n",
        "WHERE_CLAUSE = WHERE_CONDITION\n",
        "res = FROM_CLAUSE[WHERE_CLAUSE][SELECT_CLAUSE]\n",
        "res.T"
      ],
      "execution_count": 48,
      "outputs": [
        {
          "output_type": "execute_result",
          "data": {
            "text/html": [
              "<div>\n",
              "<style scoped>\n",
              "    .dataframe tbody tr th:only-of-type {\n",
              "        vertical-align: middle;\n",
              "    }\n",
              "\n",
              "    .dataframe tbody tr th {\n",
              "        vertical-align: top;\n",
              "    }\n",
              "\n",
              "    .dataframe thead th {\n",
              "        text-align: right;\n",
              "    }\n",
              "</style>\n",
              "<table border=\"1\" class=\"dataframe\">\n",
              "  <thead>\n",
              "    <tr style=\"text-align: right;\">\n",
              "      <th></th>\n",
              "      <th>493</th>\n",
              "      <th>992</th>\n",
              "      <th>1216</th>\n",
              "      <th>1254</th>\n",
              "      <th>1634</th>\n",
              "      <th>1653</th>\n",
              "      <th>1747</th>\n",
              "      <th>1935</th>\n",
              "      <th>1999</th>\n",
              "      <th>2064</th>\n",
              "      <th>2152</th>\n",
              "      <th>2172</th>\n",
              "      <th>2190</th>\n",
              "      <th>2352</th>\n",
              "      <th>2384</th>\n",
              "      <th>2418</th>\n",
              "      <th>2431</th>\n",
              "      <th>2441</th>\n",
              "      <th>3074</th>\n",
              "      <th>3188</th>\n",
              "      <th>3202</th>\n",
              "      <th>3325</th>\n",
              "      <th>3402</th>\n",
              "    </tr>\n",
              "  </thead>\n",
              "  <tbody>\n",
              "    <tr>\n",
              "      <th>tag</th>\n",
              "      <td>feel-good</td>\n",
              "      <td>Hollywood</td>\n",
              "      <td>Hollywood</td>\n",
              "      <td>food</td>\n",
              "      <td>food</td>\n",
              "      <td>motherhood</td>\n",
              "      <td>fatherhood</td>\n",
              "      <td>Hollywood</td>\n",
              "      <td>sisterhood</td>\n",
              "      <td>motherhood</td>\n",
              "      <td>flood</td>\n",
              "      <td>fatherhood</td>\n",
              "      <td>Food</td>\n",
              "      <td>food</td>\n",
              "      <td>parenthood</td>\n",
              "      <td>fatherhood</td>\n",
              "      <td>motherhood</td>\n",
              "      <td>fatherhood</td>\n",
              "      <td>feel-good</td>\n",
              "      <td>feel-good</td>\n",
              "      <td>feel-good</td>\n",
              "      <td>good</td>\n",
              "      <td>blood</td>\n",
              "    </tr>\n",
              "  </tbody>\n",
              "</table>\n",
              "</div>"
            ],
            "text/plain": [
              "          493        992        1216  1254  1634        1653        1747       1935        1999        2064   2152        2172  2190  2352        2384        2418        2431        2441       3074       3188       3202  3325   3402\n",
              "tag  feel-good  Hollywood  Hollywood  food  food  motherhood  fatherhood  Hollywood  sisterhood  motherhood  flood  fatherhood  Food  food  parenthood  fatherhood  motherhood  fatherhood  feel-good  feel-good  feel-good  good  blood"
            ]
          },
          "metadata": {
            "tags": []
          },
          "execution_count": 48
        }
      ]
    },
    {
      "cell_type": "code",
      "metadata": {
        "id": "8d08tKHp8Fcw",
        "colab_type": "code",
        "outputId": "f9e2e74e-6203-417c-a2a6-7e235fdafddd",
        "colab": {
          "base_uri": "https://localhost:8080/",
          "height": 0
        }
      },
      "source": [
        "table = db[table_name]\n",
        "FROM_CLAUSE = table\n",
        "SELECT_CLAUSE = ['tag']\n",
        "\n",
        "WHERE_CONDITION = (table['tag'].str.contains(\"(ood)$\"))\n",
        "WHERE_CLAUSE = WHERE_CONDITION\n",
        "res = FROM_CLAUSE[WHERE_CLAUSE][SELECT_CLAUSE]\n",
        "res.T"
      ],
      "execution_count": 49,
      "outputs": [
        {
          "output_type": "stream",
          "text": [
            "/usr/local/lib/python3.6/dist-packages/pandas/core/strings.py:1843: UserWarning: This pattern has match groups. To actually get the groups, use str.extract.\n",
            "  return func(self, *args, **kwargs)\n"
          ],
          "name": "stderr"
        },
        {
          "output_type": "execute_result",
          "data": {
            "text/html": [
              "<div>\n",
              "<style scoped>\n",
              "    .dataframe tbody tr th:only-of-type {\n",
              "        vertical-align: middle;\n",
              "    }\n",
              "\n",
              "    .dataframe tbody tr th {\n",
              "        vertical-align: top;\n",
              "    }\n",
              "\n",
              "    .dataframe thead th {\n",
              "        text-align: right;\n",
              "    }\n",
              "</style>\n",
              "<table border=\"1\" class=\"dataframe\">\n",
              "  <thead>\n",
              "    <tr style=\"text-align: right;\">\n",
              "      <th></th>\n",
              "      <th>493</th>\n",
              "      <th>992</th>\n",
              "      <th>1216</th>\n",
              "      <th>1254</th>\n",
              "      <th>1634</th>\n",
              "      <th>1653</th>\n",
              "      <th>1747</th>\n",
              "      <th>1935</th>\n",
              "      <th>1999</th>\n",
              "      <th>2064</th>\n",
              "      <th>2152</th>\n",
              "      <th>2172</th>\n",
              "      <th>2190</th>\n",
              "      <th>2352</th>\n",
              "      <th>2384</th>\n",
              "      <th>2418</th>\n",
              "      <th>2431</th>\n",
              "      <th>2441</th>\n",
              "      <th>3074</th>\n",
              "      <th>3188</th>\n",
              "      <th>3202</th>\n",
              "      <th>3325</th>\n",
              "      <th>3402</th>\n",
              "    </tr>\n",
              "  </thead>\n",
              "  <tbody>\n",
              "    <tr>\n",
              "      <th>tag</th>\n",
              "      <td>feel-good</td>\n",
              "      <td>Hollywood</td>\n",
              "      <td>Hollywood</td>\n",
              "      <td>food</td>\n",
              "      <td>food</td>\n",
              "      <td>motherhood</td>\n",
              "      <td>fatherhood</td>\n",
              "      <td>Hollywood</td>\n",
              "      <td>sisterhood</td>\n",
              "      <td>motherhood</td>\n",
              "      <td>flood</td>\n",
              "      <td>fatherhood</td>\n",
              "      <td>Food</td>\n",
              "      <td>food</td>\n",
              "      <td>parenthood</td>\n",
              "      <td>fatherhood</td>\n",
              "      <td>motherhood</td>\n",
              "      <td>fatherhood</td>\n",
              "      <td>feel-good</td>\n",
              "      <td>feel-good</td>\n",
              "      <td>feel-good</td>\n",
              "      <td>good</td>\n",
              "      <td>blood</td>\n",
              "    </tr>\n",
              "  </tbody>\n",
              "</table>\n",
              "</div>"
            ],
            "text/plain": [
              "          493        992        1216  1254  1634        1653        1747       1935        1999        2064   2152        2172  2190  2352        2384        2418        2431        2441       3074       3188       3202  3325   3402\n",
              "tag  feel-good  Hollywood  Hollywood  food  food  motherhood  fatherhood  Hollywood  sisterhood  motherhood  flood  fatherhood  Food  food  parenthood  fatherhood  motherhood  fatherhood  feel-good  feel-good  feel-good  good  blood"
            ]
          },
          "metadata": {
            "tags": []
          },
          "execution_count": 49
        }
      ]
    },
    {
      "cell_type": "markdown",
      "metadata": {
        "colab_type": "text",
        "id": "NlbU6VLtw1vD"
      },
      "source": [
        "### Query 23:  Find all the movies title that `ends with` 'wood'."
      ]
    },
    {
      "cell_type": "markdown",
      "metadata": {
        "colab_type": "text",
        "id": "VfpvXVi-w1vI"
      },
      "source": [
        "> * **SQL** \n",
        "> * In SQLite, we don't have any builtin function like REGEX_REPLACE in Postgresql. Hence we cannot perform this query in sqlite."
      ]
    },
    {
      "cell_type": "markdown",
      "metadata": {
        "colab_type": "text",
        "id": "nl8qfq52kdp7"
      },
      "source": [
        "> * **Pandas** "
      ]
    },
    {
      "cell_type": "code",
      "metadata": {
        "colab_type": "code",
        "id": "t42ufYXTw1vL",
        "colab": {}
      },
      "source": [
        "table_name = 'movies'"
      ],
      "execution_count": 0,
      "outputs": []
    },
    {
      "cell_type": "code",
      "metadata": {
        "colab_type": "code",
        "outputId": "f94c1533-c95a-46f6-d423-5571e34c6d02",
        "id": "_TYhJuELkdp8",
        "colab": {
          "base_uri": "https://localhost:8080/",
          "height": 97
        }
      },
      "source": [
        "table = db[table_name]\n",
        "FROM_CLAUSE = table\n",
        "SELECT_CLAUSE = ['title']\n",
        "\n",
        "WHERE_CONDITION = (table['title'].str.slice(start=0, stop=-7).str.endswith(\"wood\"))\n",
        "WHERE_CLAUSE = WHERE_CONDITION\n",
        "# db['movies'][db['movies']['title'].str.slice(start=0, stop=-7).str.endswith('wood')][['title']].T\n",
        "res = FROM_CLAUSE[WHERE_CLAUSE][SELECT_CLAUSE]\n",
        "res.T"
      ],
      "execution_count": 51,
      "outputs": [
        {
          "output_type": "execute_result",
          "data": {
            "text/html": [
              "<div>\n",
              "<style scoped>\n",
              "    .dataframe tbody tr th:only-of-type {\n",
              "        vertical-align: middle;\n",
              "    }\n",
              "\n",
              "    .dataframe tbody tr th {\n",
              "        vertical-align: top;\n",
              "    }\n",
              "\n",
              "    .dataframe thead th {\n",
              "        text-align: right;\n",
              "    }\n",
              "</style>\n",
              "<table border=\"1\" class=\"dataframe\">\n",
              "  <thead>\n",
              "    <tr style=\"text-align: right;\">\n",
              "      <th></th>\n",
              "      <th>416</th>\n",
              "      <th>1123</th>\n",
              "      <th>1998</th>\n",
              "      <th>3518</th>\n",
              "      <th>3995</th>\n",
              "      <th>4520</th>\n",
              "      <th>4770</th>\n",
              "      <th>8762</th>\n",
              "      <th>8936</th>\n",
              "    </tr>\n",
              "  </thead>\n",
              "  <tbody>\n",
              "    <tr>\n",
              "      <th>title</th>\n",
              "      <td>Jimmy Hollywood (1994)</td>\n",
              "      <td>Rosewood (1997)</td>\n",
              "      <td>It Came from Hollywood (1982)</td>\n",
              "      <td>Silkwood (1983)</td>\n",
              "      <td>Welcome to Collinwood (2002)</td>\n",
              "      <td>Bollywood/Hollywood (2002)</td>\n",
              "      <td>Doc Hollywood (1991)</td>\n",
              "      <td>Wyrmwood (2015)</td>\n",
              "      <td>Scooby-Doo Goes Hollywood (1979)</td>\n",
              "    </tr>\n",
              "  </tbody>\n",
              "</table>\n",
              "</div>"
            ],
            "text/plain": [
              "                         416              1123                           1998             3518                          3995                        4520                  4770             8762                              8936\n",
              "title  Jimmy Hollywood (1994)  Rosewood (1997)  It Came from Hollywood (1982)  Silkwood (1983)  Welcome to Collinwood (2002)  Bollywood/Hollywood (2002)  Doc Hollywood (1991)  Wyrmwood (2015)  Scooby-Doo Goes Hollywood (1979)"
            ]
          },
          "metadata": {
            "tags": []
          },
          "execution_count": 51
        }
      ]
    },
    {
      "cell_type": "code",
      "metadata": {
        "id": "3e3rUyXrBaxK",
        "colab_type": "code",
        "outputId": "ef01d55b-23b3-40ab-8230-003edd786a00",
        "colab": {
          "base_uri": "https://localhost:8080/",
          "height": 97
        }
      },
      "source": [
        "db['movies'][db['movies']['title'].str.slice(start=0, stop=-7).str.endswith('wood')][['title']].T"
      ],
      "execution_count": 52,
      "outputs": [
        {
          "output_type": "execute_result",
          "data": {
            "text/html": [
              "<div>\n",
              "<style scoped>\n",
              "    .dataframe tbody tr th:only-of-type {\n",
              "        vertical-align: middle;\n",
              "    }\n",
              "\n",
              "    .dataframe tbody tr th {\n",
              "        vertical-align: top;\n",
              "    }\n",
              "\n",
              "    .dataframe thead th {\n",
              "        text-align: right;\n",
              "    }\n",
              "</style>\n",
              "<table border=\"1\" class=\"dataframe\">\n",
              "  <thead>\n",
              "    <tr style=\"text-align: right;\">\n",
              "      <th></th>\n",
              "      <th>416</th>\n",
              "      <th>1123</th>\n",
              "      <th>1998</th>\n",
              "      <th>3518</th>\n",
              "      <th>3995</th>\n",
              "      <th>4520</th>\n",
              "      <th>4770</th>\n",
              "      <th>8762</th>\n",
              "      <th>8936</th>\n",
              "    </tr>\n",
              "  </thead>\n",
              "  <tbody>\n",
              "    <tr>\n",
              "      <th>title</th>\n",
              "      <td>Jimmy Hollywood (1994)</td>\n",
              "      <td>Rosewood (1997)</td>\n",
              "      <td>It Came from Hollywood (1982)</td>\n",
              "      <td>Silkwood (1983)</td>\n",
              "      <td>Welcome to Collinwood (2002)</td>\n",
              "      <td>Bollywood/Hollywood (2002)</td>\n",
              "      <td>Doc Hollywood (1991)</td>\n",
              "      <td>Wyrmwood (2015)</td>\n",
              "      <td>Scooby-Doo Goes Hollywood (1979)</td>\n",
              "    </tr>\n",
              "  </tbody>\n",
              "</table>\n",
              "</div>"
            ],
            "text/plain": [
              "                         416              1123                           1998             3518                          3995                        4520                  4770             8762                              8936\n",
              "title  Jimmy Hollywood (1994)  Rosewood (1997)  It Came from Hollywood (1982)  Silkwood (1983)  Welcome to Collinwood (2002)  Bollywood/Hollywood (2002)  Doc Hollywood (1991)  Wyrmwood (2015)  Scooby-Doo Goes Hollywood (1979)"
            ]
          },
          "metadata": {
            "tags": []
          },
          "execution_count": 52
        }
      ]
    },
    {
      "cell_type": "markdown",
      "metadata": {
        "colab_type": "text",
        "id": "7mjgB5Mc08Wo"
      },
      "source": [
        "### Query 24: Find all the tags that `starts with` 'g' and `ends with` 'ing'."
      ]
    },
    {
      "cell_type": "markdown",
      "metadata": {
        "colab_type": "text",
        "id": "0jmcVJNx1_GT"
      },
      "source": [
        "> * **SQL** "
      ]
    },
    {
      "cell_type": "code",
      "metadata": {
        "colab_type": "code",
        "id": "AP34j4A41_GV",
        "colab": {}
      },
      "source": [
        "table_name = 'tags'"
      ],
      "execution_count": 0,
      "outputs": []
    },
    {
      "cell_type": "code",
      "metadata": {
        "colab_type": "code",
        "outputId": "328507e8-bdcd-458f-91e1-6b2ef723f70e",
        "id": "Ocpqj0aX1_Ga",
        "colab": {
          "base_uri": "https://localhost:8080/",
          "height": 80
        }
      },
      "source": [
        "rs = con.execute(f'''SELECT tag\n",
        "                     FROM {table_name}    \n",
        "                     WHERE tag LIKE \"g%ing\"   \n",
        "                     ''')\n",
        "pd.DataFrame(rs.fetchall(), columns=['tag']).T"
      ],
      "execution_count": 54,
      "outputs": [
        {
          "output_type": "execute_result",
          "data": {
            "text/html": [
              "<div>\n",
              "<style scoped>\n",
              "    .dataframe tbody tr th:only-of-type {\n",
              "        vertical-align: middle;\n",
              "    }\n",
              "\n",
              "    .dataframe tbody tr th {\n",
              "        vertical-align: top;\n",
              "    }\n",
              "\n",
              "    .dataframe thead th {\n",
              "        text-align: right;\n",
              "    }\n",
              "</style>\n",
              "<table border=\"1\" class=\"dataframe\">\n",
              "  <thead>\n",
              "    <tr style=\"text-align: right;\">\n",
              "      <th></th>\n",
              "      <th>0</th>\n",
              "      <th>1</th>\n",
              "      <th>2</th>\n",
              "      <th>3</th>\n",
              "      <th>4</th>\n",
              "      <th>5</th>\n",
              "      <th>6</th>\n",
              "      <th>7</th>\n",
              "      <th>8</th>\n",
              "      <th>9</th>\n",
              "      <th>10</th>\n",
              "      <th>11</th>\n",
              "      <th>12</th>\n",
              "    </tr>\n",
              "  </thead>\n",
              "  <tbody>\n",
              "    <tr>\n",
              "      <th>tag</th>\n",
              "      <td>good writing</td>\n",
              "      <td>great ending</td>\n",
              "      <td>great ending</td>\n",
              "      <td>gambling</td>\n",
              "      <td>golfing</td>\n",
              "      <td>gambling</td>\n",
              "      <td>gambling</td>\n",
              "      <td>gambling</td>\n",
              "      <td>Gambling</td>\n",
              "      <td>gambling</td>\n",
              "      <td>great acting</td>\n",
              "      <td>great acting</td>\n",
              "      <td>great acting</td>\n",
              "    </tr>\n",
              "  </tbody>\n",
              "</table>\n",
              "</div>"
            ],
            "text/plain": [
              "                0             1             2         3        4         5         6         7         8         9            10            11            12\n",
              "tag  good writing  great ending  great ending  gambling  golfing  gambling  gambling  gambling  Gambling  gambling  great acting  great acting  great acting"
            ]
          },
          "metadata": {
            "tags": []
          },
          "execution_count": 54
        }
      ]
    },
    {
      "cell_type": "markdown",
      "metadata": {
        "colab_type": "text",
        "id": "l_iUQ_yj17CJ"
      },
      "source": [
        "> * **Pandas** "
      ]
    },
    {
      "cell_type": "code",
      "metadata": {
        "id": "DL3kEYBtfxoL",
        "colab_type": "code",
        "outputId": "05f9cbaa-d29b-475c-9b6d-0f3d222968b9",
        "colab": {
          "base_uri": "https://localhost:8080/",
          "height": 80
        }
      },
      "source": [
        "table = db[table_name]\n",
        "FROM_CLAUSE = table\n",
        "SELECT_CLAUSE = ['tag']\n",
        "\n",
        "STARTSWITH_CONDITION = (db['tags']['tag'].str.startswith('g'))\n",
        "ENDSWITH_CONDITION = (db['tags']['tag'].str.endswith('ing'))\n",
        "\n",
        "WHERE_CLAUSE = (STARTSWITH_CONDITION & ENDSWITH_CONDITION)\n",
        "# db['tags'][(db['tags']['tag'].str.startswith('g')) & (db['tags']['tag'].str.endswith('ing'))][['tag']].T\n",
        "res = FROM_CLAUSE[WHERE_CLAUSE][SELECT_CLAUSE]\n",
        "res.T"
      ],
      "execution_count": 55,
      "outputs": [
        {
          "output_type": "execute_result",
          "data": {
            "text/html": [
              "<div>\n",
              "<style scoped>\n",
              "    .dataframe tbody tr th:only-of-type {\n",
              "        vertical-align: middle;\n",
              "    }\n",
              "\n",
              "    .dataframe tbody tr th {\n",
              "        vertical-align: top;\n",
              "    }\n",
              "\n",
              "    .dataframe thead th {\n",
              "        text-align: right;\n",
              "    }\n",
              "</style>\n",
              "<table border=\"1\" class=\"dataframe\">\n",
              "  <thead>\n",
              "    <tr style=\"text-align: right;\">\n",
              "      <th></th>\n",
              "      <th>373</th>\n",
              "      <th>457</th>\n",
              "      <th>687</th>\n",
              "      <th>1098</th>\n",
              "      <th>1651</th>\n",
              "      <th>1688</th>\n",
              "      <th>1703</th>\n",
              "      <th>1709</th>\n",
              "      <th>2122</th>\n",
              "      <th>3361</th>\n",
              "      <th>3455</th>\n",
              "      <th>3642</th>\n",
              "    </tr>\n",
              "  </thead>\n",
              "  <tbody>\n",
              "    <tr>\n",
              "      <th>tag</th>\n",
              "      <td>good writing</td>\n",
              "      <td>great ending</td>\n",
              "      <td>great ending</td>\n",
              "      <td>gambling</td>\n",
              "      <td>golfing</td>\n",
              "      <td>gambling</td>\n",
              "      <td>gambling</td>\n",
              "      <td>gambling</td>\n",
              "      <td>gambling</td>\n",
              "      <td>great acting</td>\n",
              "      <td>great acting</td>\n",
              "      <td>great acting</td>\n",
              "    </tr>\n",
              "  </tbody>\n",
              "</table>\n",
              "</div>"
            ],
            "text/plain": [
              "             373           457           687       1098     1651      1688      1703      1709      2122          3361          3455          3642\n",
              "tag  good writing  great ending  great ending  gambling  golfing  gambling  gambling  gambling  gambling  great acting  great acting  great acting"
            ]
          },
          "metadata": {
            "tags": []
          },
          "execution_count": 55
        }
      ]
    },
    {
      "cell_type": "code",
      "metadata": {
        "id": "qZ2livWc-_W1",
        "colab_type": "code",
        "outputId": "cd7cfa13-7c2e-4264-d903-ad2ac1754341",
        "colab": {
          "base_uri": "https://localhost:8080/",
          "height": 114
        }
      },
      "source": [
        "db['tags'][db['tags']['tag'].str.contains(r'^(g)([\\w\\d\\s])*(ing)$')][['tag']].T"
      ],
      "execution_count": 56,
      "outputs": [
        {
          "output_type": "stream",
          "text": [
            "/usr/local/lib/python3.6/dist-packages/pandas/core/strings.py:1843: UserWarning: This pattern has match groups. To actually get the groups, use str.extract.\n",
            "  return func(self, *args, **kwargs)\n"
          ],
          "name": "stderr"
        },
        {
          "output_type": "execute_result",
          "data": {
            "text/html": [
              "<div>\n",
              "<style scoped>\n",
              "    .dataframe tbody tr th:only-of-type {\n",
              "        vertical-align: middle;\n",
              "    }\n",
              "\n",
              "    .dataframe tbody tr th {\n",
              "        vertical-align: top;\n",
              "    }\n",
              "\n",
              "    .dataframe thead th {\n",
              "        text-align: right;\n",
              "    }\n",
              "</style>\n",
              "<table border=\"1\" class=\"dataframe\">\n",
              "  <thead>\n",
              "    <tr style=\"text-align: right;\">\n",
              "      <th></th>\n",
              "      <th>373</th>\n",
              "      <th>457</th>\n",
              "      <th>687</th>\n",
              "      <th>1098</th>\n",
              "      <th>1651</th>\n",
              "      <th>1688</th>\n",
              "      <th>1703</th>\n",
              "      <th>1709</th>\n",
              "      <th>2122</th>\n",
              "      <th>3361</th>\n",
              "      <th>3455</th>\n",
              "      <th>3642</th>\n",
              "    </tr>\n",
              "  </thead>\n",
              "  <tbody>\n",
              "    <tr>\n",
              "      <th>tag</th>\n",
              "      <td>good writing</td>\n",
              "      <td>great ending</td>\n",
              "      <td>great ending</td>\n",
              "      <td>gambling</td>\n",
              "      <td>golfing</td>\n",
              "      <td>gambling</td>\n",
              "      <td>gambling</td>\n",
              "      <td>gambling</td>\n",
              "      <td>gambling</td>\n",
              "      <td>great acting</td>\n",
              "      <td>great acting</td>\n",
              "      <td>great acting</td>\n",
              "    </tr>\n",
              "  </tbody>\n",
              "</table>\n",
              "</div>"
            ],
            "text/plain": [
              "             373           457           687       1098     1651      1688      1703      1709      2122          3361          3455          3642\n",
              "tag  good writing  great ending  great ending  gambling  golfing  gambling  gambling  gambling  gambling  great acting  great acting  great acting"
            ]
          },
          "metadata": {
            "tags": []
          },
          "execution_count": 56
        }
      ]
    },
    {
      "cell_type": "code",
      "metadata": {
        "id": "JP5SbPQD7ps-",
        "colab_type": "code",
        "outputId": "f66d3207-e3a3-4368-afd5-316630731dbe",
        "colab": {
          "base_uri": "https://localhost:8080/",
          "height": 235
        }
      },
      "source": [
        "#@title **SQL and Pandas - Syntax Analogy** { vertical-output: true, display-mode: \"both\" }\n",
        "res = {'SQL': ['INSTR', 'LENGTH', 'SUBSTR', 'LIKE', 'title LIKE', '\"%2018_\"'],\n",
        "                                  'Pandas': [\"pd.Series.find()\", \n",
        "                                             \"pd.Series.str.len()\",\n",
        "                                             \"pd.Series.str.slice()\",\n",
        "                                             \"pd.Series.str.contains()\",\n",
        "                                             \"table['title'].str.contains()\",\n",
        "                                             \"r'(2018.)$'\"                                             \n",
        "                                             ]}\n",
        "pd.DataFrame(res)"
      ],
      "execution_count": 57,
      "outputs": [
        {
          "output_type": "execute_result",
          "data": {
            "text/html": [
              "<div>\n",
              "<style scoped>\n",
              "    .dataframe tbody tr th:only-of-type {\n",
              "        vertical-align: middle;\n",
              "    }\n",
              "\n",
              "    .dataframe tbody tr th {\n",
              "        vertical-align: top;\n",
              "    }\n",
              "\n",
              "    .dataframe thead th {\n",
              "        text-align: right;\n",
              "    }\n",
              "</style>\n",
              "<table border=\"1\" class=\"dataframe\">\n",
              "  <thead>\n",
              "    <tr style=\"text-align: right;\">\n",
              "      <th></th>\n",
              "      <th>SQL</th>\n",
              "      <th>Pandas</th>\n",
              "    </tr>\n",
              "  </thead>\n",
              "  <tbody>\n",
              "    <tr>\n",
              "      <th>0</th>\n",
              "      <td>INSTR</td>\n",
              "      <td>pd.Series.find()</td>\n",
              "    </tr>\n",
              "    <tr>\n",
              "      <th>1</th>\n",
              "      <td>LENGTH</td>\n",
              "      <td>pd.Series.str.len()</td>\n",
              "    </tr>\n",
              "    <tr>\n",
              "      <th>2</th>\n",
              "      <td>SUBSTR</td>\n",
              "      <td>pd.Series.str.slice()</td>\n",
              "    </tr>\n",
              "    <tr>\n",
              "      <th>3</th>\n",
              "      <td>LIKE</td>\n",
              "      <td>pd.Series.str.contains()</td>\n",
              "    </tr>\n",
              "    <tr>\n",
              "      <th>4</th>\n",
              "      <td>title LIKE</td>\n",
              "      <td>table['title'].str.contains()</td>\n",
              "    </tr>\n",
              "    <tr>\n",
              "      <th>5</th>\n",
              "      <td>\"%2018_\"</td>\n",
              "      <td>r'(2018.)$'</td>\n",
              "    </tr>\n",
              "  </tbody>\n",
              "</table>\n",
              "</div>"
            ],
            "text/plain": [
              "          SQL                         Pandas\n",
              "0       INSTR               pd.Series.find()\n",
              "1      LENGTH            pd.Series.str.len()\n",
              "2      SUBSTR          pd.Series.str.slice()\n",
              "3        LIKE       pd.Series.str.contains()\n",
              "4  title LIKE  table['title'].str.contains()\n",
              "5    \"%2018_\"                    r'(2018.)$'"
            ]
          },
          "metadata": {
            "tags": []
          },
          "execution_count": 57
        }
      ]
    },
    {
      "cell_type": "code",
      "metadata": {
        "id": "2K1ZW9I08Ss6",
        "colab_type": "code",
        "outputId": "2ec550b5-03d5-47c6-c08c-adc0e65f4a28",
        "colab": {
          "base_uri": "https://localhost:8080/",
          "height": 204
        }
      },
      "source": [
        "#@title **SQL and Pandas - LIKE Operator - Syntax Analogy** { vertical-output: true, display-mode: \"both\" }\n",
        "res = {'SQL': [\"LIKE 'No %'\", \"LIKE '%ood'\", \"LIKE 'g%ing'\", \"LIKE 'g%ing'\", \"LIKE 'r____s'\"],\n",
        "                                  'Pandas': [\"pd.Series.startswith('No ')\", \n",
        "                                             \"pd.Series.endswith('ood')\",\n",
        "                                             \"(pd.Series.startswith('g') & (pd.Series.endswith('ing'))\",\n",
        "                                             \"pd.Series.str.contains(r'^(g)([\\w\\d\\s])*(ing)$')\",\n",
        "                                             \"pd.Series.str.contains(r'^r....s$')\"                                                                                       \n",
        "                                             ]}\n",
        "pd.DataFrame(res)"
      ],
      "execution_count": 58,
      "outputs": [
        {
          "output_type": "execute_result",
          "data": {
            "text/html": [
              "<div>\n",
              "<style scoped>\n",
              "    .dataframe tbody tr th:only-of-type {\n",
              "        vertical-align: middle;\n",
              "    }\n",
              "\n",
              "    .dataframe tbody tr th {\n",
              "        vertical-align: top;\n",
              "    }\n",
              "\n",
              "    .dataframe thead th {\n",
              "        text-align: right;\n",
              "    }\n",
              "</style>\n",
              "<table border=\"1\" class=\"dataframe\">\n",
              "  <thead>\n",
              "    <tr style=\"text-align: right;\">\n",
              "      <th></th>\n",
              "      <th>SQL</th>\n",
              "      <th>Pandas</th>\n",
              "    </tr>\n",
              "  </thead>\n",
              "  <tbody>\n",
              "    <tr>\n",
              "      <th>0</th>\n",
              "      <td>LIKE 'No %'</td>\n",
              "      <td>pd.Series.startswith('No ')</td>\n",
              "    </tr>\n",
              "    <tr>\n",
              "      <th>1</th>\n",
              "      <td>LIKE '%ood'</td>\n",
              "      <td>pd.Series.endswith('ood')</td>\n",
              "    </tr>\n",
              "    <tr>\n",
              "      <th>2</th>\n",
              "      <td>LIKE 'g%ing'</td>\n",
              "      <td>(pd.Series.startswith('g') &amp; (pd.Series.endswith('ing'))</td>\n",
              "    </tr>\n",
              "    <tr>\n",
              "      <th>3</th>\n",
              "      <td>LIKE 'g%ing'</td>\n",
              "      <td>pd.Series.str.contains(r'^(g)([\\w\\d\\s])*(ing)$')</td>\n",
              "    </tr>\n",
              "    <tr>\n",
              "      <th>4</th>\n",
              "      <td>LIKE 'r____s'</td>\n",
              "      <td>pd.Series.str.contains(r'^r....s$')</td>\n",
              "    </tr>\n",
              "  </tbody>\n",
              "</table>\n",
              "</div>"
            ],
            "text/plain": [
              "             SQL                                                    Pandas\n",
              "0    LIKE 'No %'                               pd.Series.startswith('No ')\n",
              "1    LIKE '%ood'                                 pd.Series.endswith('ood')\n",
              "2   LIKE 'g%ing'  (pd.Series.startswith('g') & (pd.Series.endswith('ing'))\n",
              "3   LIKE 'g%ing'          pd.Series.str.contains(r'^(g)([\\w\\d\\s])*(ing)$')\n",
              "4  LIKE 'r____s'                       pd.Series.str.contains(r'^r....s$')"
            ]
          },
          "metadata": {
            "tags": []
          },
          "execution_count": 58
        }
      ]
    },
    {
      "cell_type": "code",
      "metadata": {
        "id": "y7ETSI0jXit9",
        "colab_type": "code",
        "outputId": "1ebb111a-b10e-45c1-a41a-37a01e067cd8",
        "colab": {
          "base_uri": "https://localhost:8080/",
          "height": 399
        }
      },
      "source": [
        "#@title **SQL and Pandas - `Wildcard Characters`** { vertical-output: true, display-mode: \"both\" }\n",
        "res = {'SQL': [\"%\", \"_\",  \"A__\", \"__Z\", \"ESCAPE\", \"[ ]\", \"! or ^\", \"-\"],\n",
        "                                  'Pandas': [\"([\\w\\d\\s]*)\", \n",
        "                                             \".\",\n",
        "                                             \"^A__\",\n",
        "                                             \"__Z$\",\n",
        "                                             \"\\\\\",\n",
        "                                             \"[ ]\",\n",
        "                                             \"~ or ?! [lookahead negation]\" ,    \n",
        "                                             \"-\"                                                                                                                          \n",
        "                                             ],\n",
        "       'Description': ['zero or more occurrence of any characters',\n",
        "                       'exactly one occurrence of any characters',\n",
        "                       'Any strings which starts with letter A, followed by two characteres',\n",
        "                       'Any strings which ends with letter Z, preceded by two characteres',\n",
        "                       'Escapes the meaning of the letter written after this operator',\n",
        "                       'Represents a set of characters and matches if any of the characters present in the input  string',\n",
        "                       'Negation Operator',\n",
        "                       'Hyphen represents a range of character'\n",
        "                       ]}\n",
        "pd.DataFrame(res)"
      ],
      "execution_count": 59,
      "outputs": [
        {
          "output_type": "execute_result",
          "data": {
            "text/html": [
              "<div>\n",
              "<style scoped>\n",
              "    .dataframe tbody tr th:only-of-type {\n",
              "        vertical-align: middle;\n",
              "    }\n",
              "\n",
              "    .dataframe tbody tr th {\n",
              "        vertical-align: top;\n",
              "    }\n",
              "\n",
              "    .dataframe thead th {\n",
              "        text-align: right;\n",
              "    }\n",
              "</style>\n",
              "<table border=\"1\" class=\"dataframe\">\n",
              "  <thead>\n",
              "    <tr style=\"text-align: right;\">\n",
              "      <th></th>\n",
              "      <th>SQL</th>\n",
              "      <th>Pandas</th>\n",
              "      <th>Description</th>\n",
              "    </tr>\n",
              "  </thead>\n",
              "  <tbody>\n",
              "    <tr>\n",
              "      <th>0</th>\n",
              "      <td>%</td>\n",
              "      <td>([\\w\\d\\s]*)</td>\n",
              "      <td>zero or more occurrence of any characters</td>\n",
              "    </tr>\n",
              "    <tr>\n",
              "      <th>1</th>\n",
              "      <td>_</td>\n",
              "      <td>.</td>\n",
              "      <td>exactly one occurrence of any characters</td>\n",
              "    </tr>\n",
              "    <tr>\n",
              "      <th>2</th>\n",
              "      <td>A__</td>\n",
              "      <td>^A__</td>\n",
              "      <td>Any strings which starts with letter A, followed by two characteres</td>\n",
              "    </tr>\n",
              "    <tr>\n",
              "      <th>3</th>\n",
              "      <td>__Z</td>\n",
              "      <td>__Z$</td>\n",
              "      <td>Any strings which ends with letter Z, preceded by two characteres</td>\n",
              "    </tr>\n",
              "    <tr>\n",
              "      <th>4</th>\n",
              "      <td>ESCAPE</td>\n",
              "      <td>\\</td>\n",
              "      <td>Escapes the meaning of the letter written after this operator</td>\n",
              "    </tr>\n",
              "    <tr>\n",
              "      <th>5</th>\n",
              "      <td>[ ]</td>\n",
              "      <td>[ ]</td>\n",
              "      <td>Represents a set of characters and matches if any of the characters present in the input  string</td>\n",
              "    </tr>\n",
              "    <tr>\n",
              "      <th>6</th>\n",
              "      <td>! or ^</td>\n",
              "      <td>~ or ?! [lookahead negation]</td>\n",
              "      <td>Negation Operator</td>\n",
              "    </tr>\n",
              "    <tr>\n",
              "      <th>7</th>\n",
              "      <td>-</td>\n",
              "      <td>-</td>\n",
              "      <td>Hyphen represents a range of character</td>\n",
              "    </tr>\n",
              "  </tbody>\n",
              "</table>\n",
              "</div>"
            ],
            "text/plain": [
              "      SQL                        Pandas                                                                                       Description\n",
              "0       %                   ([\\w\\d\\s]*)                                                         zero or more occurrence of any characters\n",
              "1       _                             .                                                          exactly one occurrence of any characters\n",
              "2     A__                          ^A__                               Any strings which starts with letter A, followed by two characteres\n",
              "3     __Z                          __Z$                                 Any strings which ends with letter Z, preceded by two characteres\n",
              "4  ESCAPE                             \\                                     Escapes the meaning of the letter written after this operator\n",
              "5     [ ]                           [ ]  Represents a set of characters and matches if any of the characters present in the input  string\n",
              "6  ! or ^  ~ or ?! [lookahead negation]                                                                                 Negation Operator\n",
              "7       -                             -                                                            Hyphen represents a range of character"
            ]
          },
          "metadata": {
            "tags": []
          },
          "execution_count": 59
        }
      ]
    },
    {
      "cell_type": "markdown",
      "metadata": {
        "id": "9LKE8gzfDdFR",
        "colab_type": "text"
      },
      "source": [
        "### Query 25: Find all the tags that starts with 'r' and ends with 's', and having 11 characters in between. Group by tag and get the count of each group. Search should be case insensitive."
      ]
    },
    {
      "cell_type": "markdown",
      "metadata": {
        "colab_type": "text",
        "id": "xbrpXHK5YjJU"
      },
      "source": [
        "> * **SQL** "
      ]
    },
    {
      "cell_type": "code",
      "metadata": {
        "id": "eaVnrSNh90d-",
        "colab_type": "code",
        "outputId": "4319bcc5-291d-4f85-bab6-0510aefeea4f",
        "colab": {
          "base_uri": "https://localhost:8080/",
          "height": 111
        }
      },
      "source": [
        "table_name = 'tags'\n",
        "rs = con.execute(f'''SELECT tag, COUNT(tag)\n",
        "                     FROM {table_name}    \n",
        "                     WHERE tag LIKE \"r___________s\"   \n",
        "                     GROUP BY LOWER(tag)\n",
        "                     ''')\n",
        "pd.DataFrame(rs.fetchall(), columns=['tag', 'count'])"
      ],
      "execution_count": 60,
      "outputs": [
        {
          "output_type": "execute_result",
          "data": {
            "text/html": [
              "<div>\n",
              "<style scoped>\n",
              "    .dataframe tbody tr th:only-of-type {\n",
              "        vertical-align: middle;\n",
              "    }\n",
              "\n",
              "    .dataframe tbody tr th {\n",
              "        vertical-align: top;\n",
              "    }\n",
              "\n",
              "    .dataframe thead th {\n",
              "        text-align: right;\n",
              "    }\n",
              "</style>\n",
              "<table border=\"1\" class=\"dataframe\">\n",
              "  <thead>\n",
              "    <tr style=\"text-align: right;\">\n",
              "      <th></th>\n",
              "      <th>tag</th>\n",
              "      <th>count</th>\n",
              "    </tr>\n",
              "  </thead>\n",
              "  <tbody>\n",
              "    <tr>\n",
              "      <th>0</th>\n",
              "      <td>Ralph Fiennes</td>\n",
              "      <td>1</td>\n",
              "    </tr>\n",
              "    <tr>\n",
              "      <th>1</th>\n",
              "      <td>Ryan Reynolds</td>\n",
              "      <td>5</td>\n",
              "    </tr>\n",
              "  </tbody>\n",
              "</table>\n",
              "</div>"
            ],
            "text/plain": [
              "             tag  count\n",
              "0  Ralph Fiennes      1\n",
              "1  Ryan Reynolds      5"
            ]
          },
          "metadata": {
            "tags": []
          },
          "execution_count": 60
        }
      ]
    },
    {
      "cell_type": "code",
      "metadata": {
        "id": "b-dxkayGXnZk",
        "colab_type": "code",
        "outputId": "0e3a169b-872d-44ac-bb7a-fffaf14d5d7a",
        "colab": {
          "base_uri": "https://localhost:8080/",
          "height": 142
        }
      },
      "source": [
        "table_name = 'tags'\n",
        "rs = con.execute(f'''SELECT tag, COUNT(tag)\n",
        "                     FROM {table_name}    \n",
        "                     WHERE tag LIKE \"r%\"  AND tag LIKE \"%s\" AND LENGTH(tag) = 11 + 2  \n",
        "                     GROUP BY tag\n",
        "                     ''')\n",
        "pd.DataFrame(rs.fetchall(), columns=['tag', 'count'])"
      ],
      "execution_count": 61,
      "outputs": [
        {
          "output_type": "execute_result",
          "data": {
            "text/html": [
              "<div>\n",
              "<style scoped>\n",
              "    .dataframe tbody tr th:only-of-type {\n",
              "        vertical-align: middle;\n",
              "    }\n",
              "\n",
              "    .dataframe tbody tr th {\n",
              "        vertical-align: top;\n",
              "    }\n",
              "\n",
              "    .dataframe thead th {\n",
              "        text-align: right;\n",
              "    }\n",
              "</style>\n",
              "<table border=\"1\" class=\"dataframe\">\n",
              "  <thead>\n",
              "    <tr style=\"text-align: right;\">\n",
              "      <th></th>\n",
              "      <th>tag</th>\n",
              "      <th>count</th>\n",
              "    </tr>\n",
              "  </thead>\n",
              "  <tbody>\n",
              "    <tr>\n",
              "      <th>0</th>\n",
              "      <td>Ralph Fiennes</td>\n",
              "      <td>1</td>\n",
              "    </tr>\n",
              "    <tr>\n",
              "      <th>1</th>\n",
              "      <td>Ryan Reynolds</td>\n",
              "      <td>4</td>\n",
              "    </tr>\n",
              "    <tr>\n",
              "      <th>2</th>\n",
              "      <td>ryan reynolds</td>\n",
              "      <td>1</td>\n",
              "    </tr>\n",
              "  </tbody>\n",
              "</table>\n",
              "</div>"
            ],
            "text/plain": [
              "             tag  count\n",
              "0  Ralph Fiennes      1\n",
              "1  Ryan Reynolds      4\n",
              "2  ryan reynolds      1"
            ]
          },
          "metadata": {
            "tags": []
          },
          "execution_count": 61
        }
      ]
    },
    {
      "cell_type": "code",
      "metadata": {
        "id": "sdVNM-R8CqY4",
        "colab_type": "code",
        "outputId": "97ab0e52-c9fa-4838-94d9-ebeeb7288f12",
        "colab": {
          "base_uri": "https://localhost:8080/",
          "height": 111
        }
      },
      "source": [
        "table_name = 'tags'\n",
        "rs = con.execute(f'''SELECT tag, COUNT(tag)\n",
        "                     FROM {table_name}    \n",
        "                     WHERE tag LIKE \"r%\"  AND tag LIKE \"%s\" AND LENGTH(tag) = 11 + 2  \n",
        "                     GROUP BY LOWER (tag)\n",
        "                     ''')\n",
        "pd.DataFrame(rs.fetchall(), columns=['tag', 'count'])"
      ],
      "execution_count": 62,
      "outputs": [
        {
          "output_type": "execute_result",
          "data": {
            "text/html": [
              "<div>\n",
              "<style scoped>\n",
              "    .dataframe tbody tr th:only-of-type {\n",
              "        vertical-align: middle;\n",
              "    }\n",
              "\n",
              "    .dataframe tbody tr th {\n",
              "        vertical-align: top;\n",
              "    }\n",
              "\n",
              "    .dataframe thead th {\n",
              "        text-align: right;\n",
              "    }\n",
              "</style>\n",
              "<table border=\"1\" class=\"dataframe\">\n",
              "  <thead>\n",
              "    <tr style=\"text-align: right;\">\n",
              "      <th></th>\n",
              "      <th>tag</th>\n",
              "      <th>count</th>\n",
              "    </tr>\n",
              "  </thead>\n",
              "  <tbody>\n",
              "    <tr>\n",
              "      <th>0</th>\n",
              "      <td>Ralph Fiennes</td>\n",
              "      <td>1</td>\n",
              "    </tr>\n",
              "    <tr>\n",
              "      <th>1</th>\n",
              "      <td>Ryan Reynolds</td>\n",
              "      <td>5</td>\n",
              "    </tr>\n",
              "  </tbody>\n",
              "</table>\n",
              "</div>"
            ],
            "text/plain": [
              "             tag  count\n",
              "0  Ralph Fiennes      1\n",
              "1  Ryan Reynolds      5"
            ]
          },
          "metadata": {
            "tags": []
          },
          "execution_count": 62
        }
      ]
    },
    {
      "cell_type": "markdown",
      "metadata": {
        "colab_type": "text",
        "id": "Z6q-xgmzYlko"
      },
      "source": [
        "> * **Pandas** "
      ]
    },
    {
      "cell_type": "code",
      "metadata": {
        "id": "FnDEn8VkY0dh",
        "colab_type": "code",
        "outputId": "a9a9a0e9-a2b0-4b32-da71-317be0cf9a16",
        "colab": {
          "base_uri": "https://localhost:8080/",
          "height": 142
        }
      },
      "source": [
        "db['tags'][(db['tags']['tag'].str.lower().str.startswith('r')) & \n",
        "           (db['tags']['tag'].str.lower().str.endswith('s')) &\n",
        "           (db['tags']['tag'].str.len() == 13)][['tag']].apply(lambda x: x.str.lower()).groupby(by=['tag']).agg({'tag': 'count'})"
      ],
      "execution_count": 63,
      "outputs": [
        {
          "output_type": "execute_result",
          "data": {
            "text/html": [
              "<div>\n",
              "<style scoped>\n",
              "    .dataframe tbody tr th:only-of-type {\n",
              "        vertical-align: middle;\n",
              "    }\n",
              "\n",
              "    .dataframe tbody tr th {\n",
              "        vertical-align: top;\n",
              "    }\n",
              "\n",
              "    .dataframe thead th {\n",
              "        text-align: right;\n",
              "    }\n",
              "</style>\n",
              "<table border=\"1\" class=\"dataframe\">\n",
              "  <thead>\n",
              "    <tr style=\"text-align: right;\">\n",
              "      <th></th>\n",
              "      <th>tag</th>\n",
              "    </tr>\n",
              "    <tr>\n",
              "      <th>tag</th>\n",
              "      <th></th>\n",
              "    </tr>\n",
              "  </thead>\n",
              "  <tbody>\n",
              "    <tr>\n",
              "      <th>ralph fiennes</th>\n",
              "      <td>1</td>\n",
              "    </tr>\n",
              "    <tr>\n",
              "      <th>ryan reynolds</th>\n",
              "      <td>5</td>\n",
              "    </tr>\n",
              "  </tbody>\n",
              "</table>\n",
              "</div>"
            ],
            "text/plain": [
              "               tag\n",
              "tag               \n",
              "ralph fiennes    1\n",
              "ryan reynolds    5"
            ]
          },
          "metadata": {
            "tags": []
          },
          "execution_count": 63
        }
      ]
    },
    {
      "cell_type": "code",
      "metadata": {
        "id": "b8I2PLoSAnEs",
        "colab_type": "code",
        "outputId": "39786b42-237a-49bd-851c-d58435e693a6",
        "colab": {
          "base_uri": "https://localhost:8080/",
          "height": 142
        }
      },
      "source": [
        "table = db[table_name]\n",
        "FROM_CLAUSE = table\n",
        "SELECT_CLAUSE = ['tag']\n",
        "\n",
        "COLUMN = db['tags']['tag']\n",
        "COLUMN_LOWER = COLUMN.str.lower()\n",
        "\n",
        "STARTSWITH_CONDITION = (COLUMN_LOWER.str.startswith('r'))\n",
        "ENDSWITH_CONDITION = (COLUMN_LOWER.str.endswith('s'))\n",
        "LENGTH_CONDITION = (COLUMN_LOWER.str.len() == 13)\n",
        "\n",
        "GROUPBY = pd.DataFrame.groupby\n",
        "GROUPED_COLUMNS = ['tag']\n",
        "AGG_OP = {'tag': 'count'}\n",
        "\n",
        "WHERE_CLAUSE = (STARTSWITH_CONDITION & ENDSWITH_CONDITION & LENGTH_CONDITION)\n",
        "res = GROUPBY(FROM_CLAUSE[WHERE_CLAUSE][SELECT_CLAUSE].apply(lambda x: x.str.lower()), by=GROUPED_COLUMNS).agg(AGG_OP)\n",
        "res"
      ],
      "execution_count": 64,
      "outputs": [
        {
          "output_type": "execute_result",
          "data": {
            "text/html": [
              "<div>\n",
              "<style scoped>\n",
              "    .dataframe tbody tr th:only-of-type {\n",
              "        vertical-align: middle;\n",
              "    }\n",
              "\n",
              "    .dataframe tbody tr th {\n",
              "        vertical-align: top;\n",
              "    }\n",
              "\n",
              "    .dataframe thead th {\n",
              "        text-align: right;\n",
              "    }\n",
              "</style>\n",
              "<table border=\"1\" class=\"dataframe\">\n",
              "  <thead>\n",
              "    <tr style=\"text-align: right;\">\n",
              "      <th></th>\n",
              "      <th>tag</th>\n",
              "    </tr>\n",
              "    <tr>\n",
              "      <th>tag</th>\n",
              "      <th></th>\n",
              "    </tr>\n",
              "  </thead>\n",
              "  <tbody>\n",
              "    <tr>\n",
              "      <th>ralph fiennes</th>\n",
              "      <td>1</td>\n",
              "    </tr>\n",
              "    <tr>\n",
              "      <th>ryan reynolds</th>\n",
              "      <td>5</td>\n",
              "    </tr>\n",
              "  </tbody>\n",
              "</table>\n",
              "</div>"
            ],
            "text/plain": [
              "               tag\n",
              "tag               \n",
              "ralph fiennes    1\n",
              "ryan reynolds    5"
            ]
          },
          "metadata": {
            "tags": []
          },
          "execution_count": 64
        }
      ]
    },
    {
      "cell_type": "code",
      "metadata": {
        "id": "5VtqNeEuaFcI",
        "colab_type": "code",
        "outputId": "c2d39da6-f667-4ca6-8689-5e690f62a161",
        "colab": {
          "base_uri": "https://localhost:8080/",
          "height": 176
        }
      },
      "source": [
        "table = db[table_name]\n",
        "FROM_CLAUSE = table\n",
        "SELECT_CLAUSE = ['tag']\n",
        "\n",
        "COLUMN = db['tags']['tag']\n",
        "COLUMN_LIKE = COLUMN.str.contains\n",
        "PATTERN = r\"^[rR]([\\w\\d\\s]){11}[s|S]$\"\n",
        "\n",
        "WHERE_CLAUSE = COLUMN_LIKE(PATTERN)\n",
        "\n",
        "GROUPBY = pd.DataFrame.groupby\n",
        "GROUPED_COLUMNS = ['tag']\n",
        "AGG_OP = {'tag': 'count'}\n",
        "\n",
        "res = GROUPBY(FROM_CLAUSE[WHERE_CLAUSE][SELECT_CLAUSE].apply(lambda x: x.str.lower()), by=GROUPED_COLUMNS).agg(AGG_OP)\n",
        "res"
      ],
      "execution_count": 65,
      "outputs": [
        {
          "output_type": "stream",
          "text": [
            "/usr/local/lib/python3.6/dist-packages/pandas/core/strings.py:1843: UserWarning: This pattern has match groups. To actually get the groups, use str.extract.\n",
            "  return func(self, *args, **kwargs)\n"
          ],
          "name": "stderr"
        },
        {
          "output_type": "execute_result",
          "data": {
            "text/html": [
              "<div>\n",
              "<style scoped>\n",
              "    .dataframe tbody tr th:only-of-type {\n",
              "        vertical-align: middle;\n",
              "    }\n",
              "\n",
              "    .dataframe tbody tr th {\n",
              "        vertical-align: top;\n",
              "    }\n",
              "\n",
              "    .dataframe thead th {\n",
              "        text-align: right;\n",
              "    }\n",
              "</style>\n",
              "<table border=\"1\" class=\"dataframe\">\n",
              "  <thead>\n",
              "    <tr style=\"text-align: right;\">\n",
              "      <th></th>\n",
              "      <th>tag</th>\n",
              "    </tr>\n",
              "    <tr>\n",
              "      <th>tag</th>\n",
              "      <th></th>\n",
              "    </tr>\n",
              "  </thead>\n",
              "  <tbody>\n",
              "    <tr>\n",
              "      <th>ralph fiennes</th>\n",
              "      <td>1</td>\n",
              "    </tr>\n",
              "    <tr>\n",
              "      <th>ryan reynolds</th>\n",
              "      <td>5</td>\n",
              "    </tr>\n",
              "  </tbody>\n",
              "</table>\n",
              "</div>"
            ],
            "text/plain": [
              "               tag\n",
              "tag               \n",
              "ralph fiennes    1\n",
              "ryan reynolds    5"
            ]
          },
          "metadata": {
            "tags": []
          },
          "execution_count": 65
        }
      ]
    },
    {
      "cell_type": "code",
      "metadata": {
        "id": "c-X26lLOqTte",
        "colab_type": "code",
        "colab": {}
      },
      "source": [
        ""
      ],
      "execution_count": 0,
      "outputs": []
    }
  ]
}