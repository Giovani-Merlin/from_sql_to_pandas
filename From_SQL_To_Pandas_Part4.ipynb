{
  "nbformat": 4,
  "nbformat_minor": 0,
  "metadata": {
    "colab": {
      "name": "From_SQL_To_Pandas_Part4.ipynb",
      "provenance": [],
      "collapsed_sections": [
        "pml1fkZ9DZUb",
        "7aE-7l6SDrpp",
        "GTwXvuIoDzk4",
        "Jw_tdHIz4ud9",
        "X7xZzIen_fM3",
        "EDVK2hCEBxsN",
        "rNK755our8fm",
        "H3ymNkBA6vgg",
        "0aTDGoIeL5NY",
        "QKJqmOXMXj-V",
        "Uiy25d82qtde",
        "AwJtYEWe_1rI",
        "BxNuZ299Gkfk",
        "BGf3iiaublgF",
        "HUxRtwrxdyEo",
        "nHB-kYesiPhf",
        "kxE-JrCRllUa",
        "4byAnNzS_LjR",
        "EEvMDR53PlGo",
        "VQLtMRnDTb82",
        "quk4wI3Ea5I1",
        "SlfZtddad9L2",
        "_4Pc9exvicrQ",
        "1cqIwO4fj04s",
        "0AP2fzosk3dz"
      ]
    },
    "kernelspec": {
      "name": "python3",
      "display_name": "Python 3"
    }
  },
  "cells": [
    {
      "cell_type": "markdown",
      "metadata": {
        "id": "pml1fkZ9DZUb",
        "colab_type": "text"
      },
      "source": [
        "### Download the Data\n",
        "http://files.grouplens.org/datasets/movielens/ml-latest-small.zip\n",
        "\n",
        "https://www.w3resource.com/sql-exercises/movie-database-exercise/joins-exercises-on-movie-database.php"
      ]
    },
    {
      "cell_type": "code",
      "metadata": {
        "id": "xAvK-MNqm4FT",
        "colab_type": "code",
        "outputId": "a5ed7896-0cae-4d15-8bb2-9e81f056b00e",
        "colab": {
          "base_uri": "https://localhost:8080/",
          "height": 190
        }
      },
      "source": [
        "!pip install wget"
      ],
      "execution_count": 0,
      "outputs": [
        {
          "output_type": "stream",
          "text": [
            "Collecting wget\n",
            "  Downloading https://files.pythonhosted.org/packages/47/6a/62e288da7bcda82b935ff0c6cfe542970f04e29c756b0e147251b2fb251f/wget-3.2.zip\n",
            "Building wheels for collected packages: wget\n",
            "  Building wheel for wget (setup.py) ... \u001b[?25l\u001b[?25hdone\n",
            "  Created wheel for wget: filename=wget-3.2-cp36-none-any.whl size=9681 sha256=3062554601fa486d14d171fc087413ee1953a599203737499d1a08993144b933\n",
            "  Stored in directory: /root/.cache/pip/wheels/40/15/30/7d8f7cea2902b4db79e3fea550d7d7b85ecb27ef992b618f3f\n",
            "Successfully built wget\n",
            "Installing collected packages: wget\n",
            "Successfully installed wget-3.2\n"
          ],
          "name": "stdout"
        }
      ]
    },
    {
      "cell_type": "code",
      "metadata": {
        "id": "ec7UyyUXnPPN",
        "colab_type": "code",
        "outputId": "d295c79d-292e-4bae-b42c-e6d4ff146f12",
        "colab": {
          "base_uri": "https://localhost:8080/",
          "height": 54
        }
      },
      "source": [
        "import wget\n",
        "fn = wget.download('https://github.com/RJ2494/from_sql_to_pandas/raw/master/movie_rating.zip')\n",
        "fn"
      ],
      "execution_count": 0,
      "outputs": [
        {
          "output_type": "execute_result",
          "data": {
            "text/plain": [
              "'movie_rating.zip'"
            ]
          },
          "metadata": {
            "tags": []
          },
          "execution_count": 2
        }
      ]
    },
    {
      "cell_type": "code",
      "metadata": {
        "id": "tZ7ubpYqnbaK",
        "colab_type": "code",
        "outputId": "218fc222-4a33-489c-efc4-d6f3353119ba",
        "colab": {
          "base_uri": "https://localhost:8080/",
          "height": 224
        }
      },
      "source": [
        "# !unzip $fn\n",
        "!unzip movie_rating.zip"
      ],
      "execution_count": 0,
      "outputs": [
        {
          "output_type": "stream",
          "text": [
            "Archive:  movie_rating.zip\n",
            "  inflating: movie_rating/actor.csv  \n",
            "  inflating: movie_rating/director.csv  \n",
            "  inflating: movie_rating/genre.csv  \n",
            "  inflating: movie_rating/genres.csv  \n",
            "  inflating: movie_rating/movie.csv  \n",
            "  inflating: movie_rating/movie_cast.csv  \n",
            "  inflating: movie_rating/movie_direction.csv  \n",
            "  inflating: movie_rating/movie_genres.csv  \n",
            "  inflating: movie_rating/rating.csv  \n",
            "  inflating: movie_rating/reviewer.csv  \n"
          ],
          "name": "stdout"
        }
      ]
    },
    {
      "cell_type": "markdown",
      "metadata": {
        "id": "7aE-7l6SDrpp",
        "colab_type": "text"
      },
      "source": [
        "### Basic Info About Data"
      ]
    },
    {
      "cell_type": "code",
      "metadata": {
        "id": "2QTto2Icnvzw",
        "colab_type": "code",
        "colab": {}
      },
      "source": [
        "PATH = './movie_rating'\n",
        "# PATH = '.'"
      ],
      "execution_count": 0,
      "outputs": []
    },
    {
      "cell_type": "code",
      "metadata": {
        "id": "a0teWceFyOix",
        "colab_type": "code",
        "outputId": "f861bdd6-8e02-45c0-e6c3-b4559ffa6536",
        "colab": {
          "base_uri": "https://localhost:8080/",
          "height": 224
        }
      },
      "source": [
        "!find $PATH -name '*.csv' | xargs wc -l | sort -nr"
      ],
      "execution_count": 0,
      "outputs": [
        {
          "output_type": "stream",
          "text": [
            " 215 total\n",
            "  29 ./movie_rating/movie.csv\n",
            "  25 ./movie_rating/actor.csv\n",
            "  24 ./movie_rating/movie_direction.csv\n",
            "  24 ./movie_rating/movie_cast.csv\n",
            "  24 ./movie_rating/director.csv\n",
            "  21 ./movie_rating/reviewer.csv\n",
            "  20 ./movie_rating/rating.csv\n",
            "  20 ./movie_rating/movie_genres.csv\n",
            "  14 ./movie_rating/genres.csv\n",
            "  14 ./movie_rating/genre.csv\n"
          ],
          "name": "stdout"
        }
      ]
    },
    {
      "cell_type": "code",
      "metadata": {
        "id": "XFRXqUcq2ua_",
        "colab_type": "code",
        "outputId": "0519ab1d-c42f-49ec-b6c9-3cc95d7d2dab",
        "colab": {
          "base_uri": "https://localhost:8080/",
          "height": 530
        }
      },
      "source": [
        "# find which seperator is used to seperate the columns of each csv file\n",
        "!head -1 $PATH/*.csv"
      ],
      "execution_count": 0,
      "outputs": [
        {
          "output_type": "stream",
          "text": [
            "==> ./movie_rating/actor.csv <==\n",
            "act_id|act_fname|act_lname|act_gender\n",
            "\n",
            "==> ./movie_rating/director.csv <==\n",
            "dir_id|dir_fname|dir_lname\n",
            "\n",
            "==> ./movie_rating/genre.csv <==\n",
            "gen_id|gen_title\n",
            "\n",
            "==> ./movie_rating/genres.csv <==\n",
            "gen_id|gen_title\n",
            "\n",
            "==> ./movie_rating/movie_cast.csv <==\n",
            "act_id|mov_id|role\n",
            "\n",
            "==> ./movie_rating/movie.csv <==\n",
            "mov_id|mov_title|mov_year|mov_time|mov_lang|mov_dt_rel|mov_rel_country\n",
            "\n",
            "==> ./movie_rating/movie_direction.csv <==\n",
            "dir_id|mov_id\n",
            "\n",
            "==> ./movie_rating/movie_genres.csv <==\n",
            "mov_id|gen_id\n",
            "\n",
            "==> ./movie_rating/rating.csv <==\n",
            "mov_id|rev_id|rev_stars|num_of_ratings\n",
            "\n",
            "==> ./movie_rating/reviewer.csv <==\n",
            "rev_id|rev_name\n"
          ],
          "name": "stdout"
        }
      ]
    },
    {
      "cell_type": "markdown",
      "metadata": {
        "id": "u3lC7fwxDOZm",
        "colab_type": "text"
      },
      "source": [
        "> * We can see that all files are `|`  seperated."
      ]
    },
    {
      "cell_type": "markdown",
      "metadata": {
        "id": "GTwXvuIoDzk4",
        "colab_type": "text"
      },
      "source": [
        "### Read the Dataset"
      ]
    },
    {
      "cell_type": "code",
      "metadata": {
        "id": "XVpz-pxyDVsH",
        "colab_type": "code",
        "colab": {}
      },
      "source": [
        "import pandas as pd\n",
        "import numpy as np\n",
        "import re\n",
        "import os\n",
        "\n",
        "from collections import defaultdict"
      ],
      "execution_count": 0,
      "outputs": []
    },
    {
      "cell_type": "code",
      "metadata": {
        "id": "3rKUOSSsSj1Y",
        "colab_type": "code",
        "colab": {}
      },
      "source": [
        "pd.set_option('display.width', 1000)\n",
        "pd.set_option('display.max_columns', 1000)\n",
        "pd.set_option('display.max_rows', 1000)\n",
        "pd.set_option('display.max_colwidth', 1000)"
      ],
      "execution_count": 0,
      "outputs": []
    },
    {
      "cell_type": "code",
      "metadata": {
        "id": "kX8JKrlBEA0v",
        "colab_type": "code",
        "colab": {}
      },
      "source": [
        "db = defaultdict(pd.DataFrame)\n",
        "\n",
        "for filename in os.listdir(PATH):\n",
        "    if filename.endswith('.csv'):\n",
        "        db[filename.split('.')[0]] = pd.read_csv(f\"{PATH}/{filename}\", sep='|')\n",
        "        "
      ],
      "execution_count": 0,
      "outputs": []
    },
    {
      "cell_type": "code",
      "metadata": {
        "id": "TEvlY71HEN3W",
        "colab_type": "code",
        "outputId": "f288b64f-b600-467a-8900-2c8a0d9e89b9",
        "colab": {
          "base_uri": "https://localhost:8080/",
          "height": 1000
        }
      },
      "source": [
        "pd.DataFrame(db.items(), columns=['table_name', 'table_data'])"
      ],
      "execution_count": 0,
      "outputs": [
        {
          "output_type": "execute_result",
          "data": {
            "text/html": [
              "<div>\n",
              "<style scoped>\n",
              "    .dataframe tbody tr th:only-of-type {\n",
              "        vertical-align: middle;\n",
              "    }\n",
              "\n",
              "    .dataframe tbody tr th {\n",
              "        vertical-align: top;\n",
              "    }\n",
              "\n",
              "    .dataframe thead th {\n",
              "        text-align: right;\n",
              "    }\n",
              "</style>\n",
              "<table border=\"1\" class=\"dataframe\">\n",
              "  <thead>\n",
              "    <tr style=\"text-align: right;\">\n",
              "      <th></th>\n",
              "      <th>table_name</th>\n",
              "      <th>table_data</th>\n",
              "    </tr>\n",
              "  </thead>\n",
              "  <tbody>\n",
              "    <tr>\n",
              "      <th>0</th>\n",
              "      <td>genre</td>\n",
              "      <td>gen_id  gen_title\n",
              "0     1001     Action\n",
              "1     1002  Adventure\n",
              "2     1003  Animation\n",
              "3     1004  Biography\n",
              "4     1005     Comedy\n",
              "5     1006      Crime\n",
              "6     1007      Drama\n",
              "7     1008     Horror\n",
              "8     1009      Music\n",
              "9     1010    Mystery\n",
              "10    1011    Romance\n",
              "11    1012   Thriller\n",
              "12    1013        War</td>\n",
              "    </tr>\n",
              "    <tr>\n",
              "      <th>1</th>\n",
              "      <td>director</td>\n",
              "      <td>dir_id    dir_fname       dir_lname\n",
              "0      201       Alfred       Hitchcock\n",
              "1      202         Jack         Clayton\n",
              "2      203        David            Lean\n",
              "3      204      Michael          Cimino\n",
              "4      205        Milos          Forman\n",
              "5      206       Ridley           Scott\n",
              "6      207      Stanley         Kubrick\n",
              "7      208        Bryan          Singer\n",
              "8      209        Roman        Polanski\n",
              "9      210         Paul  ThomasAnderson\n",
              "10     211        Woody           Allen\n",
              "11     212        Hayao        Miyazaki\n",
              "12     213        Frank        Darabont\n",
              "13     214          Sam          Mendes\n",
              "14     215        James         Cameron\n",
              "15     216          Gus         VanSant\n",
              "16     217         John         Boorman\n",
              "17     218        Danny           Boyle\n",
              "18     219  Christopher           Nolan\n",
              "19     220      Richard           Kelly\n",
              "20     221        Kevin          Spacey\n",
              "21     222       Andrei       Tarkovsky\n",
              "22     223        Peter         Jackson</td>\n",
              "    </tr>\n",
              "    <tr>\n",
              "      <th>2</th>\n",
              "      <td>actor</td>\n",
              "      <td>act_id  act_fname   act_lname act_gender\n",
              "0      101      James     Stewart          M\n",
              "1      102    Deborah        Kerr          F\n",
              "2      103      Peter      OToole          M\n",
              "3      104     Robert      DeNiro          M\n",
              "4      105   F.Murray     Abraham          M\n",
              "5      106   Harrison        Ford          M\n",
              "6      107     Nicole      Kidman          F\n",
              "7      108    Stephen     Baldwin          M\n",
              "8      109       Jack   Nicholson          M\n",
              "9      110       Mark    Wahlberg          M\n",
              "10     111      Woody       Allen          M\n",
              "11     112     Claire       Danes          F\n",
              "12     113        Tim     Robbins          M\n",
              "13     114      Kevin      Spacey          M\n",
              "14     115       Kate     Winslet          F\n",
              "15     116      Robin    Williams          M\n",
              "16     117        Jon      Voight          M\n",
              "17     118       Ewan    McGregor          M\n",
              "18     119  Christian        Bale          M\n",
              "19     120     Maggie  Gyllenhaal          F\n",
              "20     121        Dev       Patel          M\n",
              "21    ...</td>\n",
              "    </tr>\n",
              "    <tr>\n",
              "      <th>3</th>\n",
              "      <td>rating</td>\n",
              "      <td>mov_id  rev_id  rev_stars  num_of_ratings\n",
              "0      901    9001        8.4        263575.0\n",
              "1      902    9002        7.9         20207.0\n",
              "2      903    9003        8.3        202778.0\n",
              "3      906    9005        8.2        484746.0\n",
              "4      924    9006        7.3             NaN\n",
              "5      908    9007        8.6        779489.0\n",
              "6      909    9008        NaN        227235.0\n",
              "7      910    9009        3.0        195961.0\n",
              "8      911    9010        8.1        203875.0\n",
              "9      912    9011        8.4             NaN\n",
              "10     914    9013        7.0        862618.0\n",
              "11     915    9001        7.7        830095.0\n",
              "12     916    9014        4.0        642132.0\n",
              "13     925    9015        7.7         81328.0\n",
              "14     918    9016        NaN        580301.0\n",
              "15     920    9017        8.1        609451.0\n",
              "16     921    9018        8.0        667758.0\n",
              "17     922    9019        8.4        511613.0\n",
              "18     923    9020        6.7         13091.0</td>\n",
              "    </tr>\n",
              "    <tr>\n",
              "      <th>4</th>\n",
              "      <td>movie_cast</td>\n",
              "      <td>act_id  mov_id                 role\n",
              "0      101     901  JohnScottieFerguson\n",
              "1      102     902          MissGiddens\n",
              "2      103     903         T.E.Lawrence\n",
              "3      104     904              Michael\n",
              "4      105     905       AntonioSalieri\n",
              "5      106     906          RickDeckard\n",
              "6      107     907         AliceHarford\n",
              "7      108     908              McManus\n",
              "8      110     910           EddieAdams\n",
              "9      111     911           AlvySinger\n",
              "10     112     912                  San\n",
              "11     113     913         AndyDufresne\n",
              "12     114     914        LesterBurnham\n",
              "13     115     915    RoseDeWittBukater\n",
              "14     116     916          SeanMaguire\n",
              "15     117     917                   Ed\n",
              "16     118     918               Renton\n",
              "17     120     920       ElizabethDarko\n",
              "18     121     921           OlderJamal\n",
              "19     122     922               Ripley\n",
              "20     114     923           BobbyDarin\n",
              "21     109     909           J.J.Gittes\n",
              "22     119     919         AlfredBorden</td>\n",
              "    </tr>\n",
              "    <tr>\n",
              "      <th>5</th>\n",
              "      <td>movie_direction</td>\n",
              "      <td>dir_id  mov_id\n",
              "0      201     901\n",
              "1      202     902\n",
              "2      203     903\n",
              "3      204     904\n",
              "4      205     905\n",
              "5      206     906\n",
              "6      207     907\n",
              "7      208     908\n",
              "8      209     909\n",
              "9      210     910\n",
              "10     211     911\n",
              "11     212     912\n",
              "12     213     913\n",
              "13     214     914\n",
              "14     215     915\n",
              "15     216     916\n",
              "16     217     917\n",
              "17     218     918\n",
              "18     219     919\n",
              "19     220     920\n",
              "20     218     921\n",
              "21     215     922\n",
              "22     221     923</td>\n",
              "    </tr>\n",
              "    <tr>\n",
              "      <th>6</th>\n",
              "      <td>reviewer</td>\n",
              "      <td>rev_id           rev_name\n",
              "0     9001         RightySock\n",
              "1     9002        JackMalvern\n",
              "2     9003  FlagrantBaronessa\n",
              "3     9004           AlecShaw\n",
              "4     9005                NaN\n",
              "5     9006     VictorWoeltjen\n",
              "6     9007        SimonWright\n",
              "7     9008          NealWruck\n",
              "8     9009          PaulMonks\n",
              "9     9010        MikeSalvati\n",
              "10    9011                NaN\n",
              "11    9012     WesleyS.Walker\n",
              "12    9013    SashaGoldshtein\n",
              "13    9014          JoshCates\n",
              "14    9015         KrugStillo\n",
              "15    9016        ScottLeBrun\n",
              "16    9017       HannahSteele\n",
              "17    9018      VincentCadena\n",
              "18    9019   BrandtSponseller\n",
              "19    9020       RichardAdams</td>\n",
              "    </tr>\n",
              "    <tr>\n",
              "      <th>7</th>\n",
              "      <td>movie</td>\n",
              "      <td>mov_id               mov_title  mov_year  mov_time  mov_lang  mov_dt_rel mov_rel_country\n",
              "0      901                 Vertigo      1958       128   English  1958-08-24              UK\n",
              "1      902            TheInnocents      1961       100   English  1962-02-19              SW\n",
              "2      903        LawrenceofArabia      1962       216   English  1962-12-11              UK\n",
              "3      904           TheDeerHunter      1978       183   English  1979-03-08              UK\n",
              "4      905                 Amadeus      1984       160   English  1985-01-07              UK\n",
              "5      906             BladeRunner      1982       117   English  1982-09-09              UK\n",
              "6      907            EyesWideShut      1999       159   English         NaN              UK\n",
              "7      908        TheUsualSuspects      1995       106   English  1995-08-25              UK\n",
              "8      909               Chinatown      1974       130   English  1974-08-09              UK\n",
              "9      910            BoogieNights      1997       155   English  ...</td>\n",
              "    </tr>\n",
              "    <tr>\n",
              "      <th>8</th>\n",
              "      <td>genres</td>\n",
              "      <td>gen_id  gen_title\n",
              "0     1001     Action\n",
              "1     1002  Adventure\n",
              "2     1003  Animation\n",
              "3     1004  Biography\n",
              "4     1005     Comedy\n",
              "5     1006      Crime\n",
              "6     1007      Drama\n",
              "7     1008     Horror\n",
              "8     1009      Music\n",
              "9     1010    Mystery\n",
              "10    1011    Romance\n",
              "11    1012   Thriller\n",
              "12    1013        War</td>\n",
              "    </tr>\n",
              "    <tr>\n",
              "      <th>9</th>\n",
              "      <td>movie_genres</td>\n",
              "      <td>mov_id  gen_id\n",
              "0      922    1001\n",
              "1      917    1002\n",
              "2      903    1002\n",
              "3      912    1003\n",
              "4      911    1005\n",
              "5      908    1006\n",
              "6      913    1006\n",
              "7      926    1007\n",
              "8      928    1007\n",
              "9      918    1007\n",
              "10     921    1007\n",
              "11     902    1008\n",
              "12     923    1009\n",
              "13     907    1010\n",
              "14     927    1010\n",
              "15     901    1010\n",
              "16     914    1011\n",
              "17     906    1012\n",
              "18     904    1013</td>\n",
              "    </tr>\n",
              "  </tbody>\n",
              "</table>\n",
              "</div>"
            ],
            "text/plain": [
              "        table_name  \\\n",
              "0            genre   \n",
              "1         director   \n",
              "2            actor   \n",
              "3           rating   \n",
              "4       movie_cast   \n",
              "5  movie_direction   \n",
              "6         reviewer   \n",
              "7            movie   \n",
              "8           genres   \n",
              "9     movie_genres   \n",
              "\n",
              "                                                                                                                                                                                                                                                                                                                                                                                                                                                                                                                                                                                                                                                                                                                                                                                                                                                                                                                                                                                                                                table_data  \n",
              "0                                                                                                                                                                                                                                                                                                                                                                                                                                                                                                                                                                                                                                                                                                                          gen_id  gen_title\n",
              "0     1001     Action\n",
              "1     1002  Adventure\n",
              "2     1003  Animation\n",
              "3     1004  Biography\n",
              "4     1005     Comedy\n",
              "5     1006      Crime\n",
              "6     1007      Drama\n",
              "7     1008     Horror\n",
              "8     1009      Music\n",
              "9     1010    Mystery\n",
              "10    1011    Romance\n",
              "11    1012   Thriller\n",
              "12    1013        War  \n",
              "1                                              dir_id    dir_fname       dir_lname\n",
              "0      201       Alfred       Hitchcock\n",
              "1      202         Jack         Clayton\n",
              "2      203        David            Lean\n",
              "3      204      Michael          Cimino\n",
              "4      205        Milos          Forman\n",
              "5      206       Ridley           Scott\n",
              "6      207      Stanley         Kubrick\n",
              "7      208        Bryan          Singer\n",
              "8      209        Roman        Polanski\n",
              "9      210         Paul  ThomasAnderson\n",
              "10     211        Woody           Allen\n",
              "11     212        Hayao        Miyazaki\n",
              "12     213        Frank        Darabont\n",
              "13     214          Sam          Mendes\n",
              "14     215        James         Cameron\n",
              "15     216          Gus         VanSant\n",
              "16     217         John         Boorman\n",
              "17     218        Danny           Boyle\n",
              "18     219  Christopher           Nolan\n",
              "19     220      Richard           Kelly\n",
              "20     221        Kevin          Spacey\n",
              "21     222       Andrei       Tarkovsky\n",
              "22     223        Peter         Jackson  \n",
              "2      act_id  act_fname   act_lname act_gender\n",
              "0      101      James     Stewart          M\n",
              "1      102    Deborah        Kerr          F\n",
              "2      103      Peter      OToole          M\n",
              "3      104     Robert      DeNiro          M\n",
              "4      105   F.Murray     Abraham          M\n",
              "5      106   Harrison        Ford          M\n",
              "6      107     Nicole      Kidman          F\n",
              "7      108    Stephen     Baldwin          M\n",
              "8      109       Jack   Nicholson          M\n",
              "9      110       Mark    Wahlberg          M\n",
              "10     111      Woody       Allen          M\n",
              "11     112     Claire       Danes          F\n",
              "12     113        Tim     Robbins          M\n",
              "13     114      Kevin      Spacey          M\n",
              "14     115       Kate     Winslet          F\n",
              "15     116      Robin    Williams          M\n",
              "16     117        Jon      Voight          M\n",
              "17     118       Ewan    McGregor          M\n",
              "18     119  Christian        Bale          M\n",
              "19     120     Maggie  Gyllenhaal          F\n",
              "20     121        Dev       Patel          M\n",
              "21    ...  \n",
              "3                                                                                      mov_id  rev_id  rev_stars  num_of_ratings\n",
              "0      901    9001        8.4        263575.0\n",
              "1      902    9002        7.9         20207.0\n",
              "2      903    9003        8.3        202778.0\n",
              "3      906    9005        8.2        484746.0\n",
              "4      924    9006        7.3             NaN\n",
              "5      908    9007        8.6        779489.0\n",
              "6      909    9008        NaN        227235.0\n",
              "7      910    9009        3.0        195961.0\n",
              "8      911    9010        8.1        203875.0\n",
              "9      912    9011        8.4             NaN\n",
              "10     914    9013        7.0        862618.0\n",
              "11     915    9001        7.7        830095.0\n",
              "12     916    9014        4.0        642132.0\n",
              "13     925    9015        7.7         81328.0\n",
              "14     918    9016        NaN        580301.0\n",
              "15     920    9017        8.1        609451.0\n",
              "16     921    9018        8.0        667758.0\n",
              "17     922    9019        8.4        511613.0\n",
              "18     923    9020        6.7         13091.0  \n",
              "4                                              act_id  mov_id                 role\n",
              "0      101     901  JohnScottieFerguson\n",
              "1      102     902          MissGiddens\n",
              "2      103     903         T.E.Lawrence\n",
              "3      104     904              Michael\n",
              "4      105     905       AntonioSalieri\n",
              "5      106     906          RickDeckard\n",
              "6      107     907         AliceHarford\n",
              "7      108     908              McManus\n",
              "8      110     910           EddieAdams\n",
              "9      111     911           AlvySinger\n",
              "10     112     912                  San\n",
              "11     113     913         AndyDufresne\n",
              "12     114     914        LesterBurnham\n",
              "13     115     915    RoseDeWittBukater\n",
              "14     116     916          SeanMaguire\n",
              "15     117     917                   Ed\n",
              "16     118     918               Renton\n",
              "17     120     920       ElizabethDarko\n",
              "18     121     921           OlderJamal\n",
              "19     122     922               Ripley\n",
              "20     114     923           BobbyDarin\n",
              "21     109     909           J.J.Gittes\n",
              "22     119     919         AlfredBorden  \n",
              "5                                                                                                                                                                                                                                                                                                                                                                                                                                                                                                                                                                      dir_id  mov_id\n",
              "0      201     901\n",
              "1      202     902\n",
              "2      203     903\n",
              "3      204     904\n",
              "4      205     905\n",
              "5      206     906\n",
              "6      207     907\n",
              "7      208     908\n",
              "8      209     909\n",
              "9      210     910\n",
              "10     211     911\n",
              "11     212     912\n",
              "12     213     913\n",
              "13     214     914\n",
              "14     215     915\n",
              "15     216     916\n",
              "16     217     917\n",
              "17     218     918\n",
              "18     219     919\n",
              "19     220     920\n",
              "20     218     921\n",
              "21     215     922\n",
              "22     221     923  \n",
              "6                                                                                                                                                                                                                                                                                                                                                                                        rev_id           rev_name\n",
              "0     9001         RightySock\n",
              "1     9002        JackMalvern\n",
              "2     9003  FlagrantBaronessa\n",
              "3     9004           AlecShaw\n",
              "4     9005                NaN\n",
              "5     9006     VictorWoeltjen\n",
              "6     9007        SimonWright\n",
              "7     9008          NealWruck\n",
              "8     9009          PaulMonks\n",
              "9     9010        MikeSalvati\n",
              "10    9011                NaN\n",
              "11    9012     WesleyS.Walker\n",
              "12    9013    SashaGoldshtein\n",
              "13    9014          JoshCates\n",
              "14    9015         KrugStillo\n",
              "15    9016        ScottLeBrun\n",
              "16    9017       HannahSteele\n",
              "17    9018      VincentCadena\n",
              "18    9019   BrandtSponseller\n",
              "19    9020       RichardAdams  \n",
              "7      mov_id               mov_title  mov_year  mov_time  mov_lang  mov_dt_rel mov_rel_country\n",
              "0      901                 Vertigo      1958       128   English  1958-08-24              UK\n",
              "1      902            TheInnocents      1961       100   English  1962-02-19              SW\n",
              "2      903        LawrenceofArabia      1962       216   English  1962-12-11              UK\n",
              "3      904           TheDeerHunter      1978       183   English  1979-03-08              UK\n",
              "4      905                 Amadeus      1984       160   English  1985-01-07              UK\n",
              "5      906             BladeRunner      1982       117   English  1982-09-09              UK\n",
              "6      907            EyesWideShut      1999       159   English         NaN              UK\n",
              "7      908        TheUsualSuspects      1995       106   English  1995-08-25              UK\n",
              "8      909               Chinatown      1974       130   English  1974-08-09              UK\n",
              "9      910            BoogieNights      1997       155   English  ...  \n",
              "8                                                                                                                                                                                                                                                                                                                                                                                                                                                                                                                                                                                                                                                                                                                          gen_id  gen_title\n",
              "0     1001     Action\n",
              "1     1002  Adventure\n",
              "2     1003  Animation\n",
              "3     1004  Biography\n",
              "4     1005     Comedy\n",
              "5     1006      Crime\n",
              "6     1007      Drama\n",
              "7     1008     Horror\n",
              "8     1009      Music\n",
              "9     1010    Mystery\n",
              "10    1011    Romance\n",
              "11    1012   Thriller\n",
              "12    1013        War  \n",
              "9                                                                                                                                                                                                                                                                                                                                                                                                                                                                                                                                                                                                                                                  mov_id  gen_id\n",
              "0      922    1001\n",
              "1      917    1002\n",
              "2      903    1002\n",
              "3      912    1003\n",
              "4      911    1005\n",
              "5      908    1006\n",
              "6      913    1006\n",
              "7      926    1007\n",
              "8      928    1007\n",
              "9      918    1007\n",
              "10     921    1007\n",
              "11     902    1008\n",
              "12     923    1009\n",
              "13     907    1010\n",
              "14     927    1010\n",
              "15     901    1010\n",
              "16     914    1011\n",
              "17     906    1012\n",
              "18     904    1013  "
            ]
          },
          "metadata": {
            "tags": []
          },
          "execution_count": 10
        }
      ]
    },
    {
      "cell_type": "markdown",
      "metadata": {
        "id": "Jw_tdHIz4ud9",
        "colab_type": "text"
      },
      "source": [
        "### Connect To Database Engine - \n",
        "> * We use sqlite database engine to perform sql query\n",
        "> * There are many packages to connect to sqlite engine such as - sqlite3, sqlalchemy etc.\n",
        "> * We use sqlalchemy to connect to database engine. It works with many Relational Database Management Systems.\n",
        "> * We will use pandas DataFrame class to represent the result of a sql query into a table form."
      ]
    },
    {
      "cell_type": "code",
      "metadata": {
        "id": "zzPpkG_KFOyL",
        "colab_type": "code",
        "colab": {}
      },
      "source": [
        "from sqlalchemy import create_engine"
      ],
      "execution_count": 0,
      "outputs": []
    },
    {
      "cell_type": "code",
      "metadata": {
        "id": "X-09xPxN5yCe",
        "colab_type": "code",
        "colab": {}
      },
      "source": [
        "engine = create_engine(\"sqlite:///movie_rating.sqlite\")"
      ],
      "execution_count": 0,
      "outputs": []
    },
    {
      "cell_type": "code",
      "metadata": {
        "id": "3JW2h0Ij6DeL",
        "colab_type": "code",
        "outputId": "0723f267-a6f1-44f6-a91e-fc9d03f514ba",
        "colab": {
          "base_uri": "https://localhost:8080/",
          "height": 83
        }
      },
      "source": [
        "# print the names of table in the database movie_review.sqlite\n",
        "table_names = engine.table_names()\n",
        "pd.DataFrame([table_names])"
      ],
      "execution_count": 0,
      "outputs": [
        {
          "output_type": "execute_result",
          "data": {
            "text/html": [
              "<div>\n",
              "<style scoped>\n",
              "    .dataframe tbody tr th:only-of-type {\n",
              "        vertical-align: middle;\n",
              "    }\n",
              "\n",
              "    .dataframe tbody tr th {\n",
              "        vertical-align: top;\n",
              "    }\n",
              "\n",
              "    .dataframe thead th {\n",
              "        text-align: right;\n",
              "    }\n",
              "</style>\n",
              "<table border=\"1\" class=\"dataframe\">\n",
              "  <thead>\n",
              "    <tr style=\"text-align: right;\">\n",
              "      <th></th>\n",
              "    </tr>\n",
              "  </thead>\n",
              "  <tbody>\n",
              "    <tr>\n",
              "      <th>0</th>\n",
              "    </tr>\n",
              "  </tbody>\n",
              "</table>\n",
              "</div>"
            ],
            "text/plain": [
              "Empty DataFrame\n",
              "Columns: []\n",
              "Index: [0]"
            ]
          },
          "metadata": {
            "tags": []
          },
          "execution_count": 13
        }
      ]
    },
    {
      "cell_type": "markdown",
      "metadata": {
        "id": "ONIaZFQP6zAX",
        "colab_type": "text"
      },
      "source": [
        "> * Since there is no table in movie_review.sqlite database, we will create some tables and insert data of movie review into them.\n",
        "\n",
        "> * https://sqlite.org/cli.html"
      ]
    },
    {
      "cell_type": "code",
      "metadata": {
        "id": "mmSo4e4c6ZV5",
        "colab_type": "code",
        "colab": {}
      },
      "source": [
        " # connect to database\n",
        "con = engine.connect()\n",
        "\n",
        "# create table one by one \n",
        "for table_name, table_data in db.items():    \n",
        "    table_data.to_sql(table_name, con=engine, index=False,\n",
        "                      if_exists='replace')        "
      ],
      "execution_count": 0,
      "outputs": []
    },
    {
      "cell_type": "code",
      "metadata": {
        "id": "AVaMKsWq-ZxU",
        "colab_type": "code",
        "outputId": "c60e74d4-16ab-429e-e2b8-78ea6cd51c63",
        "colab": {
          "base_uri": "https://localhost:8080/",
          "height": 100
        }
      },
      "source": [
        "# print the names of table in the database movie_review.sqlite\n",
        "table_names = engine.table_names()\n",
        "pd.DataFrame([table_names])"
      ],
      "execution_count": 0,
      "outputs": [
        {
          "output_type": "execute_result",
          "data": {
            "text/html": [
              "<div>\n",
              "<style scoped>\n",
              "    .dataframe tbody tr th:only-of-type {\n",
              "        vertical-align: middle;\n",
              "    }\n",
              "\n",
              "    .dataframe tbody tr th {\n",
              "        vertical-align: top;\n",
              "    }\n",
              "\n",
              "    .dataframe thead th {\n",
              "        text-align: right;\n",
              "    }\n",
              "</style>\n",
              "<table border=\"1\" class=\"dataframe\">\n",
              "  <thead>\n",
              "    <tr style=\"text-align: right;\">\n",
              "      <th></th>\n",
              "      <th>0</th>\n",
              "      <th>1</th>\n",
              "      <th>2</th>\n",
              "      <th>3</th>\n",
              "      <th>4</th>\n",
              "      <th>5</th>\n",
              "      <th>6</th>\n",
              "      <th>7</th>\n",
              "      <th>8</th>\n",
              "      <th>9</th>\n",
              "    </tr>\n",
              "  </thead>\n",
              "  <tbody>\n",
              "    <tr>\n",
              "      <th>0</th>\n",
              "      <td>actor</td>\n",
              "      <td>director</td>\n",
              "      <td>genre</td>\n",
              "      <td>genres</td>\n",
              "      <td>movie</td>\n",
              "      <td>movie_cast</td>\n",
              "      <td>movie_direction</td>\n",
              "      <td>movie_genres</td>\n",
              "      <td>rating</td>\n",
              "      <td>reviewer</td>\n",
              "    </tr>\n",
              "  </tbody>\n",
              "</table>\n",
              "</div>"
            ],
            "text/plain": [
              "       0         1      2       3      4           5                6             7       8         9\n",
              "0  actor  director  genre  genres  movie  movie_cast  movie_direction  movie_genres  rating  reviewer"
            ]
          },
          "metadata": {
            "tags": []
          },
          "execution_count": 15
        }
      ]
    },
    {
      "cell_type": "markdown",
      "metadata": {
        "colab_type": "text",
        "id": "X7xZzIen_fM3"
      },
      "source": [
        "### Query 26: *`INNER JOIN`* - Display role of casts for each movie.\n",
        "\n",
        "> Indented block\n",
        "\n",
        "\n",
        "![INNER JOIN](https://www.w3resource.com/w3r_images/sql-inner-jon.gif)"
      ]
    },
    {
      "cell_type": "markdown",
      "metadata": {
        "colab_type": "text",
        "id": "4R7MQE0N_fM_"
      },
      "source": [
        "> * **SQL** "
      ]
    },
    {
      "cell_type": "code",
      "metadata": {
        "colab_type": "code",
        "id": "5Y_iI3kj_fNE",
        "colab": {}
      },
      "source": [
        "table_name1, table_name2 = 'movie', 'rating'"
      ],
      "execution_count": 0,
      "outputs": []
    },
    {
      "cell_type": "code",
      "metadata": {
        "colab_type": "code",
        "id": "0dLyuKgH_fNc",
        "outputId": "b0ffeed5-f9fd-4243-d77e-f3a310204975",
        "colab": {
          "base_uri": "https://localhost:8080/",
          "height": 131
        }
      },
      "source": [
        "rs = con.execute(f'''SELECT {table_name1}.mov_title, {table_name2}.rev_stars\n",
        "                     FROM {table_name1}  AS {table_name1}\n",
        "                     INNER JOIN {table_name2} AS {table_name2}\n",
        "                     ON {table_name1}.mov_id = {table_name2}.mov_id\n",
        "                     ''')\n",
        "pd.DataFrame(rs.fetchall(), columns=['movie_title', 'role']).T"
      ],
      "execution_count": 0,
      "outputs": [
        {
          "output_type": "execute_result",
          "data": {
            "text/html": [
              "<div>\n",
              "<style scoped>\n",
              "    .dataframe tbody tr th:only-of-type {\n",
              "        vertical-align: middle;\n",
              "    }\n",
              "\n",
              "    .dataframe tbody tr th {\n",
              "        vertical-align: top;\n",
              "    }\n",
              "\n",
              "    .dataframe thead th {\n",
              "        text-align: right;\n",
              "    }\n",
              "</style>\n",
              "<table border=\"1\" class=\"dataframe\">\n",
              "  <thead>\n",
              "    <tr style=\"text-align: right;\">\n",
              "      <th></th>\n",
              "      <th>0</th>\n",
              "      <th>1</th>\n",
              "      <th>2</th>\n",
              "      <th>3</th>\n",
              "      <th>4</th>\n",
              "      <th>5</th>\n",
              "      <th>6</th>\n",
              "      <th>7</th>\n",
              "      <th>8</th>\n",
              "      <th>9</th>\n",
              "      <th>10</th>\n",
              "      <th>11</th>\n",
              "      <th>12</th>\n",
              "      <th>13</th>\n",
              "      <th>14</th>\n",
              "      <th>15</th>\n",
              "      <th>16</th>\n",
              "      <th>17</th>\n",
              "      <th>18</th>\n",
              "    </tr>\n",
              "  </thead>\n",
              "  <tbody>\n",
              "    <tr>\n",
              "      <th>movie_title</th>\n",
              "      <td>Vertigo</td>\n",
              "      <td>TheInnocents</td>\n",
              "      <td>LawrenceofArabia</td>\n",
              "      <td>BladeRunner</td>\n",
              "      <td>TheUsualSuspects</td>\n",
              "      <td>Chinatown</td>\n",
              "      <td>BoogieNights</td>\n",
              "      <td>AnnieHall</td>\n",
              "      <td>PrincessMononoke</td>\n",
              "      <td>AmericanBeauty</td>\n",
              "      <td>Titanic</td>\n",
              "      <td>GoodWillHunting</td>\n",
              "      <td>Trainspotting</td>\n",
              "      <td>DonnieDarko</td>\n",
              "      <td>SlumdogMillionaire</td>\n",
              "      <td>Aliens</td>\n",
              "      <td>BeyondtheSea</td>\n",
              "      <td>Avatar</td>\n",
              "      <td>Braveheart</td>\n",
              "    </tr>\n",
              "    <tr>\n",
              "      <th>role</th>\n",
              "      <td>8.4</td>\n",
              "      <td>7.9</td>\n",
              "      <td>8.3</td>\n",
              "      <td>8.2</td>\n",
              "      <td>8.6</td>\n",
              "      <td>NaN</td>\n",
              "      <td>3</td>\n",
              "      <td>8.1</td>\n",
              "      <td>8.4</td>\n",
              "      <td>7</td>\n",
              "      <td>7.7</td>\n",
              "      <td>4</td>\n",
              "      <td>NaN</td>\n",
              "      <td>8.1</td>\n",
              "      <td>8</td>\n",
              "      <td>8.4</td>\n",
              "      <td>6.7</td>\n",
              "      <td>7.3</td>\n",
              "      <td>7.7</td>\n",
              "    </tr>\n",
              "  </tbody>\n",
              "</table>\n",
              "</div>"
            ],
            "text/plain": [
              "                   0             1                 2            3                 4          5             6          7                 8               9       10               11             12           13                  14      15            16      17          18\n",
              "movie_title  Vertigo  TheInnocents  LawrenceofArabia  BladeRunner  TheUsualSuspects  Chinatown  BoogieNights  AnnieHall  PrincessMononoke  AmericanBeauty  Titanic  GoodWillHunting  Trainspotting  DonnieDarko  SlumdogMillionaire  Aliens  BeyondtheSea  Avatar  Braveheart\n",
              "role             8.4           7.9               8.3          8.2               8.6        NaN             3        8.1               8.4               7      7.7                4            NaN          8.1                   8     8.4           6.7     7.3         7.7"
            ]
          },
          "metadata": {
            "tags": []
          },
          "execution_count": 17
        }
      ]
    },
    {
      "cell_type": "markdown",
      "metadata": {
        "colab_type": "text",
        "id": "IObXWpNL_fNr"
      },
      "source": [
        "> * **Pandas** "
      ]
    },
    {
      "cell_type": "code",
      "metadata": {
        "colab_type": "code",
        "id": "0gtn0U92_fN5",
        "outputId": "03bf75b4-21db-4367-851a-4e59df5f6ead",
        "colab": {
          "base_uri": "https://localhost:8080/",
          "height": 131
        }
      },
      "source": [
        "table1, table2 = db[table_name1], db[table_name2]\n",
        "\n",
        "JOIN = pd.merge\n",
        "INNER, ON = 'inner', 'mov_id'\n",
        "\n",
        "FROM_CLAUSE_WITH_JOIN = JOIN(table1, table2, INNER, ON)\n",
        "\n",
        "SELECT_CLAUSE = ['mov_title', 'rev_stars']\n",
        "\n",
        "# pd.merge(left=db[table_name1], right=db[table_name2], how='inner') \\\n",
        "#                                    [['mov_title', 'rev_stars']]\n",
        "res = FROM_CLAUSE_WITH_JOIN[SELECT_CLAUSE]\n",
        "res.T"
      ],
      "execution_count": 0,
      "outputs": [
        {
          "output_type": "execute_result",
          "data": {
            "text/html": [
              "<div>\n",
              "<style scoped>\n",
              "    .dataframe tbody tr th:only-of-type {\n",
              "        vertical-align: middle;\n",
              "    }\n",
              "\n",
              "    .dataframe tbody tr th {\n",
              "        vertical-align: top;\n",
              "    }\n",
              "\n",
              "    .dataframe thead th {\n",
              "        text-align: right;\n",
              "    }\n",
              "</style>\n",
              "<table border=\"1\" class=\"dataframe\">\n",
              "  <thead>\n",
              "    <tr style=\"text-align: right;\">\n",
              "      <th></th>\n",
              "      <th>0</th>\n",
              "      <th>1</th>\n",
              "      <th>2</th>\n",
              "      <th>3</th>\n",
              "      <th>4</th>\n",
              "      <th>5</th>\n",
              "      <th>6</th>\n",
              "      <th>7</th>\n",
              "      <th>8</th>\n",
              "      <th>9</th>\n",
              "      <th>10</th>\n",
              "      <th>11</th>\n",
              "      <th>12</th>\n",
              "      <th>13</th>\n",
              "      <th>14</th>\n",
              "      <th>15</th>\n",
              "      <th>16</th>\n",
              "      <th>17</th>\n",
              "      <th>18</th>\n",
              "    </tr>\n",
              "  </thead>\n",
              "  <tbody>\n",
              "    <tr>\n",
              "      <th>mov_title</th>\n",
              "      <td>Vertigo</td>\n",
              "      <td>TheInnocents</td>\n",
              "      <td>LawrenceofArabia</td>\n",
              "      <td>BladeRunner</td>\n",
              "      <td>TheUsualSuspects</td>\n",
              "      <td>Chinatown</td>\n",
              "      <td>BoogieNights</td>\n",
              "      <td>AnnieHall</td>\n",
              "      <td>PrincessMononoke</td>\n",
              "      <td>AmericanBeauty</td>\n",
              "      <td>Titanic</td>\n",
              "      <td>GoodWillHunting</td>\n",
              "      <td>Trainspotting</td>\n",
              "      <td>DonnieDarko</td>\n",
              "      <td>SlumdogMillionaire</td>\n",
              "      <td>Aliens</td>\n",
              "      <td>BeyondtheSea</td>\n",
              "      <td>Avatar</td>\n",
              "      <td>Braveheart</td>\n",
              "    </tr>\n",
              "    <tr>\n",
              "      <th>rev_stars</th>\n",
              "      <td>8.4</td>\n",
              "      <td>7.9</td>\n",
              "      <td>8.3</td>\n",
              "      <td>8.2</td>\n",
              "      <td>8.6</td>\n",
              "      <td>NaN</td>\n",
              "      <td>3</td>\n",
              "      <td>8.1</td>\n",
              "      <td>8.4</td>\n",
              "      <td>7</td>\n",
              "      <td>7.7</td>\n",
              "      <td>4</td>\n",
              "      <td>NaN</td>\n",
              "      <td>8.1</td>\n",
              "      <td>8</td>\n",
              "      <td>8.4</td>\n",
              "      <td>6.7</td>\n",
              "      <td>7.3</td>\n",
              "      <td>7.7</td>\n",
              "    </tr>\n",
              "  </tbody>\n",
              "</table>\n",
              "</div>"
            ],
            "text/plain": [
              "                0             1                 2            3                 4          5             6          7                 8               9        10               11             12           13                  14      15            16      17          18\n",
              "mov_title  Vertigo  TheInnocents  LawrenceofArabia  BladeRunner  TheUsualSuspects  Chinatown  BoogieNights  AnnieHall  PrincessMononoke  AmericanBeauty  Titanic  GoodWillHunting  Trainspotting  DonnieDarko  SlumdogMillionaire  Aliens  BeyondtheSea  Avatar  Braveheart\n",
              "rev_stars      8.4           7.9               8.3          8.2               8.6        NaN             3        8.1               8.4               7      7.7                4            NaN          8.1                   8     8.4           6.7     7.3         7.7"
            ]
          },
          "metadata": {
            "tags": []
          },
          "execution_count": 18
        }
      ]
    },
    {
      "cell_type": "markdown",
      "metadata": {
        "colab_type": "text",
        "id": "EDVK2hCEBxsN"
      },
      "source": [
        "### Query 27: *`LEFT OUTER JOIN`* - Display the movie title and their review stars. Also display the movie for which we don't have review stars.\n",
        "![LEFT OUTER JOIN](https://www.w3resource.com/w3r_images/sql-left-jon.png)"
      ]
    },
    {
      "cell_type": "markdown",
      "metadata": {
        "colab_type": "text",
        "id": "OyKlZ_tqBxsR"
      },
      "source": [
        "> * **SQL** "
      ]
    },
    {
      "cell_type": "code",
      "metadata": {
        "colab_type": "code",
        "id": "r0ya-1tfBxsS",
        "colab": {}
      },
      "source": [
        "table_name1 = 'movie'\n",
        "table_name2 = 'rating'"
      ],
      "execution_count": 0,
      "outputs": []
    },
    {
      "cell_type": "code",
      "metadata": {
        "colab_type": "code",
        "id": "mc4r4WwzBxsZ",
        "outputId": "77535753-1769-43bd-cf7c-fbbafab042a5",
        "colab": {
          "base_uri": "https://localhost:8080/",
          "height": 131
        }
      },
      "source": [
        "rs = con.execute(f'''SELECT {table_name1}.mov_title, {table_name2}.rev_stars\n",
        "                     FROM {table_name1}  AS {table_name1}\n",
        "                     LEFT JOIN {table_name2} AS {table_name2}\n",
        "                     ON {table_name1}.mov_id = {table_name2}.mov_id\n",
        "                     ''')\n",
        "pd.DataFrame(rs.fetchall(), columns=['movie_title', 'rev_stars']).T"
      ],
      "execution_count": 0,
      "outputs": [
        {
          "output_type": "execute_result",
          "data": {
            "text/html": [
              "<div>\n",
              "<style scoped>\n",
              "    .dataframe tbody tr th:only-of-type {\n",
              "        vertical-align: middle;\n",
              "    }\n",
              "\n",
              "    .dataframe tbody tr th {\n",
              "        vertical-align: top;\n",
              "    }\n",
              "\n",
              "    .dataframe thead th {\n",
              "        text-align: right;\n",
              "    }\n",
              "</style>\n",
              "<table border=\"1\" class=\"dataframe\">\n",
              "  <thead>\n",
              "    <tr style=\"text-align: right;\">\n",
              "      <th></th>\n",
              "      <th>0</th>\n",
              "      <th>1</th>\n",
              "      <th>2</th>\n",
              "      <th>3</th>\n",
              "      <th>4</th>\n",
              "      <th>5</th>\n",
              "      <th>6</th>\n",
              "      <th>7</th>\n",
              "      <th>8</th>\n",
              "      <th>9</th>\n",
              "      <th>10</th>\n",
              "      <th>11</th>\n",
              "      <th>12</th>\n",
              "      <th>13</th>\n",
              "      <th>14</th>\n",
              "      <th>15</th>\n",
              "      <th>16</th>\n",
              "      <th>17</th>\n",
              "      <th>18</th>\n",
              "      <th>19</th>\n",
              "      <th>20</th>\n",
              "      <th>21</th>\n",
              "      <th>22</th>\n",
              "      <th>23</th>\n",
              "      <th>24</th>\n",
              "      <th>25</th>\n",
              "      <th>26</th>\n",
              "      <th>27</th>\n",
              "    </tr>\n",
              "  </thead>\n",
              "  <tbody>\n",
              "    <tr>\n",
              "      <th>movie_title</th>\n",
              "      <td>Vertigo</td>\n",
              "      <td>TheInnocents</td>\n",
              "      <td>LawrenceofArabia</td>\n",
              "      <td>TheDeerHunter</td>\n",
              "      <td>Amadeus</td>\n",
              "      <td>BladeRunner</td>\n",
              "      <td>EyesWideShut</td>\n",
              "      <td>TheUsualSuspects</td>\n",
              "      <td>Chinatown</td>\n",
              "      <td>BoogieNights</td>\n",
              "      <td>AnnieHall</td>\n",
              "      <td>PrincessMononoke</td>\n",
              "      <td>TheShawshankRedemption</td>\n",
              "      <td>AmericanBeauty</td>\n",
              "      <td>Titanic</td>\n",
              "      <td>GoodWillHunting</td>\n",
              "      <td>Deliverance</td>\n",
              "      <td>Trainspotting</td>\n",
              "      <td>ThePrestige</td>\n",
              "      <td>DonnieDarko</td>\n",
              "      <td>SlumdogMillionaire</td>\n",
              "      <td>Aliens</td>\n",
              "      <td>BeyondtheSea</td>\n",
              "      <td>Avatar</td>\n",
              "      <td>SevenSamurai</td>\n",
              "      <td>SpiritedAway</td>\n",
              "      <td>BacktotheFuture</td>\n",
              "      <td>Braveheart</td>\n",
              "    </tr>\n",
              "    <tr>\n",
              "      <th>rev_stars</th>\n",
              "      <td>8.4</td>\n",
              "      <td>7.9</td>\n",
              "      <td>8.3</td>\n",
              "      <td>NaN</td>\n",
              "      <td>NaN</td>\n",
              "      <td>8.2</td>\n",
              "      <td>NaN</td>\n",
              "      <td>8.6</td>\n",
              "      <td>NaN</td>\n",
              "      <td>3</td>\n",
              "      <td>8.1</td>\n",
              "      <td>8.4</td>\n",
              "      <td>NaN</td>\n",
              "      <td>7</td>\n",
              "      <td>7.7</td>\n",
              "      <td>4</td>\n",
              "      <td>NaN</td>\n",
              "      <td>NaN</td>\n",
              "      <td>NaN</td>\n",
              "      <td>8.1</td>\n",
              "      <td>8</td>\n",
              "      <td>8.4</td>\n",
              "      <td>6.7</td>\n",
              "      <td>7.3</td>\n",
              "      <td>NaN</td>\n",
              "      <td>NaN</td>\n",
              "      <td>NaN</td>\n",
              "      <td>7.7</td>\n",
              "    </tr>\n",
              "  </tbody>\n",
              "</table>\n",
              "</div>"
            ],
            "text/plain": [
              "                   0             1                 2              3        4            5             6                 7          8             9         10                11                      12              13       14               15           16             17           18           19                  20      21            22      23            24            25               26          27\n",
              "movie_title  Vertigo  TheInnocents  LawrenceofArabia  TheDeerHunter  Amadeus  BladeRunner  EyesWideShut  TheUsualSuspects  Chinatown  BoogieNights  AnnieHall  PrincessMononoke  TheShawshankRedemption  AmericanBeauty  Titanic  GoodWillHunting  Deliverance  Trainspotting  ThePrestige  DonnieDarko  SlumdogMillionaire  Aliens  BeyondtheSea  Avatar  SevenSamurai  SpiritedAway  BacktotheFuture  Braveheart\n",
              "rev_stars        8.4           7.9               8.3            NaN      NaN          8.2           NaN               8.6        NaN             3        8.1               8.4                     NaN               7      7.7                4          NaN            NaN          NaN          8.1                   8     8.4           6.7     7.3           NaN           NaN              NaN         7.7"
            ]
          },
          "metadata": {
            "tags": []
          },
          "execution_count": 20
        }
      ]
    },
    {
      "cell_type": "markdown",
      "metadata": {
        "colab_type": "text",
        "id": "wRGHbA5hBxsc"
      },
      "source": [
        "> * **Pandas** "
      ]
    },
    {
      "cell_type": "code",
      "metadata": {
        "colab_type": "code",
        "id": "uxDJUnkgBxsd",
        "outputId": "97d60b89-d087-4cc0-ab27-2d9823169a28",
        "colab": {
          "base_uri": "https://localhost:8080/",
          "height": 131
        }
      },
      "source": [
        "table1, table2 = db[table_name1], db[table_name2]\n",
        "JOIN = pd.merge\n",
        "LEFT_OUTER, ON = 'left', 'mov_id'\n",
        "FROM_CLAUSE_WITH_JOIN = JOIN(table1, table2, LEFT_OUTER, ON)\n",
        "\n",
        "SELECT_CLAUSE = ['mov_title', 'rev_stars']\n",
        "\n",
        "# pd.merge(left=db[table_name1], right=db[table_name2], how='inner') \\\n",
        "#                                    [['mov_title', 'role']]\n",
        "res = FROM_CLAUSE_WITH_JOIN[SELECT_CLAUSE]\n",
        "res.T"
      ],
      "execution_count": 0,
      "outputs": [
        {
          "output_type": "execute_result",
          "data": {
            "text/html": [
              "<div>\n",
              "<style scoped>\n",
              "    .dataframe tbody tr th:only-of-type {\n",
              "        vertical-align: middle;\n",
              "    }\n",
              "\n",
              "    .dataframe tbody tr th {\n",
              "        vertical-align: top;\n",
              "    }\n",
              "\n",
              "    .dataframe thead th {\n",
              "        text-align: right;\n",
              "    }\n",
              "</style>\n",
              "<table border=\"1\" class=\"dataframe\">\n",
              "  <thead>\n",
              "    <tr style=\"text-align: right;\">\n",
              "      <th></th>\n",
              "      <th>0</th>\n",
              "      <th>1</th>\n",
              "      <th>2</th>\n",
              "      <th>3</th>\n",
              "      <th>4</th>\n",
              "      <th>5</th>\n",
              "      <th>6</th>\n",
              "      <th>7</th>\n",
              "      <th>8</th>\n",
              "      <th>9</th>\n",
              "      <th>10</th>\n",
              "      <th>11</th>\n",
              "      <th>12</th>\n",
              "      <th>13</th>\n",
              "      <th>14</th>\n",
              "      <th>15</th>\n",
              "      <th>16</th>\n",
              "      <th>17</th>\n",
              "      <th>18</th>\n",
              "      <th>19</th>\n",
              "      <th>20</th>\n",
              "      <th>21</th>\n",
              "      <th>22</th>\n",
              "      <th>23</th>\n",
              "      <th>24</th>\n",
              "      <th>25</th>\n",
              "      <th>26</th>\n",
              "      <th>27</th>\n",
              "    </tr>\n",
              "  </thead>\n",
              "  <tbody>\n",
              "    <tr>\n",
              "      <th>mov_title</th>\n",
              "      <td>Vertigo</td>\n",
              "      <td>TheInnocents</td>\n",
              "      <td>LawrenceofArabia</td>\n",
              "      <td>TheDeerHunter</td>\n",
              "      <td>Amadeus</td>\n",
              "      <td>BladeRunner</td>\n",
              "      <td>EyesWideShut</td>\n",
              "      <td>TheUsualSuspects</td>\n",
              "      <td>Chinatown</td>\n",
              "      <td>BoogieNights</td>\n",
              "      <td>AnnieHall</td>\n",
              "      <td>PrincessMononoke</td>\n",
              "      <td>TheShawshankRedemption</td>\n",
              "      <td>AmericanBeauty</td>\n",
              "      <td>Titanic</td>\n",
              "      <td>GoodWillHunting</td>\n",
              "      <td>Deliverance</td>\n",
              "      <td>Trainspotting</td>\n",
              "      <td>ThePrestige</td>\n",
              "      <td>DonnieDarko</td>\n",
              "      <td>SlumdogMillionaire</td>\n",
              "      <td>Aliens</td>\n",
              "      <td>BeyondtheSea</td>\n",
              "      <td>Avatar</td>\n",
              "      <td>SevenSamurai</td>\n",
              "      <td>SpiritedAway</td>\n",
              "      <td>BacktotheFuture</td>\n",
              "      <td>Braveheart</td>\n",
              "    </tr>\n",
              "    <tr>\n",
              "      <th>rev_stars</th>\n",
              "      <td>8.4</td>\n",
              "      <td>7.9</td>\n",
              "      <td>8.3</td>\n",
              "      <td>NaN</td>\n",
              "      <td>NaN</td>\n",
              "      <td>8.2</td>\n",
              "      <td>NaN</td>\n",
              "      <td>8.6</td>\n",
              "      <td>NaN</td>\n",
              "      <td>3</td>\n",
              "      <td>8.1</td>\n",
              "      <td>8.4</td>\n",
              "      <td>NaN</td>\n",
              "      <td>7</td>\n",
              "      <td>7.7</td>\n",
              "      <td>4</td>\n",
              "      <td>NaN</td>\n",
              "      <td>NaN</td>\n",
              "      <td>NaN</td>\n",
              "      <td>8.1</td>\n",
              "      <td>8</td>\n",
              "      <td>8.4</td>\n",
              "      <td>6.7</td>\n",
              "      <td>7.3</td>\n",
              "      <td>NaN</td>\n",
              "      <td>NaN</td>\n",
              "      <td>NaN</td>\n",
              "      <td>7.7</td>\n",
              "    </tr>\n",
              "  </tbody>\n",
              "</table>\n",
              "</div>"
            ],
            "text/plain": [
              "                0             1                 2              3        4            5             6                 7          8             9          10                11                      12              13       14               15           16             17           18           19                  20      21            22      23            24            25               26          27\n",
              "mov_title  Vertigo  TheInnocents  LawrenceofArabia  TheDeerHunter  Amadeus  BladeRunner  EyesWideShut  TheUsualSuspects  Chinatown  BoogieNights  AnnieHall  PrincessMononoke  TheShawshankRedemption  AmericanBeauty  Titanic  GoodWillHunting  Deliverance  Trainspotting  ThePrestige  DonnieDarko  SlumdogMillionaire  Aliens  BeyondtheSea  Avatar  SevenSamurai  SpiritedAway  BacktotheFuture  Braveheart\n",
              "rev_stars      8.4           7.9               8.3            NaN      NaN          8.2           NaN               8.6        NaN             3        8.1               8.4                     NaN               7      7.7                4          NaN            NaN          NaN          8.1                   8     8.4           6.7     7.3           NaN           NaN              NaN         7.7"
            ]
          },
          "metadata": {
            "tags": []
          },
          "execution_count": 21
        }
      ]
    },
    {
      "cell_type": "markdown",
      "metadata": {
        "colab_type": "text",
        "id": "rNK755our8fm"
      },
      "source": [
        "### Query 28: *`RIGHT OUTER JOIN`* - Find out the movie id and, its director id and director's first name.\n",
        "![**RIGHT OUTER JOIN**](https://www.w3resource.com/w3r_images/sql-right-jon.gif)"
      ]
    },
    {
      "cell_type": "markdown",
      "metadata": {
        "colab_type": "text",
        "id": "XOj-R0F-r8fp"
      },
      "source": [
        "> * **SQL** - Since SQLite does not support RIGHT OUTER and FULL OUTER JOIN. We will use LEFT OUTER JOIN and combination of LEFT OUTER and UNION to perform RIGHT OUTER and FULL OUTER JOIN respectively."
      ]
    },
    {
      "cell_type": "code",
      "metadata": {
        "colab_type": "code",
        "id": "n0u38Uc3r8fq",
        "colab": {}
      },
      "source": [
        "table_name1, table_name2 = 'movie_direction', 'director'"
      ],
      "execution_count": 0,
      "outputs": []
    },
    {
      "cell_type": "code",
      "metadata": {
        "colab_type": "code",
        "id": "mhALI35Ar8ft",
        "outputId": "3d94afca-4cc6-4ada-ac0c-78156a567730",
        "colab": {
          "base_uri": "https://localhost:8080/",
          "height": 162
        }
      },
      "source": [
        "rs = con.execute(f'''SELECT {table_name1}.mov_id, {table_name2}.dir_id, {table_name2}.dir_fname\n",
        "                     FROM {table_name2} AS {table_name2}\n",
        "                     LEFT JOIN  {table_name1}  AS {table_name1}\n",
        "                     ON {table_name1}.dir_id = {table_name2}.dir_id\n",
        "                     ''')\n",
        "pd.DataFrame(rs.fetchall(), columns=['mov_id', 'dir_id', 'dir_name']).T\n",
        "\n",
        "# rs = con.execute(f'''SELECT {table_name1}.mov_id, {table_name2}.dir_id, {table_name2}.dir_fname\n",
        "#                      FROM {table_name1}  AS {table_name1}\n",
        "#                      RIGHT JOIN  {table_name2} AS {table_name2}\n",
        "#                      ON {table_name1}.dir_id = {table_name2}.dir_id\n",
        "#                      ''')"
      ],
      "execution_count": 0,
      "outputs": [
        {
          "output_type": "execute_result",
          "data": {
            "text/html": [
              "<div>\n",
              "<style scoped>\n",
              "    .dataframe tbody tr th:only-of-type {\n",
              "        vertical-align: middle;\n",
              "    }\n",
              "\n",
              "    .dataframe tbody tr th {\n",
              "        vertical-align: top;\n",
              "    }\n",
              "\n",
              "    .dataframe thead th {\n",
              "        text-align: right;\n",
              "    }\n",
              "</style>\n",
              "<table border=\"1\" class=\"dataframe\">\n",
              "  <thead>\n",
              "    <tr style=\"text-align: right;\">\n",
              "      <th></th>\n",
              "      <th>0</th>\n",
              "      <th>1</th>\n",
              "      <th>2</th>\n",
              "      <th>3</th>\n",
              "      <th>4</th>\n",
              "      <th>5</th>\n",
              "      <th>6</th>\n",
              "      <th>7</th>\n",
              "      <th>8</th>\n",
              "      <th>9</th>\n",
              "      <th>10</th>\n",
              "      <th>11</th>\n",
              "      <th>12</th>\n",
              "      <th>13</th>\n",
              "      <th>14</th>\n",
              "      <th>15</th>\n",
              "      <th>16</th>\n",
              "      <th>17</th>\n",
              "      <th>18</th>\n",
              "      <th>19</th>\n",
              "      <th>20</th>\n",
              "      <th>21</th>\n",
              "      <th>22</th>\n",
              "      <th>23</th>\n",
              "      <th>24</th>\n",
              "    </tr>\n",
              "  </thead>\n",
              "  <tbody>\n",
              "    <tr>\n",
              "      <th>mov_id</th>\n",
              "      <td>901</td>\n",
              "      <td>902</td>\n",
              "      <td>903</td>\n",
              "      <td>904</td>\n",
              "      <td>905</td>\n",
              "      <td>906</td>\n",
              "      <td>907</td>\n",
              "      <td>908</td>\n",
              "      <td>909</td>\n",
              "      <td>910</td>\n",
              "      <td>911</td>\n",
              "      <td>912</td>\n",
              "      <td>913</td>\n",
              "      <td>914</td>\n",
              "      <td>915</td>\n",
              "      <td>922</td>\n",
              "      <td>916</td>\n",
              "      <td>917</td>\n",
              "      <td>918</td>\n",
              "      <td>921</td>\n",
              "      <td>919</td>\n",
              "      <td>920</td>\n",
              "      <td>923</td>\n",
              "      <td>NaN</td>\n",
              "      <td>NaN</td>\n",
              "    </tr>\n",
              "    <tr>\n",
              "      <th>dir_id</th>\n",
              "      <td>201</td>\n",
              "      <td>202</td>\n",
              "      <td>203</td>\n",
              "      <td>204</td>\n",
              "      <td>205</td>\n",
              "      <td>206</td>\n",
              "      <td>207</td>\n",
              "      <td>208</td>\n",
              "      <td>209</td>\n",
              "      <td>210</td>\n",
              "      <td>211</td>\n",
              "      <td>212</td>\n",
              "      <td>213</td>\n",
              "      <td>214</td>\n",
              "      <td>215</td>\n",
              "      <td>215</td>\n",
              "      <td>216</td>\n",
              "      <td>217</td>\n",
              "      <td>218</td>\n",
              "      <td>218</td>\n",
              "      <td>219</td>\n",
              "      <td>220</td>\n",
              "      <td>221</td>\n",
              "      <td>222</td>\n",
              "      <td>223</td>\n",
              "    </tr>\n",
              "    <tr>\n",
              "      <th>dir_name</th>\n",
              "      <td>Alfred</td>\n",
              "      <td>Jack</td>\n",
              "      <td>David</td>\n",
              "      <td>Michael</td>\n",
              "      <td>Milos</td>\n",
              "      <td>Ridley</td>\n",
              "      <td>Stanley</td>\n",
              "      <td>Bryan</td>\n",
              "      <td>Roman</td>\n",
              "      <td>Paul</td>\n",
              "      <td>Woody</td>\n",
              "      <td>Hayao</td>\n",
              "      <td>Frank</td>\n",
              "      <td>Sam</td>\n",
              "      <td>James</td>\n",
              "      <td>James</td>\n",
              "      <td>Gus</td>\n",
              "      <td>John</td>\n",
              "      <td>Danny</td>\n",
              "      <td>Danny</td>\n",
              "      <td>Christopher</td>\n",
              "      <td>Richard</td>\n",
              "      <td>Kevin</td>\n",
              "      <td>Andrei</td>\n",
              "      <td>Peter</td>\n",
              "    </tr>\n",
              "  </tbody>\n",
              "</table>\n",
              "</div>"
            ],
            "text/plain": [
              "               0     1      2        3      4       5        6      7      8     9     10     11     12   13     14     15   16    17     18     19           20       21     22      23     24\n",
              "mov_id       901   902    903      904    905     906      907    908    909   910    911    912    913  914    915    922  916   917    918    921          919      920    923     NaN    NaN\n",
              "dir_id       201   202    203      204    205     206      207    208    209   210    211    212    213  214    215    215  216   217    218    218          219      220    221     222    223\n",
              "dir_name  Alfred  Jack  David  Michael  Milos  Ridley  Stanley  Bryan  Roman  Paul  Woody  Hayao  Frank  Sam  James  James  Gus  John  Danny  Danny  Christopher  Richard  Kevin  Andrei  Peter"
            ]
          },
          "metadata": {
            "tags": []
          },
          "execution_count": 23
        }
      ]
    },
    {
      "cell_type": "markdown",
      "metadata": {
        "colab_type": "text",
        "id": "VyO9qdJwr8fy"
      },
      "source": [
        "> * **Pandas** "
      ]
    },
    {
      "cell_type": "code",
      "metadata": {
        "colab_type": "code",
        "id": "_qBO7_yqr8fy",
        "outputId": "b5d49920-9aa3-415f-a1a4-58adb9a8a0d0",
        "colab": {
          "base_uri": "https://localhost:8080/",
          "height": 162
        }
      },
      "source": [
        "table1 = db[table_name1]\n",
        "table2 = db[table_name2]\n",
        "\n",
        "JOIN = pd.merge\n",
        "RIGHT_OUTER = 'right'    \n",
        "ON = 'dir_id'\n",
        "FROM_CLAUSE_WITH_JOIN = JOIN(table1, table2, RIGHT_OUTER, ON)\n",
        "\n",
        "SELECT_CLAUSE = ['mov_id', 'dir_id', 'dir_fname']\n",
        "\n",
        "# pd.merge(left=db[table_name1], right=db[table_name2], how='inner') \\\n",
        "#                                    [['mov_title', 'role']]\n",
        "res = FROM_CLAUSE_WITH_JOIN[SELECT_CLAUSE]\n",
        "res.T"
      ],
      "execution_count": 0,
      "outputs": [
        {
          "output_type": "execute_result",
          "data": {
            "text/html": [
              "<div>\n",
              "<style scoped>\n",
              "    .dataframe tbody tr th:only-of-type {\n",
              "        vertical-align: middle;\n",
              "    }\n",
              "\n",
              "    .dataframe tbody tr th {\n",
              "        vertical-align: top;\n",
              "    }\n",
              "\n",
              "    .dataframe thead th {\n",
              "        text-align: right;\n",
              "    }\n",
              "</style>\n",
              "<table border=\"1\" class=\"dataframe\">\n",
              "  <thead>\n",
              "    <tr style=\"text-align: right;\">\n",
              "      <th></th>\n",
              "      <th>0</th>\n",
              "      <th>1</th>\n",
              "      <th>2</th>\n",
              "      <th>3</th>\n",
              "      <th>4</th>\n",
              "      <th>5</th>\n",
              "      <th>6</th>\n",
              "      <th>7</th>\n",
              "      <th>8</th>\n",
              "      <th>9</th>\n",
              "      <th>10</th>\n",
              "      <th>11</th>\n",
              "      <th>12</th>\n",
              "      <th>13</th>\n",
              "      <th>14</th>\n",
              "      <th>15</th>\n",
              "      <th>16</th>\n",
              "      <th>17</th>\n",
              "      <th>18</th>\n",
              "      <th>19</th>\n",
              "      <th>20</th>\n",
              "      <th>21</th>\n",
              "      <th>22</th>\n",
              "      <th>23</th>\n",
              "      <th>24</th>\n",
              "    </tr>\n",
              "  </thead>\n",
              "  <tbody>\n",
              "    <tr>\n",
              "      <th>mov_id</th>\n",
              "      <td>901</td>\n",
              "      <td>902</td>\n",
              "      <td>903</td>\n",
              "      <td>904</td>\n",
              "      <td>905</td>\n",
              "      <td>906</td>\n",
              "      <td>907</td>\n",
              "      <td>908</td>\n",
              "      <td>909</td>\n",
              "      <td>910</td>\n",
              "      <td>911</td>\n",
              "      <td>912</td>\n",
              "      <td>913</td>\n",
              "      <td>914</td>\n",
              "      <td>915</td>\n",
              "      <td>922</td>\n",
              "      <td>916</td>\n",
              "      <td>917</td>\n",
              "      <td>918</td>\n",
              "      <td>921</td>\n",
              "      <td>919</td>\n",
              "      <td>920</td>\n",
              "      <td>923</td>\n",
              "      <td>NaN</td>\n",
              "      <td>NaN</td>\n",
              "    </tr>\n",
              "    <tr>\n",
              "      <th>dir_id</th>\n",
              "      <td>201</td>\n",
              "      <td>202</td>\n",
              "      <td>203</td>\n",
              "      <td>204</td>\n",
              "      <td>205</td>\n",
              "      <td>206</td>\n",
              "      <td>207</td>\n",
              "      <td>208</td>\n",
              "      <td>209</td>\n",
              "      <td>210</td>\n",
              "      <td>211</td>\n",
              "      <td>212</td>\n",
              "      <td>213</td>\n",
              "      <td>214</td>\n",
              "      <td>215</td>\n",
              "      <td>215</td>\n",
              "      <td>216</td>\n",
              "      <td>217</td>\n",
              "      <td>218</td>\n",
              "      <td>218</td>\n",
              "      <td>219</td>\n",
              "      <td>220</td>\n",
              "      <td>221</td>\n",
              "      <td>222</td>\n",
              "      <td>223</td>\n",
              "    </tr>\n",
              "    <tr>\n",
              "      <th>dir_fname</th>\n",
              "      <td>Alfred</td>\n",
              "      <td>Jack</td>\n",
              "      <td>David</td>\n",
              "      <td>Michael</td>\n",
              "      <td>Milos</td>\n",
              "      <td>Ridley</td>\n",
              "      <td>Stanley</td>\n",
              "      <td>Bryan</td>\n",
              "      <td>Roman</td>\n",
              "      <td>Paul</td>\n",
              "      <td>Woody</td>\n",
              "      <td>Hayao</td>\n",
              "      <td>Frank</td>\n",
              "      <td>Sam</td>\n",
              "      <td>James</td>\n",
              "      <td>James</td>\n",
              "      <td>Gus</td>\n",
              "      <td>John</td>\n",
              "      <td>Danny</td>\n",
              "      <td>Danny</td>\n",
              "      <td>Christopher</td>\n",
              "      <td>Richard</td>\n",
              "      <td>Kevin</td>\n",
              "      <td>Andrei</td>\n",
              "      <td>Peter</td>\n",
              "    </tr>\n",
              "  </tbody>\n",
              "</table>\n",
              "</div>"
            ],
            "text/plain": [
              "               0     1      2        3      4       5        6      7      8     9      10     11     12   13     14     15   16    17     18     19           20       21     22      23     24\n",
              "mov_id        901   902    903      904    905     906      907    908    909   910    911    912    913  914    915    922  916   917    918    921          919      920    923     NaN    NaN\n",
              "dir_id        201   202    203      204    205     206      207    208    209   210    211    212    213  214    215    215  216   217    218    218          219      220    221     222    223\n",
              "dir_fname  Alfred  Jack  David  Michael  Milos  Ridley  Stanley  Bryan  Roman  Paul  Woody  Hayao  Frank  Sam  James  James  Gus  John  Danny  Danny  Christopher  Richard  Kevin  Andrei  Peter"
            ]
          },
          "metadata": {
            "tags": []
          },
          "execution_count": 24
        }
      ]
    },
    {
      "cell_type": "markdown",
      "metadata": {
        "colab_type": "text",
        "id": "H3ymNkBA6vgg"
      },
      "source": [
        "### Query 29: *`FULL OUTER JOIN`* - Perfrom full outer join between customers and orders\n",
        "![**SQL FULL OUTER JOIN**](https://www.w3resource.com/w3r_images/sql-full-outer-join.gif)"
      ]
    },
    {
      "cell_type": "markdown",
      "metadata": {
        "colab_type": "text",
        "id": "bSn_7oHh6vgj"
      },
      "source": [
        "> * **SQL** - Since SQLite does not support RIGHT OUTER and FULL OUTER JOIN. We will use LEFT OUTER JOIN and combination of LEFT OUTER and UNION to perform RIGHT OUTER and FULL OUTER JOIN respectively."
      ]
    },
    {
      "cell_type": "code",
      "metadata": {
        "colab_type": "code",
        "id": "N8uJudlH6vgl",
        "colab": {}
      },
      "source": [
        "table_name1 = 'customers'\n",
        "table_name2 = 'orders'"
      ],
      "execution_count": 0,
      "outputs": []
    },
    {
      "cell_type": "code",
      "metadata": {
        "colab_type": "code",
        "id": "a3cBCJv86vgo",
        "outputId": "5cd01dcf-4025-4dc0-a49f-c85fac4eee5c",
        "colab": {
          "base_uri": "https://localhost:8080/",
          "height": 731
        }
      },
      "source": [
        "rs = con.execute(f'''SELECT  {table_name1}.CustomerID, CustomerName, ContactName, Address, City, PostalCode, Country, \n",
        "                                OrderID,\tEmployeeID, OrderDate, ShipperID\n",
        "                     FROM {table_name1}  AS {table_name1}\n",
        "                     LEFT JOIN {table_name2} AS {table_name2}\n",
        "                     ON {table_name1}.CustomerID = {table_name2}.CustomerID\n",
        "                     UNION\n",
        "                     SELECT {table_name2}.CustomerID, CustomerName, ContactName, Address, City, PostalCode, \n",
        "                                Country, OrderID,\tEmployeeID, OrderDate, ShipperID\n",
        "                     FROM {table_name2}  AS {table_name2}\n",
        "                     LEFT JOIN {table_name1} AS {table_name1}\n",
        "                     ON {table_name2}.CustomerID = {table_name1}.CustomerID\n",
        "                     \n",
        "                     ''')\n",
        "pd.DataFrame(rs.fetchall(), columns = ['CustomerID', 'CustomerName', 'ContactName', \n",
        "                                       'Address', 'City', 'PostalCode', 'Country', \n",
        "                                       'OrderID', 'EmployeeID', 'OrderDate', 'ShipperID'])"
      ],
      "execution_count": 0,
      "outputs": [
        {
          "output_type": "stream",
          "text": [
            "ERROR:root:An unexpected error occurred while tokenizing input\n",
            "The following traceback may be corrupted or invalid\n",
            "The error message is: ('EOF in multi-line string', (1, 21))\n",
            "\n"
          ],
          "name": "stderr"
        },
        {
          "output_type": "error",
          "ename": "OperationalError",
          "evalue": "ignored",
          "traceback": [
            "\u001b[0;31m---------------------------------------------------------------------------\u001b[0m",
            "\u001b[0;31mOperationalError\u001b[0m                          Traceback (most recent call last)",
            "\u001b[0;32m/usr/local/lib/python3.6/dist-packages/sqlalchemy/engine/base.py\u001b[0m in \u001b[0;36m_execute_context\u001b[0;34m(self, dialect, constructor, statement, parameters, *args)\u001b[0m\n\u001b[1;32m   1248\u001b[0m                     self.dialect.do_execute(\n\u001b[0;32m-> 1249\u001b[0;31m                         \u001b[0mcursor\u001b[0m\u001b[0;34m,\u001b[0m \u001b[0mstatement\u001b[0m\u001b[0;34m,\u001b[0m \u001b[0mparameters\u001b[0m\u001b[0;34m,\u001b[0m \u001b[0mcontext\u001b[0m\u001b[0;34m\u001b[0m\u001b[0;34m\u001b[0m\u001b[0m\n\u001b[0m\u001b[1;32m   1250\u001b[0m                     )\n",
            "\u001b[0;32m/usr/local/lib/python3.6/dist-packages/sqlalchemy/engine/default.py\u001b[0m in \u001b[0;36mdo_execute\u001b[0;34m(self, cursor, statement, parameters, context)\u001b[0m\n\u001b[1;32m    579\u001b[0m     \u001b[0;32mdef\u001b[0m \u001b[0mdo_execute\u001b[0m\u001b[0;34m(\u001b[0m\u001b[0mself\u001b[0m\u001b[0;34m,\u001b[0m \u001b[0mcursor\u001b[0m\u001b[0;34m,\u001b[0m \u001b[0mstatement\u001b[0m\u001b[0;34m,\u001b[0m \u001b[0mparameters\u001b[0m\u001b[0;34m,\u001b[0m \u001b[0mcontext\u001b[0m\u001b[0;34m=\u001b[0m\u001b[0;32mNone\u001b[0m\u001b[0;34m)\u001b[0m\u001b[0;34m:\u001b[0m\u001b[0;34m\u001b[0m\u001b[0;34m\u001b[0m\u001b[0m\n\u001b[0;32m--> 580\u001b[0;31m         \u001b[0mcursor\u001b[0m\u001b[0;34m.\u001b[0m\u001b[0mexecute\u001b[0m\u001b[0;34m(\u001b[0m\u001b[0mstatement\u001b[0m\u001b[0;34m,\u001b[0m \u001b[0mparameters\u001b[0m\u001b[0;34m)\u001b[0m\u001b[0;34m\u001b[0m\u001b[0;34m\u001b[0m\u001b[0m\n\u001b[0m\u001b[1;32m    581\u001b[0m \u001b[0;34m\u001b[0m\u001b[0m\n",
            "\u001b[0;31mOperationalError\u001b[0m: no such table: orders",
            "\nThe above exception was the direct cause of the following exception:\n",
            "\u001b[0;31mOperationalError\u001b[0m                          Traceback (most recent call last)",
            "\u001b[0;32m<ipython-input-26-870704ac6cab>\u001b[0m in \u001b[0;36m<module>\u001b[0;34m()\u001b[0m\n\u001b[1;32m     11\u001b[0m                      \u001b[0mON\u001b[0m \u001b[0;34m{\u001b[0m\u001b[0mtable_name2\u001b[0m\u001b[0;34m}\u001b[0m\u001b[0;34m.\u001b[0m\u001b[0mCustomerID\u001b[0m \u001b[0;34m=\u001b[0m \u001b[0;34m{\u001b[0m\u001b[0mtable_name1\u001b[0m\u001b[0;34m}\u001b[0m\u001b[0;34m.\u001b[0m\u001b[0mCustomerID\u001b[0m\u001b[0;34m\u001b[0m\u001b[0;34m\u001b[0m\u001b[0m\n\u001b[1;32m     12\u001b[0m \u001b[0;34m\u001b[0m\u001b[0m\n\u001b[0;32m---> 13\u001b[0;31m                      ''')\n\u001b[0m\u001b[1;32m     14\u001b[0m pd.DataFrame(rs.fetchall(), columns = ['CustomerID', 'CustomerName', 'ContactName', \n\u001b[1;32m     15\u001b[0m                                        \u001b[0;34m'Address'\u001b[0m\u001b[0;34m,\u001b[0m \u001b[0;34m'City'\u001b[0m\u001b[0;34m,\u001b[0m \u001b[0;34m'PostalCode'\u001b[0m\u001b[0;34m,\u001b[0m \u001b[0;34m'Country'\u001b[0m\u001b[0;34m,\u001b[0m\u001b[0;34m\u001b[0m\u001b[0;34m\u001b[0m\u001b[0m\n",
            "\u001b[0;32m/usr/local/lib/python3.6/dist-packages/sqlalchemy/engine/base.py\u001b[0m in \u001b[0;36mexecute\u001b[0;34m(self, object_, *multiparams, **params)\u001b[0m\n\u001b[1;32m    980\u001b[0m         \"\"\"\n\u001b[1;32m    981\u001b[0m         \u001b[0;32mif\u001b[0m \u001b[0misinstance\u001b[0m\u001b[0;34m(\u001b[0m\u001b[0mobject_\u001b[0m\u001b[0;34m,\u001b[0m \u001b[0mutil\u001b[0m\u001b[0;34m.\u001b[0m\u001b[0mstring_types\u001b[0m\u001b[0;34m[\u001b[0m\u001b[0;36m0\u001b[0m\u001b[0;34m]\u001b[0m\u001b[0;34m)\u001b[0m\u001b[0;34m:\u001b[0m\u001b[0;34m\u001b[0m\u001b[0;34m\u001b[0m\u001b[0m\n\u001b[0;32m--> 982\u001b[0;31m             \u001b[0;32mreturn\u001b[0m \u001b[0mself\u001b[0m\u001b[0;34m.\u001b[0m\u001b[0m_execute_text\u001b[0m\u001b[0;34m(\u001b[0m\u001b[0mobject_\u001b[0m\u001b[0;34m,\u001b[0m \u001b[0mmultiparams\u001b[0m\u001b[0;34m,\u001b[0m \u001b[0mparams\u001b[0m\u001b[0;34m)\u001b[0m\u001b[0;34m\u001b[0m\u001b[0;34m\u001b[0m\u001b[0m\n\u001b[0m\u001b[1;32m    983\u001b[0m         \u001b[0;32mtry\u001b[0m\u001b[0;34m:\u001b[0m\u001b[0;34m\u001b[0m\u001b[0;34m\u001b[0m\u001b[0m\n\u001b[1;32m    984\u001b[0m             \u001b[0mmeth\u001b[0m \u001b[0;34m=\u001b[0m \u001b[0mobject_\u001b[0m\u001b[0;34m.\u001b[0m\u001b[0m_execute_on_connection\u001b[0m\u001b[0;34m\u001b[0m\u001b[0;34m\u001b[0m\u001b[0m\n",
            "\u001b[0;32m/usr/local/lib/python3.6/dist-packages/sqlalchemy/engine/base.py\u001b[0m in \u001b[0;36m_execute_text\u001b[0;34m(self, statement, multiparams, params)\u001b[0m\n\u001b[1;32m   1153\u001b[0m             \u001b[0mparameters\u001b[0m\u001b[0;34m,\u001b[0m\u001b[0;34m\u001b[0m\u001b[0;34m\u001b[0m\u001b[0m\n\u001b[1;32m   1154\u001b[0m             \u001b[0mstatement\u001b[0m\u001b[0;34m,\u001b[0m\u001b[0;34m\u001b[0m\u001b[0;34m\u001b[0m\u001b[0m\n\u001b[0;32m-> 1155\u001b[0;31m             \u001b[0mparameters\u001b[0m\u001b[0;34m,\u001b[0m\u001b[0;34m\u001b[0m\u001b[0;34m\u001b[0m\u001b[0m\n\u001b[0m\u001b[1;32m   1156\u001b[0m         )\n\u001b[1;32m   1157\u001b[0m         \u001b[0;32mif\u001b[0m \u001b[0mself\u001b[0m\u001b[0;34m.\u001b[0m\u001b[0m_has_events\u001b[0m \u001b[0;32mor\u001b[0m \u001b[0mself\u001b[0m\u001b[0;34m.\u001b[0m\u001b[0mengine\u001b[0m\u001b[0;34m.\u001b[0m\u001b[0m_has_events\u001b[0m\u001b[0;34m:\u001b[0m\u001b[0;34m\u001b[0m\u001b[0;34m\u001b[0m\u001b[0m\n",
            "\u001b[0;32m/usr/local/lib/python3.6/dist-packages/sqlalchemy/engine/base.py\u001b[0m in \u001b[0;36m_execute_context\u001b[0;34m(self, dialect, constructor, statement, parameters, *args)\u001b[0m\n\u001b[1;32m   1251\u001b[0m         \u001b[0;32mexcept\u001b[0m \u001b[0mBaseException\u001b[0m \u001b[0;32mas\u001b[0m \u001b[0me\u001b[0m\u001b[0;34m:\u001b[0m\u001b[0;34m\u001b[0m\u001b[0;34m\u001b[0m\u001b[0m\n\u001b[1;32m   1252\u001b[0m             self._handle_dbapi_exception(\n\u001b[0;32m-> 1253\u001b[0;31m                 \u001b[0me\u001b[0m\u001b[0;34m,\u001b[0m \u001b[0mstatement\u001b[0m\u001b[0;34m,\u001b[0m \u001b[0mparameters\u001b[0m\u001b[0;34m,\u001b[0m \u001b[0mcursor\u001b[0m\u001b[0;34m,\u001b[0m \u001b[0mcontext\u001b[0m\u001b[0;34m\u001b[0m\u001b[0;34m\u001b[0m\u001b[0m\n\u001b[0m\u001b[1;32m   1254\u001b[0m             )\n\u001b[1;32m   1255\u001b[0m \u001b[0;34m\u001b[0m\u001b[0m\n",
            "\u001b[0;32m/usr/local/lib/python3.6/dist-packages/sqlalchemy/engine/base.py\u001b[0m in \u001b[0;36m_handle_dbapi_exception\u001b[0;34m(self, e, statement, parameters, cursor, context)\u001b[0m\n\u001b[1;32m   1471\u001b[0m                 \u001b[0mutil\u001b[0m\u001b[0;34m.\u001b[0m\u001b[0mraise_from_cause\u001b[0m\u001b[0;34m(\u001b[0m\u001b[0mnewraise\u001b[0m\u001b[0;34m,\u001b[0m \u001b[0mexc_info\u001b[0m\u001b[0;34m)\u001b[0m\u001b[0;34m\u001b[0m\u001b[0;34m\u001b[0m\u001b[0m\n\u001b[1;32m   1472\u001b[0m             \u001b[0;32melif\u001b[0m \u001b[0mshould_wrap\u001b[0m\u001b[0;34m:\u001b[0m\u001b[0;34m\u001b[0m\u001b[0;34m\u001b[0m\u001b[0m\n\u001b[0;32m-> 1473\u001b[0;31m                 \u001b[0mutil\u001b[0m\u001b[0;34m.\u001b[0m\u001b[0mraise_from_cause\u001b[0m\u001b[0;34m(\u001b[0m\u001b[0msqlalchemy_exception\u001b[0m\u001b[0;34m,\u001b[0m \u001b[0mexc_info\u001b[0m\u001b[0;34m)\u001b[0m\u001b[0;34m\u001b[0m\u001b[0;34m\u001b[0m\u001b[0m\n\u001b[0m\u001b[1;32m   1474\u001b[0m             \u001b[0;32melse\u001b[0m\u001b[0;34m:\u001b[0m\u001b[0;34m\u001b[0m\u001b[0;34m\u001b[0m\u001b[0m\n\u001b[1;32m   1475\u001b[0m                 \u001b[0mutil\u001b[0m\u001b[0;34m.\u001b[0m\u001b[0mreraise\u001b[0m\u001b[0;34m(\u001b[0m\u001b[0;34m*\u001b[0m\u001b[0mexc_info\u001b[0m\u001b[0;34m)\u001b[0m\u001b[0;34m\u001b[0m\u001b[0;34m\u001b[0m\u001b[0m\n",
            "\u001b[0;32m/usr/local/lib/python3.6/dist-packages/sqlalchemy/util/compat.py\u001b[0m in \u001b[0;36mraise_from_cause\u001b[0;34m(exception, exc_info)\u001b[0m\n\u001b[1;32m    396\u001b[0m     \u001b[0mexc_type\u001b[0m\u001b[0;34m,\u001b[0m \u001b[0mexc_value\u001b[0m\u001b[0;34m,\u001b[0m \u001b[0mexc_tb\u001b[0m \u001b[0;34m=\u001b[0m \u001b[0mexc_info\u001b[0m\u001b[0;34m\u001b[0m\u001b[0;34m\u001b[0m\u001b[0m\n\u001b[1;32m    397\u001b[0m     \u001b[0mcause\u001b[0m \u001b[0;34m=\u001b[0m \u001b[0mexc_value\u001b[0m \u001b[0;32mif\u001b[0m \u001b[0mexc_value\u001b[0m \u001b[0;32mis\u001b[0m \u001b[0;32mnot\u001b[0m \u001b[0mexception\u001b[0m \u001b[0;32melse\u001b[0m \u001b[0;32mNone\u001b[0m\u001b[0;34m\u001b[0m\u001b[0;34m\u001b[0m\u001b[0m\n\u001b[0;32m--> 398\u001b[0;31m     \u001b[0mreraise\u001b[0m\u001b[0;34m(\u001b[0m\u001b[0mtype\u001b[0m\u001b[0;34m(\u001b[0m\u001b[0mexception\u001b[0m\u001b[0;34m)\u001b[0m\u001b[0;34m,\u001b[0m \u001b[0mexception\u001b[0m\u001b[0;34m,\u001b[0m \u001b[0mtb\u001b[0m\u001b[0;34m=\u001b[0m\u001b[0mexc_tb\u001b[0m\u001b[0;34m,\u001b[0m \u001b[0mcause\u001b[0m\u001b[0;34m=\u001b[0m\u001b[0mcause\u001b[0m\u001b[0;34m)\u001b[0m\u001b[0;34m\u001b[0m\u001b[0;34m\u001b[0m\u001b[0m\n\u001b[0m\u001b[1;32m    399\u001b[0m \u001b[0;34m\u001b[0m\u001b[0m\n\u001b[1;32m    400\u001b[0m \u001b[0;34m\u001b[0m\u001b[0m\n",
            "\u001b[0;32m/usr/local/lib/python3.6/dist-packages/sqlalchemy/util/compat.py\u001b[0m in \u001b[0;36mreraise\u001b[0;34m(tp, value, tb, cause)\u001b[0m\n\u001b[1;32m    150\u001b[0m             \u001b[0mvalue\u001b[0m\u001b[0;34m.\u001b[0m\u001b[0m__cause__\u001b[0m \u001b[0;34m=\u001b[0m \u001b[0mcause\u001b[0m\u001b[0;34m\u001b[0m\u001b[0;34m\u001b[0m\u001b[0m\n\u001b[1;32m    151\u001b[0m         \u001b[0;32mif\u001b[0m \u001b[0mvalue\u001b[0m\u001b[0;34m.\u001b[0m\u001b[0m__traceback__\u001b[0m \u001b[0;32mis\u001b[0m \u001b[0;32mnot\u001b[0m \u001b[0mtb\u001b[0m\u001b[0;34m:\u001b[0m\u001b[0;34m\u001b[0m\u001b[0;34m\u001b[0m\u001b[0m\n\u001b[0;32m--> 152\u001b[0;31m             \u001b[0;32mraise\u001b[0m \u001b[0mvalue\u001b[0m\u001b[0;34m.\u001b[0m\u001b[0mwith_traceback\u001b[0m\u001b[0;34m(\u001b[0m\u001b[0mtb\u001b[0m\u001b[0;34m)\u001b[0m\u001b[0;34m\u001b[0m\u001b[0;34m\u001b[0m\u001b[0m\n\u001b[0m\u001b[1;32m    153\u001b[0m         \u001b[0;32mraise\u001b[0m \u001b[0mvalue\u001b[0m\u001b[0;34m\u001b[0m\u001b[0;34m\u001b[0m\u001b[0m\n\u001b[1;32m    154\u001b[0m \u001b[0;34m\u001b[0m\u001b[0m\n",
            "\u001b[0;32m/usr/local/lib/python3.6/dist-packages/sqlalchemy/engine/base.py\u001b[0m in \u001b[0;36m_execute_context\u001b[0;34m(self, dialect, constructor, statement, parameters, *args)\u001b[0m\n\u001b[1;32m   1247\u001b[0m                 \u001b[0;32mif\u001b[0m \u001b[0;32mnot\u001b[0m \u001b[0mevt_handled\u001b[0m\u001b[0;34m:\u001b[0m\u001b[0;34m\u001b[0m\u001b[0;34m\u001b[0m\u001b[0m\n\u001b[1;32m   1248\u001b[0m                     self.dialect.do_execute(\n\u001b[0;32m-> 1249\u001b[0;31m                         \u001b[0mcursor\u001b[0m\u001b[0;34m,\u001b[0m \u001b[0mstatement\u001b[0m\u001b[0;34m,\u001b[0m \u001b[0mparameters\u001b[0m\u001b[0;34m,\u001b[0m \u001b[0mcontext\u001b[0m\u001b[0;34m\u001b[0m\u001b[0;34m\u001b[0m\u001b[0m\n\u001b[0m\u001b[1;32m   1250\u001b[0m                     )\n\u001b[1;32m   1251\u001b[0m         \u001b[0;32mexcept\u001b[0m \u001b[0mBaseException\u001b[0m \u001b[0;32mas\u001b[0m \u001b[0me\u001b[0m\u001b[0;34m:\u001b[0m\u001b[0;34m\u001b[0m\u001b[0;34m\u001b[0m\u001b[0m\n",
            "\u001b[0;32m/usr/local/lib/python3.6/dist-packages/sqlalchemy/engine/default.py\u001b[0m in \u001b[0;36mdo_execute\u001b[0;34m(self, cursor, statement, parameters, context)\u001b[0m\n\u001b[1;32m    578\u001b[0m \u001b[0;34m\u001b[0m\u001b[0m\n\u001b[1;32m    579\u001b[0m     \u001b[0;32mdef\u001b[0m \u001b[0mdo_execute\u001b[0m\u001b[0;34m(\u001b[0m\u001b[0mself\u001b[0m\u001b[0;34m,\u001b[0m \u001b[0mcursor\u001b[0m\u001b[0;34m,\u001b[0m \u001b[0mstatement\u001b[0m\u001b[0;34m,\u001b[0m \u001b[0mparameters\u001b[0m\u001b[0;34m,\u001b[0m \u001b[0mcontext\u001b[0m\u001b[0;34m=\u001b[0m\u001b[0;32mNone\u001b[0m\u001b[0;34m)\u001b[0m\u001b[0;34m:\u001b[0m\u001b[0;34m\u001b[0m\u001b[0;34m\u001b[0m\u001b[0m\n\u001b[0;32m--> 580\u001b[0;31m         \u001b[0mcursor\u001b[0m\u001b[0;34m.\u001b[0m\u001b[0mexecute\u001b[0m\u001b[0;34m(\u001b[0m\u001b[0mstatement\u001b[0m\u001b[0;34m,\u001b[0m \u001b[0mparameters\u001b[0m\u001b[0;34m)\u001b[0m\u001b[0;34m\u001b[0m\u001b[0;34m\u001b[0m\u001b[0m\n\u001b[0m\u001b[1;32m    581\u001b[0m \u001b[0;34m\u001b[0m\u001b[0m\n\u001b[1;32m    582\u001b[0m     \u001b[0;32mdef\u001b[0m \u001b[0mdo_execute_no_params\u001b[0m\u001b[0;34m(\u001b[0m\u001b[0mself\u001b[0m\u001b[0;34m,\u001b[0m \u001b[0mcursor\u001b[0m\u001b[0;34m,\u001b[0m \u001b[0mstatement\u001b[0m\u001b[0;34m,\u001b[0m \u001b[0mcontext\u001b[0m\u001b[0;34m=\u001b[0m\u001b[0;32mNone\u001b[0m\u001b[0;34m)\u001b[0m\u001b[0;34m:\u001b[0m\u001b[0;34m\u001b[0m\u001b[0;34m\u001b[0m\u001b[0m\n",
            "\u001b[0;31mOperationalError\u001b[0m: (sqlite3.OperationalError) no such table: orders\n[SQL: SELECT  customers.CustomerID, CustomerName, ContactName, Address, City, PostalCode, Country, \n                                OrderID,\tEmployeeID, OrderDate, ShipperID\n                     FROM customers  AS customers\n                     LEFT JOIN orders AS orders\n                     ON customers.CustomerID = orders.CustomerID\n                     UNION\n                     SELECT orders.CustomerID, CustomerName, ContactName, Address, City, PostalCode, \n                                Country, OrderID,\tEmployeeID, OrderDate, ShipperID\n                     FROM orders  AS orders\n                     LEFT JOIN customers AS customers\n                     ON orders.CustomerID = customers.CustomerID\n                     \n                     ]\n(Background on this error at: http://sqlalche.me/e/e3q8)"
          ]
        }
      ]
    },
    {
      "cell_type": "markdown",
      "metadata": {
        "colab_type": "text",
        "id": "nZHeCed96vgr"
      },
      "source": [
        "> * **Pandas** "
      ]
    },
    {
      "cell_type": "code",
      "metadata": {
        "colab_type": "code",
        "id": "v7UkJhEE6vgs",
        "colab": {}
      },
      "source": [
        "table1 = db[table_name1]\n",
        "table2 = db[table_name2]\n",
        "\n",
        "JOIN = pd.merge\n",
        "FULL_OUTER = 'outer'    \n",
        "ON = 'CustomerID'\n",
        "FROM_CLAUSE_WITH_JOIN = JOIN(table1, table2, FULL_OUTER, ON)\n",
        "\n",
        "SELECT_CLAUSE = ['CustomerID', 'CustomerName', 'ContactName', 'Address', 'City', 'PostalCode', 'Country', 'OrderID', 'EmployeeID', 'OrderDate', 'ShipperID']\n",
        "\n",
        "res = FROM_CLAUSE_WITH_JOIN[SELECT_CLAUSE]\n",
        "res"
      ],
      "execution_count": 0,
      "outputs": []
    },
    {
      "cell_type": "markdown",
      "metadata": {
        "colab_type": "text",
        "id": "NlbU6VLtw1vD"
      },
      "source": [
        "**bold text**### Query 30: *`INNER JOIN WITH WHERE`* - Find the name of all reviewers who have rated their ratings with a NULL value."
      ]
    },
    {
      "cell_type": "markdown",
      "metadata": {
        "colab_type": "text",
        "id": "VfpvXVi-w1vI"
      },
      "source": [
        "> * **SQL** "
      ]
    },
    {
      "cell_type": "code",
      "metadata": {
        "id": "iNFSzIDk8VSW",
        "colab_type": "code",
        "colab": {}
      },
      "source": [
        "table_name1 = 'reviewer'\n",
        "table_name2 = 'rating'"
      ],
      "execution_count": 0,
      "outputs": []
    },
    {
      "cell_type": "code",
      "metadata": {
        "id": "VQaoD2lt8Uqd",
        "colab_type": "code",
        "colab": {}
      },
      "source": [
        "rs = con.execute(f'''SELECT {table_name1}.rev_name\n",
        "                     FROM {table_name1}  AS {table_name1}\n",
        "                     INNER JOIN {table_name2} AS {table_name2}\n",
        "                     ON {table_name1}.rev_id = {table_name2}.rev_id\n",
        "                     WHERE {table_name2}.rev_stars IS NULL\n",
        "                     ''')\n",
        "pd.DataFrame(rs.fetchall(), columns=['rev_name'])"
      ],
      "execution_count": 0,
      "outputs": []
    },
    {
      "cell_type": "markdown",
      "metadata": {
        "colab_type": "text",
        "id": "nl8qfq52kdp7"
      },
      "source": [
        "> * **Pandas** "
      ]
    },
    {
      "cell_type": "code",
      "metadata": {
        "colab_type": "code",
        "id": "t42ufYXTw1vL",
        "colab": {}
      },
      "source": [
        "table1 = db[table_name1]\n",
        "table2 = db[table_name2]\n",
        "\n",
        "JOIN = pd.merge\n",
        "INNER = 'inner'    \n",
        "WHERE_CONDITION = (table2['rev_stars'].isnull())\n",
        "WHERE_CLAUSE = WHERE_CONDITION\n",
        "\n",
        "FROM_JOIN_WHERE = JOIN(table1, table2[WHERE_CLAUSE], INNER)\n",
        "\n",
        "SELECT_CLAUSE = ['rev_name']\n",
        "\n",
        "res = FROM_JOIN_WHERE[SELECT_CLAUSE]\n",
        "res"
      ],
      "execution_count": 0,
      "outputs": []
    },
    {
      "cell_type": "markdown",
      "metadata": {
        "colab_type": "text",
        "id": "0aTDGoIeL5NY"
      },
      "source": [
        "### Query 30: *`LEFT JOIN WITH WHERE`* - Find the list the first and last names of all the actors who were cast in the movie 'Annie Hall', and the roles they played in that production."
      ]
    },
    {
      "cell_type": "markdown",
      "metadata": {
        "colab_type": "text",
        "id": "nNe4zSuuL5Na"
      },
      "source": [
        "> * **SQL** - LEFT JOIN between movie and movie_cast"
      ]
    },
    {
      "cell_type": "code",
      "metadata": {
        "colab_type": "code",
        "id": "kk7Mypz4L5Nc",
        "colab": {}
      },
      "source": [
        "table_name1, table_name2, table_name3 = 'actor', 'movie_cast', 'movie'"
      ],
      "execution_count": 0,
      "outputs": []
    },
    {
      "cell_type": "code",
      "metadata": {
        "colab_type": "code",
        "id": "F5vJIBZ6L5Ni",
        "colab": {}
      },
      "source": [
        "rs = con.execute(f'''SELECT {table_name1}.act_fname, {table_name1}.act_lname, act_role.role\n",
        "                     FROM {table_name1} AS {table_name1}\n",
        "                     INNER JOIN (SELECT {table_name2}.act_id AS act_id, {table_name2}.role AS role\n",
        "                                 FROM {table_name3}  AS {table_name3}\n",
        "                                 LEFT JOIN {table_name2} AS {table_name2}\n",
        "                                 ON {table_name3}.mov_id = {table_name2}.mov_id\n",
        "                                 WHERE {table_name3}.mov_title = 'AnnieHall') AS act_role\n",
        "                     ON act_role.act_id = {table_name1}.act_id\n",
        "                     ''')\n",
        "pd.DataFrame(rs.fetchall(), columns=['act_fname', 'act_lname', 'role'])"
      ],
      "execution_count": 0,
      "outputs": []
    },
    {
      "cell_type": "markdown",
      "metadata": {
        "colab_type": "text",
        "id": "1qoQzZGhL5Nm"
      },
      "source": [
        "> * **Pandas** - LEFT JOIN between movie and movie_cast"
      ]
    },
    {
      "cell_type": "code",
      "metadata": {
        "colab_type": "code",
        "id": "uPK0rviuL5Nn",
        "colab": {}
      },
      "source": [
        "table1 = db[table_name1]\n",
        "table2 = db[table_name2]\n",
        "table3 = db[table_name3]\n",
        "\n",
        "JOIN = pd.merge\n",
        "LEFT = 'left'    \n",
        "WHERE_CONDITION = (table3['mov_title'] ==  'AnnieHall')\n",
        "WHERE_CLAUSE = WHERE_CONDITION\n",
        "ON = 'mov_id'\n",
        "FROM_JOIN_WHERE = JOIN(table3[WHERE_CLAUSE], table2, LEFT, ON)\n",
        "\n",
        "SELECT_CLAUSE = ['act_id', 'role']\n",
        "\n",
        "new_table = FROM_JOIN_WHERE[SELECT_CLAUSE]\n",
        "\n",
        "SELECT_CLAUSE1 = ['act_fname', 'act_lname', 'role']\n",
        "INNER = 'inner'\n",
        "ON = 'act_id'\n",
        "FROM_JOIN = JOIN(table1, new_table, INNER)\n",
        "res = FROM_JOIN[SELECT_CLAUSE1]\n",
        "res"
      ],
      "execution_count": 0,
      "outputs": []
    },
    {
      "cell_type": "markdown",
      "metadata": {
        "colab_type": "text",
        "id": "QKJqmOXMXj-V"
      },
      "source": [
        "### Query 31: *`RIGHT JOIN WITH WHERE`* - Write a query to list all the actors who have acted in any movie between 1990 and 2000."
      ]
    },
    {
      "cell_type": "markdown",
      "metadata": {
        "colab_type": "text",
        "id": "yVOce7JFXj-Y"
      },
      "source": [
        "> * **SQL** - The result of RIGHT JOIN between 'movie_cast' and 'movie' is equivalent to that of LEFT JOIN between 'movie' and 'movie_cast'."
      ]
    },
    {
      "cell_type": "code",
      "metadata": {
        "colab_type": "code",
        "id": "MLVUpFC-Xj-a",
        "colab": {}
      },
      "source": [
        "table_name1, table_name2, table_name3 = 'actor', 'movie_cast', 'movie'"
      ],
      "execution_count": 0,
      "outputs": []
    },
    {
      "cell_type": "code",
      "metadata": {
        "id": "9ZCIarvEbBcK",
        "colab_type": "code",
        "colab": {}
      },
      "source": [
        "rs = con.execute(f''' SELECT {table_name1}.act_fname, {table_name1}.act_lname, act_movie.mov_title,  act_movie.mov_year\n",
        "                     FROM (SELECT act_id, mov_year, mov_title\n",
        "                           FROM {table_name3}  AS {table_name3}\n",
        "                           LEFT JOIN {table_name2} AS {table_name2}\n",
        "                           ON {table_name3}.mov_id = {table_name2}.mov_id\n",
        "                           WHERE {table_name3}.mov_year BETWEEN 1990 AND 2000) as act_movie\n",
        "                     LEFT JOIN  {table_name1}  AS {table_name1}\n",
        "                     ON {table_name1}.act_id = act_movie.act_id\n",
        "                  ''')\n",
        "pd.DataFrame(rs.fetchall(), columns = ['act_fname', 'act_lname', 'mov_title', 'mov_year'])"
      ],
      "execution_count": 0,
      "outputs": []
    },
    {
      "cell_type": "code",
      "metadata": {
        "id": "I6_41kGR3nMp",
        "colab_type": "code",
        "colab": {}
      },
      "source": [
        "rs = con.execute(f''' SELECT {table_name1}.act_fname, {table_name1}.act_lname, {table_name3}.mov_title,  {table_name3}.mov_year\n",
        "                      FROM {table_name3}  AS {table_name3} \n",
        "                      LEFT JOIN {table_name2} AS {table_name2}                       \n",
        "                      ON {table_name3}.mov_id = {table_name2}.mov_id\n",
        "                      LEFT JOIN  {table_name1}  AS {table_name1}                       \n",
        "                      ON {table_name1}.act_id = {table_name2}.act_id\n",
        "                      WHERE {table_name3}.mov_year BETWEEN 1990 AND 2000\n",
        "                 ''')\n",
        "pd.DataFrame(rs.fetchall(), columns = ['act_fname', 'act_lname', 'mov_title', 'mov_year'])"
      ],
      "execution_count": 0,
      "outputs": []
    },
    {
      "cell_type": "markdown",
      "metadata": {
        "colab_type": "text",
        "id": "XTfYoy9EXj-g"
      },
      "source": [
        "> * **Pandas** "
      ]
    },
    {
      "cell_type": "code",
      "metadata": {
        "colab_type": "code",
        "id": "G2TJ9JsTXj-i",
        "colab": {}
      },
      "source": [
        "table1 = db[table_name1]\n",
        "table2 = db[table_name2]\n",
        "table3 = db[table_name3]\n",
        "\n",
        "JOIN = pd.merge\n",
        "RIGHT = 'right'    \n",
        "WHERE_CONDITION = (table3['mov_year'].isin(range(1990, 2001, 1)))\n",
        "WHERE_CLAUSE = WHERE_CONDITION\n",
        "ON = 'mov_id'\n",
        "FROM_JOIN_WHERE = JOIN(table2, table3[WHERE_CLAUSE], RIGHT, ON)\n",
        "\n",
        "SELECT_CLAUSE = ['act_id', 'mov_year', 'mov_title']\n",
        "\n",
        "new_table = FROM_JOIN_WHERE[SELECT_CLAUSE]\n",
        "\n",
        "SELECT_CLAUSE1 = ['act_fname', 'act_lname', 'mov_title', 'mov_year']\n",
        "RIGHT = 'right'\n",
        "ON = 'act_id'\n",
        "FROM_JOIN = JOIN(table1, new_table, RIGHT)\n",
        "res = FROM_JOIN[SELECT_CLAUSE1]\n",
        "res"
      ],
      "execution_count": 0,
      "outputs": []
    },
    {
      "cell_type": "code",
      "metadata": {
        "id": "dymMdxA4x6DC",
        "colab_type": "code",
        "colab": {}
      },
      "source": [
        "table2.merge(table3, 'right', 'mov_id').merge(table1, 'right', 'act_id')[SELECT_CLAUSE1]"
      ],
      "execution_count": 0,
      "outputs": []
    },
    {
      "cell_type": "markdown",
      "metadata": {
        "colab_type": "text",
        "id": "Uiy25d82qtde"
      },
      "source": [
        "### Query 32: Write a query to find the name of movie and director (first and last names) who directed a movie that casted the roles that start with 'J'.\n"
      ]
    },
    {
      "cell_type": "markdown",
      "metadata": {
        "id": "aYvc5c5poCcj",
        "colab_type": "text"
      },
      "source": [
        "> * **SQL**"
      ]
    },
    {
      "cell_type": "code",
      "metadata": {
        "colab_type": "code",
        "id": "CVEWa7jzqtdb",
        "colab": {}
      },
      "source": [
        "table_name1 = 'director'\n",
        "table_name2 = 'movie_direction'\n",
        "table_name3 = 'movie_cast'\n",
        "table_name4 = 'movie'"
      ],
      "execution_count": 0,
      "outputs": []
    },
    {
      "cell_type": "code",
      "metadata": {
        "colab_type": "code",
        "id": "SPPZ9XMQqtcy",
        "colab": {}
      },
      "source": [
        "rs = con.execute(f'''SELECT cast_movie.mov_title, dir_movie.dir_fname, dir_movie.dir_lname\n",
        "                     FROM (SELECT {table_name1}.dir_id, {table_name2}.mov_id, {table_name1}.dir_fname, {table_name1}.dir_lname\n",
        "                           FROM {table_name1}  AS {table_name1}\n",
        "                           LEFT JOIN {table_name2} AS {table_name2}\n",
        "                           ON {table_name1}.dir_id = {table_name2}.dir_id) AS dir_movie\n",
        "                     INNER JOIN\n",
        "                          (SELECT {table_name4}.mov_id, {table_name4}.mov_title\n",
        "                           FROM {table_name4}  AS {table_name4}\n",
        "                           LEFT JOIN {table_name3} AS {table_name3}\n",
        "                           ON {table_name3}.mov_id = {table_name4}.mov_id\n",
        "                           WHERE {table_name3}.role LIKE \"J%\") AS cast_movie \n",
        "                     ON dir_movie.mov_id = cast_movie.mov_id                     \n",
        "                     ''')\n",
        "pd.DataFrame(rs.fetchall(), columns = ['mov_title', 'dir_fname', 'dir_lname'])"
      ],
      "execution_count": 0,
      "outputs": []
    },
    {
      "cell_type": "code",
      "metadata": {
        "id": "1aZxHLz2AFnS",
        "colab_type": "code",
        "colab": {}
      },
      "source": [
        "rs = con.execute(f'''SELECT {table_name4}.mov_title, {table_name1}.dir_fname, {table_name1}.dir_lname\n",
        "                     FROM {table_name1}  AS {table_name1}\n",
        "                     LEFT JOIN {table_name2} AS {table_name2}                                \n",
        "                     ON {table_name1}.dir_id = {table_name2}.dir_id\n",
        "                     INNER JOIN {table_name4}  AS {table_name4}                                                   \n",
        "                     ON {table_name2}.mov_id = {table_name4}.mov_id                     \n",
        "                     LEFT JOIN {table_name3} AS {table_name3}             \n",
        "                     ON {table_name3}.mov_id = {table_name4}.mov_id\n",
        "                     WHERE {table_name3}.role LIKE \"J%\"                      \n",
        "                     ''')\n",
        "pd.DataFrame(rs.fetchall(), columns = ['mov_title', 'dir_fname', 'dir_lname'])"
      ],
      "execution_count": 0,
      "outputs": []
    },
    {
      "cell_type": "markdown",
      "metadata": {
        "colab_type": "text",
        "id": "Fjk8IzVOqtcv"
      },
      "source": [
        "> * **Pandas** "
      ]
    },
    {
      "cell_type": "code",
      "metadata": {
        "colab_type": "code",
        "id": "Ax3E1Iwcqtcb",
        "colab": {}
      },
      "source": [
        "table1, table2 = db[table_name1], db[table_name2]\n",
        "table3, table4 = db[table_name3], db[table_name4]\n",
        "\n",
        "# sub query 1\n",
        "JOIN = pd.merge\n",
        "LEFT_OUTER = 'left'    \n",
        "ON = 'dir_id'\n",
        "FROM_CLAUSE_WITH_JOIN1 = JOIN(table1, table2, LEFT_OUTER, ON)\n",
        "SELECT_CLAUSE1 = ['dir_id', 'mov_id', 'dir_fname', 'dir_lname']\n",
        "res1 = FROM_CLAUSE_WITH_JOIN1[SELECT_CLAUSE1]\n",
        "\n",
        "# sub query 2\n",
        "RIGHT_OUTER = 'left'    \n",
        "ON = 'mov_id'\n",
        "WHERE_CLAUSE = (table3['role'].str.startswith(\"J\"))\n",
        "FROM_CLAUSE_WITH_JOIN2 = JOIN(table3[WHERE_CLAUSE], table4, RIGHT_OUTER, ON)\n",
        "SELECT_CLAUSE2 = ['mov_id', 'mov_title']\n",
        "res2 = FROM_CLAUSE_WITH_JOIN2[SELECT_CLAUSE2]\n",
        "\n",
        "# final query\n",
        "INNER = 'inner'    \n",
        "ON = 'mov_id'\n",
        "FROM_CLAUSE_WITH_JOIN = JOIN(res1, res2, INNER, ON)\n",
        "SELECT_CLAUSE = ['mov_title', 'dir_fname', 'dir_lname']\n",
        "rs = FROM_CLAUSE_WITH_JOIN[SELECT_CLAUSE]\n",
        "rs"
      ],
      "execution_count": 0,
      "outputs": []
    },
    {
      "cell_type": "code",
      "metadata": {
        "id": "d-EvSYrMxevk",
        "colab_type": "code",
        "colab": {}
      },
      "source": [
        "table1.merge(right=table2, how='left', on='dir_id') \\\n",
        "      .merge(table3[table3['role'].str.startswith(\"J\")], 'inner', 'mov_id') \\\n",
        "      .merge(table4, 'left', 'mov_id')[SELECT_CLAUSE]"
      ],
      "execution_count": 0,
      "outputs": []
    },
    {
      "cell_type": "markdown",
      "metadata": {
        "colab_type": "text",
        "id": "AwJtYEWe_1rI"
      },
      "source": [
        "### Query 33: Write a query to find the name of movie and director (first and last names) who directed a movie that casted a role as 'Sean Maguire'.\n"
      ]
    },
    {
      "cell_type": "code",
      "metadata": {
        "colab_type": "code",
        "id": "x1hMSUX6_1rL",
        "colab": {}
      },
      "source": [
        "table_name1 = 'director'\n",
        "table_name2 = 'movie_direction'\n",
        "table_name3 = 'movie_cast'\n",
        "table_name4 = 'movie'"
      ],
      "execution_count": 0,
      "outputs": []
    },
    {
      "cell_type": "markdown",
      "metadata": {
        "id": "rQG9SKHoGffr",
        "colab_type": "text"
      },
      "source": [
        "> * **SQL**"
      ]
    },
    {
      "cell_type": "code",
      "metadata": {
        "colab_type": "code",
        "id": "jre7CmXp_1rP",
        "colab": {}
      },
      "source": [
        "rs = con.execute(f'''SELECT cast_movie.mov_title, dir_movie.dir_fname, dir_movie.dir_lname\n",
        "                     FROM (SELECT {table_name1}.dir_id, {table_name2}.mov_id, {table_name1}.dir_fname, {table_name1}.dir_lname\n",
        "                           FROM {table_name1}  AS {table_name1}\n",
        "                           LEFT JOIN {table_name2} AS {table_name2}\n",
        "                           ON {table_name1}.dir_id = {table_name2}.dir_id) AS dir_movie\n",
        "                     INNER JOIN\n",
        "                          (SELECT {table_name4}.mov_id, {table_name4}.mov_title\n",
        "                           FROM {table_name4}  AS {table_name4}\n",
        "                           LEFT JOIN {table_name3} AS {table_name3}\n",
        "                           ON {table_name3}.mov_id = {table_name4}.mov_id\n",
        "                           WHERE {table_name3}.role = \"SeanMaguire\") AS cast_movie \n",
        "                     ON dir_movie.mov_id = cast_movie.mov_id                     \n",
        "                     ''')\n",
        "pd.DataFrame(rs.fetchall(), columns = ['mov_title', 'dir_fname', 'dir_lname'])"
      ],
      "execution_count": 0,
      "outputs": []
    },
    {
      "cell_type": "code",
      "metadata": {
        "id": "XijYMIh6DJ4-",
        "colab_type": "code",
        "colab": {}
      },
      "source": [
        "rs = con.execute(f'''SELECT {table_name4}.mov_title,  {table_name1}.dir_fname,  {table_name1}.dir_lname\n",
        "                     FROM {table_name1} AS {table_name1}                           \n",
        "                     LEFT JOIN {table_name2} AS {table_name2}\n",
        "                     ON {table_name1}.dir_id = {table_name2}.dir_id\n",
        "                     INNER JOIN {table_name4} AS {table_name4}         \n",
        "                     ON  {table_name2}.mov_id = {table_name4}.mov_id                     \n",
        "                     LEFT JOIN {table_name3} AS {table_name3}\n",
        "                     ON {table_name3}.mov_id = {table_name4}.mov_id\n",
        "                     WHERE {table_name3}.role = \"SeanMaguire\"                    \n",
        "                  ''')\n",
        "pd.DataFrame(rs.fetchall(), columns = ['mov_title', 'dir_fname', 'dir_lname'])"
      ],
      "execution_count": 0,
      "outputs": []
    },
    {
      "cell_type": "markdown",
      "metadata": {
        "colab_type": "text",
        "id": "fKVlYpH8_1rR"
      },
      "source": [
        "> * **Pandas** "
      ]
    },
    {
      "cell_type": "code",
      "metadata": {
        "colab_type": "code",
        "id": "fH4g-0vF_1rT",
        "colab": {}
      },
      "source": [
        "table1, table2 = db[table_name1], db[table_name2]\n",
        "table3, table4 = db[table_name3], db[table_name4]\n",
        "\n",
        "# sub query 1\n",
        "JOIN = pd.merge\n",
        "LEFT_OUTER = 'left'    \n",
        "ON = 'dir_id'\n",
        "FROM_CLAUSE_WITH_JOIN1 = JOIN(table1, table2, LEFT_OUTER, ON)\n",
        "SELECT_CLAUSE1 = ['dir_id', 'mov_id', 'dir_fname', 'dir_lname']\n",
        "res1 = FROM_CLAUSE_WITH_JOIN1[SELECT_CLAUSE1]\n",
        "\n",
        "# sub query 2\n",
        "RIGHT_OUTER = 'left'    \n",
        "ON = 'mov_id'\n",
        "WHERE_CLAUSE = (table3['role'] == \"SeanMaguire\")\n",
        "FROM_CLAUSE_WITH_JOIN2 = JOIN(table3[WHERE_CLAUSE], table4, RIGHT_OUTER, ON)\n",
        "SELECT_CLAUSE2 = ['mov_id', 'mov_title']\n",
        "res2 = FROM_CLAUSE_WITH_JOIN2[SELECT_CLAUSE2]\n",
        "\n",
        "# final query\n",
        "INNER = 'inner'    \n",
        "ON = 'mov_id'\n",
        "FROM_CLAUSE_WITH_JOIN = JOIN(res1, res2, INNER, ON)\n",
        "SELECT_CLAUSE = ['mov_title', 'dir_fname', 'dir_lname']\n",
        "rs = FROM_CLAUSE_WITH_JOIN[SELECT_CLAUSE]\n",
        "rs"
      ],
      "execution_count": 0,
      "outputs": []
    },
    {
      "cell_type": "code",
      "metadata": {
        "id": "uysk4d_xnxzK",
        "colab_type": "code",
        "colab": {}
      },
      "source": [
        "table1.merge(right=table2, how='left', on='dir_id') \\\n",
        "      .merge(table3[table3['role'] == \"SeanMaguire\"], 'inner', 'mov_id') \\\n",
        "      .merge(table4, 'left', 'mov_id')[SELECT_CLAUSE]"
      ],
      "execution_count": 0,
      "outputs": []
    },
    {
      "cell_type": "markdown",
      "metadata": {
        "id": "BxNuZ299Gkfk",
        "colab_type": "text"
      },
      "source": [
        "### Query 34: Write a query to list first and last name of all the directors with number of genres movies the directed with genres name, and arranged the result alphabetically with the first and last name of the director."
      ]
    },
    {
      "cell_type": "code",
      "metadata": {
        "id": "xVbEtTpRn5u5",
        "colab_type": "code",
        "colab": {}
      },
      "source": [
        "table_name1, table_name2  = 'director', 'movie_direction'\n",
        "table_name3, table_name4 = 'movie_genres', 'genres'"
      ],
      "execution_count": 0,
      "outputs": []
    },
    {
      "cell_type": "markdown",
      "metadata": {
        "colab_type": "text",
        "id": "cckq-dl_HD04"
      },
      "source": [
        "> * **SQL**"
      ]
    },
    {
      "cell_type": "code",
      "metadata": {
        "id": "-GgaGUp6HBvg",
        "colab_type": "code",
        "colab": {}
      },
      "source": [
        "rs = con.execute(f'''SELECT {table_name1}.dir_fname,  {table_name1}.dir_lname, {table_name4}.gen_title, COUNT({table_name4}.gen_title)\n",
        "                     FROM {table_name1} AS {table_name1}                           \n",
        "                     INNER JOIN {table_name2} AS {table_name2}\n",
        "                     ON {table_name1}.dir_id = {table_name2}.dir_id\n",
        "                     INNER JOIN {table_name3} AS {table_name3}         \n",
        "                     ON  {table_name2}.mov_id = {table_name3}.mov_id                     \n",
        "                     INNER JOIN {table_name4} AS {table_name4}\n",
        "                     ON {table_name3}.gen_id = {table_name4}.gen_id\n",
        "                     GROUP BY {table_name1}.dir_fname, {table_name1}.dir_lname, {table_name4}.gen_title\n",
        "                     ORDER BY {table_name1}.dir_fname, {table_name1}.dir_lname\n",
        "                  ''')\n",
        "pd.DataFrame(rs.fetchall(), columns = ['dir_fname', 'dir_lname', 'gen_title', 'count_gen_title']).T"
      ],
      "execution_count": 0,
      "outputs": []
    },
    {
      "cell_type": "markdown",
      "metadata": {
        "colab_type": "text",
        "id": "754GzeRVQXGw"
      },
      "source": [
        "> * **Pandas**"
      ]
    },
    {
      "cell_type": "code",
      "metadata": {
        "id": "kbCk-xaNM9PL",
        "colab_type": "code",
        "colab": {}
      },
      "source": [
        "table1, table2 = db[table_name1], db[table_name2]\n",
        "table3, table4 = db[table_name3], db[table_name4]\n",
        "\n",
        "ORDER_BY_COLUMNS = ['dir_fname', 'dir_lname']\n",
        "GROUP_BY_COLUMNS = ['dir_fname', 'dir_lname', 'gen_title']\n",
        "AGG_OP = {'gen_title': 'count'}\n",
        "rs = table1.merge(right=table2, how='left', on='dir_id') \\\n",
        "      .merge(table3, 'left', 'mov_id') \\\n",
        "      .merge(table4, 'left', 'gen_id') \\\n",
        "      .groupby(GROUP_BY_COLUMNS, sort=ORDER_BY_COLUMNS).agg(AGG_OP) \n",
        "rs.T"
      ],
      "execution_count": 0,
      "outputs": []
    },
    {
      "cell_type": "markdown",
      "metadata": {
        "id": "BGf3iiaublgF",
        "colab_type": "text"
      },
      "source": [
        "### Query 35: Write a query in to list all the movies with year and genres."
      ]
    },
    {
      "cell_type": "code",
      "metadata": {
        "id": "iRp4yPk7Ywwa",
        "colab_type": "code",
        "colab": {}
      },
      "source": [
        "table_name1, table_name2, table_name3  = 'movie',  'movie_genres',  'genres'"
      ],
      "execution_count": 0,
      "outputs": []
    },
    {
      "cell_type": "markdown",
      "metadata": {
        "colab_type": "text",
        "id": "xxtNkOInb6CC"
      },
      "source": [
        "> * **SQL**"
      ]
    },
    {
      "cell_type": "code",
      "metadata": {
        "id": "Q-QHSDwkb4I6",
        "colab_type": "code",
        "colab": {}
      },
      "source": [
        "rs = con.execute(f''' SELECT {table_name1}.mov_title, {table_name1}.mov_year, {table_name3}.gen_title\n",
        "                      FROM {table_name1}  AS {table_name1} \n",
        "                      LEFT JOIN {table_name2} AS {table_name2}                       \n",
        "                      ON {table_name1}.mov_id = {table_name2}.mov_id\n",
        "                      LEFT JOIN  {table_name3}  AS {table_name3}                       \n",
        "                      ON {table_name2}.gen_id = {table_name3}.gen_id                      \n",
        "                 ''')\n",
        "pd.DataFrame(rs.fetchall(), columns = ['mov_title', 'mov_year', 'gen_title']).T"
      ],
      "execution_count": 0,
      "outputs": []
    },
    {
      "cell_type": "markdown",
      "metadata": {
        "colab_type": "text",
        "id": "5--3na3lc47H"
      },
      "source": [
        "> * **Pandas**"
      ]
    },
    {
      "cell_type": "code",
      "metadata": {
        "id": "Jj6uauO4coAr",
        "colab_type": "code",
        "colab": {}
      },
      "source": [
        "table1, table2 = db[table_name1], db[table_name2]\n",
        "table3 = db[table_name3]\n",
        "\n",
        "SELECT_CLAUSE = ['mov_title', 'mov_year', 'gen_title']\n",
        "rs = table1.merge(right=table2, how='left', on='mov_id') \\\n",
        "      .merge(table3, 'left', 'gen_id')[SELECT_CLAUSE]\n",
        "rs.T"
      ],
      "execution_count": 0,
      "outputs": []
    },
    {
      "cell_type": "markdown",
      "metadata": {
        "colab_type": "text",
        "id": "HUxRtwrxdyEo"
      },
      "source": [
        "### Query 36: Write a query to list all the movies with year, genres, and name of the director."
      ]
    },
    {
      "cell_type": "code",
      "metadata": {
        "colab_type": "code",
        "id": "EmJjZDxYdyEs",
        "colab": {}
      },
      "source": [
        "table_name1, table_name2, table_name3, table_name4, table_name5  = 'movie',  'movie_genres',  'genres', 'movie_direction', 'director'"
      ],
      "execution_count": 0,
      "outputs": []
    },
    {
      "cell_type": "markdown",
      "metadata": {
        "colab_type": "text",
        "id": "QYwAz01QdyEv"
      },
      "source": [
        "> * **SQL**"
      ]
    },
    {
      "cell_type": "code",
      "metadata": {
        "colab_type": "code",
        "id": "hYcNrwtadyEw",
        "colab": {}
      },
      "source": [
        "rs = con.execute(f''' SELECT {table_name1}.mov_title, {table_name1}.mov_year, {table_name3}.gen_title,\n",
        "                             {table_name5}.dir_fname, {table_name5}.dir_lname\n",
        "                      FROM {table_name1}  AS {table_name1} \n",
        "                      LEFT JOIN {table_name2} AS {table_name2}                       \n",
        "                      ON {table_name1}.mov_id = {table_name2}.mov_id\n",
        "                      LEFT JOIN  {table_name3}  AS {table_name3}                       \n",
        "                      ON {table_name2}.gen_id = {table_name3}.gen_id                      \n",
        "                      LEFT JOIN  {table_name4}  AS {table_name4}                       \n",
        "                      ON {table_name1}.mov_id = {table_name4}.mov_id                      \n",
        "                      LEFT JOIN  {table_name5}  AS {table_name5}                       \n",
        "                      ON {table_name4}.dir_id = {table_name5}.dir_id                      \n",
        "                 ''')\n",
        "pd.DataFrame(rs.fetchall(), columns = ['mov_title', 'mov_year', 'gen_title', 'dir_fname', 'dir_lname']).T"
      ],
      "execution_count": 0,
      "outputs": []
    },
    {
      "cell_type": "markdown",
      "metadata": {
        "colab_type": "text",
        "id": "jQXtaSMAdyEz"
      },
      "source": [
        "> * **Pandas**"
      ]
    },
    {
      "cell_type": "code",
      "metadata": {
        "colab_type": "code",
        "id": "GN2xVkevdyEz",
        "colab": {}
      },
      "source": [
        "table1, table2, table3 = db[table_name1], db[table_name2], db[table_name3]\n",
        "table4, table5 = db[table_name4], db[table_name5]\n",
        "\n",
        "SELECT_CLAUSE = ['mov_title', 'mov_year', 'gen_title', 'dir_fname', 'dir_lname']\n",
        "rs = table1.merge(right=table2, how='left', on='mov_id') \\\n",
        "      .merge(table3, 'left', 'gen_id') \\\n",
        "      .merge(table4, 'left', 'mov_id') \\\n",
        "      .merge(table5, 'left', 'dir_id') \\\n",
        "      [SELECT_CLAUSE]\n",
        "rs.T"
      ],
      "execution_count": 0,
      "outputs": []
    },
    {
      "cell_type": "markdown",
      "metadata": {
        "colab_type": "text",
        "id": "nHB-kYesiPhf"
      },
      "source": [
        "### Query 37: Write a query to list all the movies with title, year, date of release, movie duration, and first and last name of the director which released before 1st january 1989, and sort the result set according to release date from highest date to lowest. "
      ]
    },
    {
      "cell_type": "code",
      "metadata": {
        "colab_type": "code",
        "id": "08hHEfogiPhj",
        "colab": {}
      },
      "source": [
        "table_name1, table_name2, table_name3  = 'movie', 'movie_direction', 'director'"
      ],
      "execution_count": 0,
      "outputs": []
    },
    {
      "cell_type": "markdown",
      "metadata": {
        "colab_type": "text",
        "id": "Y8cbkHd5iPhm"
      },
      "source": [
        "> * **SQL**"
      ]
    },
    {
      "cell_type": "code",
      "metadata": {
        "colab_type": "code",
        "id": "BR6-4LYbiPhm",
        "colab": {}
      },
      "source": [
        "rs = con.execute(f''' SELECT {table_name1}.mov_title, {table_name1}.mov_year, {table_name1}.mov_dt_rel,\n",
        "                             {table_name5}.dir_fname, {table_name5}.dir_lname\n",
        "                      FROM {table_name1}  AS {table_name1} \n",
        "                      LEFT JOIN {table_name2} AS {table_name2}                       \n",
        "                      ON {table_name1}.mov_id = {table_name2}.mov_id\n",
        "                      LEFT JOIN  {table_name3}  AS {table_name3}                       \n",
        "                      ON {table_name2}.dir_id = {table_name3}.dir_id\n",
        "                      WHERE {table_name1}.mov_dt_rel < \"1989-01-01\"\n",
        "                      ORDER BY {table_name1}.mov_dt_rel DESC\n",
        "                 ''')\n",
        "pd.DataFrame(rs.fetchall(), columns = ['mov_title', 'mov_year', 'mov_dt_rel', 'dir_fname', 'dir_lname']).T"
      ],
      "execution_count": 0,
      "outputs": []
    },
    {
      "cell_type": "markdown",
      "metadata": {
        "colab_type": "text",
        "id": "0_l7S2xuiPhp"
      },
      "source": [
        "> * **Pandas**"
      ]
    },
    {
      "cell_type": "code",
      "metadata": {
        "colab_type": "code",
        "id": "2CILjKRWiPhr",
        "colab": {}
      },
      "source": [
        "table1, table2, table3 = db[table_name1], db[table_name2], db[table_name3]\n",
        "\n",
        "SELECT_CLAUSE = ['mov_title', 'mov_year', 'mov_dt_rel', 'dir_fname', 'dir_lname']\n",
        "WHERE_CLAUSE = (table1['mov_dt_rel'] < '1989-01-01')\n",
        "rs = table1[WHERE_CLAUSE].merge(right=table2, how='left', on='mov_id') \\\n",
        "      .merge(table3, 'left', 'dir_id') \\\n",
        "      [SELECT_CLAUSE].sort_values(['mov_dt_rel'], ascending=False)\n",
        "rs.T"
      ],
      "execution_count": 0,
      "outputs": []
    },
    {
      "cell_type": "code",
      "metadata": {
        "id": "x9Plmm91lBg8",
        "colab_type": "code",
        "colab": {}
      },
      "source": [
        ""
      ],
      "execution_count": 0,
      "outputs": []
    },
    {
      "cell_type": "markdown",
      "metadata": {
        "colab_type": "text",
        "id": "kxE-JrCRllUa"
      },
      "source": [
        "### Query 38: Write a query in SQL to compute a report which contain the genres of those movies with their average time and number of movies for each genres."
      ]
    },
    {
      "cell_type": "code",
      "metadata": {
        "colab_type": "code",
        "id": "KDwvyN_OllUd",
        "colab": {}
      },
      "source": [
        "table_name1, table_name2, table_name3  = 'movie', 'movie_genres', 'genres'"
      ],
      "execution_count": 0,
      "outputs": []
    },
    {
      "cell_type": "markdown",
      "metadata": {
        "colab_type": "text",
        "id": "7N5-_jYRllUi"
      },
      "source": [
        "> * **SQL**"
      ]
    },
    {
      "cell_type": "code",
      "metadata": {
        "colab_type": "code",
        "id": "r59WiyKDllUj",
        "colab": {}
      },
      "source": [
        "rs = con.execute(f''' SELECT {table_name3}.gen_title, COUNT({table_name1}.mov_id), AVG({table_name1}.mov_time)                            \n",
        "                      FROM {table_name1}  AS {table_name1} \n",
        "                      LEFT JOIN {table_name2} AS {table_name2}                       \n",
        "                      ON {table_name1}.mov_id = {table_name2}.mov_id\n",
        "                      LEFT JOIN  {table_name3}  AS {table_name3}                       \n",
        "                      ON {table_name2}.gen_id = {table_name3}.gen_id\n",
        "                      GROUP BY {table_name3}.gen_title                      \n",
        "                 ''')\n",
        "pd.DataFrame(rs.fetchall(), columns = ['gen_title', 'movie_count', 'avg_movie_time']).T"
      ],
      "execution_count": 0,
      "outputs": []
    },
    {
      "cell_type": "markdown",
      "metadata": {
        "id": "vNG5TTsgnvif",
        "colab_type": "text"
      },
      "source": [
        "> * There are 9 movies for which we don't know the genres."
      ]
    },
    {
      "cell_type": "markdown",
      "metadata": {
        "colab_type": "text",
        "id": "IuetHjzzllUm"
      },
      "source": [
        "> * **Pandas**"
      ]
    },
    {
      "cell_type": "code",
      "metadata": {
        "colab_type": "code",
        "id": "YoARFhoPllUn",
        "colab": {}
      },
      "source": [
        "table1, table2, table3 = db[table_name1], db[table_name2], db[table_name3]\n",
        "\n",
        "SELECT_CLAUSE = ['gen_title', 'movie_count', 'avg_movie_time']\n",
        "GROUPBY_COLUMNS = ['gen_title']\n",
        "AGG_OP = {'mov_id':'count', 'mov_time': 'mean'}\n",
        "rs = table1.merge(right=table2, how='left', on='mov_id') \\\n",
        "      .merge(table3, 'left', 'gen_id') \\\n",
        "      .groupby(GROUPBY_COLUMNS) \\\n",
        "      .agg(AGG_OP)\n",
        "rs"
      ],
      "execution_count": 0,
      "outputs": []
    },
    {
      "cell_type": "markdown",
      "metadata": {
        "colab_type": "text",
        "id": "4byAnNzS_LjR"
      },
      "source": [
        "### Query 39:  Write a query to find the movie with lowest duration along with the year, director's name, actor's name and his/her role in that production."
      ]
    },
    {
      "cell_type": "code",
      "metadata": {
        "colab_type": "code",
        "id": "mgcE43Pd_Lju",
        "colab": {}
      },
      "source": [
        "table_name1, table_name2, table_name3, table_name4, table_name5  = 'movie',  'movie_direction', 'director', 'movie_cast', 'actor'"
      ],
      "execution_count": 0,
      "outputs": []
    },
    {
      "cell_type": "markdown",
      "metadata": {
        "colab_type": "text",
        "id": "plsZ1zXn_Lj2"
      },
      "source": [
        "> * **SQL**"
      ]
    },
    {
      "cell_type": "code",
      "metadata": {
        "colab_type": "code",
        "id": "Tsg-fqcw_Lj4",
        "colab": {}
      },
      "source": [
        "rs = con.execute(f''' SELECT {table_name1}.mov_title, {table_name1}.mov_time, {table_name1}.mov_year,\n",
        "                             {table_name3}.dir_fname, {table_name3}.dir_lname, {table_name5}.act_fname,\n",
        "                             {table_name5}.act_lname, {table_name4}.role\n",
        "                      FROM {table_name1} AS {table_name1} \n",
        "                      LEFT JOIN {table_name2} AS {table_name2}                       \n",
        "                      ON {table_name1}.mov_id = {table_name2}.mov_id\n",
        "                      LEFT JOIN  {table_name3} AS {table_name3}                       \n",
        "                      ON {table_name2}.dir_id = {table_name3}.dir_id\n",
        "                      LEFT JOIN  {table_name4} AS {table_name4}                       \n",
        "                      ON {table_name2}.mov_id = {table_name4}.mov_id\n",
        "                      LEFT JOIN  {table_name5} AS {table_name5}\n",
        "                      ON {table_name4}.act_id = {table_name5}.act_id\n",
        "                      ORDER BY {table_name1}.mov_time ASC LIMIT 1\n",
        "                 ''')\n",
        "pd.DataFrame(rs.fetchall(), columns = ['mov_title', 'lowest_duration', 'mov_year',\n",
        "                                       'dir_fname', 'dir_lname', 'act_fname',\n",
        "                                       'act_lname', 'role'])"
      ],
      "execution_count": 0,
      "outputs": []
    },
    {
      "cell_type": "markdown",
      "metadata": {
        "colab_type": "text",
        "id": "0e0WDK2F_LkB"
      },
      "source": [
        "> * **Pandas**"
      ]
    },
    {
      "cell_type": "code",
      "metadata": {
        "colab_type": "code",
        "id": "3Tlna17Q_LkD",
        "colab": {}
      },
      "source": [
        "table1, table2, table3 = db[table_name1], db[table_name2], db[table_name3]\n",
        "table4, table5 = db[table_name4], db[table_name5]\n",
        "\n",
        "SELECT_CLAUSE = ['mov_title', 'mov_year',\n",
        "                 'dir_fname', 'dir_lname', 'act_fname',     \n",
        "                 'act_lname', 'role']\n",
        "\n",
        "rs = table1.merge(right=table2, how='left', on='mov_id') \\\n",
        "      .merge(table3, 'left', 'dir_id') \\\n",
        "      .merge(table4, 'left', 'mov_id') \\\n",
        "      .merge(table5, 'left', 'act_id') \\\n",
        "      .sort_values(['mov_time'], ascending=True)[SELECT_CLAUSE].head(1)\n",
        "rs"
      ],
      "execution_count": 0,
      "outputs": []
    },
    {
      "cell_type": "markdown",
      "metadata": {
        "colab_type": "text",
        "id": "EEvMDR53PlGo"
      },
      "source": [
        "### Query 40: Write a query to find all the years which produced a movie that received a rating of 3 or 4, and sort the result in increasing order."
      ]
    },
    {
      "cell_type": "code",
      "metadata": {
        "colab_type": "code",
        "id": "_h3WHsSRPlGt",
        "colab": {}
      },
      "source": [
        "table_name1, table_name2 = 'movie',  'rating'"
      ],
      "execution_count": 0,
      "outputs": []
    },
    {
      "cell_type": "markdown",
      "metadata": {
        "colab_type": "text",
        "id": "TdoSdIeVPlG0"
      },
      "source": [
        "> * **SQL**"
      ]
    },
    {
      "cell_type": "code",
      "metadata": {
        "colab_type": "code",
        "id": "CBaNj_lSPlG1",
        "colab": {}
      },
      "source": [
        "rs = con.execute(f''' SELECT {table_name1}.mov_year, {table_name2}.rev_stars\n",
        "                      FROM {table_name1} AS {table_name1} \n",
        "                      INNER JOIN {table_name2} AS {table_name2}                       \n",
        "                      ON {table_name1}.mov_id = {table_name2}.mov_id\n",
        "                      WHERE {table_name2}.rev_stars = 3.00 OR {table_name2}.rev_stars = 4.00\n",
        "                      ORDER BY {table_name2}.rev_stars ASC\n",
        "                 ''')\n",
        "pd.DataFrame(rs.fetchall(), columns = ['mov_year', 'rev_stars'])"
      ],
      "execution_count": 0,
      "outputs": []
    },
    {
      "cell_type": "markdown",
      "metadata": {
        "colab_type": "text",
        "id": "Wn23F8zSPlG8"
      },
      "source": [
        "> * **Pandas**"
      ]
    },
    {
      "cell_type": "code",
      "metadata": {
        "colab_type": "code",
        "id": "CJUVJBPQPlG-",
        "colab": {}
      },
      "source": [
        "table1, table2, table3 = db[table_name1], db[table_name2], db[table_name3]\n",
        "table4, table5 = db[table_name4], db[table_name5]\n",
        "\n",
        "SELECT_CLAUSE = ['mov_title', 'mov_year',\n",
        "                 'dir_fname', 'dir_lname', 'act_fname',     \n",
        "                 'act_lname', 'role']\n",
        "\n",
        "rs = table1.merge(right=table2, how='inner', on='mov_id') \\\n",
        "      .merge(table3, 'inner', 'dir_id') \\\n",
        "      .merge(table4, 'inner', 'mov_id') \\\n",
        "      .merge(table5, 'inner', 'act_id') \\\n",
        "      .sort_values(['mov_time'], ascending=True)[SELECT_CLAUSE].head(1)\n",
        "rs"
      ],
      "execution_count": 0,
      "outputs": []
    },
    {
      "cell_type": "markdown",
      "metadata": {
        "colab_type": "text",
        "id": "MlvUQLgPKSmx"
      },
      "source": [
        "### Query 41: Write a query in to return the reviewer name, movie title, and stars in an order that reviewer name will come first, then by movie title, and lastly by number of stars."
      ]
    },
    {
      "cell_type": "code",
      "metadata": {
        "colab_type": "code",
        "id": "57h5dHxeKSm5",
        "colab": {}
      },
      "source": [
        "table_name1, table_name2, table_name3 = 'movie',  'rating', 'reviewer'"
      ],
      "execution_count": 0,
      "outputs": []
    },
    {
      "cell_type": "markdown",
      "metadata": {
        "colab_type": "text",
        "id": "UiCvz5qNKSm9"
      },
      "source": [
        "> * **SQL**"
      ]
    },
    {
      "cell_type": "code",
      "metadata": {
        "colab_type": "code",
        "id": "taVAuoj_KSm-",
        "colab": {}
      },
      "source": [
        "rs = con.execute(f''' SELECT {table_name3}.rev_name, {table_name1}.mov_title, {table_name2}.rev_stars\n",
        "                      FROM {table_name1} AS {table_name1} \n",
        "                      INNER JOIN {table_name2} AS {table_name2}                       \n",
        "                      ON {table_name1}.mov_id = {table_name2}.mov_id                      \n",
        "                      INNER JOIN {table_name3} AS {table_name3}                       \n",
        "                      ON {table_name2}.rev_id = {table_name3}.rev_id\n",
        "                 ''')\n",
        "pd.DataFrame(rs.fetchall(), columns = ['rev_name', 'mov_title', 'rev_stars']).T"
      ],
      "execution_count": 0,
      "outputs": []
    },
    {
      "cell_type": "markdown",
      "metadata": {
        "colab_type": "text",
        "id": "nX9akjyAKSnC"
      },
      "source": [
        "> * **Pandas**"
      ]
    },
    {
      "cell_type": "code",
      "metadata": {
        "colab_type": "code",
        "id": "7iSZbFLyKSnD",
        "colab": {}
      },
      "source": [
        "table1, table2, table3 = db[table_name1], db[table_name2], db[table_name3]\n",
        "\n",
        "SELECT_CLAUSE =  ['rev_name', 'mov_title', 'rev_stars']\n",
        "\n",
        "rs = table1.merge(right=table2, how='inner', on='mov_id') \\\n",
        "      .merge(table3, 'inner', 'rev_id')[SELECT_CLAUSE]\n",
        "rs.T"
      ],
      "execution_count": 0,
      "outputs": []
    },
    {
      "cell_type": "markdown",
      "metadata": {
        "colab_type": "text",
        "id": "xGTlo9HEMPuL"
      },
      "source": [
        "### Query 42: Write a query to find movie title and number of stars for each movie that has at least one rating and find the highest number of stars that movie received and sort the result by movie title. "
      ]
    },
    {
      "cell_type": "code",
      "metadata": {
        "colab_type": "code",
        "id": "qpuFbm9KMPuP",
        "colab": {}
      },
      "source": [
        "table_name1, table_name2  = 'movie',  'rating'"
      ],
      "execution_count": 0,
      "outputs": []
    },
    {
      "cell_type": "markdown",
      "metadata": {
        "colab_type": "text",
        "id": "yJSQ24onMPuR"
      },
      "source": [
        "> * **SQL**"
      ]
    },
    {
      "cell_type": "code",
      "metadata": {
        "colab_type": "code",
        "id": "StWebcoAMPuS",
        "colab": {}
      },
      "source": [
        "rs = con.execute(f''' SELECT {table_name1}.mov_title, {table_name2}.rev_stars \n",
        "                      FROM {table_name1} AS {table_name1} \n",
        "                      INNER JOIN {table_name2} AS {table_name2}                       \n",
        "                      ON {table_name1}.mov_id = {table_name2}.mov_id             \n",
        "                      WHERE {table_name2}.num_of_ratings > 0 AND \n",
        "                            {table_name2}.rev_stars = (SELECT MAX(rev_stars) \n",
        "                                                       FROM  {table_name2})\n",
        "                      ORDER BY {table_name1}.mov_title\n",
        "                 ''')\n",
        "pd.DataFrame(rs.fetchall(), columns = ['mov_title', 'rev_stars'])"
      ],
      "execution_count": 0,
      "outputs": []
    },
    {
      "cell_type": "markdown",
      "metadata": {
        "colab_type": "text",
        "id": "azgDUqGVMPuU"
      },
      "source": [
        "> * **Pandas**"
      ]
    },
    {
      "cell_type": "code",
      "metadata": {
        "colab_type": "code",
        "id": "0Mg_WBtuMPuV",
        "colab": {}
      },
      "source": [
        "table1, table2 = db[table_name1], db[table_name2]\n",
        "\n",
        "WHERE_CONDITION1 = (table2['num_of_ratings'] > 0)\n",
        "WHERE_CONDITION2 = (table2['rev_stars'] == table2['rev_stars'].max())                      \n",
        "WHERE_CLAUSE =  WHERE_CONDITION1 & WHERE_CONDITION2\n",
        "SELECT_CLAUSE =  ['mov_title', 'rev_stars']\n",
        "\n",
        "rs = table1.merge(right=table2[WHERE_CLAUSE], how='inner',\n",
        "                  on='mov_id')[SELECT_CLAUSE]\n",
        "rs"
      ],
      "execution_count": 0,
      "outputs": []
    },
    {
      "cell_type": "markdown",
      "metadata": {
        "colab_type": "text",
        "id": "gv5vsK4ZQGcN"
      },
      "source": [
        "### Query 43: Write a query to find the director's first and last name together with the title of the movie(s) they directed and received the rating."
      ]
    },
    {
      "cell_type": "code",
      "metadata": {
        "colab_type": "code",
        "id": "6xdspEJ4QGcQ",
        "colab": {}
      },
      "source": [
        "table_name1, table_name2, table_name3, table_name4 = 'movie',  'rating', 'movie_direction', 'director'"
      ],
      "execution_count": 0,
      "outputs": []
    },
    {
      "cell_type": "markdown",
      "metadata": {
        "colab_type": "text",
        "id": "n7rE4JpaQGcS"
      },
      "source": [
        "> * **SQL**"
      ]
    },
    {
      "cell_type": "code",
      "metadata": {
        "colab_type": "code",
        "id": "fS0Q60skQGcT",
        "colab": {}
      },
      "source": [
        "rs = con.execute(f''' SELECT {table_name4}.dir_fname, {table_name4}.dir_lname,\n",
        "                             {table_name1}.mov_title, {table_name2}.num_of_ratings\n",
        "                      FROM {table_name1} AS {table_name1} \n",
        "                      INNER JOIN {table_name3} AS {table_name3}                       \n",
        "                      ON {table_name1}.mov_id = {table_name2}.mov_id      \n",
        "                      INNER JOIN {table_name4} AS {table_name4}                       \n",
        "                      ON {table_name3}.dir_id = {table_name4}.dir_id\n",
        "                      INNER JOIN {table_name2} AS {table_name2}                       \n",
        "                      ON {table_name3}.mov_id = {table_name2}.mov_id                                                \n",
        "                 ''')\n",
        "pd.DataFrame(rs.fetchall(), columns = ['dir_fname', 'dir_lname', 'mov_title', 'num_of_ratings']).T"
      ],
      "execution_count": 0,
      "outputs": []
    },
    {
      "cell_type": "markdown",
      "metadata": {
        "colab_type": "text",
        "id": "nDa_UyvfQGcV"
      },
      "source": [
        "> * **Pandas**"
      ]
    },
    {
      "cell_type": "code",
      "metadata": {
        "colab_type": "code",
        "id": "sDAxtEkgQGcV",
        "colab": {}
      },
      "source": [
        "table1, table2 = db[table_name1], db[table_name2]\n",
        "table3, table4 = db[table_name3], db[table_name4]\n",
        "\n",
        "SELECT_CLAUSE = ['dir_fname', 'dir_lname', 'mov_title', 'num_of_ratings']\n",
        "\n",
        "rs = table1.merge(right=table3, how='inner', on='mov_id') \\\n",
        "           .merge(right=table4, how='inner', on='dir_id') \\\n",
        "           .merge(right=table2, how='inner', on='mov_id') \\\n",
        "           [SELECT_CLAUSE]\n",
        "rs.T"
      ],
      "execution_count": 0,
      "outputs": []
    },
    {
      "cell_type": "markdown",
      "metadata": {
        "colab_type": "text",
        "id": "VQLtMRnDTb82"
      },
      "source": [
        "### Query 44:  Write a query to find the movie title, actor first and last name, and the role for those movies where one or more actors acted in two or more movies."
      ]
    },
    {
      "cell_type": "code",
      "metadata": {
        "colab_type": "code",
        "id": "7Uzcmh2wTb85",
        "colab": {}
      },
      "source": [
        "table_name1, table_name2, table_name3 = 'movie',  'movie_cast', 'actor'"
      ],
      "execution_count": 0,
      "outputs": []
    },
    {
      "cell_type": "markdown",
      "metadata": {
        "colab_type": "text",
        "id": "yo-Y3utJTb88"
      },
      "source": [
        "> * **SQL**"
      ]
    },
    {
      "cell_type": "code",
      "metadata": {
        "colab_type": "code",
        "id": "wbFsoxWtTb89",
        "colab": {}
      },
      "source": [
        "rs = con.execute(f''' SELECT {table_name1}.mov_title, {table_name3}.act_fname,\n",
        "                             {table_name3}.act_lname, {table_name2}.role\n",
        "                      FROM {table_name1} AS {table_name1} \n",
        "                      INNER JOIN {table_name2} AS {table_name2}                       \n",
        "                      ON {table_name1}.mov_id = {table_name2}.mov_id      \n",
        "                      INNER JOIN {table_name3} AS {table_name3}                       \n",
        "                      ON {table_name2}.act_id = {table_name3}.act_id\n",
        "                      GROUP BY {table_name2}.act_id\n",
        "                      HAVING COUNT({table_name2}.mov_id) >= 2\n",
        "                                                                 \n",
        "                 ''')\n",
        "pd.DataFrame(rs.fetchall(), columns = ['mov_title', 'act_fname', 'act_lname', 'role'])"
      ],
      "execution_count": 0,
      "outputs": []
    },
    {
      "cell_type": "markdown",
      "metadata": {
        "colab_type": "text",
        "id": "0Qw6qfXjTb9B"
      },
      "source": [
        "> * **Pandas**"
      ]
    },
    {
      "cell_type": "code",
      "metadata": {
        "colab_type": "code",
        "id": "8YI38Rw3Tb9C",
        "colab": {}
      },
      "source": [
        "table1, table2 = db[table_name1], db[table_name2]\n",
        "table3 = db[table_name3]\n",
        "\n",
        "SELECT_CLAUSE = ['mov_title', 'act_fname', 'act_lname', 'role']\n",
        "\n",
        "rs = table1.merge(table2, 'inner', 'mov_id') \\\n",
        "           .merge(table3, 'inner','act_id') \\\n",
        "           .groupby(['act_id']).filter(lambda x: x['mov_id'].count() >= 2) \\\n",
        "           [SELECT_CLAUSE]\n",
        "rs"
      ],
      "execution_count": 0,
      "outputs": []
    },
    {
      "cell_type": "markdown",
      "metadata": {
        "colab_type": "text",
        "id": "quk4wI3Ea5I1"
      },
      "source": [
        "### Query 45: Write a query to find the first and last name of a director and the movie he or she directed, and the actress appeared which first name was Claire and last name was Danes along with her role in that movie. "
      ]
    },
    {
      "cell_type": "code",
      "metadata": {
        "colab_type": "code",
        "id": "Z5TDUcnja5I4",
        "colab": {}
      },
      "source": [
        "table_name1, table_name2, table_name3 = 'movie',  'movie_cast', 'actor',\n",
        "table_name4, table_name5 = 'movie_direction', 'director'"
      ],
      "execution_count": 0,
      "outputs": []
    },
    {
      "cell_type": "markdown",
      "metadata": {
        "colab_type": "text",
        "id": "uJh0s1NJa5I6"
      },
      "source": [
        "> * **SQL**"
      ]
    },
    {
      "cell_type": "code",
      "metadata": {
        "colab_type": "code",
        "id": "uySpiMAia5I7",
        "colab": {}
      },
      "source": [
        "rs = con.execute(f''' SELECT {table_name5}.dir_fname, {table_name5}.dir_lname,\n",
        "                             {table_name1}.mov_title, {table_name2}.role\n",
        "                      FROM {table_name1} AS {table_name1} \n",
        "                      INNER JOIN {table_name2} AS {table_name2}                       \n",
        "                      ON {table_name1}.mov_id = {table_name2}.mov_id      \n",
        "                      INNER JOIN {table_name3} AS {table_name3}                       \n",
        "                      ON {table_name2}.act_id = {table_name3}.act_id\n",
        "                      INNER JOIN {table_name4} AS {table_name4}                       \n",
        "                      ON {table_name1}.mov_id = {table_name4}.mov_id\n",
        "                      INNER JOIN {table_name5} AS {table_name5}                       \n",
        "                      ON {table_name4}.dir_id = {table_name5}.dir_id\n",
        "                      WHERE {table_name3}.act_fname = \"Claire\" AND \n",
        "                            {table_name3}.act_lname = \"Danes\"  AND\n",
        "                            {table_name3}.act_gender = \"F\"\n",
        "                 ''')\n",
        "pd.DataFrame(rs.fetchall(), columns = ['dir_fname', 'dir_lname', 'mov_title', 'role'])"
      ],
      "execution_count": 0,
      "outputs": []
    },
    {
      "cell_type": "markdown",
      "metadata": {
        "colab_type": "text",
        "id": "oIMD8FS9a5I9"
      },
      "source": [
        "> * **Pandas**"
      ]
    },
    {
      "cell_type": "code",
      "metadata": {
        "colab_type": "code",
        "id": "nif7ssyRa5I-",
        "colab": {}
      },
      "source": [
        "table1, table2, table3 = db[table_name1], db[table_name2], db[table_name3]\n",
        "table4, table5 = db[table_name4], db[table_name5]\n",
        "\n",
        "SELECT_CLAUSE = ['dir_fname', 'dir_lname', 'mov_title', 'role']\n",
        "\n",
        "WHERE_CONDITION1 = (table3['act_fname'] == \"Claire\")\n",
        "WHERE_CONDITION2 = (table3['act_lname'] == \"Danes\")\n",
        "WHERE_CONDITION3 = (table3['act_gender'] == \"F\")\n",
        "WHERE_CLAUSE = WHERE_CONDITION1 & WHERE_CONDITION2 & WHERE_CONDITION3\n",
        "\n",
        "rs = table1.merge(table2, 'inner', 'mov_id') \\\n",
        "           .merge(table3[WHERE_CLAUSE], 'inner','act_id') \\\n",
        "           .merge(table4, 'inner','mov_id') \\\n",
        "           .merge(table5, 'inner','dir_id') \\\n",
        "           [SELECT_CLAUSE]\n",
        "rs"
      ],
      "execution_count": 0,
      "outputs": []
    },
    {
      "cell_type": "markdown",
      "metadata": {
        "colab_type": "text",
        "id": "SlfZtddad9L2"
      },
      "source": [
        "### Query 46: Write a query in SQL to find the first and last name of an actor with their role in the movie which was also directed by themselve."
      ]
    },
    {
      "cell_type": "code",
      "metadata": {
        "colab_type": "code",
        "id": "2E9vWF2ed9L5",
        "colab": {}
      },
      "source": [
        "table_name1, table_name2, table_name3 = 'movie',  'movie_cast', 'actor',\n",
        "table_name4, table_name5 = 'movie_direction', 'director'"
      ],
      "execution_count": 0,
      "outputs": []
    },
    {
      "cell_type": "markdown",
      "metadata": {
        "colab_type": "text",
        "id": "MuLFrSzed9L7"
      },
      "source": [
        "> * **SQL**"
      ]
    },
    {
      "cell_type": "code",
      "metadata": {
        "colab_type": "code",
        "id": "h0HhpR_xd9L8",
        "colab": {}
      },
      "source": [
        "rs = con.execute(f''' SELECT {table_name3}.act_fname, {table_name3}.act_lname,\n",
        "                             {table_name1}.mov_title, {table_name2}.role\n",
        "                      FROM {table_name1} AS {table_name1} \n",
        "                      INNER JOIN {table_name2} AS {table_name2}                       \n",
        "                      ON {table_name1}.mov_id = {table_name2}.mov_id      \n",
        "                      INNER JOIN {table_name3} AS {table_name3}                       \n",
        "                      ON {table_name2}.act_id = {table_name3}.act_id\n",
        "                      INNER JOIN {table_name4} AS {table_name4}                       \n",
        "                      ON {table_name1}.mov_id = {table_name4}.mov_id\n",
        "                      INNER JOIN {table_name5} AS {table_name5}                       \n",
        "                      ON {table_name4}.dir_id = {table_name5}.dir_id\n",
        "                      WHERE {table_name3}.act_fname = {table_name5}.dir_fname AND \n",
        "                            {table_name3}.act_lname = {table_name5}.dir_lname                            \n",
        "                 ''')\n",
        "pd.DataFrame(rs.fetchall(), columns = ['dir_fname', 'dir_lname', 'mov_title', 'role'])"
      ],
      "execution_count": 0,
      "outputs": []
    },
    {
      "cell_type": "markdown",
      "metadata": {
        "colab_type": "text",
        "id": "SNXUrFBEd9L-"
      },
      "source": [
        "> * **Pandas**"
      ]
    },
    {
      "cell_type": "code",
      "metadata": {
        "colab_type": "code",
        "id": "O8SWouced9L_",
        "colab": {}
      },
      "source": [
        "table1, table2, table3 = db[table_name1], db[table_name2], db[table_name3]\n",
        "table4, table5 = db[table_name4], db[table_name5]\n",
        "\n",
        "SELECT_CLAUSE = ['dir_fname', 'dir_lname', 'mov_title', 'role']\n",
        "\n",
        "rs = table1.merge(table2, 'inner', 'mov_id') \\\n",
        "           .merge(table3, 'inner','act_id') \\\n",
        "           .merge(table4, 'inner','mov_id') \\\n",
        "           .merge(table5, 'inner','dir_id')          \n",
        "\n",
        "WHERE_CONDITION1 = (rs['act_fname'] == rs['dir_fname'])\n",
        "WHERE_CONDITION2 = (rs['act_lname'] == rs['dir_lname'])\n",
        "WHERE_CLAUSE = WHERE_CONDITION1 & WHERE_CONDITION2\n",
        "           \n",
        "rs = rs[WHERE_CLAUSE][SELECT_CLAUSE]\n",
        "rs"
      ],
      "execution_count": 0,
      "outputs": []
    },
    {
      "cell_type": "markdown",
      "metadata": {
        "colab_type": "text",
        "id": "_4Pc9exvicrQ"
      },
      "source": [
        "### Query 47: Write a query to find the cast list for the movie Chinatown.  "
      ]
    },
    {
      "cell_type": "code",
      "metadata": {
        "colab_type": "code",
        "id": "ftjjKq8Iicrb",
        "colab": {}
      },
      "source": [
        "table_name1, table_name2, table_name3 = 'movie',  'movie_cast', 'actor',"
      ],
      "execution_count": 0,
      "outputs": []
    },
    {
      "cell_type": "markdown",
      "metadata": {
        "colab_type": "text",
        "id": "X4BDZUdVicrf"
      },
      "source": [
        "> * **SQL**"
      ]
    },
    {
      "cell_type": "code",
      "metadata": {
        "colab_type": "code",
        "id": "FKZFjODlicrg",
        "colab": {}
      },
      "source": [
        "rs = con.execute(f''' SELECT {table_name3}.act_fname, {table_name3}.act_lname\n",
        "                      FROM {table_name1} AS {table_name1} \n",
        "                      INNER JOIN {table_name2} AS {table_name2}                       \n",
        "                      ON {table_name1}.mov_id = {table_name2}.mov_id      \n",
        "                      INNER JOIN {table_name3} AS {table_name3}                       \n",
        "                      ON {table_name2}.act_id = {table_name3}.act_id                   \n",
        "                      WHERE {table_name1}.mov_title = 'Chinatown'                            \n",
        "                 ''')\n",
        "pd.DataFrame(rs.fetchall(), columns = ['act_fname', 'act_lname'])"
      ],
      "execution_count": 0,
      "outputs": []
    },
    {
      "cell_type": "markdown",
      "metadata": {
        "colab_type": "text",
        "id": "v9vYJzkYicrk"
      },
      "source": [
        "> * **Pandas**"
      ]
    },
    {
      "cell_type": "code",
      "metadata": {
        "colab_type": "code",
        "id": "UbDZg4s_icrl",
        "colab": {}
      },
      "source": [
        "table1, table2, table3 = db[table_name1], db[table_name2], db[table_name3]\n",
        "\n",
        "SELECT_CLAUSE = ['act_fname', 'act_lname']\n",
        "\n",
        "WHERE_CONDITION = (table1['mov_title'] == 'Chinatown')\n",
        "WHERE_CLAUSE = WHERE_CONDITION\n",
        "\n",
        "rs = table1[WHERE_CLAUSE].merge(table2, 'inner', 'mov_id') \\\n",
        "                         .merge(table3, 'inner','act_id') \\\n",
        "                         [SELECT_CLAUSE]\n",
        "rs"
      ],
      "execution_count": 0,
      "outputs": []
    },
    {
      "cell_type": "markdown",
      "metadata": {
        "colab_type": "text",
        "id": "1cqIwO4fj04s"
      },
      "source": [
        "### Query 48: Write a query to find the movie in which the actor appeared whose first and last name are 'Harrison' and 'Ford'. "
      ]
    },
    {
      "cell_type": "code",
      "metadata": {
        "colab_type": "code",
        "id": "MQxQJt_4j04v",
        "colab": {}
      },
      "source": [
        "table_name1, table_name2, table_name3 = 'movie',  'movie_cast', 'actor',"
      ],
      "execution_count": 0,
      "outputs": []
    },
    {
      "cell_type": "markdown",
      "metadata": {
        "colab_type": "text",
        "id": "Dv_feQKoj04y"
      },
      "source": [
        "> * **SQL**"
      ]
    },
    {
      "cell_type": "code",
      "metadata": {
        "colab_type": "code",
        "id": "R3CyxIduj04z",
        "colab": {}
      },
      "source": [
        "rs = con.execute(f''' SELECT {table_name1}.mov_title\n",
        "                      FROM {table_name1} AS {table_name1} \n",
        "                      INNER JOIN {table_name2} AS {table_name2}                       \n",
        "                      ON {table_name1}.mov_id = {table_name2}.mov_id      \n",
        "                      INNER JOIN {table_name3} AS {table_name3}                       \n",
        "                      ON {table_name2}.act_id = {table_name3}.act_id                   \n",
        "                      WHERE {table_name3}.act_fname = 'Harrison' AND\n",
        "                            {table_name3}.act_lname = 'Ford'\n",
        "                 ''')\n",
        "pd.DataFrame(rs.fetchall(), columns = ['mov_title'])"
      ],
      "execution_count": 0,
      "outputs": []
    },
    {
      "cell_type": "markdown",
      "metadata": {
        "colab_type": "text",
        "id": "4E1ZbCmzj041"
      },
      "source": [
        "> * **Pandas**"
      ]
    },
    {
      "cell_type": "code",
      "metadata": {
        "colab_type": "code",
        "id": "nDaVPdmUj042",
        "colab": {}
      },
      "source": [
        "table1, table2, table3 = db[table_name1], db[table_name2], db[table_name3]\n",
        "\n",
        "SELECT_CLAUSE = ['mov_title']\n",
        "\n",
        "WHERE_CONDITION1 = (table3['act_fname'] == 'Harrison')\n",
        "WHERE_CONDITION2= (table3['act_lname'] == 'Ford')\n",
        "WHERE_CLAUSE = WHERE_CONDITION1 & WHERE_CONDITION2\n",
        "\n",
        "rs = table1.merge(table2, 'inner', 'mov_id') \\\n",
        "           .merge(table3[WHERE_CLAUSE], 'inner','act_id') \\\n",
        "           [SELECT_CLAUSE]\n",
        "rs"
      ],
      "execution_count": 0,
      "outputs": []
    },
    {
      "cell_type": "markdown",
      "metadata": {
        "colab_type": "text",
        "id": "0AP2fzosk3dz"
      },
      "source": [
        "### Query 49: Write a query to find the highest-rated movie, and report its title, year, rating, and releasing country.  "
      ]
    },
    {
      "cell_type": "code",
      "metadata": {
        "colab_type": "code",
        "id": "LAVEQZZOk3d1",
        "colab": {}
      },
      "source": [
        "table_name1, table_name2 = 'movie',  'rating'"
      ],
      "execution_count": 0,
      "outputs": []
    },
    {
      "cell_type": "markdown",
      "metadata": {
        "colab_type": "text",
        "id": "kZrYtyWXk3d4"
      },
      "source": [
        "> * **SQL**"
      ]
    },
    {
      "cell_type": "code",
      "metadata": {
        "colab_type": "code",
        "id": "lk26caF8k3d6",
        "colab": {}
      },
      "source": [
        "rs = con.execute(f''' SELECT {table_name1}.mov_title, {table_name1}.mov_year, \n",
        "                             {table_name2}.num_of_ratings, {table_name1}.mov_rel_country\n",
        "                      FROM {table_name1} AS {table_name1} \n",
        "                      INNER JOIN {table_name2} AS {table_name2}                       \n",
        "                      ON {table_name1}.mov_id = {table_name2}.mov_id                          \n",
        "                      WHERE {table_name2}.num_of_ratings = (SELECT MAX(num_of_ratings) FROM {table_name2})                            \n",
        "                 ''')\n",
        "pd.DataFrame(rs.fetchall(), columns = ['mov_title', 'mov_year', 'num_of_ratings', 'mov_rel_country'])"
      ],
      "execution_count": 0,
      "outputs": []
    },
    {
      "cell_type": "markdown",
      "metadata": {
        "colab_type": "text",
        "id": "SsAL5Tt_k3d9"
      },
      "source": [
        "> * **Pandas**"
      ]
    },
    {
      "cell_type": "code",
      "metadata": {
        "colab_type": "code",
        "id": "AFoDAnb-k3d9",
        "colab": {}
      },
      "source": [
        "table1, table2 = db[table_name1], db[table_name2]\n",
        "\n",
        "SELECT_CLAUSE = ['mov_title', 'mov_year', 'num_of_ratings', 'mov_rel_country']\n",
        "\n",
        "\n",
        "WHERE_CONDITION1= (table2['num_of_ratings'] == table2['num_of_ratings'].max())\n",
        "WHERE_CLAUSE = WHERE_CONDITION1\n",
        "\n",
        "rs = table1.merge(table2[WHERE_CLAUSE], 'inner', 'mov_id') \\\n",
        "           [SELECT_CLAUSE]\n",
        "rs"
      ],
      "execution_count": 0,
      "outputs": []
    },
    {
      "cell_type": "markdown",
      "metadata": {
        "colab_type": "text",
        "id": "XJBs6Ipumdz1"
      },
      "source": [
        "### Query 50: Write a query to find the highest-rated Mystery movie, and report the title, year, and rating. "
      ]
    },
    {
      "cell_type": "code",
      "metadata": {
        "colab_type": "code",
        "id": "IKfX3P7Bmdz3",
        "colab": {}
      },
      "source": [
        "table_name1, table_name2 = 'movie', 'rating'\n",
        "table_name3, table_name4 = 'movie_genres', 'genres'"
      ],
      "execution_count": 0,
      "outputs": []
    },
    {
      "cell_type": "markdown",
      "metadata": {
        "colab_type": "text",
        "id": "Xh1F_QY9mdz5"
      },
      "source": [
        "> * **SQL**"
      ]
    },
    {
      "cell_type": "code",
      "metadata": {
        "colab_type": "code",
        "id": "pBZ2U-TUmdz6",
        "colab": {}
      },
      "source": [
        "rs = con.execute(f''' SELECT {table_name1}.mov_title, {table_name1}.mov_year, \n",
        "                             {table_name2}.num_of_ratings\n",
        "                      FROM {table_name1} AS {table_name1}                       \n",
        "                      INNER JOIN {table_name2} AS {table_name2}                       \n",
        "                      ON {table_name1}.mov_id = {table_name2}.mov_id                          \n",
        "                      INNER JOIN {table_name3} AS {table_name3}                       \n",
        "                      ON {table_name1}.mov_id = {table_name3}.mov_id                          \n",
        "                      INNER JOIN {table_name4} AS {table_name4}                       \n",
        "                      ON {table_name3}.gen_id = {table_name4}.gen_id                          \n",
        "                      WHERE {table_name4}.gen_title = \"Mystery\"                           \n",
        "                 ''')\n",
        "pd.DataFrame(rs.fetchall(), columns = ['mov_title', 'mov_year', 'num_of_ratings'])"
      ],
      "execution_count": 0,
      "outputs": []
    },
    {
      "cell_type": "markdown",
      "metadata": {
        "colab_type": "text",
        "id": "qVr28BBUmdz8"
      },
      "source": [
        "> * **Pandas**"
      ]
    },
    {
      "cell_type": "code",
      "metadata": {
        "colab_type": "code",
        "id": "uu6QWEa4mdz9",
        "colab": {}
      },
      "source": [
        "table1, table2 = db[table_name1], db[table_name2]\n",
        "table3, table4 = db[table_name3], db[table_name4]\n",
        "\n",
        "SELECT_CLAUSE = ['mov_title', 'mov_year', 'num_of_ratings']\n",
        "\n",
        "WHERE_CONDITION= (table4['gen_title'] == 'Mystery')\n",
        "WHERE_CLAUSE = WHERE_CONDITION\n",
        "\n",
        "rs = table1.merge(table2, 'inner', 'mov_id') \\\n",
        "           .merge(table3, 'inner', 'mov_id') \\\n",
        "           .merge(table4[WHERE_CLAUSE], 'inner', 'gen_id') \\\n",
        "           [SELECT_CLAUSE]\n",
        "rs"
      ],
      "execution_count": 0,
      "outputs": []
    },
    {
      "cell_type": "markdown",
      "metadata": {
        "colab_type": "text",
        "id": "H-2J_OB0n1GD"
      },
      "source": [
        "### Query 51:  Write a query to generate a report which shows the year when most of the Mystery movies produces, and number of movies and their average rating. "
      ]
    },
    {
      "cell_type": "code",
      "metadata": {
        "colab_type": "code",
        "id": "IldHLE8Nn1GG",
        "colab": {}
      },
      "source": [
        "table_name1, table_name2 = 'movie', 'rating'\n",
        "table_name3, table_name4 = 'movie_genres', 'genres'"
      ],
      "execution_count": 0,
      "outputs": []
    },
    {
      "cell_type": "markdown",
      "metadata": {
        "colab_type": "text",
        "id": "TBLnl2yYn1GI"
      },
      "source": [
        "> * **SQL**"
      ]
    },
    {
      "cell_type": "code",
      "metadata": {
        "colab_type": "code",
        "id": "5L798zBOn1GI",
        "colab": {}
      },
      "source": [
        "rs = con.execute(f''' SELECT {table_name1}.mov_year, COUNT({table_name1}.mov_id), AVG({table_name2}.num_of_ratings)                              \n",
        "                      FROM {table_name1} AS {table_name1}                       \n",
        "                      LEFT JOIN {table_name2} AS {table_name2}                       \n",
        "                      ON {table_name1}.mov_id = {table_name2}.mov_id                          \n",
        "                      INNER JOIN {table_name3} AS {table_name3}                       \n",
        "                      ON {table_name1}.mov_id = {table_name3}.mov_id                          \n",
        "                      INNER JOIN {table_name4} AS {table_name4}                       \n",
        "                      ON {table_name3}.gen_id = {table_name4}.gen_id                          \n",
        "                      WHERE {table_name4}.gen_title = \"Mystery\"  \n",
        "                      GROUP BY {table_name1}.mov_year                      \n",
        "                 ''')\n",
        "pd.DataFrame(rs.fetchall(), columns = ['mov_year', 'num_of_mystery_mov', 'avg_ratings'])"
      ],
      "execution_count": 0,
      "outputs": []
    },
    {
      "cell_type": "markdown",
      "metadata": {
        "colab_type": "text",
        "id": "Jko1zEEhn1GL"
      },
      "source": [
        "> * **Pandas**"
      ]
    },
    {
      "cell_type": "code",
      "metadata": {
        "colab_type": "code",
        "id": "MMBnBYYLn1GL",
        "colab": {}
      },
      "source": [
        "table1, table2 = db[table_name1], db[table_name2]\n",
        "table3, table4 = db[table_name3], db[table_name4]\n",
        "\n",
        "SELECT_CLAUSE = ['mov_title']\n",
        "\n",
        "WHERE_CONDITION= (table4['gen_title'] == 'Mystery')\n",
        "WHERE_CLAUSE = WHERE_CONDITION\n",
        "AGG_OP = {'mov_id': 'count', 'num_of_ratings': 'mean'}\n",
        "rs = table1.merge(table2, 'left', 'mov_id') \\\n",
        "           .merge(table3, 'inner', 'mov_id') \\\n",
        "           .merge(table4[WHERE_CLAUSE], 'inner', 'gen_id') \\\n",
        "           .groupby(['mov_year']) \\\n",
        "           .agg(AGG_OP) \\\n",
        "           \n",
        "rs"
      ],
      "execution_count": 0,
      "outputs": []
    },
    {
      "cell_type": "markdown",
      "metadata": {
        "colab_type": "text",
        "id": "zZXQLHWqr6bR"
      },
      "source": [
        "### Query 52: Write a query to generate a report which contain the columns movie title, name of the female actor, year of the movie, role, movie genres, the director, date of release, and rating of that movie. "
      ]
    },
    {
      "cell_type": "code",
      "metadata": {
        "colab_type": "code",
        "id": "0pl0eS2fr6bU",
        "colab": {}
      },
      "source": [
        "table_name1, table_name2, table_name3 = 'movie', 'movie_direction', 'director'\n",
        "table_name4, table_name5, table_name6 = 'movie_cast', 'actor', 'movie_genres', \n",
        "table_name7, table_name8 = 'genres', 'rating'"
      ],
      "execution_count": 0,
      "outputs": []
    },
    {
      "cell_type": "markdown",
      "metadata": {
        "colab_type": "text",
        "id": "Onrm3RGkr6bX"
      },
      "source": [
        "> * **SQL**"
      ]
    },
    {
      "cell_type": "code",
      "metadata": {
        "colab_type": "code",
        "id": "ufbnJAz5r6bY",
        "colab": {}
      },
      "source": [
        "rs = con.execute(f''' SELECT {table_name1}.mov_title, {table_name5}.act_fname, {table_name5}.act_lname,\n",
        "                             {table_name1}.mov_year, {table_name4}.role, {table_name1}.mov_dt_rel,\n",
        "                             {table_name8}.num_of_ratings\n",
        "                      FROM {table_name1} AS {table_name1}                       \n",
        "                      INNER JOIN {table_name2} AS {table_name2}                       \n",
        "                      ON {table_name1}.mov_id = {table_name2}.mov_id                          \n",
        "                      INNER JOIN {table_name3} AS {table_name3}                       \n",
        "                      ON {table_name2}.dir_id = {table_name3}.dir_id \n",
        "                      INNER JOIN {table_name4} AS {table_name4}                       \n",
        "                      ON {table_name1}.mov_id = {table_name4}.mov_id\n",
        "                      INNER JOIN {table_name5} AS {table_name5}                       \n",
        "                      ON {table_name4}.act_id = {table_name5}.act_id                  \n",
        "                      INNER JOIN {table_name6} AS {table_name6}                       \n",
        "                      ON {table_name1}.mov_id = {table_name6}.mov_id                  \n",
        "                      INNER JOIN {table_name7} AS {table_name7}                       \n",
        "                      ON {table_name6}.gen_id = {table_name7}.gen_id                          \n",
        "                      INNER JOIN {table_name8} AS {table_name8}                       \n",
        "                      ON {table_name1}.mov_id = {table_name8}.mov_id                          \n",
        "                      WHERE {table_name5}.act_gender = \"F\"                                          \n",
        "                 ''')\n",
        "pd.DataFrame(rs.fetchall(), columns = ['mov_title', 'act_fname', 'act_lname', \n",
        "                                       'mov_year', 'role', 'mov_dt_rel',\n",
        "                                       'num_of_ratings'])"
      ],
      "execution_count": 0,
      "outputs": []
    },
    {
      "cell_type": "markdown",
      "metadata": {
        "colab_type": "text",
        "id": "4oHTf--tr6ba"
      },
      "source": [
        "> * **Pandas**"
      ]
    },
    {
      "cell_type": "code",
      "metadata": {
        "colab_type": "code",
        "id": "XSNRzNsdr6bb",
        "colab": {}
      },
      "source": [
        "table1, table2, table3 = db[table_name1], db[table_name2], db[table_name3]\n",
        "table4, table5, table6 = db[table_name4], db[table_name5], db[table_name6]\n",
        "table7, table8 = db[table_name7], db[table_name8]\n",
        "\n",
        "SELECT_CLAUSE = ['mov_title', 'act_fname', 'act_lname', 'mov_year', \n",
        "                 'role', 'mov_dt_rel', 'num_of_ratings']\n",
        "\n",
        "WHERE_CONDITION= (table5['act_gender'] == 'F')\n",
        "WHERE_CLAUSE = WHERE_CONDITION\n",
        "\n",
        "rs = table1.merge(table2, 'inner', 'mov_id') \\\n",
        "           .merge(table3, 'inner', 'dir_id') \\\n",
        "           .merge(table4, 'inner', 'mov_id') \\\n",
        "           .merge(table5[WHERE_CLAUSE], 'inner', 'act_id') \\\n",
        "           .merge(table6, 'inner', 'mov_id') \\\n",
        "           .merge(table7, 'inner', 'gen_id') \\\n",
        "           .merge(table8, 'inner', 'mov_id') \\\n",
        "           [SELECT_CLAUSE]          \n",
        "rs"
      ],
      "execution_count": 0,
      "outputs": []
    }
  ]
}