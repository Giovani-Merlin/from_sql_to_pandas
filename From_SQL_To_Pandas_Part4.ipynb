{
  "nbformat": 4,
  "nbformat_minor": 0,
  "metadata": {
    "colab": {
      "name": "From_SQL_To_Pandas_Part4.ipynb",
      "provenance": [],
      "collapsed_sections": [
        "GTwXvuIoDzk4",
        "X7xZzIen_fM3",
        "rNK755our8fm",
        "0aTDGoIeL5NY",
        "QKJqmOXMXj-V",
        "Uiy25d82qtde",
        "AwJtYEWe_1rI",
        "BGf3iiaublgF",
        "HUxRtwrxdyEo",
        "kxE-JrCRllUa"
      ]
    },
    "kernelspec": {
      "name": "python3",
      "display_name": "Python 3"
    }
  },
  "cells": [
    {
      "cell_type": "markdown",
      "metadata": {
        "id": "pml1fkZ9DZUb",
        "colab_type": "text"
      },
      "source": [
        "### Download the Data\n",
        "\n",
        "https://www.w3resource.com/sql-exercises/movie-database-exercise/joins-exercises-on-movie-database.php"
      ]
    },
    {
      "cell_type": "code",
      "metadata": {
        "id": "xAvK-MNqm4FT",
        "colab_type": "code",
        "outputId": "00b54cee-50e6-43a1-825b-5c51e4bd816e",
        "colab": {
          "base_uri": "https://localhost:8080/",
          "height": 170
        }
      },
      "source": [
        "!pip install wget"
      ],
      "execution_count": 1,
      "outputs": [
        {
          "output_type": "stream",
          "text": [
            "Collecting wget\n",
            "  Downloading https://files.pythonhosted.org/packages/47/6a/62e288da7bcda82b935ff0c6cfe542970f04e29c756b0e147251b2fb251f/wget-3.2.zip\n",
            "Building wheels for collected packages: wget\n",
            "  Building wheel for wget (setup.py) ... \u001b[?25l\u001b[?25hdone\n",
            "  Created wheel for wget: filename=wget-3.2-cp36-none-any.whl size=9681 sha256=6236d65ec2fa1a7724e4ae55ebc5fadd75c22b0b95a7b160120311510b7e2828\n",
            "  Stored in directory: /root/.cache/pip/wheels/40/15/30/7d8f7cea2902b4db79e3fea550d7d7b85ecb27ef992b618f3f\n",
            "Successfully built wget\n",
            "Installing collected packages: wget\n",
            "Successfully installed wget-3.2\n"
          ],
          "name": "stdout"
        }
      ]
    },
    {
      "cell_type": "code",
      "metadata": {
        "id": "ec7UyyUXnPPN",
        "colab_type": "code",
        "outputId": "7330e24d-6ad9-41e0-b3fa-3645e3cc718c",
        "colab": {
          "base_uri": "https://localhost:8080/",
          "height": 34
        }
      },
      "source": [
        "import wget\n",
        "fn = wget.download('https://github.com/RJ2494/from_sql_to_pandas/raw/master/movie_rating.zip')\n",
        "fn"
      ],
      "execution_count": 2,
      "outputs": [
        {
          "output_type": "execute_result",
          "data": {
            "text/plain": [
              "'movie_rating.zip'"
            ]
          },
          "metadata": {
            "tags": []
          },
          "execution_count": 2
        }
      ]
    },
    {
      "cell_type": "code",
      "metadata": {
        "id": "tZ7ubpYqnbaK",
        "colab_type": "code",
        "outputId": "218174b0-48ed-48ba-99cb-93df004d3fad",
        "colab": {
          "base_uri": "https://localhost:8080/",
          "height": 255
        }
      },
      "source": [
        "# !unzip $fn\n",
        "!unzip movie_rating.zip"
      ],
      "execution_count": 3,
      "outputs": [
        {
          "output_type": "stream",
          "text": [
            "Archive:  movie_rating.zip\n",
            "   creating: movie_rating/\n",
            "  inflating: movie_rating/orders.csv  \n",
            "  inflating: movie_rating/actor.csv  \n",
            "  inflating: movie_rating/customers.csv  \n",
            "  inflating: movie_rating/director.csv  \n",
            "  inflating: movie_rating/genre.csv  \n",
            "  inflating: movie_rating/genres.csv  \n",
            "  inflating: movie_rating/movie.csv  \n",
            "  inflating: movie_rating/movie_cast.csv  \n",
            "  inflating: movie_rating/movie_direction.csv  \n",
            "  inflating: movie_rating/movie_genres.csv  \n",
            "  inflating: movie_rating/rating.csv  \n",
            "  inflating: movie_rating/reviewer.csv  \n"
          ],
          "name": "stdout"
        }
      ]
    },
    {
      "cell_type": "markdown",
      "metadata": {
        "id": "7aE-7l6SDrpp",
        "colab_type": "text"
      },
      "source": [
        "### Basic Info About Data"
      ]
    },
    {
      "cell_type": "code",
      "metadata": {
        "id": "2QTto2Icnvzw",
        "colab_type": "code",
        "colab": {}
      },
      "source": [
        "PATH = './movie_rating'\n",
        "# PATH = '.'"
      ],
      "execution_count": 0,
      "outputs": []
    },
    {
      "cell_type": "code",
      "metadata": {
        "id": "a0teWceFyOix",
        "colab_type": "code",
        "outputId": "d4f12a54-1417-4a9a-aba9-65730c2e9864",
        "colab": {
          "base_uri": "https://localhost:8080/",
          "height": 238
        }
      },
      "source": [
        "!find $PATH -name '*.csv' | xargs wc -l | sort -nr"
      ],
      "execution_count": 5,
      "outputs": [
        {
          "output_type": "stream",
          "text": [
            " 221 total\n",
            "  29 ./movie_rating/movie.csv\n",
            "  25 ./movie_rating/actor.csv\n",
            "  24 ./movie_rating/movie_direction.csv\n",
            "  24 ./movie_rating/movie_cast.csv\n",
            "  24 ./movie_rating/director.csv\n",
            "  21 ./movie_rating/reviewer.csv\n",
            "  20 ./movie_rating/rating.csv\n",
            "  20 ./movie_rating/movie_genres.csv\n",
            "  14 ./movie_rating/genres.csv\n",
            "  14 ./movie_rating/genre.csv\n",
            "   3 ./movie_rating/orders.csv\n",
            "   3 ./movie_rating/customers.csv\n"
          ],
          "name": "stdout"
        }
      ]
    },
    {
      "cell_type": "code",
      "metadata": {
        "id": "XFRXqUcq2ua_",
        "colab_type": "code",
        "colab": {
          "base_uri": "https://localhost:8080/",
          "height": 612
        },
        "outputId": "110b4ec1-9a28-4de8-e073-c0a6dc5b62b6"
      },
      "source": [
        "# find which seperator is used to seperate the columns of each csv file\n",
        "!head -1 $PATH/*.csv"
      ],
      "execution_count": 6,
      "outputs": [
        {
          "output_type": "stream",
          "text": [
            "==> ./movie_rating/actor.csv <==\n",
            "act_id|act_fname|act_lname|act_gender\n",
            "\n",
            "==> ./movie_rating/customers.csv <==\n",
            "CustomerID|CustomerName|ContactName|Address|City|PostalCode|Country\n",
            "\n",
            "==> ./movie_rating/director.csv <==\n",
            "dir_id|dir_fname|dir_lname\n",
            "\n",
            "==> ./movie_rating/genre.csv <==\n",
            "gen_id|gen_title\n",
            "\n",
            "==> ./movie_rating/genres.csv <==\n",
            "gen_id|gen_title\n",
            "\n",
            "==> ./movie_rating/movie_cast.csv <==\n",
            "act_id|mov_id|role\n",
            "\n",
            "==> ./movie_rating/movie.csv <==\n",
            "mov_id|mov_title|mov_year|mov_time|mov_lang|mov_dt_rel|mov_rel_country\n",
            "\n",
            "==> ./movie_rating/movie_direction.csv <==\n",
            "dir_id|mov_id\n",
            "\n",
            "==> ./movie_rating/movie_genres.csv <==\n",
            "mov_id|gen_id\n",
            "\n",
            "==> ./movie_rating/orders.csv <==\n",
            "OrderID|CustomerID|EmployeeID|OrderDate|ShipperID\n",
            "\n",
            "==> ./movie_rating/rating.csv <==\n",
            "mov_id|rev_id|rev_stars|num_of_ratings\n",
            "\n",
            "==> ./movie_rating/reviewer.csv <==\n",
            "rev_id|rev_name\n"
          ],
          "name": "stdout"
        }
      ]
    },
    {
      "cell_type": "markdown",
      "metadata": {
        "id": "u3lC7fwxDOZm",
        "colab_type": "text"
      },
      "source": [
        "> * We can see that all files are `|`  seperated."
      ]
    },
    {
      "cell_type": "markdown",
      "metadata": {
        "id": "GTwXvuIoDzk4",
        "colab_type": "text"
      },
      "source": [
        "### Read the Dataset"
      ]
    },
    {
      "cell_type": "code",
      "metadata": {
        "id": "XVpz-pxyDVsH",
        "colab_type": "code",
        "colab": {}
      },
      "source": [
        "import pandas as pd\n",
        "import numpy as np\n",
        "import re\n",
        "import os\n",
        "\n",
        "from collections import defaultdict"
      ],
      "execution_count": 0,
      "outputs": []
    },
    {
      "cell_type": "code",
      "metadata": {
        "id": "3rKUOSSsSj1Y",
        "colab_type": "code",
        "colab": {}
      },
      "source": [
        "pd.set_option('display.width', 1000)\n",
        "pd.set_option('display.max_columns', 1000)\n",
        "pd.set_option('display.max_rows', 1000)\n",
        "pd.set_option('display.max_colwidth', 1000)"
      ],
      "execution_count": 0,
      "outputs": []
    },
    {
      "cell_type": "code",
      "metadata": {
        "id": "kX8JKrlBEA0v",
        "colab_type": "code",
        "colab": {}
      },
      "source": [
        "db = defaultdict(pd.DataFrame)\n",
        "\n",
        "for filename in os.listdir(PATH):\n",
        "    if filename.endswith('.csv'):\n",
        "        db[filename.split('.')[0]] = pd.read_csv(f\"{PATH}/{filename}\", sep='|')\n",
        "        "
      ],
      "execution_count": 0,
      "outputs": []
    },
    {
      "cell_type": "code",
      "metadata": {
        "id": "TEvlY71HEN3W",
        "colab_type": "code",
        "colab": {
          "base_uri": "https://localhost:8080/",
          "height": 0
        },
        "outputId": "237b5cb8-344b-48b8-bfbf-506e890d7a21"
      },
      "source": [
        "pd.DataFrame(db.items(), columns=['table_name', 'table_data'])"
      ],
      "execution_count": 10,
      "outputs": [
        {
          "output_type": "execute_result",
          "data": {
            "text/html": [
              "<div>\n",
              "<style scoped>\n",
              "    .dataframe tbody tr th:only-of-type {\n",
              "        vertical-align: middle;\n",
              "    }\n",
              "\n",
              "    .dataframe tbody tr th {\n",
              "        vertical-align: top;\n",
              "    }\n",
              "\n",
              "    .dataframe thead th {\n",
              "        text-align: right;\n",
              "    }\n",
              "</style>\n",
              "<table border=\"1\" class=\"dataframe\">\n",
              "  <thead>\n",
              "    <tr style=\"text-align: right;\">\n",
              "      <th></th>\n",
              "      <th>table_name</th>\n",
              "      <th>table_data</th>\n",
              "    </tr>\n",
              "  </thead>\n",
              "  <tbody>\n",
              "    <tr>\n",
              "      <th>0</th>\n",
              "      <td>movie_cast</td>\n",
              "      <td>act_id  mov_id                 role\n",
              "0      101     901  JohnScottieFerguson\n",
              "1      102     902          MissGiddens\n",
              "2      103     903         T.E.Lawrence\n",
              "3      104     904              Michael\n",
              "4      105     905       AntonioSalieri\n",
              "5      106     906          RickDeckard\n",
              "6      107     907         AliceHarford\n",
              "7      108     908              McManus\n",
              "8      110     910           EddieAdams\n",
              "9      111     911           AlvySinger\n",
              "10     112     912                  San\n",
              "11     113     913         AndyDufresne\n",
              "12     114     914        LesterBurnham\n",
              "13     115     915    RoseDeWittBukater\n",
              "14     116     916          SeanMaguire\n",
              "15     117     917                   Ed\n",
              "16     118     918               Renton\n",
              "17     120     920       ElizabethDarko\n",
              "18     121     921           OlderJamal\n",
              "19     122     922               Ripley\n",
              "20     114     923           BobbyDarin\n",
              "21     109     909           J.J.Gittes\n",
              "22     119     919         AlfredBorden</td>\n",
              "    </tr>\n",
              "    <tr>\n",
              "      <th>1</th>\n",
              "      <td>customers</td>\n",
              "      <td>CustomerID                        CustomerName     ContactName                        Address         City  PostalCode  Country\n",
              "0           1                 Alfreds Futterkiste    Maria Anders                  Obere Str. 57       Berlin       12209  Germany\n",
              "1           2  Ana Trujillo Emparedados y helados    Ana Trujillo  Avda. de la Constitución 2222  México D.F.        5021   Mexico\n",
              "2           3             Antonio Moreno Taquería  Antonio Moreno                 Mataderos 2312  México D.F.        5023   Mexico</td>\n",
              "    </tr>\n",
              "    <tr>\n",
              "      <th>2</th>\n",
              "      <td>actor</td>\n",
              "      <td>act_id  act_fname   act_lname act_gender\n",
              "0      101      James     Stewart          M\n",
              "1      102    Deborah        Kerr          F\n",
              "2      103      Peter      OToole          M\n",
              "3      104     Robert      DeNiro          M\n",
              "4      105   F.Murray     Abraham          M\n",
              "5      106   Harrison        Ford          M\n",
              "6      107     Nicole      Kidman          F\n",
              "7      108    Stephen     Baldwin          M\n",
              "8      109       Jack   Nicholson          M\n",
              "9      110       Mark    Wahlberg          M\n",
              "10     111      Woody       Allen          M\n",
              "11     112     Claire       Danes          F\n",
              "12     113        Tim     Robbins          M\n",
              "13     114      Kevin      Spacey          M\n",
              "14     115       Kate     Winslet          F\n",
              "15     116      Robin    Williams          M\n",
              "16     117        Jon      Voight          M\n",
              "17     118       Ewan    McGregor          M\n",
              "18     119  Christian        Bale          M\n",
              "19     120     Maggie  Gyllenhaal          F\n",
              "20     121        Dev       Patel          M\n",
              "21    ...</td>\n",
              "    </tr>\n",
              "    <tr>\n",
              "      <th>3</th>\n",
              "      <td>orders</td>\n",
              "      <td>OrderID  CustomerID  EmployeeID   OrderDate  ShipperID\n",
              "0    10308           2           7  1996-09-18          3\n",
              "1    10309          37           3  1996-09-19          1\n",
              "2    10310          77           8  1996-09-20          2</td>\n",
              "    </tr>\n",
              "    <tr>\n",
              "      <th>4</th>\n",
              "      <td>director</td>\n",
              "      <td>dir_id    dir_fname       dir_lname\n",
              "0      201       Alfred       Hitchcock\n",
              "1      202         Jack         Clayton\n",
              "2      203        David            Lean\n",
              "3      204      Michael          Cimino\n",
              "4      205        Milos          Forman\n",
              "5      206       Ridley           Scott\n",
              "6      207      Stanley         Kubrick\n",
              "7      208        Bryan          Singer\n",
              "8      209        Roman        Polanski\n",
              "9      210         Paul  ThomasAnderson\n",
              "10     211        Woody           Allen\n",
              "11     212        Hayao        Miyazaki\n",
              "12     213        Frank        Darabont\n",
              "13     214          Sam          Mendes\n",
              "14     215        James         Cameron\n",
              "15     216          Gus         VanSant\n",
              "16     217         John         Boorman\n",
              "17     218        Danny           Boyle\n",
              "18     219  Christopher           Nolan\n",
              "19     220      Richard           Kelly\n",
              "20     221        Kevin          Spacey\n",
              "21     222       Andrei       Tarkovsky\n",
              "22     223        Peter         Jackson</td>\n",
              "    </tr>\n",
              "    <tr>\n",
              "      <th>5</th>\n",
              "      <td>movie</td>\n",
              "      <td>mov_id               mov_title  mov_year  mov_time  mov_lang  mov_dt_rel mov_rel_country\n",
              "0      901                 Vertigo      1958       128   English  1958-08-24              UK\n",
              "1      902            TheInnocents      1961       100   English  1962-02-19              SW\n",
              "2      903        LawrenceofArabia      1962       216   English  1962-12-11              UK\n",
              "3      904           TheDeerHunter      1978       183   English  1979-03-08              UK\n",
              "4      905                 Amadeus      1984       160   English  1985-01-07              UK\n",
              "5      906             BladeRunner      1982       117   English  1982-09-09              UK\n",
              "6      907            EyesWideShut      1999       159   English         NaN              UK\n",
              "7      908        TheUsualSuspects      1995       106   English  1995-08-25              UK\n",
              "8      909               Chinatown      1974       130   English  1974-08-09              UK\n",
              "9      910            BoogieNights      1997       155   English  ...</td>\n",
              "    </tr>\n",
              "    <tr>\n",
              "      <th>6</th>\n",
              "      <td>genres</td>\n",
              "      <td>gen_id  gen_title\n",
              "0     1001     Action\n",
              "1     1002  Adventure\n",
              "2     1003  Animation\n",
              "3     1004  Biography\n",
              "4     1005     Comedy\n",
              "5     1006      Crime\n",
              "6     1007      Drama\n",
              "7     1008     Horror\n",
              "8     1009      Music\n",
              "9     1010    Mystery\n",
              "10    1011    Romance\n",
              "11    1012   Thriller\n",
              "12    1013        War</td>\n",
              "    </tr>\n",
              "    <tr>\n",
              "      <th>7</th>\n",
              "      <td>reviewer</td>\n",
              "      <td>rev_id           rev_name\n",
              "0     9001         RightySock\n",
              "1     9002        JackMalvern\n",
              "2     9003  FlagrantBaronessa\n",
              "3     9004           AlecShaw\n",
              "4     9005                NaN\n",
              "5     9006     VictorWoeltjen\n",
              "6     9007        SimonWright\n",
              "7     9008          NealWruck\n",
              "8     9009          PaulMonks\n",
              "9     9010        MikeSalvati\n",
              "10    9011                NaN\n",
              "11    9012     WesleyS.Walker\n",
              "12    9013    SashaGoldshtein\n",
              "13    9014          JoshCates\n",
              "14    9015         KrugStillo\n",
              "15    9016        ScottLeBrun\n",
              "16    9017       HannahSteele\n",
              "17    9018      VincentCadena\n",
              "18    9019   BrandtSponseller\n",
              "19    9020       RichardAdams</td>\n",
              "    </tr>\n",
              "    <tr>\n",
              "      <th>8</th>\n",
              "      <td>genre</td>\n",
              "      <td>gen_id  gen_title\n",
              "0     1001     Action\n",
              "1     1002  Adventure\n",
              "2     1003  Animation\n",
              "3     1004  Biography\n",
              "4     1005     Comedy\n",
              "5     1006      Crime\n",
              "6     1007      Drama\n",
              "7     1008     Horror\n",
              "8     1009      Music\n",
              "9     1010    Mystery\n",
              "10    1011    Romance\n",
              "11    1012   Thriller\n",
              "12    1013        War</td>\n",
              "    </tr>\n",
              "    <tr>\n",
              "      <th>9</th>\n",
              "      <td>movie_genres</td>\n",
              "      <td>mov_id  gen_id\n",
              "0      922    1001\n",
              "1      917    1002\n",
              "2      903    1002\n",
              "3      912    1003\n",
              "4      911    1005\n",
              "5      908    1006\n",
              "6      913    1006\n",
              "7      926    1007\n",
              "8      928    1007\n",
              "9      918    1007\n",
              "10     921    1007\n",
              "11     902    1008\n",
              "12     923    1009\n",
              "13     907    1010\n",
              "14     927    1010\n",
              "15     901    1010\n",
              "16     914    1011\n",
              "17     906    1012\n",
              "18     904    1013</td>\n",
              "    </tr>\n",
              "    <tr>\n",
              "      <th>10</th>\n",
              "      <td>rating</td>\n",
              "      <td>mov_id  rev_id  rev_stars  num_of_ratings\n",
              "0      901    9001        8.4        263575.0\n",
              "1      902    9002        7.9         20207.0\n",
              "2      903    9003        8.3        202778.0\n",
              "3      906    9005        8.2        484746.0\n",
              "4      924    9006        7.3             NaN\n",
              "5      908    9007        8.6        779489.0\n",
              "6      909    9008        NaN        227235.0\n",
              "7      910    9009        3.0        195961.0\n",
              "8      911    9010        8.1        203875.0\n",
              "9      912    9011        8.4             NaN\n",
              "10     914    9013        7.0        862618.0\n",
              "11     915    9001        7.7        830095.0\n",
              "12     916    9014        4.0        642132.0\n",
              "13     925    9015        7.7         81328.0\n",
              "14     918    9016        NaN        580301.0\n",
              "15     920    9017        8.1        609451.0\n",
              "16     921    9018        8.0        667758.0\n",
              "17     922    9019        8.4        511613.0\n",
              "18     923    9020        6.7         13091.0</td>\n",
              "    </tr>\n",
              "    <tr>\n",
              "      <th>11</th>\n",
              "      <td>movie_direction</td>\n",
              "      <td>dir_id  mov_id\n",
              "0      201     901\n",
              "1      202     902\n",
              "2      203     903\n",
              "3      204     904\n",
              "4      205     905\n",
              "5      206     906\n",
              "6      207     907\n",
              "7      208     908\n",
              "8      209     909\n",
              "9      210     910\n",
              "10     211     911\n",
              "11     212     912\n",
              "12     213     913\n",
              "13     214     914\n",
              "14     215     915\n",
              "15     216     916\n",
              "16     217     917\n",
              "17     218     918\n",
              "18     219     919\n",
              "19     220     920\n",
              "20     218     921\n",
              "21     215     922\n",
              "22     221     923</td>\n",
              "    </tr>\n",
              "  </tbody>\n",
              "</table>\n",
              "</div>"
            ],
            "text/plain": [
              "         table_name  \\\n",
              "0        movie_cast   \n",
              "1         customers   \n",
              "2             actor   \n",
              "3            orders   \n",
              "4          director   \n",
              "5             movie   \n",
              "6            genres   \n",
              "7          reviewer   \n",
              "8             genre   \n",
              "9      movie_genres   \n",
              "10           rating   \n",
              "11  movie_direction   \n",
              "\n",
              "                                                                                                                                                                                                                                                                                                                                                                                                                                                                                                                                                                                                                                                                                                                                                                                                                                                                                                                                                                                                                                 table_data  \n",
              "0                                               act_id  mov_id                 role\n",
              "0      101     901  JohnScottieFerguson\n",
              "1      102     902          MissGiddens\n",
              "2      103     903         T.E.Lawrence\n",
              "3      104     904              Michael\n",
              "4      105     905       AntonioSalieri\n",
              "5      106     906          RickDeckard\n",
              "6      107     907         AliceHarford\n",
              "7      108     908              McManus\n",
              "8      110     910           EddieAdams\n",
              "9      111     911           AlvySinger\n",
              "10     112     912                  San\n",
              "11     113     913         AndyDufresne\n",
              "12     114     914        LesterBurnham\n",
              "13     115     915    RoseDeWittBukater\n",
              "14     116     916          SeanMaguire\n",
              "15     117     917                   Ed\n",
              "16     118     918               Renton\n",
              "17     120     920       ElizabethDarko\n",
              "18     121     921           OlderJamal\n",
              "19     122     922               Ripley\n",
              "20     114     923           BobbyDarin\n",
              "21     109     909           J.J.Gittes\n",
              "22     119     919         AlfredBorden  \n",
              "1                                                                                                                                                                                                                                                                                                                                                                                                                                                                                                  CustomerID                        CustomerName     ContactName                        Address         City  PostalCode  Country\n",
              "0           1                 Alfreds Futterkiste    Maria Anders                  Obere Str. 57       Berlin       12209  Germany\n",
              "1           2  Ana Trujillo Emparedados y helados    Ana Trujillo  Avda. de la Constitución 2222  México D.F.        5021   Mexico\n",
              "2           3             Antonio Moreno Taquería  Antonio Moreno                 Mataderos 2312  México D.F.        5023   Mexico  \n",
              "2       act_id  act_fname   act_lname act_gender\n",
              "0      101      James     Stewart          M\n",
              "1      102    Deborah        Kerr          F\n",
              "2      103      Peter      OToole          M\n",
              "3      104     Robert      DeNiro          M\n",
              "4      105   F.Murray     Abraham          M\n",
              "5      106   Harrison        Ford          M\n",
              "6      107     Nicole      Kidman          F\n",
              "7      108    Stephen     Baldwin          M\n",
              "8      109       Jack   Nicholson          M\n",
              "9      110       Mark    Wahlberg          M\n",
              "10     111      Woody       Allen          M\n",
              "11     112     Claire       Danes          F\n",
              "12     113        Tim     Robbins          M\n",
              "13     114      Kevin      Spacey          M\n",
              "14     115       Kate     Winslet          F\n",
              "15     116      Robin    Williams          M\n",
              "16     117        Jon      Voight          M\n",
              "17     118       Ewan    McGregor          M\n",
              "18     119  Christian        Bale          M\n",
              "19     120     Maggie  Gyllenhaal          F\n",
              "20     121        Dev       Patel          M\n",
              "21    ...  \n",
              "3                                                                                                                                                                                                                                                                                                                                                                                                                                                                                                                                                                                                                                                                                                                                                                                                      OrderID  CustomerID  EmployeeID   OrderDate  ShipperID\n",
              "0    10308           2           7  1996-09-18          3\n",
              "1    10309          37           3  1996-09-19          1\n",
              "2    10310          77           8  1996-09-20          2  \n",
              "4                                               dir_id    dir_fname       dir_lname\n",
              "0      201       Alfred       Hitchcock\n",
              "1      202         Jack         Clayton\n",
              "2      203        David            Lean\n",
              "3      204      Michael          Cimino\n",
              "4      205        Milos          Forman\n",
              "5      206       Ridley           Scott\n",
              "6      207      Stanley         Kubrick\n",
              "7      208        Bryan          Singer\n",
              "8      209        Roman        Polanski\n",
              "9      210         Paul  ThomasAnderson\n",
              "10     211        Woody           Allen\n",
              "11     212        Hayao        Miyazaki\n",
              "12     213        Frank        Darabont\n",
              "13     214          Sam          Mendes\n",
              "14     215        James         Cameron\n",
              "15     216          Gus         VanSant\n",
              "16     217         John         Boorman\n",
              "17     218        Danny           Boyle\n",
              "18     219  Christopher           Nolan\n",
              "19     220      Richard           Kelly\n",
              "20     221        Kevin          Spacey\n",
              "21     222       Andrei       Tarkovsky\n",
              "22     223        Peter         Jackson  \n",
              "5       mov_id               mov_title  mov_year  mov_time  mov_lang  mov_dt_rel mov_rel_country\n",
              "0      901                 Vertigo      1958       128   English  1958-08-24              UK\n",
              "1      902            TheInnocents      1961       100   English  1962-02-19              SW\n",
              "2      903        LawrenceofArabia      1962       216   English  1962-12-11              UK\n",
              "3      904           TheDeerHunter      1978       183   English  1979-03-08              UK\n",
              "4      905                 Amadeus      1984       160   English  1985-01-07              UK\n",
              "5      906             BladeRunner      1982       117   English  1982-09-09              UK\n",
              "6      907            EyesWideShut      1999       159   English         NaN              UK\n",
              "7      908        TheUsualSuspects      1995       106   English  1995-08-25              UK\n",
              "8      909               Chinatown      1974       130   English  1974-08-09              UK\n",
              "9      910            BoogieNights      1997       155   English  ...  \n",
              "6                                                                                                                                                                                                                                                                                                                                                                                                                                                                                                                                                                                                                                                                                                                           gen_id  gen_title\n",
              "0     1001     Action\n",
              "1     1002  Adventure\n",
              "2     1003  Animation\n",
              "3     1004  Biography\n",
              "4     1005     Comedy\n",
              "5     1006      Crime\n",
              "6     1007      Drama\n",
              "7     1008     Horror\n",
              "8     1009      Music\n",
              "9     1010    Mystery\n",
              "10    1011    Romance\n",
              "11    1012   Thriller\n",
              "12    1013        War  \n",
              "7                                                                                                                                                                                                                                                                                                                                                                                         rev_id           rev_name\n",
              "0     9001         RightySock\n",
              "1     9002        JackMalvern\n",
              "2     9003  FlagrantBaronessa\n",
              "3     9004           AlecShaw\n",
              "4     9005                NaN\n",
              "5     9006     VictorWoeltjen\n",
              "6     9007        SimonWright\n",
              "7     9008          NealWruck\n",
              "8     9009          PaulMonks\n",
              "9     9010        MikeSalvati\n",
              "10    9011                NaN\n",
              "11    9012     WesleyS.Walker\n",
              "12    9013    SashaGoldshtein\n",
              "13    9014          JoshCates\n",
              "14    9015         KrugStillo\n",
              "15    9016        ScottLeBrun\n",
              "16    9017       HannahSteele\n",
              "17    9018      VincentCadena\n",
              "18    9019   BrandtSponseller\n",
              "19    9020       RichardAdams  \n",
              "8                                                                                                                                                                                                                                                                                                                                                                                                                                                                                                                                                                                                                                                                                                                           gen_id  gen_title\n",
              "0     1001     Action\n",
              "1     1002  Adventure\n",
              "2     1003  Animation\n",
              "3     1004  Biography\n",
              "4     1005     Comedy\n",
              "5     1006      Crime\n",
              "6     1007      Drama\n",
              "7     1008     Horror\n",
              "8     1009      Music\n",
              "9     1010    Mystery\n",
              "10    1011    Romance\n",
              "11    1012   Thriller\n",
              "12    1013        War  \n",
              "9                                                                                                                                                                                                                                                                                                                                                                                                                                                                                                                                                                                                                                                   mov_id  gen_id\n",
              "0      922    1001\n",
              "1      917    1002\n",
              "2      903    1002\n",
              "3      912    1003\n",
              "4      911    1005\n",
              "5      908    1006\n",
              "6      913    1006\n",
              "7      926    1007\n",
              "8      928    1007\n",
              "9      918    1007\n",
              "10     921    1007\n",
              "11     902    1008\n",
              "12     923    1009\n",
              "13     907    1010\n",
              "14     927    1010\n",
              "15     901    1010\n",
              "16     914    1011\n",
              "17     906    1012\n",
              "18     904    1013  \n",
              "10                                                                                      mov_id  rev_id  rev_stars  num_of_ratings\n",
              "0      901    9001        8.4        263575.0\n",
              "1      902    9002        7.9         20207.0\n",
              "2      903    9003        8.3        202778.0\n",
              "3      906    9005        8.2        484746.0\n",
              "4      924    9006        7.3             NaN\n",
              "5      908    9007        8.6        779489.0\n",
              "6      909    9008        NaN        227235.0\n",
              "7      910    9009        3.0        195961.0\n",
              "8      911    9010        8.1        203875.0\n",
              "9      912    9011        8.4             NaN\n",
              "10     914    9013        7.0        862618.0\n",
              "11     915    9001        7.7        830095.0\n",
              "12     916    9014        4.0        642132.0\n",
              "13     925    9015        7.7         81328.0\n",
              "14     918    9016        NaN        580301.0\n",
              "15     920    9017        8.1        609451.0\n",
              "16     921    9018        8.0        667758.0\n",
              "17     922    9019        8.4        511613.0\n",
              "18     923    9020        6.7         13091.0  \n",
              "11                                                                                                                                                                                                                                                                                                                                                                                                                                                                                                                                                                      dir_id  mov_id\n",
              "0      201     901\n",
              "1      202     902\n",
              "2      203     903\n",
              "3      204     904\n",
              "4      205     905\n",
              "5      206     906\n",
              "6      207     907\n",
              "7      208     908\n",
              "8      209     909\n",
              "9      210     910\n",
              "10     211     911\n",
              "11     212     912\n",
              "12     213     913\n",
              "13     214     914\n",
              "14     215     915\n",
              "15     216     916\n",
              "16     217     917\n",
              "17     218     918\n",
              "18     219     919\n",
              "19     220     920\n",
              "20     218     921\n",
              "21     215     922\n",
              "22     221     923  "
            ]
          },
          "metadata": {
            "tags": []
          },
          "execution_count": 10
        }
      ]
    },
    {
      "cell_type": "markdown",
      "metadata": {
        "id": "Jw_tdHIz4ud9",
        "colab_type": "text"
      },
      "source": [
        "### Connect To Database Engine - \n",
        "> * We use sqlite database engine to perform sql query\n",
        "> * There are many packages to connect to sqlite engine such as - sqlite3, sqlalchemy etc.\n",
        "> * We use sqlalchemy to connect to database engine. It works with many Relational Database Management Systems.\n",
        "> * We will use pandas DataFrame class to represent the result of a sql query into a table form."
      ]
    },
    {
      "cell_type": "code",
      "metadata": {
        "id": "zzPpkG_KFOyL",
        "colab_type": "code",
        "colab": {}
      },
      "source": [
        "from sqlalchemy import create_engine"
      ],
      "execution_count": 0,
      "outputs": []
    },
    {
      "cell_type": "code",
      "metadata": {
        "id": "X-09xPxN5yCe",
        "colab_type": "code",
        "colab": {}
      },
      "source": [
        "engine = create_engine(\"sqlite:///movie_rating.sqlite\")"
      ],
      "execution_count": 0,
      "outputs": []
    },
    {
      "cell_type": "code",
      "metadata": {
        "id": "3JW2h0Ij6DeL",
        "colab_type": "code",
        "colab": {
          "base_uri": "https://localhost:8080/",
          "height": 63
        },
        "outputId": "dc3370cc-221b-4314-9da6-87c8f29c6aa0"
      },
      "source": [
        "# print the names of table in the database movie_review.sqlite\n",
        "table_names = engine.table_names()\n",
        "pd.DataFrame([table_names])"
      ],
      "execution_count": 13,
      "outputs": [
        {
          "output_type": "execute_result",
          "data": {
            "text/html": [
              "<div>\n",
              "<style scoped>\n",
              "    .dataframe tbody tr th:only-of-type {\n",
              "        vertical-align: middle;\n",
              "    }\n",
              "\n",
              "    .dataframe tbody tr th {\n",
              "        vertical-align: top;\n",
              "    }\n",
              "\n",
              "    .dataframe thead th {\n",
              "        text-align: right;\n",
              "    }\n",
              "</style>\n",
              "<table border=\"1\" class=\"dataframe\">\n",
              "  <thead>\n",
              "    <tr style=\"text-align: right;\">\n",
              "      <th></th>\n",
              "    </tr>\n",
              "  </thead>\n",
              "  <tbody>\n",
              "    <tr>\n",
              "      <th>0</th>\n",
              "    </tr>\n",
              "  </tbody>\n",
              "</table>\n",
              "</div>"
            ],
            "text/plain": [
              "Empty DataFrame\n",
              "Columns: []\n",
              "Index: [0]"
            ]
          },
          "metadata": {
            "tags": []
          },
          "execution_count": 13
        }
      ]
    },
    {
      "cell_type": "markdown",
      "metadata": {
        "id": "ONIaZFQP6zAX",
        "colab_type": "text"
      },
      "source": [
        "> * Since there is no table in movie_review.sqlite database, we will create some tables and insert data of movie review into them.\n",
        "\n",
        "> * https://sqlite.org/cli.html"
      ]
    },
    {
      "cell_type": "code",
      "metadata": {
        "id": "mmSo4e4c6ZV5",
        "colab_type": "code",
        "colab": {}
      },
      "source": [
        " # connect to database\n",
        "con = engine.connect()\n",
        "\n",
        "# create table one by one \n",
        "for table_name, table_data in db.items():    \n",
        "    table_data.to_sql(table_name, con=engine, index=False,\n",
        "                      if_exists='replace')        "
      ],
      "execution_count": 0,
      "outputs": []
    },
    {
      "cell_type": "code",
      "metadata": {
        "id": "AVaMKsWq-ZxU",
        "colab_type": "code",
        "colab": {
          "base_uri": "https://localhost:8080/",
          "height": 80
        },
        "outputId": "fe04e1e5-2002-4060-ef28-a81470262941"
      },
      "source": [
        "# print the names of table in the database movie_review.sqlite\n",
        "table_names = engine.table_names()\n",
        "pd.DataFrame([table_names])"
      ],
      "execution_count": 15,
      "outputs": [
        {
          "output_type": "execute_result",
          "data": {
            "text/html": [
              "<div>\n",
              "<style scoped>\n",
              "    .dataframe tbody tr th:only-of-type {\n",
              "        vertical-align: middle;\n",
              "    }\n",
              "\n",
              "    .dataframe tbody tr th {\n",
              "        vertical-align: top;\n",
              "    }\n",
              "\n",
              "    .dataframe thead th {\n",
              "        text-align: right;\n",
              "    }\n",
              "</style>\n",
              "<table border=\"1\" class=\"dataframe\">\n",
              "  <thead>\n",
              "    <tr style=\"text-align: right;\">\n",
              "      <th></th>\n",
              "      <th>0</th>\n",
              "      <th>1</th>\n",
              "      <th>2</th>\n",
              "      <th>3</th>\n",
              "      <th>4</th>\n",
              "      <th>5</th>\n",
              "      <th>6</th>\n",
              "      <th>7</th>\n",
              "      <th>8</th>\n",
              "      <th>9</th>\n",
              "      <th>10</th>\n",
              "      <th>11</th>\n",
              "    </tr>\n",
              "  </thead>\n",
              "  <tbody>\n",
              "    <tr>\n",
              "      <th>0</th>\n",
              "      <td>actor</td>\n",
              "      <td>customers</td>\n",
              "      <td>director</td>\n",
              "      <td>genre</td>\n",
              "      <td>genres</td>\n",
              "      <td>movie</td>\n",
              "      <td>movie_cast</td>\n",
              "      <td>movie_direction</td>\n",
              "      <td>movie_genres</td>\n",
              "      <td>orders</td>\n",
              "      <td>rating</td>\n",
              "      <td>reviewer</td>\n",
              "    </tr>\n",
              "  </tbody>\n",
              "</table>\n",
              "</div>"
            ],
            "text/plain": [
              "       0          1         2      3       4      5           6                7             8       9      10        11\n",
              "0  actor  customers  director  genre  genres  movie  movie_cast  movie_direction  movie_genres  orders  rating  reviewer"
            ]
          },
          "metadata": {
            "tags": []
          },
          "execution_count": 15
        }
      ]
    },
    {
      "cell_type": "markdown",
      "metadata": {
        "colab_type": "text",
        "id": "X7xZzIen_fM3"
      },
      "source": [
        "### Query 26: *`INNER JOIN`* - Display role of casts for each movie.\n",
        "\n",
        "> \n",
        "\n",
        "\n",
        "![INNER JOIN](https://www.w3resource.com/w3r_images/sql-inner-jon.gif)"
      ]
    },
    {
      "cell_type": "markdown",
      "metadata": {
        "colab_type": "text",
        "id": "4R7MQE0N_fM_"
      },
      "source": [
        "> * **SQL** "
      ]
    },
    {
      "cell_type": "code",
      "metadata": {
        "colab_type": "code",
        "id": "5Y_iI3kj_fNE",
        "colab": {}
      },
      "source": [
        "table_name1, table_name2 = 'movie', 'rating'"
      ],
      "execution_count": 0,
      "outputs": []
    },
    {
      "cell_type": "code",
      "metadata": {
        "colab_type": "code",
        "id": "0dLyuKgH_fNc",
        "colab": {
          "base_uri": "https://localhost:8080/",
          "height": 0
        },
        "outputId": "bcf53f2b-d7b2-47f5-9317-b5160831c88e"
      },
      "source": [
        "rs = con.execute(f'''SELECT {table_name1}.mov_title, {table_name2}.rev_stars\n",
        "                     FROM {table_name1}  AS {table_name1}\n",
        "                     INNER JOIN {table_name2} AS {table_name2}\n",
        "                     ON {table_name1}.mov_id = {table_name2}.mov_id\n",
        "                     ''')\n",
        "pd.DataFrame(rs.fetchall(), columns=['movie_title', 'role']).T"
      ],
      "execution_count": 17,
      "outputs": [
        {
          "output_type": "execute_result",
          "data": {
            "text/html": [
              "<div>\n",
              "<style scoped>\n",
              "    .dataframe tbody tr th:only-of-type {\n",
              "        vertical-align: middle;\n",
              "    }\n",
              "\n",
              "    .dataframe tbody tr th {\n",
              "        vertical-align: top;\n",
              "    }\n",
              "\n",
              "    .dataframe thead th {\n",
              "        text-align: right;\n",
              "    }\n",
              "</style>\n",
              "<table border=\"1\" class=\"dataframe\">\n",
              "  <thead>\n",
              "    <tr style=\"text-align: right;\">\n",
              "      <th></th>\n",
              "      <th>0</th>\n",
              "      <th>1</th>\n",
              "      <th>2</th>\n",
              "      <th>3</th>\n",
              "      <th>4</th>\n",
              "      <th>5</th>\n",
              "      <th>6</th>\n",
              "      <th>7</th>\n",
              "      <th>8</th>\n",
              "      <th>9</th>\n",
              "      <th>10</th>\n",
              "      <th>11</th>\n",
              "      <th>12</th>\n",
              "      <th>13</th>\n",
              "      <th>14</th>\n",
              "      <th>15</th>\n",
              "      <th>16</th>\n",
              "      <th>17</th>\n",
              "      <th>18</th>\n",
              "    </tr>\n",
              "  </thead>\n",
              "  <tbody>\n",
              "    <tr>\n",
              "      <th>movie_title</th>\n",
              "      <td>Vertigo</td>\n",
              "      <td>TheInnocents</td>\n",
              "      <td>LawrenceofArabia</td>\n",
              "      <td>BladeRunner</td>\n",
              "      <td>TheUsualSuspects</td>\n",
              "      <td>Chinatown</td>\n",
              "      <td>BoogieNights</td>\n",
              "      <td>AnnieHall</td>\n",
              "      <td>PrincessMononoke</td>\n",
              "      <td>AmericanBeauty</td>\n",
              "      <td>Titanic</td>\n",
              "      <td>GoodWillHunting</td>\n",
              "      <td>Trainspotting</td>\n",
              "      <td>DonnieDarko</td>\n",
              "      <td>SlumdogMillionaire</td>\n",
              "      <td>Aliens</td>\n",
              "      <td>BeyondtheSea</td>\n",
              "      <td>Avatar</td>\n",
              "      <td>Braveheart</td>\n",
              "    </tr>\n",
              "    <tr>\n",
              "      <th>role</th>\n",
              "      <td>8.4</td>\n",
              "      <td>7.9</td>\n",
              "      <td>8.3</td>\n",
              "      <td>8.2</td>\n",
              "      <td>8.6</td>\n",
              "      <td>NaN</td>\n",
              "      <td>3</td>\n",
              "      <td>8.1</td>\n",
              "      <td>8.4</td>\n",
              "      <td>7</td>\n",
              "      <td>7.7</td>\n",
              "      <td>4</td>\n",
              "      <td>NaN</td>\n",
              "      <td>8.1</td>\n",
              "      <td>8</td>\n",
              "      <td>8.4</td>\n",
              "      <td>6.7</td>\n",
              "      <td>7.3</td>\n",
              "      <td>7.7</td>\n",
              "    </tr>\n",
              "  </tbody>\n",
              "</table>\n",
              "</div>"
            ],
            "text/plain": [
              "                   0             1                 2            3                 4          5             6          7                 8               9       10               11             12           13                  14      15            16      17          18\n",
              "movie_title  Vertigo  TheInnocents  LawrenceofArabia  BladeRunner  TheUsualSuspects  Chinatown  BoogieNights  AnnieHall  PrincessMononoke  AmericanBeauty  Titanic  GoodWillHunting  Trainspotting  DonnieDarko  SlumdogMillionaire  Aliens  BeyondtheSea  Avatar  Braveheart\n",
              "role             8.4           7.9               8.3          8.2               8.6        NaN             3        8.1               8.4               7      7.7                4            NaN          8.1                   8     8.4           6.7     7.3         7.7"
            ]
          },
          "metadata": {
            "tags": []
          },
          "execution_count": 17
        }
      ]
    },
    {
      "cell_type": "markdown",
      "metadata": {
        "colab_type": "text",
        "id": "IObXWpNL_fNr"
      },
      "source": [
        "> * **Pandas** "
      ]
    },
    {
      "cell_type": "code",
      "metadata": {
        "colab_type": "code",
        "id": "0gtn0U92_fN5",
        "colab": {
          "base_uri": "https://localhost:8080/",
          "height": 0
        },
        "outputId": "a6473818-b47f-4647-f837-e1a9e27604f4"
      },
      "source": [
        "table1, table2 = db[table_name1], db[table_name2]\n",
        "\n",
        "JOIN = pd.merge\n",
        "INNER, ON = 'inner', 'mov_id'\n",
        "\n",
        "FROM_CLAUSE_WITH_JOIN = JOIN(table1, table2, INNER, ON)\n",
        "\n",
        "SELECT_CLAUSE = ['mov_title', 'rev_stars']\n",
        "\n",
        "# pd.merge(left=db[table_name1], right=db[table_name2], how='inner') \\\n",
        "#                                    [['mov_title', 'rev_stars']]\n",
        "res = FROM_CLAUSE_WITH_JOIN[SELECT_CLAUSE]\n",
        "res.T"
      ],
      "execution_count": 18,
      "outputs": [
        {
          "output_type": "execute_result",
          "data": {
            "text/html": [
              "<div>\n",
              "<style scoped>\n",
              "    .dataframe tbody tr th:only-of-type {\n",
              "        vertical-align: middle;\n",
              "    }\n",
              "\n",
              "    .dataframe tbody tr th {\n",
              "        vertical-align: top;\n",
              "    }\n",
              "\n",
              "    .dataframe thead th {\n",
              "        text-align: right;\n",
              "    }\n",
              "</style>\n",
              "<table border=\"1\" class=\"dataframe\">\n",
              "  <thead>\n",
              "    <tr style=\"text-align: right;\">\n",
              "      <th></th>\n",
              "      <th>0</th>\n",
              "      <th>1</th>\n",
              "      <th>2</th>\n",
              "      <th>3</th>\n",
              "      <th>4</th>\n",
              "      <th>5</th>\n",
              "      <th>6</th>\n",
              "      <th>7</th>\n",
              "      <th>8</th>\n",
              "      <th>9</th>\n",
              "      <th>10</th>\n",
              "      <th>11</th>\n",
              "      <th>12</th>\n",
              "      <th>13</th>\n",
              "      <th>14</th>\n",
              "      <th>15</th>\n",
              "      <th>16</th>\n",
              "      <th>17</th>\n",
              "      <th>18</th>\n",
              "    </tr>\n",
              "  </thead>\n",
              "  <tbody>\n",
              "    <tr>\n",
              "      <th>mov_title</th>\n",
              "      <td>Vertigo</td>\n",
              "      <td>TheInnocents</td>\n",
              "      <td>LawrenceofArabia</td>\n",
              "      <td>BladeRunner</td>\n",
              "      <td>TheUsualSuspects</td>\n",
              "      <td>Chinatown</td>\n",
              "      <td>BoogieNights</td>\n",
              "      <td>AnnieHall</td>\n",
              "      <td>PrincessMononoke</td>\n",
              "      <td>AmericanBeauty</td>\n",
              "      <td>Titanic</td>\n",
              "      <td>GoodWillHunting</td>\n",
              "      <td>Trainspotting</td>\n",
              "      <td>DonnieDarko</td>\n",
              "      <td>SlumdogMillionaire</td>\n",
              "      <td>Aliens</td>\n",
              "      <td>BeyondtheSea</td>\n",
              "      <td>Avatar</td>\n",
              "      <td>Braveheart</td>\n",
              "    </tr>\n",
              "    <tr>\n",
              "      <th>rev_stars</th>\n",
              "      <td>8.4</td>\n",
              "      <td>7.9</td>\n",
              "      <td>8.3</td>\n",
              "      <td>8.2</td>\n",
              "      <td>8.6</td>\n",
              "      <td>NaN</td>\n",
              "      <td>3</td>\n",
              "      <td>8.1</td>\n",
              "      <td>8.4</td>\n",
              "      <td>7</td>\n",
              "      <td>7.7</td>\n",
              "      <td>4</td>\n",
              "      <td>NaN</td>\n",
              "      <td>8.1</td>\n",
              "      <td>8</td>\n",
              "      <td>8.4</td>\n",
              "      <td>6.7</td>\n",
              "      <td>7.3</td>\n",
              "      <td>7.7</td>\n",
              "    </tr>\n",
              "  </tbody>\n",
              "</table>\n",
              "</div>"
            ],
            "text/plain": [
              "                0             1                 2            3                 4          5             6          7                 8               9        10               11             12           13                  14      15            16      17          18\n",
              "mov_title  Vertigo  TheInnocents  LawrenceofArabia  BladeRunner  TheUsualSuspects  Chinatown  BoogieNights  AnnieHall  PrincessMononoke  AmericanBeauty  Titanic  GoodWillHunting  Trainspotting  DonnieDarko  SlumdogMillionaire  Aliens  BeyondtheSea  Avatar  Braveheart\n",
              "rev_stars      8.4           7.9               8.3          8.2               8.6        NaN             3        8.1               8.4               7      7.7                4            NaN          8.1                   8     8.4           6.7     7.3         7.7"
            ]
          },
          "metadata": {
            "tags": []
          },
          "execution_count": 18
        }
      ]
    },
    {
      "cell_type": "markdown",
      "metadata": {
        "colab_type": "text",
        "id": "EDVK2hCEBxsN"
      },
      "source": [
        "### Query 27: *`LEFT OUTER JOIN`* - Display the movie title and their review stars. Also display the movie for which we don't have review stars.\n",
        "![LEFT OUTER JOIN](https://www.w3resource.com/w3r_images/sql-left-jon.png)"
      ]
    },
    {
      "cell_type": "markdown",
      "metadata": {
        "colab_type": "text",
        "id": "OyKlZ_tqBxsR"
      },
      "source": [
        "> * **SQL** "
      ]
    },
    {
      "cell_type": "code",
      "metadata": {
        "colab_type": "code",
        "id": "r0ya-1tfBxsS",
        "colab": {}
      },
      "source": [
        "table_name1 = 'movie'\n",
        "table_name2 = 'rating'"
      ],
      "execution_count": 0,
      "outputs": []
    },
    {
      "cell_type": "code",
      "metadata": {
        "colab_type": "code",
        "id": "mc4r4WwzBxsZ",
        "colab": {
          "base_uri": "https://localhost:8080/",
          "height": 131
        },
        "outputId": "d0029539-120c-474b-fb92-5698c7c66138"
      },
      "source": [
        "rs = con.execute(f'''SELECT {table_name1}.mov_title, {table_name2}.rev_stars\n",
        "                     FROM {table_name1}  AS {table_name1}\n",
        "                     LEFT JOIN {table_name2} AS {table_name2}\n",
        "                     ON {table_name1}.mov_id = {table_name2}.mov_id\n",
        "                     ''')\n",
        "pd.DataFrame(rs.fetchall(), columns=['movie_title', 'rev_stars']).T"
      ],
      "execution_count": 20,
      "outputs": [
        {
          "output_type": "execute_result",
          "data": {
            "text/html": [
              "<div>\n",
              "<style scoped>\n",
              "    .dataframe tbody tr th:only-of-type {\n",
              "        vertical-align: middle;\n",
              "    }\n",
              "\n",
              "    .dataframe tbody tr th {\n",
              "        vertical-align: top;\n",
              "    }\n",
              "\n",
              "    .dataframe thead th {\n",
              "        text-align: right;\n",
              "    }\n",
              "</style>\n",
              "<table border=\"1\" class=\"dataframe\">\n",
              "  <thead>\n",
              "    <tr style=\"text-align: right;\">\n",
              "      <th></th>\n",
              "      <th>0</th>\n",
              "      <th>1</th>\n",
              "      <th>2</th>\n",
              "      <th>3</th>\n",
              "      <th>4</th>\n",
              "      <th>5</th>\n",
              "      <th>6</th>\n",
              "      <th>7</th>\n",
              "      <th>8</th>\n",
              "      <th>9</th>\n",
              "      <th>10</th>\n",
              "      <th>11</th>\n",
              "      <th>12</th>\n",
              "      <th>13</th>\n",
              "      <th>14</th>\n",
              "      <th>15</th>\n",
              "      <th>16</th>\n",
              "      <th>17</th>\n",
              "      <th>18</th>\n",
              "      <th>19</th>\n",
              "      <th>20</th>\n",
              "      <th>21</th>\n",
              "      <th>22</th>\n",
              "      <th>23</th>\n",
              "      <th>24</th>\n",
              "      <th>25</th>\n",
              "      <th>26</th>\n",
              "      <th>27</th>\n",
              "    </tr>\n",
              "  </thead>\n",
              "  <tbody>\n",
              "    <tr>\n",
              "      <th>movie_title</th>\n",
              "      <td>Vertigo</td>\n",
              "      <td>TheInnocents</td>\n",
              "      <td>LawrenceofArabia</td>\n",
              "      <td>TheDeerHunter</td>\n",
              "      <td>Amadeus</td>\n",
              "      <td>BladeRunner</td>\n",
              "      <td>EyesWideShut</td>\n",
              "      <td>TheUsualSuspects</td>\n",
              "      <td>Chinatown</td>\n",
              "      <td>BoogieNights</td>\n",
              "      <td>AnnieHall</td>\n",
              "      <td>PrincessMononoke</td>\n",
              "      <td>TheShawshankRedemption</td>\n",
              "      <td>AmericanBeauty</td>\n",
              "      <td>Titanic</td>\n",
              "      <td>GoodWillHunting</td>\n",
              "      <td>Deliverance</td>\n",
              "      <td>Trainspotting</td>\n",
              "      <td>ThePrestige</td>\n",
              "      <td>DonnieDarko</td>\n",
              "      <td>SlumdogMillionaire</td>\n",
              "      <td>Aliens</td>\n",
              "      <td>BeyondtheSea</td>\n",
              "      <td>Avatar</td>\n",
              "      <td>SevenSamurai</td>\n",
              "      <td>SpiritedAway</td>\n",
              "      <td>BacktotheFuture</td>\n",
              "      <td>Braveheart</td>\n",
              "    </tr>\n",
              "    <tr>\n",
              "      <th>rev_stars</th>\n",
              "      <td>8.4</td>\n",
              "      <td>7.9</td>\n",
              "      <td>8.3</td>\n",
              "      <td>NaN</td>\n",
              "      <td>NaN</td>\n",
              "      <td>8.2</td>\n",
              "      <td>NaN</td>\n",
              "      <td>8.6</td>\n",
              "      <td>NaN</td>\n",
              "      <td>3</td>\n",
              "      <td>8.1</td>\n",
              "      <td>8.4</td>\n",
              "      <td>NaN</td>\n",
              "      <td>7</td>\n",
              "      <td>7.7</td>\n",
              "      <td>4</td>\n",
              "      <td>NaN</td>\n",
              "      <td>NaN</td>\n",
              "      <td>NaN</td>\n",
              "      <td>8.1</td>\n",
              "      <td>8</td>\n",
              "      <td>8.4</td>\n",
              "      <td>6.7</td>\n",
              "      <td>7.3</td>\n",
              "      <td>NaN</td>\n",
              "      <td>NaN</td>\n",
              "      <td>NaN</td>\n",
              "      <td>7.7</td>\n",
              "    </tr>\n",
              "  </tbody>\n",
              "</table>\n",
              "</div>"
            ],
            "text/plain": [
              "                   0             1                 2              3        4            5             6                 7          8             9         10                11                      12              13       14               15           16             17           18           19                  20      21            22      23            24            25               26          27\n",
              "movie_title  Vertigo  TheInnocents  LawrenceofArabia  TheDeerHunter  Amadeus  BladeRunner  EyesWideShut  TheUsualSuspects  Chinatown  BoogieNights  AnnieHall  PrincessMononoke  TheShawshankRedemption  AmericanBeauty  Titanic  GoodWillHunting  Deliverance  Trainspotting  ThePrestige  DonnieDarko  SlumdogMillionaire  Aliens  BeyondtheSea  Avatar  SevenSamurai  SpiritedAway  BacktotheFuture  Braveheart\n",
              "rev_stars        8.4           7.9               8.3            NaN      NaN          8.2           NaN               8.6        NaN             3        8.1               8.4                     NaN               7      7.7                4          NaN            NaN          NaN          8.1                   8     8.4           6.7     7.3           NaN           NaN              NaN         7.7"
            ]
          },
          "metadata": {
            "tags": []
          },
          "execution_count": 20
        }
      ]
    },
    {
      "cell_type": "markdown",
      "metadata": {
        "colab_type": "text",
        "id": "wRGHbA5hBxsc"
      },
      "source": [
        "> * **Pandas** "
      ]
    },
    {
      "cell_type": "code",
      "metadata": {
        "colab_type": "code",
        "id": "uxDJUnkgBxsd",
        "colab": {
          "base_uri": "https://localhost:8080/",
          "height": 131
        },
        "outputId": "0430b3c0-84a9-4170-93b5-55f0be5b90dc"
      },
      "source": [
        "table1, table2 = db[table_name1], db[table_name2]\n",
        "JOIN = pd.merge\n",
        "LEFT_OUTER, ON = 'left', 'mov_id'\n",
        "FROM_CLAUSE_WITH_JOIN = JOIN(table1, table2, LEFT_OUTER, ON)\n",
        "\n",
        "SELECT_CLAUSE = ['mov_title', 'rev_stars']\n",
        "\n",
        "# pd.merge(left=db[table_name1], right=db[table_name2], how='inner') \\\n",
        "#                                    [['mov_title', 'role']]\n",
        "res = FROM_CLAUSE_WITH_JOIN[SELECT_CLAUSE]\n",
        "res.T"
      ],
      "execution_count": 21,
      "outputs": [
        {
          "output_type": "execute_result",
          "data": {
            "text/html": [
              "<div>\n",
              "<style scoped>\n",
              "    .dataframe tbody tr th:only-of-type {\n",
              "        vertical-align: middle;\n",
              "    }\n",
              "\n",
              "    .dataframe tbody tr th {\n",
              "        vertical-align: top;\n",
              "    }\n",
              "\n",
              "    .dataframe thead th {\n",
              "        text-align: right;\n",
              "    }\n",
              "</style>\n",
              "<table border=\"1\" class=\"dataframe\">\n",
              "  <thead>\n",
              "    <tr style=\"text-align: right;\">\n",
              "      <th></th>\n",
              "      <th>0</th>\n",
              "      <th>1</th>\n",
              "      <th>2</th>\n",
              "      <th>3</th>\n",
              "      <th>4</th>\n",
              "      <th>5</th>\n",
              "      <th>6</th>\n",
              "      <th>7</th>\n",
              "      <th>8</th>\n",
              "      <th>9</th>\n",
              "      <th>10</th>\n",
              "      <th>11</th>\n",
              "      <th>12</th>\n",
              "      <th>13</th>\n",
              "      <th>14</th>\n",
              "      <th>15</th>\n",
              "      <th>16</th>\n",
              "      <th>17</th>\n",
              "      <th>18</th>\n",
              "      <th>19</th>\n",
              "      <th>20</th>\n",
              "      <th>21</th>\n",
              "      <th>22</th>\n",
              "      <th>23</th>\n",
              "      <th>24</th>\n",
              "      <th>25</th>\n",
              "      <th>26</th>\n",
              "      <th>27</th>\n",
              "    </tr>\n",
              "  </thead>\n",
              "  <tbody>\n",
              "    <tr>\n",
              "      <th>mov_title</th>\n",
              "      <td>Vertigo</td>\n",
              "      <td>TheInnocents</td>\n",
              "      <td>LawrenceofArabia</td>\n",
              "      <td>TheDeerHunter</td>\n",
              "      <td>Amadeus</td>\n",
              "      <td>BladeRunner</td>\n",
              "      <td>EyesWideShut</td>\n",
              "      <td>TheUsualSuspects</td>\n",
              "      <td>Chinatown</td>\n",
              "      <td>BoogieNights</td>\n",
              "      <td>AnnieHall</td>\n",
              "      <td>PrincessMononoke</td>\n",
              "      <td>TheShawshankRedemption</td>\n",
              "      <td>AmericanBeauty</td>\n",
              "      <td>Titanic</td>\n",
              "      <td>GoodWillHunting</td>\n",
              "      <td>Deliverance</td>\n",
              "      <td>Trainspotting</td>\n",
              "      <td>ThePrestige</td>\n",
              "      <td>DonnieDarko</td>\n",
              "      <td>SlumdogMillionaire</td>\n",
              "      <td>Aliens</td>\n",
              "      <td>BeyondtheSea</td>\n",
              "      <td>Avatar</td>\n",
              "      <td>SevenSamurai</td>\n",
              "      <td>SpiritedAway</td>\n",
              "      <td>BacktotheFuture</td>\n",
              "      <td>Braveheart</td>\n",
              "    </tr>\n",
              "    <tr>\n",
              "      <th>rev_stars</th>\n",
              "      <td>8.4</td>\n",
              "      <td>7.9</td>\n",
              "      <td>8.3</td>\n",
              "      <td>NaN</td>\n",
              "      <td>NaN</td>\n",
              "      <td>8.2</td>\n",
              "      <td>NaN</td>\n",
              "      <td>8.6</td>\n",
              "      <td>NaN</td>\n",
              "      <td>3</td>\n",
              "      <td>8.1</td>\n",
              "      <td>8.4</td>\n",
              "      <td>NaN</td>\n",
              "      <td>7</td>\n",
              "      <td>7.7</td>\n",
              "      <td>4</td>\n",
              "      <td>NaN</td>\n",
              "      <td>NaN</td>\n",
              "      <td>NaN</td>\n",
              "      <td>8.1</td>\n",
              "      <td>8</td>\n",
              "      <td>8.4</td>\n",
              "      <td>6.7</td>\n",
              "      <td>7.3</td>\n",
              "      <td>NaN</td>\n",
              "      <td>NaN</td>\n",
              "      <td>NaN</td>\n",
              "      <td>7.7</td>\n",
              "    </tr>\n",
              "  </tbody>\n",
              "</table>\n",
              "</div>"
            ],
            "text/plain": [
              "                0             1                 2              3        4            5             6                 7          8             9          10                11                      12              13       14               15           16             17           18           19                  20      21            22      23            24            25               26          27\n",
              "mov_title  Vertigo  TheInnocents  LawrenceofArabia  TheDeerHunter  Amadeus  BladeRunner  EyesWideShut  TheUsualSuspects  Chinatown  BoogieNights  AnnieHall  PrincessMononoke  TheShawshankRedemption  AmericanBeauty  Titanic  GoodWillHunting  Deliverance  Trainspotting  ThePrestige  DonnieDarko  SlumdogMillionaire  Aliens  BeyondtheSea  Avatar  SevenSamurai  SpiritedAway  BacktotheFuture  Braveheart\n",
              "rev_stars      8.4           7.9               8.3            NaN      NaN          8.2           NaN               8.6        NaN             3        8.1               8.4                     NaN               7      7.7                4          NaN            NaN          NaN          8.1                   8     8.4           6.7     7.3           NaN           NaN              NaN         7.7"
            ]
          },
          "metadata": {
            "tags": []
          },
          "execution_count": 21
        }
      ]
    },
    {
      "cell_type": "markdown",
      "metadata": {
        "colab_type": "text",
        "id": "rNK755our8fm"
      },
      "source": [
        "### Query 28: *`RIGHT OUTER JOIN`* - Find out the movie id and, its director id and director's first name.\n",
        "![**RIGHT OUTER JOIN**](https://www.w3resource.com/w3r_images/sql-right-jon.gif)"
      ]
    },
    {
      "cell_type": "markdown",
      "metadata": {
        "colab_type": "text",
        "id": "XOj-R0F-r8fp"
      },
      "source": [
        "> * **SQL** - Since SQLite does not support RIGHT OUTER and FULL OUTER JOIN. We will use LEFT OUTER JOIN and combination of LEFT OUTER and UNION to perform RIGHT OUTER and FULL OUTER JOIN respectively."
      ]
    },
    {
      "cell_type": "code",
      "metadata": {
        "colab_type": "code",
        "id": "n0u38Uc3r8fq",
        "colab": {}
      },
      "source": [
        "table_name1, table_name2 = 'movie_direction', 'director'"
      ],
      "execution_count": 0,
      "outputs": []
    },
    {
      "cell_type": "code",
      "metadata": {
        "colab_type": "code",
        "id": "mhALI35Ar8ft",
        "colab": {
          "base_uri": "https://localhost:8080/",
          "height": 0
        },
        "outputId": "dbbc9ef0-fed9-4448-8bd9-8dccbed01f45"
      },
      "source": [
        "rs = con.execute(f'''SELECT {table_name1}.mov_id, {table_name2}.dir_id, {table_name2}.dir_fname\n",
        "                     FROM {table_name2} AS {table_name2}\n",
        "                     LEFT JOIN  {table_name1}  AS {table_name1}\n",
        "                     ON {table_name1}.dir_id = {table_name2}.dir_id\n",
        "                     ''')\n",
        "pd.DataFrame(rs.fetchall(), columns=['mov_id', 'dir_id', 'dir_name']).T\n",
        "\n",
        "# rs = con.execute(f'''SELECT {table_name1}.mov_id, {table_name2}.dir_id, {table_name2}.dir_fname\n",
        "#                      FROM {table_name1}  AS {table_name1}\n",
        "#                      RIGHT JOIN  {table_name2} AS {table_name2}\n",
        "#                      ON {table_name1}.dir_id = {table_name2}.dir_id\n",
        "#                      ''')"
      ],
      "execution_count": 23,
      "outputs": [
        {
          "output_type": "execute_result",
          "data": {
            "text/html": [
              "<div>\n",
              "<style scoped>\n",
              "    .dataframe tbody tr th:only-of-type {\n",
              "        vertical-align: middle;\n",
              "    }\n",
              "\n",
              "    .dataframe tbody tr th {\n",
              "        vertical-align: top;\n",
              "    }\n",
              "\n",
              "    .dataframe thead th {\n",
              "        text-align: right;\n",
              "    }\n",
              "</style>\n",
              "<table border=\"1\" class=\"dataframe\">\n",
              "  <thead>\n",
              "    <tr style=\"text-align: right;\">\n",
              "      <th></th>\n",
              "      <th>0</th>\n",
              "      <th>1</th>\n",
              "      <th>2</th>\n",
              "      <th>3</th>\n",
              "      <th>4</th>\n",
              "      <th>5</th>\n",
              "      <th>6</th>\n",
              "      <th>7</th>\n",
              "      <th>8</th>\n",
              "      <th>9</th>\n",
              "      <th>10</th>\n",
              "      <th>11</th>\n",
              "      <th>12</th>\n",
              "      <th>13</th>\n",
              "      <th>14</th>\n",
              "      <th>15</th>\n",
              "      <th>16</th>\n",
              "      <th>17</th>\n",
              "      <th>18</th>\n",
              "      <th>19</th>\n",
              "      <th>20</th>\n",
              "      <th>21</th>\n",
              "      <th>22</th>\n",
              "      <th>23</th>\n",
              "      <th>24</th>\n",
              "    </tr>\n",
              "  </thead>\n",
              "  <tbody>\n",
              "    <tr>\n",
              "      <th>mov_id</th>\n",
              "      <td>901</td>\n",
              "      <td>902</td>\n",
              "      <td>903</td>\n",
              "      <td>904</td>\n",
              "      <td>905</td>\n",
              "      <td>906</td>\n",
              "      <td>907</td>\n",
              "      <td>908</td>\n",
              "      <td>909</td>\n",
              "      <td>910</td>\n",
              "      <td>911</td>\n",
              "      <td>912</td>\n",
              "      <td>913</td>\n",
              "      <td>914</td>\n",
              "      <td>915</td>\n",
              "      <td>922</td>\n",
              "      <td>916</td>\n",
              "      <td>917</td>\n",
              "      <td>918</td>\n",
              "      <td>921</td>\n",
              "      <td>919</td>\n",
              "      <td>920</td>\n",
              "      <td>923</td>\n",
              "      <td>NaN</td>\n",
              "      <td>NaN</td>\n",
              "    </tr>\n",
              "    <tr>\n",
              "      <th>dir_id</th>\n",
              "      <td>201</td>\n",
              "      <td>202</td>\n",
              "      <td>203</td>\n",
              "      <td>204</td>\n",
              "      <td>205</td>\n",
              "      <td>206</td>\n",
              "      <td>207</td>\n",
              "      <td>208</td>\n",
              "      <td>209</td>\n",
              "      <td>210</td>\n",
              "      <td>211</td>\n",
              "      <td>212</td>\n",
              "      <td>213</td>\n",
              "      <td>214</td>\n",
              "      <td>215</td>\n",
              "      <td>215</td>\n",
              "      <td>216</td>\n",
              "      <td>217</td>\n",
              "      <td>218</td>\n",
              "      <td>218</td>\n",
              "      <td>219</td>\n",
              "      <td>220</td>\n",
              "      <td>221</td>\n",
              "      <td>222</td>\n",
              "      <td>223</td>\n",
              "    </tr>\n",
              "    <tr>\n",
              "      <th>dir_name</th>\n",
              "      <td>Alfred</td>\n",
              "      <td>Jack</td>\n",
              "      <td>David</td>\n",
              "      <td>Michael</td>\n",
              "      <td>Milos</td>\n",
              "      <td>Ridley</td>\n",
              "      <td>Stanley</td>\n",
              "      <td>Bryan</td>\n",
              "      <td>Roman</td>\n",
              "      <td>Paul</td>\n",
              "      <td>Woody</td>\n",
              "      <td>Hayao</td>\n",
              "      <td>Frank</td>\n",
              "      <td>Sam</td>\n",
              "      <td>James</td>\n",
              "      <td>James</td>\n",
              "      <td>Gus</td>\n",
              "      <td>John</td>\n",
              "      <td>Danny</td>\n",
              "      <td>Danny</td>\n",
              "      <td>Christopher</td>\n",
              "      <td>Richard</td>\n",
              "      <td>Kevin</td>\n",
              "      <td>Andrei</td>\n",
              "      <td>Peter</td>\n",
              "    </tr>\n",
              "  </tbody>\n",
              "</table>\n",
              "</div>"
            ],
            "text/plain": [
              "               0     1      2        3      4       5        6      7      8     9     10     11     12   13     14     15   16    17     18     19           20       21     22      23     24\n",
              "mov_id       901   902    903      904    905     906      907    908    909   910    911    912    913  914    915    922  916   917    918    921          919      920    923     NaN    NaN\n",
              "dir_id       201   202    203      204    205     206      207    208    209   210    211    212    213  214    215    215  216   217    218    218          219      220    221     222    223\n",
              "dir_name  Alfred  Jack  David  Michael  Milos  Ridley  Stanley  Bryan  Roman  Paul  Woody  Hayao  Frank  Sam  James  James  Gus  John  Danny  Danny  Christopher  Richard  Kevin  Andrei  Peter"
            ]
          },
          "metadata": {
            "tags": []
          },
          "execution_count": 23
        }
      ]
    },
    {
      "cell_type": "markdown",
      "metadata": {
        "colab_type": "text",
        "id": "VyO9qdJwr8fy"
      },
      "source": [
        "> * **Pandas** "
      ]
    },
    {
      "cell_type": "code",
      "metadata": {
        "colab_type": "code",
        "id": "_qBO7_yqr8fy",
        "colab": {
          "base_uri": "https://localhost:8080/",
          "height": 0
        },
        "outputId": "be41d4d5-ed48-4064-bafa-817ec4c43828"
      },
      "source": [
        "table1 = db[table_name1]\n",
        "table2 = db[table_name2]\n",
        "\n",
        "JOIN = pd.merge\n",
        "RIGHT_OUTER = 'right'    \n",
        "ON = 'dir_id'\n",
        "FROM_CLAUSE_WITH_JOIN = JOIN(table1, table2, RIGHT_OUTER, ON)\n",
        "\n",
        "SELECT_CLAUSE = ['mov_id', 'dir_id', 'dir_fname']\n",
        "\n",
        "# pd.merge(left=db[table_name1], right=db[table_name2], how='inner') \\\n",
        "#                                    [['mov_title', 'role']]\n",
        "res = FROM_CLAUSE_WITH_JOIN[SELECT_CLAUSE]\n",
        "res.T"
      ],
      "execution_count": 24,
      "outputs": [
        {
          "output_type": "execute_result",
          "data": {
            "text/html": [
              "<div>\n",
              "<style scoped>\n",
              "    .dataframe tbody tr th:only-of-type {\n",
              "        vertical-align: middle;\n",
              "    }\n",
              "\n",
              "    .dataframe tbody tr th {\n",
              "        vertical-align: top;\n",
              "    }\n",
              "\n",
              "    .dataframe thead th {\n",
              "        text-align: right;\n",
              "    }\n",
              "</style>\n",
              "<table border=\"1\" class=\"dataframe\">\n",
              "  <thead>\n",
              "    <tr style=\"text-align: right;\">\n",
              "      <th></th>\n",
              "      <th>0</th>\n",
              "      <th>1</th>\n",
              "      <th>2</th>\n",
              "      <th>3</th>\n",
              "      <th>4</th>\n",
              "      <th>5</th>\n",
              "      <th>6</th>\n",
              "      <th>7</th>\n",
              "      <th>8</th>\n",
              "      <th>9</th>\n",
              "      <th>10</th>\n",
              "      <th>11</th>\n",
              "      <th>12</th>\n",
              "      <th>13</th>\n",
              "      <th>14</th>\n",
              "      <th>15</th>\n",
              "      <th>16</th>\n",
              "      <th>17</th>\n",
              "      <th>18</th>\n",
              "      <th>19</th>\n",
              "      <th>20</th>\n",
              "      <th>21</th>\n",
              "      <th>22</th>\n",
              "      <th>23</th>\n",
              "      <th>24</th>\n",
              "    </tr>\n",
              "  </thead>\n",
              "  <tbody>\n",
              "    <tr>\n",
              "      <th>mov_id</th>\n",
              "      <td>901</td>\n",
              "      <td>902</td>\n",
              "      <td>903</td>\n",
              "      <td>904</td>\n",
              "      <td>905</td>\n",
              "      <td>906</td>\n",
              "      <td>907</td>\n",
              "      <td>908</td>\n",
              "      <td>909</td>\n",
              "      <td>910</td>\n",
              "      <td>911</td>\n",
              "      <td>912</td>\n",
              "      <td>913</td>\n",
              "      <td>914</td>\n",
              "      <td>915</td>\n",
              "      <td>922</td>\n",
              "      <td>916</td>\n",
              "      <td>917</td>\n",
              "      <td>918</td>\n",
              "      <td>921</td>\n",
              "      <td>919</td>\n",
              "      <td>920</td>\n",
              "      <td>923</td>\n",
              "      <td>NaN</td>\n",
              "      <td>NaN</td>\n",
              "    </tr>\n",
              "    <tr>\n",
              "      <th>dir_id</th>\n",
              "      <td>201</td>\n",
              "      <td>202</td>\n",
              "      <td>203</td>\n",
              "      <td>204</td>\n",
              "      <td>205</td>\n",
              "      <td>206</td>\n",
              "      <td>207</td>\n",
              "      <td>208</td>\n",
              "      <td>209</td>\n",
              "      <td>210</td>\n",
              "      <td>211</td>\n",
              "      <td>212</td>\n",
              "      <td>213</td>\n",
              "      <td>214</td>\n",
              "      <td>215</td>\n",
              "      <td>215</td>\n",
              "      <td>216</td>\n",
              "      <td>217</td>\n",
              "      <td>218</td>\n",
              "      <td>218</td>\n",
              "      <td>219</td>\n",
              "      <td>220</td>\n",
              "      <td>221</td>\n",
              "      <td>222</td>\n",
              "      <td>223</td>\n",
              "    </tr>\n",
              "    <tr>\n",
              "      <th>dir_fname</th>\n",
              "      <td>Alfred</td>\n",
              "      <td>Jack</td>\n",
              "      <td>David</td>\n",
              "      <td>Michael</td>\n",
              "      <td>Milos</td>\n",
              "      <td>Ridley</td>\n",
              "      <td>Stanley</td>\n",
              "      <td>Bryan</td>\n",
              "      <td>Roman</td>\n",
              "      <td>Paul</td>\n",
              "      <td>Woody</td>\n",
              "      <td>Hayao</td>\n",
              "      <td>Frank</td>\n",
              "      <td>Sam</td>\n",
              "      <td>James</td>\n",
              "      <td>James</td>\n",
              "      <td>Gus</td>\n",
              "      <td>John</td>\n",
              "      <td>Danny</td>\n",
              "      <td>Danny</td>\n",
              "      <td>Christopher</td>\n",
              "      <td>Richard</td>\n",
              "      <td>Kevin</td>\n",
              "      <td>Andrei</td>\n",
              "      <td>Peter</td>\n",
              "    </tr>\n",
              "  </tbody>\n",
              "</table>\n",
              "</div>"
            ],
            "text/plain": [
              "               0     1      2        3      4       5        6      7      8     9      10     11     12   13     14     15   16    17     18     19           20       21     22      23     24\n",
              "mov_id        901   902    903      904    905     906      907    908    909   910    911    912    913  914    915    922  916   917    918    921          919      920    923     NaN    NaN\n",
              "dir_id        201   202    203      204    205     206      207    208    209   210    211    212    213  214    215    215  216   217    218    218          219      220    221     222    223\n",
              "dir_fname  Alfred  Jack  David  Michael  Milos  Ridley  Stanley  Bryan  Roman  Paul  Woody  Hayao  Frank  Sam  James  James  Gus  John  Danny  Danny  Christopher  Richard  Kevin  Andrei  Peter"
            ]
          },
          "metadata": {
            "tags": []
          },
          "execution_count": 24
        }
      ]
    },
    {
      "cell_type": "markdown",
      "metadata": {
        "colab_type": "text",
        "id": "H3ymNkBA6vgg"
      },
      "source": [
        "### Query 29: *`FULL OUTER JOIN`* - Perfrom full outer join between customers and orders\n",
        "![**SQL FULL OUTER JOIN**](https://www.w3resource.com/w3r_images/sql-full-outer-join.gif)"
      ]
    },
    {
      "cell_type": "markdown",
      "metadata": {
        "colab_type": "text",
        "id": "bSn_7oHh6vgj"
      },
      "source": [
        "> * **SQL** - Since SQLite does not support RIGHT OUTER and FULL OUTER JOIN. We will use LEFT OUTER JOIN and combination of LEFT OUTER and UNION to perform RIGHT OUTER and FULL OUTER JOIN respectively."
      ]
    },
    {
      "cell_type": "code",
      "metadata": {
        "colab_type": "code",
        "id": "N8uJudlH6vgl",
        "colab": {}
      },
      "source": [
        "table_name1 = 'customers'\n",
        "table_name2 = 'orders'"
      ],
      "execution_count": 0,
      "outputs": []
    },
    {
      "cell_type": "code",
      "metadata": {
        "colab_type": "code",
        "id": "a3cBCJv86vgo",
        "colab": {
          "base_uri": "https://localhost:8080/",
          "height": 272
        },
        "outputId": "7e9a5553-5c46-46fb-ccef-bc0a32b443cf"
      },
      "source": [
        "rs = con.execute(f'''SELECT  {table_name1}.CustomerID, CustomerName, ContactName, Address, City, PostalCode, Country, \n",
        "                                OrderID,\tEmployeeID, OrderDate, ShipperID\n",
        "                     FROM {table_name1}  AS {table_name1}\n",
        "                     LEFT JOIN {table_name2} AS {table_name2}\n",
        "                     ON {table_name1}.CustomerID = {table_name2}.CustomerID\n",
        "                     UNION\n",
        "                     SELECT {table_name2}.CustomerID, CustomerName, ContactName, Address, City, PostalCode, \n",
        "                                Country, OrderID,\tEmployeeID, OrderDate, ShipperID\n",
        "                     FROM {table_name2}  AS {table_name2}\n",
        "                     LEFT JOIN {table_name1} AS {table_name1}\n",
        "                     ON {table_name2}.CustomerID = {table_name1}.CustomerID\n",
        "                     \n",
        "                     ''')\n",
        "pd.DataFrame(rs.fetchall(), columns = ['CustomerID', 'CustomerName', 'ContactName', \n",
        "                                       'Address', 'City', 'PostalCode', 'Country', \n",
        "                                       'OrderID', 'EmployeeID', 'OrderDate', 'ShipperID'])"
      ],
      "execution_count": 26,
      "outputs": [
        {
          "output_type": "execute_result",
          "data": {
            "text/html": [
              "<div>\n",
              "<style scoped>\n",
              "    .dataframe tbody tr th:only-of-type {\n",
              "        vertical-align: middle;\n",
              "    }\n",
              "\n",
              "    .dataframe tbody tr th {\n",
              "        vertical-align: top;\n",
              "    }\n",
              "\n",
              "    .dataframe thead th {\n",
              "        text-align: right;\n",
              "    }\n",
              "</style>\n",
              "<table border=\"1\" class=\"dataframe\">\n",
              "  <thead>\n",
              "    <tr style=\"text-align: right;\">\n",
              "      <th></th>\n",
              "      <th>CustomerID</th>\n",
              "      <th>CustomerName</th>\n",
              "      <th>ContactName</th>\n",
              "      <th>Address</th>\n",
              "      <th>City</th>\n",
              "      <th>PostalCode</th>\n",
              "      <th>Country</th>\n",
              "      <th>OrderID</th>\n",
              "      <th>EmployeeID</th>\n",
              "      <th>OrderDate</th>\n",
              "      <th>ShipperID</th>\n",
              "    </tr>\n",
              "  </thead>\n",
              "  <tbody>\n",
              "    <tr>\n",
              "      <th>0</th>\n",
              "      <td>1</td>\n",
              "      <td>Alfreds Futterkiste</td>\n",
              "      <td>Maria Anders</td>\n",
              "      <td>Obere Str. 57</td>\n",
              "      <td>Berlin</td>\n",
              "      <td>12209.0</td>\n",
              "      <td>Germany</td>\n",
              "      <td>NaN</td>\n",
              "      <td>NaN</td>\n",
              "      <td>None</td>\n",
              "      <td>NaN</td>\n",
              "    </tr>\n",
              "    <tr>\n",
              "      <th>1</th>\n",
              "      <td>2</td>\n",
              "      <td>Ana Trujillo Emparedados y helados</td>\n",
              "      <td>Ana Trujillo</td>\n",
              "      <td>Avda. de la Constitución 2222</td>\n",
              "      <td>México D.F.</td>\n",
              "      <td>5021.0</td>\n",
              "      <td>Mexico</td>\n",
              "      <td>10308.0</td>\n",
              "      <td>7.0</td>\n",
              "      <td>1996-09-18</td>\n",
              "      <td>3.0</td>\n",
              "    </tr>\n",
              "    <tr>\n",
              "      <th>2</th>\n",
              "      <td>3</td>\n",
              "      <td>Antonio Moreno Taquería</td>\n",
              "      <td>Antonio Moreno</td>\n",
              "      <td>Mataderos 2312</td>\n",
              "      <td>México D.F.</td>\n",
              "      <td>5023.0</td>\n",
              "      <td>Mexico</td>\n",
              "      <td>NaN</td>\n",
              "      <td>NaN</td>\n",
              "      <td>None</td>\n",
              "      <td>NaN</td>\n",
              "    </tr>\n",
              "    <tr>\n",
              "      <th>3</th>\n",
              "      <td>37</td>\n",
              "      <td>None</td>\n",
              "      <td>None</td>\n",
              "      <td>None</td>\n",
              "      <td>None</td>\n",
              "      <td>NaN</td>\n",
              "      <td>None</td>\n",
              "      <td>10309.0</td>\n",
              "      <td>3.0</td>\n",
              "      <td>1996-09-19</td>\n",
              "      <td>1.0</td>\n",
              "    </tr>\n",
              "    <tr>\n",
              "      <th>4</th>\n",
              "      <td>77</td>\n",
              "      <td>None</td>\n",
              "      <td>None</td>\n",
              "      <td>None</td>\n",
              "      <td>None</td>\n",
              "      <td>NaN</td>\n",
              "      <td>None</td>\n",
              "      <td>10310.0</td>\n",
              "      <td>8.0</td>\n",
              "      <td>1996-09-20</td>\n",
              "      <td>2.0</td>\n",
              "    </tr>\n",
              "  </tbody>\n",
              "</table>\n",
              "</div>"
            ],
            "text/plain": [
              "   CustomerID                        CustomerName     ContactName                        Address         City  PostalCode  Country  OrderID  EmployeeID   OrderDate  ShipperID\n",
              "0           1                 Alfreds Futterkiste    Maria Anders                  Obere Str. 57       Berlin     12209.0  Germany      NaN         NaN        None        NaN\n",
              "1           2  Ana Trujillo Emparedados y helados    Ana Trujillo  Avda. de la Constitución 2222  México D.F.      5021.0   Mexico  10308.0         7.0  1996-09-18        3.0\n",
              "2           3             Antonio Moreno Taquería  Antonio Moreno                 Mataderos 2312  México D.F.      5023.0   Mexico      NaN         NaN        None        NaN\n",
              "3          37                                None            None                           None         None         NaN     None  10309.0         3.0  1996-09-19        1.0\n",
              "4          77                                None            None                           None         None         NaN     None  10310.0         8.0  1996-09-20        2.0"
            ]
          },
          "metadata": {
            "tags": []
          },
          "execution_count": 26
        }
      ]
    },
    {
      "cell_type": "markdown",
      "metadata": {
        "colab_type": "text",
        "id": "nZHeCed96vgr"
      },
      "source": [
        "> * **Pandas** "
      ]
    },
    {
      "cell_type": "code",
      "metadata": {
        "colab_type": "code",
        "id": "v7UkJhEE6vgs",
        "colab": {
          "base_uri": "https://localhost:8080/",
          "height": 272
        },
        "outputId": "63bfe25b-9b3d-4030-9aa8-da438b2618f9"
      },
      "source": [
        "table1 = db[table_name1]\n",
        "table2 = db[table_name2]\n",
        "\n",
        "JOIN = pd.merge\n",
        "FULL_OUTER = 'outer'    \n",
        "ON = 'CustomerID'\n",
        "FROM_CLAUSE_WITH_JOIN = JOIN(table1, table2, FULL_OUTER, ON)\n",
        "\n",
        "SELECT_CLAUSE = ['CustomerID', 'CustomerName', 'ContactName', 'Address', 'City', 'PostalCode', 'Country', 'OrderID', 'EmployeeID', 'OrderDate', 'ShipperID']\n",
        "\n",
        "res = FROM_CLAUSE_WITH_JOIN[SELECT_CLAUSE]\n",
        "res"
      ],
      "execution_count": 27,
      "outputs": [
        {
          "output_type": "execute_result",
          "data": {
            "text/html": [
              "<div>\n",
              "<style scoped>\n",
              "    .dataframe tbody tr th:only-of-type {\n",
              "        vertical-align: middle;\n",
              "    }\n",
              "\n",
              "    .dataframe tbody tr th {\n",
              "        vertical-align: top;\n",
              "    }\n",
              "\n",
              "    .dataframe thead th {\n",
              "        text-align: right;\n",
              "    }\n",
              "</style>\n",
              "<table border=\"1\" class=\"dataframe\">\n",
              "  <thead>\n",
              "    <tr style=\"text-align: right;\">\n",
              "      <th></th>\n",
              "      <th>CustomerID</th>\n",
              "      <th>CustomerName</th>\n",
              "      <th>ContactName</th>\n",
              "      <th>Address</th>\n",
              "      <th>City</th>\n",
              "      <th>PostalCode</th>\n",
              "      <th>Country</th>\n",
              "      <th>OrderID</th>\n",
              "      <th>EmployeeID</th>\n",
              "      <th>OrderDate</th>\n",
              "      <th>ShipperID</th>\n",
              "    </tr>\n",
              "  </thead>\n",
              "  <tbody>\n",
              "    <tr>\n",
              "      <th>0</th>\n",
              "      <td>1</td>\n",
              "      <td>Alfreds Futterkiste</td>\n",
              "      <td>Maria Anders</td>\n",
              "      <td>Obere Str. 57</td>\n",
              "      <td>Berlin</td>\n",
              "      <td>12209.0</td>\n",
              "      <td>Germany</td>\n",
              "      <td>NaN</td>\n",
              "      <td>NaN</td>\n",
              "      <td>NaN</td>\n",
              "      <td>NaN</td>\n",
              "    </tr>\n",
              "    <tr>\n",
              "      <th>1</th>\n",
              "      <td>2</td>\n",
              "      <td>Ana Trujillo Emparedados y helados</td>\n",
              "      <td>Ana Trujillo</td>\n",
              "      <td>Avda. de la Constitución 2222</td>\n",
              "      <td>México D.F.</td>\n",
              "      <td>5021.0</td>\n",
              "      <td>Mexico</td>\n",
              "      <td>10308.0</td>\n",
              "      <td>7.0</td>\n",
              "      <td>1996-09-18</td>\n",
              "      <td>3.0</td>\n",
              "    </tr>\n",
              "    <tr>\n",
              "      <th>2</th>\n",
              "      <td>3</td>\n",
              "      <td>Antonio Moreno Taquería</td>\n",
              "      <td>Antonio Moreno</td>\n",
              "      <td>Mataderos 2312</td>\n",
              "      <td>México D.F.</td>\n",
              "      <td>5023.0</td>\n",
              "      <td>Mexico</td>\n",
              "      <td>NaN</td>\n",
              "      <td>NaN</td>\n",
              "      <td>NaN</td>\n",
              "      <td>NaN</td>\n",
              "    </tr>\n",
              "    <tr>\n",
              "      <th>3</th>\n",
              "      <td>37</td>\n",
              "      <td>NaN</td>\n",
              "      <td>NaN</td>\n",
              "      <td>NaN</td>\n",
              "      <td>NaN</td>\n",
              "      <td>NaN</td>\n",
              "      <td>NaN</td>\n",
              "      <td>10309.0</td>\n",
              "      <td>3.0</td>\n",
              "      <td>1996-09-19</td>\n",
              "      <td>1.0</td>\n",
              "    </tr>\n",
              "    <tr>\n",
              "      <th>4</th>\n",
              "      <td>77</td>\n",
              "      <td>NaN</td>\n",
              "      <td>NaN</td>\n",
              "      <td>NaN</td>\n",
              "      <td>NaN</td>\n",
              "      <td>NaN</td>\n",
              "      <td>NaN</td>\n",
              "      <td>10310.0</td>\n",
              "      <td>8.0</td>\n",
              "      <td>1996-09-20</td>\n",
              "      <td>2.0</td>\n",
              "    </tr>\n",
              "  </tbody>\n",
              "</table>\n",
              "</div>"
            ],
            "text/plain": [
              "   CustomerID                        CustomerName     ContactName                        Address         City  PostalCode  Country  OrderID  EmployeeID   OrderDate  ShipperID\n",
              "0           1                 Alfreds Futterkiste    Maria Anders                  Obere Str. 57       Berlin     12209.0  Germany      NaN         NaN         NaN        NaN\n",
              "1           2  Ana Trujillo Emparedados y helados    Ana Trujillo  Avda. de la Constitución 2222  México D.F.      5021.0   Mexico  10308.0         7.0  1996-09-18        3.0\n",
              "2           3             Antonio Moreno Taquería  Antonio Moreno                 Mataderos 2312  México D.F.      5023.0   Mexico      NaN         NaN         NaN        NaN\n",
              "3          37                                 NaN             NaN                            NaN          NaN         NaN      NaN  10309.0         3.0  1996-09-19        1.0\n",
              "4          77                                 NaN             NaN                            NaN          NaN         NaN      NaN  10310.0         8.0  1996-09-20        2.0"
            ]
          },
          "metadata": {
            "tags": []
          },
          "execution_count": 27
        }
      ]
    },
    {
      "cell_type": "markdown",
      "metadata": {
        "colab_type": "text",
        "id": "NlbU6VLtw1vD"
      },
      "source": [
        "### Query 30: *`INNER JOIN WITH WHERE`* - Find the name of all reviewers who have rated their ratings with a NULL value."
      ]
    },
    {
      "cell_type": "markdown",
      "metadata": {
        "colab_type": "text",
        "id": "VfpvXVi-w1vI"
      },
      "source": [
        "> * **SQL** "
      ]
    },
    {
      "cell_type": "code",
      "metadata": {
        "id": "iNFSzIDk8VSW",
        "colab_type": "code",
        "colab": {}
      },
      "source": [
        "table_name1 = 'reviewer'\n",
        "table_name2 = 'rating'"
      ],
      "execution_count": 0,
      "outputs": []
    },
    {
      "cell_type": "code",
      "metadata": {
        "id": "VQaoD2lt8Uqd",
        "colab_type": "code",
        "colab": {
          "base_uri": "https://localhost:8080/",
          "height": 111
        },
        "outputId": "ad5f6e70-8cba-46c7-95dc-68125397b511"
      },
      "source": [
        "rs = con.execute(f'''SELECT {table_name1}.rev_name\n",
        "                     FROM {table_name1}  AS {table_name1}\n",
        "                     INNER JOIN {table_name2} AS {table_name2}\n",
        "                     ON {table_name1}.rev_id = {table_name2}.rev_id\n",
        "                     WHERE {table_name2}.rev_stars IS NULL\n",
        "                     ''')\n",
        "pd.DataFrame(rs.fetchall(), columns=['rev_name'])"
      ],
      "execution_count": 29,
      "outputs": [
        {
          "output_type": "execute_result",
          "data": {
            "text/html": [
              "<div>\n",
              "<style scoped>\n",
              "    .dataframe tbody tr th:only-of-type {\n",
              "        vertical-align: middle;\n",
              "    }\n",
              "\n",
              "    .dataframe tbody tr th {\n",
              "        vertical-align: top;\n",
              "    }\n",
              "\n",
              "    .dataframe thead th {\n",
              "        text-align: right;\n",
              "    }\n",
              "</style>\n",
              "<table border=\"1\" class=\"dataframe\">\n",
              "  <thead>\n",
              "    <tr style=\"text-align: right;\">\n",
              "      <th></th>\n",
              "      <th>rev_name</th>\n",
              "    </tr>\n",
              "  </thead>\n",
              "  <tbody>\n",
              "    <tr>\n",
              "      <th>0</th>\n",
              "      <td>NealWruck</td>\n",
              "    </tr>\n",
              "    <tr>\n",
              "      <th>1</th>\n",
              "      <td>ScottLeBrun</td>\n",
              "    </tr>\n",
              "  </tbody>\n",
              "</table>\n",
              "</div>"
            ],
            "text/plain": [
              "      rev_name\n",
              "0    NealWruck\n",
              "1  ScottLeBrun"
            ]
          },
          "metadata": {
            "tags": []
          },
          "execution_count": 29
        }
      ]
    },
    {
      "cell_type": "markdown",
      "metadata": {
        "colab_type": "text",
        "id": "nl8qfq52kdp7"
      },
      "source": [
        "> * **Pandas** "
      ]
    },
    {
      "cell_type": "code",
      "metadata": {
        "colab_type": "code",
        "id": "t42ufYXTw1vL",
        "colab": {
          "base_uri": "https://localhost:8080/",
          "height": 111
        },
        "outputId": "290d8217-5d84-498d-d730-f1f0b9e322f0"
      },
      "source": [
        "table1 = db[table_name1]\n",
        "table2 = db[table_name2]\n",
        "\n",
        "JOIN = pd.merge\n",
        "INNER = 'inner'    \n",
        "WHERE_CONDITION = (table2['rev_stars'].isnull())\n",
        "WHERE_CLAUSE = WHERE_CONDITION\n",
        "\n",
        "FROM_JOIN_WHERE = JOIN(table1, table2[WHERE_CLAUSE], INNER)\n",
        "\n",
        "SELECT_CLAUSE = ['rev_name']\n",
        "\n",
        "res = FROM_JOIN_WHERE[SELECT_CLAUSE]\n",
        "res"
      ],
      "execution_count": 30,
      "outputs": [
        {
          "output_type": "execute_result",
          "data": {
            "text/html": [
              "<div>\n",
              "<style scoped>\n",
              "    .dataframe tbody tr th:only-of-type {\n",
              "        vertical-align: middle;\n",
              "    }\n",
              "\n",
              "    .dataframe tbody tr th {\n",
              "        vertical-align: top;\n",
              "    }\n",
              "\n",
              "    .dataframe thead th {\n",
              "        text-align: right;\n",
              "    }\n",
              "</style>\n",
              "<table border=\"1\" class=\"dataframe\">\n",
              "  <thead>\n",
              "    <tr style=\"text-align: right;\">\n",
              "      <th></th>\n",
              "      <th>rev_name</th>\n",
              "    </tr>\n",
              "  </thead>\n",
              "  <tbody>\n",
              "    <tr>\n",
              "      <th>0</th>\n",
              "      <td>NealWruck</td>\n",
              "    </tr>\n",
              "    <tr>\n",
              "      <th>1</th>\n",
              "      <td>ScottLeBrun</td>\n",
              "    </tr>\n",
              "  </tbody>\n",
              "</table>\n",
              "</div>"
            ],
            "text/plain": [
              "      rev_name\n",
              "0    NealWruck\n",
              "1  ScottLeBrun"
            ]
          },
          "metadata": {
            "tags": []
          },
          "execution_count": 30
        }
      ]
    },
    {
      "cell_type": "markdown",
      "metadata": {
        "colab_type": "text",
        "id": "0aTDGoIeL5NY"
      },
      "source": [
        "### Query 30: *`LEFT JOIN WITH WHERE`* - Find the list the first and last names of all the actors who were cast in the movie 'Annie Hall', and the roles they played in that production."
      ]
    },
    {
      "cell_type": "markdown",
      "metadata": {
        "colab_type": "text",
        "id": "nNe4zSuuL5Na"
      },
      "source": [
        "> * **SQL** - LEFT JOIN between movie and movie_cast"
      ]
    },
    {
      "cell_type": "code",
      "metadata": {
        "colab_type": "code",
        "id": "kk7Mypz4L5Nc",
        "colab": {}
      },
      "source": [
        "table_name1, table_name2, table_name3 = 'actor', 'movie_cast', 'movie'"
      ],
      "execution_count": 0,
      "outputs": []
    },
    {
      "cell_type": "code",
      "metadata": {
        "colab_type": "code",
        "id": "F5vJIBZ6L5Ni",
        "colab": {
          "base_uri": "https://localhost:8080/",
          "height": 0
        },
        "outputId": "fe177d10-9c0a-45e7-bb19-e2e6181ec64c"
      },
      "source": [
        "rs = con.execute(f'''SELECT {table_name1}.act_fname, {table_name1}.act_lname, act_role.role\n",
        "                     FROM {table_name1} AS {table_name1}\n",
        "                     INNER JOIN (SELECT {table_name2}.act_id AS act_id, {table_name2}.role AS role\n",
        "                                 FROM {table_name3}  AS {table_name3}\n",
        "                                 LEFT JOIN {table_name2} AS {table_name2}\n",
        "                                 ON {table_name3}.mov_id = {table_name2}.mov_id\n",
        "                                 WHERE {table_name3}.mov_title = 'AnnieHall') AS act_role\n",
        "                     ON act_role.act_id = {table_name1}.act_id\n",
        "                     ''')\n",
        "pd.DataFrame(rs.fetchall(), columns=['act_fname', 'act_lname', 'role'])"
      ],
      "execution_count": 32,
      "outputs": [
        {
          "output_type": "execute_result",
          "data": {
            "text/html": [
              "<div>\n",
              "<style scoped>\n",
              "    .dataframe tbody tr th:only-of-type {\n",
              "        vertical-align: middle;\n",
              "    }\n",
              "\n",
              "    .dataframe tbody tr th {\n",
              "        vertical-align: top;\n",
              "    }\n",
              "\n",
              "    .dataframe thead th {\n",
              "        text-align: right;\n",
              "    }\n",
              "</style>\n",
              "<table border=\"1\" class=\"dataframe\">\n",
              "  <thead>\n",
              "    <tr style=\"text-align: right;\">\n",
              "      <th></th>\n",
              "      <th>act_fname</th>\n",
              "      <th>act_lname</th>\n",
              "      <th>role</th>\n",
              "    </tr>\n",
              "  </thead>\n",
              "  <tbody>\n",
              "    <tr>\n",
              "      <th>0</th>\n",
              "      <td>Woody</td>\n",
              "      <td>Allen</td>\n",
              "      <td>AlvySinger</td>\n",
              "    </tr>\n",
              "  </tbody>\n",
              "</table>\n",
              "</div>"
            ],
            "text/plain": [
              "  act_fname act_lname        role\n",
              "0     Woody     Allen  AlvySinger"
            ]
          },
          "metadata": {
            "tags": []
          },
          "execution_count": 32
        }
      ]
    },
    {
      "cell_type": "markdown",
      "metadata": {
        "colab_type": "text",
        "id": "1qoQzZGhL5Nm"
      },
      "source": [
        "> * **Pandas** - LEFT JOIN between movie and movie_cast"
      ]
    },
    {
      "cell_type": "code",
      "metadata": {
        "colab_type": "code",
        "id": "uPK0rviuL5Nn",
        "colab": {
          "base_uri": "https://localhost:8080/",
          "height": 0
        },
        "outputId": "314ca16c-3c95-48b5-c009-7abaa7376551"
      },
      "source": [
        "table1 = db[table_name1]\n",
        "table2 = db[table_name2]\n",
        "table3 = db[table_name3]\n",
        "\n",
        "JOIN = pd.merge\n",
        "LEFT = 'left'    \n",
        "WHERE_CONDITION = (table3['mov_title'] ==  'AnnieHall')\n",
        "WHERE_CLAUSE = WHERE_CONDITION\n",
        "ON = 'mov_id'\n",
        "FROM_JOIN_WHERE = JOIN(table3[WHERE_CLAUSE], table2, LEFT, ON)\n",
        "\n",
        "SELECT_CLAUSE = ['act_id', 'role']\n",
        "\n",
        "new_table = FROM_JOIN_WHERE[SELECT_CLAUSE]\n",
        "\n",
        "SELECT_CLAUSE1 = ['act_fname', 'act_lname', 'role']\n",
        "INNER = 'inner'\n",
        "ON = 'act_id'\n",
        "FROM_JOIN = JOIN(table1, new_table, INNER)\n",
        "res = FROM_JOIN[SELECT_CLAUSE1]\n",
        "res"
      ],
      "execution_count": 33,
      "outputs": [
        {
          "output_type": "execute_result",
          "data": {
            "text/html": [
              "<div>\n",
              "<style scoped>\n",
              "    .dataframe tbody tr th:only-of-type {\n",
              "        vertical-align: middle;\n",
              "    }\n",
              "\n",
              "    .dataframe tbody tr th {\n",
              "        vertical-align: top;\n",
              "    }\n",
              "\n",
              "    .dataframe thead th {\n",
              "        text-align: right;\n",
              "    }\n",
              "</style>\n",
              "<table border=\"1\" class=\"dataframe\">\n",
              "  <thead>\n",
              "    <tr style=\"text-align: right;\">\n",
              "      <th></th>\n",
              "      <th>act_fname</th>\n",
              "      <th>act_lname</th>\n",
              "      <th>role</th>\n",
              "    </tr>\n",
              "  </thead>\n",
              "  <tbody>\n",
              "    <tr>\n",
              "      <th>0</th>\n",
              "      <td>Woody</td>\n",
              "      <td>Allen</td>\n",
              "      <td>AlvySinger</td>\n",
              "    </tr>\n",
              "  </tbody>\n",
              "</table>\n",
              "</div>"
            ],
            "text/plain": [
              "  act_fname act_lname        role\n",
              "0     Woody     Allen  AlvySinger"
            ]
          },
          "metadata": {
            "tags": []
          },
          "execution_count": 33
        }
      ]
    },
    {
      "cell_type": "markdown",
      "metadata": {
        "colab_type": "text",
        "id": "QKJqmOXMXj-V"
      },
      "source": [
        "### Query 31: *`RIGHT JOIN WITH WHERE`* - Write a query to list all the actors who have acted in any movie between 1990 and 2000."
      ]
    },
    {
      "cell_type": "markdown",
      "metadata": {
        "colab_type": "text",
        "id": "yVOce7JFXj-Y"
      },
      "source": [
        "> * **SQL** - The result of RIGHT JOIN between 'movie_cast' and 'movie' is equivalent to that of LEFT JOIN between 'movie' and 'movie_cast'."
      ]
    },
    {
      "cell_type": "code",
      "metadata": {
        "colab_type": "code",
        "id": "MLVUpFC-Xj-a",
        "colab": {}
      },
      "source": [
        "table_name1, table_name2, table_name3 = 'actor', 'movie_cast', 'movie'"
      ],
      "execution_count": 0,
      "outputs": []
    },
    {
      "cell_type": "code",
      "metadata": {
        "id": "9ZCIarvEbBcK",
        "colab_type": "code",
        "colab": {
          "base_uri": "https://localhost:8080/",
          "height": 0
        },
        "outputId": "78555dae-ce50-4709-9371-3e905bd07c79"
      },
      "source": [
        "rs = con.execute(f''' SELECT {table_name1}.act_fname, {table_name1}.act_lname, act_movie.mov_title,  act_movie.mov_year\n",
        "                     FROM (SELECT act_id, mov_year, mov_title\n",
        "                           FROM {table_name3}  AS {table_name3}\n",
        "                           LEFT JOIN {table_name2} AS {table_name2}\n",
        "                           ON {table_name3}.mov_id = {table_name2}.mov_id\n",
        "                           WHERE {table_name3}.mov_year BETWEEN 1990 AND 2000) as act_movie\n",
        "                     LEFT JOIN  {table_name1}  AS {table_name1}\n",
        "                     ON {table_name1}.act_id = act_movie.act_id\n",
        "                  ''')\n",
        "pd.DataFrame(rs.fetchall(), columns = ['act_fname', 'act_lname', 'mov_title', 'mov_year'])"
      ],
      "execution_count": 35,
      "outputs": [
        {
          "output_type": "execute_result",
          "data": {
            "text/html": [
              "<div>\n",
              "<style scoped>\n",
              "    .dataframe tbody tr th:only-of-type {\n",
              "        vertical-align: middle;\n",
              "    }\n",
              "\n",
              "    .dataframe tbody tr th {\n",
              "        vertical-align: top;\n",
              "    }\n",
              "\n",
              "    .dataframe thead th {\n",
              "        text-align: right;\n",
              "    }\n",
              "</style>\n",
              "<table border=\"1\" class=\"dataframe\">\n",
              "  <thead>\n",
              "    <tr style=\"text-align: right;\">\n",
              "      <th></th>\n",
              "      <th>act_fname</th>\n",
              "      <th>act_lname</th>\n",
              "      <th>mov_title</th>\n",
              "      <th>mov_year</th>\n",
              "    </tr>\n",
              "  </thead>\n",
              "  <tbody>\n",
              "    <tr>\n",
              "      <th>0</th>\n",
              "      <td>Nicole</td>\n",
              "      <td>Kidman</td>\n",
              "      <td>EyesWideShut</td>\n",
              "      <td>1999</td>\n",
              "    </tr>\n",
              "    <tr>\n",
              "      <th>1</th>\n",
              "      <td>Stephen</td>\n",
              "      <td>Baldwin</td>\n",
              "      <td>TheUsualSuspects</td>\n",
              "      <td>1995</td>\n",
              "    </tr>\n",
              "    <tr>\n",
              "      <th>2</th>\n",
              "      <td>Mark</td>\n",
              "      <td>Wahlberg</td>\n",
              "      <td>BoogieNights</td>\n",
              "      <td>1997</td>\n",
              "    </tr>\n",
              "    <tr>\n",
              "      <th>3</th>\n",
              "      <td>Claire</td>\n",
              "      <td>Danes</td>\n",
              "      <td>PrincessMononoke</td>\n",
              "      <td>1997</td>\n",
              "    </tr>\n",
              "    <tr>\n",
              "      <th>4</th>\n",
              "      <td>Tim</td>\n",
              "      <td>Robbins</td>\n",
              "      <td>TheShawshankRedemption</td>\n",
              "      <td>1994</td>\n",
              "    </tr>\n",
              "    <tr>\n",
              "      <th>5</th>\n",
              "      <td>Kevin</td>\n",
              "      <td>Spacey</td>\n",
              "      <td>AmericanBeauty</td>\n",
              "      <td>1999</td>\n",
              "    </tr>\n",
              "    <tr>\n",
              "      <th>6</th>\n",
              "      <td>Kate</td>\n",
              "      <td>Winslet</td>\n",
              "      <td>Titanic</td>\n",
              "      <td>1997</td>\n",
              "    </tr>\n",
              "    <tr>\n",
              "      <th>7</th>\n",
              "      <td>Robin</td>\n",
              "      <td>Williams</td>\n",
              "      <td>GoodWillHunting</td>\n",
              "      <td>1997</td>\n",
              "    </tr>\n",
              "    <tr>\n",
              "      <th>8</th>\n",
              "      <td>Ewan</td>\n",
              "      <td>McGregor</td>\n",
              "      <td>Trainspotting</td>\n",
              "      <td>1996</td>\n",
              "    </tr>\n",
              "    <tr>\n",
              "      <th>9</th>\n",
              "      <td>None</td>\n",
              "      <td>None</td>\n",
              "      <td>Braveheart</td>\n",
              "      <td>1995</td>\n",
              "    </tr>\n",
              "  </tbody>\n",
              "</table>\n",
              "</div>"
            ],
            "text/plain": [
              "  act_fname act_lname               mov_title  mov_year\n",
              "0    Nicole    Kidman            EyesWideShut      1999\n",
              "1   Stephen   Baldwin        TheUsualSuspects      1995\n",
              "2      Mark  Wahlberg            BoogieNights      1997\n",
              "3    Claire     Danes        PrincessMononoke      1997\n",
              "4       Tim   Robbins  TheShawshankRedemption      1994\n",
              "5     Kevin    Spacey          AmericanBeauty      1999\n",
              "6      Kate   Winslet                 Titanic      1997\n",
              "7     Robin  Williams         GoodWillHunting      1997\n",
              "8      Ewan  McGregor           Trainspotting      1996\n",
              "9      None      None              Braveheart      1995"
            ]
          },
          "metadata": {
            "tags": []
          },
          "execution_count": 35
        }
      ]
    },
    {
      "cell_type": "code",
      "metadata": {
        "id": "I6_41kGR3nMp",
        "colab_type": "code",
        "colab": {
          "base_uri": "https://localhost:8080/",
          "height": 0
        },
        "outputId": "18879274-3dbd-46b2-c39f-b40d31eb6253"
      },
      "source": [
        "rs = con.execute(f''' SELECT {table_name1}.act_fname, {table_name1}.act_lname, {table_name3}.mov_title,  {table_name3}.mov_year\n",
        "                      FROM {table_name3}  AS {table_name3} \n",
        "                      LEFT JOIN {table_name2} AS {table_name2}                       \n",
        "                      ON {table_name3}.mov_id = {table_name2}.mov_id\n",
        "                      LEFT JOIN  {table_name1}  AS {table_name1}                       \n",
        "                      ON {table_name1}.act_id = {table_name2}.act_id\n",
        "                      WHERE {table_name3}.mov_year BETWEEN 1990 AND 2000\n",
        "                 ''')\n",
        "pd.DataFrame(rs.fetchall(), columns = ['act_fname', 'act_lname', 'mov_title', 'mov_year'])"
      ],
      "execution_count": 36,
      "outputs": [
        {
          "output_type": "execute_result",
          "data": {
            "text/html": [
              "<div>\n",
              "<style scoped>\n",
              "    .dataframe tbody tr th:only-of-type {\n",
              "        vertical-align: middle;\n",
              "    }\n",
              "\n",
              "    .dataframe tbody tr th {\n",
              "        vertical-align: top;\n",
              "    }\n",
              "\n",
              "    .dataframe thead th {\n",
              "        text-align: right;\n",
              "    }\n",
              "</style>\n",
              "<table border=\"1\" class=\"dataframe\">\n",
              "  <thead>\n",
              "    <tr style=\"text-align: right;\">\n",
              "      <th></th>\n",
              "      <th>act_fname</th>\n",
              "      <th>act_lname</th>\n",
              "      <th>mov_title</th>\n",
              "      <th>mov_year</th>\n",
              "    </tr>\n",
              "  </thead>\n",
              "  <tbody>\n",
              "    <tr>\n",
              "      <th>0</th>\n",
              "      <td>Nicole</td>\n",
              "      <td>Kidman</td>\n",
              "      <td>EyesWideShut</td>\n",
              "      <td>1999</td>\n",
              "    </tr>\n",
              "    <tr>\n",
              "      <th>1</th>\n",
              "      <td>Stephen</td>\n",
              "      <td>Baldwin</td>\n",
              "      <td>TheUsualSuspects</td>\n",
              "      <td>1995</td>\n",
              "    </tr>\n",
              "    <tr>\n",
              "      <th>2</th>\n",
              "      <td>Mark</td>\n",
              "      <td>Wahlberg</td>\n",
              "      <td>BoogieNights</td>\n",
              "      <td>1997</td>\n",
              "    </tr>\n",
              "    <tr>\n",
              "      <th>3</th>\n",
              "      <td>Claire</td>\n",
              "      <td>Danes</td>\n",
              "      <td>PrincessMononoke</td>\n",
              "      <td>1997</td>\n",
              "    </tr>\n",
              "    <tr>\n",
              "      <th>4</th>\n",
              "      <td>Tim</td>\n",
              "      <td>Robbins</td>\n",
              "      <td>TheShawshankRedemption</td>\n",
              "      <td>1994</td>\n",
              "    </tr>\n",
              "    <tr>\n",
              "      <th>5</th>\n",
              "      <td>Kevin</td>\n",
              "      <td>Spacey</td>\n",
              "      <td>AmericanBeauty</td>\n",
              "      <td>1999</td>\n",
              "    </tr>\n",
              "    <tr>\n",
              "      <th>6</th>\n",
              "      <td>Kate</td>\n",
              "      <td>Winslet</td>\n",
              "      <td>Titanic</td>\n",
              "      <td>1997</td>\n",
              "    </tr>\n",
              "    <tr>\n",
              "      <th>7</th>\n",
              "      <td>Robin</td>\n",
              "      <td>Williams</td>\n",
              "      <td>GoodWillHunting</td>\n",
              "      <td>1997</td>\n",
              "    </tr>\n",
              "    <tr>\n",
              "      <th>8</th>\n",
              "      <td>Ewan</td>\n",
              "      <td>McGregor</td>\n",
              "      <td>Trainspotting</td>\n",
              "      <td>1996</td>\n",
              "    </tr>\n",
              "    <tr>\n",
              "      <th>9</th>\n",
              "      <td>None</td>\n",
              "      <td>None</td>\n",
              "      <td>Braveheart</td>\n",
              "      <td>1995</td>\n",
              "    </tr>\n",
              "  </tbody>\n",
              "</table>\n",
              "</div>"
            ],
            "text/plain": [
              "  act_fname act_lname               mov_title  mov_year\n",
              "0    Nicole    Kidman            EyesWideShut      1999\n",
              "1   Stephen   Baldwin        TheUsualSuspects      1995\n",
              "2      Mark  Wahlberg            BoogieNights      1997\n",
              "3    Claire     Danes        PrincessMononoke      1997\n",
              "4       Tim   Robbins  TheShawshankRedemption      1994\n",
              "5     Kevin    Spacey          AmericanBeauty      1999\n",
              "6      Kate   Winslet                 Titanic      1997\n",
              "7     Robin  Williams         GoodWillHunting      1997\n",
              "8      Ewan  McGregor           Trainspotting      1996\n",
              "9      None      None              Braveheart      1995"
            ]
          },
          "metadata": {
            "tags": []
          },
          "execution_count": 36
        }
      ]
    },
    {
      "cell_type": "markdown",
      "metadata": {
        "colab_type": "text",
        "id": "XTfYoy9EXj-g"
      },
      "source": [
        "> * **Pandas** "
      ]
    },
    {
      "cell_type": "code",
      "metadata": {
        "colab_type": "code",
        "id": "G2TJ9JsTXj-i",
        "colab": {
          "base_uri": "https://localhost:8080/",
          "height": 0
        },
        "outputId": "dacfc23e-0f47-40f5-8166-c2712587b616"
      },
      "source": [
        "table1 = db[table_name1]\n",
        "table2 = db[table_name2]\n",
        "table3 = db[table_name3]\n",
        "\n",
        "JOIN = pd.merge\n",
        "RIGHT = 'right'    \n",
        "WHERE_CONDITION = (table3['mov_year'].isin(range(1990, 2001, 1)))\n",
        "WHERE_CLAUSE = WHERE_CONDITION\n",
        "ON = 'mov_id'\n",
        "FROM_JOIN_WHERE = JOIN(table2, table3[WHERE_CLAUSE], RIGHT, ON)\n",
        "\n",
        "SELECT_CLAUSE = ['act_id', 'mov_year', 'mov_title']\n",
        "\n",
        "new_table = FROM_JOIN_WHERE[SELECT_CLAUSE]\n",
        "\n",
        "SELECT_CLAUSE1 = ['act_fname', 'act_lname', 'mov_title', 'mov_year']\n",
        "RIGHT = 'right'\n",
        "ON = 'act_id'\n",
        "FROM_JOIN = JOIN(table1, new_table, RIGHT)\n",
        "res = FROM_JOIN[SELECT_CLAUSE1]\n",
        "res"
      ],
      "execution_count": 37,
      "outputs": [
        {
          "output_type": "execute_result",
          "data": {
            "text/html": [
              "<div>\n",
              "<style scoped>\n",
              "    .dataframe tbody tr th:only-of-type {\n",
              "        vertical-align: middle;\n",
              "    }\n",
              "\n",
              "    .dataframe tbody tr th {\n",
              "        vertical-align: top;\n",
              "    }\n",
              "\n",
              "    .dataframe thead th {\n",
              "        text-align: right;\n",
              "    }\n",
              "</style>\n",
              "<table border=\"1\" class=\"dataframe\">\n",
              "  <thead>\n",
              "    <tr style=\"text-align: right;\">\n",
              "      <th></th>\n",
              "      <th>act_fname</th>\n",
              "      <th>act_lname</th>\n",
              "      <th>mov_title</th>\n",
              "      <th>mov_year</th>\n",
              "    </tr>\n",
              "  </thead>\n",
              "  <tbody>\n",
              "    <tr>\n",
              "      <th>0</th>\n",
              "      <td>Nicole</td>\n",
              "      <td>Kidman</td>\n",
              "      <td>EyesWideShut</td>\n",
              "      <td>1999</td>\n",
              "    </tr>\n",
              "    <tr>\n",
              "      <th>1</th>\n",
              "      <td>Stephen</td>\n",
              "      <td>Baldwin</td>\n",
              "      <td>TheUsualSuspects</td>\n",
              "      <td>1995</td>\n",
              "    </tr>\n",
              "    <tr>\n",
              "      <th>2</th>\n",
              "      <td>Mark</td>\n",
              "      <td>Wahlberg</td>\n",
              "      <td>BoogieNights</td>\n",
              "      <td>1997</td>\n",
              "    </tr>\n",
              "    <tr>\n",
              "      <th>3</th>\n",
              "      <td>Claire</td>\n",
              "      <td>Danes</td>\n",
              "      <td>PrincessMononoke</td>\n",
              "      <td>1997</td>\n",
              "    </tr>\n",
              "    <tr>\n",
              "      <th>4</th>\n",
              "      <td>Tim</td>\n",
              "      <td>Robbins</td>\n",
              "      <td>TheShawshankRedemption</td>\n",
              "      <td>1994</td>\n",
              "    </tr>\n",
              "    <tr>\n",
              "      <th>5</th>\n",
              "      <td>Kevin</td>\n",
              "      <td>Spacey</td>\n",
              "      <td>AmericanBeauty</td>\n",
              "      <td>1999</td>\n",
              "    </tr>\n",
              "    <tr>\n",
              "      <th>6</th>\n",
              "      <td>Kate</td>\n",
              "      <td>Winslet</td>\n",
              "      <td>Titanic</td>\n",
              "      <td>1997</td>\n",
              "    </tr>\n",
              "    <tr>\n",
              "      <th>7</th>\n",
              "      <td>Robin</td>\n",
              "      <td>Williams</td>\n",
              "      <td>GoodWillHunting</td>\n",
              "      <td>1997</td>\n",
              "    </tr>\n",
              "    <tr>\n",
              "      <th>8</th>\n",
              "      <td>Ewan</td>\n",
              "      <td>McGregor</td>\n",
              "      <td>Trainspotting</td>\n",
              "      <td>1996</td>\n",
              "    </tr>\n",
              "    <tr>\n",
              "      <th>9</th>\n",
              "      <td>NaN</td>\n",
              "      <td>NaN</td>\n",
              "      <td>Braveheart</td>\n",
              "      <td>1995</td>\n",
              "    </tr>\n",
              "  </tbody>\n",
              "</table>\n",
              "</div>"
            ],
            "text/plain": [
              "  act_fname act_lname               mov_title  mov_year\n",
              "0    Nicole    Kidman            EyesWideShut      1999\n",
              "1   Stephen   Baldwin        TheUsualSuspects      1995\n",
              "2      Mark  Wahlberg            BoogieNights      1997\n",
              "3    Claire     Danes        PrincessMononoke      1997\n",
              "4       Tim   Robbins  TheShawshankRedemption      1994\n",
              "5     Kevin    Spacey          AmericanBeauty      1999\n",
              "6      Kate   Winslet                 Titanic      1997\n",
              "7     Robin  Williams         GoodWillHunting      1997\n",
              "8      Ewan  McGregor           Trainspotting      1996\n",
              "9       NaN       NaN              Braveheart      1995"
            ]
          },
          "metadata": {
            "tags": []
          },
          "execution_count": 37
        }
      ]
    },
    {
      "cell_type": "code",
      "metadata": {
        "id": "dymMdxA4x6DC",
        "colab_type": "code",
        "colab": {
          "base_uri": "https://localhost:8080/",
          "height": 0
        },
        "outputId": "b541c613-a982-412b-a41d-525493404b0f"
      },
      "source": [
        "table2.merge(table3, 'right', 'mov_id').merge(table1, 'right', 'act_id')[SELECT_CLAUSE1]"
      ],
      "execution_count": 38,
      "outputs": [
        {
          "output_type": "execute_result",
          "data": {
            "text/html": [
              "<div>\n",
              "<style scoped>\n",
              "    .dataframe tbody tr th:only-of-type {\n",
              "        vertical-align: middle;\n",
              "    }\n",
              "\n",
              "    .dataframe tbody tr th {\n",
              "        vertical-align: top;\n",
              "    }\n",
              "\n",
              "    .dataframe thead th {\n",
              "        text-align: right;\n",
              "    }\n",
              "</style>\n",
              "<table border=\"1\" class=\"dataframe\">\n",
              "  <thead>\n",
              "    <tr style=\"text-align: right;\">\n",
              "      <th></th>\n",
              "      <th>act_fname</th>\n",
              "      <th>act_lname</th>\n",
              "      <th>mov_title</th>\n",
              "      <th>mov_year</th>\n",
              "    </tr>\n",
              "  </thead>\n",
              "  <tbody>\n",
              "    <tr>\n",
              "      <th>0</th>\n",
              "      <td>James</td>\n",
              "      <td>Stewart</td>\n",
              "      <td>Vertigo</td>\n",
              "      <td>1958.0</td>\n",
              "    </tr>\n",
              "    <tr>\n",
              "      <th>1</th>\n",
              "      <td>Deborah</td>\n",
              "      <td>Kerr</td>\n",
              "      <td>TheInnocents</td>\n",
              "      <td>1961.0</td>\n",
              "    </tr>\n",
              "    <tr>\n",
              "      <th>2</th>\n",
              "      <td>Peter</td>\n",
              "      <td>OToole</td>\n",
              "      <td>LawrenceofArabia</td>\n",
              "      <td>1962.0</td>\n",
              "    </tr>\n",
              "    <tr>\n",
              "      <th>3</th>\n",
              "      <td>Robert</td>\n",
              "      <td>DeNiro</td>\n",
              "      <td>TheDeerHunter</td>\n",
              "      <td>1978.0</td>\n",
              "    </tr>\n",
              "    <tr>\n",
              "      <th>4</th>\n",
              "      <td>F.Murray</td>\n",
              "      <td>Abraham</td>\n",
              "      <td>Amadeus</td>\n",
              "      <td>1984.0</td>\n",
              "    </tr>\n",
              "    <tr>\n",
              "      <th>5</th>\n",
              "      <td>Harrison</td>\n",
              "      <td>Ford</td>\n",
              "      <td>BladeRunner</td>\n",
              "      <td>1982.0</td>\n",
              "    </tr>\n",
              "    <tr>\n",
              "      <th>6</th>\n",
              "      <td>Nicole</td>\n",
              "      <td>Kidman</td>\n",
              "      <td>EyesWideShut</td>\n",
              "      <td>1999.0</td>\n",
              "    </tr>\n",
              "    <tr>\n",
              "      <th>7</th>\n",
              "      <td>Stephen</td>\n",
              "      <td>Baldwin</td>\n",
              "      <td>TheUsualSuspects</td>\n",
              "      <td>1995.0</td>\n",
              "    </tr>\n",
              "    <tr>\n",
              "      <th>8</th>\n",
              "      <td>Mark</td>\n",
              "      <td>Wahlberg</td>\n",
              "      <td>BoogieNights</td>\n",
              "      <td>1997.0</td>\n",
              "    </tr>\n",
              "    <tr>\n",
              "      <th>9</th>\n",
              "      <td>Woody</td>\n",
              "      <td>Allen</td>\n",
              "      <td>AnnieHall</td>\n",
              "      <td>1977.0</td>\n",
              "    </tr>\n",
              "    <tr>\n",
              "      <th>10</th>\n",
              "      <td>Claire</td>\n",
              "      <td>Danes</td>\n",
              "      <td>PrincessMononoke</td>\n",
              "      <td>1997.0</td>\n",
              "    </tr>\n",
              "    <tr>\n",
              "      <th>11</th>\n",
              "      <td>Tim</td>\n",
              "      <td>Robbins</td>\n",
              "      <td>TheShawshankRedemption</td>\n",
              "      <td>1994.0</td>\n",
              "    </tr>\n",
              "    <tr>\n",
              "      <th>12</th>\n",
              "      <td>Kevin</td>\n",
              "      <td>Spacey</td>\n",
              "      <td>AmericanBeauty</td>\n",
              "      <td>1999.0</td>\n",
              "    </tr>\n",
              "    <tr>\n",
              "      <th>13</th>\n",
              "      <td>Kevin</td>\n",
              "      <td>Spacey</td>\n",
              "      <td>BeyondtheSea</td>\n",
              "      <td>2004.0</td>\n",
              "    </tr>\n",
              "    <tr>\n",
              "      <th>14</th>\n",
              "      <td>Kate</td>\n",
              "      <td>Winslet</td>\n",
              "      <td>Titanic</td>\n",
              "      <td>1997.0</td>\n",
              "    </tr>\n",
              "    <tr>\n",
              "      <th>15</th>\n",
              "      <td>Robin</td>\n",
              "      <td>Williams</td>\n",
              "      <td>GoodWillHunting</td>\n",
              "      <td>1997.0</td>\n",
              "    </tr>\n",
              "    <tr>\n",
              "      <th>16</th>\n",
              "      <td>Jon</td>\n",
              "      <td>Voight</td>\n",
              "      <td>Deliverance</td>\n",
              "      <td>1972.0</td>\n",
              "    </tr>\n",
              "    <tr>\n",
              "      <th>17</th>\n",
              "      <td>Ewan</td>\n",
              "      <td>McGregor</td>\n",
              "      <td>Trainspotting</td>\n",
              "      <td>1996.0</td>\n",
              "    </tr>\n",
              "    <tr>\n",
              "      <th>18</th>\n",
              "      <td>Maggie</td>\n",
              "      <td>Gyllenhaal</td>\n",
              "      <td>DonnieDarko</td>\n",
              "      <td>2001.0</td>\n",
              "    </tr>\n",
              "    <tr>\n",
              "      <th>19</th>\n",
              "      <td>Dev</td>\n",
              "      <td>Patel</td>\n",
              "      <td>SlumdogMillionaire</td>\n",
              "      <td>2008.0</td>\n",
              "    </tr>\n",
              "    <tr>\n",
              "      <th>20</th>\n",
              "      <td>Sigourney</td>\n",
              "      <td>Weaver</td>\n",
              "      <td>Aliens</td>\n",
              "      <td>1986.0</td>\n",
              "    </tr>\n",
              "    <tr>\n",
              "      <th>21</th>\n",
              "      <td>Jack</td>\n",
              "      <td>Nicholson</td>\n",
              "      <td>Chinatown</td>\n",
              "      <td>1974.0</td>\n",
              "    </tr>\n",
              "    <tr>\n",
              "      <th>22</th>\n",
              "      <td>Christian</td>\n",
              "      <td>Bale</td>\n",
              "      <td>ThePrestige</td>\n",
              "      <td>2006.0</td>\n",
              "    </tr>\n",
              "    <tr>\n",
              "      <th>23</th>\n",
              "      <td>David</td>\n",
              "      <td>Aston</td>\n",
              "      <td>NaN</td>\n",
              "      <td>NaN</td>\n",
              "    </tr>\n",
              "    <tr>\n",
              "      <th>24</th>\n",
              "      <td>Ali</td>\n",
              "      <td>Astin</td>\n",
              "      <td>NaN</td>\n",
              "      <td>NaN</td>\n",
              "    </tr>\n",
              "  </tbody>\n",
              "</table>\n",
              "</div>"
            ],
            "text/plain": [
              "    act_fname   act_lname               mov_title  mov_year\n",
              "0       James     Stewart                 Vertigo    1958.0\n",
              "1     Deborah        Kerr            TheInnocents    1961.0\n",
              "2       Peter      OToole        LawrenceofArabia    1962.0\n",
              "3      Robert      DeNiro           TheDeerHunter    1978.0\n",
              "4    F.Murray     Abraham                 Amadeus    1984.0\n",
              "5    Harrison        Ford             BladeRunner    1982.0\n",
              "6      Nicole      Kidman            EyesWideShut    1999.0\n",
              "7     Stephen     Baldwin        TheUsualSuspects    1995.0\n",
              "8        Mark    Wahlberg            BoogieNights    1997.0\n",
              "9       Woody       Allen               AnnieHall    1977.0\n",
              "10     Claire       Danes        PrincessMononoke    1997.0\n",
              "11        Tim     Robbins  TheShawshankRedemption    1994.0\n",
              "12      Kevin      Spacey          AmericanBeauty    1999.0\n",
              "13      Kevin      Spacey            BeyondtheSea    2004.0\n",
              "14       Kate     Winslet                 Titanic    1997.0\n",
              "15      Robin    Williams         GoodWillHunting    1997.0\n",
              "16        Jon      Voight             Deliverance    1972.0\n",
              "17       Ewan    McGregor           Trainspotting    1996.0\n",
              "18     Maggie  Gyllenhaal             DonnieDarko    2001.0\n",
              "19        Dev       Patel      SlumdogMillionaire    2008.0\n",
              "20  Sigourney      Weaver                  Aliens    1986.0\n",
              "21       Jack   Nicholson               Chinatown    1974.0\n",
              "22  Christian        Bale             ThePrestige    2006.0\n",
              "23      David       Aston                     NaN       NaN\n",
              "24        Ali       Astin                     NaN       NaN"
            ]
          },
          "metadata": {
            "tags": []
          },
          "execution_count": 38
        }
      ]
    },
    {
      "cell_type": "markdown",
      "metadata": {
        "colab_type": "text",
        "id": "Uiy25d82qtde"
      },
      "source": [
        "### Query 32: Write a query to find the name of movie and director (first and last names) who directed a movie that casted the roles that start with 'J'.\n"
      ]
    },
    {
      "cell_type": "markdown",
      "metadata": {
        "id": "aYvc5c5poCcj",
        "colab_type": "text"
      },
      "source": [
        "> * **SQL**"
      ]
    },
    {
      "cell_type": "code",
      "metadata": {
        "colab_type": "code",
        "id": "CVEWa7jzqtdb",
        "colab": {}
      },
      "source": [
        "table_name1 = 'director'\n",
        "table_name2 = 'movie_direction'\n",
        "table_name3 = 'movie_cast'\n",
        "table_name4 = 'movie'"
      ],
      "execution_count": 0,
      "outputs": []
    },
    {
      "cell_type": "code",
      "metadata": {
        "colab_type": "code",
        "id": "SPPZ9XMQqtcy",
        "colab": {
          "base_uri": "https://localhost:8080/",
          "height": 0
        },
        "outputId": "b3a46ea5-4c74-4026-922c-72f581de7349"
      },
      "source": [
        "rs = con.execute(f'''SELECT cast_movie.mov_title, dir_movie.dir_fname, dir_movie.dir_lname\n",
        "                     FROM (SELECT {table_name1}.dir_id, {table_name2}.mov_id, {table_name1}.dir_fname, {table_name1}.dir_lname\n",
        "                           FROM {table_name1}  AS {table_name1}\n",
        "                           LEFT JOIN {table_name2} AS {table_name2}\n",
        "                           ON {table_name1}.dir_id = {table_name2}.dir_id) AS dir_movie\n",
        "                     INNER JOIN\n",
        "                          (SELECT {table_name4}.mov_id, {table_name4}.mov_title\n",
        "                           FROM {table_name4}  AS {table_name4}\n",
        "                           LEFT JOIN {table_name3} AS {table_name3}\n",
        "                           ON {table_name3}.mov_id = {table_name4}.mov_id\n",
        "                           WHERE {table_name3}.role LIKE \"J%\") AS cast_movie \n",
        "                     ON dir_movie.mov_id = cast_movie.mov_id                     \n",
        "                     ''')\n",
        "pd.DataFrame(rs.fetchall(), columns = ['mov_title', 'dir_fname', 'dir_lname'])"
      ],
      "execution_count": 40,
      "outputs": [
        {
          "output_type": "execute_result",
          "data": {
            "text/html": [
              "<div>\n",
              "<style scoped>\n",
              "    .dataframe tbody tr th:only-of-type {\n",
              "        vertical-align: middle;\n",
              "    }\n",
              "\n",
              "    .dataframe tbody tr th {\n",
              "        vertical-align: top;\n",
              "    }\n",
              "\n",
              "    .dataframe thead th {\n",
              "        text-align: right;\n",
              "    }\n",
              "</style>\n",
              "<table border=\"1\" class=\"dataframe\">\n",
              "  <thead>\n",
              "    <tr style=\"text-align: right;\">\n",
              "      <th></th>\n",
              "      <th>mov_title</th>\n",
              "      <th>dir_fname</th>\n",
              "      <th>dir_lname</th>\n",
              "    </tr>\n",
              "  </thead>\n",
              "  <tbody>\n",
              "    <tr>\n",
              "      <th>0</th>\n",
              "      <td>Vertigo</td>\n",
              "      <td>Alfred</td>\n",
              "      <td>Hitchcock</td>\n",
              "    </tr>\n",
              "    <tr>\n",
              "      <th>1</th>\n",
              "      <td>Chinatown</td>\n",
              "      <td>Roman</td>\n",
              "      <td>Polanski</td>\n",
              "    </tr>\n",
              "  </tbody>\n",
              "</table>\n",
              "</div>"
            ],
            "text/plain": [
              "   mov_title dir_fname  dir_lname\n",
              "0    Vertigo    Alfred  Hitchcock\n",
              "1  Chinatown     Roman   Polanski"
            ]
          },
          "metadata": {
            "tags": []
          },
          "execution_count": 40
        }
      ]
    },
    {
      "cell_type": "code",
      "metadata": {
        "id": "1aZxHLz2AFnS",
        "colab_type": "code",
        "colab": {
          "base_uri": "https://localhost:8080/",
          "height": 0
        },
        "outputId": "ed46f449-7eb6-43c2-dddf-bb439eca2b2c"
      },
      "source": [
        "rs = con.execute(f'''SELECT {table_name4}.mov_title, {table_name1}.dir_fname, {table_name1}.dir_lname\n",
        "                     FROM {table_name1}  AS {table_name1}\n",
        "                     LEFT JOIN {table_name2} AS {table_name2}                                \n",
        "                     ON {table_name1}.dir_id = {table_name2}.dir_id\n",
        "                     INNER JOIN {table_name4}  AS {table_name4}                                                   \n",
        "                     ON {table_name2}.mov_id = {table_name4}.mov_id                     \n",
        "                     LEFT JOIN {table_name3} AS {table_name3}             \n",
        "                     ON {table_name3}.mov_id = {table_name4}.mov_id\n",
        "                     WHERE {table_name3}.role LIKE \"J%\"                      \n",
        "                     ''')\n",
        "pd.DataFrame(rs.fetchall(), columns = ['mov_title', 'dir_fname', 'dir_lname'])"
      ],
      "execution_count": 41,
      "outputs": [
        {
          "output_type": "execute_result",
          "data": {
            "text/html": [
              "<div>\n",
              "<style scoped>\n",
              "    .dataframe tbody tr th:only-of-type {\n",
              "        vertical-align: middle;\n",
              "    }\n",
              "\n",
              "    .dataframe tbody tr th {\n",
              "        vertical-align: top;\n",
              "    }\n",
              "\n",
              "    .dataframe thead th {\n",
              "        text-align: right;\n",
              "    }\n",
              "</style>\n",
              "<table border=\"1\" class=\"dataframe\">\n",
              "  <thead>\n",
              "    <tr style=\"text-align: right;\">\n",
              "      <th></th>\n",
              "      <th>mov_title</th>\n",
              "      <th>dir_fname</th>\n",
              "      <th>dir_lname</th>\n",
              "    </tr>\n",
              "  </thead>\n",
              "  <tbody>\n",
              "    <tr>\n",
              "      <th>0</th>\n",
              "      <td>Vertigo</td>\n",
              "      <td>Alfred</td>\n",
              "      <td>Hitchcock</td>\n",
              "    </tr>\n",
              "    <tr>\n",
              "      <th>1</th>\n",
              "      <td>Chinatown</td>\n",
              "      <td>Roman</td>\n",
              "      <td>Polanski</td>\n",
              "    </tr>\n",
              "  </tbody>\n",
              "</table>\n",
              "</div>"
            ],
            "text/plain": [
              "   mov_title dir_fname  dir_lname\n",
              "0    Vertigo    Alfred  Hitchcock\n",
              "1  Chinatown     Roman   Polanski"
            ]
          },
          "metadata": {
            "tags": []
          },
          "execution_count": 41
        }
      ]
    },
    {
      "cell_type": "markdown",
      "metadata": {
        "colab_type": "text",
        "id": "Fjk8IzVOqtcv"
      },
      "source": [
        "> * **Pandas** "
      ]
    },
    {
      "cell_type": "code",
      "metadata": {
        "colab_type": "code",
        "id": "Ax3E1Iwcqtcb",
        "colab": {
          "base_uri": "https://localhost:8080/",
          "height": 0
        },
        "outputId": "a7daa57c-45d1-4f3c-bb7b-39786873b119"
      },
      "source": [
        "table1, table2 = db[table_name1], db[table_name2]\n",
        "table3, table4 = db[table_name3], db[table_name4]\n",
        "\n",
        "# sub query 1\n",
        "JOIN = pd.merge\n",
        "LEFT_OUTER = 'left'    \n",
        "ON = 'dir_id'\n",
        "FROM_CLAUSE_WITH_JOIN1 = JOIN(table1, table2, LEFT_OUTER, ON)\n",
        "SELECT_CLAUSE1 = ['dir_id', 'mov_id', 'dir_fname', 'dir_lname']\n",
        "res1 = FROM_CLAUSE_WITH_JOIN1[SELECT_CLAUSE1]\n",
        "\n",
        "# sub query 2\n",
        "RIGHT_OUTER = 'left'    \n",
        "ON = 'mov_id'\n",
        "WHERE_CLAUSE = (table3['role'].str.startswith(\"J\"))\n",
        "FROM_CLAUSE_WITH_JOIN2 = JOIN(table3[WHERE_CLAUSE], table4, RIGHT_OUTER, ON)\n",
        "SELECT_CLAUSE2 = ['mov_id', 'mov_title']\n",
        "res2 = FROM_CLAUSE_WITH_JOIN2[SELECT_CLAUSE2]\n",
        "\n",
        "# final query\n",
        "INNER = 'inner'    \n",
        "ON = 'mov_id'\n",
        "FROM_CLAUSE_WITH_JOIN = JOIN(res1, res2, INNER, ON)\n",
        "SELECT_CLAUSE = ['mov_title', 'dir_fname', 'dir_lname']\n",
        "rs = FROM_CLAUSE_WITH_JOIN[SELECT_CLAUSE]\n",
        "rs"
      ],
      "execution_count": 42,
      "outputs": [
        {
          "output_type": "execute_result",
          "data": {
            "text/html": [
              "<div>\n",
              "<style scoped>\n",
              "    .dataframe tbody tr th:only-of-type {\n",
              "        vertical-align: middle;\n",
              "    }\n",
              "\n",
              "    .dataframe tbody tr th {\n",
              "        vertical-align: top;\n",
              "    }\n",
              "\n",
              "    .dataframe thead th {\n",
              "        text-align: right;\n",
              "    }\n",
              "</style>\n",
              "<table border=\"1\" class=\"dataframe\">\n",
              "  <thead>\n",
              "    <tr style=\"text-align: right;\">\n",
              "      <th></th>\n",
              "      <th>mov_title</th>\n",
              "      <th>dir_fname</th>\n",
              "      <th>dir_lname</th>\n",
              "    </tr>\n",
              "  </thead>\n",
              "  <tbody>\n",
              "    <tr>\n",
              "      <th>0</th>\n",
              "      <td>Vertigo</td>\n",
              "      <td>Alfred</td>\n",
              "      <td>Hitchcock</td>\n",
              "    </tr>\n",
              "    <tr>\n",
              "      <th>1</th>\n",
              "      <td>Chinatown</td>\n",
              "      <td>Roman</td>\n",
              "      <td>Polanski</td>\n",
              "    </tr>\n",
              "  </tbody>\n",
              "</table>\n",
              "</div>"
            ],
            "text/plain": [
              "   mov_title dir_fname  dir_lname\n",
              "0    Vertigo    Alfred  Hitchcock\n",
              "1  Chinatown     Roman   Polanski"
            ]
          },
          "metadata": {
            "tags": []
          },
          "execution_count": 42
        }
      ]
    },
    {
      "cell_type": "code",
      "metadata": {
        "id": "d-EvSYrMxevk",
        "colab_type": "code",
        "colab": {
          "base_uri": "https://localhost:8080/",
          "height": 0
        },
        "outputId": "07f6d3f6-3d4f-46d1-e57e-039994e69e3a"
      },
      "source": [
        "table1.merge(right=table2, how='left', on='dir_id') \\\n",
        "      .merge(table3[table3['role'].str.startswith(\"J\")], 'inner', 'mov_id') \\\n",
        "      .merge(table4, 'left', 'mov_id')[SELECT_CLAUSE]"
      ],
      "execution_count": 43,
      "outputs": [
        {
          "output_type": "execute_result",
          "data": {
            "text/html": [
              "<div>\n",
              "<style scoped>\n",
              "    .dataframe tbody tr th:only-of-type {\n",
              "        vertical-align: middle;\n",
              "    }\n",
              "\n",
              "    .dataframe tbody tr th {\n",
              "        vertical-align: top;\n",
              "    }\n",
              "\n",
              "    .dataframe thead th {\n",
              "        text-align: right;\n",
              "    }\n",
              "</style>\n",
              "<table border=\"1\" class=\"dataframe\">\n",
              "  <thead>\n",
              "    <tr style=\"text-align: right;\">\n",
              "      <th></th>\n",
              "      <th>mov_title</th>\n",
              "      <th>dir_fname</th>\n",
              "      <th>dir_lname</th>\n",
              "    </tr>\n",
              "  </thead>\n",
              "  <tbody>\n",
              "    <tr>\n",
              "      <th>0</th>\n",
              "      <td>Vertigo</td>\n",
              "      <td>Alfred</td>\n",
              "      <td>Hitchcock</td>\n",
              "    </tr>\n",
              "    <tr>\n",
              "      <th>1</th>\n",
              "      <td>Chinatown</td>\n",
              "      <td>Roman</td>\n",
              "      <td>Polanski</td>\n",
              "    </tr>\n",
              "  </tbody>\n",
              "</table>\n",
              "</div>"
            ],
            "text/plain": [
              "   mov_title dir_fname  dir_lname\n",
              "0    Vertigo    Alfred  Hitchcock\n",
              "1  Chinatown     Roman   Polanski"
            ]
          },
          "metadata": {
            "tags": []
          },
          "execution_count": 43
        }
      ]
    },
    {
      "cell_type": "markdown",
      "metadata": {
        "colab_type": "text",
        "id": "AwJtYEWe_1rI"
      },
      "source": [
        "### Query 33: Write a query to find the name of movie and director (first and last names) who directed a movie that casted a role as 'Sean Maguire'.\n"
      ]
    },
    {
      "cell_type": "code",
      "metadata": {
        "colab_type": "code",
        "id": "x1hMSUX6_1rL",
        "colab": {}
      },
      "source": [
        "table_name1 = 'director'\n",
        "table_name2 = 'movie_direction'\n",
        "table_name3 = 'movie_cast'\n",
        "table_name4 = 'movie'"
      ],
      "execution_count": 0,
      "outputs": []
    },
    {
      "cell_type": "markdown",
      "metadata": {
        "id": "rQG9SKHoGffr",
        "colab_type": "text"
      },
      "source": [
        "> * **SQL**"
      ]
    },
    {
      "cell_type": "code",
      "metadata": {
        "colab_type": "code",
        "id": "jre7CmXp_1rP",
        "colab": {
          "base_uri": "https://localhost:8080/",
          "height": 0
        },
        "outputId": "c8f887a9-8e17-4129-b473-471e3b52d677"
      },
      "source": [
        "rs = con.execute(f'''SELECT cast_movie.mov_title, dir_movie.dir_fname, dir_movie.dir_lname\n",
        "                     FROM (SELECT {table_name1}.dir_id, {table_name2}.mov_id, {table_name1}.dir_fname, {table_name1}.dir_lname\n",
        "                           FROM {table_name1}  AS {table_name1}\n",
        "                           LEFT JOIN {table_name2} AS {table_name2}\n",
        "                           ON {table_name1}.dir_id = {table_name2}.dir_id) AS dir_movie\n",
        "                     INNER JOIN\n",
        "                          (SELECT {table_name4}.mov_id, {table_name4}.mov_title\n",
        "                           FROM {table_name4}  AS {table_name4}\n",
        "                           LEFT JOIN {table_name3} AS {table_name3}\n",
        "                           ON {table_name3}.mov_id = {table_name4}.mov_id\n",
        "                           WHERE {table_name3}.role = \"SeanMaguire\") AS cast_movie \n",
        "                     ON dir_movie.mov_id = cast_movie.mov_id                     \n",
        "                     ''')\n",
        "pd.DataFrame(rs.fetchall(), columns = ['mov_title', 'dir_fname', 'dir_lname'])"
      ],
      "execution_count": 45,
      "outputs": [
        {
          "output_type": "execute_result",
          "data": {
            "text/html": [
              "<div>\n",
              "<style scoped>\n",
              "    .dataframe tbody tr th:only-of-type {\n",
              "        vertical-align: middle;\n",
              "    }\n",
              "\n",
              "    .dataframe tbody tr th {\n",
              "        vertical-align: top;\n",
              "    }\n",
              "\n",
              "    .dataframe thead th {\n",
              "        text-align: right;\n",
              "    }\n",
              "</style>\n",
              "<table border=\"1\" class=\"dataframe\">\n",
              "  <thead>\n",
              "    <tr style=\"text-align: right;\">\n",
              "      <th></th>\n",
              "      <th>mov_title</th>\n",
              "      <th>dir_fname</th>\n",
              "      <th>dir_lname</th>\n",
              "    </tr>\n",
              "  </thead>\n",
              "  <tbody>\n",
              "    <tr>\n",
              "      <th>0</th>\n",
              "      <td>GoodWillHunting</td>\n",
              "      <td>Gus</td>\n",
              "      <td>VanSant</td>\n",
              "    </tr>\n",
              "  </tbody>\n",
              "</table>\n",
              "</div>"
            ],
            "text/plain": [
              "         mov_title dir_fname dir_lname\n",
              "0  GoodWillHunting       Gus   VanSant"
            ]
          },
          "metadata": {
            "tags": []
          },
          "execution_count": 45
        }
      ]
    },
    {
      "cell_type": "code",
      "metadata": {
        "id": "XijYMIh6DJ4-",
        "colab_type": "code",
        "colab": {
          "base_uri": "https://localhost:8080/",
          "height": 0
        },
        "outputId": "6ed21706-0cec-4770-cf64-136e659ed72b"
      },
      "source": [
        "rs = con.execute(f'''SELECT {table_name4}.mov_title,  {table_name1}.dir_fname,  {table_name1}.dir_lname\n",
        "                     FROM {table_name1} AS {table_name1}                           \n",
        "                     LEFT JOIN {table_name2} AS {table_name2}\n",
        "                     ON {table_name1}.dir_id = {table_name2}.dir_id\n",
        "                     INNER JOIN {table_name4} AS {table_name4}         \n",
        "                     ON  {table_name2}.mov_id = {table_name4}.mov_id                     \n",
        "                     LEFT JOIN {table_name3} AS {table_name3}\n",
        "                     ON {table_name3}.mov_id = {table_name4}.mov_id\n",
        "                     WHERE {table_name3}.role = \"SeanMaguire\"                    \n",
        "                  ''')\n",
        "pd.DataFrame(rs.fetchall(), columns = ['mov_title', 'dir_fname', 'dir_lname'])"
      ],
      "execution_count": 46,
      "outputs": [
        {
          "output_type": "execute_result",
          "data": {
            "text/html": [
              "<div>\n",
              "<style scoped>\n",
              "    .dataframe tbody tr th:only-of-type {\n",
              "        vertical-align: middle;\n",
              "    }\n",
              "\n",
              "    .dataframe tbody tr th {\n",
              "        vertical-align: top;\n",
              "    }\n",
              "\n",
              "    .dataframe thead th {\n",
              "        text-align: right;\n",
              "    }\n",
              "</style>\n",
              "<table border=\"1\" class=\"dataframe\">\n",
              "  <thead>\n",
              "    <tr style=\"text-align: right;\">\n",
              "      <th></th>\n",
              "      <th>mov_title</th>\n",
              "      <th>dir_fname</th>\n",
              "      <th>dir_lname</th>\n",
              "    </tr>\n",
              "  </thead>\n",
              "  <tbody>\n",
              "    <tr>\n",
              "      <th>0</th>\n",
              "      <td>GoodWillHunting</td>\n",
              "      <td>Gus</td>\n",
              "      <td>VanSant</td>\n",
              "    </tr>\n",
              "  </tbody>\n",
              "</table>\n",
              "</div>"
            ],
            "text/plain": [
              "         mov_title dir_fname dir_lname\n",
              "0  GoodWillHunting       Gus   VanSant"
            ]
          },
          "metadata": {
            "tags": []
          },
          "execution_count": 46
        }
      ]
    },
    {
      "cell_type": "markdown",
      "metadata": {
        "colab_type": "text",
        "id": "fKVlYpH8_1rR"
      },
      "source": [
        "> * **Pandas** "
      ]
    },
    {
      "cell_type": "code",
      "metadata": {
        "colab_type": "code",
        "id": "fH4g-0vF_1rT",
        "colab": {
          "base_uri": "https://localhost:8080/",
          "height": 0
        },
        "outputId": "92e40cdc-b1ee-45a1-a33c-cbffd4fe6dca"
      },
      "source": [
        "table1, table2 = db[table_name1], db[table_name2]\n",
        "table3, table4 = db[table_name3], db[table_name4]\n",
        "\n",
        "# sub query 1\n",
        "JOIN = pd.merge\n",
        "LEFT_OUTER = 'left'    \n",
        "ON = 'dir_id'\n",
        "FROM_CLAUSE_WITH_JOIN1 = JOIN(table1, table2, LEFT_OUTER, ON)\n",
        "SELECT_CLAUSE1 = ['dir_id', 'mov_id', 'dir_fname', 'dir_lname']\n",
        "res1 = FROM_CLAUSE_WITH_JOIN1[SELECT_CLAUSE1]\n",
        "\n",
        "# sub query 2\n",
        "RIGHT_OUTER = 'left'    \n",
        "ON = 'mov_id'\n",
        "WHERE_CLAUSE = (table3['role'] == \"SeanMaguire\")\n",
        "FROM_CLAUSE_WITH_JOIN2 = JOIN(table3[WHERE_CLAUSE], table4, RIGHT_OUTER, ON)\n",
        "SELECT_CLAUSE2 = ['mov_id', 'mov_title']\n",
        "res2 = FROM_CLAUSE_WITH_JOIN2[SELECT_CLAUSE2]\n",
        "\n",
        "# final query\n",
        "INNER = 'inner'    \n",
        "ON = 'mov_id'\n",
        "FROM_CLAUSE_WITH_JOIN = JOIN(res1, res2, INNER, ON)\n",
        "SELECT_CLAUSE = ['mov_title', 'dir_fname', 'dir_lname']\n",
        "rs = FROM_CLAUSE_WITH_JOIN[SELECT_CLAUSE]\n",
        "rs"
      ],
      "execution_count": 47,
      "outputs": [
        {
          "output_type": "execute_result",
          "data": {
            "text/html": [
              "<div>\n",
              "<style scoped>\n",
              "    .dataframe tbody tr th:only-of-type {\n",
              "        vertical-align: middle;\n",
              "    }\n",
              "\n",
              "    .dataframe tbody tr th {\n",
              "        vertical-align: top;\n",
              "    }\n",
              "\n",
              "    .dataframe thead th {\n",
              "        text-align: right;\n",
              "    }\n",
              "</style>\n",
              "<table border=\"1\" class=\"dataframe\">\n",
              "  <thead>\n",
              "    <tr style=\"text-align: right;\">\n",
              "      <th></th>\n",
              "      <th>mov_title</th>\n",
              "      <th>dir_fname</th>\n",
              "      <th>dir_lname</th>\n",
              "    </tr>\n",
              "  </thead>\n",
              "  <tbody>\n",
              "    <tr>\n",
              "      <th>0</th>\n",
              "      <td>GoodWillHunting</td>\n",
              "      <td>Gus</td>\n",
              "      <td>VanSant</td>\n",
              "    </tr>\n",
              "  </tbody>\n",
              "</table>\n",
              "</div>"
            ],
            "text/plain": [
              "         mov_title dir_fname dir_lname\n",
              "0  GoodWillHunting       Gus   VanSant"
            ]
          },
          "metadata": {
            "tags": []
          },
          "execution_count": 47
        }
      ]
    },
    {
      "cell_type": "code",
      "metadata": {
        "id": "uysk4d_xnxzK",
        "colab_type": "code",
        "colab": {
          "base_uri": "https://localhost:8080/",
          "height": 0
        },
        "outputId": "3ab3867d-e890-4a47-e32f-30de957e3adc"
      },
      "source": [
        "table1.merge(right=table2, how='left', on='dir_id') \\\n",
        "      .merge(table3[table3['role'] == \"SeanMaguire\"], 'inner', 'mov_id') \\\n",
        "      .merge(table4, 'left', 'mov_id')[SELECT_CLAUSE]"
      ],
      "execution_count": 48,
      "outputs": [
        {
          "output_type": "execute_result",
          "data": {
            "text/html": [
              "<div>\n",
              "<style scoped>\n",
              "    .dataframe tbody tr th:only-of-type {\n",
              "        vertical-align: middle;\n",
              "    }\n",
              "\n",
              "    .dataframe tbody tr th {\n",
              "        vertical-align: top;\n",
              "    }\n",
              "\n",
              "    .dataframe thead th {\n",
              "        text-align: right;\n",
              "    }\n",
              "</style>\n",
              "<table border=\"1\" class=\"dataframe\">\n",
              "  <thead>\n",
              "    <tr style=\"text-align: right;\">\n",
              "      <th></th>\n",
              "      <th>mov_title</th>\n",
              "      <th>dir_fname</th>\n",
              "      <th>dir_lname</th>\n",
              "    </tr>\n",
              "  </thead>\n",
              "  <tbody>\n",
              "    <tr>\n",
              "      <th>0</th>\n",
              "      <td>GoodWillHunting</td>\n",
              "      <td>Gus</td>\n",
              "      <td>VanSant</td>\n",
              "    </tr>\n",
              "  </tbody>\n",
              "</table>\n",
              "</div>"
            ],
            "text/plain": [
              "         mov_title dir_fname dir_lname\n",
              "0  GoodWillHunting       Gus   VanSant"
            ]
          },
          "metadata": {
            "tags": []
          },
          "execution_count": 48
        }
      ]
    },
    {
      "cell_type": "markdown",
      "metadata": {
        "id": "BxNuZ299Gkfk",
        "colab_type": "text"
      },
      "source": [
        "### Query 34: Write a query to list first and last name of all the directors with number of genres movies the directed with genres name, and arranged the result alphabetically with the first and last name of the director."
      ]
    },
    {
      "cell_type": "code",
      "metadata": {
        "id": "xVbEtTpRn5u5",
        "colab_type": "code",
        "colab": {}
      },
      "source": [
        "table_name1, table_name2  = 'director', 'movie_direction'\n",
        "table_name3, table_name4 = 'movie_genres', 'genres'"
      ],
      "execution_count": 0,
      "outputs": []
    },
    {
      "cell_type": "markdown",
      "metadata": {
        "colab_type": "text",
        "id": "cckq-dl_HD04"
      },
      "source": [
        "> * **SQL**"
      ]
    },
    {
      "cell_type": "code",
      "metadata": {
        "id": "-GgaGUp6HBvg",
        "colab_type": "code",
        "colab": {
          "base_uri": "https://localhost:8080/",
          "height": 173
        },
        "outputId": "5a2beaa5-5c87-41cf-db33-4c30313b8262"
      },
      "source": [
        "rs = con.execute(f'''SELECT {table_name1}.dir_fname,  {table_name1}.dir_lname, {table_name4}.gen_title, COUNT({table_name4}.gen_title)\n",
        "                     FROM {table_name1} AS {table_name1}                           \n",
        "                     INNER JOIN {table_name2} AS {table_name2}\n",
        "                     ON {table_name1}.dir_id = {table_name2}.dir_id\n",
        "                     INNER JOIN {table_name3} AS {table_name3}         \n",
        "                     ON  {table_name2}.mov_id = {table_name3}.mov_id                     \n",
        "                     INNER JOIN {table_name4} AS {table_name4}\n",
        "                     ON {table_name3}.gen_id = {table_name4}.gen_id\n",
        "                     GROUP BY {table_name1}.dir_fname, {table_name1}.dir_lname, {table_name4}.gen_title\n",
        "                     ORDER BY {table_name1}.dir_fname, {table_name1}.dir_lname\n",
        "                  ''')\n",
        "pd.DataFrame(rs.fetchall(), columns = ['dir_fname', 'dir_lname', 'gen_title', 'count_gen_title']).T"
      ],
      "execution_count": 50,
      "outputs": [
        {
          "output_type": "execute_result",
          "data": {
            "text/html": [
              "<div>\n",
              "<style scoped>\n",
              "    .dataframe tbody tr th:only-of-type {\n",
              "        vertical-align: middle;\n",
              "    }\n",
              "\n",
              "    .dataframe tbody tr th {\n",
              "        vertical-align: top;\n",
              "    }\n",
              "\n",
              "    .dataframe thead th {\n",
              "        text-align: right;\n",
              "    }\n",
              "</style>\n",
              "<table border=\"1\" class=\"dataframe\">\n",
              "  <thead>\n",
              "    <tr style=\"text-align: right;\">\n",
              "      <th></th>\n",
              "      <th>0</th>\n",
              "      <th>1</th>\n",
              "      <th>2</th>\n",
              "      <th>3</th>\n",
              "      <th>4</th>\n",
              "      <th>5</th>\n",
              "      <th>6</th>\n",
              "      <th>7</th>\n",
              "      <th>8</th>\n",
              "      <th>9</th>\n",
              "      <th>10</th>\n",
              "      <th>11</th>\n",
              "      <th>12</th>\n",
              "      <th>13</th>\n",
              "      <th>14</th>\n",
              "    </tr>\n",
              "  </thead>\n",
              "  <tbody>\n",
              "    <tr>\n",
              "      <th>dir_fname</th>\n",
              "      <td>Alfred</td>\n",
              "      <td>Bryan</td>\n",
              "      <td>Danny</td>\n",
              "      <td>David</td>\n",
              "      <td>Frank</td>\n",
              "      <td>Hayao</td>\n",
              "      <td>Jack</td>\n",
              "      <td>James</td>\n",
              "      <td>John</td>\n",
              "      <td>Kevin</td>\n",
              "      <td>Michael</td>\n",
              "      <td>Ridley</td>\n",
              "      <td>Sam</td>\n",
              "      <td>Stanley</td>\n",
              "      <td>Woody</td>\n",
              "    </tr>\n",
              "    <tr>\n",
              "      <th>dir_lname</th>\n",
              "      <td>Hitchcock</td>\n",
              "      <td>Singer</td>\n",
              "      <td>Boyle</td>\n",
              "      <td>Lean</td>\n",
              "      <td>Darabont</td>\n",
              "      <td>Miyazaki</td>\n",
              "      <td>Clayton</td>\n",
              "      <td>Cameron</td>\n",
              "      <td>Boorman</td>\n",
              "      <td>Spacey</td>\n",
              "      <td>Cimino</td>\n",
              "      <td>Scott</td>\n",
              "      <td>Mendes</td>\n",
              "      <td>Kubrick</td>\n",
              "      <td>Allen</td>\n",
              "    </tr>\n",
              "    <tr>\n",
              "      <th>gen_title</th>\n",
              "      <td>Mystery</td>\n",
              "      <td>Crime</td>\n",
              "      <td>Drama</td>\n",
              "      <td>Adventure</td>\n",
              "      <td>Crime</td>\n",
              "      <td>Animation</td>\n",
              "      <td>Horror</td>\n",
              "      <td>Action</td>\n",
              "      <td>Adventure</td>\n",
              "      <td>Music</td>\n",
              "      <td>War</td>\n",
              "      <td>Thriller</td>\n",
              "      <td>Romance</td>\n",
              "      <td>Mystery</td>\n",
              "      <td>Comedy</td>\n",
              "    </tr>\n",
              "    <tr>\n",
              "      <th>count_gen_title</th>\n",
              "      <td>1</td>\n",
              "      <td>1</td>\n",
              "      <td>2</td>\n",
              "      <td>1</td>\n",
              "      <td>1</td>\n",
              "      <td>1</td>\n",
              "      <td>1</td>\n",
              "      <td>1</td>\n",
              "      <td>1</td>\n",
              "      <td>1</td>\n",
              "      <td>1</td>\n",
              "      <td>1</td>\n",
              "      <td>1</td>\n",
              "      <td>1</td>\n",
              "      <td>1</td>\n",
              "    </tr>\n",
              "  </tbody>\n",
              "</table>\n",
              "</div>"
            ],
            "text/plain": [
              "                         0       1      2          3         4          5        6        7          8       9       10        11       12       13      14\n",
              "dir_fname           Alfred   Bryan  Danny      David     Frank      Hayao     Jack    James       John   Kevin  Michael    Ridley      Sam  Stanley   Woody\n",
              "dir_lname        Hitchcock  Singer  Boyle       Lean  Darabont   Miyazaki  Clayton  Cameron    Boorman  Spacey   Cimino     Scott   Mendes  Kubrick   Allen\n",
              "gen_title          Mystery   Crime  Drama  Adventure     Crime  Animation   Horror   Action  Adventure   Music      War  Thriller  Romance  Mystery  Comedy\n",
              "count_gen_title          1       1      2          1         1          1        1        1          1       1        1         1        1        1       1"
            ]
          },
          "metadata": {
            "tags": []
          },
          "execution_count": 50
        }
      ]
    },
    {
      "cell_type": "markdown",
      "metadata": {
        "colab_type": "text",
        "id": "754GzeRVQXGw"
      },
      "source": [
        "> * **Pandas**"
      ]
    },
    {
      "cell_type": "code",
      "metadata": {
        "id": "kbCk-xaNM9PL",
        "colab_type": "code",
        "colab": {
          "base_uri": "https://localhost:8080/",
          "height": 173
        },
        "outputId": "0367c548-367d-46b7-fa0e-28ed5e86e6bc"
      },
      "source": [
        "table1, table2 = db[table_name1], db[table_name2]\n",
        "table3, table4 = db[table_name3], db[table_name4]\n",
        "\n",
        "ORDER_BY_COLUMNS = ['dir_fname', 'dir_lname']\n",
        "GROUP_BY_COLUMNS = ['dir_fname', 'dir_lname', 'gen_title']\n",
        "AGG_OP = {'gen_title': 'count'}\n",
        "SELECT_CLAUSE = ['dir_fname', 'dir_lname', 'gen_title', 'count_gen_title']\n",
        "rs = table1.merge(right=table2, how='inner', on='dir_id') \\\n",
        "      .merge(table3, 'inner', 'mov_id') \\\n",
        "      .merge(table4, 'inner', 'gen_id') \\\n",
        "      .groupby(GROUP_BY_COLUMNS, sort=ORDER_BY_COLUMNS).agg(AGG_OP) \n",
        "rs.columns = ['count_gen_title']\n",
        "rs.reset_index(drop=False).T"
      ],
      "execution_count": 51,
      "outputs": [
        {
          "output_type": "execute_result",
          "data": {
            "text/html": [
              "<div>\n",
              "<style scoped>\n",
              "    .dataframe tbody tr th:only-of-type {\n",
              "        vertical-align: middle;\n",
              "    }\n",
              "\n",
              "    .dataframe tbody tr th {\n",
              "        vertical-align: top;\n",
              "    }\n",
              "\n",
              "    .dataframe thead th {\n",
              "        text-align: right;\n",
              "    }\n",
              "</style>\n",
              "<table border=\"1\" class=\"dataframe\">\n",
              "  <thead>\n",
              "    <tr style=\"text-align: right;\">\n",
              "      <th></th>\n",
              "      <th>0</th>\n",
              "      <th>1</th>\n",
              "      <th>2</th>\n",
              "      <th>3</th>\n",
              "      <th>4</th>\n",
              "      <th>5</th>\n",
              "      <th>6</th>\n",
              "      <th>7</th>\n",
              "      <th>8</th>\n",
              "      <th>9</th>\n",
              "      <th>10</th>\n",
              "      <th>11</th>\n",
              "      <th>12</th>\n",
              "      <th>13</th>\n",
              "      <th>14</th>\n",
              "    </tr>\n",
              "  </thead>\n",
              "  <tbody>\n",
              "    <tr>\n",
              "      <th>dir_fname</th>\n",
              "      <td>Alfred</td>\n",
              "      <td>Bryan</td>\n",
              "      <td>Danny</td>\n",
              "      <td>David</td>\n",
              "      <td>Frank</td>\n",
              "      <td>Hayao</td>\n",
              "      <td>Jack</td>\n",
              "      <td>James</td>\n",
              "      <td>John</td>\n",
              "      <td>Kevin</td>\n",
              "      <td>Michael</td>\n",
              "      <td>Ridley</td>\n",
              "      <td>Sam</td>\n",
              "      <td>Stanley</td>\n",
              "      <td>Woody</td>\n",
              "    </tr>\n",
              "    <tr>\n",
              "      <th>dir_lname</th>\n",
              "      <td>Hitchcock</td>\n",
              "      <td>Singer</td>\n",
              "      <td>Boyle</td>\n",
              "      <td>Lean</td>\n",
              "      <td>Darabont</td>\n",
              "      <td>Miyazaki</td>\n",
              "      <td>Clayton</td>\n",
              "      <td>Cameron</td>\n",
              "      <td>Boorman</td>\n",
              "      <td>Spacey</td>\n",
              "      <td>Cimino</td>\n",
              "      <td>Scott</td>\n",
              "      <td>Mendes</td>\n",
              "      <td>Kubrick</td>\n",
              "      <td>Allen</td>\n",
              "    </tr>\n",
              "    <tr>\n",
              "      <th>gen_title</th>\n",
              "      <td>Mystery</td>\n",
              "      <td>Crime</td>\n",
              "      <td>Drama</td>\n",
              "      <td>Adventure</td>\n",
              "      <td>Crime</td>\n",
              "      <td>Animation</td>\n",
              "      <td>Horror</td>\n",
              "      <td>Action</td>\n",
              "      <td>Adventure</td>\n",
              "      <td>Music</td>\n",
              "      <td>War</td>\n",
              "      <td>Thriller</td>\n",
              "      <td>Romance</td>\n",
              "      <td>Mystery</td>\n",
              "      <td>Comedy</td>\n",
              "    </tr>\n",
              "    <tr>\n",
              "      <th>count_gen_title</th>\n",
              "      <td>1</td>\n",
              "      <td>1</td>\n",
              "      <td>2</td>\n",
              "      <td>1</td>\n",
              "      <td>1</td>\n",
              "      <td>1</td>\n",
              "      <td>1</td>\n",
              "      <td>1</td>\n",
              "      <td>1</td>\n",
              "      <td>1</td>\n",
              "      <td>1</td>\n",
              "      <td>1</td>\n",
              "      <td>1</td>\n",
              "      <td>1</td>\n",
              "      <td>1</td>\n",
              "    </tr>\n",
              "  </tbody>\n",
              "</table>\n",
              "</div>"
            ],
            "text/plain": [
              "                         0       1      2          3         4          5        6        7          8       9       10        11       12       13      14\n",
              "dir_fname           Alfred   Bryan  Danny      David     Frank      Hayao     Jack    James       John   Kevin  Michael    Ridley      Sam  Stanley   Woody\n",
              "dir_lname        Hitchcock  Singer  Boyle       Lean  Darabont   Miyazaki  Clayton  Cameron    Boorman  Spacey   Cimino     Scott   Mendes  Kubrick   Allen\n",
              "gen_title          Mystery   Crime  Drama  Adventure     Crime  Animation   Horror   Action  Adventure   Music      War  Thriller  Romance  Mystery  Comedy\n",
              "count_gen_title          1       1      2          1         1          1        1        1          1       1        1         1        1        1       1"
            ]
          },
          "metadata": {
            "tags": []
          },
          "execution_count": 51
        }
      ]
    },
    {
      "cell_type": "markdown",
      "metadata": {
        "id": "BGf3iiaublgF",
        "colab_type": "text"
      },
      "source": [
        "### Query 35: Write a query in to list all the movies with year and genres."
      ]
    },
    {
      "cell_type": "code",
      "metadata": {
        "id": "iRp4yPk7Ywwa",
        "colab_type": "code",
        "colab": {}
      },
      "source": [
        "table_name1, table_name2, table_name3  = 'movie',  'movie_genres',  'genres'"
      ],
      "execution_count": 0,
      "outputs": []
    },
    {
      "cell_type": "markdown",
      "metadata": {
        "colab_type": "text",
        "id": "xxtNkOInb6CC"
      },
      "source": [
        "> * **SQL**"
      ]
    },
    {
      "cell_type": "code",
      "metadata": {
        "id": "Q-QHSDwkb4I6",
        "colab_type": "code",
        "colab": {
          "base_uri": "https://localhost:8080/",
          "height": 0
        },
        "outputId": "010317c6-4e58-46d1-83a5-d7940db7ff43"
      },
      "source": [
        "rs = con.execute(f''' SELECT {table_name1}.mov_title, {table_name1}.mov_year, {table_name3}.gen_title\n",
        "                      FROM {table_name1}  AS {table_name1} \n",
        "                      LEFT JOIN {table_name2} AS {table_name2}                       \n",
        "                      ON {table_name1}.mov_id = {table_name2}.mov_id\n",
        "                      LEFT JOIN  {table_name3}  AS {table_name3}                       \n",
        "                      ON {table_name2}.gen_id = {table_name3}.gen_id                      \n",
        "                 ''')\n",
        "pd.DataFrame(rs.fetchall(), columns = ['mov_title', 'mov_year', 'gen_title']).T"
      ],
      "execution_count": 53,
      "outputs": [
        {
          "output_type": "execute_result",
          "data": {
            "text/html": [
              "<div>\n",
              "<style scoped>\n",
              "    .dataframe tbody tr th:only-of-type {\n",
              "        vertical-align: middle;\n",
              "    }\n",
              "\n",
              "    .dataframe tbody tr th {\n",
              "        vertical-align: top;\n",
              "    }\n",
              "\n",
              "    .dataframe thead th {\n",
              "        text-align: right;\n",
              "    }\n",
              "</style>\n",
              "<table border=\"1\" class=\"dataframe\">\n",
              "  <thead>\n",
              "    <tr style=\"text-align: right;\">\n",
              "      <th></th>\n",
              "      <th>0</th>\n",
              "      <th>1</th>\n",
              "      <th>2</th>\n",
              "      <th>3</th>\n",
              "      <th>4</th>\n",
              "      <th>5</th>\n",
              "      <th>6</th>\n",
              "      <th>7</th>\n",
              "      <th>8</th>\n",
              "      <th>9</th>\n",
              "      <th>10</th>\n",
              "      <th>11</th>\n",
              "      <th>12</th>\n",
              "      <th>13</th>\n",
              "      <th>14</th>\n",
              "      <th>15</th>\n",
              "      <th>16</th>\n",
              "      <th>17</th>\n",
              "      <th>18</th>\n",
              "      <th>19</th>\n",
              "      <th>20</th>\n",
              "      <th>21</th>\n",
              "      <th>22</th>\n",
              "      <th>23</th>\n",
              "      <th>24</th>\n",
              "      <th>25</th>\n",
              "      <th>26</th>\n",
              "      <th>27</th>\n",
              "    </tr>\n",
              "  </thead>\n",
              "  <tbody>\n",
              "    <tr>\n",
              "      <th>mov_title</th>\n",
              "      <td>Vertigo</td>\n",
              "      <td>TheInnocents</td>\n",
              "      <td>LawrenceofArabia</td>\n",
              "      <td>TheDeerHunter</td>\n",
              "      <td>Amadeus</td>\n",
              "      <td>BladeRunner</td>\n",
              "      <td>EyesWideShut</td>\n",
              "      <td>TheUsualSuspects</td>\n",
              "      <td>Chinatown</td>\n",
              "      <td>BoogieNights</td>\n",
              "      <td>AnnieHall</td>\n",
              "      <td>PrincessMononoke</td>\n",
              "      <td>TheShawshankRedemption</td>\n",
              "      <td>AmericanBeauty</td>\n",
              "      <td>Titanic</td>\n",
              "      <td>GoodWillHunting</td>\n",
              "      <td>Deliverance</td>\n",
              "      <td>Trainspotting</td>\n",
              "      <td>ThePrestige</td>\n",
              "      <td>DonnieDarko</td>\n",
              "      <td>SlumdogMillionaire</td>\n",
              "      <td>Aliens</td>\n",
              "      <td>BeyondtheSea</td>\n",
              "      <td>Avatar</td>\n",
              "      <td>SevenSamurai</td>\n",
              "      <td>SpiritedAway</td>\n",
              "      <td>BacktotheFuture</td>\n",
              "      <td>Braveheart</td>\n",
              "    </tr>\n",
              "    <tr>\n",
              "      <th>mov_year</th>\n",
              "      <td>1958</td>\n",
              "      <td>1961</td>\n",
              "      <td>1962</td>\n",
              "      <td>1978</td>\n",
              "      <td>1984</td>\n",
              "      <td>1982</td>\n",
              "      <td>1999</td>\n",
              "      <td>1995</td>\n",
              "      <td>1974</td>\n",
              "      <td>1997</td>\n",
              "      <td>1977</td>\n",
              "      <td>1997</td>\n",
              "      <td>1994</td>\n",
              "      <td>1999</td>\n",
              "      <td>1997</td>\n",
              "      <td>1997</td>\n",
              "      <td>1972</td>\n",
              "      <td>1996</td>\n",
              "      <td>2006</td>\n",
              "      <td>2001</td>\n",
              "      <td>2008</td>\n",
              "      <td>1986</td>\n",
              "      <td>2004</td>\n",
              "      <td>2009</td>\n",
              "      <td>1954</td>\n",
              "      <td>2001</td>\n",
              "      <td>1985</td>\n",
              "      <td>1995</td>\n",
              "    </tr>\n",
              "    <tr>\n",
              "      <th>gen_title</th>\n",
              "      <td>Mystery</td>\n",
              "      <td>Horror</td>\n",
              "      <td>Adventure</td>\n",
              "      <td>War</td>\n",
              "      <td>None</td>\n",
              "      <td>Thriller</td>\n",
              "      <td>Mystery</td>\n",
              "      <td>Crime</td>\n",
              "      <td>None</td>\n",
              "      <td>None</td>\n",
              "      <td>Comedy</td>\n",
              "      <td>Animation</td>\n",
              "      <td>Crime</td>\n",
              "      <td>Romance</td>\n",
              "      <td>None</td>\n",
              "      <td>None</td>\n",
              "      <td>Adventure</td>\n",
              "      <td>Drama</td>\n",
              "      <td>None</td>\n",
              "      <td>None</td>\n",
              "      <td>Drama</td>\n",
              "      <td>Action</td>\n",
              "      <td>Music</td>\n",
              "      <td>None</td>\n",
              "      <td>Drama</td>\n",
              "      <td>Mystery</td>\n",
              "      <td>Drama</td>\n",
              "      <td>None</td>\n",
              "    </tr>\n",
              "  </tbody>\n",
              "</table>\n",
              "</div>"
            ],
            "text/plain": [
              "                 0             1                 2              3        4            5             6                 7          8             9         10                11                      12              13       14               15           16             17           18           19                  20      21            22      23            24            25               26          27\n",
              "mov_title  Vertigo  TheInnocents  LawrenceofArabia  TheDeerHunter  Amadeus  BladeRunner  EyesWideShut  TheUsualSuspects  Chinatown  BoogieNights  AnnieHall  PrincessMononoke  TheShawshankRedemption  AmericanBeauty  Titanic  GoodWillHunting  Deliverance  Trainspotting  ThePrestige  DonnieDarko  SlumdogMillionaire  Aliens  BeyondtheSea  Avatar  SevenSamurai  SpiritedAway  BacktotheFuture  Braveheart\n",
              "mov_year      1958          1961              1962           1978     1984         1982          1999              1995       1974          1997       1977              1997                    1994            1999     1997             1997         1972           1996         2006         2001                2008    1986          2004    2009          1954          2001             1985        1995\n",
              "gen_title  Mystery        Horror         Adventure            War     None     Thriller       Mystery             Crime       None          None     Comedy         Animation                   Crime         Romance     None             None    Adventure          Drama         None         None               Drama  Action         Music    None         Drama       Mystery            Drama        None"
            ]
          },
          "metadata": {
            "tags": []
          },
          "execution_count": 53
        }
      ]
    },
    {
      "cell_type": "markdown",
      "metadata": {
        "colab_type": "text",
        "id": "5--3na3lc47H"
      },
      "source": [
        "> * **Pandas**"
      ]
    },
    {
      "cell_type": "code",
      "metadata": {
        "id": "Jj6uauO4coAr",
        "colab_type": "code",
        "colab": {
          "base_uri": "https://localhost:8080/",
          "height": 0
        },
        "outputId": "8c55f5da-fc69-4602-e3f7-b6fe9d818fec"
      },
      "source": [
        "table1, table2 = db[table_name1], db[table_name2]\n",
        "table3 = db[table_name3]\n",
        "\n",
        "SELECT_CLAUSE = ['mov_title', 'mov_year', 'gen_title']\n",
        "rs = table1.merge(right=table2, how='left', on='mov_id') \\\n",
        "      .merge(table3, 'left', 'gen_id')[SELECT_CLAUSE]\n",
        "rs.T"
      ],
      "execution_count": 54,
      "outputs": [
        {
          "output_type": "execute_result",
          "data": {
            "text/html": [
              "<div>\n",
              "<style scoped>\n",
              "    .dataframe tbody tr th:only-of-type {\n",
              "        vertical-align: middle;\n",
              "    }\n",
              "\n",
              "    .dataframe tbody tr th {\n",
              "        vertical-align: top;\n",
              "    }\n",
              "\n",
              "    .dataframe thead th {\n",
              "        text-align: right;\n",
              "    }\n",
              "</style>\n",
              "<table border=\"1\" class=\"dataframe\">\n",
              "  <thead>\n",
              "    <tr style=\"text-align: right;\">\n",
              "      <th></th>\n",
              "      <th>0</th>\n",
              "      <th>1</th>\n",
              "      <th>2</th>\n",
              "      <th>3</th>\n",
              "      <th>4</th>\n",
              "      <th>5</th>\n",
              "      <th>6</th>\n",
              "      <th>7</th>\n",
              "      <th>8</th>\n",
              "      <th>9</th>\n",
              "      <th>10</th>\n",
              "      <th>11</th>\n",
              "      <th>12</th>\n",
              "      <th>13</th>\n",
              "      <th>14</th>\n",
              "      <th>15</th>\n",
              "      <th>16</th>\n",
              "      <th>17</th>\n",
              "      <th>18</th>\n",
              "      <th>19</th>\n",
              "      <th>20</th>\n",
              "      <th>21</th>\n",
              "      <th>22</th>\n",
              "      <th>23</th>\n",
              "      <th>24</th>\n",
              "      <th>25</th>\n",
              "      <th>26</th>\n",
              "      <th>27</th>\n",
              "    </tr>\n",
              "  </thead>\n",
              "  <tbody>\n",
              "    <tr>\n",
              "      <th>mov_title</th>\n",
              "      <td>Vertigo</td>\n",
              "      <td>TheInnocents</td>\n",
              "      <td>LawrenceofArabia</td>\n",
              "      <td>TheDeerHunter</td>\n",
              "      <td>Amadeus</td>\n",
              "      <td>BladeRunner</td>\n",
              "      <td>EyesWideShut</td>\n",
              "      <td>TheUsualSuspects</td>\n",
              "      <td>Chinatown</td>\n",
              "      <td>BoogieNights</td>\n",
              "      <td>AnnieHall</td>\n",
              "      <td>PrincessMononoke</td>\n",
              "      <td>TheShawshankRedemption</td>\n",
              "      <td>AmericanBeauty</td>\n",
              "      <td>Titanic</td>\n",
              "      <td>GoodWillHunting</td>\n",
              "      <td>Deliverance</td>\n",
              "      <td>Trainspotting</td>\n",
              "      <td>ThePrestige</td>\n",
              "      <td>DonnieDarko</td>\n",
              "      <td>SlumdogMillionaire</td>\n",
              "      <td>Aliens</td>\n",
              "      <td>BeyondtheSea</td>\n",
              "      <td>Avatar</td>\n",
              "      <td>SevenSamurai</td>\n",
              "      <td>SpiritedAway</td>\n",
              "      <td>BacktotheFuture</td>\n",
              "      <td>Braveheart</td>\n",
              "    </tr>\n",
              "    <tr>\n",
              "      <th>mov_year</th>\n",
              "      <td>1958</td>\n",
              "      <td>1961</td>\n",
              "      <td>1962</td>\n",
              "      <td>1978</td>\n",
              "      <td>1984</td>\n",
              "      <td>1982</td>\n",
              "      <td>1999</td>\n",
              "      <td>1995</td>\n",
              "      <td>1974</td>\n",
              "      <td>1997</td>\n",
              "      <td>1977</td>\n",
              "      <td>1997</td>\n",
              "      <td>1994</td>\n",
              "      <td>1999</td>\n",
              "      <td>1997</td>\n",
              "      <td>1997</td>\n",
              "      <td>1972</td>\n",
              "      <td>1996</td>\n",
              "      <td>2006</td>\n",
              "      <td>2001</td>\n",
              "      <td>2008</td>\n",
              "      <td>1986</td>\n",
              "      <td>2004</td>\n",
              "      <td>2009</td>\n",
              "      <td>1954</td>\n",
              "      <td>2001</td>\n",
              "      <td>1985</td>\n",
              "      <td>1995</td>\n",
              "    </tr>\n",
              "    <tr>\n",
              "      <th>gen_title</th>\n",
              "      <td>Mystery</td>\n",
              "      <td>Horror</td>\n",
              "      <td>Adventure</td>\n",
              "      <td>War</td>\n",
              "      <td>NaN</td>\n",
              "      <td>Thriller</td>\n",
              "      <td>Mystery</td>\n",
              "      <td>Crime</td>\n",
              "      <td>NaN</td>\n",
              "      <td>NaN</td>\n",
              "      <td>Comedy</td>\n",
              "      <td>Animation</td>\n",
              "      <td>Crime</td>\n",
              "      <td>Romance</td>\n",
              "      <td>NaN</td>\n",
              "      <td>NaN</td>\n",
              "      <td>Adventure</td>\n",
              "      <td>Drama</td>\n",
              "      <td>NaN</td>\n",
              "      <td>NaN</td>\n",
              "      <td>Drama</td>\n",
              "      <td>Action</td>\n",
              "      <td>Music</td>\n",
              "      <td>NaN</td>\n",
              "      <td>Drama</td>\n",
              "      <td>Mystery</td>\n",
              "      <td>Drama</td>\n",
              "      <td>NaN</td>\n",
              "    </tr>\n",
              "  </tbody>\n",
              "</table>\n",
              "</div>"
            ],
            "text/plain": [
              "                0             1                 2              3        4            5             6                 7          8             9          10                11                      12              13       14               15           16             17           18           19                  20      21            22      23            24            25               26          27\n",
              "mov_title  Vertigo  TheInnocents  LawrenceofArabia  TheDeerHunter  Amadeus  BladeRunner  EyesWideShut  TheUsualSuspects  Chinatown  BoogieNights  AnnieHall  PrincessMononoke  TheShawshankRedemption  AmericanBeauty  Titanic  GoodWillHunting  Deliverance  Trainspotting  ThePrestige  DonnieDarko  SlumdogMillionaire  Aliens  BeyondtheSea  Avatar  SevenSamurai  SpiritedAway  BacktotheFuture  Braveheart\n",
              "mov_year      1958          1961              1962           1978     1984         1982          1999              1995       1974          1997       1977              1997                    1994            1999     1997             1997         1972           1996         2006         2001                2008    1986          2004    2009          1954          2001             1985        1995\n",
              "gen_title  Mystery        Horror         Adventure            War      NaN     Thriller       Mystery             Crime        NaN           NaN     Comedy         Animation                   Crime         Romance      NaN              NaN    Adventure          Drama          NaN          NaN               Drama  Action         Music     NaN         Drama       Mystery            Drama         NaN"
            ]
          },
          "metadata": {
            "tags": []
          },
          "execution_count": 54
        }
      ]
    },
    {
      "cell_type": "markdown",
      "metadata": {
        "colab_type": "text",
        "id": "HUxRtwrxdyEo"
      },
      "source": [
        "### Query 36: Write a query to list all the movies with year, genres, and name of the director."
      ]
    },
    {
      "cell_type": "code",
      "metadata": {
        "colab_type": "code",
        "id": "EmJjZDxYdyEs",
        "colab": {}
      },
      "source": [
        "table_name1, table_name2, table_name3, table_name4, table_name5  = 'movie',  'movie_genres',  'genres', 'movie_direction', 'director'"
      ],
      "execution_count": 0,
      "outputs": []
    },
    {
      "cell_type": "markdown",
      "metadata": {
        "colab_type": "text",
        "id": "QYwAz01QdyEv"
      },
      "source": [
        "> * **SQL**"
      ]
    },
    {
      "cell_type": "code",
      "metadata": {
        "colab_type": "code",
        "id": "hYcNrwtadyEw",
        "colab": {
          "base_uri": "https://localhost:8080/",
          "height": 0
        },
        "outputId": "582d1ec1-3243-4bef-eb8f-8a530224976f"
      },
      "source": [
        "rs = con.execute(f''' SELECT {table_name1}.mov_title, {table_name1}.mov_year, {table_name3}.gen_title,\n",
        "                             {table_name5}.dir_fname, {table_name5}.dir_lname\n",
        "                      FROM {table_name1}  AS {table_name1} \n",
        "                      LEFT JOIN {table_name2} AS {table_name2}                       \n",
        "                      ON {table_name1}.mov_id = {table_name2}.mov_id\n",
        "                      LEFT JOIN  {table_name3}  AS {table_name3}                       \n",
        "                      ON {table_name2}.gen_id = {table_name3}.gen_id                      \n",
        "                      LEFT JOIN  {table_name4}  AS {table_name4}                       \n",
        "                      ON {table_name1}.mov_id = {table_name4}.mov_id                      \n",
        "                      LEFT JOIN  {table_name5}  AS {table_name5}                       \n",
        "                      ON {table_name4}.dir_id = {table_name5}.dir_id                      \n",
        "                 ''')\n",
        "pd.DataFrame(rs.fetchall(), columns = ['mov_title', 'mov_year', 'gen_title', 'dir_fname', 'dir_lname']).T"
      ],
      "execution_count": 56,
      "outputs": [
        {
          "output_type": "execute_result",
          "data": {
            "text/html": [
              "<div>\n",
              "<style scoped>\n",
              "    .dataframe tbody tr th:only-of-type {\n",
              "        vertical-align: middle;\n",
              "    }\n",
              "\n",
              "    .dataframe tbody tr th {\n",
              "        vertical-align: top;\n",
              "    }\n",
              "\n",
              "    .dataframe thead th {\n",
              "        text-align: right;\n",
              "    }\n",
              "</style>\n",
              "<table border=\"1\" class=\"dataframe\">\n",
              "  <thead>\n",
              "    <tr style=\"text-align: right;\">\n",
              "      <th></th>\n",
              "      <th>0</th>\n",
              "      <th>1</th>\n",
              "      <th>2</th>\n",
              "      <th>3</th>\n",
              "      <th>4</th>\n",
              "      <th>5</th>\n",
              "      <th>6</th>\n",
              "      <th>7</th>\n",
              "      <th>8</th>\n",
              "      <th>9</th>\n",
              "      <th>10</th>\n",
              "      <th>11</th>\n",
              "      <th>12</th>\n",
              "      <th>13</th>\n",
              "      <th>14</th>\n",
              "      <th>15</th>\n",
              "      <th>16</th>\n",
              "      <th>17</th>\n",
              "      <th>18</th>\n",
              "      <th>19</th>\n",
              "      <th>20</th>\n",
              "      <th>21</th>\n",
              "      <th>22</th>\n",
              "      <th>23</th>\n",
              "      <th>24</th>\n",
              "      <th>25</th>\n",
              "      <th>26</th>\n",
              "      <th>27</th>\n",
              "    </tr>\n",
              "  </thead>\n",
              "  <tbody>\n",
              "    <tr>\n",
              "      <th>mov_title</th>\n",
              "      <td>Vertigo</td>\n",
              "      <td>TheInnocents</td>\n",
              "      <td>LawrenceofArabia</td>\n",
              "      <td>TheDeerHunter</td>\n",
              "      <td>Amadeus</td>\n",
              "      <td>BladeRunner</td>\n",
              "      <td>EyesWideShut</td>\n",
              "      <td>TheUsualSuspects</td>\n",
              "      <td>Chinatown</td>\n",
              "      <td>BoogieNights</td>\n",
              "      <td>AnnieHall</td>\n",
              "      <td>PrincessMononoke</td>\n",
              "      <td>TheShawshankRedemption</td>\n",
              "      <td>AmericanBeauty</td>\n",
              "      <td>Titanic</td>\n",
              "      <td>GoodWillHunting</td>\n",
              "      <td>Deliverance</td>\n",
              "      <td>Trainspotting</td>\n",
              "      <td>ThePrestige</td>\n",
              "      <td>DonnieDarko</td>\n",
              "      <td>SlumdogMillionaire</td>\n",
              "      <td>Aliens</td>\n",
              "      <td>BeyondtheSea</td>\n",
              "      <td>Avatar</td>\n",
              "      <td>SevenSamurai</td>\n",
              "      <td>SpiritedAway</td>\n",
              "      <td>BacktotheFuture</td>\n",
              "      <td>Braveheart</td>\n",
              "    </tr>\n",
              "    <tr>\n",
              "      <th>mov_year</th>\n",
              "      <td>1958</td>\n",
              "      <td>1961</td>\n",
              "      <td>1962</td>\n",
              "      <td>1978</td>\n",
              "      <td>1984</td>\n",
              "      <td>1982</td>\n",
              "      <td>1999</td>\n",
              "      <td>1995</td>\n",
              "      <td>1974</td>\n",
              "      <td>1997</td>\n",
              "      <td>1977</td>\n",
              "      <td>1997</td>\n",
              "      <td>1994</td>\n",
              "      <td>1999</td>\n",
              "      <td>1997</td>\n",
              "      <td>1997</td>\n",
              "      <td>1972</td>\n",
              "      <td>1996</td>\n",
              "      <td>2006</td>\n",
              "      <td>2001</td>\n",
              "      <td>2008</td>\n",
              "      <td>1986</td>\n",
              "      <td>2004</td>\n",
              "      <td>2009</td>\n",
              "      <td>1954</td>\n",
              "      <td>2001</td>\n",
              "      <td>1985</td>\n",
              "      <td>1995</td>\n",
              "    </tr>\n",
              "    <tr>\n",
              "      <th>gen_title</th>\n",
              "      <td>Mystery</td>\n",
              "      <td>Horror</td>\n",
              "      <td>Adventure</td>\n",
              "      <td>War</td>\n",
              "      <td>None</td>\n",
              "      <td>Thriller</td>\n",
              "      <td>Mystery</td>\n",
              "      <td>Crime</td>\n",
              "      <td>None</td>\n",
              "      <td>None</td>\n",
              "      <td>Comedy</td>\n",
              "      <td>Animation</td>\n",
              "      <td>Crime</td>\n",
              "      <td>Romance</td>\n",
              "      <td>None</td>\n",
              "      <td>None</td>\n",
              "      <td>Adventure</td>\n",
              "      <td>Drama</td>\n",
              "      <td>None</td>\n",
              "      <td>None</td>\n",
              "      <td>Drama</td>\n",
              "      <td>Action</td>\n",
              "      <td>Music</td>\n",
              "      <td>None</td>\n",
              "      <td>Drama</td>\n",
              "      <td>Mystery</td>\n",
              "      <td>Drama</td>\n",
              "      <td>None</td>\n",
              "    </tr>\n",
              "    <tr>\n",
              "      <th>dir_fname</th>\n",
              "      <td>Alfred</td>\n",
              "      <td>Jack</td>\n",
              "      <td>David</td>\n",
              "      <td>Michael</td>\n",
              "      <td>Milos</td>\n",
              "      <td>Ridley</td>\n",
              "      <td>Stanley</td>\n",
              "      <td>Bryan</td>\n",
              "      <td>Roman</td>\n",
              "      <td>Paul</td>\n",
              "      <td>Woody</td>\n",
              "      <td>Hayao</td>\n",
              "      <td>Frank</td>\n",
              "      <td>Sam</td>\n",
              "      <td>James</td>\n",
              "      <td>Gus</td>\n",
              "      <td>John</td>\n",
              "      <td>Danny</td>\n",
              "      <td>Christopher</td>\n",
              "      <td>Richard</td>\n",
              "      <td>Danny</td>\n",
              "      <td>James</td>\n",
              "      <td>Kevin</td>\n",
              "      <td>None</td>\n",
              "      <td>None</td>\n",
              "      <td>None</td>\n",
              "      <td>None</td>\n",
              "      <td>None</td>\n",
              "    </tr>\n",
              "    <tr>\n",
              "      <th>dir_lname</th>\n",
              "      <td>Hitchcock</td>\n",
              "      <td>Clayton</td>\n",
              "      <td>Lean</td>\n",
              "      <td>Cimino</td>\n",
              "      <td>Forman</td>\n",
              "      <td>Scott</td>\n",
              "      <td>Kubrick</td>\n",
              "      <td>Singer</td>\n",
              "      <td>Polanski</td>\n",
              "      <td>ThomasAnderson</td>\n",
              "      <td>Allen</td>\n",
              "      <td>Miyazaki</td>\n",
              "      <td>Darabont</td>\n",
              "      <td>Mendes</td>\n",
              "      <td>Cameron</td>\n",
              "      <td>VanSant</td>\n",
              "      <td>Boorman</td>\n",
              "      <td>Boyle</td>\n",
              "      <td>Nolan</td>\n",
              "      <td>Kelly</td>\n",
              "      <td>Boyle</td>\n",
              "      <td>Cameron</td>\n",
              "      <td>Spacey</td>\n",
              "      <td>None</td>\n",
              "      <td>None</td>\n",
              "      <td>None</td>\n",
              "      <td>None</td>\n",
              "      <td>None</td>\n",
              "    </tr>\n",
              "  </tbody>\n",
              "</table>\n",
              "</div>"
            ],
            "text/plain": [
              "                   0             1                 2              3        4            5             6                 7          8               9         10                11                      12              13       14               15           16             17           18           19                  20       21            22      23            24            25               26          27\n",
              "mov_title    Vertigo  TheInnocents  LawrenceofArabia  TheDeerHunter  Amadeus  BladeRunner  EyesWideShut  TheUsualSuspects  Chinatown    BoogieNights  AnnieHall  PrincessMononoke  TheShawshankRedemption  AmericanBeauty  Titanic  GoodWillHunting  Deliverance  Trainspotting  ThePrestige  DonnieDarko  SlumdogMillionaire   Aliens  BeyondtheSea  Avatar  SevenSamurai  SpiritedAway  BacktotheFuture  Braveheart\n",
              "mov_year        1958          1961              1962           1978     1984         1982          1999              1995       1974            1997       1977              1997                    1994            1999     1997             1997         1972           1996         2006         2001                2008     1986          2004    2009          1954          2001             1985        1995\n",
              "gen_title    Mystery        Horror         Adventure            War     None     Thriller       Mystery             Crime       None            None     Comedy         Animation                   Crime         Romance     None             None    Adventure          Drama         None         None               Drama   Action         Music    None         Drama       Mystery            Drama        None\n",
              "dir_fname     Alfred          Jack             David        Michael    Milos       Ridley       Stanley             Bryan      Roman            Paul      Woody             Hayao                   Frank             Sam    James              Gus         John          Danny  Christopher      Richard               Danny    James         Kevin    None          None          None             None        None\n",
              "dir_lname  Hitchcock       Clayton              Lean         Cimino   Forman        Scott       Kubrick            Singer   Polanski  ThomasAnderson      Allen          Miyazaki                Darabont          Mendes  Cameron          VanSant      Boorman          Boyle        Nolan        Kelly               Boyle  Cameron        Spacey    None          None          None             None        None"
            ]
          },
          "metadata": {
            "tags": []
          },
          "execution_count": 56
        }
      ]
    },
    {
      "cell_type": "markdown",
      "metadata": {
        "colab_type": "text",
        "id": "jQXtaSMAdyEz"
      },
      "source": [
        "> * **Pandas**"
      ]
    },
    {
      "cell_type": "code",
      "metadata": {
        "colab_type": "code",
        "id": "GN2xVkevdyEz",
        "colab": {
          "base_uri": "https://localhost:8080/",
          "height": 0
        },
        "outputId": "3495e307-1bab-45a6-8cee-0665ba4072b0"
      },
      "source": [
        "table1, table2, table3 = db[table_name1], db[table_name2], db[table_name3]\n",
        "table4, table5 = db[table_name4], db[table_name5]\n",
        "\n",
        "SELECT_CLAUSE = ['mov_title', 'mov_year', 'gen_title', 'dir_fname', 'dir_lname']\n",
        "rs = table1.merge(right=table2, how='left', on='mov_id') \\\n",
        "      .merge(table3, 'left', 'gen_id') \\\n",
        "      .merge(table4, 'left', 'mov_id') \\\n",
        "      .merge(table5, 'left', 'dir_id') \\\n",
        "      [SELECT_CLAUSE]\n",
        "rs.T"
      ],
      "execution_count": 57,
      "outputs": [
        {
          "output_type": "execute_result",
          "data": {
            "text/html": [
              "<div>\n",
              "<style scoped>\n",
              "    .dataframe tbody tr th:only-of-type {\n",
              "        vertical-align: middle;\n",
              "    }\n",
              "\n",
              "    .dataframe tbody tr th {\n",
              "        vertical-align: top;\n",
              "    }\n",
              "\n",
              "    .dataframe thead th {\n",
              "        text-align: right;\n",
              "    }\n",
              "</style>\n",
              "<table border=\"1\" class=\"dataframe\">\n",
              "  <thead>\n",
              "    <tr style=\"text-align: right;\">\n",
              "      <th></th>\n",
              "      <th>0</th>\n",
              "      <th>1</th>\n",
              "      <th>2</th>\n",
              "      <th>3</th>\n",
              "      <th>4</th>\n",
              "      <th>5</th>\n",
              "      <th>6</th>\n",
              "      <th>7</th>\n",
              "      <th>8</th>\n",
              "      <th>9</th>\n",
              "      <th>10</th>\n",
              "      <th>11</th>\n",
              "      <th>12</th>\n",
              "      <th>13</th>\n",
              "      <th>14</th>\n",
              "      <th>15</th>\n",
              "      <th>16</th>\n",
              "      <th>17</th>\n",
              "      <th>18</th>\n",
              "      <th>19</th>\n",
              "      <th>20</th>\n",
              "      <th>21</th>\n",
              "      <th>22</th>\n",
              "      <th>23</th>\n",
              "      <th>24</th>\n",
              "      <th>25</th>\n",
              "      <th>26</th>\n",
              "      <th>27</th>\n",
              "    </tr>\n",
              "  </thead>\n",
              "  <tbody>\n",
              "    <tr>\n",
              "      <th>mov_title</th>\n",
              "      <td>Vertigo</td>\n",
              "      <td>TheInnocents</td>\n",
              "      <td>LawrenceofArabia</td>\n",
              "      <td>TheDeerHunter</td>\n",
              "      <td>Amadeus</td>\n",
              "      <td>BladeRunner</td>\n",
              "      <td>EyesWideShut</td>\n",
              "      <td>TheUsualSuspects</td>\n",
              "      <td>Chinatown</td>\n",
              "      <td>BoogieNights</td>\n",
              "      <td>AnnieHall</td>\n",
              "      <td>PrincessMononoke</td>\n",
              "      <td>TheShawshankRedemption</td>\n",
              "      <td>AmericanBeauty</td>\n",
              "      <td>Titanic</td>\n",
              "      <td>GoodWillHunting</td>\n",
              "      <td>Deliverance</td>\n",
              "      <td>Trainspotting</td>\n",
              "      <td>ThePrestige</td>\n",
              "      <td>DonnieDarko</td>\n",
              "      <td>SlumdogMillionaire</td>\n",
              "      <td>Aliens</td>\n",
              "      <td>BeyondtheSea</td>\n",
              "      <td>Avatar</td>\n",
              "      <td>SevenSamurai</td>\n",
              "      <td>SpiritedAway</td>\n",
              "      <td>BacktotheFuture</td>\n",
              "      <td>Braveheart</td>\n",
              "    </tr>\n",
              "    <tr>\n",
              "      <th>mov_year</th>\n",
              "      <td>1958</td>\n",
              "      <td>1961</td>\n",
              "      <td>1962</td>\n",
              "      <td>1978</td>\n",
              "      <td>1984</td>\n",
              "      <td>1982</td>\n",
              "      <td>1999</td>\n",
              "      <td>1995</td>\n",
              "      <td>1974</td>\n",
              "      <td>1997</td>\n",
              "      <td>1977</td>\n",
              "      <td>1997</td>\n",
              "      <td>1994</td>\n",
              "      <td>1999</td>\n",
              "      <td>1997</td>\n",
              "      <td>1997</td>\n",
              "      <td>1972</td>\n",
              "      <td>1996</td>\n",
              "      <td>2006</td>\n",
              "      <td>2001</td>\n",
              "      <td>2008</td>\n",
              "      <td>1986</td>\n",
              "      <td>2004</td>\n",
              "      <td>2009</td>\n",
              "      <td>1954</td>\n",
              "      <td>2001</td>\n",
              "      <td>1985</td>\n",
              "      <td>1995</td>\n",
              "    </tr>\n",
              "    <tr>\n",
              "      <th>gen_title</th>\n",
              "      <td>Mystery</td>\n",
              "      <td>Horror</td>\n",
              "      <td>Adventure</td>\n",
              "      <td>War</td>\n",
              "      <td>NaN</td>\n",
              "      <td>Thriller</td>\n",
              "      <td>Mystery</td>\n",
              "      <td>Crime</td>\n",
              "      <td>NaN</td>\n",
              "      <td>NaN</td>\n",
              "      <td>Comedy</td>\n",
              "      <td>Animation</td>\n",
              "      <td>Crime</td>\n",
              "      <td>Romance</td>\n",
              "      <td>NaN</td>\n",
              "      <td>NaN</td>\n",
              "      <td>Adventure</td>\n",
              "      <td>Drama</td>\n",
              "      <td>NaN</td>\n",
              "      <td>NaN</td>\n",
              "      <td>Drama</td>\n",
              "      <td>Action</td>\n",
              "      <td>Music</td>\n",
              "      <td>NaN</td>\n",
              "      <td>Drama</td>\n",
              "      <td>Mystery</td>\n",
              "      <td>Drama</td>\n",
              "      <td>NaN</td>\n",
              "    </tr>\n",
              "    <tr>\n",
              "      <th>dir_fname</th>\n",
              "      <td>Alfred</td>\n",
              "      <td>Jack</td>\n",
              "      <td>David</td>\n",
              "      <td>Michael</td>\n",
              "      <td>Milos</td>\n",
              "      <td>Ridley</td>\n",
              "      <td>Stanley</td>\n",
              "      <td>Bryan</td>\n",
              "      <td>Roman</td>\n",
              "      <td>Paul</td>\n",
              "      <td>Woody</td>\n",
              "      <td>Hayao</td>\n",
              "      <td>Frank</td>\n",
              "      <td>Sam</td>\n",
              "      <td>James</td>\n",
              "      <td>Gus</td>\n",
              "      <td>John</td>\n",
              "      <td>Danny</td>\n",
              "      <td>Christopher</td>\n",
              "      <td>Richard</td>\n",
              "      <td>Danny</td>\n",
              "      <td>James</td>\n",
              "      <td>Kevin</td>\n",
              "      <td>NaN</td>\n",
              "      <td>NaN</td>\n",
              "      <td>NaN</td>\n",
              "      <td>NaN</td>\n",
              "      <td>NaN</td>\n",
              "    </tr>\n",
              "    <tr>\n",
              "      <th>dir_lname</th>\n",
              "      <td>Hitchcock</td>\n",
              "      <td>Clayton</td>\n",
              "      <td>Lean</td>\n",
              "      <td>Cimino</td>\n",
              "      <td>Forman</td>\n",
              "      <td>Scott</td>\n",
              "      <td>Kubrick</td>\n",
              "      <td>Singer</td>\n",
              "      <td>Polanski</td>\n",
              "      <td>ThomasAnderson</td>\n",
              "      <td>Allen</td>\n",
              "      <td>Miyazaki</td>\n",
              "      <td>Darabont</td>\n",
              "      <td>Mendes</td>\n",
              "      <td>Cameron</td>\n",
              "      <td>VanSant</td>\n",
              "      <td>Boorman</td>\n",
              "      <td>Boyle</td>\n",
              "      <td>Nolan</td>\n",
              "      <td>Kelly</td>\n",
              "      <td>Boyle</td>\n",
              "      <td>Cameron</td>\n",
              "      <td>Spacey</td>\n",
              "      <td>NaN</td>\n",
              "      <td>NaN</td>\n",
              "      <td>NaN</td>\n",
              "      <td>NaN</td>\n",
              "      <td>NaN</td>\n",
              "    </tr>\n",
              "  </tbody>\n",
              "</table>\n",
              "</div>"
            ],
            "text/plain": [
              "                  0             1                 2              3        4            5             6                 7          8               9          10                11                      12              13       14               15           16             17           18           19                  20       21            22      23            24            25               26          27\n",
              "mov_title    Vertigo  TheInnocents  LawrenceofArabia  TheDeerHunter  Amadeus  BladeRunner  EyesWideShut  TheUsualSuspects  Chinatown    BoogieNights  AnnieHall  PrincessMononoke  TheShawshankRedemption  AmericanBeauty  Titanic  GoodWillHunting  Deliverance  Trainspotting  ThePrestige  DonnieDarko  SlumdogMillionaire   Aliens  BeyondtheSea  Avatar  SevenSamurai  SpiritedAway  BacktotheFuture  Braveheart\n",
              "mov_year        1958          1961              1962           1978     1984         1982          1999              1995       1974            1997       1977              1997                    1994            1999     1997             1997         1972           1996         2006         2001                2008     1986          2004    2009          1954          2001             1985        1995\n",
              "gen_title    Mystery        Horror         Adventure            War      NaN     Thriller       Mystery             Crime        NaN             NaN     Comedy         Animation                   Crime         Romance      NaN              NaN    Adventure          Drama          NaN          NaN               Drama   Action         Music     NaN         Drama       Mystery            Drama         NaN\n",
              "dir_fname     Alfred          Jack             David        Michael    Milos       Ridley       Stanley             Bryan      Roman            Paul      Woody             Hayao                   Frank             Sam    James              Gus         John          Danny  Christopher      Richard               Danny    James         Kevin     NaN           NaN           NaN              NaN         NaN\n",
              "dir_lname  Hitchcock       Clayton              Lean         Cimino   Forman        Scott       Kubrick            Singer   Polanski  ThomasAnderson      Allen          Miyazaki                Darabont          Mendes  Cameron          VanSant      Boorman          Boyle        Nolan        Kelly               Boyle  Cameron        Spacey     NaN           NaN           NaN              NaN         NaN"
            ]
          },
          "metadata": {
            "tags": []
          },
          "execution_count": 57
        }
      ]
    },
    {
      "cell_type": "markdown",
      "metadata": {
        "colab_type": "text",
        "id": "nHB-kYesiPhf"
      },
      "source": [
        "### Query 37: Write a query to list all the movies with title, year, date of release, movie duration, and first and last name of the director which released before 1st january 1989, and sort the result set according to release date from highest date to lowest. "
      ]
    },
    {
      "cell_type": "code",
      "metadata": {
        "colab_type": "code",
        "id": "08hHEfogiPhj",
        "colab": {}
      },
      "source": [
        "table_name1, table_name2, table_name3  = 'movie', 'movie_direction', 'director'"
      ],
      "execution_count": 0,
      "outputs": []
    },
    {
      "cell_type": "markdown",
      "metadata": {
        "colab_type": "text",
        "id": "Y8cbkHd5iPhm"
      },
      "source": [
        "> * **SQL**"
      ]
    },
    {
      "cell_type": "code",
      "metadata": {
        "colab_type": "code",
        "id": "BR6-4LYbiPhm",
        "colab": {
          "base_uri": "https://localhost:8080/",
          "height": 221
        },
        "outputId": "d8d95ae4-5d9e-48d2-d694-6ad0497939d9"
      },
      "source": [
        "rs = con.execute(f''' SELECT {table_name1}.mov_title, {table_name1}.mov_year, {table_name1}.mov_dt_rel,\n",
        "                             {table_name5}.dir_fname, {table_name5}.dir_lname\n",
        "                      FROM {table_name1}  AS {table_name1} \n",
        "                      LEFT JOIN {table_name2} AS {table_name2}                       \n",
        "                      ON {table_name1}.mov_id = {table_name2}.mov_id\n",
        "                      LEFT JOIN  {table_name3}  AS {table_name3}                       \n",
        "                      ON {table_name2}.dir_id = {table_name3}.dir_id\n",
        "                      WHERE {table_name1}.mov_dt_rel < \"1989-01-01\"\n",
        "                      ORDER BY {table_name1}.mov_dt_rel DESC\n",
        "                 ''')\n",
        "pd.DataFrame(rs.fetchall(), columns = ['mov_title', 'mov_year', 'mov_dt_rel', 'dir_fname', 'dir_lname']).T"
      ],
      "execution_count": 59,
      "outputs": [
        {
          "output_type": "execute_result",
          "data": {
            "text/html": [
              "<div>\n",
              "<style scoped>\n",
              "    .dataframe tbody tr th:only-of-type {\n",
              "        vertical-align: middle;\n",
              "    }\n",
              "\n",
              "    .dataframe tbody tr th {\n",
              "        vertical-align: top;\n",
              "    }\n",
              "\n",
              "    .dataframe thead th {\n",
              "        text-align: right;\n",
              "    }\n",
              "</style>\n",
              "<table border=\"1\" class=\"dataframe\">\n",
              "  <thead>\n",
              "    <tr style=\"text-align: right;\">\n",
              "      <th></th>\n",
              "      <th>0</th>\n",
              "      <th>1</th>\n",
              "      <th>2</th>\n",
              "      <th>3</th>\n",
              "      <th>4</th>\n",
              "      <th>5</th>\n",
              "      <th>6</th>\n",
              "      <th>7</th>\n",
              "      <th>8</th>\n",
              "      <th>9</th>\n",
              "      <th>10</th>\n",
              "      <th>11</th>\n",
              "    </tr>\n",
              "  </thead>\n",
              "  <tbody>\n",
              "    <tr>\n",
              "      <th>mov_title</th>\n",
              "      <td>Aliens</td>\n",
              "      <td>BacktotheFuture</td>\n",
              "      <td>Amadeus</td>\n",
              "      <td>Deliverance</td>\n",
              "      <td>BladeRunner</td>\n",
              "      <td>TheDeerHunter</td>\n",
              "      <td>AnnieHall</td>\n",
              "      <td>Chinatown</td>\n",
              "      <td>LawrenceofArabia</td>\n",
              "      <td>TheInnocents</td>\n",
              "      <td>Vertigo</td>\n",
              "      <td>SevenSamurai</td>\n",
              "    </tr>\n",
              "    <tr>\n",
              "      <th>mov_year</th>\n",
              "      <td>1986</td>\n",
              "      <td>1985</td>\n",
              "      <td>1984</td>\n",
              "      <td>1972</td>\n",
              "      <td>1982</td>\n",
              "      <td>1978</td>\n",
              "      <td>1977</td>\n",
              "      <td>1974</td>\n",
              "      <td>1962</td>\n",
              "      <td>1961</td>\n",
              "      <td>1958</td>\n",
              "      <td>1954</td>\n",
              "    </tr>\n",
              "    <tr>\n",
              "      <th>mov_dt_rel</th>\n",
              "      <td>1986-08-29</td>\n",
              "      <td>1985-12-04</td>\n",
              "      <td>1985-01-07</td>\n",
              "      <td>1982-10-05</td>\n",
              "      <td>1982-09-09</td>\n",
              "      <td>1979-03-08</td>\n",
              "      <td>1977-04-20</td>\n",
              "      <td>1974-08-09</td>\n",
              "      <td>1962-12-11</td>\n",
              "      <td>1962-02-19</td>\n",
              "      <td>1958-08-24</td>\n",
              "      <td>1954-04-26</td>\n",
              "    </tr>\n",
              "    <tr>\n",
              "      <th>dir_fname</th>\n",
              "      <td>James</td>\n",
              "      <td>None</td>\n",
              "      <td>Milos</td>\n",
              "      <td>John</td>\n",
              "      <td>Ridley</td>\n",
              "      <td>Michael</td>\n",
              "      <td>Woody</td>\n",
              "      <td>Roman</td>\n",
              "      <td>David</td>\n",
              "      <td>Jack</td>\n",
              "      <td>Alfred</td>\n",
              "      <td>None</td>\n",
              "    </tr>\n",
              "    <tr>\n",
              "      <th>dir_lname</th>\n",
              "      <td>Cameron</td>\n",
              "      <td>None</td>\n",
              "      <td>Forman</td>\n",
              "      <td>Boorman</td>\n",
              "      <td>Scott</td>\n",
              "      <td>Cimino</td>\n",
              "      <td>Allen</td>\n",
              "      <td>Polanski</td>\n",
              "      <td>Lean</td>\n",
              "      <td>Clayton</td>\n",
              "      <td>Hitchcock</td>\n",
              "      <td>None</td>\n",
              "    </tr>\n",
              "  </tbody>\n",
              "</table>\n",
              "</div>"
            ],
            "text/plain": [
              "                     0                1           2            3            4              5           6           7                 8             9          10            11\n",
              "mov_title       Aliens  BacktotheFuture     Amadeus  Deliverance  BladeRunner  TheDeerHunter   AnnieHall   Chinatown  LawrenceofArabia  TheInnocents     Vertigo  SevenSamurai\n",
              "mov_year          1986             1985        1984         1972         1982           1978        1977        1974              1962          1961        1958          1954\n",
              "mov_dt_rel  1986-08-29       1985-12-04  1985-01-07   1982-10-05   1982-09-09     1979-03-08  1977-04-20  1974-08-09        1962-12-11    1962-02-19  1958-08-24    1954-04-26\n",
              "dir_fname        James             None       Milos         John       Ridley        Michael       Woody       Roman             David          Jack      Alfred          None\n",
              "dir_lname      Cameron             None      Forman      Boorman        Scott         Cimino       Allen    Polanski              Lean       Clayton   Hitchcock          None"
            ]
          },
          "metadata": {
            "tags": []
          },
          "execution_count": 59
        }
      ]
    },
    {
      "cell_type": "markdown",
      "metadata": {
        "colab_type": "text",
        "id": "0_l7S2xuiPhp"
      },
      "source": [
        "> * **Pandas**"
      ]
    },
    {
      "cell_type": "code",
      "metadata": {
        "colab_type": "code",
        "id": "2CILjKRWiPhr",
        "colab": {
          "base_uri": "https://localhost:8080/",
          "height": 221
        },
        "outputId": "806d21ac-6562-4f93-dbbe-c6cba5108a87"
      },
      "source": [
        "table1, table2, table3 = db[table_name1], db[table_name2], db[table_name3]\n",
        "\n",
        "SELECT_CLAUSE = ['mov_title', 'mov_year', 'mov_dt_rel', 'dir_fname', 'dir_lname']\n",
        "WHERE_CLAUSE = (table1['mov_dt_rel'] < '1989-01-01')\n",
        "rs = table1[WHERE_CLAUSE].merge(right=table2, how='left', on='mov_id') \\\n",
        "      .merge(table3, 'left', 'dir_id') \\\n",
        "      [SELECT_CLAUSE].sort_values(['mov_dt_rel'], ascending=False)\n",
        "rs.T"
      ],
      "execution_count": 60,
      "outputs": [
        {
          "output_type": "execute_result",
          "data": {
            "text/html": [
              "<div>\n",
              "<style scoped>\n",
              "    .dataframe tbody tr th:only-of-type {\n",
              "        vertical-align: middle;\n",
              "    }\n",
              "\n",
              "    .dataframe tbody tr th {\n",
              "        vertical-align: top;\n",
              "    }\n",
              "\n",
              "    .dataframe thead th {\n",
              "        text-align: right;\n",
              "    }\n",
              "</style>\n",
              "<table border=\"1\" class=\"dataframe\">\n",
              "  <thead>\n",
              "    <tr style=\"text-align: right;\">\n",
              "      <th></th>\n",
              "      <th>9</th>\n",
              "      <th>11</th>\n",
              "      <th>4</th>\n",
              "      <th>8</th>\n",
              "      <th>5</th>\n",
              "      <th>3</th>\n",
              "      <th>7</th>\n",
              "      <th>6</th>\n",
              "      <th>2</th>\n",
              "      <th>1</th>\n",
              "      <th>0</th>\n",
              "      <th>10</th>\n",
              "    </tr>\n",
              "  </thead>\n",
              "  <tbody>\n",
              "    <tr>\n",
              "      <th>mov_title</th>\n",
              "      <td>Aliens</td>\n",
              "      <td>BacktotheFuture</td>\n",
              "      <td>Amadeus</td>\n",
              "      <td>Deliverance</td>\n",
              "      <td>BladeRunner</td>\n",
              "      <td>TheDeerHunter</td>\n",
              "      <td>AnnieHall</td>\n",
              "      <td>Chinatown</td>\n",
              "      <td>LawrenceofArabia</td>\n",
              "      <td>TheInnocents</td>\n",
              "      <td>Vertigo</td>\n",
              "      <td>SevenSamurai</td>\n",
              "    </tr>\n",
              "    <tr>\n",
              "      <th>mov_year</th>\n",
              "      <td>1986</td>\n",
              "      <td>1985</td>\n",
              "      <td>1984</td>\n",
              "      <td>1972</td>\n",
              "      <td>1982</td>\n",
              "      <td>1978</td>\n",
              "      <td>1977</td>\n",
              "      <td>1974</td>\n",
              "      <td>1962</td>\n",
              "      <td>1961</td>\n",
              "      <td>1958</td>\n",
              "      <td>1954</td>\n",
              "    </tr>\n",
              "    <tr>\n",
              "      <th>mov_dt_rel</th>\n",
              "      <td>1986-08-29</td>\n",
              "      <td>1985-12-04</td>\n",
              "      <td>1985-01-07</td>\n",
              "      <td>1982-10-05</td>\n",
              "      <td>1982-09-09</td>\n",
              "      <td>1979-03-08</td>\n",
              "      <td>1977-04-20</td>\n",
              "      <td>1974-08-09</td>\n",
              "      <td>1962-12-11</td>\n",
              "      <td>1962-02-19</td>\n",
              "      <td>1958-08-24</td>\n",
              "      <td>1954-04-26</td>\n",
              "    </tr>\n",
              "    <tr>\n",
              "      <th>dir_fname</th>\n",
              "      <td>James</td>\n",
              "      <td>NaN</td>\n",
              "      <td>Milos</td>\n",
              "      <td>John</td>\n",
              "      <td>Ridley</td>\n",
              "      <td>Michael</td>\n",
              "      <td>Woody</td>\n",
              "      <td>Roman</td>\n",
              "      <td>David</td>\n",
              "      <td>Jack</td>\n",
              "      <td>Alfred</td>\n",
              "      <td>NaN</td>\n",
              "    </tr>\n",
              "    <tr>\n",
              "      <th>dir_lname</th>\n",
              "      <td>Cameron</td>\n",
              "      <td>NaN</td>\n",
              "      <td>Forman</td>\n",
              "      <td>Boorman</td>\n",
              "      <td>Scott</td>\n",
              "      <td>Cimino</td>\n",
              "      <td>Allen</td>\n",
              "      <td>Polanski</td>\n",
              "      <td>Lean</td>\n",
              "      <td>Clayton</td>\n",
              "      <td>Hitchcock</td>\n",
              "      <td>NaN</td>\n",
              "    </tr>\n",
              "  </tbody>\n",
              "</table>\n",
              "</div>"
            ],
            "text/plain": [
              "                    9                11          4            8            5              3           7           6                 2             1           0             10\n",
              "mov_title       Aliens  BacktotheFuture     Amadeus  Deliverance  BladeRunner  TheDeerHunter   AnnieHall   Chinatown  LawrenceofArabia  TheInnocents     Vertigo  SevenSamurai\n",
              "mov_year          1986             1985        1984         1972         1982           1978        1977        1974              1962          1961        1958          1954\n",
              "mov_dt_rel  1986-08-29       1985-12-04  1985-01-07   1982-10-05   1982-09-09     1979-03-08  1977-04-20  1974-08-09        1962-12-11    1962-02-19  1958-08-24    1954-04-26\n",
              "dir_fname        James              NaN       Milos         John       Ridley        Michael       Woody       Roman             David          Jack      Alfred           NaN\n",
              "dir_lname      Cameron              NaN      Forman      Boorman        Scott         Cimino       Allen    Polanski              Lean       Clayton   Hitchcock           NaN"
            ]
          },
          "metadata": {
            "tags": []
          },
          "execution_count": 60
        }
      ]
    },
    {
      "cell_type": "code",
      "metadata": {
        "id": "x9Plmm91lBg8",
        "colab_type": "code",
        "colab": {}
      },
      "source": [
        ""
      ],
      "execution_count": 0,
      "outputs": []
    },
    {
      "cell_type": "markdown",
      "metadata": {
        "colab_type": "text",
        "id": "kxE-JrCRllUa"
      },
      "source": [
        "### Query 38: Write a query in SQL to compute a report which contain the genres of those movies with their average time and number of movies for each genres."
      ]
    },
    {
      "cell_type": "code",
      "metadata": {
        "colab_type": "code",
        "id": "KDwvyN_OllUd",
        "colab": {}
      },
      "source": [
        "table_name1, table_name2, table_name3  = 'movie', 'movie_genres', 'genres'"
      ],
      "execution_count": 0,
      "outputs": []
    },
    {
      "cell_type": "markdown",
      "metadata": {
        "colab_type": "text",
        "id": "7N5-_jYRllUi"
      },
      "source": [
        "> * **SQL**"
      ]
    },
    {
      "cell_type": "code",
      "metadata": {
        "colab_type": "code",
        "id": "r59WiyKDllUj",
        "colab": {
          "base_uri": "https://localhost:8080/",
          "height": 0
        },
        "outputId": "e73d6555-e6b6-4aa4-d2f3-d42cb058bd5e"
      },
      "source": [
        "rs = con.execute(f''' SELECT {table_name3}.gen_title, COUNT({table_name1}.mov_id), AVG({table_name1}.mov_time)                            \n",
        "                      FROM {table_name1}  AS {table_name1} \n",
        "                      LEFT JOIN {table_name2} AS {table_name2}                       \n",
        "                      ON {table_name1}.mov_id = {table_name2}.mov_id\n",
        "                      LEFT JOIN  {table_name3}  AS {table_name3}                       \n",
        "                      ON {table_name2}.gen_id = {table_name3}.gen_id\n",
        "                      GROUP BY {table_name3}.gen_title                      \n",
        "                 ''')\n",
        "pd.DataFrame(rs.fetchall(), columns = ['gen_title', 'movie_count', 'avg_movie_time']).T"
      ],
      "execution_count": 62,
      "outputs": [
        {
          "output_type": "execute_result",
          "data": {
            "text/html": [
              "<div>\n",
              "<style scoped>\n",
              "    .dataframe tbody tr th:only-of-type {\n",
              "        vertical-align: middle;\n",
              "    }\n",
              "\n",
              "    .dataframe tbody tr th {\n",
              "        vertical-align: top;\n",
              "    }\n",
              "\n",
              "    .dataframe thead th {\n",
              "        text-align: right;\n",
              "    }\n",
              "</style>\n",
              "<table border=\"1\" class=\"dataframe\">\n",
              "  <thead>\n",
              "    <tr style=\"text-align: right;\">\n",
              "      <th></th>\n",
              "      <th>0</th>\n",
              "      <th>1</th>\n",
              "      <th>2</th>\n",
              "      <th>3</th>\n",
              "      <th>4</th>\n",
              "      <th>5</th>\n",
              "      <th>6</th>\n",
              "      <th>7</th>\n",
              "      <th>8</th>\n",
              "      <th>9</th>\n",
              "      <th>10</th>\n",
              "      <th>11</th>\n",
              "      <th>12</th>\n",
              "    </tr>\n",
              "  </thead>\n",
              "  <tbody>\n",
              "    <tr>\n",
              "      <th>gen_title</th>\n",
              "      <td>None</td>\n",
              "      <td>Action</td>\n",
              "      <td>Adventure</td>\n",
              "      <td>Animation</td>\n",
              "      <td>Comedy</td>\n",
              "      <td>Crime</td>\n",
              "      <td>Drama</td>\n",
              "      <td>Horror</td>\n",
              "      <td>Music</td>\n",
              "      <td>Mystery</td>\n",
              "      <td>Romance</td>\n",
              "      <td>Thriller</td>\n",
              "      <td>War</td>\n",
              "    </tr>\n",
              "    <tr>\n",
              "      <th>movie_count</th>\n",
              "      <td>9</td>\n",
              "      <td>1</td>\n",
              "      <td>2</td>\n",
              "      <td>1</td>\n",
              "      <td>1</td>\n",
              "      <td>2</td>\n",
              "      <td>4</td>\n",
              "      <td>1</td>\n",
              "      <td>1</td>\n",
              "      <td>3</td>\n",
              "      <td>1</td>\n",
              "      <td>1</td>\n",
              "      <td>1</td>\n",
              "    </tr>\n",
              "    <tr>\n",
              "      <th>avg_movie_time</th>\n",
              "      <td>149.778</td>\n",
              "      <td>137</td>\n",
              "      <td>162.5</td>\n",
              "      <td>134</td>\n",
              "      <td>93</td>\n",
              "      <td>124</td>\n",
              "      <td>134.25</td>\n",
              "      <td>100</td>\n",
              "      <td>118</td>\n",
              "      <td>137.333</td>\n",
              "      <td>122</td>\n",
              "      <td>117</td>\n",
              "      <td>183</td>\n",
              "    </tr>\n",
              "  </tbody>\n",
              "</table>\n",
              "</div>"
            ],
            "text/plain": [
              "                      0       1          2          3       4      5       6       7      8        9       10        11   12\n",
              "gen_title          None  Action  Adventure  Animation  Comedy  Crime   Drama  Horror  Music  Mystery  Romance  Thriller  War\n",
              "movie_count           9       1          2          1       1      2       4       1      1        3        1         1    1\n",
              "avg_movie_time  149.778     137      162.5        134      93    124  134.25     100    118  137.333      122       117  183"
            ]
          },
          "metadata": {
            "tags": []
          },
          "execution_count": 62
        }
      ]
    },
    {
      "cell_type": "markdown",
      "metadata": {
        "id": "vNG5TTsgnvif",
        "colab_type": "text"
      },
      "source": [
        "> * There are 9 movies for which we don't know the genres."
      ]
    },
    {
      "cell_type": "markdown",
      "metadata": {
        "colab_type": "text",
        "id": "IuetHjzzllUm"
      },
      "source": [
        "> * **Pandas**"
      ]
    },
    {
      "cell_type": "code",
      "metadata": {
        "colab_type": "code",
        "id": "YoARFhoPllUn",
        "colab": {
          "base_uri": "https://localhost:8080/",
          "height": 0
        },
        "outputId": "c38c5349-8d62-428a-f7ad-5c99e8a34ef8"
      },
      "source": [
        "table1, table2, table3 = db[table_name1], db[table_name2], db[table_name3]\n",
        "\n",
        "SELECT_CLAUSE = ['gen_title', 'movie_count', 'avg_movie_time']\n",
        "GROUPBY_COLUMNS = ['gen_title']\n",
        "AGG_OP = {'mov_id':'count', 'mov_time': 'mean'}\n",
        "rs = table1.merge(right=table2, how='left', on='mov_id') \\\n",
        "      .merge(table3, 'left', 'gen_id') \\\n",
        "      .groupby(GROUPBY_COLUMNS) \\\n",
        "      .agg(AGG_OP)\n",
        "rs"
      ],
      "execution_count": 63,
      "outputs": [
        {
          "output_type": "execute_result",
          "data": {
            "text/html": [
              "<div>\n",
              "<style scoped>\n",
              "    .dataframe tbody tr th:only-of-type {\n",
              "        vertical-align: middle;\n",
              "    }\n",
              "\n",
              "    .dataframe tbody tr th {\n",
              "        vertical-align: top;\n",
              "    }\n",
              "\n",
              "    .dataframe thead th {\n",
              "        text-align: right;\n",
              "    }\n",
              "</style>\n",
              "<table border=\"1\" class=\"dataframe\">\n",
              "  <thead>\n",
              "    <tr style=\"text-align: right;\">\n",
              "      <th></th>\n",
              "      <th>mov_id</th>\n",
              "      <th>mov_time</th>\n",
              "    </tr>\n",
              "    <tr>\n",
              "      <th>gen_title</th>\n",
              "      <th></th>\n",
              "      <th></th>\n",
              "    </tr>\n",
              "  </thead>\n",
              "  <tbody>\n",
              "    <tr>\n",
              "      <th>Action</th>\n",
              "      <td>1</td>\n",
              "      <td>137.000000</td>\n",
              "    </tr>\n",
              "    <tr>\n",
              "      <th>Adventure</th>\n",
              "      <td>2</td>\n",
              "      <td>162.500000</td>\n",
              "    </tr>\n",
              "    <tr>\n",
              "      <th>Animation</th>\n",
              "      <td>1</td>\n",
              "      <td>134.000000</td>\n",
              "    </tr>\n",
              "    <tr>\n",
              "      <th>Comedy</th>\n",
              "      <td>1</td>\n",
              "      <td>93.000000</td>\n",
              "    </tr>\n",
              "    <tr>\n",
              "      <th>Crime</th>\n",
              "      <td>2</td>\n",
              "      <td>124.000000</td>\n",
              "    </tr>\n",
              "    <tr>\n",
              "      <th>Drama</th>\n",
              "      <td>4</td>\n",
              "      <td>134.250000</td>\n",
              "    </tr>\n",
              "    <tr>\n",
              "      <th>Horror</th>\n",
              "      <td>1</td>\n",
              "      <td>100.000000</td>\n",
              "    </tr>\n",
              "    <tr>\n",
              "      <th>Music</th>\n",
              "      <td>1</td>\n",
              "      <td>118.000000</td>\n",
              "    </tr>\n",
              "    <tr>\n",
              "      <th>Mystery</th>\n",
              "      <td>3</td>\n",
              "      <td>137.333333</td>\n",
              "    </tr>\n",
              "    <tr>\n",
              "      <th>Romance</th>\n",
              "      <td>1</td>\n",
              "      <td>122.000000</td>\n",
              "    </tr>\n",
              "    <tr>\n",
              "      <th>Thriller</th>\n",
              "      <td>1</td>\n",
              "      <td>117.000000</td>\n",
              "    </tr>\n",
              "    <tr>\n",
              "      <th>War</th>\n",
              "      <td>1</td>\n",
              "      <td>183.000000</td>\n",
              "    </tr>\n",
              "  </tbody>\n",
              "</table>\n",
              "</div>"
            ],
            "text/plain": [
              "           mov_id    mov_time\n",
              "gen_title                    \n",
              "Action          1  137.000000\n",
              "Adventure       2  162.500000\n",
              "Animation       1  134.000000\n",
              "Comedy          1   93.000000\n",
              "Crime           2  124.000000\n",
              "Drama           4  134.250000\n",
              "Horror          1  100.000000\n",
              "Music           1  118.000000\n",
              "Mystery         3  137.333333\n",
              "Romance         1  122.000000\n",
              "Thriller        1  117.000000\n",
              "War             1  183.000000"
            ]
          },
          "metadata": {
            "tags": []
          },
          "execution_count": 63
        }
      ]
    },
    {
      "cell_type": "markdown",
      "metadata": {
        "colab_type": "text",
        "id": "4byAnNzS_LjR"
      },
      "source": [
        "### Query 39:  Write a query to find the movie with lowest duration along with the year, director's name, actor's name and his/her role in that production."
      ]
    },
    {
      "cell_type": "code",
      "metadata": {
        "colab_type": "code",
        "id": "mgcE43Pd_Lju",
        "colab": {}
      },
      "source": [
        "table_name1, table_name2, table_name3, table_name4, table_name5  = 'movie',  'movie_direction', 'director', 'movie_cast', 'actor'"
      ],
      "execution_count": 0,
      "outputs": []
    },
    {
      "cell_type": "markdown",
      "metadata": {
        "colab_type": "text",
        "id": "plsZ1zXn_Lj2"
      },
      "source": [
        "> * **SQL**"
      ]
    },
    {
      "cell_type": "code",
      "metadata": {
        "colab_type": "code",
        "id": "Tsg-fqcw_Lj4",
        "colab": {
          "base_uri": "https://localhost:8080/",
          "height": 80
        },
        "outputId": "9d7b9cef-1309-4144-a45c-77685b762775"
      },
      "source": [
        "rs = con.execute(f''' SELECT {table_name1}.mov_title, {table_name1}.mov_time, {table_name1}.mov_year,\n",
        "                             {table_name3}.dir_fname, {table_name3}.dir_lname, {table_name5}.act_fname,\n",
        "                             {table_name5}.act_lname, {table_name4}.role\n",
        "                      FROM {table_name1} AS {table_name1} \n",
        "                      LEFT JOIN {table_name2} AS {table_name2}                       \n",
        "                      ON {table_name1}.mov_id = {table_name2}.mov_id\n",
        "                      LEFT JOIN  {table_name3} AS {table_name3}                       \n",
        "                      ON {table_name2}.dir_id = {table_name3}.dir_id\n",
        "                      LEFT JOIN  {table_name4} AS {table_name4}                       \n",
        "                      ON {table_name2}.mov_id = {table_name4}.mov_id\n",
        "                      LEFT JOIN  {table_name5} AS {table_name5}\n",
        "                      ON {table_name4}.act_id = {table_name5}.act_id\n",
        "                      ORDER BY {table_name1}.mov_time ASC LIMIT 1\n",
        "                 ''')\n",
        "pd.DataFrame(rs.fetchall(), columns = ['mov_title', 'lowest_duration', 'mov_year',\n",
        "                                       'dir_fname', 'dir_lname', 'act_fname',\n",
        "                                       'act_lname', 'role'])"
      ],
      "execution_count": 65,
      "outputs": [
        {
          "output_type": "execute_result",
          "data": {
            "text/html": [
              "<div>\n",
              "<style scoped>\n",
              "    .dataframe tbody tr th:only-of-type {\n",
              "        vertical-align: middle;\n",
              "    }\n",
              "\n",
              "    .dataframe tbody tr th {\n",
              "        vertical-align: top;\n",
              "    }\n",
              "\n",
              "    .dataframe thead th {\n",
              "        text-align: right;\n",
              "    }\n",
              "</style>\n",
              "<table border=\"1\" class=\"dataframe\">\n",
              "  <thead>\n",
              "    <tr style=\"text-align: right;\">\n",
              "      <th></th>\n",
              "      <th>mov_title</th>\n",
              "      <th>lowest_duration</th>\n",
              "      <th>mov_year</th>\n",
              "      <th>dir_fname</th>\n",
              "      <th>dir_lname</th>\n",
              "      <th>act_fname</th>\n",
              "      <th>act_lname</th>\n",
              "      <th>role</th>\n",
              "    </tr>\n",
              "  </thead>\n",
              "  <tbody>\n",
              "    <tr>\n",
              "      <th>0</th>\n",
              "      <td>AnnieHall</td>\n",
              "      <td>93</td>\n",
              "      <td>1977</td>\n",
              "      <td>Woody</td>\n",
              "      <td>Allen</td>\n",
              "      <td>Woody</td>\n",
              "      <td>Allen</td>\n",
              "      <td>AlvySinger</td>\n",
              "    </tr>\n",
              "  </tbody>\n",
              "</table>\n",
              "</div>"
            ],
            "text/plain": [
              "   mov_title  lowest_duration  mov_year dir_fname dir_lname act_fname act_lname        role\n",
              "0  AnnieHall               93      1977     Woody     Allen     Woody     Allen  AlvySinger"
            ]
          },
          "metadata": {
            "tags": []
          },
          "execution_count": 65
        }
      ]
    },
    {
      "cell_type": "markdown",
      "metadata": {
        "colab_type": "text",
        "id": "0e0WDK2F_LkB"
      },
      "source": [
        "> * **Pandas**"
      ]
    },
    {
      "cell_type": "code",
      "metadata": {
        "colab_type": "code",
        "id": "3Tlna17Q_LkD",
        "colab": {
          "base_uri": "https://localhost:8080/",
          "height": 80
        },
        "outputId": "89079346-44a6-4944-c341-b6d546e15693"
      },
      "source": [
        "table1, table2, table3 = db[table_name1], db[table_name2], db[table_name3]\n",
        "table4, table5 = db[table_name4], db[table_name5]\n",
        "\n",
        "SELECT_CLAUSE = ['mov_title', 'mov_year',\n",
        "                 'dir_fname', 'dir_lname', 'act_fname',     \n",
        "                 'act_lname', 'role']\n",
        "\n",
        "rs = table1.merge(right=table2, how='left', on='mov_id') \\\n",
        "      .merge(table3, 'left', 'dir_id') \\\n",
        "      .merge(table4, 'left', 'mov_id') \\\n",
        "      .merge(table5, 'left', 'act_id') \\\n",
        "      .sort_values(['mov_time'], ascending=True)[SELECT_CLAUSE].head(1)\n",
        "rs"
      ],
      "execution_count": 66,
      "outputs": [
        {
          "output_type": "execute_result",
          "data": {
            "text/html": [
              "<div>\n",
              "<style scoped>\n",
              "    .dataframe tbody tr th:only-of-type {\n",
              "        vertical-align: middle;\n",
              "    }\n",
              "\n",
              "    .dataframe tbody tr th {\n",
              "        vertical-align: top;\n",
              "    }\n",
              "\n",
              "    .dataframe thead th {\n",
              "        text-align: right;\n",
              "    }\n",
              "</style>\n",
              "<table border=\"1\" class=\"dataframe\">\n",
              "  <thead>\n",
              "    <tr style=\"text-align: right;\">\n",
              "      <th></th>\n",
              "      <th>mov_title</th>\n",
              "      <th>mov_year</th>\n",
              "      <th>dir_fname</th>\n",
              "      <th>dir_lname</th>\n",
              "      <th>act_fname</th>\n",
              "      <th>act_lname</th>\n",
              "      <th>role</th>\n",
              "    </tr>\n",
              "  </thead>\n",
              "  <tbody>\n",
              "    <tr>\n",
              "      <th>10</th>\n",
              "      <td>AnnieHall</td>\n",
              "      <td>1977</td>\n",
              "      <td>Woody</td>\n",
              "      <td>Allen</td>\n",
              "      <td>Woody</td>\n",
              "      <td>Allen</td>\n",
              "      <td>AlvySinger</td>\n",
              "    </tr>\n",
              "  </tbody>\n",
              "</table>\n",
              "</div>"
            ],
            "text/plain": [
              "    mov_title  mov_year dir_fname dir_lname act_fname act_lname        role\n",
              "10  AnnieHall      1977     Woody     Allen     Woody     Allen  AlvySinger"
            ]
          },
          "metadata": {
            "tags": []
          },
          "execution_count": 66
        }
      ]
    },
    {
      "cell_type": "markdown",
      "metadata": {
        "colab_type": "text",
        "id": "EEvMDR53PlGo"
      },
      "source": [
        "### Query 40: Write a query to find all the years which produced a movie that received a rating of 3 or 4, and sort the result in increasing order."
      ]
    },
    {
      "cell_type": "code",
      "metadata": {
        "colab_type": "code",
        "id": "_h3WHsSRPlGt",
        "colab": {}
      },
      "source": [
        "table_name1, table_name2 = 'movie',  'rating'"
      ],
      "execution_count": 0,
      "outputs": []
    },
    {
      "cell_type": "markdown",
      "metadata": {
        "colab_type": "text",
        "id": "TdoSdIeVPlG0"
      },
      "source": [
        "> * **SQL**"
      ]
    },
    {
      "cell_type": "code",
      "metadata": {
        "colab_type": "code",
        "id": "CBaNj_lSPlG1",
        "colab": {
          "base_uri": "https://localhost:8080/",
          "height": 111
        },
        "outputId": "cda0f4b4-45e2-446a-f805-4a7aa1bcda5c"
      },
      "source": [
        "rs = con.execute(f''' SELECT {table_name1}.mov_year, {table_name2}.rev_stars\n",
        "                      FROM {table_name1} AS {table_name1} \n",
        "                      INNER JOIN {table_name2} AS {table_name2}                       \n",
        "                      ON {table_name1}.mov_id = {table_name2}.mov_id\n",
        "                      WHERE {table_name2}.rev_stars = 3.00 OR {table_name2}.rev_stars = 4.00\n",
        "                      ORDER BY {table_name2}.rev_stars ASC\n",
        "                 ''')\n",
        "pd.DataFrame(rs.fetchall(), columns = ['mov_year', 'rev_stars'])"
      ],
      "execution_count": 68,
      "outputs": [
        {
          "output_type": "execute_result",
          "data": {
            "text/html": [
              "<div>\n",
              "<style scoped>\n",
              "    .dataframe tbody tr th:only-of-type {\n",
              "        vertical-align: middle;\n",
              "    }\n",
              "\n",
              "    .dataframe tbody tr th {\n",
              "        vertical-align: top;\n",
              "    }\n",
              "\n",
              "    .dataframe thead th {\n",
              "        text-align: right;\n",
              "    }\n",
              "</style>\n",
              "<table border=\"1\" class=\"dataframe\">\n",
              "  <thead>\n",
              "    <tr style=\"text-align: right;\">\n",
              "      <th></th>\n",
              "      <th>mov_year</th>\n",
              "      <th>rev_stars</th>\n",
              "    </tr>\n",
              "  </thead>\n",
              "  <tbody>\n",
              "    <tr>\n",
              "      <th>0</th>\n",
              "      <td>1997</td>\n",
              "      <td>3.0</td>\n",
              "    </tr>\n",
              "    <tr>\n",
              "      <th>1</th>\n",
              "      <td>1997</td>\n",
              "      <td>4.0</td>\n",
              "    </tr>\n",
              "  </tbody>\n",
              "</table>\n",
              "</div>"
            ],
            "text/plain": [
              "   mov_year  rev_stars\n",
              "0      1997        3.0\n",
              "1      1997        4.0"
            ]
          },
          "metadata": {
            "tags": []
          },
          "execution_count": 68
        }
      ]
    },
    {
      "cell_type": "markdown",
      "metadata": {
        "colab_type": "text",
        "id": "Wn23F8zSPlG8"
      },
      "source": [
        "> * **Pandas**"
      ]
    },
    {
      "cell_type": "code",
      "metadata": {
        "colab_type": "code",
        "id": "CJUVJBPQPlG-",
        "colab": {
          "base_uri": "https://localhost:8080/",
          "height": 111
        },
        "outputId": "a8234251-cc44-4e38-d740-23fafcce40c6"
      },
      "source": [
        "table1, table2 = db[table_name1], db[table_name2]\n",
        "\n",
        "SELECT_CLAUSE = ['mov_year', 'rev_stars']\n",
        "WHERE_CLAUSE = ((table2['rev_stars'] == 3.00) | (table2['rev_stars'] == 4.00))\n",
        "rs = table1.merge(right=table2[WHERE_CLAUSE], how='inner', on='mov_id') \\\n",
        "           .sort_values(['rev_stars'], ascending=True)[SELECT_CLAUSE]\n",
        "rs"
      ],
      "execution_count": 69,
      "outputs": [
        {
          "output_type": "execute_result",
          "data": {
            "text/html": [
              "<div>\n",
              "<style scoped>\n",
              "    .dataframe tbody tr th:only-of-type {\n",
              "        vertical-align: middle;\n",
              "    }\n",
              "\n",
              "    .dataframe tbody tr th {\n",
              "        vertical-align: top;\n",
              "    }\n",
              "\n",
              "    .dataframe thead th {\n",
              "        text-align: right;\n",
              "    }\n",
              "</style>\n",
              "<table border=\"1\" class=\"dataframe\">\n",
              "  <thead>\n",
              "    <tr style=\"text-align: right;\">\n",
              "      <th></th>\n",
              "      <th>mov_year</th>\n",
              "      <th>rev_stars</th>\n",
              "    </tr>\n",
              "  </thead>\n",
              "  <tbody>\n",
              "    <tr>\n",
              "      <th>0</th>\n",
              "      <td>1997</td>\n",
              "      <td>3.0</td>\n",
              "    </tr>\n",
              "    <tr>\n",
              "      <th>1</th>\n",
              "      <td>1997</td>\n",
              "      <td>4.0</td>\n",
              "    </tr>\n",
              "  </tbody>\n",
              "</table>\n",
              "</div>"
            ],
            "text/plain": [
              "   mov_year  rev_stars\n",
              "0      1997        3.0\n",
              "1      1997        4.0"
            ]
          },
          "metadata": {
            "tags": []
          },
          "execution_count": 69
        }
      ]
    },
    {
      "cell_type": "markdown",
      "metadata": {
        "colab_type": "text",
        "id": "MlvUQLgPKSmx"
      },
      "source": [
        "### Query 41: Write a query in to return the reviewer name, movie title, and stars in an order that reviewer name will come first, then by movie title, and lastly by number of stars."
      ]
    },
    {
      "cell_type": "code",
      "metadata": {
        "colab_type": "code",
        "id": "57h5dHxeKSm5",
        "colab": {}
      },
      "source": [
        "table_name1, table_name2, table_name3 = 'movie',  'rating', 'reviewer'"
      ],
      "execution_count": 0,
      "outputs": []
    },
    {
      "cell_type": "markdown",
      "metadata": {
        "colab_type": "text",
        "id": "UiCvz5qNKSm9"
      },
      "source": [
        "> * **SQL**"
      ]
    },
    {
      "cell_type": "code",
      "metadata": {
        "colab_type": "code",
        "id": "taVAuoj_KSm-",
        "colab": {
          "base_uri": "https://localhost:8080/",
          "height": 162
        },
        "outputId": "85d6005c-5959-4a51-d2e8-07265796c377"
      },
      "source": [
        "rs = con.execute(f''' SELECT {table_name3}.rev_name, {table_name1}.mov_title, {table_name2}.rev_stars\n",
        "                      FROM {table_name1} AS {table_name1} \n",
        "                      INNER JOIN {table_name2} AS {table_name2}                       \n",
        "                      ON {table_name1}.mov_id = {table_name2}.mov_id                      \n",
        "                      INNER JOIN {table_name3} AS {table_name3}                       \n",
        "                      ON {table_name2}.rev_id = {table_name3}.rev_id\n",
        "                 ''')\n",
        "pd.DataFrame(rs.fetchall(), columns = ['rev_name', 'mov_title', 'rev_stars']).T"
      ],
      "execution_count": 71,
      "outputs": [
        {
          "output_type": "execute_result",
          "data": {
            "text/html": [
              "<div>\n",
              "<style scoped>\n",
              "    .dataframe tbody tr th:only-of-type {\n",
              "        vertical-align: middle;\n",
              "    }\n",
              "\n",
              "    .dataframe tbody tr th {\n",
              "        vertical-align: top;\n",
              "    }\n",
              "\n",
              "    .dataframe thead th {\n",
              "        text-align: right;\n",
              "    }\n",
              "</style>\n",
              "<table border=\"1\" class=\"dataframe\">\n",
              "  <thead>\n",
              "    <tr style=\"text-align: right;\">\n",
              "      <th></th>\n",
              "      <th>0</th>\n",
              "      <th>1</th>\n",
              "      <th>2</th>\n",
              "      <th>3</th>\n",
              "      <th>4</th>\n",
              "      <th>5</th>\n",
              "      <th>6</th>\n",
              "      <th>7</th>\n",
              "      <th>8</th>\n",
              "      <th>9</th>\n",
              "      <th>10</th>\n",
              "      <th>11</th>\n",
              "      <th>12</th>\n",
              "      <th>13</th>\n",
              "      <th>14</th>\n",
              "      <th>15</th>\n",
              "      <th>16</th>\n",
              "      <th>17</th>\n",
              "      <th>18</th>\n",
              "    </tr>\n",
              "  </thead>\n",
              "  <tbody>\n",
              "    <tr>\n",
              "      <th>rev_name</th>\n",
              "      <td>RightySock</td>\n",
              "      <td>JackMalvern</td>\n",
              "      <td>FlagrantBaronessa</td>\n",
              "      <td>None</td>\n",
              "      <td>SimonWright</td>\n",
              "      <td>NealWruck</td>\n",
              "      <td>PaulMonks</td>\n",
              "      <td>MikeSalvati</td>\n",
              "      <td>None</td>\n",
              "      <td>SashaGoldshtein</td>\n",
              "      <td>RightySock</td>\n",
              "      <td>JoshCates</td>\n",
              "      <td>ScottLeBrun</td>\n",
              "      <td>HannahSteele</td>\n",
              "      <td>VincentCadena</td>\n",
              "      <td>BrandtSponseller</td>\n",
              "      <td>RichardAdams</td>\n",
              "      <td>VictorWoeltjen</td>\n",
              "      <td>KrugStillo</td>\n",
              "    </tr>\n",
              "    <tr>\n",
              "      <th>mov_title</th>\n",
              "      <td>Vertigo</td>\n",
              "      <td>TheInnocents</td>\n",
              "      <td>LawrenceofArabia</td>\n",
              "      <td>BladeRunner</td>\n",
              "      <td>TheUsualSuspects</td>\n",
              "      <td>Chinatown</td>\n",
              "      <td>BoogieNights</td>\n",
              "      <td>AnnieHall</td>\n",
              "      <td>PrincessMononoke</td>\n",
              "      <td>AmericanBeauty</td>\n",
              "      <td>Titanic</td>\n",
              "      <td>GoodWillHunting</td>\n",
              "      <td>Trainspotting</td>\n",
              "      <td>DonnieDarko</td>\n",
              "      <td>SlumdogMillionaire</td>\n",
              "      <td>Aliens</td>\n",
              "      <td>BeyondtheSea</td>\n",
              "      <td>Avatar</td>\n",
              "      <td>Braveheart</td>\n",
              "    </tr>\n",
              "    <tr>\n",
              "      <th>rev_stars</th>\n",
              "      <td>8.4</td>\n",
              "      <td>7.9</td>\n",
              "      <td>8.3</td>\n",
              "      <td>8.2</td>\n",
              "      <td>8.6</td>\n",
              "      <td>NaN</td>\n",
              "      <td>3</td>\n",
              "      <td>8.1</td>\n",
              "      <td>8.4</td>\n",
              "      <td>7</td>\n",
              "      <td>7.7</td>\n",
              "      <td>4</td>\n",
              "      <td>NaN</td>\n",
              "      <td>8.1</td>\n",
              "      <td>8</td>\n",
              "      <td>8.4</td>\n",
              "      <td>6.7</td>\n",
              "      <td>7.3</td>\n",
              "      <td>7.7</td>\n",
              "    </tr>\n",
              "  </tbody>\n",
              "</table>\n",
              "</div>"
            ],
            "text/plain": [
              "                    0             1                  2            3                 4          5             6            7                 8                9          10               11             12            13                  14                15            16              17          18\n",
              "rev_name   RightySock   JackMalvern  FlagrantBaronessa         None       SimonWright  NealWruck     PaulMonks  MikeSalvati              None  SashaGoldshtein  RightySock        JoshCates    ScottLeBrun  HannahSteele       VincentCadena  BrandtSponseller  RichardAdams  VictorWoeltjen  KrugStillo\n",
              "mov_title     Vertigo  TheInnocents   LawrenceofArabia  BladeRunner  TheUsualSuspects  Chinatown  BoogieNights    AnnieHall  PrincessMononoke   AmericanBeauty     Titanic  GoodWillHunting  Trainspotting   DonnieDarko  SlumdogMillionaire            Aliens  BeyondtheSea          Avatar  Braveheart\n",
              "rev_stars         8.4           7.9                8.3          8.2               8.6        NaN             3          8.1               8.4                7         7.7                4            NaN           8.1                   8               8.4           6.7             7.3         7.7"
            ]
          },
          "metadata": {
            "tags": []
          },
          "execution_count": 71
        }
      ]
    },
    {
      "cell_type": "markdown",
      "metadata": {
        "colab_type": "text",
        "id": "nX9akjyAKSnC"
      },
      "source": [
        "> * **Pandas**"
      ]
    },
    {
      "cell_type": "code",
      "metadata": {
        "colab_type": "code",
        "id": "7iSZbFLyKSnD",
        "colab": {
          "base_uri": "https://localhost:8080/",
          "height": 162
        },
        "outputId": "6d5dbe5c-8d34-4ece-d2e8-1b382a142fdd"
      },
      "source": [
        "table1, table2, table3 = db[table_name1], db[table_name2], db[table_name3]\n",
        "\n",
        "SELECT_CLAUSE =  ['rev_name', 'mov_title', 'rev_stars']\n",
        "\n",
        "rs = table1.merge(right=table2, how='inner', on='mov_id') \\\n",
        "      .merge(table3, 'inner', 'rev_id')[SELECT_CLAUSE]\n",
        "rs.T"
      ],
      "execution_count": 72,
      "outputs": [
        {
          "output_type": "execute_result",
          "data": {
            "text/html": [
              "<div>\n",
              "<style scoped>\n",
              "    .dataframe tbody tr th:only-of-type {\n",
              "        vertical-align: middle;\n",
              "    }\n",
              "\n",
              "    .dataframe tbody tr th {\n",
              "        vertical-align: top;\n",
              "    }\n",
              "\n",
              "    .dataframe thead th {\n",
              "        text-align: right;\n",
              "    }\n",
              "</style>\n",
              "<table border=\"1\" class=\"dataframe\">\n",
              "  <thead>\n",
              "    <tr style=\"text-align: right;\">\n",
              "      <th></th>\n",
              "      <th>0</th>\n",
              "      <th>1</th>\n",
              "      <th>2</th>\n",
              "      <th>3</th>\n",
              "      <th>4</th>\n",
              "      <th>5</th>\n",
              "      <th>6</th>\n",
              "      <th>7</th>\n",
              "      <th>8</th>\n",
              "      <th>9</th>\n",
              "      <th>10</th>\n",
              "      <th>11</th>\n",
              "      <th>12</th>\n",
              "      <th>13</th>\n",
              "      <th>14</th>\n",
              "      <th>15</th>\n",
              "      <th>16</th>\n",
              "      <th>17</th>\n",
              "      <th>18</th>\n",
              "    </tr>\n",
              "  </thead>\n",
              "  <tbody>\n",
              "    <tr>\n",
              "      <th>rev_name</th>\n",
              "      <td>RightySock</td>\n",
              "      <td>RightySock</td>\n",
              "      <td>JackMalvern</td>\n",
              "      <td>FlagrantBaronessa</td>\n",
              "      <td>NaN</td>\n",
              "      <td>SimonWright</td>\n",
              "      <td>NealWruck</td>\n",
              "      <td>PaulMonks</td>\n",
              "      <td>MikeSalvati</td>\n",
              "      <td>NaN</td>\n",
              "      <td>SashaGoldshtein</td>\n",
              "      <td>JoshCates</td>\n",
              "      <td>ScottLeBrun</td>\n",
              "      <td>HannahSteele</td>\n",
              "      <td>VincentCadena</td>\n",
              "      <td>BrandtSponseller</td>\n",
              "      <td>RichardAdams</td>\n",
              "      <td>VictorWoeltjen</td>\n",
              "      <td>KrugStillo</td>\n",
              "    </tr>\n",
              "    <tr>\n",
              "      <th>mov_title</th>\n",
              "      <td>Vertigo</td>\n",
              "      <td>Titanic</td>\n",
              "      <td>TheInnocents</td>\n",
              "      <td>LawrenceofArabia</td>\n",
              "      <td>BladeRunner</td>\n",
              "      <td>TheUsualSuspects</td>\n",
              "      <td>Chinatown</td>\n",
              "      <td>BoogieNights</td>\n",
              "      <td>AnnieHall</td>\n",
              "      <td>PrincessMononoke</td>\n",
              "      <td>AmericanBeauty</td>\n",
              "      <td>GoodWillHunting</td>\n",
              "      <td>Trainspotting</td>\n",
              "      <td>DonnieDarko</td>\n",
              "      <td>SlumdogMillionaire</td>\n",
              "      <td>Aliens</td>\n",
              "      <td>BeyondtheSea</td>\n",
              "      <td>Avatar</td>\n",
              "      <td>Braveheart</td>\n",
              "    </tr>\n",
              "    <tr>\n",
              "      <th>rev_stars</th>\n",
              "      <td>8.4</td>\n",
              "      <td>7.7</td>\n",
              "      <td>7.9</td>\n",
              "      <td>8.3</td>\n",
              "      <td>8.2</td>\n",
              "      <td>8.6</td>\n",
              "      <td>NaN</td>\n",
              "      <td>3</td>\n",
              "      <td>8.1</td>\n",
              "      <td>8.4</td>\n",
              "      <td>7</td>\n",
              "      <td>4</td>\n",
              "      <td>NaN</td>\n",
              "      <td>8.1</td>\n",
              "      <td>8</td>\n",
              "      <td>8.4</td>\n",
              "      <td>6.7</td>\n",
              "      <td>7.3</td>\n",
              "      <td>7.7</td>\n",
              "    </tr>\n",
              "  </tbody>\n",
              "</table>\n",
              "</div>"
            ],
            "text/plain": [
              "                   0           1             2                  3            4                 5          6             7            8                 9                10               11             12            13                  14                15            16              17          18\n",
              "rev_name   RightySock  RightySock   JackMalvern  FlagrantBaronessa          NaN       SimonWright  NealWruck     PaulMonks  MikeSalvati               NaN  SashaGoldshtein        JoshCates    ScottLeBrun  HannahSteele       VincentCadena  BrandtSponseller  RichardAdams  VictorWoeltjen  KrugStillo\n",
              "mov_title     Vertigo     Titanic  TheInnocents   LawrenceofArabia  BladeRunner  TheUsualSuspects  Chinatown  BoogieNights    AnnieHall  PrincessMononoke   AmericanBeauty  GoodWillHunting  Trainspotting   DonnieDarko  SlumdogMillionaire            Aliens  BeyondtheSea          Avatar  Braveheart\n",
              "rev_stars         8.4         7.7           7.9                8.3          8.2               8.6        NaN             3          8.1               8.4                7                4            NaN           8.1                   8               8.4           6.7             7.3         7.7"
            ]
          },
          "metadata": {
            "tags": []
          },
          "execution_count": 72
        }
      ]
    },
    {
      "cell_type": "markdown",
      "metadata": {
        "colab_type": "text",
        "id": "xGTlo9HEMPuL"
      },
      "source": [
        "### Query 42: Write a query to find movie title and number of stars for each movie that has at least one rating and find the highest number of stars that movie received and sort the result by movie title. "
      ]
    },
    {
      "cell_type": "code",
      "metadata": {
        "colab_type": "code",
        "id": "qpuFbm9KMPuP",
        "colab": {}
      },
      "source": [
        "table_name1, table_name2  = 'movie',  'rating'"
      ],
      "execution_count": 0,
      "outputs": []
    },
    {
      "cell_type": "markdown",
      "metadata": {
        "colab_type": "text",
        "id": "yJSQ24onMPuR"
      },
      "source": [
        "> * **SQL**"
      ]
    },
    {
      "cell_type": "code",
      "metadata": {
        "colab_type": "code",
        "id": "StWebcoAMPuS",
        "colab": {
          "base_uri": "https://localhost:8080/",
          "height": 80
        },
        "outputId": "7ab9f920-6de2-47ad-e8a5-b550d3016ba1"
      },
      "source": [
        "rs = con.execute(f''' SELECT {table_name1}.mov_title, {table_name2}.rev_stars \n",
        "                      FROM {table_name1} AS {table_name1} \n",
        "                      INNER JOIN {table_name2} AS {table_name2}                       \n",
        "                      ON {table_name1}.mov_id = {table_name2}.mov_id             \n",
        "                      WHERE {table_name2}.num_of_ratings > 0 AND \n",
        "                            {table_name2}.rev_stars = (SELECT MAX(rev_stars) \n",
        "                                                       FROM  {table_name2})\n",
        "                      ORDER BY {table_name1}.mov_title\n",
        "                 ''')\n",
        "pd.DataFrame(rs.fetchall(), columns = ['mov_title', 'rev_stars'])"
      ],
      "execution_count": 74,
      "outputs": [
        {
          "output_type": "execute_result",
          "data": {
            "text/html": [
              "<div>\n",
              "<style scoped>\n",
              "    .dataframe tbody tr th:only-of-type {\n",
              "        vertical-align: middle;\n",
              "    }\n",
              "\n",
              "    .dataframe tbody tr th {\n",
              "        vertical-align: top;\n",
              "    }\n",
              "\n",
              "    .dataframe thead th {\n",
              "        text-align: right;\n",
              "    }\n",
              "</style>\n",
              "<table border=\"1\" class=\"dataframe\">\n",
              "  <thead>\n",
              "    <tr style=\"text-align: right;\">\n",
              "      <th></th>\n",
              "      <th>mov_title</th>\n",
              "      <th>rev_stars</th>\n",
              "    </tr>\n",
              "  </thead>\n",
              "  <tbody>\n",
              "    <tr>\n",
              "      <th>0</th>\n",
              "      <td>TheUsualSuspects</td>\n",
              "      <td>8.6</td>\n",
              "    </tr>\n",
              "  </tbody>\n",
              "</table>\n",
              "</div>"
            ],
            "text/plain": [
              "          mov_title  rev_stars\n",
              "0  TheUsualSuspects        8.6"
            ]
          },
          "metadata": {
            "tags": []
          },
          "execution_count": 74
        }
      ]
    },
    {
      "cell_type": "markdown",
      "metadata": {
        "colab_type": "text",
        "id": "azgDUqGVMPuU"
      },
      "source": [
        "> * **Pandas**"
      ]
    },
    {
      "cell_type": "code",
      "metadata": {
        "colab_type": "code",
        "id": "0Mg_WBtuMPuV",
        "colab": {
          "base_uri": "https://localhost:8080/",
          "height": 80
        },
        "outputId": "9f045a34-14c4-42f4-f064-18f096413181"
      },
      "source": [
        "table1, table2 = db[table_name1], db[table_name2]\n",
        "\n",
        "WHERE_CONDITION1 = (table2['num_of_ratings'] > 0)\n",
        "WHERE_CONDITION2 = (table2['rev_stars'] == table2['rev_stars'].max())                      \n",
        "WHERE_CLAUSE =  WHERE_CONDITION1 & WHERE_CONDITION2\n",
        "SELECT_CLAUSE =  ['mov_title', 'rev_stars']\n",
        "\n",
        "rs = table1.merge(right=table2[WHERE_CLAUSE], how='inner',\n",
        "                  on='mov_id')[SELECT_CLAUSE]\n",
        "rs"
      ],
      "execution_count": 75,
      "outputs": [
        {
          "output_type": "execute_result",
          "data": {
            "text/html": [
              "<div>\n",
              "<style scoped>\n",
              "    .dataframe tbody tr th:only-of-type {\n",
              "        vertical-align: middle;\n",
              "    }\n",
              "\n",
              "    .dataframe tbody tr th {\n",
              "        vertical-align: top;\n",
              "    }\n",
              "\n",
              "    .dataframe thead th {\n",
              "        text-align: right;\n",
              "    }\n",
              "</style>\n",
              "<table border=\"1\" class=\"dataframe\">\n",
              "  <thead>\n",
              "    <tr style=\"text-align: right;\">\n",
              "      <th></th>\n",
              "      <th>mov_title</th>\n",
              "      <th>rev_stars</th>\n",
              "    </tr>\n",
              "  </thead>\n",
              "  <tbody>\n",
              "    <tr>\n",
              "      <th>0</th>\n",
              "      <td>TheUsualSuspects</td>\n",
              "      <td>8.6</td>\n",
              "    </tr>\n",
              "  </tbody>\n",
              "</table>\n",
              "</div>"
            ],
            "text/plain": [
              "          mov_title  rev_stars\n",
              "0  TheUsualSuspects        8.6"
            ]
          },
          "metadata": {
            "tags": []
          },
          "execution_count": 75
        }
      ]
    },
    {
      "cell_type": "markdown",
      "metadata": {
        "colab_type": "text",
        "id": "gv5vsK4ZQGcN"
      },
      "source": [
        "### Query 43: Write a query to find the director's first and last name together with the title of the movie(s) they directed and received the rating."
      ]
    },
    {
      "cell_type": "code",
      "metadata": {
        "colab_type": "code",
        "id": "6xdspEJ4QGcQ",
        "colab": {}
      },
      "source": [
        "table_name1, table_name2, table_name3, table_name4 = 'movie',  'rating', 'movie_direction', 'director'"
      ],
      "execution_count": 0,
      "outputs": []
    },
    {
      "cell_type": "markdown",
      "metadata": {
        "colab_type": "text",
        "id": "n7rE4JpaQGcS"
      },
      "source": [
        "> * **SQL**"
      ]
    },
    {
      "cell_type": "code",
      "metadata": {
        "colab_type": "code",
        "id": "fS0Q60skQGcT",
        "colab": {
          "base_uri": "https://localhost:8080/",
          "height": 193
        },
        "outputId": "97f00ffb-a7b9-47d1-d733-6e46fd4d567f"
      },
      "source": [
        "rs = con.execute(f''' SELECT {table_name4}.dir_fname, {table_name4}.dir_lname,\n",
        "                             {table_name1}.mov_title, {table_name2}.num_of_ratings\n",
        "                      FROM {table_name1} AS {table_name1} \n",
        "                      INNER JOIN {table_name3} AS {table_name3}                       \n",
        "                      ON {table_name1}.mov_id = {table_name2}.mov_id      \n",
        "                      INNER JOIN {table_name4} AS {table_name4}                       \n",
        "                      ON {table_name3}.dir_id = {table_name4}.dir_id\n",
        "                      INNER JOIN {table_name2} AS {table_name2}                       \n",
        "                      ON {table_name3}.mov_id = {table_name2}.mov_id                                                \n",
        "                 ''')\n",
        "pd.DataFrame(rs.fetchall(), columns = ['dir_fname', 'dir_lname', 'mov_title', 'num_of_ratings']).T"
      ],
      "execution_count": 77,
      "outputs": [
        {
          "output_type": "execute_result",
          "data": {
            "text/html": [
              "<div>\n",
              "<style scoped>\n",
              "    .dataframe tbody tr th:only-of-type {\n",
              "        vertical-align: middle;\n",
              "    }\n",
              "\n",
              "    .dataframe tbody tr th {\n",
              "        vertical-align: top;\n",
              "    }\n",
              "\n",
              "    .dataframe thead th {\n",
              "        text-align: right;\n",
              "    }\n",
              "</style>\n",
              "<table border=\"1\" class=\"dataframe\">\n",
              "  <thead>\n",
              "    <tr style=\"text-align: right;\">\n",
              "      <th></th>\n",
              "      <th>0</th>\n",
              "      <th>1</th>\n",
              "      <th>2</th>\n",
              "      <th>3</th>\n",
              "      <th>4</th>\n",
              "      <th>5</th>\n",
              "      <th>6</th>\n",
              "      <th>7</th>\n",
              "      <th>8</th>\n",
              "      <th>9</th>\n",
              "      <th>10</th>\n",
              "      <th>11</th>\n",
              "      <th>12</th>\n",
              "      <th>13</th>\n",
              "      <th>14</th>\n",
              "      <th>15</th>\n",
              "      <th>16</th>\n",
              "    </tr>\n",
              "  </thead>\n",
              "  <tbody>\n",
              "    <tr>\n",
              "      <th>dir_fname</th>\n",
              "      <td>Alfred</td>\n",
              "      <td>Jack</td>\n",
              "      <td>David</td>\n",
              "      <td>Ridley</td>\n",
              "      <td>Bryan</td>\n",
              "      <td>Roman</td>\n",
              "      <td>Paul</td>\n",
              "      <td>Woody</td>\n",
              "      <td>Hayao</td>\n",
              "      <td>Sam</td>\n",
              "      <td>James</td>\n",
              "      <td>Gus</td>\n",
              "      <td>Danny</td>\n",
              "      <td>Richard</td>\n",
              "      <td>Danny</td>\n",
              "      <td>James</td>\n",
              "      <td>Kevin</td>\n",
              "    </tr>\n",
              "    <tr>\n",
              "      <th>dir_lname</th>\n",
              "      <td>Hitchcock</td>\n",
              "      <td>Clayton</td>\n",
              "      <td>Lean</td>\n",
              "      <td>Scott</td>\n",
              "      <td>Singer</td>\n",
              "      <td>Polanski</td>\n",
              "      <td>ThomasAnderson</td>\n",
              "      <td>Allen</td>\n",
              "      <td>Miyazaki</td>\n",
              "      <td>Mendes</td>\n",
              "      <td>Cameron</td>\n",
              "      <td>VanSant</td>\n",
              "      <td>Boyle</td>\n",
              "      <td>Kelly</td>\n",
              "      <td>Boyle</td>\n",
              "      <td>Cameron</td>\n",
              "      <td>Spacey</td>\n",
              "    </tr>\n",
              "    <tr>\n",
              "      <th>mov_title</th>\n",
              "      <td>Vertigo</td>\n",
              "      <td>TheInnocents</td>\n",
              "      <td>LawrenceofArabia</td>\n",
              "      <td>BladeRunner</td>\n",
              "      <td>TheUsualSuspects</td>\n",
              "      <td>Chinatown</td>\n",
              "      <td>BoogieNights</td>\n",
              "      <td>AnnieHall</td>\n",
              "      <td>PrincessMononoke</td>\n",
              "      <td>AmericanBeauty</td>\n",
              "      <td>Titanic</td>\n",
              "      <td>GoodWillHunting</td>\n",
              "      <td>Trainspotting</td>\n",
              "      <td>DonnieDarko</td>\n",
              "      <td>SlumdogMillionaire</td>\n",
              "      <td>Aliens</td>\n",
              "      <td>BeyondtheSea</td>\n",
              "    </tr>\n",
              "    <tr>\n",
              "      <th>num_of_ratings</th>\n",
              "      <td>263575</td>\n",
              "      <td>20207</td>\n",
              "      <td>202778</td>\n",
              "      <td>484746</td>\n",
              "      <td>779489</td>\n",
              "      <td>227235</td>\n",
              "      <td>195961</td>\n",
              "      <td>203875</td>\n",
              "      <td>NaN</td>\n",
              "      <td>862618</td>\n",
              "      <td>830095</td>\n",
              "      <td>642132</td>\n",
              "      <td>580301</td>\n",
              "      <td>609451</td>\n",
              "      <td>667758</td>\n",
              "      <td>511613</td>\n",
              "      <td>13091</td>\n",
              "    </tr>\n",
              "  </tbody>\n",
              "</table>\n",
              "</div>"
            ],
            "text/plain": [
              "                        0             1                 2            3                 4          5               6          7                 8               9       10               11             12           13                  14       15            16\n",
              "dir_fname          Alfred          Jack             David       Ridley             Bryan      Roman            Paul      Woody             Hayao             Sam    James              Gus          Danny      Richard               Danny    James         Kevin\n",
              "dir_lname       Hitchcock       Clayton              Lean        Scott            Singer   Polanski  ThomasAnderson      Allen          Miyazaki          Mendes  Cameron          VanSant          Boyle        Kelly               Boyle  Cameron        Spacey\n",
              "mov_title         Vertigo  TheInnocents  LawrenceofArabia  BladeRunner  TheUsualSuspects  Chinatown    BoogieNights  AnnieHall  PrincessMononoke  AmericanBeauty  Titanic  GoodWillHunting  Trainspotting  DonnieDarko  SlumdogMillionaire   Aliens  BeyondtheSea\n",
              "num_of_ratings     263575         20207            202778       484746            779489     227235          195961     203875               NaN          862618   830095           642132         580301       609451              667758   511613         13091"
            ]
          },
          "metadata": {
            "tags": []
          },
          "execution_count": 77
        }
      ]
    },
    {
      "cell_type": "markdown",
      "metadata": {
        "colab_type": "text",
        "id": "nDa_UyvfQGcV"
      },
      "source": [
        "> * **Pandas**"
      ]
    },
    {
      "cell_type": "code",
      "metadata": {
        "colab_type": "code",
        "id": "sDAxtEkgQGcV",
        "colab": {
          "base_uri": "https://localhost:8080/",
          "height": 193
        },
        "outputId": "34f7004a-3d9d-4642-c925-2be34022055f"
      },
      "source": [
        "table1, table2 = db[table_name1], db[table_name2]\n",
        "table3, table4 = db[table_name3], db[table_name4]\n",
        "\n",
        "SELECT_CLAUSE = ['dir_fname', 'dir_lname', 'mov_title', 'num_of_ratings']\n",
        "\n",
        "rs = table1.merge(right=table3, how='inner', on='mov_id') \\\n",
        "           .merge(right=table4, how='inner', on='dir_id') \\\n",
        "           .merge(right=table2, how='inner', on='mov_id') \\\n",
        "           [SELECT_CLAUSE]\n",
        "rs.T"
      ],
      "execution_count": 78,
      "outputs": [
        {
          "output_type": "execute_result",
          "data": {
            "text/html": [
              "<div>\n",
              "<style scoped>\n",
              "    .dataframe tbody tr th:only-of-type {\n",
              "        vertical-align: middle;\n",
              "    }\n",
              "\n",
              "    .dataframe tbody tr th {\n",
              "        vertical-align: top;\n",
              "    }\n",
              "\n",
              "    .dataframe thead th {\n",
              "        text-align: right;\n",
              "    }\n",
              "</style>\n",
              "<table border=\"1\" class=\"dataframe\">\n",
              "  <thead>\n",
              "    <tr style=\"text-align: right;\">\n",
              "      <th></th>\n",
              "      <th>0</th>\n",
              "      <th>1</th>\n",
              "      <th>2</th>\n",
              "      <th>3</th>\n",
              "      <th>4</th>\n",
              "      <th>5</th>\n",
              "      <th>6</th>\n",
              "      <th>7</th>\n",
              "      <th>8</th>\n",
              "      <th>9</th>\n",
              "      <th>10</th>\n",
              "      <th>11</th>\n",
              "      <th>12</th>\n",
              "      <th>13</th>\n",
              "      <th>14</th>\n",
              "      <th>15</th>\n",
              "      <th>16</th>\n",
              "    </tr>\n",
              "  </thead>\n",
              "  <tbody>\n",
              "    <tr>\n",
              "      <th>dir_fname</th>\n",
              "      <td>Alfred</td>\n",
              "      <td>Jack</td>\n",
              "      <td>David</td>\n",
              "      <td>Ridley</td>\n",
              "      <td>Bryan</td>\n",
              "      <td>Roman</td>\n",
              "      <td>Paul</td>\n",
              "      <td>Woody</td>\n",
              "      <td>Hayao</td>\n",
              "      <td>Sam</td>\n",
              "      <td>James</td>\n",
              "      <td>James</td>\n",
              "      <td>Gus</td>\n",
              "      <td>Danny</td>\n",
              "      <td>Danny</td>\n",
              "      <td>Richard</td>\n",
              "      <td>Kevin</td>\n",
              "    </tr>\n",
              "    <tr>\n",
              "      <th>dir_lname</th>\n",
              "      <td>Hitchcock</td>\n",
              "      <td>Clayton</td>\n",
              "      <td>Lean</td>\n",
              "      <td>Scott</td>\n",
              "      <td>Singer</td>\n",
              "      <td>Polanski</td>\n",
              "      <td>ThomasAnderson</td>\n",
              "      <td>Allen</td>\n",
              "      <td>Miyazaki</td>\n",
              "      <td>Mendes</td>\n",
              "      <td>Cameron</td>\n",
              "      <td>Cameron</td>\n",
              "      <td>VanSant</td>\n",
              "      <td>Boyle</td>\n",
              "      <td>Boyle</td>\n",
              "      <td>Kelly</td>\n",
              "      <td>Spacey</td>\n",
              "    </tr>\n",
              "    <tr>\n",
              "      <th>mov_title</th>\n",
              "      <td>Vertigo</td>\n",
              "      <td>TheInnocents</td>\n",
              "      <td>LawrenceofArabia</td>\n",
              "      <td>BladeRunner</td>\n",
              "      <td>TheUsualSuspects</td>\n",
              "      <td>Chinatown</td>\n",
              "      <td>BoogieNights</td>\n",
              "      <td>AnnieHall</td>\n",
              "      <td>PrincessMononoke</td>\n",
              "      <td>AmericanBeauty</td>\n",
              "      <td>Titanic</td>\n",
              "      <td>Aliens</td>\n",
              "      <td>GoodWillHunting</td>\n",
              "      <td>Trainspotting</td>\n",
              "      <td>SlumdogMillionaire</td>\n",
              "      <td>DonnieDarko</td>\n",
              "      <td>BeyondtheSea</td>\n",
              "    </tr>\n",
              "    <tr>\n",
              "      <th>num_of_ratings</th>\n",
              "      <td>263575</td>\n",
              "      <td>20207</td>\n",
              "      <td>202778</td>\n",
              "      <td>484746</td>\n",
              "      <td>779489</td>\n",
              "      <td>227235</td>\n",
              "      <td>195961</td>\n",
              "      <td>203875</td>\n",
              "      <td>NaN</td>\n",
              "      <td>862618</td>\n",
              "      <td>830095</td>\n",
              "      <td>511613</td>\n",
              "      <td>642132</td>\n",
              "      <td>580301</td>\n",
              "      <td>667758</td>\n",
              "      <td>609451</td>\n",
              "      <td>13091</td>\n",
              "    </tr>\n",
              "  </tbody>\n",
              "</table>\n",
              "</div>"
            ],
            "text/plain": [
              "                       0             1                 2            3                 4          5               6          7                 8               9        10       11               12             13                  14           15            16\n",
              "dir_fname          Alfred          Jack             David       Ridley             Bryan      Roman            Paul      Woody             Hayao             Sam    James    James              Gus          Danny               Danny      Richard         Kevin\n",
              "dir_lname       Hitchcock       Clayton              Lean        Scott            Singer   Polanski  ThomasAnderson      Allen          Miyazaki          Mendes  Cameron  Cameron          VanSant          Boyle               Boyle        Kelly        Spacey\n",
              "mov_title         Vertigo  TheInnocents  LawrenceofArabia  BladeRunner  TheUsualSuspects  Chinatown    BoogieNights  AnnieHall  PrincessMononoke  AmericanBeauty  Titanic   Aliens  GoodWillHunting  Trainspotting  SlumdogMillionaire  DonnieDarko  BeyondtheSea\n",
              "num_of_ratings     263575         20207            202778       484746            779489     227235          195961     203875               NaN          862618   830095   511613           642132         580301              667758       609451         13091"
            ]
          },
          "metadata": {
            "tags": []
          },
          "execution_count": 78
        }
      ]
    },
    {
      "cell_type": "markdown",
      "metadata": {
        "colab_type": "text",
        "id": "VQLtMRnDTb82"
      },
      "source": [
        "### Query 44:  Write a query to find the movie title, actor first and last name, and the role for those movies where one or more actors acted in two or more movies."
      ]
    },
    {
      "cell_type": "code",
      "metadata": {
        "colab_type": "code",
        "id": "7Uzcmh2wTb85",
        "colab": {}
      },
      "source": [
        "table_name1, table_name2, table_name3 = 'movie',  'movie_cast', 'actor'"
      ],
      "execution_count": 0,
      "outputs": []
    },
    {
      "cell_type": "markdown",
      "metadata": {
        "colab_type": "text",
        "id": "yo-Y3utJTb88"
      },
      "source": [
        "> * **SQL**"
      ]
    },
    {
      "cell_type": "code",
      "metadata": {
        "colab_type": "code",
        "id": "wbFsoxWtTb89",
        "colab": {
          "base_uri": "https://localhost:8080/",
          "height": 80
        },
        "outputId": "9334359b-7d37-46a3-d982-a707acd4dfbc"
      },
      "source": [
        "rs = con.execute(f''' SELECT {table_name1}.mov_title, {table_name3}.act_fname,\n",
        "                             {table_name3}.act_lname, {table_name2}.role\n",
        "                      FROM {table_name1} AS {table_name1} \n",
        "                      INNER JOIN {table_name2} AS {table_name2}                       \n",
        "                      ON {table_name1}.mov_id = {table_name2}.mov_id      \n",
        "                      INNER JOIN {table_name3} AS {table_name3}                       \n",
        "                      ON {table_name2}.act_id = {table_name3}.act_id\n",
        "                      GROUP BY {table_name2}.act_id\n",
        "                      HAVING COUNT({table_name2}.mov_id) >= 2\n",
        "                                                                 \n",
        "                 ''')\n",
        "pd.DataFrame(rs.fetchall(), columns = ['mov_title', 'act_fname', 'act_lname', 'role'])"
      ],
      "execution_count": 80,
      "outputs": [
        {
          "output_type": "execute_result",
          "data": {
            "text/html": [
              "<div>\n",
              "<style scoped>\n",
              "    .dataframe tbody tr th:only-of-type {\n",
              "        vertical-align: middle;\n",
              "    }\n",
              "\n",
              "    .dataframe tbody tr th {\n",
              "        vertical-align: top;\n",
              "    }\n",
              "\n",
              "    .dataframe thead th {\n",
              "        text-align: right;\n",
              "    }\n",
              "</style>\n",
              "<table border=\"1\" class=\"dataframe\">\n",
              "  <thead>\n",
              "    <tr style=\"text-align: right;\">\n",
              "      <th></th>\n",
              "      <th>mov_title</th>\n",
              "      <th>act_fname</th>\n",
              "      <th>act_lname</th>\n",
              "      <th>role</th>\n",
              "    </tr>\n",
              "  </thead>\n",
              "  <tbody>\n",
              "    <tr>\n",
              "      <th>0</th>\n",
              "      <td>BeyondtheSea</td>\n",
              "      <td>Kevin</td>\n",
              "      <td>Spacey</td>\n",
              "      <td>BobbyDarin</td>\n",
              "    </tr>\n",
              "  </tbody>\n",
              "</table>\n",
              "</div>"
            ],
            "text/plain": [
              "      mov_title act_fname act_lname        role\n",
              "0  BeyondtheSea     Kevin    Spacey  BobbyDarin"
            ]
          },
          "metadata": {
            "tags": []
          },
          "execution_count": 80
        }
      ]
    },
    {
      "cell_type": "markdown",
      "metadata": {
        "colab_type": "text",
        "id": "0Qw6qfXjTb9B"
      },
      "source": [
        "> * **Pandas**"
      ]
    },
    {
      "cell_type": "code",
      "metadata": {
        "colab_type": "code",
        "id": "8YI38Rw3Tb9C",
        "colab": {
          "base_uri": "https://localhost:8080/",
          "height": 111
        },
        "outputId": "ec127fbf-5e63-4d58-bd4d-ac986175a5fc"
      },
      "source": [
        "table1, table2 = db[table_name1], db[table_name2]\n",
        "table3 = db[table_name3]\n",
        "\n",
        "SELECT_CLAUSE = ['mov_title', 'act_fname', 'act_lname', 'role']\n",
        "\n",
        "rs = table1.merge(table2, 'inner', 'mov_id') \\\n",
        "           .merge(table3, 'inner','act_id') \\\n",
        "           .groupby(['act_id']).filter(lambda x: x['mov_id'].count() >= 2) \\\n",
        "           [SELECT_CLAUSE]\n",
        "rs"
      ],
      "execution_count": 81,
      "outputs": [
        {
          "output_type": "execute_result",
          "data": {
            "text/html": [
              "<div>\n",
              "<style scoped>\n",
              "    .dataframe tbody tr th:only-of-type {\n",
              "        vertical-align: middle;\n",
              "    }\n",
              "\n",
              "    .dataframe tbody tr th {\n",
              "        vertical-align: top;\n",
              "    }\n",
              "\n",
              "    .dataframe thead th {\n",
              "        text-align: right;\n",
              "    }\n",
              "</style>\n",
              "<table border=\"1\" class=\"dataframe\">\n",
              "  <thead>\n",
              "    <tr style=\"text-align: right;\">\n",
              "      <th></th>\n",
              "      <th>mov_title</th>\n",
              "      <th>act_fname</th>\n",
              "      <th>act_lname</th>\n",
              "      <th>role</th>\n",
              "    </tr>\n",
              "  </thead>\n",
              "  <tbody>\n",
              "    <tr>\n",
              "      <th>13</th>\n",
              "      <td>AmericanBeauty</td>\n",
              "      <td>Kevin</td>\n",
              "      <td>Spacey</td>\n",
              "      <td>LesterBurnham</td>\n",
              "    </tr>\n",
              "    <tr>\n",
              "      <th>14</th>\n",
              "      <td>BeyondtheSea</td>\n",
              "      <td>Kevin</td>\n",
              "      <td>Spacey</td>\n",
              "      <td>BobbyDarin</td>\n",
              "    </tr>\n",
              "  </tbody>\n",
              "</table>\n",
              "</div>"
            ],
            "text/plain": [
              "         mov_title act_fname act_lname           role\n",
              "13  AmericanBeauty     Kevin    Spacey  LesterBurnham\n",
              "14    BeyondtheSea     Kevin    Spacey     BobbyDarin"
            ]
          },
          "metadata": {
            "tags": []
          },
          "execution_count": 81
        }
      ]
    },
    {
      "cell_type": "markdown",
      "metadata": {
        "colab_type": "text",
        "id": "quk4wI3Ea5I1"
      },
      "source": [
        "### Query 45: Write a query to find the first and last name of a director and the movie he or she directed, and the actress appeared which first name was Claire and last name was Danes along with her role in that movie. "
      ]
    },
    {
      "cell_type": "code",
      "metadata": {
        "colab_type": "code",
        "id": "Z5TDUcnja5I4",
        "colab": {}
      },
      "source": [
        "table_name1, table_name2, table_name3 = 'movie',  'movie_cast', 'actor',\n",
        "table_name4, table_name5 = 'movie_direction', 'director'"
      ],
      "execution_count": 0,
      "outputs": []
    },
    {
      "cell_type": "markdown",
      "metadata": {
        "colab_type": "text",
        "id": "uJh0s1NJa5I6"
      },
      "source": [
        "> * **SQL**"
      ]
    },
    {
      "cell_type": "code",
      "metadata": {
        "colab_type": "code",
        "id": "uySpiMAia5I7",
        "colab": {
          "base_uri": "https://localhost:8080/",
          "height": 80
        },
        "outputId": "f83c34be-c767-4a64-f002-1dddefd3f3a4"
      },
      "source": [
        "rs = con.execute(f''' SELECT {table_name5}.dir_fname, {table_name5}.dir_lname,\n",
        "                             {table_name1}.mov_title, {table_name2}.role\n",
        "                      FROM {table_name1} AS {table_name1} \n",
        "                      INNER JOIN {table_name2} AS {table_name2}                       \n",
        "                      ON {table_name1}.mov_id = {table_name2}.mov_id      \n",
        "                      INNER JOIN {table_name3} AS {table_name3}                       \n",
        "                      ON {table_name2}.act_id = {table_name3}.act_id\n",
        "                      INNER JOIN {table_name4} AS {table_name4}                       \n",
        "                      ON {table_name1}.mov_id = {table_name4}.mov_id\n",
        "                      INNER JOIN {table_name5} AS {table_name5}                       \n",
        "                      ON {table_name4}.dir_id = {table_name5}.dir_id\n",
        "                      WHERE {table_name3}.act_fname = \"Claire\" AND \n",
        "                            {table_name3}.act_lname = \"Danes\"  AND\n",
        "                            {table_name3}.act_gender = \"F\"\n",
        "                 ''')\n",
        "pd.DataFrame(rs.fetchall(), columns = ['dir_fname', 'dir_lname', 'mov_title', 'role'])"
      ],
      "execution_count": 83,
      "outputs": [
        {
          "output_type": "execute_result",
          "data": {
            "text/html": [
              "<div>\n",
              "<style scoped>\n",
              "    .dataframe tbody tr th:only-of-type {\n",
              "        vertical-align: middle;\n",
              "    }\n",
              "\n",
              "    .dataframe tbody tr th {\n",
              "        vertical-align: top;\n",
              "    }\n",
              "\n",
              "    .dataframe thead th {\n",
              "        text-align: right;\n",
              "    }\n",
              "</style>\n",
              "<table border=\"1\" class=\"dataframe\">\n",
              "  <thead>\n",
              "    <tr style=\"text-align: right;\">\n",
              "      <th></th>\n",
              "      <th>dir_fname</th>\n",
              "      <th>dir_lname</th>\n",
              "      <th>mov_title</th>\n",
              "      <th>role</th>\n",
              "    </tr>\n",
              "  </thead>\n",
              "  <tbody>\n",
              "    <tr>\n",
              "      <th>0</th>\n",
              "      <td>Hayao</td>\n",
              "      <td>Miyazaki</td>\n",
              "      <td>PrincessMononoke</td>\n",
              "      <td>San</td>\n",
              "    </tr>\n",
              "  </tbody>\n",
              "</table>\n",
              "</div>"
            ],
            "text/plain": [
              "  dir_fname dir_lname         mov_title role\n",
              "0     Hayao  Miyazaki  PrincessMononoke  San"
            ]
          },
          "metadata": {
            "tags": []
          },
          "execution_count": 83
        }
      ]
    },
    {
      "cell_type": "markdown",
      "metadata": {
        "colab_type": "text",
        "id": "oIMD8FS9a5I9"
      },
      "source": [
        "> * **Pandas**"
      ]
    },
    {
      "cell_type": "code",
      "metadata": {
        "colab_type": "code",
        "id": "nif7ssyRa5I-",
        "colab": {
          "base_uri": "https://localhost:8080/",
          "height": 80
        },
        "outputId": "7245189f-d814-42ea-c5eb-66eb58492388"
      },
      "source": [
        "table1, table2, table3 = db[table_name1], db[table_name2], db[table_name3]\n",
        "table4, table5 = db[table_name4], db[table_name5]\n",
        "\n",
        "SELECT_CLAUSE = ['dir_fname', 'dir_lname', 'mov_title', 'role']\n",
        "\n",
        "WHERE_CONDITION1 = (table3['act_fname'] == \"Claire\")\n",
        "WHERE_CONDITION2 = (table3['act_lname'] == \"Danes\")\n",
        "WHERE_CONDITION3 = (table3['act_gender'] == \"F\")\n",
        "WHERE_CLAUSE = WHERE_CONDITION1 & WHERE_CONDITION2 & WHERE_CONDITION3\n",
        "\n",
        "rs = table1.merge(table2, 'inner', 'mov_id') \\\n",
        "           .merge(table3[WHERE_CLAUSE], 'inner','act_id') \\\n",
        "           .merge(table4, 'inner','mov_id') \\\n",
        "           .merge(table5, 'inner','dir_id') \\\n",
        "           [SELECT_CLAUSE]\n",
        "rs"
      ],
      "execution_count": 84,
      "outputs": [
        {
          "output_type": "execute_result",
          "data": {
            "text/html": [
              "<div>\n",
              "<style scoped>\n",
              "    .dataframe tbody tr th:only-of-type {\n",
              "        vertical-align: middle;\n",
              "    }\n",
              "\n",
              "    .dataframe tbody tr th {\n",
              "        vertical-align: top;\n",
              "    }\n",
              "\n",
              "    .dataframe thead th {\n",
              "        text-align: right;\n",
              "    }\n",
              "</style>\n",
              "<table border=\"1\" class=\"dataframe\">\n",
              "  <thead>\n",
              "    <tr style=\"text-align: right;\">\n",
              "      <th></th>\n",
              "      <th>dir_fname</th>\n",
              "      <th>dir_lname</th>\n",
              "      <th>mov_title</th>\n",
              "      <th>role</th>\n",
              "    </tr>\n",
              "  </thead>\n",
              "  <tbody>\n",
              "    <tr>\n",
              "      <th>0</th>\n",
              "      <td>Hayao</td>\n",
              "      <td>Miyazaki</td>\n",
              "      <td>PrincessMononoke</td>\n",
              "      <td>San</td>\n",
              "    </tr>\n",
              "  </tbody>\n",
              "</table>\n",
              "</div>"
            ],
            "text/plain": [
              "  dir_fname dir_lname         mov_title role\n",
              "0     Hayao  Miyazaki  PrincessMononoke  San"
            ]
          },
          "metadata": {
            "tags": []
          },
          "execution_count": 84
        }
      ]
    },
    {
      "cell_type": "markdown",
      "metadata": {
        "colab_type": "text",
        "id": "SlfZtddad9L2"
      },
      "source": [
        "### Query 46: Write a query in SQL to find the first and last name of an actor with their role in the movie which was also directed by themselve."
      ]
    },
    {
      "cell_type": "code",
      "metadata": {
        "colab_type": "code",
        "id": "2E9vWF2ed9L5",
        "colab": {}
      },
      "source": [
        "table_name1, table_name2, table_name3 = 'movie',  'movie_cast', 'actor',\n",
        "table_name4, table_name5 = 'movie_direction', 'director'"
      ],
      "execution_count": 0,
      "outputs": []
    },
    {
      "cell_type": "markdown",
      "metadata": {
        "colab_type": "text",
        "id": "MuLFrSzed9L7"
      },
      "source": [
        "> * **SQL**"
      ]
    },
    {
      "cell_type": "code",
      "metadata": {
        "colab_type": "code",
        "id": "h0HhpR_xd9L8",
        "colab": {
          "base_uri": "https://localhost:8080/",
          "height": 111
        },
        "outputId": "b2899bce-e17f-46ca-99f3-43eba42fed6a"
      },
      "source": [
        "rs = con.execute(f''' SELECT {table_name3}.act_fname, {table_name3}.act_lname,\n",
        "                             {table_name1}.mov_title, {table_name2}.role\n",
        "                      FROM {table_name1} AS {table_name1} \n",
        "                      INNER JOIN {table_name2} AS {table_name2}                       \n",
        "                      ON {table_name1}.mov_id = {table_name2}.mov_id      \n",
        "                      INNER JOIN {table_name3} AS {table_name3}                       \n",
        "                      ON {table_name2}.act_id = {table_name3}.act_id\n",
        "                      INNER JOIN {table_name4} AS {table_name4}                       \n",
        "                      ON {table_name1}.mov_id = {table_name4}.mov_id\n",
        "                      INNER JOIN {table_name5} AS {table_name5}                       \n",
        "                      ON {table_name4}.dir_id = {table_name5}.dir_id\n",
        "                      WHERE {table_name3}.act_fname = {table_name5}.dir_fname AND \n",
        "                            {table_name3}.act_lname = {table_name5}.dir_lname                            \n",
        "                 ''')\n",
        "pd.DataFrame(rs.fetchall(), columns = ['dir_fname', 'dir_lname', 'mov_title', 'role'])"
      ],
      "execution_count": 86,
      "outputs": [
        {
          "output_type": "execute_result",
          "data": {
            "text/html": [
              "<div>\n",
              "<style scoped>\n",
              "    .dataframe tbody tr th:only-of-type {\n",
              "        vertical-align: middle;\n",
              "    }\n",
              "\n",
              "    .dataframe tbody tr th {\n",
              "        vertical-align: top;\n",
              "    }\n",
              "\n",
              "    .dataframe thead th {\n",
              "        text-align: right;\n",
              "    }\n",
              "</style>\n",
              "<table border=\"1\" class=\"dataframe\">\n",
              "  <thead>\n",
              "    <tr style=\"text-align: right;\">\n",
              "      <th></th>\n",
              "      <th>dir_fname</th>\n",
              "      <th>dir_lname</th>\n",
              "      <th>mov_title</th>\n",
              "      <th>role</th>\n",
              "    </tr>\n",
              "  </thead>\n",
              "  <tbody>\n",
              "    <tr>\n",
              "      <th>0</th>\n",
              "      <td>Woody</td>\n",
              "      <td>Allen</td>\n",
              "      <td>AnnieHall</td>\n",
              "      <td>AlvySinger</td>\n",
              "    </tr>\n",
              "    <tr>\n",
              "      <th>1</th>\n",
              "      <td>Kevin</td>\n",
              "      <td>Spacey</td>\n",
              "      <td>BeyondtheSea</td>\n",
              "      <td>BobbyDarin</td>\n",
              "    </tr>\n",
              "  </tbody>\n",
              "</table>\n",
              "</div>"
            ],
            "text/plain": [
              "  dir_fname dir_lname     mov_title        role\n",
              "0     Woody     Allen     AnnieHall  AlvySinger\n",
              "1     Kevin    Spacey  BeyondtheSea  BobbyDarin"
            ]
          },
          "metadata": {
            "tags": []
          },
          "execution_count": 86
        }
      ]
    },
    {
      "cell_type": "markdown",
      "metadata": {
        "colab_type": "text",
        "id": "SNXUrFBEd9L-"
      },
      "source": [
        "> * **Pandas**"
      ]
    },
    {
      "cell_type": "code",
      "metadata": {
        "colab_type": "code",
        "id": "O8SWouced9L_",
        "colab": {
          "base_uri": "https://localhost:8080/",
          "height": 111
        },
        "outputId": "8767eb5f-b621-4fe3-d892-9764cd365f17"
      },
      "source": [
        "table1, table2, table3 = db[table_name1], db[table_name2], db[table_name3]\n",
        "table4, table5 = db[table_name4], db[table_name5]\n",
        "\n",
        "SELECT_CLAUSE = ['dir_fname', 'dir_lname', 'mov_title', 'role']\n",
        "\n",
        "rs = table1.merge(table2, 'inner', 'mov_id') \\\n",
        "           .merge(table3, 'inner','act_id') \\\n",
        "           .merge(table4, 'inner','mov_id') \\\n",
        "           .merge(table5, 'inner','dir_id')          \n",
        "\n",
        "WHERE_CONDITION1 = (rs['act_fname'] == rs['dir_fname'])\n",
        "WHERE_CONDITION2 = (rs['act_lname'] == rs['dir_lname'])\n",
        "WHERE_CLAUSE = WHERE_CONDITION1 & WHERE_CONDITION2\n",
        "           \n",
        "rs = rs[WHERE_CLAUSE][SELECT_CLAUSE]\n",
        "rs"
      ],
      "execution_count": 87,
      "outputs": [
        {
          "output_type": "execute_result",
          "data": {
            "text/html": [
              "<div>\n",
              "<style scoped>\n",
              "    .dataframe tbody tr th:only-of-type {\n",
              "        vertical-align: middle;\n",
              "    }\n",
              "\n",
              "    .dataframe tbody tr th {\n",
              "        vertical-align: top;\n",
              "    }\n",
              "\n",
              "    .dataframe thead th {\n",
              "        text-align: right;\n",
              "    }\n",
              "</style>\n",
              "<table border=\"1\" class=\"dataframe\">\n",
              "  <thead>\n",
              "    <tr style=\"text-align: right;\">\n",
              "      <th></th>\n",
              "      <th>dir_fname</th>\n",
              "      <th>dir_lname</th>\n",
              "      <th>mov_title</th>\n",
              "      <th>role</th>\n",
              "    </tr>\n",
              "  </thead>\n",
              "  <tbody>\n",
              "    <tr>\n",
              "      <th>10</th>\n",
              "      <td>Woody</td>\n",
              "      <td>Allen</td>\n",
              "      <td>AnnieHall</td>\n",
              "      <td>AlvySinger</td>\n",
              "    </tr>\n",
              "    <tr>\n",
              "      <th>14</th>\n",
              "      <td>Kevin</td>\n",
              "      <td>Spacey</td>\n",
              "      <td>BeyondtheSea</td>\n",
              "      <td>BobbyDarin</td>\n",
              "    </tr>\n",
              "  </tbody>\n",
              "</table>\n",
              "</div>"
            ],
            "text/plain": [
              "   dir_fname dir_lname     mov_title        role\n",
              "10     Woody     Allen     AnnieHall  AlvySinger\n",
              "14     Kevin    Spacey  BeyondtheSea  BobbyDarin"
            ]
          },
          "metadata": {
            "tags": []
          },
          "execution_count": 87
        }
      ]
    },
    {
      "cell_type": "markdown",
      "metadata": {
        "colab_type": "text",
        "id": "_4Pc9exvicrQ"
      },
      "source": [
        "### Query 47: Write a query to find the cast list for the movie Chinatown.  "
      ]
    },
    {
      "cell_type": "code",
      "metadata": {
        "colab_type": "code",
        "id": "ftjjKq8Iicrb",
        "colab": {}
      },
      "source": [
        "table_name1, table_name2, table_name3 = 'movie',  'movie_cast', 'actor',"
      ],
      "execution_count": 0,
      "outputs": []
    },
    {
      "cell_type": "markdown",
      "metadata": {
        "colab_type": "text",
        "id": "X4BDZUdVicrf"
      },
      "source": [
        "> * **SQL**"
      ]
    },
    {
      "cell_type": "code",
      "metadata": {
        "colab_type": "code",
        "id": "FKZFjODlicrg",
        "colab": {
          "base_uri": "https://localhost:8080/",
          "height": 80
        },
        "outputId": "2f2ac0f1-7775-4381-e93a-0ba859671e93"
      },
      "source": [
        "rs = con.execute(f''' SELECT {table_name3}.act_fname, {table_name3}.act_lname\n",
        "                      FROM {table_name1} AS {table_name1} \n",
        "                      INNER JOIN {table_name2} AS {table_name2}                       \n",
        "                      ON {table_name1}.mov_id = {table_name2}.mov_id      \n",
        "                      INNER JOIN {table_name3} AS {table_name3}                       \n",
        "                      ON {table_name2}.act_id = {table_name3}.act_id                   \n",
        "                      WHERE {table_name1}.mov_title = 'Chinatown'                            \n",
        "                 ''')\n",
        "pd.DataFrame(rs.fetchall(), columns = ['act_fname', 'act_lname'])"
      ],
      "execution_count": 89,
      "outputs": [
        {
          "output_type": "execute_result",
          "data": {
            "text/html": [
              "<div>\n",
              "<style scoped>\n",
              "    .dataframe tbody tr th:only-of-type {\n",
              "        vertical-align: middle;\n",
              "    }\n",
              "\n",
              "    .dataframe tbody tr th {\n",
              "        vertical-align: top;\n",
              "    }\n",
              "\n",
              "    .dataframe thead th {\n",
              "        text-align: right;\n",
              "    }\n",
              "</style>\n",
              "<table border=\"1\" class=\"dataframe\">\n",
              "  <thead>\n",
              "    <tr style=\"text-align: right;\">\n",
              "      <th></th>\n",
              "      <th>act_fname</th>\n",
              "      <th>act_lname</th>\n",
              "    </tr>\n",
              "  </thead>\n",
              "  <tbody>\n",
              "    <tr>\n",
              "      <th>0</th>\n",
              "      <td>Jack</td>\n",
              "      <td>Nicholson</td>\n",
              "    </tr>\n",
              "  </tbody>\n",
              "</table>\n",
              "</div>"
            ],
            "text/plain": [
              "  act_fname  act_lname\n",
              "0      Jack  Nicholson"
            ]
          },
          "metadata": {
            "tags": []
          },
          "execution_count": 89
        }
      ]
    },
    {
      "cell_type": "markdown",
      "metadata": {
        "colab_type": "text",
        "id": "v9vYJzkYicrk"
      },
      "source": [
        "> * **Pandas**"
      ]
    },
    {
      "cell_type": "code",
      "metadata": {
        "colab_type": "code",
        "id": "UbDZg4s_icrl",
        "colab": {
          "base_uri": "https://localhost:8080/",
          "height": 80
        },
        "outputId": "14e4cc20-331c-48d3-9c3a-d70bc526cfd6"
      },
      "source": [
        "table1, table2, table3 = db[table_name1], db[table_name2], db[table_name3]\n",
        "\n",
        "SELECT_CLAUSE = ['act_fname', 'act_lname']\n",
        "\n",
        "WHERE_CONDITION = (table1['mov_title'] == 'Chinatown')\n",
        "WHERE_CLAUSE = WHERE_CONDITION\n",
        "\n",
        "rs = table1[WHERE_CLAUSE].merge(table2, 'inner', 'mov_id') \\\n",
        "                         .merge(table3, 'inner','act_id') \\\n",
        "                         [SELECT_CLAUSE]\n",
        "rs"
      ],
      "execution_count": 90,
      "outputs": [
        {
          "output_type": "execute_result",
          "data": {
            "text/html": [
              "<div>\n",
              "<style scoped>\n",
              "    .dataframe tbody tr th:only-of-type {\n",
              "        vertical-align: middle;\n",
              "    }\n",
              "\n",
              "    .dataframe tbody tr th {\n",
              "        vertical-align: top;\n",
              "    }\n",
              "\n",
              "    .dataframe thead th {\n",
              "        text-align: right;\n",
              "    }\n",
              "</style>\n",
              "<table border=\"1\" class=\"dataframe\">\n",
              "  <thead>\n",
              "    <tr style=\"text-align: right;\">\n",
              "      <th></th>\n",
              "      <th>act_fname</th>\n",
              "      <th>act_lname</th>\n",
              "    </tr>\n",
              "  </thead>\n",
              "  <tbody>\n",
              "    <tr>\n",
              "      <th>0</th>\n",
              "      <td>Jack</td>\n",
              "      <td>Nicholson</td>\n",
              "    </tr>\n",
              "  </tbody>\n",
              "</table>\n",
              "</div>"
            ],
            "text/plain": [
              "  act_fname  act_lname\n",
              "0      Jack  Nicholson"
            ]
          },
          "metadata": {
            "tags": []
          },
          "execution_count": 90
        }
      ]
    },
    {
      "cell_type": "markdown",
      "metadata": {
        "colab_type": "text",
        "id": "1cqIwO4fj04s"
      },
      "source": [
        "### Query 48: Write a query to find the movie in which the actor appeared whose first and last name are 'Harrison' and 'Ford'. "
      ]
    },
    {
      "cell_type": "code",
      "metadata": {
        "colab_type": "code",
        "id": "MQxQJt_4j04v",
        "colab": {}
      },
      "source": [
        "table_name1, table_name2, table_name3 = 'movie',  'movie_cast', 'actor',"
      ],
      "execution_count": 0,
      "outputs": []
    },
    {
      "cell_type": "markdown",
      "metadata": {
        "colab_type": "text",
        "id": "Dv_feQKoj04y"
      },
      "source": [
        "> * **SQL**"
      ]
    },
    {
      "cell_type": "code",
      "metadata": {
        "colab_type": "code",
        "id": "R3CyxIduj04z",
        "colab": {
          "base_uri": "https://localhost:8080/",
          "height": 80
        },
        "outputId": "64d604b9-38c3-4f8f-8256-b0e52ea2c3f5"
      },
      "source": [
        "rs = con.execute(f''' SELECT {table_name1}.mov_title\n",
        "                      FROM {table_name1} AS {table_name1} \n",
        "                      INNER JOIN {table_name2} AS {table_name2}                       \n",
        "                      ON {table_name1}.mov_id = {table_name2}.mov_id      \n",
        "                      INNER JOIN {table_name3} AS {table_name3}                       \n",
        "                      ON {table_name2}.act_id = {table_name3}.act_id                   \n",
        "                      WHERE {table_name3}.act_fname = 'Harrison' AND\n",
        "                            {table_name3}.act_lname = 'Ford'\n",
        "                 ''')\n",
        "pd.DataFrame(rs.fetchall(), columns = ['mov_title'])"
      ],
      "execution_count": 92,
      "outputs": [
        {
          "output_type": "execute_result",
          "data": {
            "text/html": [
              "<div>\n",
              "<style scoped>\n",
              "    .dataframe tbody tr th:only-of-type {\n",
              "        vertical-align: middle;\n",
              "    }\n",
              "\n",
              "    .dataframe tbody tr th {\n",
              "        vertical-align: top;\n",
              "    }\n",
              "\n",
              "    .dataframe thead th {\n",
              "        text-align: right;\n",
              "    }\n",
              "</style>\n",
              "<table border=\"1\" class=\"dataframe\">\n",
              "  <thead>\n",
              "    <tr style=\"text-align: right;\">\n",
              "      <th></th>\n",
              "      <th>mov_title</th>\n",
              "    </tr>\n",
              "  </thead>\n",
              "  <tbody>\n",
              "    <tr>\n",
              "      <th>0</th>\n",
              "      <td>BladeRunner</td>\n",
              "    </tr>\n",
              "  </tbody>\n",
              "</table>\n",
              "</div>"
            ],
            "text/plain": [
              "     mov_title\n",
              "0  BladeRunner"
            ]
          },
          "metadata": {
            "tags": []
          },
          "execution_count": 92
        }
      ]
    },
    {
      "cell_type": "markdown",
      "metadata": {
        "colab_type": "text",
        "id": "4E1ZbCmzj041"
      },
      "source": [
        "> * **Pandas**"
      ]
    },
    {
      "cell_type": "code",
      "metadata": {
        "colab_type": "code",
        "id": "nDaVPdmUj042",
        "colab": {
          "base_uri": "https://localhost:8080/",
          "height": 80
        },
        "outputId": "15bd13c2-3b1e-4b32-aac8-e87927d45191"
      },
      "source": [
        "table1, table2, table3 = db[table_name1], db[table_name2], db[table_name3]\n",
        "\n",
        "SELECT_CLAUSE = ['mov_title']\n",
        "\n",
        "WHERE_CONDITION1 = (table3['act_fname'] == 'Harrison')\n",
        "WHERE_CONDITION2= (table3['act_lname'] == 'Ford')\n",
        "WHERE_CLAUSE = WHERE_CONDITION1 & WHERE_CONDITION2\n",
        "\n",
        "rs = table1.merge(table2, 'inner', 'mov_id') \\\n",
        "           .merge(table3[WHERE_CLAUSE], 'inner','act_id') \\\n",
        "           [SELECT_CLAUSE]\n",
        "rs"
      ],
      "execution_count": 93,
      "outputs": [
        {
          "output_type": "execute_result",
          "data": {
            "text/html": [
              "<div>\n",
              "<style scoped>\n",
              "    .dataframe tbody tr th:only-of-type {\n",
              "        vertical-align: middle;\n",
              "    }\n",
              "\n",
              "    .dataframe tbody tr th {\n",
              "        vertical-align: top;\n",
              "    }\n",
              "\n",
              "    .dataframe thead th {\n",
              "        text-align: right;\n",
              "    }\n",
              "</style>\n",
              "<table border=\"1\" class=\"dataframe\">\n",
              "  <thead>\n",
              "    <tr style=\"text-align: right;\">\n",
              "      <th></th>\n",
              "      <th>mov_title</th>\n",
              "    </tr>\n",
              "  </thead>\n",
              "  <tbody>\n",
              "    <tr>\n",
              "      <th>0</th>\n",
              "      <td>BladeRunner</td>\n",
              "    </tr>\n",
              "  </tbody>\n",
              "</table>\n",
              "</div>"
            ],
            "text/plain": [
              "     mov_title\n",
              "0  BladeRunner"
            ]
          },
          "metadata": {
            "tags": []
          },
          "execution_count": 93
        }
      ]
    },
    {
      "cell_type": "markdown",
      "metadata": {
        "colab_type": "text",
        "id": "0AP2fzosk3dz"
      },
      "source": [
        "### Query 49: Write a query to find the highest-rated movie, and report its title, year, rating, and releasing country.  "
      ]
    },
    {
      "cell_type": "code",
      "metadata": {
        "colab_type": "code",
        "id": "LAVEQZZOk3d1",
        "colab": {}
      },
      "source": [
        "table_name1, table_name2 = 'movie',  'rating'"
      ],
      "execution_count": 0,
      "outputs": []
    },
    {
      "cell_type": "markdown",
      "metadata": {
        "colab_type": "text",
        "id": "kZrYtyWXk3d4"
      },
      "source": [
        "> * **SQL**"
      ]
    },
    {
      "cell_type": "code",
      "metadata": {
        "colab_type": "code",
        "id": "lk26caF8k3d6",
        "colab": {
          "base_uri": "https://localhost:8080/",
          "height": 80
        },
        "outputId": "c83ba1a5-ce91-4313-baa6-ffb873b572dc"
      },
      "source": [
        "rs = con.execute(f''' SELECT {table_name1}.mov_title, {table_name1}.mov_year, \n",
        "                             {table_name2}.num_of_ratings, {table_name1}.mov_rel_country\n",
        "                      FROM {table_name1} AS {table_name1} \n",
        "                      INNER JOIN {table_name2} AS {table_name2}                       \n",
        "                      ON {table_name1}.mov_id = {table_name2}.mov_id                          \n",
        "                      WHERE {table_name2}.num_of_ratings = (SELECT MAX(num_of_ratings) FROM {table_name2})                            \n",
        "                 ''')\n",
        "pd.DataFrame(rs.fetchall(), columns = ['mov_title', 'mov_year', 'num_of_ratings', 'mov_rel_country'])"
      ],
      "execution_count": 95,
      "outputs": [
        {
          "output_type": "execute_result",
          "data": {
            "text/html": [
              "<div>\n",
              "<style scoped>\n",
              "    .dataframe tbody tr th:only-of-type {\n",
              "        vertical-align: middle;\n",
              "    }\n",
              "\n",
              "    .dataframe tbody tr th {\n",
              "        vertical-align: top;\n",
              "    }\n",
              "\n",
              "    .dataframe thead th {\n",
              "        text-align: right;\n",
              "    }\n",
              "</style>\n",
              "<table border=\"1\" class=\"dataframe\">\n",
              "  <thead>\n",
              "    <tr style=\"text-align: right;\">\n",
              "      <th></th>\n",
              "      <th>mov_title</th>\n",
              "      <th>mov_year</th>\n",
              "      <th>num_of_ratings</th>\n",
              "      <th>mov_rel_country</th>\n",
              "    </tr>\n",
              "  </thead>\n",
              "  <tbody>\n",
              "    <tr>\n",
              "      <th>0</th>\n",
              "      <td>AmericanBeauty</td>\n",
              "      <td>1999</td>\n",
              "      <td>862618.0</td>\n",
              "      <td>UK</td>\n",
              "    </tr>\n",
              "  </tbody>\n",
              "</table>\n",
              "</div>"
            ],
            "text/plain": [
              "        mov_title  mov_year  num_of_ratings mov_rel_country\n",
              "0  AmericanBeauty      1999        862618.0              UK"
            ]
          },
          "metadata": {
            "tags": []
          },
          "execution_count": 95
        }
      ]
    },
    {
      "cell_type": "markdown",
      "metadata": {
        "colab_type": "text",
        "id": "SsAL5Tt_k3d9"
      },
      "source": [
        "> * **Pandas**"
      ]
    },
    {
      "cell_type": "code",
      "metadata": {
        "colab_type": "code",
        "id": "AFoDAnb-k3d9",
        "colab": {
          "base_uri": "https://localhost:8080/",
          "height": 80
        },
        "outputId": "67ed5732-388b-4615-fea5-9f3c89bb3fd3"
      },
      "source": [
        "table1, table2 = db[table_name1], db[table_name2]\n",
        "\n",
        "SELECT_CLAUSE = ['mov_title', 'mov_year', 'num_of_ratings', 'mov_rel_country']\n",
        "\n",
        "\n",
        "WHERE_CONDITION1= (table2['num_of_ratings'] == table2['num_of_ratings'].max())\n",
        "WHERE_CLAUSE = WHERE_CONDITION1\n",
        "\n",
        "rs = table1.merge(table2[WHERE_CLAUSE], 'inner', 'mov_id') \\\n",
        "           [SELECT_CLAUSE]\n",
        "rs"
      ],
      "execution_count": 96,
      "outputs": [
        {
          "output_type": "execute_result",
          "data": {
            "text/html": [
              "<div>\n",
              "<style scoped>\n",
              "    .dataframe tbody tr th:only-of-type {\n",
              "        vertical-align: middle;\n",
              "    }\n",
              "\n",
              "    .dataframe tbody tr th {\n",
              "        vertical-align: top;\n",
              "    }\n",
              "\n",
              "    .dataframe thead th {\n",
              "        text-align: right;\n",
              "    }\n",
              "</style>\n",
              "<table border=\"1\" class=\"dataframe\">\n",
              "  <thead>\n",
              "    <tr style=\"text-align: right;\">\n",
              "      <th></th>\n",
              "      <th>mov_title</th>\n",
              "      <th>mov_year</th>\n",
              "      <th>num_of_ratings</th>\n",
              "      <th>mov_rel_country</th>\n",
              "    </tr>\n",
              "  </thead>\n",
              "  <tbody>\n",
              "    <tr>\n",
              "      <th>0</th>\n",
              "      <td>AmericanBeauty</td>\n",
              "      <td>1999</td>\n",
              "      <td>862618.0</td>\n",
              "      <td>UK</td>\n",
              "    </tr>\n",
              "  </tbody>\n",
              "</table>\n",
              "</div>"
            ],
            "text/plain": [
              "        mov_title  mov_year  num_of_ratings mov_rel_country\n",
              "0  AmericanBeauty      1999        862618.0              UK"
            ]
          },
          "metadata": {
            "tags": []
          },
          "execution_count": 96
        }
      ]
    },
    {
      "cell_type": "markdown",
      "metadata": {
        "colab_type": "text",
        "id": "XJBs6Ipumdz1"
      },
      "source": [
        "### Query 50: Write a query to find the highest-rated Mystery movie, and report the title, year, and rating. "
      ]
    },
    {
      "cell_type": "code",
      "metadata": {
        "colab_type": "code",
        "id": "IKfX3P7Bmdz3",
        "colab": {}
      },
      "source": [
        "table_name1, table_name2 = 'movie', 'rating'\n",
        "table_name3, table_name4 = 'movie_genres', 'genres'"
      ],
      "execution_count": 0,
      "outputs": []
    },
    {
      "cell_type": "markdown",
      "metadata": {
        "colab_type": "text",
        "id": "Xh1F_QY9mdz5"
      },
      "source": [
        "> * **SQL**"
      ]
    },
    {
      "cell_type": "code",
      "metadata": {
        "colab_type": "code",
        "id": "pBZ2U-TUmdz6",
        "colab": {
          "base_uri": "https://localhost:8080/",
          "height": 80
        },
        "outputId": "7ee15381-bd42-4141-b9c7-3a435a01f149"
      },
      "source": [
        "rs = con.execute(f''' SELECT {table_name1}.mov_title, {table_name1}.mov_year, \n",
        "                             {table_name2}.num_of_ratings\n",
        "                      FROM {table_name1} AS {table_name1}                       \n",
        "                      INNER JOIN {table_name2} AS {table_name2}                       \n",
        "                      ON {table_name1}.mov_id = {table_name2}.mov_id                          \n",
        "                      INNER JOIN {table_name3} AS {table_name3}                       \n",
        "                      ON {table_name1}.mov_id = {table_name3}.mov_id                          \n",
        "                      INNER JOIN {table_name4} AS {table_name4}                       \n",
        "                      ON {table_name3}.gen_id = {table_name4}.gen_id                          \n",
        "                      WHERE {table_name4}.gen_title = \"Mystery\"                           \n",
        "                 ''')\n",
        "pd.DataFrame(rs.fetchall(), columns = ['mov_title', 'mov_year', 'num_of_ratings'])"
      ],
      "execution_count": 98,
      "outputs": [
        {
          "output_type": "execute_result",
          "data": {
            "text/html": [
              "<div>\n",
              "<style scoped>\n",
              "    .dataframe tbody tr th:only-of-type {\n",
              "        vertical-align: middle;\n",
              "    }\n",
              "\n",
              "    .dataframe tbody tr th {\n",
              "        vertical-align: top;\n",
              "    }\n",
              "\n",
              "    .dataframe thead th {\n",
              "        text-align: right;\n",
              "    }\n",
              "</style>\n",
              "<table border=\"1\" class=\"dataframe\">\n",
              "  <thead>\n",
              "    <tr style=\"text-align: right;\">\n",
              "      <th></th>\n",
              "      <th>mov_title</th>\n",
              "      <th>mov_year</th>\n",
              "      <th>num_of_ratings</th>\n",
              "    </tr>\n",
              "  </thead>\n",
              "  <tbody>\n",
              "    <tr>\n",
              "      <th>0</th>\n",
              "      <td>Vertigo</td>\n",
              "      <td>1958</td>\n",
              "      <td>263575.0</td>\n",
              "    </tr>\n",
              "  </tbody>\n",
              "</table>\n",
              "</div>"
            ],
            "text/plain": [
              "  mov_title  mov_year  num_of_ratings\n",
              "0   Vertigo      1958        263575.0"
            ]
          },
          "metadata": {
            "tags": []
          },
          "execution_count": 98
        }
      ]
    },
    {
      "cell_type": "markdown",
      "metadata": {
        "colab_type": "text",
        "id": "qVr28BBUmdz8"
      },
      "source": [
        "> * **Pandas**"
      ]
    },
    {
      "cell_type": "code",
      "metadata": {
        "colab_type": "code",
        "id": "uu6QWEa4mdz9",
        "colab": {
          "base_uri": "https://localhost:8080/",
          "height": 80
        },
        "outputId": "c306fb37-0d22-4e8e-fee6-f620af44c332"
      },
      "source": [
        "table1, table2 = db[table_name1], db[table_name2]\n",
        "table3, table4 = db[table_name3], db[table_name4]\n",
        "\n",
        "SELECT_CLAUSE = ['mov_title', 'mov_year', 'num_of_ratings']\n",
        "\n",
        "WHERE_CONDITION= (table4['gen_title'] == 'Mystery')\n",
        "WHERE_CLAUSE = WHERE_CONDITION\n",
        "\n",
        "rs = table1.merge(table2, 'inner', 'mov_id') \\\n",
        "           .merge(table3, 'inner', 'mov_id') \\\n",
        "           .merge(table4[WHERE_CLAUSE], 'inner', 'gen_id') \\\n",
        "           [SELECT_CLAUSE]\n",
        "rs"
      ],
      "execution_count": 99,
      "outputs": [
        {
          "output_type": "execute_result",
          "data": {
            "text/html": [
              "<div>\n",
              "<style scoped>\n",
              "    .dataframe tbody tr th:only-of-type {\n",
              "        vertical-align: middle;\n",
              "    }\n",
              "\n",
              "    .dataframe tbody tr th {\n",
              "        vertical-align: top;\n",
              "    }\n",
              "\n",
              "    .dataframe thead th {\n",
              "        text-align: right;\n",
              "    }\n",
              "</style>\n",
              "<table border=\"1\" class=\"dataframe\">\n",
              "  <thead>\n",
              "    <tr style=\"text-align: right;\">\n",
              "      <th></th>\n",
              "      <th>mov_title</th>\n",
              "      <th>mov_year</th>\n",
              "      <th>num_of_ratings</th>\n",
              "    </tr>\n",
              "  </thead>\n",
              "  <tbody>\n",
              "    <tr>\n",
              "      <th>0</th>\n",
              "      <td>Vertigo</td>\n",
              "      <td>1958</td>\n",
              "      <td>263575.0</td>\n",
              "    </tr>\n",
              "  </tbody>\n",
              "</table>\n",
              "</div>"
            ],
            "text/plain": [
              "  mov_title  mov_year  num_of_ratings\n",
              "0   Vertigo      1958        263575.0"
            ]
          },
          "metadata": {
            "tags": []
          },
          "execution_count": 99
        }
      ]
    },
    {
      "cell_type": "markdown",
      "metadata": {
        "colab_type": "text",
        "id": "H-2J_OB0n1GD"
      },
      "source": [
        "### Query 51:  Write a query to generate a report which shows the year when most of the Mystery movies produces, and number of movies and their average rating. "
      ]
    },
    {
      "cell_type": "code",
      "metadata": {
        "colab_type": "code",
        "id": "IldHLE8Nn1GG",
        "colab": {}
      },
      "source": [
        "table_name1, table_name2 = 'movie', 'rating'\n",
        "table_name3, table_name4 = 'movie_genres', 'genres'"
      ],
      "execution_count": 0,
      "outputs": []
    },
    {
      "cell_type": "markdown",
      "metadata": {
        "colab_type": "text",
        "id": "TBLnl2yYn1GI"
      },
      "source": [
        "> * **SQL**"
      ]
    },
    {
      "cell_type": "code",
      "metadata": {
        "colab_type": "code",
        "id": "5L798zBOn1GI",
        "colab": {
          "base_uri": "https://localhost:8080/",
          "height": 142
        },
        "outputId": "77b2c2d0-2e14-478e-969b-3eacab274a4a"
      },
      "source": [
        "rs = con.execute(f''' SELECT {table_name1}.mov_year, COUNT({table_name1}.mov_id), AVG({table_name2}.num_of_ratings)                              \n",
        "                      FROM {table_name1} AS {table_name1}                       \n",
        "                      LEFT JOIN {table_name2} AS {table_name2}                       \n",
        "                      ON {table_name1}.mov_id = {table_name2}.mov_id                          \n",
        "                      INNER JOIN {table_name3} AS {table_name3}                       \n",
        "                      ON {table_name1}.mov_id = {table_name3}.mov_id                          \n",
        "                      INNER JOIN {table_name4} AS {table_name4}                       \n",
        "                      ON {table_name3}.gen_id = {table_name4}.gen_id                          \n",
        "                      WHERE {table_name4}.gen_title = \"Mystery\"  \n",
        "                      GROUP BY {table_name1}.mov_year                      \n",
        "                 ''')\n",
        "pd.DataFrame(rs.fetchall(), columns = ['mov_year', 'num_of_mystery_mov', 'avg_ratings'])"
      ],
      "execution_count": 101,
      "outputs": [
        {
          "output_type": "execute_result",
          "data": {
            "text/html": [
              "<div>\n",
              "<style scoped>\n",
              "    .dataframe tbody tr th:only-of-type {\n",
              "        vertical-align: middle;\n",
              "    }\n",
              "\n",
              "    .dataframe tbody tr th {\n",
              "        vertical-align: top;\n",
              "    }\n",
              "\n",
              "    .dataframe thead th {\n",
              "        text-align: right;\n",
              "    }\n",
              "</style>\n",
              "<table border=\"1\" class=\"dataframe\">\n",
              "  <thead>\n",
              "    <tr style=\"text-align: right;\">\n",
              "      <th></th>\n",
              "      <th>mov_year</th>\n",
              "      <th>num_of_mystery_mov</th>\n",
              "      <th>avg_ratings</th>\n",
              "    </tr>\n",
              "  </thead>\n",
              "  <tbody>\n",
              "    <tr>\n",
              "      <th>0</th>\n",
              "      <td>1958</td>\n",
              "      <td>1</td>\n",
              "      <td>263575.0</td>\n",
              "    </tr>\n",
              "    <tr>\n",
              "      <th>1</th>\n",
              "      <td>1999</td>\n",
              "      <td>1</td>\n",
              "      <td>NaN</td>\n",
              "    </tr>\n",
              "    <tr>\n",
              "      <th>2</th>\n",
              "      <td>2001</td>\n",
              "      <td>1</td>\n",
              "      <td>NaN</td>\n",
              "    </tr>\n",
              "  </tbody>\n",
              "</table>\n",
              "</div>"
            ],
            "text/plain": [
              "   mov_year  num_of_mystery_mov  avg_ratings\n",
              "0      1958                   1     263575.0\n",
              "1      1999                   1          NaN\n",
              "2      2001                   1          NaN"
            ]
          },
          "metadata": {
            "tags": []
          },
          "execution_count": 101
        }
      ]
    },
    {
      "cell_type": "markdown",
      "metadata": {
        "colab_type": "text",
        "id": "Jko1zEEhn1GL"
      },
      "source": [
        "> * **Pandas**"
      ]
    },
    {
      "cell_type": "code",
      "metadata": {
        "colab_type": "code",
        "id": "MMBnBYYLn1GL",
        "colab": {
          "base_uri": "https://localhost:8080/",
          "height": 173
        },
        "outputId": "e844084d-052d-416f-b981-e20ba3d6b177"
      },
      "source": [
        "table1, table2 = db[table_name1], db[table_name2]\n",
        "table3, table4 = db[table_name3], db[table_name4]\n",
        "\n",
        "SELECT_CLAUSE = ['mov_title']\n",
        "\n",
        "WHERE_CONDITION= (table4['gen_title'] == 'Mystery')\n",
        "WHERE_CLAUSE = WHERE_CONDITION\n",
        "AGG_OP = {'mov_id': 'count', 'num_of_ratings': 'mean'}\n",
        "rs = table1.merge(table2, 'left', 'mov_id') \\\n",
        "           .merge(table3, 'inner', 'mov_id') \\\n",
        "           .merge(table4[WHERE_CLAUSE], 'inner', 'gen_id') \\\n",
        "           .groupby(['mov_year']) \\\n",
        "           .agg(AGG_OP) \\\n",
        "           \n",
        "rs"
      ],
      "execution_count": 102,
      "outputs": [
        {
          "output_type": "execute_result",
          "data": {
            "text/html": [
              "<div>\n",
              "<style scoped>\n",
              "    .dataframe tbody tr th:only-of-type {\n",
              "        vertical-align: middle;\n",
              "    }\n",
              "\n",
              "    .dataframe tbody tr th {\n",
              "        vertical-align: top;\n",
              "    }\n",
              "\n",
              "    .dataframe thead th {\n",
              "        text-align: right;\n",
              "    }\n",
              "</style>\n",
              "<table border=\"1\" class=\"dataframe\">\n",
              "  <thead>\n",
              "    <tr style=\"text-align: right;\">\n",
              "      <th></th>\n",
              "      <th>mov_id</th>\n",
              "      <th>num_of_ratings</th>\n",
              "    </tr>\n",
              "    <tr>\n",
              "      <th>mov_year</th>\n",
              "      <th></th>\n",
              "      <th></th>\n",
              "    </tr>\n",
              "  </thead>\n",
              "  <tbody>\n",
              "    <tr>\n",
              "      <th>1958</th>\n",
              "      <td>1</td>\n",
              "      <td>263575.0</td>\n",
              "    </tr>\n",
              "    <tr>\n",
              "      <th>1999</th>\n",
              "      <td>1</td>\n",
              "      <td>NaN</td>\n",
              "    </tr>\n",
              "    <tr>\n",
              "      <th>2001</th>\n",
              "      <td>1</td>\n",
              "      <td>NaN</td>\n",
              "    </tr>\n",
              "  </tbody>\n",
              "</table>\n",
              "</div>"
            ],
            "text/plain": [
              "          mov_id  num_of_ratings\n",
              "mov_year                        \n",
              "1958           1        263575.0\n",
              "1999           1             NaN\n",
              "2001           1             NaN"
            ]
          },
          "metadata": {
            "tags": []
          },
          "execution_count": 102
        }
      ]
    },
    {
      "cell_type": "markdown",
      "metadata": {
        "colab_type": "text",
        "id": "zZXQLHWqr6bR"
      },
      "source": [
        "### Query 52: Write a query to generate a report which contain the columns movie title, name of the female actor, year of the movie, role, movie genres, the director, date of release, and rating of that movie. "
      ]
    },
    {
      "cell_type": "code",
      "metadata": {
        "colab_type": "code",
        "id": "0pl0eS2fr6bU",
        "colab": {}
      },
      "source": [
        "table_name1, table_name2, table_name3 = 'movie', 'movie_direction', 'director'\n",
        "table_name4, table_name5, table_name6 = 'movie_cast', 'actor', 'movie_genres', \n",
        "table_name7, table_name8 = 'genres', 'rating'"
      ],
      "execution_count": 0,
      "outputs": []
    },
    {
      "cell_type": "markdown",
      "metadata": {
        "colab_type": "text",
        "id": "Onrm3RGkr6bX"
      },
      "source": [
        "> * **SQL**"
      ]
    },
    {
      "cell_type": "code",
      "metadata": {
        "colab_type": "code",
        "id": "ufbnJAz5r6bY",
        "colab": {
          "base_uri": "https://localhost:8080/",
          "height": 142
        },
        "outputId": "63f78573-980f-4a87-aa02-e21a0f6ce145"
      },
      "source": [
        "rs = con.execute(f''' SELECT {table_name1}.mov_title, {table_name5}.act_fname, {table_name5}.act_lname,\n",
        "                             {table_name1}.mov_year, {table_name4}.role, {table_name1}.mov_dt_rel,\n",
        "                             {table_name8}.num_of_ratings\n",
        "                      FROM {table_name1} AS {table_name1}                       \n",
        "                      INNER JOIN {table_name2} AS {table_name2}                       \n",
        "                      ON {table_name1}.mov_id = {table_name2}.mov_id                          \n",
        "                      INNER JOIN {table_name3} AS {table_name3}                       \n",
        "                      ON {table_name2}.dir_id = {table_name3}.dir_id \n",
        "                      INNER JOIN {table_name4} AS {table_name4}                       \n",
        "                      ON {table_name1}.mov_id = {table_name4}.mov_id\n",
        "                      INNER JOIN {table_name5} AS {table_name5}                       \n",
        "                      ON {table_name4}.act_id = {table_name5}.act_id                  \n",
        "                      INNER JOIN {table_name6} AS {table_name6}                       \n",
        "                      ON {table_name1}.mov_id = {table_name6}.mov_id                  \n",
        "                      INNER JOIN {table_name7} AS {table_name7}                       \n",
        "                      ON {table_name6}.gen_id = {table_name7}.gen_id                          \n",
        "                      INNER JOIN {table_name8} AS {table_name8}                       \n",
        "                      ON {table_name1}.mov_id = {table_name8}.mov_id                          \n",
        "                      WHERE {table_name5}.act_gender = \"F\"                                          \n",
        "                 ''')\n",
        "pd.DataFrame(rs.fetchall(), columns = ['mov_title', 'act_fname', 'act_lname', \n",
        "                                       'mov_year', 'role', 'mov_dt_rel',\n",
        "                                       'num_of_ratings'])"
      ],
      "execution_count": 104,
      "outputs": [
        {
          "output_type": "execute_result",
          "data": {
            "text/html": [
              "<div>\n",
              "<style scoped>\n",
              "    .dataframe tbody tr th:only-of-type {\n",
              "        vertical-align: middle;\n",
              "    }\n",
              "\n",
              "    .dataframe tbody tr th {\n",
              "        vertical-align: top;\n",
              "    }\n",
              "\n",
              "    .dataframe thead th {\n",
              "        text-align: right;\n",
              "    }\n",
              "</style>\n",
              "<table border=\"1\" class=\"dataframe\">\n",
              "  <thead>\n",
              "    <tr style=\"text-align: right;\">\n",
              "      <th></th>\n",
              "      <th>mov_title</th>\n",
              "      <th>act_fname</th>\n",
              "      <th>act_lname</th>\n",
              "      <th>mov_year</th>\n",
              "      <th>role</th>\n",
              "      <th>mov_dt_rel</th>\n",
              "      <th>num_of_ratings</th>\n",
              "    </tr>\n",
              "  </thead>\n",
              "  <tbody>\n",
              "    <tr>\n",
              "      <th>0</th>\n",
              "      <td>TheInnocents</td>\n",
              "      <td>Deborah</td>\n",
              "      <td>Kerr</td>\n",
              "      <td>1961</td>\n",
              "      <td>MissGiddens</td>\n",
              "      <td>1962-02-19</td>\n",
              "      <td>20207.0</td>\n",
              "    </tr>\n",
              "    <tr>\n",
              "      <th>1</th>\n",
              "      <td>PrincessMononoke</td>\n",
              "      <td>Claire</td>\n",
              "      <td>Danes</td>\n",
              "      <td>1997</td>\n",
              "      <td>San</td>\n",
              "      <td>2001-10-19</td>\n",
              "      <td>NaN</td>\n",
              "    </tr>\n",
              "    <tr>\n",
              "      <th>2</th>\n",
              "      <td>Aliens</td>\n",
              "      <td>Sigourney</td>\n",
              "      <td>Weaver</td>\n",
              "      <td>1986</td>\n",
              "      <td>Ripley</td>\n",
              "      <td>1986-08-29</td>\n",
              "      <td>511613.0</td>\n",
              "    </tr>\n",
              "  </tbody>\n",
              "</table>\n",
              "</div>"
            ],
            "text/plain": [
              "          mov_title  act_fname act_lname  mov_year         role  mov_dt_rel  num_of_ratings\n",
              "0      TheInnocents    Deborah      Kerr      1961  MissGiddens  1962-02-19         20207.0\n",
              "1  PrincessMononoke     Claire     Danes      1997          San  2001-10-19             NaN\n",
              "2            Aliens  Sigourney    Weaver      1986       Ripley  1986-08-29        511613.0"
            ]
          },
          "metadata": {
            "tags": []
          },
          "execution_count": 104
        }
      ]
    },
    {
      "cell_type": "markdown",
      "metadata": {
        "colab_type": "text",
        "id": "4oHTf--tr6ba"
      },
      "source": [
        "> * **Pandas**"
      ]
    },
    {
      "cell_type": "code",
      "metadata": {
        "colab_type": "code",
        "id": "XSNRzNsdr6bb",
        "colab": {
          "base_uri": "https://localhost:8080/",
          "height": 142
        },
        "outputId": "62ad74e4-ee60-49d9-aa34-ae5c40bab1fb"
      },
      "source": [
        "table1, table2, table3 = db[table_name1], db[table_name2], db[table_name3]\n",
        "table4, table5, table6 = db[table_name4], db[table_name5], db[table_name6]\n",
        "table7, table8 = db[table_name7], db[table_name8]\n",
        "\n",
        "SELECT_CLAUSE = ['mov_title', 'act_fname', 'act_lname', 'mov_year', \n",
        "                 'role', 'mov_dt_rel', 'num_of_ratings']\n",
        "\n",
        "WHERE_CONDITION= (table5['act_gender'] == 'F')\n",
        "WHERE_CLAUSE = WHERE_CONDITION\n",
        "\n",
        "rs = table1.merge(table2, 'inner', 'mov_id') \\\n",
        "           .merge(table3, 'inner', 'dir_id') \\\n",
        "           .merge(table4, 'inner', 'mov_id') \\\n",
        "           .merge(table5[WHERE_CLAUSE], 'inner', 'act_id') \\\n",
        "           .merge(table6, 'inner', 'mov_id') \\\n",
        "           .merge(table7, 'inner', 'gen_id') \\\n",
        "           .merge(table8, 'inner', 'mov_id') \\\n",
        "           [SELECT_CLAUSE]          \n",
        "rs"
      ],
      "execution_count": 105,
      "outputs": [
        {
          "output_type": "execute_result",
          "data": {
            "text/html": [
              "<div>\n",
              "<style scoped>\n",
              "    .dataframe tbody tr th:only-of-type {\n",
              "        vertical-align: middle;\n",
              "    }\n",
              "\n",
              "    .dataframe tbody tr th {\n",
              "        vertical-align: top;\n",
              "    }\n",
              "\n",
              "    .dataframe thead th {\n",
              "        text-align: right;\n",
              "    }\n",
              "</style>\n",
              "<table border=\"1\" class=\"dataframe\">\n",
              "  <thead>\n",
              "    <tr style=\"text-align: right;\">\n",
              "      <th></th>\n",
              "      <th>mov_title</th>\n",
              "      <th>act_fname</th>\n",
              "      <th>act_lname</th>\n",
              "      <th>mov_year</th>\n",
              "      <th>role</th>\n",
              "      <th>mov_dt_rel</th>\n",
              "      <th>num_of_ratings</th>\n",
              "    </tr>\n",
              "  </thead>\n",
              "  <tbody>\n",
              "    <tr>\n",
              "      <th>0</th>\n",
              "      <td>TheInnocents</td>\n",
              "      <td>Deborah</td>\n",
              "      <td>Kerr</td>\n",
              "      <td>1961</td>\n",
              "      <td>MissGiddens</td>\n",
              "      <td>1962-02-19</td>\n",
              "      <td>20207.0</td>\n",
              "    </tr>\n",
              "    <tr>\n",
              "      <th>1</th>\n",
              "      <td>PrincessMononoke</td>\n",
              "      <td>Claire</td>\n",
              "      <td>Danes</td>\n",
              "      <td>1997</td>\n",
              "      <td>San</td>\n",
              "      <td>2001-10-19</td>\n",
              "      <td>NaN</td>\n",
              "    </tr>\n",
              "    <tr>\n",
              "      <th>2</th>\n",
              "      <td>Aliens</td>\n",
              "      <td>Sigourney</td>\n",
              "      <td>Weaver</td>\n",
              "      <td>1986</td>\n",
              "      <td>Ripley</td>\n",
              "      <td>1986-08-29</td>\n",
              "      <td>511613.0</td>\n",
              "    </tr>\n",
              "  </tbody>\n",
              "</table>\n",
              "</div>"
            ],
            "text/plain": [
              "          mov_title  act_fname act_lname  mov_year         role  mov_dt_rel  num_of_ratings\n",
              "0      TheInnocents    Deborah      Kerr      1961  MissGiddens  1962-02-19         20207.0\n",
              "1  PrincessMononoke     Claire     Danes      1997          San  2001-10-19             NaN\n",
              "2            Aliens  Sigourney    Weaver      1986       Ripley  1986-08-29        511613.0"
            ]
          },
          "metadata": {
            "tags": []
          },
          "execution_count": 105
        }
      ]
    },
    {
      "cell_type": "code",
      "metadata": {
        "id": "sEBAJw-7fmdx",
        "colab_type": "code",
        "colab": {}
      },
      "source": [
        ""
      ],
      "execution_count": 0,
      "outputs": []
    }
  ]
}