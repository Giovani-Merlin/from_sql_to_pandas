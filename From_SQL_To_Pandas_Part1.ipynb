{
  "nbformat": 4,
  "nbformat_minor": 0,
  "metadata": {
    "colab": {
      "name": "From_SQL_To_Pandas_Part1.ipynb",
      "provenance": [],
      "collapsed_sections": []
    },
    "kernelspec": {
      "name": "python3",
      "display_name": "Python 3"
    }
  },
  "cells": [
    {
      "cell_type": "markdown",
      "metadata": {
        "id": "pml1fkZ9DZUb",
        "colab_type": "text"
      },
      "source": [
        "### Download the Data\n",
        "http://files.grouplens.org/datasets/movielens/ml-latest-small.zip"
      ]
    },
    {
      "cell_type": "code",
      "metadata": {
        "id": "xAvK-MNqm4FT",
        "colab_type": "code",
        "outputId": "eecc4d05-bdba-4d04-9829-1f373162fe4c",
        "colab": {
          "base_uri": "https://localhost:8080/",
          "height": 170
        }
      },
      "source": [
        "!pip install wget"
      ],
      "execution_count": 1,
      "outputs": [
        {
          "output_type": "stream",
          "text": [
            "Collecting wget\n",
            "  Downloading https://files.pythonhosted.org/packages/47/6a/62e288da7bcda82b935ff0c6cfe542970f04e29c756b0e147251b2fb251f/wget-3.2.zip\n",
            "Building wheels for collected packages: wget\n",
            "  Building wheel for wget (setup.py) ... \u001b[?25l\u001b[?25hdone\n",
            "  Created wheel for wget: filename=wget-3.2-cp36-none-any.whl size=9681 sha256=ba8f8e41c6ae0b614cb01e70e1fbc1015814ba09d3291947234d49d15c2e746c\n",
            "  Stored in directory: /root/.cache/pip/wheels/40/15/30/7d8f7cea2902b4db79e3fea550d7d7b85ecb27ef992b618f3f\n",
            "Successfully built wget\n",
            "Installing collected packages: wget\n",
            "Successfully installed wget-3.2\n"
          ],
          "name": "stdout"
        }
      ]
    },
    {
      "cell_type": "code",
      "metadata": {
        "id": "ec7UyyUXnPPN",
        "colab_type": "code",
        "outputId": "c54da38b-cf29-4a63-afae-75507c203c7d",
        "colab": {
          "base_uri": "https://localhost:8080/",
          "height": 34
        }
      },
      "source": [
        "import wget\n",
        "fn = wget.download('http://files.grouplens.org/datasets/movielens/ml-latest-small.zip')\n",
        "fn"
      ],
      "execution_count": 2,
      "outputs": [
        {
          "output_type": "execute_result",
          "data": {
            "text/plain": [
              "'ml-latest-small.zip'"
            ]
          },
          "metadata": {
            "tags": []
          },
          "execution_count": 2
        }
      ]
    },
    {
      "cell_type": "code",
      "metadata": {
        "id": "tZ7ubpYqnbaK",
        "colab_type": "code",
        "outputId": "fed995a7-2929-4f02-b0bc-22a7ccbb0bf0",
        "colab": {
          "base_uri": "https://localhost:8080/",
          "height": 136
        }
      },
      "source": [
        "!unzip ml-latest*"
      ],
      "execution_count": 3,
      "outputs": [
        {
          "output_type": "stream",
          "text": [
            "Archive:  ml-latest-small.zip\n",
            "   creating: ml-latest-small/\n",
            "  inflating: ml-latest-small/links.csv  \n",
            "  inflating: ml-latest-small/tags.csv  \n",
            "  inflating: ml-latest-small/ratings.csv  \n",
            "  inflating: ml-latest-small/README.txt  \n",
            "  inflating: ml-latest-small/movies.csv  \n"
          ],
          "name": "stdout"
        }
      ]
    },
    {
      "cell_type": "markdown",
      "metadata": {
        "id": "7aE-7l6SDrpp",
        "colab_type": "text"
      },
      "source": [
        "### Basic Info About Data"
      ]
    },
    {
      "cell_type": "code",
      "metadata": {
        "id": "2QTto2Icnvzw",
        "colab_type": "code",
        "colab": {}
      },
      "source": [
        "PATH = 'ml-latest-small'"
      ],
      "execution_count": 0,
      "outputs": []
    },
    {
      "cell_type": "code",
      "metadata": {
        "id": "a0teWceFyOix",
        "colab_type": "code",
        "outputId": "21a57893-1783-46e2-a0f3-36fa8832f5c4",
        "colab": {
          "base_uri": "https://localhost:8080/",
          "height": 102
        }
      },
      "source": [
        "!find $PATH -name '*.csv' | xargs wc -l | sort -nr"
      ],
      "execution_count": 5,
      "outputs": [
        {
          "output_type": "stream",
          "text": [
            " 124007 total\n",
            " 100837 ml-latest-small/ratings.csv\n",
            "   9743 ml-latest-small/movies.csv\n",
            "   9743 ml-latest-small/links.csv\n",
            "   3684 ml-latest-small/tags.csv\n"
          ],
          "name": "stdout"
        }
      ]
    },
    {
      "cell_type": "code",
      "metadata": {
        "id": "XFRXqUcq2ua_",
        "colab_type": "code",
        "outputId": "1bb3155f-b8b8-4b73-d89b-5fe50a944eaa",
        "colab": {
          "base_uri": "https://localhost:8080/",
          "height": 204
        }
      },
      "source": [
        "# find which seperator is used to seperate the columns of each csv file\n",
        "!head -1 $PATH/*.csv\n"
      ],
      "execution_count": 6,
      "outputs": [
        {
          "output_type": "stream",
          "text": [
            "==> ml-latest-small/links.csv <==\n",
            "movieId,imdbId,tmdbId\r\n",
            "\n",
            "==> ml-latest-small/movies.csv <==\n",
            "movieId,title,genres\r\n",
            "\n",
            "==> ml-latest-small/ratings.csv <==\n",
            "userId,movieId,rating,timestamp\r\n",
            "\n",
            "==> ml-latest-small/tags.csv <==\n",
            "userId,movieId,tag,timestamp\r\n"
          ],
          "name": "stdout"
        }
      ]
    },
    {
      "cell_type": "markdown",
      "metadata": {
        "id": "u3lC7fwxDOZm",
        "colab_type": "text"
      },
      "source": [
        "> * We can see that all files are comma-seperated."
      ]
    },
    {
      "cell_type": "markdown",
      "metadata": {
        "id": "GTwXvuIoDzk4",
        "colab_type": "text"
      },
      "source": [
        "### Read the Dataset"
      ]
    },
    {
      "cell_type": "code",
      "metadata": {
        "id": "XVpz-pxyDVsH",
        "colab_type": "code",
        "colab": {}
      },
      "source": [
        "import pandas as pd\n",
        "import numpy as np\n",
        "import re\n",
        "import os\n",
        "\n",
        "from collections import defaultdict"
      ],
      "execution_count": 0,
      "outputs": []
    },
    {
      "cell_type": "code",
      "metadata": {
        "id": "3rKUOSSsSj1Y",
        "colab_type": "code",
        "colab": {}
      },
      "source": [
        "pd.set_option('display.width', 1000)\n",
        "pd.set_option('display.max_columns', 1000)\n",
        "pd.set_option('display.max_rows', 1000)\n",
        "pd.set_option('display.max_colwidth', 1000)"
      ],
      "execution_count": 0,
      "outputs": []
    },
    {
      "cell_type": "code",
      "metadata": {
        "id": "kX8JKrlBEA0v",
        "colab_type": "code",
        "colab": {}
      },
      "source": [
        "db = defaultdict(pd.DataFrame)\n",
        "\n",
        "for filename in os.listdir(PATH):\n",
        "    if filename.endswith('.csv'):\n",
        "        db[filename.split('.')[0]] = pd.read_csv(f\"{PATH}/{filename}\")\n",
        "        "
      ],
      "execution_count": 0,
      "outputs": []
    },
    {
      "cell_type": "code",
      "metadata": {
        "id": "TEvlY71HEN3W",
        "colab_type": "code",
        "outputId": "f622e2a9-ad41-4f11-a07a-b8db0160ed23",
        "colab": {
          "base_uri": "https://localhost:8080/",
          "height": 292
        }
      },
      "source": [
        "pd.DataFrame(db.items(), columns=['table_name', 'table_data'])"
      ],
      "execution_count": 10,
      "outputs": [
        {
          "output_type": "execute_result",
          "data": {
            "text/html": [
              "<div>\n",
              "<style scoped>\n",
              "    .dataframe tbody tr th:only-of-type {\n",
              "        vertical-align: middle;\n",
              "    }\n",
              "\n",
              "    .dataframe tbody tr th {\n",
              "        vertical-align: top;\n",
              "    }\n",
              "\n",
              "    .dataframe thead th {\n",
              "        text-align: right;\n",
              "    }\n",
              "</style>\n",
              "<table border=\"1\" class=\"dataframe\">\n",
              "  <thead>\n",
              "    <tr style=\"text-align: right;\">\n",
              "      <th></th>\n",
              "      <th>table_name</th>\n",
              "      <th>table_data</th>\n",
              "    </tr>\n",
              "  </thead>\n",
              "  <tbody>\n",
              "    <tr>\n",
              "      <th>0</th>\n",
              "      <td>links</td>\n",
              "      <td>movieId   imdbId    tmdbId\n",
              "0           1   114709     862.0\n",
              "1           2   113497    8844.0\n",
              "2           3   113228   15602.0\n",
              "3           4   114885   31357.0\n",
              "4           5   113041   11862.0\n",
              "...       ...      ...       ...\n",
              "9737   193581  5476944  432131.0\n",
              "9738   193583  5914996  445030.0\n",
              "9739   193585  6397426  479308.0\n",
              "9740   193587  8391976  483455.0\n",
              "9741   193609   101726   37891.0\n",
              "\n",
              "[9742 rows x 3 columns]</td>\n",
              "    </tr>\n",
              "    <tr>\n",
              "      <th>1</th>\n",
              "      <td>ratings</td>\n",
              "      <td>userId  movieId  rating   timestamp\n",
              "0            1        1     4.0   964982703\n",
              "1            1        3     4.0   964981247\n",
              "2            1        6     4.0   964982224\n",
              "3            1       47     5.0   964983815\n",
              "4            1       50     5.0   964982931\n",
              "...        ...      ...     ...         ...\n",
              "100831     610   166534     4.0  1493848402\n",
              "100832     610   168248     5.0  1493850091\n",
              "100833     610   168250     5.0  1494273047\n",
              "100834     610   168252     5.0  1493846352\n",
              "100835     610   170875     3.0  1493846415\n",
              "\n",
              "[100836 rows x 4 columns]</td>\n",
              "    </tr>\n",
              "    <tr>\n",
              "      <th>2</th>\n",
              "      <td>tags</td>\n",
              "      <td>userId  movieId               tag   timestamp\n",
              "0          2    60756             funny  1445714994\n",
              "1          2    60756   Highly quotable  1445714996\n",
              "2          2    60756      will ferrell  1445714992\n",
              "3          2    89774      Boxing story  1445715207\n",
              "4          2    89774               MMA  1445715200\n",
              "...      ...      ...               ...         ...\n",
              "3678     606     7382         for katie  1171234019\n",
              "3679     606     7936           austere  1173392334\n",
              "3680     610     3265            gun fu  1493843984\n",
              "3681     610     3265  heroic bloodshed  1493843978\n",
              "3682     610   168248  Heroic Bloodshed  1493844270\n",
              "\n",
              "[3683 rows x 4 columns]</td>\n",
              "    </tr>\n",
              "    <tr>\n",
              "      <th>3</th>\n",
              "      <td>movies</td>\n",
              "      <td>movieId                                      title                                       genres\n",
              "0           1                           Toy Story (1995)  Adventure|Animation|Children|Comedy|Fantasy\n",
              "1           2                             Jumanji (1995)                   Adventure|Children|Fantasy\n",
              "2           3                    Grumpier Old Men (1995)                               Comedy|Romance\n",
              "3           4                   Waiting to Exhale (1995)                         Comedy|Drama|Romance\n",
              "4           5         Father of the Bride Part II (1995)                                       Comedy\n",
              "...       ...                                        ...                                          ...\n",
              "9737   193581  Black Butler: Book of the Atlantic (2017)              Action|Animation|Comedy|Fantasy\n",
              "9738   193583               No Game No Life: Zero (2017)                     Animation|Comedy|Fantasy\n",
              "9739   193585                               Flint (2017)                      ...</td>\n",
              "    </tr>\n",
              "  </tbody>\n",
              "</table>\n",
              "</div>"
            ],
            "text/plain": [
              "  table_name  \\\n",
              "0      links   \n",
              "1    ratings   \n",
              "2       tags   \n",
              "3     movies   \n",
              "\n",
              "                                                                                                                                                                                                                                                                                                                                                                                                                                                                                                                                                                                                                                                                                                                                                                                                                                                                                                                                                                                                                                table_data  \n",
              "0                                                                                                                                                                                                                                                                                                                                                                                                                                                                                                                                                                                                           movieId   imdbId    tmdbId\n",
              "0           1   114709     862.0\n",
              "1           2   113497    8844.0\n",
              "2           3   113228   15602.0\n",
              "3           4   114885   31357.0\n",
              "4           5   113041   11862.0\n",
              "...       ...      ...       ...\n",
              "9737   193581  5476944  432131.0\n",
              "9738   193583  5914996  445030.0\n",
              "9739   193585  6397426  479308.0\n",
              "9740   193587  8391976  483455.0\n",
              "9741   193609   101726   37891.0\n",
              "\n",
              "[9742 rows x 3 columns]  \n",
              "1                                                                                                                                                                                                                                                                                                                                                                                                                                                                       userId  movieId  rating   timestamp\n",
              "0            1        1     4.0   964982703\n",
              "1            1        3     4.0   964981247\n",
              "2            1        6     4.0   964982224\n",
              "3            1       47     5.0   964983815\n",
              "4            1       50     5.0   964982931\n",
              "...        ...      ...     ...         ...\n",
              "100831     610   166534     4.0  1493848402\n",
              "100832     610   168248     5.0  1493850091\n",
              "100833     610   168250     5.0  1494273047\n",
              "100834     610   168252     5.0  1493846352\n",
              "100835     610   170875     3.0  1493846415\n",
              "\n",
              "[100836 rows x 4 columns]  \n",
              "2                                                                                                                                                                                                                                                                                                                                                                       userId  movieId               tag   timestamp\n",
              "0          2    60756             funny  1445714994\n",
              "1          2    60756   Highly quotable  1445714996\n",
              "2          2    60756      will ferrell  1445714992\n",
              "3          2    89774      Boxing story  1445715207\n",
              "4          2    89774               MMA  1445715200\n",
              "...      ...      ...               ...         ...\n",
              "3678     606     7382         for katie  1171234019\n",
              "3679     606     7936           austere  1173392334\n",
              "3680     610     3265            gun fu  1493843984\n",
              "3681     610     3265  heroic bloodshed  1493843978\n",
              "3682     610   168248  Heroic Bloodshed  1493844270\n",
              "\n",
              "[3683 rows x 4 columns]  \n",
              "3        movieId                                      title                                       genres\n",
              "0           1                           Toy Story (1995)  Adventure|Animation|Children|Comedy|Fantasy\n",
              "1           2                             Jumanji (1995)                   Adventure|Children|Fantasy\n",
              "2           3                    Grumpier Old Men (1995)                               Comedy|Romance\n",
              "3           4                   Waiting to Exhale (1995)                         Comedy|Drama|Romance\n",
              "4           5         Father of the Bride Part II (1995)                                       Comedy\n",
              "...       ...                                        ...                                          ...\n",
              "9737   193581  Black Butler: Book of the Atlantic (2017)              Action|Animation|Comedy|Fantasy\n",
              "9738   193583               No Game No Life: Zero (2017)                     Animation|Comedy|Fantasy\n",
              "9739   193585                               Flint (2017)                      ...  "
            ]
          },
          "metadata": {
            "tags": []
          },
          "execution_count": 10
        }
      ]
    },
    {
      "cell_type": "markdown",
      "metadata": {
        "id": "Jw_tdHIz4ud9",
        "colab_type": "text"
      },
      "source": [
        "### Connect To Database Engine - \n",
        "> * We use sqlite database engine to perform sql query\n",
        "> * There are many packages to connect to sqlite engine such as - sqlite3, sqlalchemy etc.\n",
        "> * We use sqlalchemy to connect to database engine. It works with many Relational Database Management Systems.\n",
        "> * We will use pandas DataFrame class to represent the result of a sql query into a table form."
      ]
    },
    {
      "cell_type": "code",
      "metadata": {
        "id": "zzPpkG_KFOyL",
        "colab_type": "code",
        "colab": {}
      },
      "source": [
        "from sqlalchemy import create_engine"
      ],
      "execution_count": 0,
      "outputs": []
    },
    {
      "cell_type": "code",
      "metadata": {
        "id": "X-09xPxN5yCe",
        "colab_type": "code",
        "colab": {}
      },
      "source": [
        "engine = create_engine(\"sqlite:///movie_review.sqlite\")"
      ],
      "execution_count": 0,
      "outputs": []
    },
    {
      "cell_type": "code",
      "metadata": {
        "id": "3JW2h0Ij6DeL",
        "colab_type": "code",
        "outputId": "8590bc28-2c47-4f40-d702-90faa534d14b",
        "colab": {
          "base_uri": "https://localhost:8080/",
          "height": 63
        }
      },
      "source": [
        "# print the names of table in the database movie_review.sqlite\n",
        "table_names = engine.table_names()\n",
        "pd.DataFrame([table_names])"
      ],
      "execution_count": 13,
      "outputs": [
        {
          "output_type": "execute_result",
          "data": {
            "text/html": [
              "<div>\n",
              "<style scoped>\n",
              "    .dataframe tbody tr th:only-of-type {\n",
              "        vertical-align: middle;\n",
              "    }\n",
              "\n",
              "    .dataframe tbody tr th {\n",
              "        vertical-align: top;\n",
              "    }\n",
              "\n",
              "    .dataframe thead th {\n",
              "        text-align: right;\n",
              "    }\n",
              "</style>\n",
              "<table border=\"1\" class=\"dataframe\">\n",
              "  <thead>\n",
              "    <tr style=\"text-align: right;\">\n",
              "      <th></th>\n",
              "    </tr>\n",
              "  </thead>\n",
              "  <tbody>\n",
              "    <tr>\n",
              "      <th>0</th>\n",
              "    </tr>\n",
              "  </tbody>\n",
              "</table>\n",
              "</div>"
            ],
            "text/plain": [
              "Empty DataFrame\n",
              "Columns: []\n",
              "Index: [0]"
            ]
          },
          "metadata": {
            "tags": []
          },
          "execution_count": 13
        }
      ]
    },
    {
      "cell_type": "markdown",
      "metadata": {
        "id": "ONIaZFQP6zAX",
        "colab_type": "text"
      },
      "source": [
        "> * Since there is no table in movie_review.sqlite database, we will create some tables and insert data of movie review into them.\n",
        "\n",
        "> * https://sqlite.org/cli.html"
      ]
    },
    {
      "cell_type": "code",
      "metadata": {
        "id": "mmSo4e4c6ZV5",
        "colab_type": "code",
        "colab": {}
      },
      "source": [
        "# connect to database\n",
        "con = engine.connect()\n",
        "\n",
        "# create table one by one \n",
        "for table_name, table_data in db.items():    \n",
        "    table_data.to_sql(table_name, con=engine, index=False,\n",
        "                      if_exists='replace')        "
      ],
      "execution_count": 0,
      "outputs": []
    },
    {
      "cell_type": "code",
      "metadata": {
        "id": "AVaMKsWq-ZxU",
        "colab_type": "code",
        "outputId": "9e4fec26-c3f7-411b-af55-8b1bbb669bb9",
        "colab": {
          "base_uri": "https://localhost:8080/",
          "height": 80
        }
      },
      "source": [
        "# print the names of table in the database movie_review.sqlite\n",
        "table_names = engine.table_names()\n",
        "pd.DataFrame([table_names])"
      ],
      "execution_count": 15,
      "outputs": [
        {
          "output_type": "execute_result",
          "data": {
            "text/html": [
              "<div>\n",
              "<style scoped>\n",
              "    .dataframe tbody tr th:only-of-type {\n",
              "        vertical-align: middle;\n",
              "    }\n",
              "\n",
              "    .dataframe tbody tr th {\n",
              "        vertical-align: top;\n",
              "    }\n",
              "\n",
              "    .dataframe thead th {\n",
              "        text-align: right;\n",
              "    }\n",
              "</style>\n",
              "<table border=\"1\" class=\"dataframe\">\n",
              "  <thead>\n",
              "    <tr style=\"text-align: right;\">\n",
              "      <th></th>\n",
              "      <th>0</th>\n",
              "      <th>1</th>\n",
              "      <th>2</th>\n",
              "      <th>3</th>\n",
              "    </tr>\n",
              "  </thead>\n",
              "  <tbody>\n",
              "    <tr>\n",
              "      <th>0</th>\n",
              "      <td>links</td>\n",
              "      <td>movies</td>\n",
              "      <td>ratings</td>\n",
              "      <td>tags</td>\n",
              "    </tr>\n",
              "  </tbody>\n",
              "</table>\n",
              "</div>"
            ],
            "text/plain": [
              "       0       1        2     3\n",
              "0  links  movies  ratings  tags"
            ]
          },
          "metadata": {
            "tags": []
          },
          "execution_count": 15
        }
      ]
    },
    {
      "cell_type": "markdown",
      "metadata": {
        "id": "Vped6m24FWF9",
        "colab_type": "text"
      },
      "source": [
        "### Query 1: Display Top/Last 5 rows of a table"
      ]
    },
    {
      "cell_type": "markdown",
      "metadata": {
        "id": "p03H6wdUFcTE",
        "colab_type": "text"
      },
      "source": [
        "> * **SQL** "
      ]
    },
    {
      "cell_type": "code",
      "metadata": {
        "id": "oJpFIKZur6gq",
        "colab_type": "code",
        "colab": {}
      },
      "source": [
        "table_name = 'links'"
      ],
      "execution_count": 0,
      "outputs": []
    },
    {
      "cell_type": "code",
      "metadata": {
        "id": "4YQRJeZt8ow2",
        "colab_type": "code",
        "outputId": "63c6f907-b503-439a-d3e3-614d242d4c75",
        "colab": {
          "base_uri": "https://localhost:8080/",
          "height": 204
        }
      },
      "source": [
        "# Top 5 rows\n",
        "rs = con.execute(f'''SELECT * \n",
        "                     FROM {table_name}\n",
        "                     LIMIT 5''')\n",
        "pd.DataFrame(rs.fetchall(), columns=db[table_name].columns)"
      ],
      "execution_count": 17,
      "outputs": [
        {
          "output_type": "execute_result",
          "data": {
            "text/html": [
              "<div>\n",
              "<style scoped>\n",
              "    .dataframe tbody tr th:only-of-type {\n",
              "        vertical-align: middle;\n",
              "    }\n",
              "\n",
              "    .dataframe tbody tr th {\n",
              "        vertical-align: top;\n",
              "    }\n",
              "\n",
              "    .dataframe thead th {\n",
              "        text-align: right;\n",
              "    }\n",
              "</style>\n",
              "<table border=\"1\" class=\"dataframe\">\n",
              "  <thead>\n",
              "    <tr style=\"text-align: right;\">\n",
              "      <th></th>\n",
              "      <th>movieId</th>\n",
              "      <th>imdbId</th>\n",
              "      <th>tmdbId</th>\n",
              "    </tr>\n",
              "  </thead>\n",
              "  <tbody>\n",
              "    <tr>\n",
              "      <th>0</th>\n",
              "      <td>1</td>\n",
              "      <td>114709</td>\n",
              "      <td>862.0</td>\n",
              "    </tr>\n",
              "    <tr>\n",
              "      <th>1</th>\n",
              "      <td>2</td>\n",
              "      <td>113497</td>\n",
              "      <td>8844.0</td>\n",
              "    </tr>\n",
              "    <tr>\n",
              "      <th>2</th>\n",
              "      <td>3</td>\n",
              "      <td>113228</td>\n",
              "      <td>15602.0</td>\n",
              "    </tr>\n",
              "    <tr>\n",
              "      <th>3</th>\n",
              "      <td>4</td>\n",
              "      <td>114885</td>\n",
              "      <td>31357.0</td>\n",
              "    </tr>\n",
              "    <tr>\n",
              "      <th>4</th>\n",
              "      <td>5</td>\n",
              "      <td>113041</td>\n",
              "      <td>11862.0</td>\n",
              "    </tr>\n",
              "  </tbody>\n",
              "</table>\n",
              "</div>"
            ],
            "text/plain": [
              "   movieId  imdbId   tmdbId\n",
              "0        1  114709    862.0\n",
              "1        2  113497   8844.0\n",
              "2        3  113228  15602.0\n",
              "3        4  114885  31357.0\n",
              "4        5  113041  11862.0"
            ]
          },
          "metadata": {
            "tags": []
          },
          "execution_count": 17
        }
      ]
    },
    {
      "cell_type": "code",
      "metadata": {
        "id": "dI_N9703JjHf",
        "colab_type": "code",
        "outputId": "33ae62d5-a665-4bac-c4b5-20d9c410b31c",
        "colab": {
          "base_uri": "https://localhost:8080/",
          "height": 204
        }
      },
      "source": [
        "# Last 5 rows\n",
        "rs = con.execute(f'''SELECT * \n",
        "                     FROM (SELECT *\n",
        "                           FROM {table_name}\n",
        "                           ORDER BY movieId DESC\n",
        "                           LIMIT 5)\n",
        "                     ORDER BY movieId ASC''')\n",
        "pd.DataFrame(rs.fetchall(), columns=db[table_name].columns)"
      ],
      "execution_count": 18,
      "outputs": [
        {
          "output_type": "execute_result",
          "data": {
            "text/html": [
              "<div>\n",
              "<style scoped>\n",
              "    .dataframe tbody tr th:only-of-type {\n",
              "        vertical-align: middle;\n",
              "    }\n",
              "\n",
              "    .dataframe tbody tr th {\n",
              "        vertical-align: top;\n",
              "    }\n",
              "\n",
              "    .dataframe thead th {\n",
              "        text-align: right;\n",
              "    }\n",
              "</style>\n",
              "<table border=\"1\" class=\"dataframe\">\n",
              "  <thead>\n",
              "    <tr style=\"text-align: right;\">\n",
              "      <th></th>\n",
              "      <th>movieId</th>\n",
              "      <th>imdbId</th>\n",
              "      <th>tmdbId</th>\n",
              "    </tr>\n",
              "  </thead>\n",
              "  <tbody>\n",
              "    <tr>\n",
              "      <th>0</th>\n",
              "      <td>193581</td>\n",
              "      <td>5476944</td>\n",
              "      <td>432131.0</td>\n",
              "    </tr>\n",
              "    <tr>\n",
              "      <th>1</th>\n",
              "      <td>193583</td>\n",
              "      <td>5914996</td>\n",
              "      <td>445030.0</td>\n",
              "    </tr>\n",
              "    <tr>\n",
              "      <th>2</th>\n",
              "      <td>193585</td>\n",
              "      <td>6397426</td>\n",
              "      <td>479308.0</td>\n",
              "    </tr>\n",
              "    <tr>\n",
              "      <th>3</th>\n",
              "      <td>193587</td>\n",
              "      <td>8391976</td>\n",
              "      <td>483455.0</td>\n",
              "    </tr>\n",
              "    <tr>\n",
              "      <th>4</th>\n",
              "      <td>193609</td>\n",
              "      <td>101726</td>\n",
              "      <td>37891.0</td>\n",
              "    </tr>\n",
              "  </tbody>\n",
              "</table>\n",
              "</div>"
            ],
            "text/plain": [
              "   movieId   imdbId    tmdbId\n",
              "0   193581  5476944  432131.0\n",
              "1   193583  5914996  445030.0\n",
              "2   193585  6397426  479308.0\n",
              "3   193587  8391976  483455.0\n",
              "4   193609   101726   37891.0"
            ]
          },
          "metadata": {
            "tags": []
          },
          "execution_count": 18
        }
      ]
    },
    {
      "cell_type": "markdown",
      "metadata": {
        "colab_type": "text",
        "id": "P0xrWIinI0tJ"
      },
      "source": [
        "> * **Pandas** "
      ]
    },
    {
      "cell_type": "code",
      "metadata": {
        "colab_type": "code",
        "outputId": "1aec5788-e8fe-4117-a92f-562ac30e6f39",
        "id": "Go2FyE81JeHT",
        "colab": {
          "base_uri": "https://localhost:8080/",
          "height": 204
        }
      },
      "source": [
        "# Top 5 rows\n",
        "db[table_name].head(5)"
      ],
      "execution_count": 19,
      "outputs": [
        {
          "output_type": "execute_result",
          "data": {
            "text/html": [
              "<div>\n",
              "<style scoped>\n",
              "    .dataframe tbody tr th:only-of-type {\n",
              "        vertical-align: middle;\n",
              "    }\n",
              "\n",
              "    .dataframe tbody tr th {\n",
              "        vertical-align: top;\n",
              "    }\n",
              "\n",
              "    .dataframe thead th {\n",
              "        text-align: right;\n",
              "    }\n",
              "</style>\n",
              "<table border=\"1\" class=\"dataframe\">\n",
              "  <thead>\n",
              "    <tr style=\"text-align: right;\">\n",
              "      <th></th>\n",
              "      <th>movieId</th>\n",
              "      <th>imdbId</th>\n",
              "      <th>tmdbId</th>\n",
              "    </tr>\n",
              "  </thead>\n",
              "  <tbody>\n",
              "    <tr>\n",
              "      <th>0</th>\n",
              "      <td>1</td>\n",
              "      <td>114709</td>\n",
              "      <td>862.0</td>\n",
              "    </tr>\n",
              "    <tr>\n",
              "      <th>1</th>\n",
              "      <td>2</td>\n",
              "      <td>113497</td>\n",
              "      <td>8844.0</td>\n",
              "    </tr>\n",
              "    <tr>\n",
              "      <th>2</th>\n",
              "      <td>3</td>\n",
              "      <td>113228</td>\n",
              "      <td>15602.0</td>\n",
              "    </tr>\n",
              "    <tr>\n",
              "      <th>3</th>\n",
              "      <td>4</td>\n",
              "      <td>114885</td>\n",
              "      <td>31357.0</td>\n",
              "    </tr>\n",
              "    <tr>\n",
              "      <th>4</th>\n",
              "      <td>5</td>\n",
              "      <td>113041</td>\n",
              "      <td>11862.0</td>\n",
              "    </tr>\n",
              "  </tbody>\n",
              "</table>\n",
              "</div>"
            ],
            "text/plain": [
              "   movieId  imdbId   tmdbId\n",
              "0        1  114709    862.0\n",
              "1        2  113497   8844.0\n",
              "2        3  113228  15602.0\n",
              "3        4  114885  31357.0\n",
              "4        5  113041  11862.0"
            ]
          },
          "metadata": {
            "tags": []
          },
          "execution_count": 19
        }
      ]
    },
    {
      "cell_type": "code",
      "metadata": {
        "id": "wz0_CXljFpup",
        "colab_type": "code",
        "outputId": "787ad174-7abc-4a12-fcd7-24d98b75c0b4",
        "colab": {
          "base_uri": "https://localhost:8080/",
          "height": 204
        }
      },
      "source": [
        "# Last 5 rows\n",
        "db[table_name].tail(5)"
      ],
      "execution_count": 20,
      "outputs": [
        {
          "output_type": "execute_result",
          "data": {
            "text/html": [
              "<div>\n",
              "<style scoped>\n",
              "    .dataframe tbody tr th:only-of-type {\n",
              "        vertical-align: middle;\n",
              "    }\n",
              "\n",
              "    .dataframe tbody tr th {\n",
              "        vertical-align: top;\n",
              "    }\n",
              "\n",
              "    .dataframe thead th {\n",
              "        text-align: right;\n",
              "    }\n",
              "</style>\n",
              "<table border=\"1\" class=\"dataframe\">\n",
              "  <thead>\n",
              "    <tr style=\"text-align: right;\">\n",
              "      <th></th>\n",
              "      <th>movieId</th>\n",
              "      <th>imdbId</th>\n",
              "      <th>tmdbId</th>\n",
              "    </tr>\n",
              "  </thead>\n",
              "  <tbody>\n",
              "    <tr>\n",
              "      <th>9737</th>\n",
              "      <td>193581</td>\n",
              "      <td>5476944</td>\n",
              "      <td>432131.0</td>\n",
              "    </tr>\n",
              "    <tr>\n",
              "      <th>9738</th>\n",
              "      <td>193583</td>\n",
              "      <td>5914996</td>\n",
              "      <td>445030.0</td>\n",
              "    </tr>\n",
              "    <tr>\n",
              "      <th>9739</th>\n",
              "      <td>193585</td>\n",
              "      <td>6397426</td>\n",
              "      <td>479308.0</td>\n",
              "    </tr>\n",
              "    <tr>\n",
              "      <th>9740</th>\n",
              "      <td>193587</td>\n",
              "      <td>8391976</td>\n",
              "      <td>483455.0</td>\n",
              "    </tr>\n",
              "    <tr>\n",
              "      <th>9741</th>\n",
              "      <td>193609</td>\n",
              "      <td>101726</td>\n",
              "      <td>37891.0</td>\n",
              "    </tr>\n",
              "  </tbody>\n",
              "</table>\n",
              "</div>"
            ],
            "text/plain": [
              "      movieId   imdbId    tmdbId\n",
              "9737   193581  5476944  432131.0\n",
              "9738   193583  5914996  445030.0\n",
              "9739   193585  6397426  479308.0\n",
              "9740   193587  8391976  483455.0\n",
              "9741   193609   101726   37891.0"
            ]
          },
          "metadata": {
            "tags": []
          },
          "execution_count": 20
        }
      ]
    },
    {
      "cell_type": "markdown",
      "metadata": {
        "colab_type": "text",
        "id": "MdlbM9orJeHK"
      },
      "source": [
        "### Query 2: Display Count of rows in a table"
      ]
    },
    {
      "cell_type": "markdown",
      "metadata": {
        "colab_type": "text",
        "id": "pgfJDHcALM1y"
      },
      "source": [
        "> * **SQL** "
      ]
    },
    {
      "cell_type": "code",
      "metadata": {
        "id": "eHFRHBf9MBVy",
        "colab_type": "code",
        "colab": {}
      },
      "source": [
        "table_name = 'ratings'"
      ],
      "execution_count": 0,
      "outputs": []
    },
    {
      "cell_type": "code",
      "metadata": {
        "id": "pAgZgRIZLWZ3",
        "colab_type": "code",
        "outputId": "1918b72b-b2c9-4969-a683-336d9dde0c6a",
        "colab": {
          "base_uri": "https://localhost:8080/",
          "height": 80
        }
      },
      "source": [
        "# all rows count\n",
        "rs = con.execute(f'''SELECT COUNT(*) \n",
        "                    FROM {table_name}''')\n",
        "pd.DataFrame(rs.fetchall(), columns=['count'])"
      ],
      "execution_count": 22,
      "outputs": [
        {
          "output_type": "execute_result",
          "data": {
            "text/html": [
              "<div>\n",
              "<style scoped>\n",
              "    .dataframe tbody tr th:only-of-type {\n",
              "        vertical-align: middle;\n",
              "    }\n",
              "\n",
              "    .dataframe tbody tr th {\n",
              "        vertical-align: top;\n",
              "    }\n",
              "\n",
              "    .dataframe thead th {\n",
              "        text-align: right;\n",
              "    }\n",
              "</style>\n",
              "<table border=\"1\" class=\"dataframe\">\n",
              "  <thead>\n",
              "    <tr style=\"text-align: right;\">\n",
              "      <th></th>\n",
              "      <th>count</th>\n",
              "    </tr>\n",
              "  </thead>\n",
              "  <tbody>\n",
              "    <tr>\n",
              "      <th>0</th>\n",
              "      <td>100836</td>\n",
              "    </tr>\n",
              "  </tbody>\n",
              "</table>\n",
              "</div>"
            ],
            "text/plain": [
              "    count\n",
              "0  100836"
            ]
          },
          "metadata": {
            "tags": []
          },
          "execution_count": 22
        }
      ]
    },
    {
      "cell_type": "code",
      "metadata": {
        "id": "uy7Xy8oeOFlg",
        "colab_type": "code",
        "outputId": "5da509b6-e954-4f8c-df36-3e9c952fe7f1",
        "colab": {
          "base_uri": "https://localhost:8080/",
          "height": 80
        }
      },
      "source": [
        "# Distinct/Unique rows count\n",
        "rs = con.execute(f'''SELECT DISTINCT COUNT(*) \n",
        "                     FROM {table_name}''')\n",
        "pd.DataFrame(rs.fetchall(), columns=['distinct_count'])"
      ],
      "execution_count": 23,
      "outputs": [
        {
          "output_type": "execute_result",
          "data": {
            "text/html": [
              "<div>\n",
              "<style scoped>\n",
              "    .dataframe tbody tr th:only-of-type {\n",
              "        vertical-align: middle;\n",
              "    }\n",
              "\n",
              "    .dataframe tbody tr th {\n",
              "        vertical-align: top;\n",
              "    }\n",
              "\n",
              "    .dataframe thead th {\n",
              "        text-align: right;\n",
              "    }\n",
              "</style>\n",
              "<table border=\"1\" class=\"dataframe\">\n",
              "  <thead>\n",
              "    <tr style=\"text-align: right;\">\n",
              "      <th></th>\n",
              "      <th>distinct_count</th>\n",
              "    </tr>\n",
              "  </thead>\n",
              "  <tbody>\n",
              "    <tr>\n",
              "      <th>0</th>\n",
              "      <td>100836</td>\n",
              "    </tr>\n",
              "  </tbody>\n",
              "</table>\n",
              "</div>"
            ],
            "text/plain": [
              "   distinct_count\n",
              "0          100836"
            ]
          },
          "metadata": {
            "tags": []
          },
          "execution_count": 23
        }
      ]
    },
    {
      "cell_type": "markdown",
      "metadata": {
        "colab_type": "text",
        "id": "d00Maa_JLM11"
      },
      "source": [
        "> * **Pandas** \n",
        "    >> * There are muliple ways to display the row count in a table using pandas dataframe.\n",
        "    >> 1. df.\\__len__\\()\n",
        "    >> 2. df.shape[0]\n",
        "    >> 3. len(df)\n",
        "    >> 4. df.count()"
      ]
    },
    {
      "cell_type": "code",
      "metadata": {
        "id": "XvWrgLX6JAsW",
        "colab_type": "code",
        "outputId": "e7070753-344e-4e54-bb9d-e37730abac35",
        "colab": {
          "base_uri": "https://localhost:8080/",
          "height": 34
        }
      },
      "source": [
        "# all rows count\n",
        "db[table_name].__len__()"
      ],
      "execution_count": 24,
      "outputs": [
        {
          "output_type": "execute_result",
          "data": {
            "text/plain": [
              "100836"
            ]
          },
          "metadata": {
            "tags": []
          },
          "execution_count": 24
        }
      ]
    },
    {
      "cell_type": "code",
      "metadata": {
        "id": "CUj1R9K6OeRj",
        "colab_type": "code",
        "outputId": "ae684e0a-f6ac-420f-9ca3-a5e554979235",
        "colab": {
          "base_uri": "https://localhost:8080/",
          "height": 34
        }
      },
      "source": [
        "# Distinct/Unique rows count\n",
        "db[table_name].drop_duplicates().__len__()"
      ],
      "execution_count": 25,
      "outputs": [
        {
          "output_type": "execute_result",
          "data": {
            "text/plain": [
              "100836"
            ]
          },
          "metadata": {
            "tags": []
          },
          "execution_count": 25
        }
      ]
    },
    {
      "cell_type": "markdown",
      "metadata": {
        "colab_type": "text",
        "id": "NygBsIvHO2dh"
      },
      "source": [
        "### Query 3: Display Count of Unique values in each column of a table\n",
        "\n",
        "https://stackoverflow.com/questions/9889635/regular-expression-to-return-all-characters-between-two-special-characters"
      ]
    },
    {
      "cell_type": "markdown",
      "metadata": {
        "colab_type": "text",
        "id": "1dHiQiN3O2dj"
      },
      "source": [
        "> * **SQL** \n",
        "> The sqlite_master table contains the following columns:\n",
        "\n",
        "        Column_Name | Description        \n",
        "        ----------- + -----------        \n",
        "        type        | The type of database object such as table, index, trigger or view.\n",
        "        name        | The name of the database object.\n",
        "        tbl_name    | The table name that the database object is associated with.                     \n",
        "        rootpage\t| The Root page.\n",
        "        sql         | SQL used to create the database object."
      ]
    },
    {
      "cell_type": "code",
      "metadata": {
        "colab_type": "code",
        "id": "eZhDmCNePp_q",
        "colab": {}
      },
      "source": [
        "table_name = 'ratings'"
      ],
      "execution_count": 0,
      "outputs": []
    },
    {
      "cell_type": "code",
      "metadata": {
        "id": "GsTITZDqgywg",
        "colab_type": "code",
        "colab": {}
      },
      "source": [
        "def find_column_names_and_types(create_query):    \n",
        "    create_query = re.sub('\\n', '', create_query)\n",
        "    create_query = re.sub('\\t', '', create_query)\n",
        "    match = re.match(r\"^.*\\((.*)\\).*$\", create_query)\n",
        "    result = match.group(1)\n",
        "\n",
        "    result = [r.strip('\"').strip(',') for r in result.split()]    \n",
        "    column_names = list(filter(lambda x: not x.isupper(), result))\n",
        "    column_types = list(filter(lambda x: x.isupper(), result))\n",
        "    return column_names, column_types"
      ],
      "execution_count": 0,
      "outputs": []
    },
    {
      "cell_type": "code",
      "metadata": {
        "id": "sOFyJWnTPXI2",
        "colab_type": "code",
        "colab": {}
      },
      "source": [
        "# Distinct/Unique rows count\n",
        "def nunique(table_name):\n",
        "    rs = con.execute(f\"\"\"SELECT sql AS create_query\n",
        "                         FROM sqlite_master\n",
        "                         WHERE tbl_name='{table_name}'\"\"\")\n",
        "    create_query = rs.fetchall()[0][0]\n",
        "    \n",
        "    column_names, _ = find_column_names_and_types(create_query)\n",
        "\n",
        "    result = []\n",
        "    for column_name in column_names:\n",
        "        rs = con.execute(f\"\"\"SELECT COUNT( DISTINCT {column_name})\n",
        "                             FROM {table_name}\n",
        "                             \"\"\")\n",
        "        result.append((column_name, rs.fetchall()[0][0]))\n",
        "    return result"
      ],
      "execution_count": 0,
      "outputs": []
    },
    {
      "cell_type": "code",
      "metadata": {
        "id": "Bib9XIBVPXLo",
        "colab_type": "code",
        "outputId": "b647851b-9dcf-4a3c-d3ef-8a9379c9a879",
        "colab": {
          "base_uri": "https://localhost:8080/",
          "height": 173
        }
      },
      "source": [
        "result = nunique(table_name)\n",
        "pd.DataFrame(result, columns=['column_name', 'unique_count'])"
      ],
      "execution_count": 29,
      "outputs": [
        {
          "output_type": "execute_result",
          "data": {
            "text/html": [
              "<div>\n",
              "<style scoped>\n",
              "    .dataframe tbody tr th:only-of-type {\n",
              "        vertical-align: middle;\n",
              "    }\n",
              "\n",
              "    .dataframe tbody tr th {\n",
              "        vertical-align: top;\n",
              "    }\n",
              "\n",
              "    .dataframe thead th {\n",
              "        text-align: right;\n",
              "    }\n",
              "</style>\n",
              "<table border=\"1\" class=\"dataframe\">\n",
              "  <thead>\n",
              "    <tr style=\"text-align: right;\">\n",
              "      <th></th>\n",
              "      <th>column_name</th>\n",
              "      <th>unique_count</th>\n",
              "    </tr>\n",
              "  </thead>\n",
              "  <tbody>\n",
              "    <tr>\n",
              "      <th>0</th>\n",
              "      <td>userId</td>\n",
              "      <td>610</td>\n",
              "    </tr>\n",
              "    <tr>\n",
              "      <th>1</th>\n",
              "      <td>movieId</td>\n",
              "      <td>9724</td>\n",
              "    </tr>\n",
              "    <tr>\n",
              "      <th>2</th>\n",
              "      <td>rating</td>\n",
              "      <td>10</td>\n",
              "    </tr>\n",
              "    <tr>\n",
              "      <th>3</th>\n",
              "      <td>timestamp</td>\n",
              "      <td>85043</td>\n",
              "    </tr>\n",
              "  </tbody>\n",
              "</table>\n",
              "</div>"
            ],
            "text/plain": [
              "  column_name  unique_count\n",
              "0      userId           610\n",
              "1     movieId          9724\n",
              "2      rating            10\n",
              "3   timestamp         85043"
            ]
          },
          "metadata": {
            "tags": []
          },
          "execution_count": 29
        }
      ]
    },
    {
      "cell_type": "markdown",
      "metadata": {
        "colab_type": "text",
        "id": "rvYblYAmocoG"
      },
      "source": [
        "> * **Pandas** "
      ]
    },
    {
      "cell_type": "code",
      "metadata": {
        "id": "0Jo4VFOSPXOO",
        "colab_type": "code",
        "outputId": "cc9948ef-ac99-4421-cad5-5010cd299cea",
        "colab": {
          "base_uri": "https://localhost:8080/",
          "height": 173
        }
      },
      "source": [
        "pd.DataFrame(db[table_name].nunique(), columns = ['unique_count'])"
      ],
      "execution_count": 30,
      "outputs": [
        {
          "output_type": "execute_result",
          "data": {
            "text/html": [
              "<div>\n",
              "<style scoped>\n",
              "    .dataframe tbody tr th:only-of-type {\n",
              "        vertical-align: middle;\n",
              "    }\n",
              "\n",
              "    .dataframe tbody tr th {\n",
              "        vertical-align: top;\n",
              "    }\n",
              "\n",
              "    .dataframe thead th {\n",
              "        text-align: right;\n",
              "    }\n",
              "</style>\n",
              "<table border=\"1\" class=\"dataframe\">\n",
              "  <thead>\n",
              "    <tr style=\"text-align: right;\">\n",
              "      <th></th>\n",
              "      <th>unique_count</th>\n",
              "    </tr>\n",
              "  </thead>\n",
              "  <tbody>\n",
              "    <tr>\n",
              "      <th>userId</th>\n",
              "      <td>610</td>\n",
              "    </tr>\n",
              "    <tr>\n",
              "      <th>movieId</th>\n",
              "      <td>9724</td>\n",
              "    </tr>\n",
              "    <tr>\n",
              "      <th>rating</th>\n",
              "      <td>10</td>\n",
              "    </tr>\n",
              "    <tr>\n",
              "      <th>timestamp</th>\n",
              "      <td>85043</td>\n",
              "    </tr>\n",
              "  </tbody>\n",
              "</table>\n",
              "</div>"
            ],
            "text/plain": [
              "           unique_count\n",
              "userId              610\n",
              "movieId            9724\n",
              "rating               10\n",
              "timestamp         85043"
            ]
          },
          "metadata": {
            "tags": []
          },
          "execution_count": 30
        }
      ]
    },
    {
      "cell_type": "markdown",
      "metadata": {
        "id": "Jat_Ruyimx7B",
        "colab_type": "text"
      },
      "source": [
        "## `WHERE` Clause    \n",
        "                  |  SQL  |  Pandas  |\n",
        "    ----------------------------------              \n",
        "       AND        |  and  |    &     |\n",
        "    ----------------------------------              \n",
        "       OR         |  or   |    |     |\n",
        "    ----------------------------------              \n",
        "       NOT        |  not  |    !     |"
      ]
    },
    {
      "cell_type": "markdown",
      "metadata": {
        "id": "GX-PllRunnAS",
        "colab_type": "text"
      },
      "source": [
        "### Query 4: Find all the unique ratings given by a specific user with userId 25"
      ]
    },
    {
      "cell_type": "markdown",
      "metadata": {
        "colab_type": "text",
        "id": "5eC-oqPEm8tq"
      },
      "source": [
        "> * **SQL** "
      ]
    },
    {
      "cell_type": "code",
      "metadata": {
        "id": "5Exvg3fOmwwS",
        "colab_type": "code",
        "colab": {}
      },
      "source": [
        "table_name = 'ratings'"
      ],
      "execution_count": 0,
      "outputs": []
    },
    {
      "cell_type": "code",
      "metadata": {
        "id": "ai9cdmjHmwy6",
        "colab_type": "code",
        "outputId": "c425dbc7-7024-4150-ecbc-2f57bb3a8625",
        "colab": {
          "base_uri": "https://localhost:8080/",
          "height": 142
        }
      },
      "source": [
        "rs = con.execute(f'''SELECT DISTINCT rating\n",
        "                     FROM {table_name}\n",
        "                     WHERE userId = 25''')\n",
        "pd.DataFrame(rs.fetchall(), columns=['unique_ratings'])"
      ],
      "execution_count": 32,
      "outputs": [
        {
          "output_type": "execute_result",
          "data": {
            "text/html": [
              "<div>\n",
              "<style scoped>\n",
              "    .dataframe tbody tr th:only-of-type {\n",
              "        vertical-align: middle;\n",
              "    }\n",
              "\n",
              "    .dataframe tbody tr th {\n",
              "        vertical-align: top;\n",
              "    }\n",
              "\n",
              "    .dataframe thead th {\n",
              "        text-align: right;\n",
              "    }\n",
              "</style>\n",
              "<table border=\"1\" class=\"dataframe\">\n",
              "  <thead>\n",
              "    <tr style=\"text-align: right;\">\n",
              "      <th></th>\n",
              "      <th>unique_ratings</th>\n",
              "    </tr>\n",
              "  </thead>\n",
              "  <tbody>\n",
              "    <tr>\n",
              "      <th>0</th>\n",
              "      <td>4.0</td>\n",
              "    </tr>\n",
              "    <tr>\n",
              "      <th>1</th>\n",
              "      <td>5.0</td>\n",
              "    </tr>\n",
              "    <tr>\n",
              "      <th>2</th>\n",
              "      <td>4.5</td>\n",
              "    </tr>\n",
              "  </tbody>\n",
              "</table>\n",
              "</div>"
            ],
            "text/plain": [
              "   unique_ratings\n",
              "0             4.0\n",
              "1             5.0\n",
              "2             4.5"
            ]
          },
          "metadata": {
            "tags": []
          },
          "execution_count": 32
        }
      ]
    },
    {
      "cell_type": "markdown",
      "metadata": {
        "colab_type": "text",
        "id": "XFbcq1ZmofI6"
      },
      "source": [
        "> * **Pandas** "
      ]
    },
    {
      "cell_type": "code",
      "metadata": {
        "id": "-m-6s5Sqmw1y",
        "colab_type": "code",
        "outputId": "c3c74c75-13d4-4870-ffb7-5352cfd20057",
        "colab": {
          "base_uri": "https://localhost:8080/",
          "height": 142
        }
      },
      "source": [
        "table = db[table_name]\n",
        "\n",
        "FROM_CLAUSE = db[table_name]\n",
        "\n",
        "WHERE_CLAUSE = (table['userId'] == 25)\n",
        "\n",
        "SELECT_CLAUSE = 'rating'\n",
        "\n",
        "DISTINCT = pd.Series.unique\n",
        "\n",
        "# 1. pd.Series.unique(db[table_name][(db[table_name]['userId'] == 25)]['rating'])\n",
        "# 2. db[table_name][(db[table_name]['userId'] == 25)]['rating'].unique()\n",
        "\n",
        "rs = DISTINCT(FROM_CLAUSE[WHERE_CLAUSE][SELECT_CLAUSE])\n",
        "pd.DataFrame(rs,  columns=['unique_rating'])"
      ],
      "execution_count": 33,
      "outputs": [
        {
          "output_type": "execute_result",
          "data": {
            "text/html": [
              "<div>\n",
              "<style scoped>\n",
              "    .dataframe tbody tr th:only-of-type {\n",
              "        vertical-align: middle;\n",
              "    }\n",
              "\n",
              "    .dataframe tbody tr th {\n",
              "        vertical-align: top;\n",
              "    }\n",
              "\n",
              "    .dataframe thead th {\n",
              "        text-align: right;\n",
              "    }\n",
              "</style>\n",
              "<table border=\"1\" class=\"dataframe\">\n",
              "  <thead>\n",
              "    <tr style=\"text-align: right;\">\n",
              "      <th></th>\n",
              "      <th>unique_rating</th>\n",
              "    </tr>\n",
              "  </thead>\n",
              "  <tbody>\n",
              "    <tr>\n",
              "      <th>0</th>\n",
              "      <td>4.0</td>\n",
              "    </tr>\n",
              "    <tr>\n",
              "      <th>1</th>\n",
              "      <td>5.0</td>\n",
              "    </tr>\n",
              "    <tr>\n",
              "      <th>2</th>\n",
              "      <td>4.5</td>\n",
              "    </tr>\n",
              "  </tbody>\n",
              "</table>\n",
              "</div>"
            ],
            "text/plain": [
              "   unique_rating\n",
              "0            4.0\n",
              "1            5.0\n",
              "2            4.5"
            ]
          },
          "metadata": {
            "tags": []
          },
          "execution_count": 33
        }
      ]
    },
    {
      "cell_type": "code",
      "metadata": {
        "id": "50K7jHMXP6N-",
        "colab_type": "code",
        "outputId": "9ea449db-f650-4200-bfc0-bdb68ab6c622",
        "colab": {
          "base_uri": "https://localhost:8080/",
          "height": 34
        }
      },
      "source": [
        "db[table_name][(db[table_name]['userId'] == 25)]['rating'].unique()"
      ],
      "execution_count": 34,
      "outputs": [
        {
          "output_type": "execute_result",
          "data": {
            "text/plain": [
              "array([4. , 5. , 4.5])"
            ]
          },
          "metadata": {
            "tags": []
          },
          "execution_count": 34
        }
      ]
    },
    {
      "cell_type": "markdown",
      "metadata": {
        "colab_type": "text",
        "id": "RMBe9QBcw-3s"
      },
      "source": [
        "### Query 5: Find all the movieId tagged as 'Leonardo DiCaprio' by user with userId 424"
      ]
    },
    {
      "cell_type": "markdown",
      "metadata": {
        "colab_type": "text",
        "id": "pOY2in07w-3u"
      },
      "source": [
        "> * **SQL** "
      ]
    },
    {
      "cell_type": "code",
      "metadata": {
        "colab_type": "code",
        "id": "75SEcCyGw-3v",
        "colab": {}
      },
      "source": [
        "table_name = 'tags'"
      ],
      "execution_count": 0,
      "outputs": []
    },
    {
      "cell_type": "code",
      "metadata": {
        "colab_type": "code",
        "outputId": "3eae2ce7-f5cd-4a30-b2b0-fe8a28ed0efa",
        "id": "K05RVqhew-3x",
        "colab": {
          "base_uri": "https://localhost:8080/",
          "height": 173
        }
      },
      "source": [
        "rs = con.execute(f'''SELECT movieId\n",
        "                     FROM {table_name}\n",
        "                     WHERE tag = 'Leonardo DiCaprio' and userId = 424''')\n",
        "pd.DataFrame(rs.fetchall(), columns=['movieId'])"
      ],
      "execution_count": 36,
      "outputs": [
        {
          "output_type": "execute_result",
          "data": {
            "text/html": [
              "<div>\n",
              "<style scoped>\n",
              "    .dataframe tbody tr th:only-of-type {\n",
              "        vertical-align: middle;\n",
              "    }\n",
              "\n",
              "    .dataframe tbody tr th {\n",
              "        vertical-align: top;\n",
              "    }\n",
              "\n",
              "    .dataframe thead th {\n",
              "        text-align: right;\n",
              "    }\n",
              "</style>\n",
              "<table border=\"1\" class=\"dataframe\">\n",
              "  <thead>\n",
              "    <tr style=\"text-align: right;\">\n",
              "      <th></th>\n",
              "      <th>movieId</th>\n",
              "    </tr>\n",
              "  </thead>\n",
              "  <tbody>\n",
              "    <tr>\n",
              "      <th>0</th>\n",
              "      <td>147</td>\n",
              "    </tr>\n",
              "    <tr>\n",
              "      <th>1</th>\n",
              "      <td>48516</td>\n",
              "    </tr>\n",
              "    <tr>\n",
              "      <th>2</th>\n",
              "      <td>74458</td>\n",
              "    </tr>\n",
              "    <tr>\n",
              "      <th>3</th>\n",
              "      <td>79132</td>\n",
              "    </tr>\n",
              "  </tbody>\n",
              "</table>\n",
              "</div>"
            ],
            "text/plain": [
              "   movieId\n",
              "0      147\n",
              "1    48516\n",
              "2    74458\n",
              "3    79132"
            ]
          },
          "metadata": {
            "tags": []
          },
          "execution_count": 36
        }
      ]
    },
    {
      "cell_type": "markdown",
      "metadata": {
        "colab_type": "text",
        "id": "ShnYsft4w-31"
      },
      "source": [
        "> * **Pandas** "
      ]
    },
    {
      "cell_type": "code",
      "metadata": {
        "colab_type": "code",
        "outputId": "174f71ea-3ad0-45b1-87a6-353a463c50e4",
        "id": "tWuBoac-w-32",
        "colab": {
          "base_uri": "https://localhost:8080/",
          "height": 173
        }
      },
      "source": [
        "table = db[table_name]\n",
        "\n",
        "FROM_CLAUSE = table\n",
        "\n",
        "WHERE_CONDITION1 = (table['tag'] == 'Leonardo DiCaprio')\n",
        "WHERE_CONDITION2 = (table['userId'] == 424)\n",
        "WHERE_CLAUSE = WHERE_CONDITION1 & WHERE_CONDITION2\n",
        "\n",
        "SELECT_CLAUSE = ['movieId']\n",
        "\n",
        "# db[table_name][(db[table_name]['tag'] == 'Leonardo DiCaprio') & \\\n",
        "#                (db[table_name]['userId'] == 424)] \\\n",
        "#                ['rating']\n",
        "\n",
        "rs = FROM_CLAUSE[WHERE_CONDITION1 & WHERE_CONDITION2][SELECT_CLAUSE]\n",
        "pd.DataFrame(rs)"
      ],
      "execution_count": 37,
      "outputs": [
        {
          "output_type": "execute_result",
          "data": {
            "text/html": [
              "<div>\n",
              "<style scoped>\n",
              "    .dataframe tbody tr th:only-of-type {\n",
              "        vertical-align: middle;\n",
              "    }\n",
              "\n",
              "    .dataframe tbody tr th {\n",
              "        vertical-align: top;\n",
              "    }\n",
              "\n",
              "    .dataframe thead th {\n",
              "        text-align: right;\n",
              "    }\n",
              "</style>\n",
              "<table border=\"1\" class=\"dataframe\">\n",
              "  <thead>\n",
              "    <tr style=\"text-align: right;\">\n",
              "      <th></th>\n",
              "      <th>movieId</th>\n",
              "    </tr>\n",
              "  </thead>\n",
              "  <tbody>\n",
              "    <tr>\n",
              "      <th>706</th>\n",
              "      <td>147</td>\n",
              "    </tr>\n",
              "    <tr>\n",
              "      <th>900</th>\n",
              "      <td>48516</td>\n",
              "    </tr>\n",
              "    <tr>\n",
              "      <th>923</th>\n",
              "      <td>74458</td>\n",
              "    </tr>\n",
              "    <tr>\n",
              "      <th>931</th>\n",
              "      <td>79132</td>\n",
              "    </tr>\n",
              "  </tbody>\n",
              "</table>\n",
              "</div>"
            ],
            "text/plain": [
              "     movieId\n",
              "706      147\n",
              "900    48516\n",
              "923    74458\n",
              "931    79132"
            ]
          },
          "metadata": {
            "tags": []
          },
          "execution_count": 37
        }
      ]
    },
    {
      "cell_type": "markdown",
      "metadata": {
        "colab_type": "text",
        "id": "z7XdF9xdVJ3d"
      },
      "source": [
        "### Query 6: Display all the movieId and tag in movies table for the movies tagged as music, romance and comedy."
      ]
    },
    {
      "cell_type": "markdown",
      "metadata": {
        "colab_type": "text",
        "id": "PCdbvsS_VJ3f"
      },
      "source": [
        "> * **SQL** "
      ]
    },
    {
      "cell_type": "code",
      "metadata": {
        "colab_type": "code",
        "id": "EQXNQogEVJ3g",
        "colab": {}
      },
      "source": [
        "table_name = 'tags'"
      ],
      "execution_count": 0,
      "outputs": []
    },
    {
      "cell_type": "code",
      "metadata": {
        "colab_type": "code",
        "outputId": "c100a438-485d-40ac-f65e-49e05dd6408d",
        "id": "OtAXFS3iVJ3j",
        "collapsed": true,
        "colab": {
          "base_uri": "https://localhost:8080/",
          "height": 1000
        }
      },
      "source": [
        "rs = con.execute(f'''SELECT movieId, tag\n",
        "                     FROM {table_name}\n",
        "                     WHERE tag IN ('music', 'comedy', 'romance')''')\n",
        "pd.DataFrame(rs.fetchall(), columns=['movieId', 'tag'])"
      ],
      "execution_count": 39,
      "outputs": [
        {
          "output_type": "execute_result",
          "data": {
            "text/html": [
              "<div>\n",
              "<style scoped>\n",
              "    .dataframe tbody tr th:only-of-type {\n",
              "        vertical-align: middle;\n",
              "    }\n",
              "\n",
              "    .dataframe tbody tr th {\n",
              "        vertical-align: top;\n",
              "    }\n",
              "\n",
              "    .dataframe thead th {\n",
              "        text-align: right;\n",
              "    }\n",
              "</style>\n",
              "<table border=\"1\" class=\"dataframe\">\n",
              "  <thead>\n",
              "    <tr style=\"text-align: right;\">\n",
              "      <th></th>\n",
              "      <th>movieId</th>\n",
              "      <th>tag</th>\n",
              "    </tr>\n",
              "  </thead>\n",
              "  <tbody>\n",
              "    <tr>\n",
              "      <th>0</th>\n",
              "      <td>88094</td>\n",
              "      <td>music</td>\n",
              "    </tr>\n",
              "    <tr>\n",
              "      <th>1</th>\n",
              "      <td>46976</td>\n",
              "      <td>romance</td>\n",
              "    </tr>\n",
              "    <tr>\n",
              "      <th>2</th>\n",
              "      <td>60756</td>\n",
              "      <td>comedy</td>\n",
              "    </tr>\n",
              "    <tr>\n",
              "      <th>3</th>\n",
              "      <td>61024</td>\n",
              "      <td>comedy</td>\n",
              "    </tr>\n",
              "    <tr>\n",
              "      <th>4</th>\n",
              "      <td>88405</td>\n",
              "      <td>comedy</td>\n",
              "    </tr>\n",
              "    <tr>\n",
              "      <th>5</th>\n",
              "      <td>88405</td>\n",
              "      <td>romance</td>\n",
              "    </tr>\n",
              "    <tr>\n",
              "      <th>6</th>\n",
              "      <td>107348</td>\n",
              "      <td>comedy</td>\n",
              "    </tr>\n",
              "    <tr>\n",
              "      <th>7</th>\n",
              "      <td>119141</td>\n",
              "      <td>comedy</td>\n",
              "    </tr>\n",
              "    <tr>\n",
              "      <th>8</th>\n",
              "      <td>193565</td>\n",
              "      <td>comedy</td>\n",
              "    </tr>\n",
              "    <tr>\n",
              "      <th>9</th>\n",
              "      <td>1288</td>\n",
              "      <td>music</td>\n",
              "    </tr>\n",
              "    <tr>\n",
              "      <th>10</th>\n",
              "      <td>3481</td>\n",
              "      <td>music</td>\n",
              "    </tr>\n",
              "    <tr>\n",
              "      <th>11</th>\n",
              "      <td>3897</td>\n",
              "      <td>music</td>\n",
              "    </tr>\n",
              "    <tr>\n",
              "      <th>12</th>\n",
              "      <td>3948</td>\n",
              "      <td>comedy</td>\n",
              "    </tr>\n",
              "    <tr>\n",
              "      <th>13</th>\n",
              "      <td>4816</td>\n",
              "      <td>comedy</td>\n",
              "    </tr>\n",
              "    <tr>\n",
              "      <th>14</th>\n",
              "      <td>6188</td>\n",
              "      <td>comedy</td>\n",
              "    </tr>\n",
              "    <tr>\n",
              "      <th>15</th>\n",
              "      <td>8641</td>\n",
              "      <td>comedy</td>\n",
              "    </tr>\n",
              "    <tr>\n",
              "      <th>16</th>\n",
              "      <td>62</td>\n",
              "      <td>music</td>\n",
              "    </tr>\n",
              "    <tr>\n",
              "      <th>17</th>\n",
              "      <td>1088</td>\n",
              "      <td>music</td>\n",
              "    </tr>\n",
              "    <tr>\n",
              "      <th>18</th>\n",
              "      <td>1093</td>\n",
              "      <td>music</td>\n",
              "    </tr>\n",
              "    <tr>\n",
              "      <th>19</th>\n",
              "      <td>1288</td>\n",
              "      <td>music</td>\n",
              "    </tr>\n",
              "    <tr>\n",
              "      <th>20</th>\n",
              "      <td>2070</td>\n",
              "      <td>music</td>\n",
              "    </tr>\n",
              "    <tr>\n",
              "      <th>21</th>\n",
              "      <td>3044</td>\n",
              "      <td>music</td>\n",
              "    </tr>\n",
              "    <tr>\n",
              "      <th>22</th>\n",
              "      <td>3897</td>\n",
              "      <td>music</td>\n",
              "    </tr>\n",
              "    <tr>\n",
              "      <th>23</th>\n",
              "      <td>1196</td>\n",
              "      <td>music</td>\n",
              "    </tr>\n",
              "    <tr>\n",
              "      <th>24</th>\n",
              "      <td>67087</td>\n",
              "      <td>comedy</td>\n",
              "    </tr>\n",
              "    <tr>\n",
              "      <th>25</th>\n",
              "      <td>69757</td>\n",
              "      <td>romance</td>\n",
              "    </tr>\n",
              "    <tr>\n",
              "      <th>26</th>\n",
              "      <td>112552</td>\n",
              "      <td>music</td>\n",
              "    </tr>\n",
              "    <tr>\n",
              "      <th>27</th>\n",
              "      <td>1721</td>\n",
              "      <td>romance</td>\n",
              "    </tr>\n",
              "    <tr>\n",
              "      <th>28</th>\n",
              "      <td>8533</td>\n",
              "      <td>romance</td>\n",
              "    </tr>\n",
              "    <tr>\n",
              "      <th>29</th>\n",
              "      <td>69122</td>\n",
              "      <td>comedy</td>\n",
              "    </tr>\n",
              "    <tr>\n",
              "      <th>30</th>\n",
              "      <td>72998</td>\n",
              "      <td>music</td>\n",
              "    </tr>\n",
              "    <tr>\n",
              "      <th>31</th>\n",
              "      <td>72998</td>\n",
              "      <td>romance</td>\n",
              "    </tr>\n",
              "    <tr>\n",
              "      <th>32</th>\n",
              "      <td>80489</td>\n",
              "      <td>romance</td>\n",
              "    </tr>\n",
              "    <tr>\n",
              "      <th>33</th>\n",
              "      <td>7361</td>\n",
              "      <td>comedy</td>\n",
              "    </tr>\n",
              "    <tr>\n",
              "      <th>34</th>\n",
              "      <td>296</td>\n",
              "      <td>comedy</td>\n",
              "    </tr>\n",
              "    <tr>\n",
              "      <th>35</th>\n",
              "      <td>924</td>\n",
              "      <td>music</td>\n",
              "    </tr>\n",
              "    <tr>\n",
              "      <th>36</th>\n",
              "      <td>1732</td>\n",
              "      <td>comedy</td>\n",
              "    </tr>\n",
              "    <tr>\n",
              "      <th>37</th>\n",
              "      <td>1357</td>\n",
              "      <td>music</td>\n",
              "    </tr>\n",
              "  </tbody>\n",
              "</table>\n",
              "</div>"
            ],
            "text/plain": [
              "    movieId      tag\n",
              "0     88094    music\n",
              "1     46976  romance\n",
              "2     60756   comedy\n",
              "3     61024   comedy\n",
              "4     88405   comedy\n",
              "5     88405  romance\n",
              "6    107348   comedy\n",
              "7    119141   comedy\n",
              "8    193565   comedy\n",
              "9      1288    music\n",
              "10     3481    music\n",
              "11     3897    music\n",
              "12     3948   comedy\n",
              "13     4816   comedy\n",
              "14     6188   comedy\n",
              "15     8641   comedy\n",
              "16       62    music\n",
              "17     1088    music\n",
              "18     1093    music\n",
              "19     1288    music\n",
              "20     2070    music\n",
              "21     3044    music\n",
              "22     3897    music\n",
              "23     1196    music\n",
              "24    67087   comedy\n",
              "25    69757  romance\n",
              "26   112552    music\n",
              "27     1721  romance\n",
              "28     8533  romance\n",
              "29    69122   comedy\n",
              "30    72998    music\n",
              "31    72998  romance\n",
              "32    80489  romance\n",
              "33     7361   comedy\n",
              "34      296   comedy\n",
              "35      924    music\n",
              "36     1732   comedy\n",
              "37     1357    music"
            ]
          },
          "metadata": {
            "tags": []
          },
          "execution_count": 39
        }
      ]
    },
    {
      "cell_type": "markdown",
      "metadata": {
        "colab_type": "text",
        "id": "4fAwwGdtVJ3m"
      },
      "source": [
        "> * **Pandas** "
      ]
    },
    {
      "cell_type": "code",
      "metadata": {
        "colab_type": "code",
        "outputId": "98f023c4-6cc0-4b2e-b43b-1c064c857395",
        "id": "rabjdQqMVJ3m",
        "collapsed": true,
        "colab": {
          "base_uri": "https://localhost:8080/",
          "height": 1000
        }
      },
      "source": [
        "table = db[table_name]\n",
        "\n",
        "FROM_CLAUSE = table\n",
        "\n",
        "WHERE_CLAUSE = (table['tag'].isin(['music', 'comedy', 'romance']))\n",
        "\n",
        "SELECT_CLAUSE = ['movieId', 'tag']\n",
        "\n",
        "# db[table_name][db[table_name]['tag'].isin(['music', 'comedy', 'romance'])]\n",
        "\n",
        "rs = FROM_CLAUSE[WHERE_CLAUSE][SELECT_CLAUSE]\n",
        "pd.DataFrame(rs)"
      ],
      "execution_count": 40,
      "outputs": [
        {
          "output_type": "execute_result",
          "data": {
            "text/html": [
              "<div>\n",
              "<style scoped>\n",
              "    .dataframe tbody tr th:only-of-type {\n",
              "        vertical-align: middle;\n",
              "    }\n",
              "\n",
              "    .dataframe tbody tr th {\n",
              "        vertical-align: top;\n",
              "    }\n",
              "\n",
              "    .dataframe thead th {\n",
              "        text-align: right;\n",
              "    }\n",
              "</style>\n",
              "<table border=\"1\" class=\"dataframe\">\n",
              "  <thead>\n",
              "    <tr style=\"text-align: right;\">\n",
              "      <th></th>\n",
              "      <th>movieId</th>\n",
              "      <th>tag</th>\n",
              "    </tr>\n",
              "  </thead>\n",
              "  <tbody>\n",
              "    <tr>\n",
              "      <th>23</th>\n",
              "      <td>88094</td>\n",
              "      <td>music</td>\n",
              "    </tr>\n",
              "    <tr>\n",
              "      <th>178</th>\n",
              "      <td>46976</td>\n",
              "      <td>romance</td>\n",
              "    </tr>\n",
              "    <tr>\n",
              "      <th>205</th>\n",
              "      <td>60756</td>\n",
              "      <td>comedy</td>\n",
              "    </tr>\n",
              "    <tr>\n",
              "      <th>208</th>\n",
              "      <td>61024</td>\n",
              "      <td>comedy</td>\n",
              "    </tr>\n",
              "    <tr>\n",
              "      <th>238</th>\n",
              "      <td>88405</td>\n",
              "      <td>comedy</td>\n",
              "    </tr>\n",
              "    <tr>\n",
              "      <th>245</th>\n",
              "      <td>88405</td>\n",
              "      <td>romance</td>\n",
              "    </tr>\n",
              "    <tr>\n",
              "      <th>267</th>\n",
              "      <td>107348</td>\n",
              "      <td>comedy</td>\n",
              "    </tr>\n",
              "    <tr>\n",
              "      <th>304</th>\n",
              "      <td>119141</td>\n",
              "      <td>comedy</td>\n",
              "    </tr>\n",
              "    <tr>\n",
              "      <th>528</th>\n",
              "      <td>193565</td>\n",
              "      <td>comedy</td>\n",
              "    </tr>\n",
              "    <tr>\n",
              "      <th>622</th>\n",
              "      <td>1288</td>\n",
              "      <td>music</td>\n",
              "    </tr>\n",
              "    <tr>\n",
              "      <th>625</th>\n",
              "      <td>3481</td>\n",
              "      <td>music</td>\n",
              "    </tr>\n",
              "    <tr>\n",
              "      <th>626</th>\n",
              "      <td>3897</td>\n",
              "      <td>music</td>\n",
              "    </tr>\n",
              "    <tr>\n",
              "      <th>856</th>\n",
              "      <td>3948</td>\n",
              "      <td>comedy</td>\n",
              "    </tr>\n",
              "    <tr>\n",
              "      <th>863</th>\n",
              "      <td>4816</td>\n",
              "      <td>comedy</td>\n",
              "    </tr>\n",
              "    <tr>\n",
              "      <th>879</th>\n",
              "      <td>6188</td>\n",
              "      <td>comedy</td>\n",
              "    </tr>\n",
              "    <tr>\n",
              "      <th>883</th>\n",
              "      <td>8641</td>\n",
              "      <td>comedy</td>\n",
              "    </tr>\n",
              "    <tr>\n",
              "      <th>1020</th>\n",
              "      <td>62</td>\n",
              "      <td>music</td>\n",
              "    </tr>\n",
              "    <tr>\n",
              "      <th>1285</th>\n",
              "      <td>1088</td>\n",
              "      <td>music</td>\n",
              "    </tr>\n",
              "    <tr>\n",
              "      <th>1291</th>\n",
              "      <td>1093</td>\n",
              "      <td>music</td>\n",
              "    </tr>\n",
              "    <tr>\n",
              "      <th>1397</th>\n",
              "      <td>1288</td>\n",
              "      <td>music</td>\n",
              "    </tr>\n",
              "    <tr>\n",
              "      <th>1557</th>\n",
              "      <td>2070</td>\n",
              "      <td>music</td>\n",
              "    </tr>\n",
              "    <tr>\n",
              "      <th>1726</th>\n",
              "      <td>3044</td>\n",
              "      <td>music</td>\n",
              "    </tr>\n",
              "    <tr>\n",
              "      <th>1847</th>\n",
              "      <td>3897</td>\n",
              "      <td>music</td>\n",
              "    </tr>\n",
              "    <tr>\n",
              "      <th>2543</th>\n",
              "      <td>1196</td>\n",
              "      <td>music</td>\n",
              "    </tr>\n",
              "    <tr>\n",
              "      <th>2693</th>\n",
              "      <td>67087</td>\n",
              "      <td>comedy</td>\n",
              "    </tr>\n",
              "    <tr>\n",
              "      <th>2741</th>\n",
              "      <td>69757</td>\n",
              "      <td>romance</td>\n",
              "    </tr>\n",
              "    <tr>\n",
              "      <th>2772</th>\n",
              "      <td>112552</td>\n",
              "      <td>music</td>\n",
              "    </tr>\n",
              "    <tr>\n",
              "      <th>2790</th>\n",
              "      <td>1721</td>\n",
              "      <td>romance</td>\n",
              "    </tr>\n",
              "    <tr>\n",
              "      <th>2806</th>\n",
              "      <td>8533</td>\n",
              "      <td>romance</td>\n",
              "    </tr>\n",
              "    <tr>\n",
              "      <th>2816</th>\n",
              "      <td>69122</td>\n",
              "      <td>comedy</td>\n",
              "    </tr>\n",
              "    <tr>\n",
              "      <th>2823</th>\n",
              "      <td>72998</td>\n",
              "      <td>music</td>\n",
              "    </tr>\n",
              "    <tr>\n",
              "      <th>2825</th>\n",
              "      <td>72998</td>\n",
              "      <td>romance</td>\n",
              "    </tr>\n",
              "    <tr>\n",
              "      <th>2844</th>\n",
              "      <td>80489</td>\n",
              "      <td>romance</td>\n",
              "    </tr>\n",
              "    <tr>\n",
              "      <th>3071</th>\n",
              "      <td>7361</td>\n",
              "      <td>comedy</td>\n",
              "    </tr>\n",
              "    <tr>\n",
              "      <th>3413</th>\n",
              "      <td>296</td>\n",
              "      <td>comedy</td>\n",
              "    </tr>\n",
              "    <tr>\n",
              "      <th>3570</th>\n",
              "      <td>924</td>\n",
              "      <td>music</td>\n",
              "    </tr>\n",
              "    <tr>\n",
              "      <th>3597</th>\n",
              "      <td>1732</td>\n",
              "      <td>comedy</td>\n",
              "    </tr>\n",
              "    <tr>\n",
              "      <th>3673</th>\n",
              "      <td>1357</td>\n",
              "      <td>music</td>\n",
              "    </tr>\n",
              "  </tbody>\n",
              "</table>\n",
              "</div>"
            ],
            "text/plain": [
              "      movieId      tag\n",
              "23      88094    music\n",
              "178     46976  romance\n",
              "205     60756   comedy\n",
              "208     61024   comedy\n",
              "238     88405   comedy\n",
              "245     88405  romance\n",
              "267    107348   comedy\n",
              "304    119141   comedy\n",
              "528    193565   comedy\n",
              "622      1288    music\n",
              "625      3481    music\n",
              "626      3897    music\n",
              "856      3948   comedy\n",
              "863      4816   comedy\n",
              "879      6188   comedy\n",
              "883      8641   comedy\n",
              "1020       62    music\n",
              "1285     1088    music\n",
              "1291     1093    music\n",
              "1397     1288    music\n",
              "1557     2070    music\n",
              "1726     3044    music\n",
              "1847     3897    music\n",
              "2543     1196    music\n",
              "2693    67087   comedy\n",
              "2741    69757  romance\n",
              "2772   112552    music\n",
              "2790     1721  romance\n",
              "2806     8533  romance\n",
              "2816    69122   comedy\n",
              "2823    72998    music\n",
              "2825    72998  romance\n",
              "2844    80489  romance\n",
              "3071     7361   comedy\n",
              "3413      296   comedy\n",
              "3570      924    music\n",
              "3597     1732   comedy\n",
              "3673     1357    music"
            ]
          },
          "metadata": {
            "tags": []
          },
          "execution_count": 40
        }
      ]
    },
    {
      "cell_type": "markdown",
      "metadata": {
        "id": "_4pUefXOYme7",
        "colab_type": "text"
      },
      "source": [
        "## `GROUP BY` Clause"
      ]
    },
    {
      "cell_type": "markdown",
      "metadata": {
        "id": "Y1GXPiIqYqGq",
        "colab_type": "text"
      },
      "source": [
        "### Query 7: Find the frequency distribution of movies based on ratings in descending order.\n"
      ]
    },
    {
      "cell_type": "markdown",
      "metadata": {
        "colab_type": "text",
        "id": "yzv07TDcdZGa"
      },
      "source": [
        "> * **SQL** "
      ]
    },
    {
      "cell_type": "code",
      "metadata": {
        "colab_type": "code",
        "id": "5N0rFYULw-36",
        "colab": {}
      },
      "source": [
        "table_name = 'ratings'"
      ],
      "execution_count": 0,
      "outputs": []
    },
    {
      "cell_type": "code",
      "metadata": {
        "id": "2pcJQ-6Xwvan",
        "colab_type": "code",
        "outputId": "0a371c86-f1b8-4ec5-bfd3-f5c1c70b7079",
        "colab": {
          "base_uri": "https://localhost:8080/",
          "height": 390
        }
      },
      "source": [
        "rs = con.execute(f'''SELECT rating, COUNT(movieId) AS count_movieId\n",
        "                     FROM {table_name}\n",
        "                     GROUP BY rating\n",
        "                     ORDER BY count_movieId DESC''')\n",
        "pd.DataFrame(rs.fetchall(), columns=['rating', 'movieId_count']).set_index('rating')"
      ],
      "execution_count": 42,
      "outputs": [
        {
          "output_type": "execute_result",
          "data": {
            "text/html": [
              "<div>\n",
              "<style scoped>\n",
              "    .dataframe tbody tr th:only-of-type {\n",
              "        vertical-align: middle;\n",
              "    }\n",
              "\n",
              "    .dataframe tbody tr th {\n",
              "        vertical-align: top;\n",
              "    }\n",
              "\n",
              "    .dataframe thead th {\n",
              "        text-align: right;\n",
              "    }\n",
              "</style>\n",
              "<table border=\"1\" class=\"dataframe\">\n",
              "  <thead>\n",
              "    <tr style=\"text-align: right;\">\n",
              "      <th></th>\n",
              "      <th>movieId_count</th>\n",
              "    </tr>\n",
              "    <tr>\n",
              "      <th>rating</th>\n",
              "      <th></th>\n",
              "    </tr>\n",
              "  </thead>\n",
              "  <tbody>\n",
              "    <tr>\n",
              "      <th>4.0</th>\n",
              "      <td>26818</td>\n",
              "    </tr>\n",
              "    <tr>\n",
              "      <th>3.0</th>\n",
              "      <td>20047</td>\n",
              "    </tr>\n",
              "    <tr>\n",
              "      <th>5.0</th>\n",
              "      <td>13211</td>\n",
              "    </tr>\n",
              "    <tr>\n",
              "      <th>3.5</th>\n",
              "      <td>13136</td>\n",
              "    </tr>\n",
              "    <tr>\n",
              "      <th>4.5</th>\n",
              "      <td>8551</td>\n",
              "    </tr>\n",
              "    <tr>\n",
              "      <th>2.0</th>\n",
              "      <td>7551</td>\n",
              "    </tr>\n",
              "    <tr>\n",
              "      <th>2.5</th>\n",
              "      <td>5550</td>\n",
              "    </tr>\n",
              "    <tr>\n",
              "      <th>1.0</th>\n",
              "      <td>2811</td>\n",
              "    </tr>\n",
              "    <tr>\n",
              "      <th>1.5</th>\n",
              "      <td>1791</td>\n",
              "    </tr>\n",
              "    <tr>\n",
              "      <th>0.5</th>\n",
              "      <td>1370</td>\n",
              "    </tr>\n",
              "  </tbody>\n",
              "</table>\n",
              "</div>"
            ],
            "text/plain": [
              "        movieId_count\n",
              "rating               \n",
              "4.0             26818\n",
              "3.0             20047\n",
              "5.0             13211\n",
              "3.5             13136\n",
              "4.5              8551\n",
              "2.0              7551\n",
              "2.5              5550\n",
              "1.0              2811\n",
              "1.5              1791\n",
              "0.5              1370"
            ]
          },
          "metadata": {
            "tags": []
          },
          "execution_count": 42
        }
      ]
    },
    {
      "cell_type": "markdown",
      "metadata": {
        "colab_type": "text",
        "id": "c7x2wyxzdarx"
      },
      "source": [
        "> * **Pandas** "
      ]
    },
    {
      "cell_type": "code",
      "metadata": {
        "id": "Q668M2HxY8cu",
        "colab_type": "code",
        "outputId": "913458f5-21bd-4eb0-9774-90bf5931e8fc",
        "colab": {
          "base_uri": "https://localhost:8080/",
          "height": 390
        }
      },
      "source": [
        "table = db[table_name]\n",
        "\n",
        "FROM_CLAUSE = table\n",
        "\n",
        "GROUPBY_COLUMN = ['rating']\n",
        "GROUPBY_CLAUSE = pd.DataFrame.groupby\n",
        "\n",
        "AGGREGATION_COLUMNS = ['movieId']\n",
        "SELECT_CLAUSE = AGGREGATION_COLUMNS\n",
        "AGGREGATION_OP = 'count'\n",
        "\n",
        "# .sort_values() does the job of ORDER BY CLAUSE in SQL\n",
        "\n",
        "# 1. pd.DataFrame.groupby( db[table_name], by=['rating'])[['movieId']].agg('count')\n",
        "# 2. db[table_name].groupby(by=['rating'])[['movieId']].agg('count')\n",
        "# 3. db[table_name].groupby(by=['rating']).agg({'movieId', 'count'})\n",
        "# 4. db[table_name].groupby(by=['rating'])[['movieId']].count()\n",
        "\n",
        "\n",
        "rs = GROUPBY_CLAUSE(FROM_CLAUSE, GROUPBY_COLUMN)[SELECT_CLAUSE] \\\n",
        "                                           .agg(AGGREGATION_OP) \\\n",
        "                                           .sort_values(by=['movieId'],\n",
        "                                                        ascending=False)\n",
        "pd.DataFrame(rs)"
      ],
      "execution_count": 43,
      "outputs": [
        {
          "output_type": "execute_result",
          "data": {
            "text/html": [
              "<div>\n",
              "<style scoped>\n",
              "    .dataframe tbody tr th:only-of-type {\n",
              "        vertical-align: middle;\n",
              "    }\n",
              "\n",
              "    .dataframe tbody tr th {\n",
              "        vertical-align: top;\n",
              "    }\n",
              "\n",
              "    .dataframe thead th {\n",
              "        text-align: right;\n",
              "    }\n",
              "</style>\n",
              "<table border=\"1\" class=\"dataframe\">\n",
              "  <thead>\n",
              "    <tr style=\"text-align: right;\">\n",
              "      <th></th>\n",
              "      <th>movieId</th>\n",
              "    </tr>\n",
              "    <tr>\n",
              "      <th>rating</th>\n",
              "      <th></th>\n",
              "    </tr>\n",
              "  </thead>\n",
              "  <tbody>\n",
              "    <tr>\n",
              "      <th>4.0</th>\n",
              "      <td>26818</td>\n",
              "    </tr>\n",
              "    <tr>\n",
              "      <th>3.0</th>\n",
              "      <td>20047</td>\n",
              "    </tr>\n",
              "    <tr>\n",
              "      <th>5.0</th>\n",
              "      <td>13211</td>\n",
              "    </tr>\n",
              "    <tr>\n",
              "      <th>3.5</th>\n",
              "      <td>13136</td>\n",
              "    </tr>\n",
              "    <tr>\n",
              "      <th>4.5</th>\n",
              "      <td>8551</td>\n",
              "    </tr>\n",
              "    <tr>\n",
              "      <th>2.0</th>\n",
              "      <td>7551</td>\n",
              "    </tr>\n",
              "    <tr>\n",
              "      <th>2.5</th>\n",
              "      <td>5550</td>\n",
              "    </tr>\n",
              "    <tr>\n",
              "      <th>1.0</th>\n",
              "      <td>2811</td>\n",
              "    </tr>\n",
              "    <tr>\n",
              "      <th>1.5</th>\n",
              "      <td>1791</td>\n",
              "    </tr>\n",
              "    <tr>\n",
              "      <th>0.5</th>\n",
              "      <td>1370</td>\n",
              "    </tr>\n",
              "  </tbody>\n",
              "</table>\n",
              "</div>"
            ],
            "text/plain": [
              "        movieId\n",
              "rating         \n",
              "4.0       26818\n",
              "3.0       20047\n",
              "5.0       13211\n",
              "3.5       13136\n",
              "4.5        8551\n",
              "2.0        7551\n",
              "2.5        5550\n",
              "1.0        2811\n",
              "1.5        1791\n",
              "0.5        1370"
            ]
          },
          "metadata": {
            "tags": []
          },
          "execution_count": 43
        }
      ]
    },
    {
      "cell_type": "markdown",
      "metadata": {
        "colab_type": "text",
        "id": "Y1ySeaBckZY8"
      },
      "source": [
        "### Query 8: Find the number of tags assigned to each movie by each user.\n"
      ]
    },
    {
      "cell_type": "markdown",
      "metadata": {
        "colab_type": "text",
        "id": "vr9N7WSCkZY_"
      },
      "source": [
        "> * **SQL** "
      ]
    },
    {
      "cell_type": "code",
      "metadata": {
        "colab_type": "code",
        "id": "NKjkrva4kZY_",
        "colab": {}
      },
      "source": [
        "table_name = 'tags'"
      ],
      "execution_count": 0,
      "outputs": []
    },
    {
      "cell_type": "code",
      "metadata": {
        "colab_type": "code",
        "outputId": "79d25642-742f-4545-b14f-a82dea7c5fc0",
        "id": "M2MVgehHkZZC",
        "collapsed": true,
        "colab": {
          "base_uri": "https://localhost:8080/",
          "height": 450
        }
      },
      "source": [
        "rs = con.execute(f'''SELECT userId, movieId, COUNT(tag)\n",
        "                     FROM {table_name}\n",
        "                     GROUP BY userId, movieId\n",
        "                     ''')\n",
        "pd.DataFrame(rs.fetchall(), columns=['userId', 'movieId', 'count_tag']).set_index(['userId', 'movieId'])"
      ],
      "execution_count": 45,
      "outputs": [
        {
          "output_type": "execute_result",
          "data": {
            "text/html": [
              "<div>\n",
              "<style scoped>\n",
              "    .dataframe tbody tr th:only-of-type {\n",
              "        vertical-align: middle;\n",
              "    }\n",
              "\n",
              "    .dataframe tbody tr th {\n",
              "        vertical-align: top;\n",
              "    }\n",
              "\n",
              "    .dataframe thead th {\n",
              "        text-align: right;\n",
              "    }\n",
              "</style>\n",
              "<table border=\"1\" class=\"dataframe\">\n",
              "  <thead>\n",
              "    <tr style=\"text-align: right;\">\n",
              "      <th></th>\n",
              "      <th></th>\n",
              "      <th>count_tag</th>\n",
              "    </tr>\n",
              "    <tr>\n",
              "      <th>userId</th>\n",
              "      <th>movieId</th>\n",
              "      <th></th>\n",
              "    </tr>\n",
              "  </thead>\n",
              "  <tbody>\n",
              "    <tr>\n",
              "      <th rowspan=\"3\" valign=\"top\">2</th>\n",
              "      <th>60756</th>\n",
              "      <td>3</td>\n",
              "    </tr>\n",
              "    <tr>\n",
              "      <th>89774</th>\n",
              "      <td>3</td>\n",
              "    </tr>\n",
              "    <tr>\n",
              "      <th>106782</th>\n",
              "      <td>3</td>\n",
              "    </tr>\n",
              "    <tr>\n",
              "      <th>7</th>\n",
              "      <th>48516</th>\n",
              "      <td>1</td>\n",
              "    </tr>\n",
              "    <tr>\n",
              "      <th>18</th>\n",
              "      <th>431</th>\n",
              "      <td>3</td>\n",
              "    </tr>\n",
              "    <tr>\n",
              "      <th>...</th>\n",
              "      <th>...</th>\n",
              "      <td>...</td>\n",
              "    </tr>\n",
              "    <tr>\n",
              "      <th rowspan=\"3\" valign=\"top\">606</th>\n",
              "      <th>6107</th>\n",
              "      <td>1</td>\n",
              "    </tr>\n",
              "    <tr>\n",
              "      <th>7382</th>\n",
              "      <td>1</td>\n",
              "    </tr>\n",
              "    <tr>\n",
              "      <th>7936</th>\n",
              "      <td>1</td>\n",
              "    </tr>\n",
              "    <tr>\n",
              "      <th rowspan=\"2\" valign=\"top\">610</th>\n",
              "      <th>3265</th>\n",
              "      <td>2</td>\n",
              "    </tr>\n",
              "    <tr>\n",
              "      <th>168248</th>\n",
              "      <td>1</td>\n",
              "    </tr>\n",
              "  </tbody>\n",
              "</table>\n",
              "<p>1775 rows × 1 columns</p>\n",
              "</div>"
            ],
            "text/plain": [
              "                count_tag\n",
              "userId movieId           \n",
              "2      60756            3\n",
              "       89774            3\n",
              "       106782           3\n",
              "7      48516            1\n",
              "18     431              3\n",
              "...                   ...\n",
              "606    6107             1\n",
              "       7382             1\n",
              "       7936             1\n",
              "610    3265             2\n",
              "       168248           1\n",
              "\n",
              "[1775 rows x 1 columns]"
            ]
          },
          "metadata": {
            "tags": []
          },
          "execution_count": 45
        }
      ]
    },
    {
      "cell_type": "markdown",
      "metadata": {
        "colab_type": "text",
        "id": "FZbO7GKHkZZF"
      },
      "source": [
        "> * **Pandas** "
      ]
    },
    {
      "cell_type": "code",
      "metadata": {
        "colab_type": "code",
        "outputId": "6119e159-45f0-4511-fdac-df24d8fe360b",
        "id": "yDMWr2WkkZZF",
        "collapsed": true,
        "colab": {
          "base_uri": "https://localhost:8080/",
          "height": 450
        }
      },
      "source": [
        "table = db[table_name]\n",
        "\n",
        "FROM_CLAUSE = table\n",
        "\n",
        "GROUPBY_COLUMN = ['userId', 'movieId']\n",
        "GROUPBY_CLAUSE = pd.DataFrame.groupby\n",
        "\n",
        "AGGREGATION_COLUMNS = ['tag']\n",
        "SELECT_CLAUSE = AGGREGATION_COLUMNS\n",
        "AGGREGATION_OP = 'count'\n",
        "\n",
        "# Another way - db[table_name].groupby(by=['userId', 'movieId'])[['tag']].agg('count')\n",
        "\n",
        "rs = GROUPBY_CLAUSE(FROM_CLAUSE, GROUPBY_COLUMN)[SELECT_CLAUSE] \\\n",
        "                                                .agg(AGGREGATION_OP)\n",
        "                                                        \n",
        "pd.DataFrame(rs)"
      ],
      "execution_count": 46,
      "outputs": [
        {
          "output_type": "execute_result",
          "data": {
            "text/html": [
              "<div>\n",
              "<style scoped>\n",
              "    .dataframe tbody tr th:only-of-type {\n",
              "        vertical-align: middle;\n",
              "    }\n",
              "\n",
              "    .dataframe tbody tr th {\n",
              "        vertical-align: top;\n",
              "    }\n",
              "\n",
              "    .dataframe thead th {\n",
              "        text-align: right;\n",
              "    }\n",
              "</style>\n",
              "<table border=\"1\" class=\"dataframe\">\n",
              "  <thead>\n",
              "    <tr style=\"text-align: right;\">\n",
              "      <th></th>\n",
              "      <th></th>\n",
              "      <th>tag</th>\n",
              "    </tr>\n",
              "    <tr>\n",
              "      <th>userId</th>\n",
              "      <th>movieId</th>\n",
              "      <th></th>\n",
              "    </tr>\n",
              "  </thead>\n",
              "  <tbody>\n",
              "    <tr>\n",
              "      <th rowspan=\"3\" valign=\"top\">2</th>\n",
              "      <th>60756</th>\n",
              "      <td>3</td>\n",
              "    </tr>\n",
              "    <tr>\n",
              "      <th>89774</th>\n",
              "      <td>3</td>\n",
              "    </tr>\n",
              "    <tr>\n",
              "      <th>106782</th>\n",
              "      <td>3</td>\n",
              "    </tr>\n",
              "    <tr>\n",
              "      <th>7</th>\n",
              "      <th>48516</th>\n",
              "      <td>1</td>\n",
              "    </tr>\n",
              "    <tr>\n",
              "      <th>18</th>\n",
              "      <th>431</th>\n",
              "      <td>3</td>\n",
              "    </tr>\n",
              "    <tr>\n",
              "      <th>...</th>\n",
              "      <th>...</th>\n",
              "      <td>...</td>\n",
              "    </tr>\n",
              "    <tr>\n",
              "      <th rowspan=\"3\" valign=\"top\">606</th>\n",
              "      <th>6107</th>\n",
              "      <td>1</td>\n",
              "    </tr>\n",
              "    <tr>\n",
              "      <th>7382</th>\n",
              "      <td>1</td>\n",
              "    </tr>\n",
              "    <tr>\n",
              "      <th>7936</th>\n",
              "      <td>1</td>\n",
              "    </tr>\n",
              "    <tr>\n",
              "      <th rowspan=\"2\" valign=\"top\">610</th>\n",
              "      <th>3265</th>\n",
              "      <td>2</td>\n",
              "    </tr>\n",
              "    <tr>\n",
              "      <th>168248</th>\n",
              "      <td>1</td>\n",
              "    </tr>\n",
              "  </tbody>\n",
              "</table>\n",
              "<p>1775 rows × 1 columns</p>\n",
              "</div>"
            ],
            "text/plain": [
              "                tag\n",
              "userId movieId     \n",
              "2      60756      3\n",
              "       89774      3\n",
              "       106782     3\n",
              "7      48516      1\n",
              "18     431        3\n",
              "...             ...\n",
              "606    6107       1\n",
              "       7382       1\n",
              "       7936       1\n",
              "610    3265       2\n",
              "       168248     1\n",
              "\n",
              "[1775 rows x 1 columns]"
            ]
          },
          "metadata": {
            "tags": []
          },
          "execution_count": 46
        }
      ]
    },
    {
      "cell_type": "markdown",
      "metadata": {
        "colab_type": "text",
        "id": "hFunyZPvn2K-"
      },
      "source": [
        "### Query 9: Find the maximum number of tags assigned to a movie by a user.\n"
      ]
    },
    {
      "cell_type": "markdown",
      "metadata": {
        "colab_type": "text",
        "id": "c0FT63Nkn2LA"
      },
      "source": [
        "> * **SQL** "
      ]
    },
    {
      "cell_type": "code",
      "metadata": {
        "colab_type": "code",
        "id": "N6--gOjhn2LB",
        "colab": {}
      },
      "source": [
        "table_name = 'tags'"
      ],
      "execution_count": 0,
      "outputs": []
    },
    {
      "cell_type": "code",
      "metadata": {
        "colab_type": "code",
        "outputId": "b1993176-54ef-45f1-80e0-2f7fd9b56331",
        "collapsed": true,
        "id": "IJR_kPWZn2LE",
        "colab": {
          "base_uri": "https://localhost:8080/",
          "height": 131
        }
      },
      "source": [
        "rs = con.execute(f'''SELECT userId, movieId, MAX(count_tag)\n",
        "                     FROM (SELECT userId, movieId, COUNT(tag) as count_tag\n",
        "                           FROM {table_name}\n",
        "                           GROUP BY userId, movieId) \n",
        "                     GROUP BY userId\n",
        "                     ''')\n",
        "pd.DataFrame(rs.fetchall(), columns=['userId', 'movieId', 'count_tag']).set_index(['userId', 'movieId']).T"
      ],
      "execution_count": 48,
      "outputs": [
        {
          "output_type": "execute_result",
          "data": {
            "text/html": [
              "<div>\n",
              "<style scoped>\n",
              "    .dataframe tbody tr th:only-of-type {\n",
              "        vertical-align: middle;\n",
              "    }\n",
              "\n",
              "    .dataframe tbody tr th {\n",
              "        vertical-align: top;\n",
              "    }\n",
              "\n",
              "    .dataframe thead tr th {\n",
              "        text-align: left;\n",
              "    }\n",
              "</style>\n",
              "<table border=\"1\" class=\"dataframe\">\n",
              "  <thead>\n",
              "    <tr>\n",
              "      <th>userId</th>\n",
              "      <th>2</th>\n",
              "      <th>7</th>\n",
              "      <th>18</th>\n",
              "      <th>21</th>\n",
              "      <th>49</th>\n",
              "      <th>62</th>\n",
              "      <th>63</th>\n",
              "      <th>76</th>\n",
              "      <th>103</th>\n",
              "      <th>106</th>\n",
              "      <th>112</th>\n",
              "      <th>119</th>\n",
              "      <th>125</th>\n",
              "      <th>132</th>\n",
              "      <th>138</th>\n",
              "      <th>161</th>\n",
              "      <th>166</th>\n",
              "      <th>167</th>\n",
              "      <th>177</th>\n",
              "      <th>184</th>\n",
              "      <th>193</th>\n",
              "      <th>205</th>\n",
              "      <th>226</th>\n",
              "      <th>256</th>\n",
              "      <th>274</th>\n",
              "      <th>288</th>\n",
              "      <th>289</th>\n",
              "      <th>291</th>\n",
              "      <th>300</th>\n",
              "      <th>305</th>\n",
              "      <th>318</th>\n",
              "      <th>319</th>\n",
              "      <th>327</th>\n",
              "      <th>336</th>\n",
              "      <th>341</th>\n",
              "      <th>356</th>\n",
              "      <th>357</th>\n",
              "      <th>419</th>\n",
              "      <th>424</th>\n",
              "      <th>435</th>\n",
              "      <th>439</th>\n",
              "      <th>462</th>\n",
              "      <th>474</th>\n",
              "      <th>477</th>\n",
              "      <th>487</th>\n",
              "      <th>506</th>\n",
              "      <th>509</th>\n",
              "      <th>513</th>\n",
              "      <th>520</th>\n",
              "      <th>533</th>\n",
              "      <th>537</th>\n",
              "      <th>543</th>\n",
              "      <th>567</th>\n",
              "      <th>573</th>\n",
              "      <th>599</th>\n",
              "      <th>600</th>\n",
              "      <th>606</th>\n",
              "      <th>610</th>\n",
              "    </tr>\n",
              "    <tr>\n",
              "      <th>movieId</th>\n",
              "      <th>60756</th>\n",
              "      <th>48516</th>\n",
              "      <th>431</th>\n",
              "      <th>1569</th>\n",
              "      <th>109487</th>\n",
              "      <th>135536</th>\n",
              "      <th>260</th>\n",
              "      <th>260</th>\n",
              "      <th>296</th>\n",
              "      <th>4896</th>\n",
              "      <th>260</th>\n",
              "      <th>101142</th>\n",
              "      <th>7022</th>\n",
              "      <th>6367</th>\n",
              "      <th>59103</th>\n",
              "      <th>52287</th>\n",
              "      <th>54286</th>\n",
              "      <th>104</th>\n",
              "      <th>115617</th>\n",
              "      <th>2579</th>\n",
              "      <th>4878</th>\n",
              "      <th>260</th>\n",
              "      <th>6938</th>\n",
              "      <th>126548</th>\n",
              "      <th>68319</th>\n",
              "      <th>7020</th>\n",
              "      <th>3</th>\n",
              "      <th>50872</th>\n",
              "      <th>6711</th>\n",
              "      <th>4034</th>\n",
              "      <th>68954</th>\n",
              "      <th>364</th>\n",
              "      <th>1288</th>\n",
              "      <th>1</th>\n",
              "      <th>260</th>\n",
              "      <th>2146</th>\n",
              "      <th>91529</th>\n",
              "      <th>98961</th>\n",
              "      <th>3176</th>\n",
              "      <th>58559</th>\n",
              "      <th>98809</th>\n",
              "      <th>152711</th>\n",
              "      <th>7932</th>\n",
              "      <th>68791</th>\n",
              "      <th>112552</th>\n",
              "      <th>112552</th>\n",
              "      <th>80834</th>\n",
              "      <th>750</th>\n",
              "      <th>3039</th>\n",
              "      <th>356</th>\n",
              "      <th>79132</th>\n",
              "      <th>85565</th>\n",
              "      <th>7361</th>\n",
              "      <th>35836</th>\n",
              "      <th>296</th>\n",
              "      <th>273</th>\n",
              "      <th>1357</th>\n",
              "      <th>3265</th>\n",
              "    </tr>\n",
              "  </thead>\n",
              "  <tbody>\n",
              "    <tr>\n",
              "      <th>count_tag</th>\n",
              "      <td>3</td>\n",
              "      <td>1</td>\n",
              "      <td>3</td>\n",
              "      <td>2</td>\n",
              "      <td>3</td>\n",
              "      <td>19</td>\n",
              "      <td>2</td>\n",
              "      <td>2</td>\n",
              "      <td>3</td>\n",
              "      <td>1</td>\n",
              "      <td>3</td>\n",
              "      <td>3</td>\n",
              "      <td>10</td>\n",
              "      <td>2</td>\n",
              "      <td>2</td>\n",
              "      <td>1</td>\n",
              "      <td>4</td>\n",
              "      <td>1</td>\n",
              "      <td>3</td>\n",
              "      <td>6</td>\n",
              "      <td>7</td>\n",
              "      <td>3</td>\n",
              "      <td>2</td>\n",
              "      <td>2</td>\n",
              "      <td>1</td>\n",
              "      <td>1</td>\n",
              "      <td>2</td>\n",
              "      <td>2</td>\n",
              "      <td>1</td>\n",
              "      <td>1</td>\n",
              "      <td>9</td>\n",
              "      <td>3</td>\n",
              "      <td>1</td>\n",
              "      <td>1</td>\n",
              "      <td>2</td>\n",
              "      <td>1</td>\n",
              "      <td>8</td>\n",
              "      <td>5</td>\n",
              "      <td>10</td>\n",
              "      <td>2</td>\n",
              "      <td>2</td>\n",
              "      <td>5</td>\n",
              "      <td>6</td>\n",
              "      <td>12</td>\n",
              "      <td>3</td>\n",
              "      <td>3</td>\n",
              "      <td>3</td>\n",
              "      <td>2</td>\n",
              "      <td>1</td>\n",
              "      <td>3</td>\n",
              "      <td>13</td>\n",
              "      <td>1</td>\n",
              "      <td>24</td>\n",
              "      <td>4</td>\n",
              "      <td>173</td>\n",
              "      <td>1</td>\n",
              "      <td>1</td>\n",
              "      <td>2</td>\n",
              "    </tr>\n",
              "  </tbody>\n",
              "</table>\n",
              "</div>"
            ],
            "text/plain": [
              "userId       2      7      18     21     49     62     63     76     103    106    112    119    125    132    138    161    166    167    177    184    193    205    226    256    274    288    289    291    300    305    318    319    327    336    341    356    357    419    424    435    439    462    474    477    487    506    509    513    520    533    537    543    567    573    599    600    606    610\n",
              "movieId   60756  48516  431    1569   109487 135536 260    260    296    4896   260    101142 7022   6367   59103  52287  54286  104    115617 2579   4878   260    6938   126548 68319  7020   3      50872  6711   4034   68954  364    1288   1      260    2146   91529  98961  3176   58559  98809  152711 7932   68791  112552 112552 80834  750    3039   356    79132  85565  7361   35836  296    273    1357   3265  \n",
              "count_tag      3      1      3      2      3     19      2      2      3      1      3      3     10      2      2      1      4      1      3      6      7      3      2      2      1      1      2      2      1      1      9      3      1      1      2      1      8      5     10      2      2      5      6     12      3      3      3      2      1      3     13      1     24      4    173      1      1      2"
            ]
          },
          "metadata": {
            "tags": []
          },
          "execution_count": 48
        }
      ]
    },
    {
      "cell_type": "markdown",
      "metadata": {
        "colab_type": "text",
        "id": "OhbXjJWln2LH"
      },
      "source": [
        "> * **Pandas** "
      ]
    },
    {
      "cell_type": "code",
      "metadata": {
        "colab_type": "code",
        "outputId": "344ff010-1263-47b9-f188-1df95f8231e1",
        "collapsed": true,
        "id": "K8h1mEpin2LI",
        "colab": {
          "base_uri": "https://localhost:8080/",
          "height": 131
        }
      },
      "source": [
        "table = db[table_name]\n",
        "\n",
        "FROM_CLAUSE = table\n",
        "\n",
        "GROUPBY_COLUMNS1 = ['userId', 'movieId']\n",
        "GROUPBY_COLUMNS2 = ['userId']\n",
        "GROUPBY_CLAUSE = pd.DataFrame.groupby\n",
        "\n",
        "SELECT_WITH_AGGREGATION_OP_DICT1 = {'tag': 'count'}\n",
        "SELECT_WITH_AGGREGATION_OP_DICT2 = {'movieId': 'first', 'tag':'max'}\n",
        "\n",
        "#  Another way - db[table_name].groupby(by=['userId', 'movieId'], \\\n",
        "#                                       as_index=False) \\\n",
        "#                              .agg({'tag': 'count'}) \\\n",
        "#                              .groupby(['userId'], as_index=True) \\\n",
        "#                              .agg({'movieId': 'first', 'tag':'max'})\n",
        "\n",
        "# if we don't want to show the grouping columns as indexes of the dataframe, \n",
        "# we can put as_index=False in groupby function.\n",
        "\n",
        "rs = GROUPBY_CLAUSE(GROUPBY_CLAUSE(FROM_CLAUSE, GROUPBY_COLUMNS1, \n",
        "                                   as_index=False)\\\n",
        "                                   .agg(SELECT_WITH_AGGREGATION_OP_DICT1), \\\n",
        "                    GROUPBY_COLUMNS2, as_index=True) \\\n",
        "                    .agg(SELECT_WITH_AGGREGATION_OP_DICT2)\\\n",
        "                                                    \n",
        "\n",
        "                                                        \n",
        "pd.DataFrame(rs).T"
      ],
      "execution_count": 49,
      "outputs": [
        {
          "output_type": "execute_result",
          "data": {
            "text/html": [
              "<div>\n",
              "<style scoped>\n",
              "    .dataframe tbody tr th:only-of-type {\n",
              "        vertical-align: middle;\n",
              "    }\n",
              "\n",
              "    .dataframe tbody tr th {\n",
              "        vertical-align: top;\n",
              "    }\n",
              "\n",
              "    .dataframe thead th {\n",
              "        text-align: right;\n",
              "    }\n",
              "</style>\n",
              "<table border=\"1\" class=\"dataframe\">\n",
              "  <thead>\n",
              "    <tr style=\"text-align: right;\">\n",
              "      <th>userId</th>\n",
              "      <th>2</th>\n",
              "      <th>7</th>\n",
              "      <th>18</th>\n",
              "      <th>21</th>\n",
              "      <th>49</th>\n",
              "      <th>62</th>\n",
              "      <th>63</th>\n",
              "      <th>76</th>\n",
              "      <th>103</th>\n",
              "      <th>106</th>\n",
              "      <th>112</th>\n",
              "      <th>119</th>\n",
              "      <th>125</th>\n",
              "      <th>132</th>\n",
              "      <th>138</th>\n",
              "      <th>161</th>\n",
              "      <th>166</th>\n",
              "      <th>167</th>\n",
              "      <th>177</th>\n",
              "      <th>184</th>\n",
              "      <th>193</th>\n",
              "      <th>205</th>\n",
              "      <th>226</th>\n",
              "      <th>256</th>\n",
              "      <th>274</th>\n",
              "      <th>288</th>\n",
              "      <th>289</th>\n",
              "      <th>291</th>\n",
              "      <th>300</th>\n",
              "      <th>305</th>\n",
              "      <th>318</th>\n",
              "      <th>319</th>\n",
              "      <th>327</th>\n",
              "      <th>336</th>\n",
              "      <th>341</th>\n",
              "      <th>356</th>\n",
              "      <th>357</th>\n",
              "      <th>419</th>\n",
              "      <th>424</th>\n",
              "      <th>435</th>\n",
              "      <th>439</th>\n",
              "      <th>462</th>\n",
              "      <th>474</th>\n",
              "      <th>477</th>\n",
              "      <th>487</th>\n",
              "      <th>506</th>\n",
              "      <th>509</th>\n",
              "      <th>513</th>\n",
              "      <th>520</th>\n",
              "      <th>533</th>\n",
              "      <th>537</th>\n",
              "      <th>543</th>\n",
              "      <th>567</th>\n",
              "      <th>573</th>\n",
              "      <th>599</th>\n",
              "      <th>600</th>\n",
              "      <th>606</th>\n",
              "      <th>610</th>\n",
              "    </tr>\n",
              "  </thead>\n",
              "  <tbody>\n",
              "    <tr>\n",
              "      <th>movieId</th>\n",
              "      <td>60756</td>\n",
              "      <td>48516</td>\n",
              "      <td>431</td>\n",
              "      <td>1569</td>\n",
              "      <td>109487</td>\n",
              "      <td>2</td>\n",
              "      <td>260</td>\n",
              "      <td>260</td>\n",
              "      <td>260</td>\n",
              "      <td>4896</td>\n",
              "      <td>260</td>\n",
              "      <td>260</td>\n",
              "      <td>1726</td>\n",
              "      <td>3556</td>\n",
              "      <td>59103</td>\n",
              "      <td>52287</td>\n",
              "      <td>293</td>\n",
              "      <td>104</td>\n",
              "      <td>115617</td>\n",
              "      <td>2579</td>\n",
              "      <td>260</td>\n",
              "      <td>260</td>\n",
              "      <td>6938</td>\n",
              "      <td>126548</td>\n",
              "      <td>68319</td>\n",
              "      <td>7020</td>\n",
              "      <td>3</td>\n",
              "      <td>50872</td>\n",
              "      <td>6711</td>\n",
              "      <td>4034</td>\n",
              "      <td>778</td>\n",
              "      <td>364</td>\n",
              "      <td>1288</td>\n",
              "      <td>1</td>\n",
              "      <td>260</td>\n",
              "      <td>2146</td>\n",
              "      <td>39</td>\n",
              "      <td>98961</td>\n",
              "      <td>32</td>\n",
              "      <td>750</td>\n",
              "      <td>5952</td>\n",
              "      <td>152711</td>\n",
              "      <td>1</td>\n",
              "      <td>32</td>\n",
              "      <td>112552</td>\n",
              "      <td>112552</td>\n",
              "      <td>80834</td>\n",
              "      <td>750</td>\n",
              "      <td>3039</td>\n",
              "      <td>356</td>\n",
              "      <td>527</td>\n",
              "      <td>85565</td>\n",
              "      <td>1</td>\n",
              "      <td>248</td>\n",
              "      <td>293</td>\n",
              "      <td>273</td>\n",
              "      <td>1357</td>\n",
              "      <td>3265</td>\n",
              "    </tr>\n",
              "    <tr>\n",
              "      <th>tag</th>\n",
              "      <td>3</td>\n",
              "      <td>1</td>\n",
              "      <td>3</td>\n",
              "      <td>2</td>\n",
              "      <td>3</td>\n",
              "      <td>19</td>\n",
              "      <td>2</td>\n",
              "      <td>2</td>\n",
              "      <td>3</td>\n",
              "      <td>1</td>\n",
              "      <td>3</td>\n",
              "      <td>3</td>\n",
              "      <td>10</td>\n",
              "      <td>2</td>\n",
              "      <td>2</td>\n",
              "      <td>1</td>\n",
              "      <td>4</td>\n",
              "      <td>1</td>\n",
              "      <td>3</td>\n",
              "      <td>6</td>\n",
              "      <td>7</td>\n",
              "      <td>3</td>\n",
              "      <td>2</td>\n",
              "      <td>2</td>\n",
              "      <td>1</td>\n",
              "      <td>1</td>\n",
              "      <td>2</td>\n",
              "      <td>2</td>\n",
              "      <td>1</td>\n",
              "      <td>1</td>\n",
              "      <td>9</td>\n",
              "      <td>3</td>\n",
              "      <td>1</td>\n",
              "      <td>1</td>\n",
              "      <td>2</td>\n",
              "      <td>1</td>\n",
              "      <td>8</td>\n",
              "      <td>5</td>\n",
              "      <td>10</td>\n",
              "      <td>2</td>\n",
              "      <td>2</td>\n",
              "      <td>5</td>\n",
              "      <td>6</td>\n",
              "      <td>12</td>\n",
              "      <td>3</td>\n",
              "      <td>3</td>\n",
              "      <td>3</td>\n",
              "      <td>2</td>\n",
              "      <td>1</td>\n",
              "      <td>3</td>\n",
              "      <td>13</td>\n",
              "      <td>1</td>\n",
              "      <td>24</td>\n",
              "      <td>4</td>\n",
              "      <td>173</td>\n",
              "      <td>1</td>\n",
              "      <td>1</td>\n",
              "      <td>2</td>\n",
              "    </tr>\n",
              "  </tbody>\n",
              "</table>\n",
              "</div>"
            ],
            "text/plain": [
              "userId     2      7    18    21      49   62   63   76   103   106  112  119   125   132    138    161  166  167     177   184  193  205   226     256    274   288  289    291   300   305  318  319   327  336  341   356  357    419  424  435   439     462  474  477     487     506    509  513   520  533  537    543  567  573  599  600   606   610\n",
              "movieId  60756  48516  431  1569  109487    2  260  260  260  4896  260  260  1726  3556  59103  52287  293  104  115617  2579  260  260  6938  126548  68319  7020    3  50872  6711  4034  778  364  1288    1  260  2146   39  98961   32  750  5952  152711    1   32  112552  112552  80834  750  3039  356  527  85565    1  248  293  273  1357  3265\n",
              "tag          3      1    3     2       3   19    2    2    3     1    3    3    10     2      2      1    4    1       3     6    7    3     2       2      1     1    2      2     1     1    9    3     1    1    2     1    8      5   10    2     2       5    6   12       3       3      3    2     1    3   13      1   24    4  173    1     1     2"
            ]
          },
          "metadata": {
            "tags": []
          },
          "execution_count": 49
        }
      ]
    }
  ]
}